{
 "cells": [
  {
   "cell_type": "code",
   "metadata": {
    "tags": [],
    "cell_id": "9304aee9-7b2c-4571-95a3-a1c8b27c5893",
    "deepnote_to_be_reexecuted": false,
    "source_hash": "7ca85a3f",
    "execution_start": 1663728006224,
    "execution_millis": 3154,
    "deepnote_cell_type": "code",
    "deepnote_cell_height": 418
   },
   "source": "# plotting  \nimport matplotlib.pyplot as plt\nimport seaborn as sns\nimport plotly.express as px\nimport plotly.graph_objects as go\n\n# data\nimport numpy as np\nimport pandas as pd\nfrom sklearn.model_selection import train_test_split\nfrom sklearn.preprocessing import StandardScaler\n\n# modeling\nfrom sklearn.linear_model import LinearRegression\nimport statsmodels.api as sm\n\n# evaluation\nfrom sklearn.metrics import r2_score\nfrom sklearn.feature_selection import RFE\nfrom statsmodels.stats.outliers_influence import variance_inflation_factor",
   "execution_count": 1,
   "outputs": []
  },
  {
   "cell_type": "code",
   "metadata": {
    "cell_id": "477898ce13fe473b8c6b28d01ed969a5",
    "tags": [],
    "deepnote_to_be_reexecuted": false,
    "source_hash": "5b0f5d1a",
    "execution_start": 1663728009382,
    "execution_millis": 45,
    "deepnote_cell_type": "code",
    "deepnote_cell_height": 76
   },
   "source": "data = pd.read_csv('/work/data/day.csv')",
   "execution_count": 2,
   "outputs": []
  },
  {
   "cell_type": "code",
   "metadata": {
    "cell_id": "cc86f73c651c46459a5dbf26f8c37dc5",
    "tags": [],
    "deepnote_to_be_reexecuted": false,
    "source_hash": "41313cfa",
    "execution_start": 1663728009428,
    "execution_millis": 21,
    "deepnote_cell_type": "code",
    "deepnote_cell_height": 405
   },
   "source": "data.head()",
   "execution_count": 3,
   "outputs": [
    {
     "output_type": "execute_result",
     "execution_count": 3,
     "data": {
      "application/vnd.deepnote.dataframe.v3+json": {
       "column_count": 16,
       "row_count": 5,
       "columns": [
        {
         "name": "instant",
         "dtype": "int64",
         "stats": {
          "unique_count": 5,
          "nan_count": 0,
          "min": "1",
          "max": "5",
          "histogram": [
           {
            "bin_start": 1,
            "bin_end": 1.4,
            "count": 1
           },
           {
            "bin_start": 1.4,
            "bin_end": 1.8,
            "count": 0
           },
           {
            "bin_start": 1.8,
            "bin_end": 2.2,
            "count": 1
           },
           {
            "bin_start": 2.2,
            "bin_end": 2.6,
            "count": 0
           },
           {
            "bin_start": 2.6,
            "bin_end": 3,
            "count": 0
           },
           {
            "bin_start": 3,
            "bin_end": 3.4000000000000004,
            "count": 1
           },
           {
            "bin_start": 3.4000000000000004,
            "bin_end": 3.8000000000000003,
            "count": 0
           },
           {
            "bin_start": 3.8000000000000003,
            "bin_end": 4.2,
            "count": 1
           },
           {
            "bin_start": 4.2,
            "bin_end": 4.6,
            "count": 0
           },
           {
            "bin_start": 4.6,
            "bin_end": 5,
            "count": 1
           }
          ]
         }
        },
        {
         "name": "dteday",
         "dtype": "object",
         "stats": {
          "unique_count": 5,
          "nan_count": 0,
          "categories": [
           {
            "name": "01-01-2018",
            "count": 1
           },
           {
            "name": "02-01-2018",
            "count": 1
           },
           {
            "name": "3 others",
            "count": 3
           }
          ]
         }
        },
        {
         "name": "season",
         "dtype": "int64",
         "stats": {
          "unique_count": 1,
          "nan_count": 0,
          "min": "1",
          "max": "1",
          "histogram": [
           {
            "bin_start": 0.5,
            "bin_end": 0.6,
            "count": 0
           },
           {
            "bin_start": 0.6,
            "bin_end": 0.7,
            "count": 0
           },
           {
            "bin_start": 0.7,
            "bin_end": 0.8,
            "count": 0
           },
           {
            "bin_start": 0.8,
            "bin_end": 0.9,
            "count": 0
           },
           {
            "bin_start": 0.9,
            "bin_end": 1,
            "count": 0
           },
           {
            "bin_start": 1,
            "bin_end": 1.1,
            "count": 5
           },
           {
            "bin_start": 1.1,
            "bin_end": 1.2000000000000002,
            "count": 0
           },
           {
            "bin_start": 1.2000000000000002,
            "bin_end": 1.3,
            "count": 0
           },
           {
            "bin_start": 1.3,
            "bin_end": 1.4,
            "count": 0
           },
           {
            "bin_start": 1.4,
            "bin_end": 1.5,
            "count": 0
           }
          ]
         }
        },
        {
         "name": "yr",
         "dtype": "int64",
         "stats": {
          "unique_count": 1,
          "nan_count": 0,
          "min": "0",
          "max": "0",
          "histogram": [
           {
            "bin_start": -0.5,
            "bin_end": -0.4,
            "count": 0
           },
           {
            "bin_start": -0.4,
            "bin_end": -0.3,
            "count": 0
           },
           {
            "bin_start": -0.3,
            "bin_end": -0.19999999999999996,
            "count": 0
           },
           {
            "bin_start": -0.19999999999999996,
            "bin_end": -0.09999999999999998,
            "count": 0
           },
           {
            "bin_start": -0.09999999999999998,
            "bin_end": 0,
            "count": 0
           },
           {
            "bin_start": 0,
            "bin_end": 0.10000000000000009,
            "count": 5
           },
           {
            "bin_start": 0.10000000000000009,
            "bin_end": 0.20000000000000007,
            "count": 0
           },
           {
            "bin_start": 0.20000000000000007,
            "bin_end": 0.30000000000000004,
            "count": 0
           },
           {
            "bin_start": 0.30000000000000004,
            "bin_end": 0.4,
            "count": 0
           },
           {
            "bin_start": 0.4,
            "bin_end": 0.5,
            "count": 0
           }
          ]
         }
        },
        {
         "name": "mnth",
         "dtype": "int64",
         "stats": {
          "unique_count": 1,
          "nan_count": 0,
          "min": "1",
          "max": "1",
          "histogram": [
           {
            "bin_start": 0.5,
            "bin_end": 0.6,
            "count": 0
           },
           {
            "bin_start": 0.6,
            "bin_end": 0.7,
            "count": 0
           },
           {
            "bin_start": 0.7,
            "bin_end": 0.8,
            "count": 0
           },
           {
            "bin_start": 0.8,
            "bin_end": 0.9,
            "count": 0
           },
           {
            "bin_start": 0.9,
            "bin_end": 1,
            "count": 0
           },
           {
            "bin_start": 1,
            "bin_end": 1.1,
            "count": 5
           },
           {
            "bin_start": 1.1,
            "bin_end": 1.2000000000000002,
            "count": 0
           },
           {
            "bin_start": 1.2000000000000002,
            "bin_end": 1.3,
            "count": 0
           },
           {
            "bin_start": 1.3,
            "bin_end": 1.4,
            "count": 0
           },
           {
            "bin_start": 1.4,
            "bin_end": 1.5,
            "count": 0
           }
          ]
         }
        },
        {
         "name": "holiday",
         "dtype": "int64",
         "stats": {
          "unique_count": 1,
          "nan_count": 0,
          "min": "0",
          "max": "0",
          "histogram": [
           {
            "bin_start": -0.5,
            "bin_end": -0.4,
            "count": 0
           },
           {
            "bin_start": -0.4,
            "bin_end": -0.3,
            "count": 0
           },
           {
            "bin_start": -0.3,
            "bin_end": -0.19999999999999996,
            "count": 0
           },
           {
            "bin_start": -0.19999999999999996,
            "bin_end": -0.09999999999999998,
            "count": 0
           },
           {
            "bin_start": -0.09999999999999998,
            "bin_end": 0,
            "count": 0
           },
           {
            "bin_start": 0,
            "bin_end": 0.10000000000000009,
            "count": 5
           },
           {
            "bin_start": 0.10000000000000009,
            "bin_end": 0.20000000000000007,
            "count": 0
           },
           {
            "bin_start": 0.20000000000000007,
            "bin_end": 0.30000000000000004,
            "count": 0
           },
           {
            "bin_start": 0.30000000000000004,
            "bin_end": 0.4,
            "count": 0
           },
           {
            "bin_start": 0.4,
            "bin_end": 0.5,
            "count": 0
           }
          ]
         }
        },
        {
         "name": "weekday",
         "dtype": "int64",
         "stats": {
          "unique_count": 5,
          "nan_count": 0,
          "min": "0",
          "max": "6",
          "histogram": [
           {
            "bin_start": 0,
            "bin_end": 0.6,
            "count": 1
           },
           {
            "bin_start": 0.6,
            "bin_end": 1.2,
            "count": 1
           },
           {
            "bin_start": 1.2,
            "bin_end": 1.7999999999999998,
            "count": 0
           },
           {
            "bin_start": 1.7999999999999998,
            "bin_end": 2.4,
            "count": 1
           },
           {
            "bin_start": 2.4,
            "bin_end": 3,
            "count": 0
           },
           {
            "bin_start": 3,
            "bin_end": 3.5999999999999996,
            "count": 1
           },
           {
            "bin_start": 3.5999999999999996,
            "bin_end": 4.2,
            "count": 0
           },
           {
            "bin_start": 4.2,
            "bin_end": 4.8,
            "count": 0
           },
           {
            "bin_start": 4.8,
            "bin_end": 5.3999999999999995,
            "count": 0
           },
           {
            "bin_start": 5.3999999999999995,
            "bin_end": 6,
            "count": 1
           }
          ]
         }
        },
        {
         "name": "workingday",
         "dtype": "int64",
         "stats": {
          "unique_count": 2,
          "nan_count": 0,
          "min": "0",
          "max": "1",
          "histogram": [
           {
            "bin_start": 0,
            "bin_end": 0.1,
            "count": 2
           },
           {
            "bin_start": 0.1,
            "bin_end": 0.2,
            "count": 0
           },
           {
            "bin_start": 0.2,
            "bin_end": 0.30000000000000004,
            "count": 0
           },
           {
            "bin_start": 0.30000000000000004,
            "bin_end": 0.4,
            "count": 0
           },
           {
            "bin_start": 0.4,
            "bin_end": 0.5,
            "count": 0
           },
           {
            "bin_start": 0.5,
            "bin_end": 0.6000000000000001,
            "count": 0
           },
           {
            "bin_start": 0.6000000000000001,
            "bin_end": 0.7000000000000001,
            "count": 0
           },
           {
            "bin_start": 0.7000000000000001,
            "bin_end": 0.8,
            "count": 0
           },
           {
            "bin_start": 0.8,
            "bin_end": 0.9,
            "count": 0
           },
           {
            "bin_start": 0.9,
            "bin_end": 1,
            "count": 3
           }
          ]
         }
        },
        {
         "name": "weathersit",
         "dtype": "int64",
         "stats": {
          "unique_count": 2,
          "nan_count": 0,
          "min": "1",
          "max": "2",
          "histogram": [
           {
            "bin_start": 1,
            "bin_end": 1.1,
            "count": 3
           },
           {
            "bin_start": 1.1,
            "bin_end": 1.2,
            "count": 0
           },
           {
            "bin_start": 1.2,
            "bin_end": 1.3,
            "count": 0
           },
           {
            "bin_start": 1.3,
            "bin_end": 1.4,
            "count": 0
           },
           {
            "bin_start": 1.4,
            "bin_end": 1.5,
            "count": 0
           },
           {
            "bin_start": 1.5,
            "bin_end": 1.6,
            "count": 0
           },
           {
            "bin_start": 1.6,
            "bin_end": 1.7000000000000002,
            "count": 0
           },
           {
            "bin_start": 1.7000000000000002,
            "bin_end": 1.8,
            "count": 0
           },
           {
            "bin_start": 1.8,
            "bin_end": 1.9,
            "count": 0
           },
           {
            "bin_start": 1.9,
            "bin_end": 2,
            "count": 2
           }
          ]
         }
        },
        {
         "name": "temp",
         "dtype": "float64",
         "stats": {
          "unique_count": 5,
          "nan_count": 0,
          "min": "8.050924",
          "max": "14.902598",
          "histogram": [
           {
            "bin_start": 8.050924,
            "bin_end": 8.7360914,
            "count": 2
           },
           {
            "bin_start": 8.7360914,
            "bin_end": 9.4212588,
            "count": 1
           },
           {
            "bin_start": 9.4212588,
            "bin_end": 10.1064262,
            "count": 0
           },
           {
            "bin_start": 10.1064262,
            "bin_end": 10.791593599999999,
            "count": 0
           },
           {
            "bin_start": 10.791593599999999,
            "bin_end": 11.476761,
            "count": 0
           },
           {
            "bin_start": 11.476761,
            "bin_end": 12.161928399999999,
            "count": 0
           },
           {
            "bin_start": 12.161928399999999,
            "bin_end": 12.847095799999998,
            "count": 0
           },
           {
            "bin_start": 12.847095799999998,
            "bin_end": 13.5322632,
            "count": 0
           },
           {
            "bin_start": 13.5322632,
            "bin_end": 14.2174306,
            "count": 1
           },
           {
            "bin_start": 14.2174306,
            "bin_end": 14.902598,
            "count": 1
           }
          ]
         }
        },
        {
         "name": "atemp",
         "dtype": "float64",
         "stats": {
          "unique_count": 5,
          "nan_count": 0,
          "min": "9.47025",
          "max": "18.18125",
          "histogram": [
           {
            "bin_start": 9.47025,
            "bin_end": 10.34135,
            "count": 1
           },
           {
            "bin_start": 10.34135,
            "bin_end": 11.21245,
            "count": 1
           },
           {
            "bin_start": 11.21245,
            "bin_end": 12.083549999999999,
            "count": 1
           },
           {
            "bin_start": 12.083549999999999,
            "bin_end": 12.954649999999999,
            "count": 0
           },
           {
            "bin_start": 12.954649999999999,
            "bin_end": 13.82575,
            "count": 0
           },
           {
            "bin_start": 13.82575,
            "bin_end": 14.69685,
            "count": 0
           },
           {
            "bin_start": 14.69685,
            "bin_end": 15.56795,
            "count": 0
           },
           {
            "bin_start": 15.56795,
            "bin_end": 16.439049999999998,
            "count": 0
           },
           {
            "bin_start": 16.439049999999998,
            "bin_end": 17.31015,
            "count": 0
           },
           {
            "bin_start": 17.31015,
            "bin_end": 18.18125,
            "count": 2
           }
          ]
         }
        },
        {
         "name": "hum",
         "dtype": "float64",
         "stats": {
          "unique_count": 5,
          "nan_count": 0,
          "min": "43.6957",
          "max": "80.5833",
          "histogram": [
           {
            "bin_start": 43.6957,
            "bin_end": 47.384460000000004,
            "count": 2
           },
           {
            "bin_start": 47.384460000000004,
            "bin_end": 51.07322,
            "count": 0
           },
           {
            "bin_start": 51.07322,
            "bin_end": 54.76198,
            "count": 0
           },
           {
            "bin_start": 54.76198,
            "bin_end": 58.450739999999996,
            "count": 0
           },
           {
            "bin_start": 58.450739999999996,
            "bin_end": 62.1395,
            "count": 1
           },
           {
            "bin_start": 62.1395,
            "bin_end": 65.82826,
            "count": 0
           },
           {
            "bin_start": 65.82826,
            "bin_end": 69.51702,
            "count": 0
           },
           {
            "bin_start": 69.51702,
            "bin_end": 73.20578,
            "count": 1
           },
           {
            "bin_start": 73.20578,
            "bin_end": 76.89454,
            "count": 0
           },
           {
            "bin_start": 76.89454,
            "bin_end": 80.5833,
            "count": 1
           }
          ]
         }
        },
        {
         "name": "windspeed",
         "dtype": "float64",
         "stats": {
          "unique_count": 5,
          "nan_count": 0,
          "min": "10.739832",
          "max": "16.652113",
          "histogram": [
           {
            "bin_start": 10.739832,
            "bin_end": 11.3310601,
            "count": 2
           },
           {
            "bin_start": 11.3310601,
            "bin_end": 11.9222882,
            "count": 0
           },
           {
            "bin_start": 11.9222882,
            "bin_end": 12.5135163,
            "count": 0
           },
           {
            "bin_start": 12.5135163,
            "bin_end": 13.1047444,
            "count": 1
           },
           {
            "bin_start": 13.1047444,
            "bin_end": 13.6959725,
            "count": 0
           },
           {
            "bin_start": 13.6959725,
            "bin_end": 14.2872006,
            "count": 0
           },
           {
            "bin_start": 14.2872006,
            "bin_end": 14.8784287,
            "count": 0
           },
           {
            "bin_start": 14.8784287,
            "bin_end": 15.4696568,
            "count": 0
           },
           {
            "bin_start": 15.4696568,
            "bin_end": 16.0608849,
            "count": 0
           },
           {
            "bin_start": 16.0608849,
            "bin_end": 16.652113,
            "count": 2
           }
          ]
         }
        },
        {
         "name": "casual",
         "dtype": "int64",
         "stats": {
          "unique_count": 5,
          "nan_count": 0,
          "min": "82",
          "max": "331",
          "histogram": [
           {
            "bin_start": 82,
            "bin_end": 106.9,
            "count": 1
           },
           {
            "bin_start": 106.9,
            "bin_end": 131.8,
            "count": 3
           },
           {
            "bin_start": 131.8,
            "bin_end": 156.7,
            "count": 0
           },
           {
            "bin_start": 156.7,
            "bin_end": 181.6,
            "count": 0
           },
           {
            "bin_start": 181.6,
            "bin_end": 206.5,
            "count": 0
           },
           {
            "bin_start": 206.5,
            "bin_end": 231.39999999999998,
            "count": 0
           },
           {
            "bin_start": 231.39999999999998,
            "bin_end": 256.29999999999995,
            "count": 0
           },
           {
            "bin_start": 256.29999999999995,
            "bin_end": 281.2,
            "count": 0
           },
           {
            "bin_start": 281.2,
            "bin_end": 306.1,
            "count": 0
           },
           {
            "bin_start": 306.1,
            "bin_end": 331,
            "count": 1
           }
          ]
         }
        },
        {
         "name": "registered",
         "dtype": "int64",
         "stats": {
          "unique_count": 5,
          "nan_count": 0,
          "min": "654",
          "max": "1518",
          "histogram": [
           {
            "bin_start": 654,
            "bin_end": 740.4,
            "count": 2
           },
           {
            "bin_start": 740.4,
            "bin_end": 826.8,
            "count": 0
           },
           {
            "bin_start": 826.8,
            "bin_end": 913.2,
            "count": 0
           },
           {
            "bin_start": 913.2,
            "bin_end": 999.6,
            "count": 0
           },
           {
            "bin_start": 999.6,
            "bin_end": 1086,
            "count": 0
           },
           {
            "bin_start": 1086,
            "bin_end": 1172.4,
            "count": 0
           },
           {
            "bin_start": 1172.4,
            "bin_end": 1258.8000000000002,
            "count": 1
           },
           {
            "bin_start": 1258.8000000000002,
            "bin_end": 1345.2,
            "count": 0
           },
           {
            "bin_start": 1345.2,
            "bin_end": 1431.6,
            "count": 0
           },
           {
            "bin_start": 1431.6,
            "bin_end": 1518,
            "count": 2
           }
          ]
         }
        },
        {
         "name": "cnt",
         "dtype": "int64",
         "stats": {
          "unique_count": 5,
          "nan_count": 0,
          "min": "801",
          "max": "1600",
          "histogram": [
           {
            "bin_start": 801,
            "bin_end": 880.9,
            "count": 1
           },
           {
            "bin_start": 880.9,
            "bin_end": 960.8,
            "count": 0
           },
           {
            "bin_start": 960.8,
            "bin_end": 1040.7,
            "count": 1
           },
           {
            "bin_start": 1040.7,
            "bin_end": 1120.6,
            "count": 0
           },
           {
            "bin_start": 1120.6,
            "bin_end": 1200.5,
            "count": 0
           },
           {
            "bin_start": 1200.5,
            "bin_end": 1280.4,
            "count": 0
           },
           {
            "bin_start": 1280.4,
            "bin_end": 1360.3000000000002,
            "count": 1
           },
           {
            "bin_start": 1360.3000000000002,
            "bin_end": 1440.2,
            "count": 0
           },
           {
            "bin_start": 1440.2,
            "bin_end": 1520.1,
            "count": 0
           },
           {
            "bin_start": 1520.1,
            "bin_end": 1600,
            "count": 2
           }
          ]
         }
        },
        {
         "name": "_deepnote_index_column",
         "dtype": "int64"
        }
       ],
       "rows": [
        {
         "instant": "1",
         "dteday": "01-01-2018",
         "season": "1",
         "yr": "0",
         "mnth": "1",
         "holiday": "0",
         "weekday": "6",
         "workingday": "0",
         "weathersit": "2",
         "temp": "14.110847",
         "atemp": "18.18125",
         "hum": "80.5833",
         "windspeed": "10.749882",
         "casual": "331",
         "registered": "654",
         "cnt": "985",
         "_deepnote_index_column": "0"
        },
        {
         "instant": "2",
         "dteday": "02-01-2018",
         "season": "1",
         "yr": "0",
         "mnth": "1",
         "holiday": "0",
         "weekday": "0",
         "workingday": "0",
         "weathersit": "2",
         "temp": "14.902598",
         "atemp": "17.68695",
         "hum": "69.6087",
         "windspeed": "16.652113",
         "casual": "131",
         "registered": "670",
         "cnt": "801",
         "_deepnote_index_column": "1"
        },
        {
         "instant": "3",
         "dteday": "03-01-2018",
         "season": "1",
         "yr": "0",
         "mnth": "1",
         "holiday": "0",
         "weekday": "1",
         "workingday": "1",
         "weathersit": "1",
         "temp": "8.050924",
         "atemp": "9.47025",
         "hum": "43.7273",
         "windspeed": "16.636703",
         "casual": "120",
         "registered": "1229",
         "cnt": "1349",
         "_deepnote_index_column": "2"
        },
        {
         "instant": "4",
         "dteday": "04-01-2018",
         "season": "1",
         "yr": "0",
         "mnth": "1",
         "holiday": "0",
         "weekday": "2",
         "workingday": "1",
         "weathersit": "1",
         "temp": "8.2",
         "atemp": "10.6061",
         "hum": "59.0435",
         "windspeed": "10.739832",
         "casual": "108",
         "registered": "1454",
         "cnt": "1562",
         "_deepnote_index_column": "3"
        },
        {
         "instant": "5",
         "dteday": "05-01-2018",
         "season": "1",
         "yr": "0",
         "mnth": "1",
         "holiday": "0",
         "weekday": "3",
         "workingday": "1",
         "weathersit": "1",
         "temp": "9.305237",
         "atemp": "11.4635",
         "hum": "43.6957",
         "windspeed": "12.5223",
         "casual": "82",
         "registered": "1518",
         "cnt": "1600",
         "_deepnote_index_column": "4"
        }
       ]
      },
      "text/plain": "   instant      dteday  season  yr  mnth  holiday  weekday  workingday  \\\n0        1  01-01-2018       1   0     1        0        6           0   \n1        2  02-01-2018       1   0     1        0        0           0   \n2        3  03-01-2018       1   0     1        0        1           1   \n3        4  04-01-2018       1   0     1        0        2           1   \n4        5  05-01-2018       1   0     1        0        3           1   \n\n   weathersit       temp     atemp      hum  windspeed  casual  registered  \\\n0           2  14.110847  18.18125  80.5833  10.749882     331         654   \n1           2  14.902598  17.68695  69.6087  16.652113     131         670   \n2           1   8.050924   9.47025  43.7273  16.636703     120        1229   \n3           1   8.200000  10.60610  59.0435  10.739832     108        1454   \n4           1   9.305237  11.46350  43.6957  12.522300      82        1518   \n\n    cnt  \n0   985  \n1   801  \n2  1349  \n3  1562  \n4  1600  ",
      "text/html": "<div>\n<style scoped>\n    .dataframe tbody tr th:only-of-type {\n        vertical-align: middle;\n    }\n\n    .dataframe tbody tr th {\n        vertical-align: top;\n    }\n\n    .dataframe thead th {\n        text-align: right;\n    }\n</style>\n<table border=\"1\" class=\"dataframe\">\n  <thead>\n    <tr style=\"text-align: right;\">\n      <th></th>\n      <th>instant</th>\n      <th>dteday</th>\n      <th>season</th>\n      <th>yr</th>\n      <th>mnth</th>\n      <th>holiday</th>\n      <th>weekday</th>\n      <th>workingday</th>\n      <th>weathersit</th>\n      <th>temp</th>\n      <th>atemp</th>\n      <th>hum</th>\n      <th>windspeed</th>\n      <th>casual</th>\n      <th>registered</th>\n      <th>cnt</th>\n    </tr>\n  </thead>\n  <tbody>\n    <tr>\n      <th>0</th>\n      <td>1</td>\n      <td>01-01-2018</td>\n      <td>1</td>\n      <td>0</td>\n      <td>1</td>\n      <td>0</td>\n      <td>6</td>\n      <td>0</td>\n      <td>2</td>\n      <td>14.110847</td>\n      <td>18.18125</td>\n      <td>80.5833</td>\n      <td>10.749882</td>\n      <td>331</td>\n      <td>654</td>\n      <td>985</td>\n    </tr>\n    <tr>\n      <th>1</th>\n      <td>2</td>\n      <td>02-01-2018</td>\n      <td>1</td>\n      <td>0</td>\n      <td>1</td>\n      <td>0</td>\n      <td>0</td>\n      <td>0</td>\n      <td>2</td>\n      <td>14.902598</td>\n      <td>17.68695</td>\n      <td>69.6087</td>\n      <td>16.652113</td>\n      <td>131</td>\n      <td>670</td>\n      <td>801</td>\n    </tr>\n    <tr>\n      <th>2</th>\n      <td>3</td>\n      <td>03-01-2018</td>\n      <td>1</td>\n      <td>0</td>\n      <td>1</td>\n      <td>0</td>\n      <td>1</td>\n      <td>1</td>\n      <td>1</td>\n      <td>8.050924</td>\n      <td>9.47025</td>\n      <td>43.7273</td>\n      <td>16.636703</td>\n      <td>120</td>\n      <td>1229</td>\n      <td>1349</td>\n    </tr>\n    <tr>\n      <th>3</th>\n      <td>4</td>\n      <td>04-01-2018</td>\n      <td>1</td>\n      <td>0</td>\n      <td>1</td>\n      <td>0</td>\n      <td>2</td>\n      <td>1</td>\n      <td>1</td>\n      <td>8.200000</td>\n      <td>10.60610</td>\n      <td>59.0435</td>\n      <td>10.739832</td>\n      <td>108</td>\n      <td>1454</td>\n      <td>1562</td>\n    </tr>\n    <tr>\n      <th>4</th>\n      <td>5</td>\n      <td>05-01-2018</td>\n      <td>1</td>\n      <td>0</td>\n      <td>1</td>\n      <td>0</td>\n      <td>3</td>\n      <td>1</td>\n      <td>1</td>\n      <td>9.305237</td>\n      <td>11.46350</td>\n      <td>43.6957</td>\n      <td>12.522300</td>\n      <td>82</td>\n      <td>1518</td>\n      <td>1600</td>\n    </tr>\n  </tbody>\n</table>\n</div>"
     },
     "metadata": {}
    }
   ]
  },
  {
   "cell_type": "markdown",
   "source": "#### Reviewing data dictionary",
   "metadata": {
    "cell_id": "3017bcbe2d71421cbeb0f8e8a98ffbc5",
    "tags": [],
    "deepnote_cell_type": "markdown",
    "deepnote_cell_height": 54
   }
  },
  {
   "cell_type": "markdown",
   "source": "Before we load in the data, let's review the data dictionary provided to get a casual understanding of what kind of data we will be working with. Once we have an understanding of each variable, we can further examine the data each variable associated with each variable.",
   "metadata": {
    "formattedRanges": [],
    "is_collapsed": false,
    "cell_id": "959037e4bc574199a3c9a0bdee3cdae4",
    "tags": [],
    "deepnote_cell_type": "text-cell-p"
   }
  },
  {
   "cell_type": "markdown",
   "source": "#### Data dictionary\n    - instant: record index\n\t- dteday : date\n\t- season : season (1:spring, 2:summer, 3:fall, 4:winter)\n\t- yr : year (0: 2018, 1:2019)\n\t- mnth : month ( 1 to 12)\n\t- holiday : weather day is a holiday or not (extracted from http://dchr.dc.gov/page/holiday-schedule)\n\t- weekday : day of the week\n\t- workingday : if day is neither weekend nor holiday is 1, otherwise is 0.\n\t+ weathersit : \n\t\t- 1: Clear, Few clouds, Partly cloudy, Partly cloudy\n\t\t- 2: Mist + Cloudy, Mist + Broken clouds, Mist + Few clouds, Mist\n\t\t- 3: Light Snow, Light Rain + Thunderstorm + Scattered clouds, Light Rain + Scattered clouds\n\t\t- 4: Heavy Rain + Ice Pallets + Thunderstorm + Mist, Snow + Fog\n\t- temp : temperature in Celsius\n\t- atemp: feeling temperature in Celsius\n\t- hum: humidity\n\t- windspeed: wind speed\n\t- casual: count of casual users\n\t- registered: count of registered users\n\t- cnt: count of total rental bikes including both casual and registered",
   "metadata": {
    "cell_id": "8a59373e388a4d87ac3ce7685a5178d4",
    "tags": [],
    "deepnote_cell_type": "markdown",
    "deepnote_cell_height": 501.9375
   }
  },
  {
   "cell_type": "markdown",
   "source": "We can summarize a few things we've learned from reviewing the data dictionary:",
   "metadata": {
    "formattedRanges": [],
    "is_collapsed": false,
    "cell_id": "5dae1d5f-bc6a-43d7-b546-62a24fe4fcd2",
    "tags": [],
    "deepnote_cell_type": "text-cell-p"
   }
  },
  {
   "cell_type": "markdown",
   "source": "1. We will have the opportunity to leverage temporal data like season, month, year and day. Temporal data is very useful when looking at problems that require a time series analysis. While we may not be sure just yet, what granularity of temporal data will be useful, we'll have to pay close attention to these features during individual variable analysis. ",
   "metadata": {
    "formattedRanges": [],
    "is_collapsed": false,
    "cell_id": "704aa6ac-5888-4de0-8706-5cb7e8600a42",
    "tags": [],
    "number": 1,
    "style": "decimal",
    "deepnote_cell_type": "text-cell-number"
   }
  },
  {
   "cell_type": "markdown",
   "source": "undefined. Weather information like weather situation, temperature, humidity and windspeed, will hopefully allow us to predict demand by providing a glimpse into mind of the consumer. Will we see that weather conditions impact demand for bike sharing? These are great features to work with. It's important to not that weather situation has many categorical variables that are currently being associated to integer value of 1-4. These values should be treated as nominal and not ordinal data. We'll need to clean and pre-process ahead of modeling. Noting this now, so that we can re-visit this later.",
   "metadata": {
    "formattedRanges": [],
    "is_collapsed": false,
    "cell_id": "586c872a-abb7-4cb4-a034-6972ed8f8838",
    "tags": [],
    "style": "decimal",
    "deepnote_cell_type": "text-cell-number"
   }
  },
  {
   "cell_type": "markdown",
   "source": "undefined. While granular features like the ones describe above could potentially be helpful predictors, we also have data that represents the total count of casual and registered riders in the network. While this may not itself be a predictor of ride sharing demand, yet to be determined, they will ultimately help us find correlations. ",
   "metadata": {
    "formattedRanges": [],
    "is_collapsed": false,
    "cell_id": "47fe73ed-a2fe-47c3-b106-c308d67eeefc",
    "tags": [],
    "style": "decimal",
    "deepnote_cell_type": "text-cell-number"
   }
  },
  {
   "cell_type": "markdown",
   "source": "undefined. Last but not least we have the count of total rental bikes which is a sum of both registered and casual users defined above. This feature represents our target feature and the rest of the variables represent potential predictor variables.",
   "metadata": {
    "formattedRanges": [],
    "is_collapsed": false,
    "cell_id": "634a8ce3-bf9e-4ac0-9ecb-45e391ed2434",
    "tags": [],
    "style": "decimal",
    "deepnote_cell_type": "text-cell-number"
   }
  },
  {
   "cell_type": "markdown",
   "source": "#### Removing not needed data",
   "metadata": {
    "cell_id": "9b3b5aa04b1943e1bdca4e26ff387360",
    "tags": [],
    "deepnote_cell_type": "markdown",
    "deepnote_cell_height": 54
   }
  },
  {
   "cell_type": "markdown",
   "source": "We know from our look into the data dictionary that there are already a few variables that we don't need for our analysis. ",
   "metadata": {
    "formattedRanges": [],
    "is_collapsed": false,
    "cell_id": "e594fdcd4bdc4452922f33aa44f0734b",
    "tags": [],
    "deepnote_cell_type": "text-cell-p"
   }
  },
  {
   "cell_type": "markdown",
   "source": "1. 'instant' is a feature that represents the index of each data row. This is not needed once we bring our data into pandas.",
   "metadata": {
    "formattedRanges": [],
    "is_collapsed": false,
    "cell_id": "6476b5b1-0048-47af-bc32-7ef581c3e2f0",
    "tags": [],
    "number": 1,
    "style": "decimal",
    "deepnote_cell_type": "text-cell-number"
   }
  },
  {
   "cell_type": "markdown",
   "source": "undefined. 'dteday'. Much of the data present in this feature is already represented in the mnth and yr column. As such, we can remove this in favor of leveraging those columns.",
   "metadata": {
    "formattedRanges": [],
    "is_collapsed": false,
    "cell_id": "06417c0b-c15f-4e1b-a61b-fbef238d475e",
    "tags": [],
    "style": "decimal",
    "deepnote_cell_type": "text-cell-number"
   }
  },
  {
   "cell_type": "markdown",
   "source": "undefined. 'casual' represents the count of casual users which is a subset of our target variable 'cnt'. Because we're interested in 'cnt', we can remove this feature.",
   "metadata": {
    "formattedRanges": [],
    "is_collapsed": false,
    "cell_id": "7b3bb270-e2d2-4d33-bdee-793415b6bfb0",
    "tags": [],
    "style": "decimal",
    "deepnote_cell_type": "text-cell-number"
   }
  },
  {
   "cell_type": "markdown",
   "source": "undefined. Similar to 'casual', 'registered' represents the count of registered users. As this is a subset of our target variable 'cnt', we can remove this feature as we'd like to find correlations with our target variable and not a subset of that variable. ",
   "metadata": {
    "formattedRanges": [],
    "is_collapsed": false,
    "cell_id": "995b152b-e1c6-4b70-aa55-62205c7f9c29",
    "tags": [],
    "style": "decimal",
    "deepnote_cell_type": "text-cell-number"
   }
  },
  {
   "cell_type": "code",
   "metadata": {
    "cell_id": "482848ccd5fe4d029498cf445864707c",
    "tags": [],
    "deepnote_to_be_reexecuted": false,
    "source_hash": "a78741e6",
    "execution_start": 1663728009452,
    "execution_millis": 2,
    "deepnote_cell_type": "code",
    "deepnote_cell_height": 130
   },
   "source": "data.drop('instant', inplace=True, axis=1)\ndata.drop('dteday', inplace=True, axis=1)\ndata.drop('casual', inplace=True, axis=1)\ndata.drop('registered', inplace=True, axis=1)",
   "execution_count": 4,
   "outputs": []
  },
  {
   "cell_type": "markdown",
   "source": "Let's take a quick look a the columns, null value count and data types of the features we have to work with.",
   "metadata": {
    "formattedRanges": [],
    "is_collapsed": false,
    "cell_id": "cad54508-24aa-4eb8-8ca0-4d9f6c1aec8c",
    "tags": [],
    "deepnote_cell_type": "text-cell-p"
   }
  },
  {
   "cell_type": "code",
   "metadata": {
    "cell_id": "202614cb21274bfeae02cf192cd95a45",
    "tags": [],
    "deepnote_to_be_reexecuted": false,
    "source_hash": "4fbcdde1",
    "execution_start": 1663728009496,
    "execution_millis": 2,
    "deepnote_cell_type": "code",
    "deepnote_cell_height": 760.734375,
    "deepnote_output_heights": [
     null,
     250.53125
    ]
   },
   "source": "data.info()\ndata.isna().sum()",
   "execution_count": 5,
   "outputs": [
    {
     "name": "stdout",
     "text": "<class 'pandas.core.frame.DataFrame'>\nRangeIndex: 730 entries, 0 to 729\nData columns (total 12 columns):\n #   Column      Non-Null Count  Dtype  \n---  ------      --------------  -----  \n 0   season      730 non-null    int64  \n 1   yr          730 non-null    int64  \n 2   mnth        730 non-null    int64  \n 3   holiday     730 non-null    int64  \n 4   weekday     730 non-null    int64  \n 5   workingday  730 non-null    int64  \n 6   weathersit  730 non-null    int64  \n 7   temp        730 non-null    float64\n 8   atemp       730 non-null    float64\n 9   hum         730 non-null    float64\n 10  windspeed   730 non-null    float64\n 11  cnt         730 non-null    int64  \ndtypes: float64(4), int64(8)\nmemory usage: 68.6 KB\n",
     "output_type": "stream"
    },
    {
     "output_type": "execute_result",
     "execution_count": 5,
     "data": {
      "text/plain": "season        0\nyr            0\nmnth          0\nholiday       0\nweekday       0\nworkingday    0\nweathersit    0\ntemp          0\natemp         0\nhum           0\nwindspeed     0\ncnt           0\ndtype: int64"
     },
     "metadata": {}
    }
   ]
  },
  {
   "cell_type": "markdown",
   "source": "We are very fortunate and it looks like there is no null values in our data set. However, we'll have to do a more granular investigation as sometimes values like 0.0 are just as uninformative as null values depending on how the data was prepared. ",
   "metadata": {
    "formattedRanges": [],
    "is_collapsed": false,
    "cell_id": "8d8eb74c-2d9f-4dc7-9cb5-252ba80fdd1b",
    "tags": [],
    "deepnote_cell_type": "text-cell-p"
   }
  },
  {
   "cell_type": "markdown",
   "source": "### Data understanding",
   "metadata": {
    "cell_id": "d2368f30631f4be9954a49a79bbe1bc0",
    "tags": [],
    "deepnote_cell_type": "markdown",
    "deepnote_cell_height": 62
   }
  },
  {
   "cell_type": "markdown",
   "source": "Many of the features in our dataset require transformation before we can visualize it. Let's go ahead and work through each potential predictor feature first, clean it and transform it into the appropriate data type and review some statistical information about its distribution.",
   "metadata": {
    "formattedRanges": [],
    "is_collapsed": false,
    "cell_id": "3234a369-7309-49c2-8336-28484339086e",
    "tags": [],
    "deepnote_cell_type": "text-cell-p"
   }
  },
  {
   "cell_type": "markdown",
   "source": "Re-usable utility functions\nLet us build some re-usable utility functions to help us understand our data. While these will be short functions, if we'd like to make changes later, it will be much easier to scale this across all variables.",
   "metadata": {
    "formattedRanges": [
     {
      "type": "marks",
      "fromCodePoint": 0,
      "toCodePoint": 27,
      "marks": {
       "bold": true
      }
     }
    ],
    "is_collapsed": false,
    "cell_id": "b066f563-be32-4877-9594-0573d7dbd058",
    "tags": [],
    "deepnote_cell_type": "text-cell-p"
   }
  },
  {
   "cell_type": "code",
   "metadata": {
    "cell_id": "74ebee9c541d47939a7fb9318c8e7469",
    "tags": [],
    "deepnote_to_be_reexecuted": false,
    "source_hash": "9aa6b8aa",
    "execution_start": 1663728009521,
    "execution_millis": 0,
    "deepnote_cell_type": "code",
    "deepnote_cell_height": 1233
   },
   "source": "def describe(data, column1):\n    \"\"\"\n    Prints a set of summary statistics.\n\n    :param p1: dataframe\n    :param p2: column from dataframe containing values \n    \"\"\"\n    print(\"DESCRIPTIVE SUMMARY of \" + str(column1))\n    print(data[column1].describe())\n    print(\"\\n\")\n    print(\"UNIQUE VALUE COUNT: \" + str(len(data[column1].unique())))\n\ndef plot_hist(data, column1):\n    \"\"\"\n    Creates a plotly express histogram.\n\n    :param p1: dataframe\n    :param p2: column from dataframe containing values \n    \"\"\"\n    fig = px.histogram(data,x=column1, title=\"Histogram of values for \" + str(column1))\n    fig.show()\n\n\ndef plot_box(data, column1):\n    \"\"\"\n    Creates a plotly express box plot leveraging a single column against target variables of interest.\n\n    :param p1: dataframe\n    :param p2: column from dataframe containing values \n    \"\"\"\n    fig_count = px.box(data,x=column1,y='cnt', title=\"Boxplot of values for \" + str(column1) + \" against our target variable cnt\",)\n    fig_count.show()\n\n\ndef create_feature_analysis(data, column1):\n    \"\"\"\n    Creates wrapper function to return summary statistics and vizualization for a single column\n\n    :param p1: dataframe\n    :param p2: column from dataframe containing values \n    \"\"\"\n    describe(data, column1)\n    plot_hist(data, column1)\n    plot_box(data, column1)\n\n\ndef create_heatmap(data):\n    # Generate correlation matrix\n    data_corr = data.corr() \n\n    # Plot heatmap of correlation matrix\n    fig = go.Figure()\n    fig.add_trace(\n        go.Heatmap(\n            x=data_corr.columns,\n            y=data_corr.columns,\n            z=np.array(data_corr)\n        )\n    )\n\n    fig.update_layout(\n        height=800,\n    )\n\n    fig.show()",
   "execution_count": 6,
   "outputs": []
  },
  {
   "cell_type": "markdown",
   "source": "We notice that the unique values are presented as ordinal values. Because the values currently indicate there might be some sort of order of importance, let's change these variables into integers representing their string season. We'll need to do some post processing to create categorical dummy variables later, but this will be useful for visualization.",
   "metadata": {
    "formattedRanges": [],
    "is_collapsed": false,
    "cell_id": "a0969bd817b84a8ca90fbd03cabce107",
    "tags": [],
    "deepnote_cell_type": "text-cell-p"
   }
  },
  {
   "cell_type": "code",
   "metadata": {
    "cell_id": "f63af69b5b354e4e938ecf6c1f5baefa",
    "tags": [],
    "deepnote_to_be_reexecuted": false,
    "source_hash": "4f0e55a8",
    "execution_start": 1663728009521,
    "execution_millis": 1,
    "deepnote_cell_type": "code",
    "deepnote_cell_height": 135
   },
   "source": "data.season = data.season.map({1:'spring', 2:'summer', 3: 'fall', 4: 'winter'})\ndata.mnth = data.mnth.map({1: \"jan\", 2:\"feb\", 3:\"march\", 4:\"april\", 5:\"may\", 6:\"june\", 7:\"july\", 8:\"august\", 9:\"september\", 10:\"october\", 11:\"november\", 12:\"december\"})\ndata.weekday = data.weekday.map({0:'monday',1:'tuesday',2:'wednesday',3:'thursday', 4:\"friday\", 5:\"saturday\", 6:'sunday'})\ndata.weathersit = data.weathersit.map({1:'clear',2:'misty',3:'light_snow',4:'heavy_rain_and_ice'})",
   "execution_count": 7,
   "outputs": []
  },
  {
   "cell_type": "code",
   "metadata": {
    "cell_id": "75610a30bfd949d5b721ed046521a131",
    "tags": [],
    "deepnote_to_be_reexecuted": false,
    "source_hash": "a891cabe",
    "execution_start": 1663728009527,
    "execution_millis": 2681,
    "deepnote_cell_type": "code",
    "deepnote_cell_height": 1378.25,
    "deepnote_output_heights": [
     null,
     526,
     526,
     null,
     526,
     526,
     null,
     526,
     526,
     null,
     526,
     526,
     null,
     526,
     526,
     null,
     526,
     526,
     null,
     526,
     526,
     null,
     526,
     526,
     null,
     526,
     526,
     null,
     526,
     526,
     null,
     526,
     526,
     null,
     526,
     526
    ]
   },
   "source": "create_feature_analysis(data, 'season')",
   "execution_count": 8,
   "outputs": [
    {
     "name": "stdout",
     "text": "DESCRIPTIVE SUMMARY of season\ncount      730\nunique       4\ntop       fall\nfreq       188\nName: season, dtype: object\n\n\nUNIQUE VALUE COUNT: 4\n",
     "output_type": "stream"
    },
    {
     "data": {
      "text/html": "<html>\n<head><meta charset=\"utf-8\" /></head>\n<body>\n    <div>            <script src=\"https://cdnjs.cloudflare.com/ajax/libs/mathjax/2.7.5/MathJax.js?config=TeX-AMS-MML_SVG\"></script><script type=\"text/javascript\">if (window.MathJax && window.MathJax.Hub && window.MathJax.Hub.Config) {window.MathJax.Hub.Config({SVG: {font: \"STIX-Web\"}});}</script>                <script type=\"text/javascript\">window.PlotlyConfig = {MathJaxConfig: 'local'};</script>\n        <script src=\"https://cdn.plot.ly/plotly-2.14.0.min.js\"></script>                <div id=\"a6bbe7bf-dbfc-4aba-9d24-2a6b3ca48010\" class=\"plotly-graph-div\" style=\"height:525px; width:100%;\"></div>            <script type=\"text/javascript\">                                    window.PLOTLYENV=window.PLOTLYENV || {};                                    if (document.getElementById(\"a6bbe7bf-dbfc-4aba-9d24-2a6b3ca48010\")) {                    Plotly.newPlot(                        \"a6bbe7bf-dbfc-4aba-9d24-2a6b3ca48010\",                        [{\"alignmentgroup\":\"True\",\"bingroup\":\"x\",\"hovertemplate\":\"season=%{x}<br>count=%{y}<extra></extra>\",\"legendgroup\":\"\",\"marker\":{\"color\":\"#636efa\",\"pattern\":{\"shape\":\"\"}},\"name\":\"\",\"offsetgroup\":\"\",\"orientation\":\"v\",\"showlegend\":false,\"x\":[\"spring\",\"spring\",\"spring\",\"spring\",\"spring\",\"spring\",\"spring\",\"spring\",\"spring\",\"spring\",\"spring\",\"spring\",\"spring\",\"spring\",\"spring\",\"spring\",\"spring\",\"spring\",\"spring\",\"spring\",\"spring\",\"spring\",\"spring\",\"spring\",\"spring\",\"spring\",\"spring\",\"spring\",\"spring\",\"spring\",\"spring\",\"spring\",\"spring\",\"spring\",\"spring\",\"spring\",\"spring\",\"spring\",\"spring\",\"spring\",\"spring\",\"spring\",\"spring\",\"spring\",\"spring\",\"spring\",\"spring\",\"spring\",\"spring\",\"spring\",\"spring\",\"spring\",\"spring\",\"spring\",\"spring\",\"spring\",\"spring\",\"spring\",\"spring\",\"spring\",\"spring\",\"spring\",\"spring\",\"spring\",\"spring\",\"spring\",\"spring\",\"spring\",\"spring\",\"spring\",\"spring\",\"spring\",\"spring\",\"spring\",\"spring\",\"spring\",\"spring\",\"spring\",\"spring\",\"summer\",\"summer\",\"summer\",\"summer\",\"summer\",\"summer\",\"summer\",\"summer\",\"summer\",\"summer\",\"summer\",\"summer\",\"summer\",\"summer\",\"summer\",\"summer\",\"summer\",\"summer\",\"summer\",\"summer\",\"summer\",\"summer\",\"summer\",\"summer\",\"summer\",\"summer\",\"summer\",\"summer\",\"summer\",\"summer\",\"summer\",\"summer\",\"summer\",\"summer\",\"summer\",\"summer\",\"summer\",\"summer\",\"summer\",\"summer\",\"summer\",\"summer\",\"summer\",\"summer\",\"summer\",\"summer\",\"summer\",\"summer\",\"summer\",\"summer\",\"summer\",\"summer\",\"summer\",\"summer\",\"summer\",\"summer\",\"summer\",\"summer\",\"summer\",\"summer\",\"summer\",\"summer\",\"summer\",\"summer\",\"summer\",\"summer\",\"summer\",\"summer\",\"summer\",\"summer\",\"summer\",\"summer\",\"summer\",\"summer\",\"summer\",\"summer\",\"summer\",\"summer\",\"summer\",\"summer\",\"summer\",\"summer\",\"summer\",\"summer\",\"summer\",\"summer\",\"summer\",\"summer\",\"summer\",\"summer\",\"summer\",\"summer\",\"fall\",\"fall\",\"fall\",\"fall\",\"fall\",\"fall\",\"fall\",\"fall\",\"fall\",\"fall\",\"fall\",\"fall\",\"fall\",\"fall\",\"fall\",\"fall\",\"fall\",\"fall\",\"fall\",\"fall\",\"fall\",\"fall\",\"fall\",\"fall\",\"fall\",\"fall\",\"fall\",\"fall\",\"fall\",\"fall\",\"fall\",\"fall\",\"fall\",\"fall\",\"fall\",\"fall\",\"fall\",\"fall\",\"fall\",\"fall\",\"fall\",\"fall\",\"fall\",\"fall\",\"fall\",\"fall\",\"fall\",\"fall\",\"fall\",\"fall\",\"fall\",\"fall\",\"fall\",\"fall\",\"fall\",\"fall\",\"fall\",\"fall\",\"fall\",\"fall\",\"fall\",\"fall\",\"fall\",\"fall\",\"fall\",\"fall\",\"fall\",\"fall\",\"fall\",\"fall\",\"fall\",\"fall\",\"fall\",\"fall\",\"fall\",\"fall\",\"fall\",\"fall\",\"fall\",\"fall\",\"fall\",\"fall\",\"fall\",\"fall\",\"fall\",\"fall\",\"fall\",\"fall\",\"fall\",\"fall\",\"fall\",\"fall\",\"fall\",\"fall\",\"winter\",\"winter\",\"winter\",\"winter\",\"winter\",\"winter\",\"winter\",\"winter\",\"winter\",\"winter\",\"winter\",\"winter\",\"winter\",\"winter\",\"winter\",\"winter\",\"winter\",\"winter\",\"winter\",\"winter\",\"winter\",\"winter\",\"winter\",\"winter\",\"winter\",\"winter\",\"winter\",\"winter\",\"winter\",\"winter\",\"winter\",\"winter\",\"winter\",\"winter\",\"winter\",\"winter\",\"winter\",\"winter\",\"winter\",\"winter\",\"winter\",\"winter\",\"winter\",\"winter\",\"winter\",\"winter\",\"winter\",\"winter\",\"winter\",\"winter\",\"winter\",\"winter\",\"winter\",\"winter\",\"winter\",\"winter\",\"winter\",\"winter\",\"winter\",\"winter\",\"winter\",\"winter\",\"winter\",\"winter\",\"winter\",\"winter\",\"winter\",\"winter\",\"winter\",\"winter\",\"winter\",\"winter\",\"winter\",\"winter\",\"winter\",\"winter\",\"winter\",\"winter\",\"winter\",\"winter\",\"winter\",\"winter\",\"winter\",\"winter\",\"winter\",\"winter\",\"winter\",\"winter\",\"winter\",\"spring\",\"spring\",\"spring\",\"spring\",\"spring\",\"spring\",\"spring\",\"spring\",\"spring\",\"spring\",\"spring\",\"spring\",\"spring\",\"spring\",\"spring\",\"spring\",\"spring\",\"spring\",\"spring\",\"spring\",\"spring\",\"spring\",\"spring\",\"spring\",\"spring\",\"spring\",\"spring\",\"spring\",\"spring\",\"spring\",\"spring\",\"spring\",\"spring\",\"spring\",\"spring\",\"spring\",\"spring\",\"spring\",\"spring\",\"spring\",\"spring\",\"spring\",\"spring\",\"spring\",\"spring\",\"spring\",\"spring\",\"spring\",\"spring\",\"spring\",\"spring\",\"spring\",\"spring\",\"spring\",\"spring\",\"spring\",\"spring\",\"spring\",\"spring\",\"spring\",\"spring\",\"spring\",\"spring\",\"spring\",\"spring\",\"spring\",\"spring\",\"spring\",\"spring\",\"spring\",\"spring\",\"spring\",\"spring\",\"spring\",\"spring\",\"spring\",\"spring\",\"spring\",\"spring\",\"spring\",\"spring\",\"spring\",\"spring\",\"spring\",\"spring\",\"spring\",\"spring\",\"spring\",\"spring\",\"spring\",\"summer\",\"summer\",\"summer\",\"summer\",\"summer\",\"summer\",\"summer\",\"summer\",\"summer\",\"summer\",\"summer\",\"summer\",\"summer\",\"summer\",\"summer\",\"summer\",\"summer\",\"summer\",\"summer\",\"summer\",\"summer\",\"summer\",\"summer\",\"summer\",\"summer\",\"summer\",\"summer\",\"summer\",\"summer\",\"summer\",\"summer\",\"summer\",\"summer\",\"summer\",\"summer\",\"summer\",\"summer\",\"summer\",\"summer\",\"summer\",\"summer\",\"summer\",\"summer\",\"summer\",\"summer\",\"summer\",\"summer\",\"summer\",\"summer\",\"summer\",\"summer\",\"summer\",\"summer\",\"summer\",\"summer\",\"summer\",\"summer\",\"summer\",\"summer\",\"summer\",\"summer\",\"summer\",\"summer\",\"summer\",\"summer\",\"summer\",\"summer\",\"summer\",\"summer\",\"summer\",\"summer\",\"summer\",\"summer\",\"summer\",\"summer\",\"summer\",\"summer\",\"summer\",\"summer\",\"summer\",\"summer\",\"summer\",\"summer\",\"summer\",\"summer\",\"summer\",\"summer\",\"summer\",\"summer\",\"summer\",\"summer\",\"summer\",\"fall\",\"fall\",\"fall\",\"fall\",\"fall\",\"fall\",\"fall\",\"fall\",\"fall\",\"fall\",\"fall\",\"fall\",\"fall\",\"fall\",\"fall\",\"fall\",\"fall\",\"fall\",\"fall\",\"fall\",\"fall\",\"fall\",\"fall\",\"fall\",\"fall\",\"fall\",\"fall\",\"fall\",\"fall\",\"fall\",\"fall\",\"fall\",\"fall\",\"fall\",\"fall\",\"fall\",\"fall\",\"fall\",\"fall\",\"fall\",\"fall\",\"fall\",\"fall\",\"fall\",\"fall\",\"fall\",\"fall\",\"fall\",\"fall\",\"fall\",\"fall\",\"fall\",\"fall\",\"fall\",\"fall\",\"fall\",\"fall\",\"fall\",\"fall\",\"fall\",\"fall\",\"fall\",\"fall\",\"fall\",\"fall\",\"fall\",\"fall\",\"fall\",\"fall\",\"fall\",\"fall\",\"fall\",\"fall\",\"fall\",\"fall\",\"fall\",\"fall\",\"fall\",\"fall\",\"fall\",\"fall\",\"fall\",\"fall\",\"fall\",\"fall\",\"fall\",\"fall\",\"fall\",\"fall\",\"fall\",\"fall\",\"fall\",\"fall\",\"fall\",\"winter\",\"winter\",\"winter\",\"winter\",\"winter\",\"winter\",\"winter\",\"winter\",\"winter\",\"winter\",\"winter\",\"winter\",\"winter\",\"winter\",\"winter\",\"winter\",\"winter\",\"winter\",\"winter\",\"winter\",\"winter\",\"winter\",\"winter\",\"winter\",\"winter\",\"winter\",\"winter\",\"winter\",\"winter\",\"winter\",\"winter\",\"winter\",\"winter\",\"winter\",\"winter\",\"winter\",\"winter\",\"winter\",\"winter\",\"winter\",\"winter\",\"winter\",\"winter\",\"winter\",\"winter\",\"winter\",\"winter\",\"winter\",\"winter\",\"winter\",\"winter\",\"winter\",\"winter\",\"winter\",\"winter\",\"winter\",\"winter\",\"winter\",\"winter\",\"winter\",\"winter\",\"winter\",\"winter\",\"winter\",\"winter\",\"winter\",\"winter\",\"winter\",\"winter\",\"winter\",\"winter\",\"winter\",\"winter\",\"winter\",\"winter\",\"winter\",\"winter\",\"winter\",\"winter\",\"winter\",\"winter\",\"winter\",\"winter\",\"winter\",\"winter\",\"winter\",\"winter\",\"winter\",\"winter\",\"spring\",\"spring\",\"spring\",\"spring\",\"spring\",\"spring\",\"spring\",\"spring\",\"spring\",\"spring\",\"spring\"],\"xaxis\":\"x\",\"yaxis\":\"y\",\"type\":\"histogram\"}],                        {\"template\":{\"data\":{\"histogram2dcontour\":[{\"type\":\"histogram2dcontour\",\"colorbar\":{\"outlinewidth\":0,\"ticks\":\"\"},\"colorscale\":[[0.0,\"#0d0887\"],[0.1111111111111111,\"#46039f\"],[0.2222222222222222,\"#7201a8\"],[0.3333333333333333,\"#9c179e\"],[0.4444444444444444,\"#bd3786\"],[0.5555555555555556,\"#d8576b\"],[0.6666666666666666,\"#ed7953\"],[0.7777777777777778,\"#fb9f3a\"],[0.8888888888888888,\"#fdca26\"],[1.0,\"#f0f921\"]]}],\"choropleth\":[{\"type\":\"choropleth\",\"colorbar\":{\"outlinewidth\":0,\"ticks\":\"\"}}],\"histogram2d\":[{\"type\":\"histogram2d\",\"colorbar\":{\"outlinewidth\":0,\"ticks\":\"\"},\"colorscale\":[[0.0,\"#0d0887\"],[0.1111111111111111,\"#46039f\"],[0.2222222222222222,\"#7201a8\"],[0.3333333333333333,\"#9c179e\"],[0.4444444444444444,\"#bd3786\"],[0.5555555555555556,\"#d8576b\"],[0.6666666666666666,\"#ed7953\"],[0.7777777777777778,\"#fb9f3a\"],[0.8888888888888888,\"#fdca26\"],[1.0,\"#f0f921\"]]}],\"heatmap\":[{\"type\":\"heatmap\",\"colorbar\":{\"outlinewidth\":0,\"ticks\":\"\"},\"colorscale\":[[0.0,\"#0d0887\"],[0.1111111111111111,\"#46039f\"],[0.2222222222222222,\"#7201a8\"],[0.3333333333333333,\"#9c179e\"],[0.4444444444444444,\"#bd3786\"],[0.5555555555555556,\"#d8576b\"],[0.6666666666666666,\"#ed7953\"],[0.7777777777777778,\"#fb9f3a\"],[0.8888888888888888,\"#fdca26\"],[1.0,\"#f0f921\"]]}],\"heatmapgl\":[{\"type\":\"heatmapgl\",\"colorbar\":{\"outlinewidth\":0,\"ticks\":\"\"},\"colorscale\":[[0.0,\"#0d0887\"],[0.1111111111111111,\"#46039f\"],[0.2222222222222222,\"#7201a8\"],[0.3333333333333333,\"#9c179e\"],[0.4444444444444444,\"#bd3786\"],[0.5555555555555556,\"#d8576b\"],[0.6666666666666666,\"#ed7953\"],[0.7777777777777778,\"#fb9f3a\"],[0.8888888888888888,\"#fdca26\"],[1.0,\"#f0f921\"]]}],\"contourcarpet\":[{\"type\":\"contourcarpet\",\"colorbar\":{\"outlinewidth\":0,\"ticks\":\"\"}}],\"contour\":[{\"type\":\"contour\",\"colorbar\":{\"outlinewidth\":0,\"ticks\":\"\"},\"colorscale\":[[0.0,\"#0d0887\"],[0.1111111111111111,\"#46039f\"],[0.2222222222222222,\"#7201a8\"],[0.3333333333333333,\"#9c179e\"],[0.4444444444444444,\"#bd3786\"],[0.5555555555555556,\"#d8576b\"],[0.6666666666666666,\"#ed7953\"],[0.7777777777777778,\"#fb9f3a\"],[0.8888888888888888,\"#fdca26\"],[1.0,\"#f0f921\"]]}],\"surface\":[{\"type\":\"surface\",\"colorbar\":{\"outlinewidth\":0,\"ticks\":\"\"},\"colorscale\":[[0.0,\"#0d0887\"],[0.1111111111111111,\"#46039f\"],[0.2222222222222222,\"#7201a8\"],[0.3333333333333333,\"#9c179e\"],[0.4444444444444444,\"#bd3786\"],[0.5555555555555556,\"#d8576b\"],[0.6666666666666666,\"#ed7953\"],[0.7777777777777778,\"#fb9f3a\"],[0.8888888888888888,\"#fdca26\"],[1.0,\"#f0f921\"]]}],\"mesh3d\":[{\"type\":\"mesh3d\",\"colorbar\":{\"outlinewidth\":0,\"ticks\":\"\"}}],\"scatter\":[{\"fillpattern\":{\"fillmode\":\"overlay\",\"size\":10,\"solidity\":0.2},\"type\":\"scatter\"}],\"parcoords\":[{\"type\":\"parcoords\",\"line\":{\"colorbar\":{\"outlinewidth\":0,\"ticks\":\"\"}}}],\"scatterpolargl\":[{\"type\":\"scatterpolargl\",\"marker\":{\"colorbar\":{\"outlinewidth\":0,\"ticks\":\"\"}}}],\"bar\":[{\"error_x\":{\"color\":\"#2a3f5f\"},\"error_y\":{\"color\":\"#2a3f5f\"},\"marker\":{\"line\":{\"color\":\"#E5ECF6\",\"width\":0.5},\"pattern\":{\"fillmode\":\"overlay\",\"size\":10,\"solidity\":0.2}},\"type\":\"bar\"}],\"scattergeo\":[{\"type\":\"scattergeo\",\"marker\":{\"colorbar\":{\"outlinewidth\":0,\"ticks\":\"\"}}}],\"scatterpolar\":[{\"type\":\"scatterpolar\",\"marker\":{\"colorbar\":{\"outlinewidth\":0,\"ticks\":\"\"}}}],\"histogram\":[{\"marker\":{\"pattern\":{\"fillmode\":\"overlay\",\"size\":10,\"solidity\":0.2}},\"type\":\"histogram\"}],\"scattergl\":[{\"type\":\"scattergl\",\"marker\":{\"colorbar\":{\"outlinewidth\":0,\"ticks\":\"\"}}}],\"scatter3d\":[{\"type\":\"scatter3d\",\"line\":{\"colorbar\":{\"outlinewidth\":0,\"ticks\":\"\"}},\"marker\":{\"colorbar\":{\"outlinewidth\":0,\"ticks\":\"\"}}}],\"scattermapbox\":[{\"type\":\"scattermapbox\",\"marker\":{\"colorbar\":{\"outlinewidth\":0,\"ticks\":\"\"}}}],\"scatterternary\":[{\"type\":\"scatterternary\",\"marker\":{\"colorbar\":{\"outlinewidth\":0,\"ticks\":\"\"}}}],\"scattercarpet\":[{\"type\":\"scattercarpet\",\"marker\":{\"colorbar\":{\"outlinewidth\":0,\"ticks\":\"\"}}}],\"carpet\":[{\"aaxis\":{\"endlinecolor\":\"#2a3f5f\",\"gridcolor\":\"white\",\"linecolor\":\"white\",\"minorgridcolor\":\"white\",\"startlinecolor\":\"#2a3f5f\"},\"baxis\":{\"endlinecolor\":\"#2a3f5f\",\"gridcolor\":\"white\",\"linecolor\":\"white\",\"minorgridcolor\":\"white\",\"startlinecolor\":\"#2a3f5f\"},\"type\":\"carpet\"}],\"table\":[{\"cells\":{\"fill\":{\"color\":\"#EBF0F8\"},\"line\":{\"color\":\"white\"}},\"header\":{\"fill\":{\"color\":\"#C8D4E3\"},\"line\":{\"color\":\"white\"}},\"type\":\"table\"}],\"barpolar\":[{\"marker\":{\"line\":{\"color\":\"#E5ECF6\",\"width\":0.5},\"pattern\":{\"fillmode\":\"overlay\",\"size\":10,\"solidity\":0.2}},\"type\":\"barpolar\"}],\"pie\":[{\"automargin\":true,\"type\":\"pie\"}]},\"layout\":{\"autotypenumbers\":\"strict\",\"colorway\":[\"#636efa\",\"#EF553B\",\"#00cc96\",\"#ab63fa\",\"#FFA15A\",\"#19d3f3\",\"#FF6692\",\"#B6E880\",\"#FF97FF\",\"#FECB52\"],\"font\":{\"color\":\"#2a3f5f\"},\"hovermode\":\"closest\",\"hoverlabel\":{\"align\":\"left\"},\"paper_bgcolor\":\"white\",\"plot_bgcolor\":\"#E5ECF6\",\"polar\":{\"bgcolor\":\"#E5ECF6\",\"angularaxis\":{\"gridcolor\":\"white\",\"linecolor\":\"white\",\"ticks\":\"\"},\"radialaxis\":{\"gridcolor\":\"white\",\"linecolor\":\"white\",\"ticks\":\"\"}},\"ternary\":{\"bgcolor\":\"#E5ECF6\",\"aaxis\":{\"gridcolor\":\"white\",\"linecolor\":\"white\",\"ticks\":\"\"},\"baxis\":{\"gridcolor\":\"white\",\"linecolor\":\"white\",\"ticks\":\"\"},\"caxis\":{\"gridcolor\":\"white\",\"linecolor\":\"white\",\"ticks\":\"\"}},\"coloraxis\":{\"colorbar\":{\"outlinewidth\":0,\"ticks\":\"\"}},\"colorscale\":{\"sequential\":[[0.0,\"#0d0887\"],[0.1111111111111111,\"#46039f\"],[0.2222222222222222,\"#7201a8\"],[0.3333333333333333,\"#9c179e\"],[0.4444444444444444,\"#bd3786\"],[0.5555555555555556,\"#d8576b\"],[0.6666666666666666,\"#ed7953\"],[0.7777777777777778,\"#fb9f3a\"],[0.8888888888888888,\"#fdca26\"],[1.0,\"#f0f921\"]],\"sequentialminus\":[[0.0,\"#0d0887\"],[0.1111111111111111,\"#46039f\"],[0.2222222222222222,\"#7201a8\"],[0.3333333333333333,\"#9c179e\"],[0.4444444444444444,\"#bd3786\"],[0.5555555555555556,\"#d8576b\"],[0.6666666666666666,\"#ed7953\"],[0.7777777777777778,\"#fb9f3a\"],[0.8888888888888888,\"#fdca26\"],[1.0,\"#f0f921\"]],\"diverging\":[[0,\"#8e0152\"],[0.1,\"#c51b7d\"],[0.2,\"#de77ae\"],[0.3,\"#f1b6da\"],[0.4,\"#fde0ef\"],[0.5,\"#f7f7f7\"],[0.6,\"#e6f5d0\"],[0.7,\"#b8e186\"],[0.8,\"#7fbc41\"],[0.9,\"#4d9221\"],[1,\"#276419\"]]},\"xaxis\":{\"gridcolor\":\"white\",\"linecolor\":\"white\",\"ticks\":\"\",\"title\":{\"standoff\":15},\"zerolinecolor\":\"white\",\"automargin\":true,\"zerolinewidth\":2},\"yaxis\":{\"gridcolor\":\"white\",\"linecolor\":\"white\",\"ticks\":\"\",\"title\":{\"standoff\":15},\"zerolinecolor\":\"white\",\"automargin\":true,\"zerolinewidth\":2},\"scene\":{\"xaxis\":{\"backgroundcolor\":\"#E5ECF6\",\"gridcolor\":\"white\",\"linecolor\":\"white\",\"showbackground\":true,\"ticks\":\"\",\"zerolinecolor\":\"white\",\"gridwidth\":2},\"yaxis\":{\"backgroundcolor\":\"#E5ECF6\",\"gridcolor\":\"white\",\"linecolor\":\"white\",\"showbackground\":true,\"ticks\":\"\",\"zerolinecolor\":\"white\",\"gridwidth\":2},\"zaxis\":{\"backgroundcolor\":\"#E5ECF6\",\"gridcolor\":\"white\",\"linecolor\":\"white\",\"showbackground\":true,\"ticks\":\"\",\"zerolinecolor\":\"white\",\"gridwidth\":2}},\"shapedefaults\":{\"line\":{\"color\":\"#2a3f5f\"}},\"annotationdefaults\":{\"arrowcolor\":\"#2a3f5f\",\"arrowhead\":0,\"arrowwidth\":1},\"geo\":{\"bgcolor\":\"white\",\"landcolor\":\"#E5ECF6\",\"subunitcolor\":\"white\",\"showland\":true,\"showlakes\":true,\"lakecolor\":\"white\"},\"title\":{\"x\":0.05},\"mapbox\":{\"style\":\"light\"}}},\"xaxis\":{\"anchor\":\"y\",\"domain\":[0.0,1.0],\"title\":{\"text\":\"season\"}},\"yaxis\":{\"anchor\":\"x\",\"domain\":[0.0,1.0],\"title\":{\"text\":\"count\"}},\"legend\":{\"tracegroupgap\":0},\"title\":{\"text\":\"Histogram of values for season\"},\"barmode\":\"relative\"},                        {\"responsive\": true}                    ).then(function(){\n                            \nvar gd = document.getElementById('a6bbe7bf-dbfc-4aba-9d24-2a6b3ca48010');\nvar x = new MutationObserver(function (mutations, observer) {{\n        var display = window.getComputedStyle(gd).display;\n        if (!display || display === 'none') {{\n            console.log([gd, 'removed!']);\n            Plotly.purge(gd);\n            observer.disconnect();\n        }}\n}});\n\n// Listen for the removal of the full notebook cells\nvar notebookContainer = gd.closest('#notebook-container');\nif (notebookContainer) {{\n    x.observe(notebookContainer, {childList: true});\n}}\n\n// Listen for the clearing of the current output cell\nvar outputEl = gd.closest('.output');\nif (outputEl) {{\n    x.observe(outputEl, {childList: true});\n}}\n\n                        })                };                            </script>        </div>\n</body>\n</html>"
     },
     "metadata": {},
     "output_type": "display_data"
    },
    {
     "data": {
      "text/html": "<html>\n<head><meta charset=\"utf-8\" /></head>\n<body>\n    <div>            <script src=\"https://cdnjs.cloudflare.com/ajax/libs/mathjax/2.7.5/MathJax.js?config=TeX-AMS-MML_SVG\"></script><script type=\"text/javascript\">if (window.MathJax && window.MathJax.Hub && window.MathJax.Hub.Config) {window.MathJax.Hub.Config({SVG: {font: \"STIX-Web\"}});}</script>                <script type=\"text/javascript\">window.PlotlyConfig = {MathJaxConfig: 'local'};</script>\n        <script src=\"https://cdn.plot.ly/plotly-2.14.0.min.js\"></script>                <div id=\"a960f3b8-14bb-48cd-91f3-6d79d8f9119b\" class=\"plotly-graph-div\" style=\"height:525px; width:100%;\"></div>            <script type=\"text/javascript\">                                    window.PLOTLYENV=window.PLOTLYENV || {};                                    if (document.getElementById(\"a960f3b8-14bb-48cd-91f3-6d79d8f9119b\")) {                    Plotly.newPlot(                        \"a960f3b8-14bb-48cd-91f3-6d79d8f9119b\",                        [{\"alignmentgroup\":\"True\",\"hovertemplate\":\"season=%{x}<br>cnt=%{y}<extra></extra>\",\"legendgroup\":\"\",\"marker\":{\"color\":\"#636efa\"},\"name\":\"\",\"notched\":false,\"offsetgroup\":\"\",\"orientation\":\"v\",\"showlegend\":false,\"x\":[\"spring\",\"spring\",\"spring\",\"spring\",\"spring\",\"spring\",\"spring\",\"spring\",\"spring\",\"spring\",\"spring\",\"spring\",\"spring\",\"spring\",\"spring\",\"spring\",\"spring\",\"spring\",\"spring\",\"spring\",\"spring\",\"spring\",\"spring\",\"spring\",\"spring\",\"spring\",\"spring\",\"spring\",\"spring\",\"spring\",\"spring\",\"spring\",\"spring\",\"spring\",\"spring\",\"spring\",\"spring\",\"spring\",\"spring\",\"spring\",\"spring\",\"spring\",\"spring\",\"spring\",\"spring\",\"spring\",\"spring\",\"spring\",\"spring\",\"spring\",\"spring\",\"spring\",\"spring\",\"spring\",\"spring\",\"spring\",\"spring\",\"spring\",\"spring\",\"spring\",\"spring\",\"spring\",\"spring\",\"spring\",\"spring\",\"spring\",\"spring\",\"spring\",\"spring\",\"spring\",\"spring\",\"spring\",\"spring\",\"spring\",\"spring\",\"spring\",\"spring\",\"spring\",\"spring\",\"summer\",\"summer\",\"summer\",\"summer\",\"summer\",\"summer\",\"summer\",\"summer\",\"summer\",\"summer\",\"summer\",\"summer\",\"summer\",\"summer\",\"summer\",\"summer\",\"summer\",\"summer\",\"summer\",\"summer\",\"summer\",\"summer\",\"summer\",\"summer\",\"summer\",\"summer\",\"summer\",\"summer\",\"summer\",\"summer\",\"summer\",\"summer\",\"summer\",\"summer\",\"summer\",\"summer\",\"summer\",\"summer\",\"summer\",\"summer\",\"summer\",\"summer\",\"summer\",\"summer\",\"summer\",\"summer\",\"summer\",\"summer\",\"summer\",\"summer\",\"summer\",\"summer\",\"summer\",\"summer\",\"summer\",\"summer\",\"summer\",\"summer\",\"summer\",\"summer\",\"summer\",\"summer\",\"summer\",\"summer\",\"summer\",\"summer\",\"summer\",\"summer\",\"summer\",\"summer\",\"summer\",\"summer\",\"summer\",\"summer\",\"summer\",\"summer\",\"summer\",\"summer\",\"summer\",\"summer\",\"summer\",\"summer\",\"summer\",\"summer\",\"summer\",\"summer\",\"summer\",\"summer\",\"summer\",\"summer\",\"summer\",\"summer\",\"fall\",\"fall\",\"fall\",\"fall\",\"fall\",\"fall\",\"fall\",\"fall\",\"fall\",\"fall\",\"fall\",\"fall\",\"fall\",\"fall\",\"fall\",\"fall\",\"fall\",\"fall\",\"fall\",\"fall\",\"fall\",\"fall\",\"fall\",\"fall\",\"fall\",\"fall\",\"fall\",\"fall\",\"fall\",\"fall\",\"fall\",\"fall\",\"fall\",\"fall\",\"fall\",\"fall\",\"fall\",\"fall\",\"fall\",\"fall\",\"fall\",\"fall\",\"fall\",\"fall\",\"fall\",\"fall\",\"fall\",\"fall\",\"fall\",\"fall\",\"fall\",\"fall\",\"fall\",\"fall\",\"fall\",\"fall\",\"fall\",\"fall\",\"fall\",\"fall\",\"fall\",\"fall\",\"fall\",\"fall\",\"fall\",\"fall\",\"fall\",\"fall\",\"fall\",\"fall\",\"fall\",\"fall\",\"fall\",\"fall\",\"fall\",\"fall\",\"fall\",\"fall\",\"fall\",\"fall\",\"fall\",\"fall\",\"fall\",\"fall\",\"fall\",\"fall\",\"fall\",\"fall\",\"fall\",\"fall\",\"fall\",\"fall\",\"fall\",\"fall\",\"winter\",\"winter\",\"winter\",\"winter\",\"winter\",\"winter\",\"winter\",\"winter\",\"winter\",\"winter\",\"winter\",\"winter\",\"winter\",\"winter\",\"winter\",\"winter\",\"winter\",\"winter\",\"winter\",\"winter\",\"winter\",\"winter\",\"winter\",\"winter\",\"winter\",\"winter\",\"winter\",\"winter\",\"winter\",\"winter\",\"winter\",\"winter\",\"winter\",\"winter\",\"winter\",\"winter\",\"winter\",\"winter\",\"winter\",\"winter\",\"winter\",\"winter\",\"winter\",\"winter\",\"winter\",\"winter\",\"winter\",\"winter\",\"winter\",\"winter\",\"winter\",\"winter\",\"winter\",\"winter\",\"winter\",\"winter\",\"winter\",\"winter\",\"winter\",\"winter\",\"winter\",\"winter\",\"winter\",\"winter\",\"winter\",\"winter\",\"winter\",\"winter\",\"winter\",\"winter\",\"winter\",\"winter\",\"winter\",\"winter\",\"winter\",\"winter\",\"winter\",\"winter\",\"winter\",\"winter\",\"winter\",\"winter\",\"winter\",\"winter\",\"winter\",\"winter\",\"winter\",\"winter\",\"winter\",\"spring\",\"spring\",\"spring\",\"spring\",\"spring\",\"spring\",\"spring\",\"spring\",\"spring\",\"spring\",\"spring\",\"spring\",\"spring\",\"spring\",\"spring\",\"spring\",\"spring\",\"spring\",\"spring\",\"spring\",\"spring\",\"spring\",\"spring\",\"spring\",\"spring\",\"spring\",\"spring\",\"spring\",\"spring\",\"spring\",\"spring\",\"spring\",\"spring\",\"spring\",\"spring\",\"spring\",\"spring\",\"spring\",\"spring\",\"spring\",\"spring\",\"spring\",\"spring\",\"spring\",\"spring\",\"spring\",\"spring\",\"spring\",\"spring\",\"spring\",\"spring\",\"spring\",\"spring\",\"spring\",\"spring\",\"spring\",\"spring\",\"spring\",\"spring\",\"spring\",\"spring\",\"spring\",\"spring\",\"spring\",\"spring\",\"spring\",\"spring\",\"spring\",\"spring\",\"spring\",\"spring\",\"spring\",\"spring\",\"spring\",\"spring\",\"spring\",\"spring\",\"spring\",\"spring\",\"spring\",\"spring\",\"spring\",\"spring\",\"spring\",\"spring\",\"spring\",\"spring\",\"spring\",\"spring\",\"spring\",\"summer\",\"summer\",\"summer\",\"summer\",\"summer\",\"summer\",\"summer\",\"summer\",\"summer\",\"summer\",\"summer\",\"summer\",\"summer\",\"summer\",\"summer\",\"summer\",\"summer\",\"summer\",\"summer\",\"summer\",\"summer\",\"summer\",\"summer\",\"summer\",\"summer\",\"summer\",\"summer\",\"summer\",\"summer\",\"summer\",\"summer\",\"summer\",\"summer\",\"summer\",\"summer\",\"summer\",\"summer\",\"summer\",\"summer\",\"summer\",\"summer\",\"summer\",\"summer\",\"summer\",\"summer\",\"summer\",\"summer\",\"summer\",\"summer\",\"summer\",\"summer\",\"summer\",\"summer\",\"summer\",\"summer\",\"summer\",\"summer\",\"summer\",\"summer\",\"summer\",\"summer\",\"summer\",\"summer\",\"summer\",\"summer\",\"summer\",\"summer\",\"summer\",\"summer\",\"summer\",\"summer\",\"summer\",\"summer\",\"summer\",\"summer\",\"summer\",\"summer\",\"summer\",\"summer\",\"summer\",\"summer\",\"summer\",\"summer\",\"summer\",\"summer\",\"summer\",\"summer\",\"summer\",\"summer\",\"summer\",\"summer\",\"summer\",\"fall\",\"fall\",\"fall\",\"fall\",\"fall\",\"fall\",\"fall\",\"fall\",\"fall\",\"fall\",\"fall\",\"fall\",\"fall\",\"fall\",\"fall\",\"fall\",\"fall\",\"fall\",\"fall\",\"fall\",\"fall\",\"fall\",\"fall\",\"fall\",\"fall\",\"fall\",\"fall\",\"fall\",\"fall\",\"fall\",\"fall\",\"fall\",\"fall\",\"fall\",\"fall\",\"fall\",\"fall\",\"fall\",\"fall\",\"fall\",\"fall\",\"fall\",\"fall\",\"fall\",\"fall\",\"fall\",\"fall\",\"fall\",\"fall\",\"fall\",\"fall\",\"fall\",\"fall\",\"fall\",\"fall\",\"fall\",\"fall\",\"fall\",\"fall\",\"fall\",\"fall\",\"fall\",\"fall\",\"fall\",\"fall\",\"fall\",\"fall\",\"fall\",\"fall\",\"fall\",\"fall\",\"fall\",\"fall\",\"fall\",\"fall\",\"fall\",\"fall\",\"fall\",\"fall\",\"fall\",\"fall\",\"fall\",\"fall\",\"fall\",\"fall\",\"fall\",\"fall\",\"fall\",\"fall\",\"fall\",\"fall\",\"fall\",\"fall\",\"fall\",\"winter\",\"winter\",\"winter\",\"winter\",\"winter\",\"winter\",\"winter\",\"winter\",\"winter\",\"winter\",\"winter\",\"winter\",\"winter\",\"winter\",\"winter\",\"winter\",\"winter\",\"winter\",\"winter\",\"winter\",\"winter\",\"winter\",\"winter\",\"winter\",\"winter\",\"winter\",\"winter\",\"winter\",\"winter\",\"winter\",\"winter\",\"winter\",\"winter\",\"winter\",\"winter\",\"winter\",\"winter\",\"winter\",\"winter\",\"winter\",\"winter\",\"winter\",\"winter\",\"winter\",\"winter\",\"winter\",\"winter\",\"winter\",\"winter\",\"winter\",\"winter\",\"winter\",\"winter\",\"winter\",\"winter\",\"winter\",\"winter\",\"winter\",\"winter\",\"winter\",\"winter\",\"winter\",\"winter\",\"winter\",\"winter\",\"winter\",\"winter\",\"winter\",\"winter\",\"winter\",\"winter\",\"winter\",\"winter\",\"winter\",\"winter\",\"winter\",\"winter\",\"winter\",\"winter\",\"winter\",\"winter\",\"winter\",\"winter\",\"winter\",\"winter\",\"winter\",\"winter\",\"winter\",\"winter\",\"spring\",\"spring\",\"spring\",\"spring\",\"spring\",\"spring\",\"spring\",\"spring\",\"spring\",\"spring\",\"spring\"],\"x0\":\" \",\"xaxis\":\"x\",\"y\":[985,801,1349,1562,1600,1606,1510,959,822,1321,1263,1162,1406,1421,1248,1204,1000,683,1650,1927,1543,981,986,1416,1985,506,431,1167,1098,1096,1501,1360,1526,1550,1708,1005,1623,1712,1530,1605,1538,1746,1472,1589,1913,1815,2115,2475,2927,1635,1812,1107,1450,1917,1807,1461,1969,2402,1446,1851,2134,1685,1944,2077,605,1872,2133,1891,623,1977,2132,2417,2046,2056,2192,2744,3239,3117,2471,2077,2703,2121,1865,2210,2496,1693,2028,2425,1536,1685,2227,2252,3249,3115,1795,2808,3141,1471,2455,2895,3348,2034,2162,3267,3126,795,3744,3429,3204,3944,4189,1683,4036,4191,4073,4400,3872,4058,4595,5312,3351,4401,4451,2633,4433,4608,4714,4333,4362,4803,4182,4864,4105,3409,4553,3958,4123,3855,4575,4917,5805,4660,4274,4492,4978,4677,4679,4758,4788,4098,3982,3974,4968,5312,5342,4906,4548,4833,4401,3915,4586,4966,4460,5020,4891,5180,3767,4844,5119,4744,4010,4835,4507,4790,4991,5202,5305,4708,4648,5225,5515,5362,5119,4649,6043,4665,4629,4592,4040,5336,4881,4086,4258,4342,5084,5538,5923,5302,4458,4541,4332,3784,3387,3285,3606,3840,4590,4656,4390,3846,4475,4302,4266,4845,3574,4576,4866,4294,3785,4326,4602,4780,4792,4905,4150,3820,4338,4725,4694,3805,4153,5191,3873,4758,5895,5130,3542,4661,1115,4334,4634,5204,5058,5115,4727,4484,4940,3351,2710,1996,1842,3544,5345,5046,4713,4763,4785,3659,4760,4511,4274,4539,3641,4352,4795,2395,5423,5010,4630,4120,3907,4839,5202,2429,2918,3570,4456,4826,4765,4985,5409,5511,5117,4563,2416,2913,3644,5217,5041,4570,4748,2424,4195,4304,4308,4381,4187,4687,3894,2659,3747,627,3331,3669,4068,4186,3974,4046,3926,3649,4035,4205,4109,2933,3368,4067,3717,4486,4195,1817,3053,3392,3663,3520,2765,1607,2566,1495,2792,3068,3071,3867,2914,3613,3727,3940,3614,3485,3811,2594,705,3322,3620,3190,2743,3310,3523,3740,3709,3577,2739,2431,3403,3750,2660,3068,2209,1011,754,1317,1162,2302,2423,2999,2485,2294,1951,2236,2368,3272,4098,4521,3425,2376,3598,2177,4097,3214,2493,2311,2298,2935,3376,3292,3163,1301,1977,2432,4339,4270,4075,3456,4023,3243,3624,4509,4579,3761,4151,2832,2947,3784,4375,2802,3830,3831,2169,1529,3422,3922,4169,3005,4154,4318,2689,3129,3777,4773,5062,3487,2732,3389,4322,4363,4990,3194,4066,3423,3333,3956,4916,5382,4569,4118,4911,5298,5847,6312,6192,4378,7836,5892,6153,6093,6230,6871,8362,3372,4996,5558,5102,5698,6133,5459,6235,6041,5936,6772,6436,6457,6460,6857,5169,5585,5918,4862,5409,6398,7460,7132,6370,6691,4367,6565,7290,6624,1027,3214,5633,6196,5026,6233,4220,6304,5572,5740,6169,6421,6296,6883,6359,6273,5728,4717,6572,7030,7429,6118,2843,5115,7424,7384,7639,8294,7129,4359,6073,5260,6770,6734,6536,6591,6043,5743,6855,7338,4127,8120,7641,6998,7001,7055,7494,7736,7498,6598,6664,4972,7421,7363,7665,7702,6978,5099,6825,6211,5905,5823,7458,6891,6779,7442,7335,6879,5463,5687,5531,6227,6660,7403,6241,6207,4840,4672,6569,6290,7264,7446,7499,6969,6031,6830,6786,5713,6591,5870,4459,7410,6966,7592,8173,6861,6904,6685,6597,7105,7216,7580,7261,7175,6824,5464,7013,7273,7534,7286,5786,6299,6544,6883,6784,7347,7605,7148,7865,4549,6530,7006,7375,7765,7582,6053,5255,6917,7040,7697,7713,7350,6140,5810,6034,6864,7112,6203,7504,5976,8227,7525,7767,7870,7804,8009,8714,7333,6869,4073,7591,7720,8167,8395,7907,7436,7538,7733,7393,7415,8555,6889,6778,4639,7572,7328,8156,7965,3510,5478,6392,7691,7570,7282,7109,6639,5875,7534,7461,7509,5424,8090,6824,7058,7466,7693,7359,7444,7852,4459,22,1096,5566,5986,5847,5138,5107,5259,5686,5035,5315,5992,6536,6852,6269,4094,5495,5445,5698,5629,4669,5499,5634,5146,2425,3910,2277,2424,5087,3959,5260,5323,5668,5191,4649,6234,6606,5729,5375,5008,5582,3228,5170,5501,5319,5532,5611,5047,3786,4585,5557,5267,4128,3623,1749,1787,920,1013,441,2114,3095,1341,1796,2729],\"y0\":\" \",\"yaxis\":\"y\",\"type\":\"box\"}],                        {\"template\":{\"data\":{\"histogram2dcontour\":[{\"type\":\"histogram2dcontour\",\"colorbar\":{\"outlinewidth\":0,\"ticks\":\"\"},\"colorscale\":[[0.0,\"#0d0887\"],[0.1111111111111111,\"#46039f\"],[0.2222222222222222,\"#7201a8\"],[0.3333333333333333,\"#9c179e\"],[0.4444444444444444,\"#bd3786\"],[0.5555555555555556,\"#d8576b\"],[0.6666666666666666,\"#ed7953\"],[0.7777777777777778,\"#fb9f3a\"],[0.8888888888888888,\"#fdca26\"],[1.0,\"#f0f921\"]]}],\"choropleth\":[{\"type\":\"choropleth\",\"colorbar\":{\"outlinewidth\":0,\"ticks\":\"\"}}],\"histogram2d\":[{\"type\":\"histogram2d\",\"colorbar\":{\"outlinewidth\":0,\"ticks\":\"\"},\"colorscale\":[[0.0,\"#0d0887\"],[0.1111111111111111,\"#46039f\"],[0.2222222222222222,\"#7201a8\"],[0.3333333333333333,\"#9c179e\"],[0.4444444444444444,\"#bd3786\"],[0.5555555555555556,\"#d8576b\"],[0.6666666666666666,\"#ed7953\"],[0.7777777777777778,\"#fb9f3a\"],[0.8888888888888888,\"#fdca26\"],[1.0,\"#f0f921\"]]}],\"heatmap\":[{\"type\":\"heatmap\",\"colorbar\":{\"outlinewidth\":0,\"ticks\":\"\"},\"colorscale\":[[0.0,\"#0d0887\"],[0.1111111111111111,\"#46039f\"],[0.2222222222222222,\"#7201a8\"],[0.3333333333333333,\"#9c179e\"],[0.4444444444444444,\"#bd3786\"],[0.5555555555555556,\"#d8576b\"],[0.6666666666666666,\"#ed7953\"],[0.7777777777777778,\"#fb9f3a\"],[0.8888888888888888,\"#fdca26\"],[1.0,\"#f0f921\"]]}],\"heatmapgl\":[{\"type\":\"heatmapgl\",\"colorbar\":{\"outlinewidth\":0,\"ticks\":\"\"},\"colorscale\":[[0.0,\"#0d0887\"],[0.1111111111111111,\"#46039f\"],[0.2222222222222222,\"#7201a8\"],[0.3333333333333333,\"#9c179e\"],[0.4444444444444444,\"#bd3786\"],[0.5555555555555556,\"#d8576b\"],[0.6666666666666666,\"#ed7953\"],[0.7777777777777778,\"#fb9f3a\"],[0.8888888888888888,\"#fdca26\"],[1.0,\"#f0f921\"]]}],\"contourcarpet\":[{\"type\":\"contourcarpet\",\"colorbar\":{\"outlinewidth\":0,\"ticks\":\"\"}}],\"contour\":[{\"type\":\"contour\",\"colorbar\":{\"outlinewidth\":0,\"ticks\":\"\"},\"colorscale\":[[0.0,\"#0d0887\"],[0.1111111111111111,\"#46039f\"],[0.2222222222222222,\"#7201a8\"],[0.3333333333333333,\"#9c179e\"],[0.4444444444444444,\"#bd3786\"],[0.5555555555555556,\"#d8576b\"],[0.6666666666666666,\"#ed7953\"],[0.7777777777777778,\"#fb9f3a\"],[0.8888888888888888,\"#fdca26\"],[1.0,\"#f0f921\"]]}],\"surface\":[{\"type\":\"surface\",\"colorbar\":{\"outlinewidth\":0,\"ticks\":\"\"},\"colorscale\":[[0.0,\"#0d0887\"],[0.1111111111111111,\"#46039f\"],[0.2222222222222222,\"#7201a8\"],[0.3333333333333333,\"#9c179e\"],[0.4444444444444444,\"#bd3786\"],[0.5555555555555556,\"#d8576b\"],[0.6666666666666666,\"#ed7953\"],[0.7777777777777778,\"#fb9f3a\"],[0.8888888888888888,\"#fdca26\"],[1.0,\"#f0f921\"]]}],\"mesh3d\":[{\"type\":\"mesh3d\",\"colorbar\":{\"outlinewidth\":0,\"ticks\":\"\"}}],\"scatter\":[{\"fillpattern\":{\"fillmode\":\"overlay\",\"size\":10,\"solidity\":0.2},\"type\":\"scatter\"}],\"parcoords\":[{\"type\":\"parcoords\",\"line\":{\"colorbar\":{\"outlinewidth\":0,\"ticks\":\"\"}}}],\"scatterpolargl\":[{\"type\":\"scatterpolargl\",\"marker\":{\"colorbar\":{\"outlinewidth\":0,\"ticks\":\"\"}}}],\"bar\":[{\"error_x\":{\"color\":\"#2a3f5f\"},\"error_y\":{\"color\":\"#2a3f5f\"},\"marker\":{\"line\":{\"color\":\"#E5ECF6\",\"width\":0.5},\"pattern\":{\"fillmode\":\"overlay\",\"size\":10,\"solidity\":0.2}},\"type\":\"bar\"}],\"scattergeo\":[{\"type\":\"scattergeo\",\"marker\":{\"colorbar\":{\"outlinewidth\":0,\"ticks\":\"\"}}}],\"scatterpolar\":[{\"type\":\"scatterpolar\",\"marker\":{\"colorbar\":{\"outlinewidth\":0,\"ticks\":\"\"}}}],\"histogram\":[{\"marker\":{\"pattern\":{\"fillmode\":\"overlay\",\"size\":10,\"solidity\":0.2}},\"type\":\"histogram\"}],\"scattergl\":[{\"type\":\"scattergl\",\"marker\":{\"colorbar\":{\"outlinewidth\":0,\"ticks\":\"\"}}}],\"scatter3d\":[{\"type\":\"scatter3d\",\"line\":{\"colorbar\":{\"outlinewidth\":0,\"ticks\":\"\"}},\"marker\":{\"colorbar\":{\"outlinewidth\":0,\"ticks\":\"\"}}}],\"scattermapbox\":[{\"type\":\"scattermapbox\",\"marker\":{\"colorbar\":{\"outlinewidth\":0,\"ticks\":\"\"}}}],\"scatterternary\":[{\"type\":\"scatterternary\",\"marker\":{\"colorbar\":{\"outlinewidth\":0,\"ticks\":\"\"}}}],\"scattercarpet\":[{\"type\":\"scattercarpet\",\"marker\":{\"colorbar\":{\"outlinewidth\":0,\"ticks\":\"\"}}}],\"carpet\":[{\"aaxis\":{\"endlinecolor\":\"#2a3f5f\",\"gridcolor\":\"white\",\"linecolor\":\"white\",\"minorgridcolor\":\"white\",\"startlinecolor\":\"#2a3f5f\"},\"baxis\":{\"endlinecolor\":\"#2a3f5f\",\"gridcolor\":\"white\",\"linecolor\":\"white\",\"minorgridcolor\":\"white\",\"startlinecolor\":\"#2a3f5f\"},\"type\":\"carpet\"}],\"table\":[{\"cells\":{\"fill\":{\"color\":\"#EBF0F8\"},\"line\":{\"color\":\"white\"}},\"header\":{\"fill\":{\"color\":\"#C8D4E3\"},\"line\":{\"color\":\"white\"}},\"type\":\"table\"}],\"barpolar\":[{\"marker\":{\"line\":{\"color\":\"#E5ECF6\",\"width\":0.5},\"pattern\":{\"fillmode\":\"overlay\",\"size\":10,\"solidity\":0.2}},\"type\":\"barpolar\"}],\"pie\":[{\"automargin\":true,\"type\":\"pie\"}]},\"layout\":{\"autotypenumbers\":\"strict\",\"colorway\":[\"#636efa\",\"#EF553B\",\"#00cc96\",\"#ab63fa\",\"#FFA15A\",\"#19d3f3\",\"#FF6692\",\"#B6E880\",\"#FF97FF\",\"#FECB52\"],\"font\":{\"color\":\"#2a3f5f\"},\"hovermode\":\"closest\",\"hoverlabel\":{\"align\":\"left\"},\"paper_bgcolor\":\"white\",\"plot_bgcolor\":\"#E5ECF6\",\"polar\":{\"bgcolor\":\"#E5ECF6\",\"angularaxis\":{\"gridcolor\":\"white\",\"linecolor\":\"white\",\"ticks\":\"\"},\"radialaxis\":{\"gridcolor\":\"white\",\"linecolor\":\"white\",\"ticks\":\"\"}},\"ternary\":{\"bgcolor\":\"#E5ECF6\",\"aaxis\":{\"gridcolor\":\"white\",\"linecolor\":\"white\",\"ticks\":\"\"},\"baxis\":{\"gridcolor\":\"white\",\"linecolor\":\"white\",\"ticks\":\"\"},\"caxis\":{\"gridcolor\":\"white\",\"linecolor\":\"white\",\"ticks\":\"\"}},\"coloraxis\":{\"colorbar\":{\"outlinewidth\":0,\"ticks\":\"\"}},\"colorscale\":{\"sequential\":[[0.0,\"#0d0887\"],[0.1111111111111111,\"#46039f\"],[0.2222222222222222,\"#7201a8\"],[0.3333333333333333,\"#9c179e\"],[0.4444444444444444,\"#bd3786\"],[0.5555555555555556,\"#d8576b\"],[0.6666666666666666,\"#ed7953\"],[0.7777777777777778,\"#fb9f3a\"],[0.8888888888888888,\"#fdca26\"],[1.0,\"#f0f921\"]],\"sequentialminus\":[[0.0,\"#0d0887\"],[0.1111111111111111,\"#46039f\"],[0.2222222222222222,\"#7201a8\"],[0.3333333333333333,\"#9c179e\"],[0.4444444444444444,\"#bd3786\"],[0.5555555555555556,\"#d8576b\"],[0.6666666666666666,\"#ed7953\"],[0.7777777777777778,\"#fb9f3a\"],[0.8888888888888888,\"#fdca26\"],[1.0,\"#f0f921\"]],\"diverging\":[[0,\"#8e0152\"],[0.1,\"#c51b7d\"],[0.2,\"#de77ae\"],[0.3,\"#f1b6da\"],[0.4,\"#fde0ef\"],[0.5,\"#f7f7f7\"],[0.6,\"#e6f5d0\"],[0.7,\"#b8e186\"],[0.8,\"#7fbc41\"],[0.9,\"#4d9221\"],[1,\"#276419\"]]},\"xaxis\":{\"gridcolor\":\"white\",\"linecolor\":\"white\",\"ticks\":\"\",\"title\":{\"standoff\":15},\"zerolinecolor\":\"white\",\"automargin\":true,\"zerolinewidth\":2},\"yaxis\":{\"gridcolor\":\"white\",\"linecolor\":\"white\",\"ticks\":\"\",\"title\":{\"standoff\":15},\"zerolinecolor\":\"white\",\"automargin\":true,\"zerolinewidth\":2},\"scene\":{\"xaxis\":{\"backgroundcolor\":\"#E5ECF6\",\"gridcolor\":\"white\",\"linecolor\":\"white\",\"showbackground\":true,\"ticks\":\"\",\"zerolinecolor\":\"white\",\"gridwidth\":2},\"yaxis\":{\"backgroundcolor\":\"#E5ECF6\",\"gridcolor\":\"white\",\"linecolor\":\"white\",\"showbackground\":true,\"ticks\":\"\",\"zerolinecolor\":\"white\",\"gridwidth\":2},\"zaxis\":{\"backgroundcolor\":\"#E5ECF6\",\"gridcolor\":\"white\",\"linecolor\":\"white\",\"showbackground\":true,\"ticks\":\"\",\"zerolinecolor\":\"white\",\"gridwidth\":2}},\"shapedefaults\":{\"line\":{\"color\":\"#2a3f5f\"}},\"annotationdefaults\":{\"arrowcolor\":\"#2a3f5f\",\"arrowhead\":0,\"arrowwidth\":1},\"geo\":{\"bgcolor\":\"white\",\"landcolor\":\"#E5ECF6\",\"subunitcolor\":\"white\",\"showland\":true,\"showlakes\":true,\"lakecolor\":\"white\"},\"title\":{\"x\":0.05},\"mapbox\":{\"style\":\"light\"}}},\"xaxis\":{\"anchor\":\"y\",\"domain\":[0.0,1.0],\"title\":{\"text\":\"season\"}},\"yaxis\":{\"anchor\":\"x\",\"domain\":[0.0,1.0],\"title\":{\"text\":\"cnt\"}},\"legend\":{\"tracegroupgap\":0},\"title\":{\"text\":\"Boxplot of values for season against our target variable cnt\"},\"boxmode\":\"group\"},                        {\"responsive\": true}                    ).then(function(){\n                            \nvar gd = document.getElementById('a960f3b8-14bb-48cd-91f3-6d79d8f9119b');\nvar x = new MutationObserver(function (mutations, observer) {{\n        var display = window.getComputedStyle(gd).display;\n        if (!display || display === 'none') {{\n            console.log([gd, 'removed!']);\n            Plotly.purge(gd);\n            observer.disconnect();\n        }}\n}});\n\n// Listen for the removal of the full notebook cells\nvar notebookContainer = gd.closest('#notebook-container');\nif (notebookContainer) {{\n    x.observe(notebookContainer, {childList: true});\n}}\n\n// Listen for the clearing of the current output cell\nvar outputEl = gd.closest('.output');\nif (outputEl) {{\n    x.observe(outputEl, {childList: true});\n}}\n\n                        })                };                            </script>        </div>\n</body>\n</html>"
     },
     "metadata": {},
     "output_type": "display_data"
    }
   ]
  },
  {
   "cell_type": "code",
   "metadata": {
    "cell_id": "119ef393317c43e49b4461e1a144af61",
    "tags": [],
    "deepnote_to_be_reexecuted": false,
    "source_hash": "a891cabe",
    "execution_start": 1663728012211,
    "execution_millis": 72,
    "deepnote_cell_type": "code",
    "deepnote_cell_height": 1378.25,
    "deepnote_output_heights": [
     null,
     526,
     526
    ]
   },
   "source": "create_feature_analysis(data, 'season')",
   "execution_count": 9,
   "outputs": [
    {
     "name": "stdout",
     "text": "DESCRIPTIVE SUMMARY of season\ncount      730\nunique       4\ntop       fall\nfreq       188\nName: season, dtype: object\n\n\nUNIQUE VALUE COUNT: 4\n",
     "output_type": "stream"
    },
    {
     "data": {
      "text/html": "<html>\n<head><meta charset=\"utf-8\" /></head>\n<body>\n    <div>            <script src=\"https://cdnjs.cloudflare.com/ajax/libs/mathjax/2.7.5/MathJax.js?config=TeX-AMS-MML_SVG\"></script><script type=\"text/javascript\">if (window.MathJax && window.MathJax.Hub && window.MathJax.Hub.Config) {window.MathJax.Hub.Config({SVG: {font: \"STIX-Web\"}});}</script>                <script type=\"text/javascript\">window.PlotlyConfig = {MathJaxConfig: 'local'};</script>\n        <script src=\"https://cdn.plot.ly/plotly-2.14.0.min.js\"></script>                <div id=\"af85608d-a65c-47c0-8067-976b8d68b3ae\" class=\"plotly-graph-div\" style=\"height:525px; width:100%;\"></div>            <script type=\"text/javascript\">                                    window.PLOTLYENV=window.PLOTLYENV || {};                                    if (document.getElementById(\"af85608d-a65c-47c0-8067-976b8d68b3ae\")) {                    Plotly.newPlot(                        \"af85608d-a65c-47c0-8067-976b8d68b3ae\",                        [{\"alignmentgroup\":\"True\",\"bingroup\":\"x\",\"hovertemplate\":\"season=%{x}<br>count=%{y}<extra></extra>\",\"legendgroup\":\"\",\"marker\":{\"color\":\"#636efa\",\"pattern\":{\"shape\":\"\"}},\"name\":\"\",\"offsetgroup\":\"\",\"orientation\":\"v\",\"showlegend\":false,\"x\":[\"spring\",\"spring\",\"spring\",\"spring\",\"spring\",\"spring\",\"spring\",\"spring\",\"spring\",\"spring\",\"spring\",\"spring\",\"spring\",\"spring\",\"spring\",\"spring\",\"spring\",\"spring\",\"spring\",\"spring\",\"spring\",\"spring\",\"spring\",\"spring\",\"spring\",\"spring\",\"spring\",\"spring\",\"spring\",\"spring\",\"spring\",\"spring\",\"spring\",\"spring\",\"spring\",\"spring\",\"spring\",\"spring\",\"spring\",\"spring\",\"spring\",\"spring\",\"spring\",\"spring\",\"spring\",\"spring\",\"spring\",\"spring\",\"spring\",\"spring\",\"spring\",\"spring\",\"spring\",\"spring\",\"spring\",\"spring\",\"spring\",\"spring\",\"spring\",\"spring\",\"spring\",\"spring\",\"spring\",\"spring\",\"spring\",\"spring\",\"spring\",\"spring\",\"spring\",\"spring\",\"spring\",\"spring\",\"spring\",\"spring\",\"spring\",\"spring\",\"spring\",\"spring\",\"spring\",\"summer\",\"summer\",\"summer\",\"summer\",\"summer\",\"summer\",\"summer\",\"summer\",\"summer\",\"summer\",\"summer\",\"summer\",\"summer\",\"summer\",\"summer\",\"summer\",\"summer\",\"summer\",\"summer\",\"summer\",\"summer\",\"summer\",\"summer\",\"summer\",\"summer\",\"summer\",\"summer\",\"summer\",\"summer\",\"summer\",\"summer\",\"summer\",\"summer\",\"summer\",\"summer\",\"summer\",\"summer\",\"summer\",\"summer\",\"summer\",\"summer\",\"summer\",\"summer\",\"summer\",\"summer\",\"summer\",\"summer\",\"summer\",\"summer\",\"summer\",\"summer\",\"summer\",\"summer\",\"summer\",\"summer\",\"summer\",\"summer\",\"summer\",\"summer\",\"summer\",\"summer\",\"summer\",\"summer\",\"summer\",\"summer\",\"summer\",\"summer\",\"summer\",\"summer\",\"summer\",\"summer\",\"summer\",\"summer\",\"summer\",\"summer\",\"summer\",\"summer\",\"summer\",\"summer\",\"summer\",\"summer\",\"summer\",\"summer\",\"summer\",\"summer\",\"summer\",\"summer\",\"summer\",\"summer\",\"summer\",\"summer\",\"summer\",\"fall\",\"fall\",\"fall\",\"fall\",\"fall\",\"fall\",\"fall\",\"fall\",\"fall\",\"fall\",\"fall\",\"fall\",\"fall\",\"fall\",\"fall\",\"fall\",\"fall\",\"fall\",\"fall\",\"fall\",\"fall\",\"fall\",\"fall\",\"fall\",\"fall\",\"fall\",\"fall\",\"fall\",\"fall\",\"fall\",\"fall\",\"fall\",\"fall\",\"fall\",\"fall\",\"fall\",\"fall\",\"fall\",\"fall\",\"fall\",\"fall\",\"fall\",\"fall\",\"fall\",\"fall\",\"fall\",\"fall\",\"fall\",\"fall\",\"fall\",\"fall\",\"fall\",\"fall\",\"fall\",\"fall\",\"fall\",\"fall\",\"fall\",\"fall\",\"fall\",\"fall\",\"fall\",\"fall\",\"fall\",\"fall\",\"fall\",\"fall\",\"fall\",\"fall\",\"fall\",\"fall\",\"fall\",\"fall\",\"fall\",\"fall\",\"fall\",\"fall\",\"fall\",\"fall\",\"fall\",\"fall\",\"fall\",\"fall\",\"fall\",\"fall\",\"fall\",\"fall\",\"fall\",\"fall\",\"fall\",\"fall\",\"fall\",\"fall\",\"fall\",\"winter\",\"winter\",\"winter\",\"winter\",\"winter\",\"winter\",\"winter\",\"winter\",\"winter\",\"winter\",\"winter\",\"winter\",\"winter\",\"winter\",\"winter\",\"winter\",\"winter\",\"winter\",\"winter\",\"winter\",\"winter\",\"winter\",\"winter\",\"winter\",\"winter\",\"winter\",\"winter\",\"winter\",\"winter\",\"winter\",\"winter\",\"winter\",\"winter\",\"winter\",\"winter\",\"winter\",\"winter\",\"winter\",\"winter\",\"winter\",\"winter\",\"winter\",\"winter\",\"winter\",\"winter\",\"winter\",\"winter\",\"winter\",\"winter\",\"winter\",\"winter\",\"winter\",\"winter\",\"winter\",\"winter\",\"winter\",\"winter\",\"winter\",\"winter\",\"winter\",\"winter\",\"winter\",\"winter\",\"winter\",\"winter\",\"winter\",\"winter\",\"winter\",\"winter\",\"winter\",\"winter\",\"winter\",\"winter\",\"winter\",\"winter\",\"winter\",\"winter\",\"winter\",\"winter\",\"winter\",\"winter\",\"winter\",\"winter\",\"winter\",\"winter\",\"winter\",\"winter\",\"winter\",\"winter\",\"spring\",\"spring\",\"spring\",\"spring\",\"spring\",\"spring\",\"spring\",\"spring\",\"spring\",\"spring\",\"spring\",\"spring\",\"spring\",\"spring\",\"spring\",\"spring\",\"spring\",\"spring\",\"spring\",\"spring\",\"spring\",\"spring\",\"spring\",\"spring\",\"spring\",\"spring\",\"spring\",\"spring\",\"spring\",\"spring\",\"spring\",\"spring\",\"spring\",\"spring\",\"spring\",\"spring\",\"spring\",\"spring\",\"spring\",\"spring\",\"spring\",\"spring\",\"spring\",\"spring\",\"spring\",\"spring\",\"spring\",\"spring\",\"spring\",\"spring\",\"spring\",\"spring\",\"spring\",\"spring\",\"spring\",\"spring\",\"spring\",\"spring\",\"spring\",\"spring\",\"spring\",\"spring\",\"spring\",\"spring\",\"spring\",\"spring\",\"spring\",\"spring\",\"spring\",\"spring\",\"spring\",\"spring\",\"spring\",\"spring\",\"spring\",\"spring\",\"spring\",\"spring\",\"spring\",\"spring\",\"spring\",\"spring\",\"spring\",\"spring\",\"spring\",\"spring\",\"spring\",\"spring\",\"spring\",\"spring\",\"summer\",\"summer\",\"summer\",\"summer\",\"summer\",\"summer\",\"summer\",\"summer\",\"summer\",\"summer\",\"summer\",\"summer\",\"summer\",\"summer\",\"summer\",\"summer\",\"summer\",\"summer\",\"summer\",\"summer\",\"summer\",\"summer\",\"summer\",\"summer\",\"summer\",\"summer\",\"summer\",\"summer\",\"summer\",\"summer\",\"summer\",\"summer\",\"summer\",\"summer\",\"summer\",\"summer\",\"summer\",\"summer\",\"summer\",\"summer\",\"summer\",\"summer\",\"summer\",\"summer\",\"summer\",\"summer\",\"summer\",\"summer\",\"summer\",\"summer\",\"summer\",\"summer\",\"summer\",\"summer\",\"summer\",\"summer\",\"summer\",\"summer\",\"summer\",\"summer\",\"summer\",\"summer\",\"summer\",\"summer\",\"summer\",\"summer\",\"summer\",\"summer\",\"summer\",\"summer\",\"summer\",\"summer\",\"summer\",\"summer\",\"summer\",\"summer\",\"summer\",\"summer\",\"summer\",\"summer\",\"summer\",\"summer\",\"summer\",\"summer\",\"summer\",\"summer\",\"summer\",\"summer\",\"summer\",\"summer\",\"summer\",\"summer\",\"fall\",\"fall\",\"fall\",\"fall\",\"fall\",\"fall\",\"fall\",\"fall\",\"fall\",\"fall\",\"fall\",\"fall\",\"fall\",\"fall\",\"fall\",\"fall\",\"fall\",\"fall\",\"fall\",\"fall\",\"fall\",\"fall\",\"fall\",\"fall\",\"fall\",\"fall\",\"fall\",\"fall\",\"fall\",\"fall\",\"fall\",\"fall\",\"fall\",\"fall\",\"fall\",\"fall\",\"fall\",\"fall\",\"fall\",\"fall\",\"fall\",\"fall\",\"fall\",\"fall\",\"fall\",\"fall\",\"fall\",\"fall\",\"fall\",\"fall\",\"fall\",\"fall\",\"fall\",\"fall\",\"fall\",\"fall\",\"fall\",\"fall\",\"fall\",\"fall\",\"fall\",\"fall\",\"fall\",\"fall\",\"fall\",\"fall\",\"fall\",\"fall\",\"fall\",\"fall\",\"fall\",\"fall\",\"fall\",\"fall\",\"fall\",\"fall\",\"fall\",\"fall\",\"fall\",\"fall\",\"fall\",\"fall\",\"fall\",\"fall\",\"fall\",\"fall\",\"fall\",\"fall\",\"fall\",\"fall\",\"fall\",\"fall\",\"fall\",\"fall\",\"winter\",\"winter\",\"winter\",\"winter\",\"winter\",\"winter\",\"winter\",\"winter\",\"winter\",\"winter\",\"winter\",\"winter\",\"winter\",\"winter\",\"winter\",\"winter\",\"winter\",\"winter\",\"winter\",\"winter\",\"winter\",\"winter\",\"winter\",\"winter\",\"winter\",\"winter\",\"winter\",\"winter\",\"winter\",\"winter\",\"winter\",\"winter\",\"winter\",\"winter\",\"winter\",\"winter\",\"winter\",\"winter\",\"winter\",\"winter\",\"winter\",\"winter\",\"winter\",\"winter\",\"winter\",\"winter\",\"winter\",\"winter\",\"winter\",\"winter\",\"winter\",\"winter\",\"winter\",\"winter\",\"winter\",\"winter\",\"winter\",\"winter\",\"winter\",\"winter\",\"winter\",\"winter\",\"winter\",\"winter\",\"winter\",\"winter\",\"winter\",\"winter\",\"winter\",\"winter\",\"winter\",\"winter\",\"winter\",\"winter\",\"winter\",\"winter\",\"winter\",\"winter\",\"winter\",\"winter\",\"winter\",\"winter\",\"winter\",\"winter\",\"winter\",\"winter\",\"winter\",\"winter\",\"winter\",\"spring\",\"spring\",\"spring\",\"spring\",\"spring\",\"spring\",\"spring\",\"spring\",\"spring\",\"spring\",\"spring\"],\"xaxis\":\"x\",\"yaxis\":\"y\",\"type\":\"histogram\"}],                        {\"template\":{\"data\":{\"histogram2dcontour\":[{\"type\":\"histogram2dcontour\",\"colorbar\":{\"outlinewidth\":0,\"ticks\":\"\"},\"colorscale\":[[0.0,\"#0d0887\"],[0.1111111111111111,\"#46039f\"],[0.2222222222222222,\"#7201a8\"],[0.3333333333333333,\"#9c179e\"],[0.4444444444444444,\"#bd3786\"],[0.5555555555555556,\"#d8576b\"],[0.6666666666666666,\"#ed7953\"],[0.7777777777777778,\"#fb9f3a\"],[0.8888888888888888,\"#fdca26\"],[1.0,\"#f0f921\"]]}],\"choropleth\":[{\"type\":\"choropleth\",\"colorbar\":{\"outlinewidth\":0,\"ticks\":\"\"}}],\"histogram2d\":[{\"type\":\"histogram2d\",\"colorbar\":{\"outlinewidth\":0,\"ticks\":\"\"},\"colorscale\":[[0.0,\"#0d0887\"],[0.1111111111111111,\"#46039f\"],[0.2222222222222222,\"#7201a8\"],[0.3333333333333333,\"#9c179e\"],[0.4444444444444444,\"#bd3786\"],[0.5555555555555556,\"#d8576b\"],[0.6666666666666666,\"#ed7953\"],[0.7777777777777778,\"#fb9f3a\"],[0.8888888888888888,\"#fdca26\"],[1.0,\"#f0f921\"]]}],\"heatmap\":[{\"type\":\"heatmap\",\"colorbar\":{\"outlinewidth\":0,\"ticks\":\"\"},\"colorscale\":[[0.0,\"#0d0887\"],[0.1111111111111111,\"#46039f\"],[0.2222222222222222,\"#7201a8\"],[0.3333333333333333,\"#9c179e\"],[0.4444444444444444,\"#bd3786\"],[0.5555555555555556,\"#d8576b\"],[0.6666666666666666,\"#ed7953\"],[0.7777777777777778,\"#fb9f3a\"],[0.8888888888888888,\"#fdca26\"],[1.0,\"#f0f921\"]]}],\"heatmapgl\":[{\"type\":\"heatmapgl\",\"colorbar\":{\"outlinewidth\":0,\"ticks\":\"\"},\"colorscale\":[[0.0,\"#0d0887\"],[0.1111111111111111,\"#46039f\"],[0.2222222222222222,\"#7201a8\"],[0.3333333333333333,\"#9c179e\"],[0.4444444444444444,\"#bd3786\"],[0.5555555555555556,\"#d8576b\"],[0.6666666666666666,\"#ed7953\"],[0.7777777777777778,\"#fb9f3a\"],[0.8888888888888888,\"#fdca26\"],[1.0,\"#f0f921\"]]}],\"contourcarpet\":[{\"type\":\"contourcarpet\",\"colorbar\":{\"outlinewidth\":0,\"ticks\":\"\"}}],\"contour\":[{\"type\":\"contour\",\"colorbar\":{\"outlinewidth\":0,\"ticks\":\"\"},\"colorscale\":[[0.0,\"#0d0887\"],[0.1111111111111111,\"#46039f\"],[0.2222222222222222,\"#7201a8\"],[0.3333333333333333,\"#9c179e\"],[0.4444444444444444,\"#bd3786\"],[0.5555555555555556,\"#d8576b\"],[0.6666666666666666,\"#ed7953\"],[0.7777777777777778,\"#fb9f3a\"],[0.8888888888888888,\"#fdca26\"],[1.0,\"#f0f921\"]]}],\"surface\":[{\"type\":\"surface\",\"colorbar\":{\"outlinewidth\":0,\"ticks\":\"\"},\"colorscale\":[[0.0,\"#0d0887\"],[0.1111111111111111,\"#46039f\"],[0.2222222222222222,\"#7201a8\"],[0.3333333333333333,\"#9c179e\"],[0.4444444444444444,\"#bd3786\"],[0.5555555555555556,\"#d8576b\"],[0.6666666666666666,\"#ed7953\"],[0.7777777777777778,\"#fb9f3a\"],[0.8888888888888888,\"#fdca26\"],[1.0,\"#f0f921\"]]}],\"mesh3d\":[{\"type\":\"mesh3d\",\"colorbar\":{\"outlinewidth\":0,\"ticks\":\"\"}}],\"scatter\":[{\"fillpattern\":{\"fillmode\":\"overlay\",\"size\":10,\"solidity\":0.2},\"type\":\"scatter\"}],\"parcoords\":[{\"type\":\"parcoords\",\"line\":{\"colorbar\":{\"outlinewidth\":0,\"ticks\":\"\"}}}],\"scatterpolargl\":[{\"type\":\"scatterpolargl\",\"marker\":{\"colorbar\":{\"outlinewidth\":0,\"ticks\":\"\"}}}],\"bar\":[{\"error_x\":{\"color\":\"#2a3f5f\"},\"error_y\":{\"color\":\"#2a3f5f\"},\"marker\":{\"line\":{\"color\":\"#E5ECF6\",\"width\":0.5},\"pattern\":{\"fillmode\":\"overlay\",\"size\":10,\"solidity\":0.2}},\"type\":\"bar\"}],\"scattergeo\":[{\"type\":\"scattergeo\",\"marker\":{\"colorbar\":{\"outlinewidth\":0,\"ticks\":\"\"}}}],\"scatterpolar\":[{\"type\":\"scatterpolar\",\"marker\":{\"colorbar\":{\"outlinewidth\":0,\"ticks\":\"\"}}}],\"histogram\":[{\"marker\":{\"pattern\":{\"fillmode\":\"overlay\",\"size\":10,\"solidity\":0.2}},\"type\":\"histogram\"}],\"scattergl\":[{\"type\":\"scattergl\",\"marker\":{\"colorbar\":{\"outlinewidth\":0,\"ticks\":\"\"}}}],\"scatter3d\":[{\"type\":\"scatter3d\",\"line\":{\"colorbar\":{\"outlinewidth\":0,\"ticks\":\"\"}},\"marker\":{\"colorbar\":{\"outlinewidth\":0,\"ticks\":\"\"}}}],\"scattermapbox\":[{\"type\":\"scattermapbox\",\"marker\":{\"colorbar\":{\"outlinewidth\":0,\"ticks\":\"\"}}}],\"scatterternary\":[{\"type\":\"scatterternary\",\"marker\":{\"colorbar\":{\"outlinewidth\":0,\"ticks\":\"\"}}}],\"scattercarpet\":[{\"type\":\"scattercarpet\",\"marker\":{\"colorbar\":{\"outlinewidth\":0,\"ticks\":\"\"}}}],\"carpet\":[{\"aaxis\":{\"endlinecolor\":\"#2a3f5f\",\"gridcolor\":\"white\",\"linecolor\":\"white\",\"minorgridcolor\":\"white\",\"startlinecolor\":\"#2a3f5f\"},\"baxis\":{\"endlinecolor\":\"#2a3f5f\",\"gridcolor\":\"white\",\"linecolor\":\"white\",\"minorgridcolor\":\"white\",\"startlinecolor\":\"#2a3f5f\"},\"type\":\"carpet\"}],\"table\":[{\"cells\":{\"fill\":{\"color\":\"#EBF0F8\"},\"line\":{\"color\":\"white\"}},\"header\":{\"fill\":{\"color\":\"#C8D4E3\"},\"line\":{\"color\":\"white\"}},\"type\":\"table\"}],\"barpolar\":[{\"marker\":{\"line\":{\"color\":\"#E5ECF6\",\"width\":0.5},\"pattern\":{\"fillmode\":\"overlay\",\"size\":10,\"solidity\":0.2}},\"type\":\"barpolar\"}],\"pie\":[{\"automargin\":true,\"type\":\"pie\"}]},\"layout\":{\"autotypenumbers\":\"strict\",\"colorway\":[\"#636efa\",\"#EF553B\",\"#00cc96\",\"#ab63fa\",\"#FFA15A\",\"#19d3f3\",\"#FF6692\",\"#B6E880\",\"#FF97FF\",\"#FECB52\"],\"font\":{\"color\":\"#2a3f5f\"},\"hovermode\":\"closest\",\"hoverlabel\":{\"align\":\"left\"},\"paper_bgcolor\":\"white\",\"plot_bgcolor\":\"#E5ECF6\",\"polar\":{\"bgcolor\":\"#E5ECF6\",\"angularaxis\":{\"gridcolor\":\"white\",\"linecolor\":\"white\",\"ticks\":\"\"},\"radialaxis\":{\"gridcolor\":\"white\",\"linecolor\":\"white\",\"ticks\":\"\"}},\"ternary\":{\"bgcolor\":\"#E5ECF6\",\"aaxis\":{\"gridcolor\":\"white\",\"linecolor\":\"white\",\"ticks\":\"\"},\"baxis\":{\"gridcolor\":\"white\",\"linecolor\":\"white\",\"ticks\":\"\"},\"caxis\":{\"gridcolor\":\"white\",\"linecolor\":\"white\",\"ticks\":\"\"}},\"coloraxis\":{\"colorbar\":{\"outlinewidth\":0,\"ticks\":\"\"}},\"colorscale\":{\"sequential\":[[0.0,\"#0d0887\"],[0.1111111111111111,\"#46039f\"],[0.2222222222222222,\"#7201a8\"],[0.3333333333333333,\"#9c179e\"],[0.4444444444444444,\"#bd3786\"],[0.5555555555555556,\"#d8576b\"],[0.6666666666666666,\"#ed7953\"],[0.7777777777777778,\"#fb9f3a\"],[0.8888888888888888,\"#fdca26\"],[1.0,\"#f0f921\"]],\"sequentialminus\":[[0.0,\"#0d0887\"],[0.1111111111111111,\"#46039f\"],[0.2222222222222222,\"#7201a8\"],[0.3333333333333333,\"#9c179e\"],[0.4444444444444444,\"#bd3786\"],[0.5555555555555556,\"#d8576b\"],[0.6666666666666666,\"#ed7953\"],[0.7777777777777778,\"#fb9f3a\"],[0.8888888888888888,\"#fdca26\"],[1.0,\"#f0f921\"]],\"diverging\":[[0,\"#8e0152\"],[0.1,\"#c51b7d\"],[0.2,\"#de77ae\"],[0.3,\"#f1b6da\"],[0.4,\"#fde0ef\"],[0.5,\"#f7f7f7\"],[0.6,\"#e6f5d0\"],[0.7,\"#b8e186\"],[0.8,\"#7fbc41\"],[0.9,\"#4d9221\"],[1,\"#276419\"]]},\"xaxis\":{\"gridcolor\":\"white\",\"linecolor\":\"white\",\"ticks\":\"\",\"title\":{\"standoff\":15},\"zerolinecolor\":\"white\",\"automargin\":true,\"zerolinewidth\":2},\"yaxis\":{\"gridcolor\":\"white\",\"linecolor\":\"white\",\"ticks\":\"\",\"title\":{\"standoff\":15},\"zerolinecolor\":\"white\",\"automargin\":true,\"zerolinewidth\":2},\"scene\":{\"xaxis\":{\"backgroundcolor\":\"#E5ECF6\",\"gridcolor\":\"white\",\"linecolor\":\"white\",\"showbackground\":true,\"ticks\":\"\",\"zerolinecolor\":\"white\",\"gridwidth\":2},\"yaxis\":{\"backgroundcolor\":\"#E5ECF6\",\"gridcolor\":\"white\",\"linecolor\":\"white\",\"showbackground\":true,\"ticks\":\"\",\"zerolinecolor\":\"white\",\"gridwidth\":2},\"zaxis\":{\"backgroundcolor\":\"#E5ECF6\",\"gridcolor\":\"white\",\"linecolor\":\"white\",\"showbackground\":true,\"ticks\":\"\",\"zerolinecolor\":\"white\",\"gridwidth\":2}},\"shapedefaults\":{\"line\":{\"color\":\"#2a3f5f\"}},\"annotationdefaults\":{\"arrowcolor\":\"#2a3f5f\",\"arrowhead\":0,\"arrowwidth\":1},\"geo\":{\"bgcolor\":\"white\",\"landcolor\":\"#E5ECF6\",\"subunitcolor\":\"white\",\"showland\":true,\"showlakes\":true,\"lakecolor\":\"white\"},\"title\":{\"x\":0.05},\"mapbox\":{\"style\":\"light\"}}},\"xaxis\":{\"anchor\":\"y\",\"domain\":[0.0,1.0],\"title\":{\"text\":\"season\"}},\"yaxis\":{\"anchor\":\"x\",\"domain\":[0.0,1.0],\"title\":{\"text\":\"count\"}},\"legend\":{\"tracegroupgap\":0},\"title\":{\"text\":\"Histogram of values for season\"},\"barmode\":\"relative\"},                        {\"responsive\": true}                    ).then(function(){\n                            \nvar gd = document.getElementById('af85608d-a65c-47c0-8067-976b8d68b3ae');\nvar x = new MutationObserver(function (mutations, observer) {{\n        var display = window.getComputedStyle(gd).display;\n        if (!display || display === 'none') {{\n            console.log([gd, 'removed!']);\n            Plotly.purge(gd);\n            observer.disconnect();\n        }}\n}});\n\n// Listen for the removal of the full notebook cells\nvar notebookContainer = gd.closest('#notebook-container');\nif (notebookContainer) {{\n    x.observe(notebookContainer, {childList: true});\n}}\n\n// Listen for the clearing of the current output cell\nvar outputEl = gd.closest('.output');\nif (outputEl) {{\n    x.observe(outputEl, {childList: true});\n}}\n\n                        })                };                            </script>        </div>\n</body>\n</html>"
     },
     "metadata": {},
     "output_type": "display_data"
    },
    {
     "data": {
      "text/html": "<html>\n<head><meta charset=\"utf-8\" /></head>\n<body>\n    <div>            <script src=\"https://cdnjs.cloudflare.com/ajax/libs/mathjax/2.7.5/MathJax.js?config=TeX-AMS-MML_SVG\"></script><script type=\"text/javascript\">if (window.MathJax && window.MathJax.Hub && window.MathJax.Hub.Config) {window.MathJax.Hub.Config({SVG: {font: \"STIX-Web\"}});}</script>                <script type=\"text/javascript\">window.PlotlyConfig = {MathJaxConfig: 'local'};</script>\n        <script src=\"https://cdn.plot.ly/plotly-2.14.0.min.js\"></script>                <div id=\"9f70e86a-4598-4105-acf3-e8e872a57179\" class=\"plotly-graph-div\" style=\"height:525px; width:100%;\"></div>            <script type=\"text/javascript\">                                    window.PLOTLYENV=window.PLOTLYENV || {};                                    if (document.getElementById(\"9f70e86a-4598-4105-acf3-e8e872a57179\")) {                    Plotly.newPlot(                        \"9f70e86a-4598-4105-acf3-e8e872a57179\",                        [{\"alignmentgroup\":\"True\",\"hovertemplate\":\"season=%{x}<br>cnt=%{y}<extra></extra>\",\"legendgroup\":\"\",\"marker\":{\"color\":\"#636efa\"},\"name\":\"\",\"notched\":false,\"offsetgroup\":\"\",\"orientation\":\"v\",\"showlegend\":false,\"x\":[\"spring\",\"spring\",\"spring\",\"spring\",\"spring\",\"spring\",\"spring\",\"spring\",\"spring\",\"spring\",\"spring\",\"spring\",\"spring\",\"spring\",\"spring\",\"spring\",\"spring\",\"spring\",\"spring\",\"spring\",\"spring\",\"spring\",\"spring\",\"spring\",\"spring\",\"spring\",\"spring\",\"spring\",\"spring\",\"spring\",\"spring\",\"spring\",\"spring\",\"spring\",\"spring\",\"spring\",\"spring\",\"spring\",\"spring\",\"spring\",\"spring\",\"spring\",\"spring\",\"spring\",\"spring\",\"spring\",\"spring\",\"spring\",\"spring\",\"spring\",\"spring\",\"spring\",\"spring\",\"spring\",\"spring\",\"spring\",\"spring\",\"spring\",\"spring\",\"spring\",\"spring\",\"spring\",\"spring\",\"spring\",\"spring\",\"spring\",\"spring\",\"spring\",\"spring\",\"spring\",\"spring\",\"spring\",\"spring\",\"spring\",\"spring\",\"spring\",\"spring\",\"spring\",\"spring\",\"summer\",\"summer\",\"summer\",\"summer\",\"summer\",\"summer\",\"summer\",\"summer\",\"summer\",\"summer\",\"summer\",\"summer\",\"summer\",\"summer\",\"summer\",\"summer\",\"summer\",\"summer\",\"summer\",\"summer\",\"summer\",\"summer\",\"summer\",\"summer\",\"summer\",\"summer\",\"summer\",\"summer\",\"summer\",\"summer\",\"summer\",\"summer\",\"summer\",\"summer\",\"summer\",\"summer\",\"summer\",\"summer\",\"summer\",\"summer\",\"summer\",\"summer\",\"summer\",\"summer\",\"summer\",\"summer\",\"summer\",\"summer\",\"summer\",\"summer\",\"summer\",\"summer\",\"summer\",\"summer\",\"summer\",\"summer\",\"summer\",\"summer\",\"summer\",\"summer\",\"summer\",\"summer\",\"summer\",\"summer\",\"summer\",\"summer\",\"summer\",\"summer\",\"summer\",\"summer\",\"summer\",\"summer\",\"summer\",\"summer\",\"summer\",\"summer\",\"summer\",\"summer\",\"summer\",\"summer\",\"summer\",\"summer\",\"summer\",\"summer\",\"summer\",\"summer\",\"summer\",\"summer\",\"summer\",\"summer\",\"summer\",\"summer\",\"fall\",\"fall\",\"fall\",\"fall\",\"fall\",\"fall\",\"fall\",\"fall\",\"fall\",\"fall\",\"fall\",\"fall\",\"fall\",\"fall\",\"fall\",\"fall\",\"fall\",\"fall\",\"fall\",\"fall\",\"fall\",\"fall\",\"fall\",\"fall\",\"fall\",\"fall\",\"fall\",\"fall\",\"fall\",\"fall\",\"fall\",\"fall\",\"fall\",\"fall\",\"fall\",\"fall\",\"fall\",\"fall\",\"fall\",\"fall\",\"fall\",\"fall\",\"fall\",\"fall\",\"fall\",\"fall\",\"fall\",\"fall\",\"fall\",\"fall\",\"fall\",\"fall\",\"fall\",\"fall\",\"fall\",\"fall\",\"fall\",\"fall\",\"fall\",\"fall\",\"fall\",\"fall\",\"fall\",\"fall\",\"fall\",\"fall\",\"fall\",\"fall\",\"fall\",\"fall\",\"fall\",\"fall\",\"fall\",\"fall\",\"fall\",\"fall\",\"fall\",\"fall\",\"fall\",\"fall\",\"fall\",\"fall\",\"fall\",\"fall\",\"fall\",\"fall\",\"fall\",\"fall\",\"fall\",\"fall\",\"fall\",\"fall\",\"fall\",\"fall\",\"winter\",\"winter\",\"winter\",\"winter\",\"winter\",\"winter\",\"winter\",\"winter\",\"winter\",\"winter\",\"winter\",\"winter\",\"winter\",\"winter\",\"winter\",\"winter\",\"winter\",\"winter\",\"winter\",\"winter\",\"winter\",\"winter\",\"winter\",\"winter\",\"winter\",\"winter\",\"winter\",\"winter\",\"winter\",\"winter\",\"winter\",\"winter\",\"winter\",\"winter\",\"winter\",\"winter\",\"winter\",\"winter\",\"winter\",\"winter\",\"winter\",\"winter\",\"winter\",\"winter\",\"winter\",\"winter\",\"winter\",\"winter\",\"winter\",\"winter\",\"winter\",\"winter\",\"winter\",\"winter\",\"winter\",\"winter\",\"winter\",\"winter\",\"winter\",\"winter\",\"winter\",\"winter\",\"winter\",\"winter\",\"winter\",\"winter\",\"winter\",\"winter\",\"winter\",\"winter\",\"winter\",\"winter\",\"winter\",\"winter\",\"winter\",\"winter\",\"winter\",\"winter\",\"winter\",\"winter\",\"winter\",\"winter\",\"winter\",\"winter\",\"winter\",\"winter\",\"winter\",\"winter\",\"winter\",\"spring\",\"spring\",\"spring\",\"spring\",\"spring\",\"spring\",\"spring\",\"spring\",\"spring\",\"spring\",\"spring\",\"spring\",\"spring\",\"spring\",\"spring\",\"spring\",\"spring\",\"spring\",\"spring\",\"spring\",\"spring\",\"spring\",\"spring\",\"spring\",\"spring\",\"spring\",\"spring\",\"spring\",\"spring\",\"spring\",\"spring\",\"spring\",\"spring\",\"spring\",\"spring\",\"spring\",\"spring\",\"spring\",\"spring\",\"spring\",\"spring\",\"spring\",\"spring\",\"spring\",\"spring\",\"spring\",\"spring\",\"spring\",\"spring\",\"spring\",\"spring\",\"spring\",\"spring\",\"spring\",\"spring\",\"spring\",\"spring\",\"spring\",\"spring\",\"spring\",\"spring\",\"spring\",\"spring\",\"spring\",\"spring\",\"spring\",\"spring\",\"spring\",\"spring\",\"spring\",\"spring\",\"spring\",\"spring\",\"spring\",\"spring\",\"spring\",\"spring\",\"spring\",\"spring\",\"spring\",\"spring\",\"spring\",\"spring\",\"spring\",\"spring\",\"spring\",\"spring\",\"spring\",\"spring\",\"spring\",\"summer\",\"summer\",\"summer\",\"summer\",\"summer\",\"summer\",\"summer\",\"summer\",\"summer\",\"summer\",\"summer\",\"summer\",\"summer\",\"summer\",\"summer\",\"summer\",\"summer\",\"summer\",\"summer\",\"summer\",\"summer\",\"summer\",\"summer\",\"summer\",\"summer\",\"summer\",\"summer\",\"summer\",\"summer\",\"summer\",\"summer\",\"summer\",\"summer\",\"summer\",\"summer\",\"summer\",\"summer\",\"summer\",\"summer\",\"summer\",\"summer\",\"summer\",\"summer\",\"summer\",\"summer\",\"summer\",\"summer\",\"summer\",\"summer\",\"summer\",\"summer\",\"summer\",\"summer\",\"summer\",\"summer\",\"summer\",\"summer\",\"summer\",\"summer\",\"summer\",\"summer\",\"summer\",\"summer\",\"summer\",\"summer\",\"summer\",\"summer\",\"summer\",\"summer\",\"summer\",\"summer\",\"summer\",\"summer\",\"summer\",\"summer\",\"summer\",\"summer\",\"summer\",\"summer\",\"summer\",\"summer\",\"summer\",\"summer\",\"summer\",\"summer\",\"summer\",\"summer\",\"summer\",\"summer\",\"summer\",\"summer\",\"summer\",\"fall\",\"fall\",\"fall\",\"fall\",\"fall\",\"fall\",\"fall\",\"fall\",\"fall\",\"fall\",\"fall\",\"fall\",\"fall\",\"fall\",\"fall\",\"fall\",\"fall\",\"fall\",\"fall\",\"fall\",\"fall\",\"fall\",\"fall\",\"fall\",\"fall\",\"fall\",\"fall\",\"fall\",\"fall\",\"fall\",\"fall\",\"fall\",\"fall\",\"fall\",\"fall\",\"fall\",\"fall\",\"fall\",\"fall\",\"fall\",\"fall\",\"fall\",\"fall\",\"fall\",\"fall\",\"fall\",\"fall\",\"fall\",\"fall\",\"fall\",\"fall\",\"fall\",\"fall\",\"fall\",\"fall\",\"fall\",\"fall\",\"fall\",\"fall\",\"fall\",\"fall\",\"fall\",\"fall\",\"fall\",\"fall\",\"fall\",\"fall\",\"fall\",\"fall\",\"fall\",\"fall\",\"fall\",\"fall\",\"fall\",\"fall\",\"fall\",\"fall\",\"fall\",\"fall\",\"fall\",\"fall\",\"fall\",\"fall\",\"fall\",\"fall\",\"fall\",\"fall\",\"fall\",\"fall\",\"fall\",\"fall\",\"fall\",\"fall\",\"fall\",\"winter\",\"winter\",\"winter\",\"winter\",\"winter\",\"winter\",\"winter\",\"winter\",\"winter\",\"winter\",\"winter\",\"winter\",\"winter\",\"winter\",\"winter\",\"winter\",\"winter\",\"winter\",\"winter\",\"winter\",\"winter\",\"winter\",\"winter\",\"winter\",\"winter\",\"winter\",\"winter\",\"winter\",\"winter\",\"winter\",\"winter\",\"winter\",\"winter\",\"winter\",\"winter\",\"winter\",\"winter\",\"winter\",\"winter\",\"winter\",\"winter\",\"winter\",\"winter\",\"winter\",\"winter\",\"winter\",\"winter\",\"winter\",\"winter\",\"winter\",\"winter\",\"winter\",\"winter\",\"winter\",\"winter\",\"winter\",\"winter\",\"winter\",\"winter\",\"winter\",\"winter\",\"winter\",\"winter\",\"winter\",\"winter\",\"winter\",\"winter\",\"winter\",\"winter\",\"winter\",\"winter\",\"winter\",\"winter\",\"winter\",\"winter\",\"winter\",\"winter\",\"winter\",\"winter\",\"winter\",\"winter\",\"winter\",\"winter\",\"winter\",\"winter\",\"winter\",\"winter\",\"winter\",\"winter\",\"spring\",\"spring\",\"spring\",\"spring\",\"spring\",\"spring\",\"spring\",\"spring\",\"spring\",\"spring\",\"spring\"],\"x0\":\" \",\"xaxis\":\"x\",\"y\":[985,801,1349,1562,1600,1606,1510,959,822,1321,1263,1162,1406,1421,1248,1204,1000,683,1650,1927,1543,981,986,1416,1985,506,431,1167,1098,1096,1501,1360,1526,1550,1708,1005,1623,1712,1530,1605,1538,1746,1472,1589,1913,1815,2115,2475,2927,1635,1812,1107,1450,1917,1807,1461,1969,2402,1446,1851,2134,1685,1944,2077,605,1872,2133,1891,623,1977,2132,2417,2046,2056,2192,2744,3239,3117,2471,2077,2703,2121,1865,2210,2496,1693,2028,2425,1536,1685,2227,2252,3249,3115,1795,2808,3141,1471,2455,2895,3348,2034,2162,3267,3126,795,3744,3429,3204,3944,4189,1683,4036,4191,4073,4400,3872,4058,4595,5312,3351,4401,4451,2633,4433,4608,4714,4333,4362,4803,4182,4864,4105,3409,4553,3958,4123,3855,4575,4917,5805,4660,4274,4492,4978,4677,4679,4758,4788,4098,3982,3974,4968,5312,5342,4906,4548,4833,4401,3915,4586,4966,4460,5020,4891,5180,3767,4844,5119,4744,4010,4835,4507,4790,4991,5202,5305,4708,4648,5225,5515,5362,5119,4649,6043,4665,4629,4592,4040,5336,4881,4086,4258,4342,5084,5538,5923,5302,4458,4541,4332,3784,3387,3285,3606,3840,4590,4656,4390,3846,4475,4302,4266,4845,3574,4576,4866,4294,3785,4326,4602,4780,4792,4905,4150,3820,4338,4725,4694,3805,4153,5191,3873,4758,5895,5130,3542,4661,1115,4334,4634,5204,5058,5115,4727,4484,4940,3351,2710,1996,1842,3544,5345,5046,4713,4763,4785,3659,4760,4511,4274,4539,3641,4352,4795,2395,5423,5010,4630,4120,3907,4839,5202,2429,2918,3570,4456,4826,4765,4985,5409,5511,5117,4563,2416,2913,3644,5217,5041,4570,4748,2424,4195,4304,4308,4381,4187,4687,3894,2659,3747,627,3331,3669,4068,4186,3974,4046,3926,3649,4035,4205,4109,2933,3368,4067,3717,4486,4195,1817,3053,3392,3663,3520,2765,1607,2566,1495,2792,3068,3071,3867,2914,3613,3727,3940,3614,3485,3811,2594,705,3322,3620,3190,2743,3310,3523,3740,3709,3577,2739,2431,3403,3750,2660,3068,2209,1011,754,1317,1162,2302,2423,2999,2485,2294,1951,2236,2368,3272,4098,4521,3425,2376,3598,2177,4097,3214,2493,2311,2298,2935,3376,3292,3163,1301,1977,2432,4339,4270,4075,3456,4023,3243,3624,4509,4579,3761,4151,2832,2947,3784,4375,2802,3830,3831,2169,1529,3422,3922,4169,3005,4154,4318,2689,3129,3777,4773,5062,3487,2732,3389,4322,4363,4990,3194,4066,3423,3333,3956,4916,5382,4569,4118,4911,5298,5847,6312,6192,4378,7836,5892,6153,6093,6230,6871,8362,3372,4996,5558,5102,5698,6133,5459,6235,6041,5936,6772,6436,6457,6460,6857,5169,5585,5918,4862,5409,6398,7460,7132,6370,6691,4367,6565,7290,6624,1027,3214,5633,6196,5026,6233,4220,6304,5572,5740,6169,6421,6296,6883,6359,6273,5728,4717,6572,7030,7429,6118,2843,5115,7424,7384,7639,8294,7129,4359,6073,5260,6770,6734,6536,6591,6043,5743,6855,7338,4127,8120,7641,6998,7001,7055,7494,7736,7498,6598,6664,4972,7421,7363,7665,7702,6978,5099,6825,6211,5905,5823,7458,6891,6779,7442,7335,6879,5463,5687,5531,6227,6660,7403,6241,6207,4840,4672,6569,6290,7264,7446,7499,6969,6031,6830,6786,5713,6591,5870,4459,7410,6966,7592,8173,6861,6904,6685,6597,7105,7216,7580,7261,7175,6824,5464,7013,7273,7534,7286,5786,6299,6544,6883,6784,7347,7605,7148,7865,4549,6530,7006,7375,7765,7582,6053,5255,6917,7040,7697,7713,7350,6140,5810,6034,6864,7112,6203,7504,5976,8227,7525,7767,7870,7804,8009,8714,7333,6869,4073,7591,7720,8167,8395,7907,7436,7538,7733,7393,7415,8555,6889,6778,4639,7572,7328,8156,7965,3510,5478,6392,7691,7570,7282,7109,6639,5875,7534,7461,7509,5424,8090,6824,7058,7466,7693,7359,7444,7852,4459,22,1096,5566,5986,5847,5138,5107,5259,5686,5035,5315,5992,6536,6852,6269,4094,5495,5445,5698,5629,4669,5499,5634,5146,2425,3910,2277,2424,5087,3959,5260,5323,5668,5191,4649,6234,6606,5729,5375,5008,5582,3228,5170,5501,5319,5532,5611,5047,3786,4585,5557,5267,4128,3623,1749,1787,920,1013,441,2114,3095,1341,1796,2729],\"y0\":\" \",\"yaxis\":\"y\",\"type\":\"box\"}],                        {\"template\":{\"data\":{\"histogram2dcontour\":[{\"type\":\"histogram2dcontour\",\"colorbar\":{\"outlinewidth\":0,\"ticks\":\"\"},\"colorscale\":[[0.0,\"#0d0887\"],[0.1111111111111111,\"#46039f\"],[0.2222222222222222,\"#7201a8\"],[0.3333333333333333,\"#9c179e\"],[0.4444444444444444,\"#bd3786\"],[0.5555555555555556,\"#d8576b\"],[0.6666666666666666,\"#ed7953\"],[0.7777777777777778,\"#fb9f3a\"],[0.8888888888888888,\"#fdca26\"],[1.0,\"#f0f921\"]]}],\"choropleth\":[{\"type\":\"choropleth\",\"colorbar\":{\"outlinewidth\":0,\"ticks\":\"\"}}],\"histogram2d\":[{\"type\":\"histogram2d\",\"colorbar\":{\"outlinewidth\":0,\"ticks\":\"\"},\"colorscale\":[[0.0,\"#0d0887\"],[0.1111111111111111,\"#46039f\"],[0.2222222222222222,\"#7201a8\"],[0.3333333333333333,\"#9c179e\"],[0.4444444444444444,\"#bd3786\"],[0.5555555555555556,\"#d8576b\"],[0.6666666666666666,\"#ed7953\"],[0.7777777777777778,\"#fb9f3a\"],[0.8888888888888888,\"#fdca26\"],[1.0,\"#f0f921\"]]}],\"heatmap\":[{\"type\":\"heatmap\",\"colorbar\":{\"outlinewidth\":0,\"ticks\":\"\"},\"colorscale\":[[0.0,\"#0d0887\"],[0.1111111111111111,\"#46039f\"],[0.2222222222222222,\"#7201a8\"],[0.3333333333333333,\"#9c179e\"],[0.4444444444444444,\"#bd3786\"],[0.5555555555555556,\"#d8576b\"],[0.6666666666666666,\"#ed7953\"],[0.7777777777777778,\"#fb9f3a\"],[0.8888888888888888,\"#fdca26\"],[1.0,\"#f0f921\"]]}],\"heatmapgl\":[{\"type\":\"heatmapgl\",\"colorbar\":{\"outlinewidth\":0,\"ticks\":\"\"},\"colorscale\":[[0.0,\"#0d0887\"],[0.1111111111111111,\"#46039f\"],[0.2222222222222222,\"#7201a8\"],[0.3333333333333333,\"#9c179e\"],[0.4444444444444444,\"#bd3786\"],[0.5555555555555556,\"#d8576b\"],[0.6666666666666666,\"#ed7953\"],[0.7777777777777778,\"#fb9f3a\"],[0.8888888888888888,\"#fdca26\"],[1.0,\"#f0f921\"]]}],\"contourcarpet\":[{\"type\":\"contourcarpet\",\"colorbar\":{\"outlinewidth\":0,\"ticks\":\"\"}}],\"contour\":[{\"type\":\"contour\",\"colorbar\":{\"outlinewidth\":0,\"ticks\":\"\"},\"colorscale\":[[0.0,\"#0d0887\"],[0.1111111111111111,\"#46039f\"],[0.2222222222222222,\"#7201a8\"],[0.3333333333333333,\"#9c179e\"],[0.4444444444444444,\"#bd3786\"],[0.5555555555555556,\"#d8576b\"],[0.6666666666666666,\"#ed7953\"],[0.7777777777777778,\"#fb9f3a\"],[0.8888888888888888,\"#fdca26\"],[1.0,\"#f0f921\"]]}],\"surface\":[{\"type\":\"surface\",\"colorbar\":{\"outlinewidth\":0,\"ticks\":\"\"},\"colorscale\":[[0.0,\"#0d0887\"],[0.1111111111111111,\"#46039f\"],[0.2222222222222222,\"#7201a8\"],[0.3333333333333333,\"#9c179e\"],[0.4444444444444444,\"#bd3786\"],[0.5555555555555556,\"#d8576b\"],[0.6666666666666666,\"#ed7953\"],[0.7777777777777778,\"#fb9f3a\"],[0.8888888888888888,\"#fdca26\"],[1.0,\"#f0f921\"]]}],\"mesh3d\":[{\"type\":\"mesh3d\",\"colorbar\":{\"outlinewidth\":0,\"ticks\":\"\"}}],\"scatter\":[{\"fillpattern\":{\"fillmode\":\"overlay\",\"size\":10,\"solidity\":0.2},\"type\":\"scatter\"}],\"parcoords\":[{\"type\":\"parcoords\",\"line\":{\"colorbar\":{\"outlinewidth\":0,\"ticks\":\"\"}}}],\"scatterpolargl\":[{\"type\":\"scatterpolargl\",\"marker\":{\"colorbar\":{\"outlinewidth\":0,\"ticks\":\"\"}}}],\"bar\":[{\"error_x\":{\"color\":\"#2a3f5f\"},\"error_y\":{\"color\":\"#2a3f5f\"},\"marker\":{\"line\":{\"color\":\"#E5ECF6\",\"width\":0.5},\"pattern\":{\"fillmode\":\"overlay\",\"size\":10,\"solidity\":0.2}},\"type\":\"bar\"}],\"scattergeo\":[{\"type\":\"scattergeo\",\"marker\":{\"colorbar\":{\"outlinewidth\":0,\"ticks\":\"\"}}}],\"scatterpolar\":[{\"type\":\"scatterpolar\",\"marker\":{\"colorbar\":{\"outlinewidth\":0,\"ticks\":\"\"}}}],\"histogram\":[{\"marker\":{\"pattern\":{\"fillmode\":\"overlay\",\"size\":10,\"solidity\":0.2}},\"type\":\"histogram\"}],\"scattergl\":[{\"type\":\"scattergl\",\"marker\":{\"colorbar\":{\"outlinewidth\":0,\"ticks\":\"\"}}}],\"scatter3d\":[{\"type\":\"scatter3d\",\"line\":{\"colorbar\":{\"outlinewidth\":0,\"ticks\":\"\"}},\"marker\":{\"colorbar\":{\"outlinewidth\":0,\"ticks\":\"\"}}}],\"scattermapbox\":[{\"type\":\"scattermapbox\",\"marker\":{\"colorbar\":{\"outlinewidth\":0,\"ticks\":\"\"}}}],\"scatterternary\":[{\"type\":\"scatterternary\",\"marker\":{\"colorbar\":{\"outlinewidth\":0,\"ticks\":\"\"}}}],\"scattercarpet\":[{\"type\":\"scattercarpet\",\"marker\":{\"colorbar\":{\"outlinewidth\":0,\"ticks\":\"\"}}}],\"carpet\":[{\"aaxis\":{\"endlinecolor\":\"#2a3f5f\",\"gridcolor\":\"white\",\"linecolor\":\"white\",\"minorgridcolor\":\"white\",\"startlinecolor\":\"#2a3f5f\"},\"baxis\":{\"endlinecolor\":\"#2a3f5f\",\"gridcolor\":\"white\",\"linecolor\":\"white\",\"minorgridcolor\":\"white\",\"startlinecolor\":\"#2a3f5f\"},\"type\":\"carpet\"}],\"table\":[{\"cells\":{\"fill\":{\"color\":\"#EBF0F8\"},\"line\":{\"color\":\"white\"}},\"header\":{\"fill\":{\"color\":\"#C8D4E3\"},\"line\":{\"color\":\"white\"}},\"type\":\"table\"}],\"barpolar\":[{\"marker\":{\"line\":{\"color\":\"#E5ECF6\",\"width\":0.5},\"pattern\":{\"fillmode\":\"overlay\",\"size\":10,\"solidity\":0.2}},\"type\":\"barpolar\"}],\"pie\":[{\"automargin\":true,\"type\":\"pie\"}]},\"layout\":{\"autotypenumbers\":\"strict\",\"colorway\":[\"#636efa\",\"#EF553B\",\"#00cc96\",\"#ab63fa\",\"#FFA15A\",\"#19d3f3\",\"#FF6692\",\"#B6E880\",\"#FF97FF\",\"#FECB52\"],\"font\":{\"color\":\"#2a3f5f\"},\"hovermode\":\"closest\",\"hoverlabel\":{\"align\":\"left\"},\"paper_bgcolor\":\"white\",\"plot_bgcolor\":\"#E5ECF6\",\"polar\":{\"bgcolor\":\"#E5ECF6\",\"angularaxis\":{\"gridcolor\":\"white\",\"linecolor\":\"white\",\"ticks\":\"\"},\"radialaxis\":{\"gridcolor\":\"white\",\"linecolor\":\"white\",\"ticks\":\"\"}},\"ternary\":{\"bgcolor\":\"#E5ECF6\",\"aaxis\":{\"gridcolor\":\"white\",\"linecolor\":\"white\",\"ticks\":\"\"},\"baxis\":{\"gridcolor\":\"white\",\"linecolor\":\"white\",\"ticks\":\"\"},\"caxis\":{\"gridcolor\":\"white\",\"linecolor\":\"white\",\"ticks\":\"\"}},\"coloraxis\":{\"colorbar\":{\"outlinewidth\":0,\"ticks\":\"\"}},\"colorscale\":{\"sequential\":[[0.0,\"#0d0887\"],[0.1111111111111111,\"#46039f\"],[0.2222222222222222,\"#7201a8\"],[0.3333333333333333,\"#9c179e\"],[0.4444444444444444,\"#bd3786\"],[0.5555555555555556,\"#d8576b\"],[0.6666666666666666,\"#ed7953\"],[0.7777777777777778,\"#fb9f3a\"],[0.8888888888888888,\"#fdca26\"],[1.0,\"#f0f921\"]],\"sequentialminus\":[[0.0,\"#0d0887\"],[0.1111111111111111,\"#46039f\"],[0.2222222222222222,\"#7201a8\"],[0.3333333333333333,\"#9c179e\"],[0.4444444444444444,\"#bd3786\"],[0.5555555555555556,\"#d8576b\"],[0.6666666666666666,\"#ed7953\"],[0.7777777777777778,\"#fb9f3a\"],[0.8888888888888888,\"#fdca26\"],[1.0,\"#f0f921\"]],\"diverging\":[[0,\"#8e0152\"],[0.1,\"#c51b7d\"],[0.2,\"#de77ae\"],[0.3,\"#f1b6da\"],[0.4,\"#fde0ef\"],[0.5,\"#f7f7f7\"],[0.6,\"#e6f5d0\"],[0.7,\"#b8e186\"],[0.8,\"#7fbc41\"],[0.9,\"#4d9221\"],[1,\"#276419\"]]},\"xaxis\":{\"gridcolor\":\"white\",\"linecolor\":\"white\",\"ticks\":\"\",\"title\":{\"standoff\":15},\"zerolinecolor\":\"white\",\"automargin\":true,\"zerolinewidth\":2},\"yaxis\":{\"gridcolor\":\"white\",\"linecolor\":\"white\",\"ticks\":\"\",\"title\":{\"standoff\":15},\"zerolinecolor\":\"white\",\"automargin\":true,\"zerolinewidth\":2},\"scene\":{\"xaxis\":{\"backgroundcolor\":\"#E5ECF6\",\"gridcolor\":\"white\",\"linecolor\":\"white\",\"showbackground\":true,\"ticks\":\"\",\"zerolinecolor\":\"white\",\"gridwidth\":2},\"yaxis\":{\"backgroundcolor\":\"#E5ECF6\",\"gridcolor\":\"white\",\"linecolor\":\"white\",\"showbackground\":true,\"ticks\":\"\",\"zerolinecolor\":\"white\",\"gridwidth\":2},\"zaxis\":{\"backgroundcolor\":\"#E5ECF6\",\"gridcolor\":\"white\",\"linecolor\":\"white\",\"showbackground\":true,\"ticks\":\"\",\"zerolinecolor\":\"white\",\"gridwidth\":2}},\"shapedefaults\":{\"line\":{\"color\":\"#2a3f5f\"}},\"annotationdefaults\":{\"arrowcolor\":\"#2a3f5f\",\"arrowhead\":0,\"arrowwidth\":1},\"geo\":{\"bgcolor\":\"white\",\"landcolor\":\"#E5ECF6\",\"subunitcolor\":\"white\",\"showland\":true,\"showlakes\":true,\"lakecolor\":\"white\"},\"title\":{\"x\":0.05},\"mapbox\":{\"style\":\"light\"}}},\"xaxis\":{\"anchor\":\"y\",\"domain\":[0.0,1.0],\"title\":{\"text\":\"season\"}},\"yaxis\":{\"anchor\":\"x\",\"domain\":[0.0,1.0],\"title\":{\"text\":\"cnt\"}},\"legend\":{\"tracegroupgap\":0},\"title\":{\"text\":\"Boxplot of values for season against our target variable cnt\"},\"boxmode\":\"group\"},                        {\"responsive\": true}                    ).then(function(){\n                            \nvar gd = document.getElementById('9f70e86a-4598-4105-acf3-e8e872a57179');\nvar x = new MutationObserver(function (mutations, observer) {{\n        var display = window.getComputedStyle(gd).display;\n        if (!display || display === 'none') {{\n            console.log([gd, 'removed!']);\n            Plotly.purge(gd);\n            observer.disconnect();\n        }}\n}});\n\n// Listen for the removal of the full notebook cells\nvar notebookContainer = gd.closest('#notebook-container');\nif (notebookContainer) {{\n    x.observe(notebookContainer, {childList: true});\n}}\n\n// Listen for the clearing of the current output cell\nvar outputEl = gd.closest('.output');\nif (outputEl) {{\n    x.observe(outputEl, {childList: true});\n}}\n\n                        })                };                            </script>        </div>\n</body>\n</html>"
     },
     "metadata": {},
     "output_type": "display_data"
    }
   ]
  },
  {
   "cell_type": "code",
   "metadata": {
    "cell_id": "269752285b3647a3b8852f37b96b9243",
    "tags": [],
    "deepnote_to_be_reexecuted": false,
    "source_hash": "a891cabe",
    "execution_start": 1663728012294,
    "execution_millis": 89,
    "deepnote_cell_type": "code",
    "deepnote_cell_height": 1378.25,
    "deepnote_output_heights": [
     null,
     526,
     526
    ]
   },
   "source": "create_feature_analysis(data, 'season')",
   "execution_count": 10,
   "outputs": [
    {
     "name": "stdout",
     "text": "DESCRIPTIVE SUMMARY of season\ncount      730\nunique       4\ntop       fall\nfreq       188\nName: season, dtype: object\n\n\nUNIQUE VALUE COUNT: 4\n",
     "output_type": "stream"
    },
    {
     "data": {
      "text/html": "<html>\n<head><meta charset=\"utf-8\" /></head>\n<body>\n    <div>            <script src=\"https://cdnjs.cloudflare.com/ajax/libs/mathjax/2.7.5/MathJax.js?config=TeX-AMS-MML_SVG\"></script><script type=\"text/javascript\">if (window.MathJax && window.MathJax.Hub && window.MathJax.Hub.Config) {window.MathJax.Hub.Config({SVG: {font: \"STIX-Web\"}});}</script>                <script type=\"text/javascript\">window.PlotlyConfig = {MathJaxConfig: 'local'};</script>\n        <script src=\"https://cdn.plot.ly/plotly-2.14.0.min.js\"></script>                <div id=\"26d1a48d-386f-4900-889a-1a70d2e8f45a\" class=\"plotly-graph-div\" style=\"height:525px; width:100%;\"></div>            <script type=\"text/javascript\">                                    window.PLOTLYENV=window.PLOTLYENV || {};                                    if (document.getElementById(\"26d1a48d-386f-4900-889a-1a70d2e8f45a\")) {                    Plotly.newPlot(                        \"26d1a48d-386f-4900-889a-1a70d2e8f45a\",                        [{\"alignmentgroup\":\"True\",\"bingroup\":\"x\",\"hovertemplate\":\"season=%{x}<br>count=%{y}<extra></extra>\",\"legendgroup\":\"\",\"marker\":{\"color\":\"#636efa\",\"pattern\":{\"shape\":\"\"}},\"name\":\"\",\"offsetgroup\":\"\",\"orientation\":\"v\",\"showlegend\":false,\"x\":[\"spring\",\"spring\",\"spring\",\"spring\",\"spring\",\"spring\",\"spring\",\"spring\",\"spring\",\"spring\",\"spring\",\"spring\",\"spring\",\"spring\",\"spring\",\"spring\",\"spring\",\"spring\",\"spring\",\"spring\",\"spring\",\"spring\",\"spring\",\"spring\",\"spring\",\"spring\",\"spring\",\"spring\",\"spring\",\"spring\",\"spring\",\"spring\",\"spring\",\"spring\",\"spring\",\"spring\",\"spring\",\"spring\",\"spring\",\"spring\",\"spring\",\"spring\",\"spring\",\"spring\",\"spring\",\"spring\",\"spring\",\"spring\",\"spring\",\"spring\",\"spring\",\"spring\",\"spring\",\"spring\",\"spring\",\"spring\",\"spring\",\"spring\",\"spring\",\"spring\",\"spring\",\"spring\",\"spring\",\"spring\",\"spring\",\"spring\",\"spring\",\"spring\",\"spring\",\"spring\",\"spring\",\"spring\",\"spring\",\"spring\",\"spring\",\"spring\",\"spring\",\"spring\",\"spring\",\"summer\",\"summer\",\"summer\",\"summer\",\"summer\",\"summer\",\"summer\",\"summer\",\"summer\",\"summer\",\"summer\",\"summer\",\"summer\",\"summer\",\"summer\",\"summer\",\"summer\",\"summer\",\"summer\",\"summer\",\"summer\",\"summer\",\"summer\",\"summer\",\"summer\",\"summer\",\"summer\",\"summer\",\"summer\",\"summer\",\"summer\",\"summer\",\"summer\",\"summer\",\"summer\",\"summer\",\"summer\",\"summer\",\"summer\",\"summer\",\"summer\",\"summer\",\"summer\",\"summer\",\"summer\",\"summer\",\"summer\",\"summer\",\"summer\",\"summer\",\"summer\",\"summer\",\"summer\",\"summer\",\"summer\",\"summer\",\"summer\",\"summer\",\"summer\",\"summer\",\"summer\",\"summer\",\"summer\",\"summer\",\"summer\",\"summer\",\"summer\",\"summer\",\"summer\",\"summer\",\"summer\",\"summer\",\"summer\",\"summer\",\"summer\",\"summer\",\"summer\",\"summer\",\"summer\",\"summer\",\"summer\",\"summer\",\"summer\",\"summer\",\"summer\",\"summer\",\"summer\",\"summer\",\"summer\",\"summer\",\"summer\",\"summer\",\"fall\",\"fall\",\"fall\",\"fall\",\"fall\",\"fall\",\"fall\",\"fall\",\"fall\",\"fall\",\"fall\",\"fall\",\"fall\",\"fall\",\"fall\",\"fall\",\"fall\",\"fall\",\"fall\",\"fall\",\"fall\",\"fall\",\"fall\",\"fall\",\"fall\",\"fall\",\"fall\",\"fall\",\"fall\",\"fall\",\"fall\",\"fall\",\"fall\",\"fall\",\"fall\",\"fall\",\"fall\",\"fall\",\"fall\",\"fall\",\"fall\",\"fall\",\"fall\",\"fall\",\"fall\",\"fall\",\"fall\",\"fall\",\"fall\",\"fall\",\"fall\",\"fall\",\"fall\",\"fall\",\"fall\",\"fall\",\"fall\",\"fall\",\"fall\",\"fall\",\"fall\",\"fall\",\"fall\",\"fall\",\"fall\",\"fall\",\"fall\",\"fall\",\"fall\",\"fall\",\"fall\",\"fall\",\"fall\",\"fall\",\"fall\",\"fall\",\"fall\",\"fall\",\"fall\",\"fall\",\"fall\",\"fall\",\"fall\",\"fall\",\"fall\",\"fall\",\"fall\",\"fall\",\"fall\",\"fall\",\"fall\",\"fall\",\"fall\",\"fall\",\"winter\",\"winter\",\"winter\",\"winter\",\"winter\",\"winter\",\"winter\",\"winter\",\"winter\",\"winter\",\"winter\",\"winter\",\"winter\",\"winter\",\"winter\",\"winter\",\"winter\",\"winter\",\"winter\",\"winter\",\"winter\",\"winter\",\"winter\",\"winter\",\"winter\",\"winter\",\"winter\",\"winter\",\"winter\",\"winter\",\"winter\",\"winter\",\"winter\",\"winter\",\"winter\",\"winter\",\"winter\",\"winter\",\"winter\",\"winter\",\"winter\",\"winter\",\"winter\",\"winter\",\"winter\",\"winter\",\"winter\",\"winter\",\"winter\",\"winter\",\"winter\",\"winter\",\"winter\",\"winter\",\"winter\",\"winter\",\"winter\",\"winter\",\"winter\",\"winter\",\"winter\",\"winter\",\"winter\",\"winter\",\"winter\",\"winter\",\"winter\",\"winter\",\"winter\",\"winter\",\"winter\",\"winter\",\"winter\",\"winter\",\"winter\",\"winter\",\"winter\",\"winter\",\"winter\",\"winter\",\"winter\",\"winter\",\"winter\",\"winter\",\"winter\",\"winter\",\"winter\",\"winter\",\"winter\",\"spring\",\"spring\",\"spring\",\"spring\",\"spring\",\"spring\",\"spring\",\"spring\",\"spring\",\"spring\",\"spring\",\"spring\",\"spring\",\"spring\",\"spring\",\"spring\",\"spring\",\"spring\",\"spring\",\"spring\",\"spring\",\"spring\",\"spring\",\"spring\",\"spring\",\"spring\",\"spring\",\"spring\",\"spring\",\"spring\",\"spring\",\"spring\",\"spring\",\"spring\",\"spring\",\"spring\",\"spring\",\"spring\",\"spring\",\"spring\",\"spring\",\"spring\",\"spring\",\"spring\",\"spring\",\"spring\",\"spring\",\"spring\",\"spring\",\"spring\",\"spring\",\"spring\",\"spring\",\"spring\",\"spring\",\"spring\",\"spring\",\"spring\",\"spring\",\"spring\",\"spring\",\"spring\",\"spring\",\"spring\",\"spring\",\"spring\",\"spring\",\"spring\",\"spring\",\"spring\",\"spring\",\"spring\",\"spring\",\"spring\",\"spring\",\"spring\",\"spring\",\"spring\",\"spring\",\"spring\",\"spring\",\"spring\",\"spring\",\"spring\",\"spring\",\"spring\",\"spring\",\"spring\",\"spring\",\"spring\",\"summer\",\"summer\",\"summer\",\"summer\",\"summer\",\"summer\",\"summer\",\"summer\",\"summer\",\"summer\",\"summer\",\"summer\",\"summer\",\"summer\",\"summer\",\"summer\",\"summer\",\"summer\",\"summer\",\"summer\",\"summer\",\"summer\",\"summer\",\"summer\",\"summer\",\"summer\",\"summer\",\"summer\",\"summer\",\"summer\",\"summer\",\"summer\",\"summer\",\"summer\",\"summer\",\"summer\",\"summer\",\"summer\",\"summer\",\"summer\",\"summer\",\"summer\",\"summer\",\"summer\",\"summer\",\"summer\",\"summer\",\"summer\",\"summer\",\"summer\",\"summer\",\"summer\",\"summer\",\"summer\",\"summer\",\"summer\",\"summer\",\"summer\",\"summer\",\"summer\",\"summer\",\"summer\",\"summer\",\"summer\",\"summer\",\"summer\",\"summer\",\"summer\",\"summer\",\"summer\",\"summer\",\"summer\",\"summer\",\"summer\",\"summer\",\"summer\",\"summer\",\"summer\",\"summer\",\"summer\",\"summer\",\"summer\",\"summer\",\"summer\",\"summer\",\"summer\",\"summer\",\"summer\",\"summer\",\"summer\",\"summer\",\"summer\",\"fall\",\"fall\",\"fall\",\"fall\",\"fall\",\"fall\",\"fall\",\"fall\",\"fall\",\"fall\",\"fall\",\"fall\",\"fall\",\"fall\",\"fall\",\"fall\",\"fall\",\"fall\",\"fall\",\"fall\",\"fall\",\"fall\",\"fall\",\"fall\",\"fall\",\"fall\",\"fall\",\"fall\",\"fall\",\"fall\",\"fall\",\"fall\",\"fall\",\"fall\",\"fall\",\"fall\",\"fall\",\"fall\",\"fall\",\"fall\",\"fall\",\"fall\",\"fall\",\"fall\",\"fall\",\"fall\",\"fall\",\"fall\",\"fall\",\"fall\",\"fall\",\"fall\",\"fall\",\"fall\",\"fall\",\"fall\",\"fall\",\"fall\",\"fall\",\"fall\",\"fall\",\"fall\",\"fall\",\"fall\",\"fall\",\"fall\",\"fall\",\"fall\",\"fall\",\"fall\",\"fall\",\"fall\",\"fall\",\"fall\",\"fall\",\"fall\",\"fall\",\"fall\",\"fall\",\"fall\",\"fall\",\"fall\",\"fall\",\"fall\",\"fall\",\"fall\",\"fall\",\"fall\",\"fall\",\"fall\",\"fall\",\"fall\",\"fall\",\"fall\",\"winter\",\"winter\",\"winter\",\"winter\",\"winter\",\"winter\",\"winter\",\"winter\",\"winter\",\"winter\",\"winter\",\"winter\",\"winter\",\"winter\",\"winter\",\"winter\",\"winter\",\"winter\",\"winter\",\"winter\",\"winter\",\"winter\",\"winter\",\"winter\",\"winter\",\"winter\",\"winter\",\"winter\",\"winter\",\"winter\",\"winter\",\"winter\",\"winter\",\"winter\",\"winter\",\"winter\",\"winter\",\"winter\",\"winter\",\"winter\",\"winter\",\"winter\",\"winter\",\"winter\",\"winter\",\"winter\",\"winter\",\"winter\",\"winter\",\"winter\",\"winter\",\"winter\",\"winter\",\"winter\",\"winter\",\"winter\",\"winter\",\"winter\",\"winter\",\"winter\",\"winter\",\"winter\",\"winter\",\"winter\",\"winter\",\"winter\",\"winter\",\"winter\",\"winter\",\"winter\",\"winter\",\"winter\",\"winter\",\"winter\",\"winter\",\"winter\",\"winter\",\"winter\",\"winter\",\"winter\",\"winter\",\"winter\",\"winter\",\"winter\",\"winter\",\"winter\",\"winter\",\"winter\",\"winter\",\"spring\",\"spring\",\"spring\",\"spring\",\"spring\",\"spring\",\"spring\",\"spring\",\"spring\",\"spring\",\"spring\"],\"xaxis\":\"x\",\"yaxis\":\"y\",\"type\":\"histogram\"}],                        {\"template\":{\"data\":{\"histogram2dcontour\":[{\"type\":\"histogram2dcontour\",\"colorbar\":{\"outlinewidth\":0,\"ticks\":\"\"},\"colorscale\":[[0.0,\"#0d0887\"],[0.1111111111111111,\"#46039f\"],[0.2222222222222222,\"#7201a8\"],[0.3333333333333333,\"#9c179e\"],[0.4444444444444444,\"#bd3786\"],[0.5555555555555556,\"#d8576b\"],[0.6666666666666666,\"#ed7953\"],[0.7777777777777778,\"#fb9f3a\"],[0.8888888888888888,\"#fdca26\"],[1.0,\"#f0f921\"]]}],\"choropleth\":[{\"type\":\"choropleth\",\"colorbar\":{\"outlinewidth\":0,\"ticks\":\"\"}}],\"histogram2d\":[{\"type\":\"histogram2d\",\"colorbar\":{\"outlinewidth\":0,\"ticks\":\"\"},\"colorscale\":[[0.0,\"#0d0887\"],[0.1111111111111111,\"#46039f\"],[0.2222222222222222,\"#7201a8\"],[0.3333333333333333,\"#9c179e\"],[0.4444444444444444,\"#bd3786\"],[0.5555555555555556,\"#d8576b\"],[0.6666666666666666,\"#ed7953\"],[0.7777777777777778,\"#fb9f3a\"],[0.8888888888888888,\"#fdca26\"],[1.0,\"#f0f921\"]]}],\"heatmap\":[{\"type\":\"heatmap\",\"colorbar\":{\"outlinewidth\":0,\"ticks\":\"\"},\"colorscale\":[[0.0,\"#0d0887\"],[0.1111111111111111,\"#46039f\"],[0.2222222222222222,\"#7201a8\"],[0.3333333333333333,\"#9c179e\"],[0.4444444444444444,\"#bd3786\"],[0.5555555555555556,\"#d8576b\"],[0.6666666666666666,\"#ed7953\"],[0.7777777777777778,\"#fb9f3a\"],[0.8888888888888888,\"#fdca26\"],[1.0,\"#f0f921\"]]}],\"heatmapgl\":[{\"type\":\"heatmapgl\",\"colorbar\":{\"outlinewidth\":0,\"ticks\":\"\"},\"colorscale\":[[0.0,\"#0d0887\"],[0.1111111111111111,\"#46039f\"],[0.2222222222222222,\"#7201a8\"],[0.3333333333333333,\"#9c179e\"],[0.4444444444444444,\"#bd3786\"],[0.5555555555555556,\"#d8576b\"],[0.6666666666666666,\"#ed7953\"],[0.7777777777777778,\"#fb9f3a\"],[0.8888888888888888,\"#fdca26\"],[1.0,\"#f0f921\"]]}],\"contourcarpet\":[{\"type\":\"contourcarpet\",\"colorbar\":{\"outlinewidth\":0,\"ticks\":\"\"}}],\"contour\":[{\"type\":\"contour\",\"colorbar\":{\"outlinewidth\":0,\"ticks\":\"\"},\"colorscale\":[[0.0,\"#0d0887\"],[0.1111111111111111,\"#46039f\"],[0.2222222222222222,\"#7201a8\"],[0.3333333333333333,\"#9c179e\"],[0.4444444444444444,\"#bd3786\"],[0.5555555555555556,\"#d8576b\"],[0.6666666666666666,\"#ed7953\"],[0.7777777777777778,\"#fb9f3a\"],[0.8888888888888888,\"#fdca26\"],[1.0,\"#f0f921\"]]}],\"surface\":[{\"type\":\"surface\",\"colorbar\":{\"outlinewidth\":0,\"ticks\":\"\"},\"colorscale\":[[0.0,\"#0d0887\"],[0.1111111111111111,\"#46039f\"],[0.2222222222222222,\"#7201a8\"],[0.3333333333333333,\"#9c179e\"],[0.4444444444444444,\"#bd3786\"],[0.5555555555555556,\"#d8576b\"],[0.6666666666666666,\"#ed7953\"],[0.7777777777777778,\"#fb9f3a\"],[0.8888888888888888,\"#fdca26\"],[1.0,\"#f0f921\"]]}],\"mesh3d\":[{\"type\":\"mesh3d\",\"colorbar\":{\"outlinewidth\":0,\"ticks\":\"\"}}],\"scatter\":[{\"fillpattern\":{\"fillmode\":\"overlay\",\"size\":10,\"solidity\":0.2},\"type\":\"scatter\"}],\"parcoords\":[{\"type\":\"parcoords\",\"line\":{\"colorbar\":{\"outlinewidth\":0,\"ticks\":\"\"}}}],\"scatterpolargl\":[{\"type\":\"scatterpolargl\",\"marker\":{\"colorbar\":{\"outlinewidth\":0,\"ticks\":\"\"}}}],\"bar\":[{\"error_x\":{\"color\":\"#2a3f5f\"},\"error_y\":{\"color\":\"#2a3f5f\"},\"marker\":{\"line\":{\"color\":\"#E5ECF6\",\"width\":0.5},\"pattern\":{\"fillmode\":\"overlay\",\"size\":10,\"solidity\":0.2}},\"type\":\"bar\"}],\"scattergeo\":[{\"type\":\"scattergeo\",\"marker\":{\"colorbar\":{\"outlinewidth\":0,\"ticks\":\"\"}}}],\"scatterpolar\":[{\"type\":\"scatterpolar\",\"marker\":{\"colorbar\":{\"outlinewidth\":0,\"ticks\":\"\"}}}],\"histogram\":[{\"marker\":{\"pattern\":{\"fillmode\":\"overlay\",\"size\":10,\"solidity\":0.2}},\"type\":\"histogram\"}],\"scattergl\":[{\"type\":\"scattergl\",\"marker\":{\"colorbar\":{\"outlinewidth\":0,\"ticks\":\"\"}}}],\"scatter3d\":[{\"type\":\"scatter3d\",\"line\":{\"colorbar\":{\"outlinewidth\":0,\"ticks\":\"\"}},\"marker\":{\"colorbar\":{\"outlinewidth\":0,\"ticks\":\"\"}}}],\"scattermapbox\":[{\"type\":\"scattermapbox\",\"marker\":{\"colorbar\":{\"outlinewidth\":0,\"ticks\":\"\"}}}],\"scatterternary\":[{\"type\":\"scatterternary\",\"marker\":{\"colorbar\":{\"outlinewidth\":0,\"ticks\":\"\"}}}],\"scattercarpet\":[{\"type\":\"scattercarpet\",\"marker\":{\"colorbar\":{\"outlinewidth\":0,\"ticks\":\"\"}}}],\"carpet\":[{\"aaxis\":{\"endlinecolor\":\"#2a3f5f\",\"gridcolor\":\"white\",\"linecolor\":\"white\",\"minorgridcolor\":\"white\",\"startlinecolor\":\"#2a3f5f\"},\"baxis\":{\"endlinecolor\":\"#2a3f5f\",\"gridcolor\":\"white\",\"linecolor\":\"white\",\"minorgridcolor\":\"white\",\"startlinecolor\":\"#2a3f5f\"},\"type\":\"carpet\"}],\"table\":[{\"cells\":{\"fill\":{\"color\":\"#EBF0F8\"},\"line\":{\"color\":\"white\"}},\"header\":{\"fill\":{\"color\":\"#C8D4E3\"},\"line\":{\"color\":\"white\"}},\"type\":\"table\"}],\"barpolar\":[{\"marker\":{\"line\":{\"color\":\"#E5ECF6\",\"width\":0.5},\"pattern\":{\"fillmode\":\"overlay\",\"size\":10,\"solidity\":0.2}},\"type\":\"barpolar\"}],\"pie\":[{\"automargin\":true,\"type\":\"pie\"}]},\"layout\":{\"autotypenumbers\":\"strict\",\"colorway\":[\"#636efa\",\"#EF553B\",\"#00cc96\",\"#ab63fa\",\"#FFA15A\",\"#19d3f3\",\"#FF6692\",\"#B6E880\",\"#FF97FF\",\"#FECB52\"],\"font\":{\"color\":\"#2a3f5f\"},\"hovermode\":\"closest\",\"hoverlabel\":{\"align\":\"left\"},\"paper_bgcolor\":\"white\",\"plot_bgcolor\":\"#E5ECF6\",\"polar\":{\"bgcolor\":\"#E5ECF6\",\"angularaxis\":{\"gridcolor\":\"white\",\"linecolor\":\"white\",\"ticks\":\"\"},\"radialaxis\":{\"gridcolor\":\"white\",\"linecolor\":\"white\",\"ticks\":\"\"}},\"ternary\":{\"bgcolor\":\"#E5ECF6\",\"aaxis\":{\"gridcolor\":\"white\",\"linecolor\":\"white\",\"ticks\":\"\"},\"baxis\":{\"gridcolor\":\"white\",\"linecolor\":\"white\",\"ticks\":\"\"},\"caxis\":{\"gridcolor\":\"white\",\"linecolor\":\"white\",\"ticks\":\"\"}},\"coloraxis\":{\"colorbar\":{\"outlinewidth\":0,\"ticks\":\"\"}},\"colorscale\":{\"sequential\":[[0.0,\"#0d0887\"],[0.1111111111111111,\"#46039f\"],[0.2222222222222222,\"#7201a8\"],[0.3333333333333333,\"#9c179e\"],[0.4444444444444444,\"#bd3786\"],[0.5555555555555556,\"#d8576b\"],[0.6666666666666666,\"#ed7953\"],[0.7777777777777778,\"#fb9f3a\"],[0.8888888888888888,\"#fdca26\"],[1.0,\"#f0f921\"]],\"sequentialminus\":[[0.0,\"#0d0887\"],[0.1111111111111111,\"#46039f\"],[0.2222222222222222,\"#7201a8\"],[0.3333333333333333,\"#9c179e\"],[0.4444444444444444,\"#bd3786\"],[0.5555555555555556,\"#d8576b\"],[0.6666666666666666,\"#ed7953\"],[0.7777777777777778,\"#fb9f3a\"],[0.8888888888888888,\"#fdca26\"],[1.0,\"#f0f921\"]],\"diverging\":[[0,\"#8e0152\"],[0.1,\"#c51b7d\"],[0.2,\"#de77ae\"],[0.3,\"#f1b6da\"],[0.4,\"#fde0ef\"],[0.5,\"#f7f7f7\"],[0.6,\"#e6f5d0\"],[0.7,\"#b8e186\"],[0.8,\"#7fbc41\"],[0.9,\"#4d9221\"],[1,\"#276419\"]]},\"xaxis\":{\"gridcolor\":\"white\",\"linecolor\":\"white\",\"ticks\":\"\",\"title\":{\"standoff\":15},\"zerolinecolor\":\"white\",\"automargin\":true,\"zerolinewidth\":2},\"yaxis\":{\"gridcolor\":\"white\",\"linecolor\":\"white\",\"ticks\":\"\",\"title\":{\"standoff\":15},\"zerolinecolor\":\"white\",\"automargin\":true,\"zerolinewidth\":2},\"scene\":{\"xaxis\":{\"backgroundcolor\":\"#E5ECF6\",\"gridcolor\":\"white\",\"linecolor\":\"white\",\"showbackground\":true,\"ticks\":\"\",\"zerolinecolor\":\"white\",\"gridwidth\":2},\"yaxis\":{\"backgroundcolor\":\"#E5ECF6\",\"gridcolor\":\"white\",\"linecolor\":\"white\",\"showbackground\":true,\"ticks\":\"\",\"zerolinecolor\":\"white\",\"gridwidth\":2},\"zaxis\":{\"backgroundcolor\":\"#E5ECF6\",\"gridcolor\":\"white\",\"linecolor\":\"white\",\"showbackground\":true,\"ticks\":\"\",\"zerolinecolor\":\"white\",\"gridwidth\":2}},\"shapedefaults\":{\"line\":{\"color\":\"#2a3f5f\"}},\"annotationdefaults\":{\"arrowcolor\":\"#2a3f5f\",\"arrowhead\":0,\"arrowwidth\":1},\"geo\":{\"bgcolor\":\"white\",\"landcolor\":\"#E5ECF6\",\"subunitcolor\":\"white\",\"showland\":true,\"showlakes\":true,\"lakecolor\":\"white\"},\"title\":{\"x\":0.05},\"mapbox\":{\"style\":\"light\"}}},\"xaxis\":{\"anchor\":\"y\",\"domain\":[0.0,1.0],\"title\":{\"text\":\"season\"}},\"yaxis\":{\"anchor\":\"x\",\"domain\":[0.0,1.0],\"title\":{\"text\":\"count\"}},\"legend\":{\"tracegroupgap\":0},\"title\":{\"text\":\"Histogram of values for season\"},\"barmode\":\"relative\"},                        {\"responsive\": true}                    ).then(function(){\n                            \nvar gd = document.getElementById('26d1a48d-386f-4900-889a-1a70d2e8f45a');\nvar x = new MutationObserver(function (mutations, observer) {{\n        var display = window.getComputedStyle(gd).display;\n        if (!display || display === 'none') {{\n            console.log([gd, 'removed!']);\n            Plotly.purge(gd);\n            observer.disconnect();\n        }}\n}});\n\n// Listen for the removal of the full notebook cells\nvar notebookContainer = gd.closest('#notebook-container');\nif (notebookContainer) {{\n    x.observe(notebookContainer, {childList: true});\n}}\n\n// Listen for the clearing of the current output cell\nvar outputEl = gd.closest('.output');\nif (outputEl) {{\n    x.observe(outputEl, {childList: true});\n}}\n\n                        })                };                            </script>        </div>\n</body>\n</html>"
     },
     "metadata": {},
     "output_type": "display_data"
    },
    {
     "data": {
      "text/html": "<html>\n<head><meta charset=\"utf-8\" /></head>\n<body>\n    <div>            <script src=\"https://cdnjs.cloudflare.com/ajax/libs/mathjax/2.7.5/MathJax.js?config=TeX-AMS-MML_SVG\"></script><script type=\"text/javascript\">if (window.MathJax && window.MathJax.Hub && window.MathJax.Hub.Config) {window.MathJax.Hub.Config({SVG: {font: \"STIX-Web\"}});}</script>                <script type=\"text/javascript\">window.PlotlyConfig = {MathJaxConfig: 'local'};</script>\n        <script src=\"https://cdn.plot.ly/plotly-2.14.0.min.js\"></script>                <div id=\"bf6d9047-ef19-4e77-ab4c-21cc3a692b71\" class=\"plotly-graph-div\" style=\"height:525px; width:100%;\"></div>            <script type=\"text/javascript\">                                    window.PLOTLYENV=window.PLOTLYENV || {};                                    if (document.getElementById(\"bf6d9047-ef19-4e77-ab4c-21cc3a692b71\")) {                    Plotly.newPlot(                        \"bf6d9047-ef19-4e77-ab4c-21cc3a692b71\",                        [{\"alignmentgroup\":\"True\",\"hovertemplate\":\"season=%{x}<br>cnt=%{y}<extra></extra>\",\"legendgroup\":\"\",\"marker\":{\"color\":\"#636efa\"},\"name\":\"\",\"notched\":false,\"offsetgroup\":\"\",\"orientation\":\"v\",\"showlegend\":false,\"x\":[\"spring\",\"spring\",\"spring\",\"spring\",\"spring\",\"spring\",\"spring\",\"spring\",\"spring\",\"spring\",\"spring\",\"spring\",\"spring\",\"spring\",\"spring\",\"spring\",\"spring\",\"spring\",\"spring\",\"spring\",\"spring\",\"spring\",\"spring\",\"spring\",\"spring\",\"spring\",\"spring\",\"spring\",\"spring\",\"spring\",\"spring\",\"spring\",\"spring\",\"spring\",\"spring\",\"spring\",\"spring\",\"spring\",\"spring\",\"spring\",\"spring\",\"spring\",\"spring\",\"spring\",\"spring\",\"spring\",\"spring\",\"spring\",\"spring\",\"spring\",\"spring\",\"spring\",\"spring\",\"spring\",\"spring\",\"spring\",\"spring\",\"spring\",\"spring\",\"spring\",\"spring\",\"spring\",\"spring\",\"spring\",\"spring\",\"spring\",\"spring\",\"spring\",\"spring\",\"spring\",\"spring\",\"spring\",\"spring\",\"spring\",\"spring\",\"spring\",\"spring\",\"spring\",\"spring\",\"summer\",\"summer\",\"summer\",\"summer\",\"summer\",\"summer\",\"summer\",\"summer\",\"summer\",\"summer\",\"summer\",\"summer\",\"summer\",\"summer\",\"summer\",\"summer\",\"summer\",\"summer\",\"summer\",\"summer\",\"summer\",\"summer\",\"summer\",\"summer\",\"summer\",\"summer\",\"summer\",\"summer\",\"summer\",\"summer\",\"summer\",\"summer\",\"summer\",\"summer\",\"summer\",\"summer\",\"summer\",\"summer\",\"summer\",\"summer\",\"summer\",\"summer\",\"summer\",\"summer\",\"summer\",\"summer\",\"summer\",\"summer\",\"summer\",\"summer\",\"summer\",\"summer\",\"summer\",\"summer\",\"summer\",\"summer\",\"summer\",\"summer\",\"summer\",\"summer\",\"summer\",\"summer\",\"summer\",\"summer\",\"summer\",\"summer\",\"summer\",\"summer\",\"summer\",\"summer\",\"summer\",\"summer\",\"summer\",\"summer\",\"summer\",\"summer\",\"summer\",\"summer\",\"summer\",\"summer\",\"summer\",\"summer\",\"summer\",\"summer\",\"summer\",\"summer\",\"summer\",\"summer\",\"summer\",\"summer\",\"summer\",\"summer\",\"fall\",\"fall\",\"fall\",\"fall\",\"fall\",\"fall\",\"fall\",\"fall\",\"fall\",\"fall\",\"fall\",\"fall\",\"fall\",\"fall\",\"fall\",\"fall\",\"fall\",\"fall\",\"fall\",\"fall\",\"fall\",\"fall\",\"fall\",\"fall\",\"fall\",\"fall\",\"fall\",\"fall\",\"fall\",\"fall\",\"fall\",\"fall\",\"fall\",\"fall\",\"fall\",\"fall\",\"fall\",\"fall\",\"fall\",\"fall\",\"fall\",\"fall\",\"fall\",\"fall\",\"fall\",\"fall\",\"fall\",\"fall\",\"fall\",\"fall\",\"fall\",\"fall\",\"fall\",\"fall\",\"fall\",\"fall\",\"fall\",\"fall\",\"fall\",\"fall\",\"fall\",\"fall\",\"fall\",\"fall\",\"fall\",\"fall\",\"fall\",\"fall\",\"fall\",\"fall\",\"fall\",\"fall\",\"fall\",\"fall\",\"fall\",\"fall\",\"fall\",\"fall\",\"fall\",\"fall\",\"fall\",\"fall\",\"fall\",\"fall\",\"fall\",\"fall\",\"fall\",\"fall\",\"fall\",\"fall\",\"fall\",\"fall\",\"fall\",\"fall\",\"winter\",\"winter\",\"winter\",\"winter\",\"winter\",\"winter\",\"winter\",\"winter\",\"winter\",\"winter\",\"winter\",\"winter\",\"winter\",\"winter\",\"winter\",\"winter\",\"winter\",\"winter\",\"winter\",\"winter\",\"winter\",\"winter\",\"winter\",\"winter\",\"winter\",\"winter\",\"winter\",\"winter\",\"winter\",\"winter\",\"winter\",\"winter\",\"winter\",\"winter\",\"winter\",\"winter\",\"winter\",\"winter\",\"winter\",\"winter\",\"winter\",\"winter\",\"winter\",\"winter\",\"winter\",\"winter\",\"winter\",\"winter\",\"winter\",\"winter\",\"winter\",\"winter\",\"winter\",\"winter\",\"winter\",\"winter\",\"winter\",\"winter\",\"winter\",\"winter\",\"winter\",\"winter\",\"winter\",\"winter\",\"winter\",\"winter\",\"winter\",\"winter\",\"winter\",\"winter\",\"winter\",\"winter\",\"winter\",\"winter\",\"winter\",\"winter\",\"winter\",\"winter\",\"winter\",\"winter\",\"winter\",\"winter\",\"winter\",\"winter\",\"winter\",\"winter\",\"winter\",\"winter\",\"winter\",\"spring\",\"spring\",\"spring\",\"spring\",\"spring\",\"spring\",\"spring\",\"spring\",\"spring\",\"spring\",\"spring\",\"spring\",\"spring\",\"spring\",\"spring\",\"spring\",\"spring\",\"spring\",\"spring\",\"spring\",\"spring\",\"spring\",\"spring\",\"spring\",\"spring\",\"spring\",\"spring\",\"spring\",\"spring\",\"spring\",\"spring\",\"spring\",\"spring\",\"spring\",\"spring\",\"spring\",\"spring\",\"spring\",\"spring\",\"spring\",\"spring\",\"spring\",\"spring\",\"spring\",\"spring\",\"spring\",\"spring\",\"spring\",\"spring\",\"spring\",\"spring\",\"spring\",\"spring\",\"spring\",\"spring\",\"spring\",\"spring\",\"spring\",\"spring\",\"spring\",\"spring\",\"spring\",\"spring\",\"spring\",\"spring\",\"spring\",\"spring\",\"spring\",\"spring\",\"spring\",\"spring\",\"spring\",\"spring\",\"spring\",\"spring\",\"spring\",\"spring\",\"spring\",\"spring\",\"spring\",\"spring\",\"spring\",\"spring\",\"spring\",\"spring\",\"spring\",\"spring\",\"spring\",\"spring\",\"spring\",\"summer\",\"summer\",\"summer\",\"summer\",\"summer\",\"summer\",\"summer\",\"summer\",\"summer\",\"summer\",\"summer\",\"summer\",\"summer\",\"summer\",\"summer\",\"summer\",\"summer\",\"summer\",\"summer\",\"summer\",\"summer\",\"summer\",\"summer\",\"summer\",\"summer\",\"summer\",\"summer\",\"summer\",\"summer\",\"summer\",\"summer\",\"summer\",\"summer\",\"summer\",\"summer\",\"summer\",\"summer\",\"summer\",\"summer\",\"summer\",\"summer\",\"summer\",\"summer\",\"summer\",\"summer\",\"summer\",\"summer\",\"summer\",\"summer\",\"summer\",\"summer\",\"summer\",\"summer\",\"summer\",\"summer\",\"summer\",\"summer\",\"summer\",\"summer\",\"summer\",\"summer\",\"summer\",\"summer\",\"summer\",\"summer\",\"summer\",\"summer\",\"summer\",\"summer\",\"summer\",\"summer\",\"summer\",\"summer\",\"summer\",\"summer\",\"summer\",\"summer\",\"summer\",\"summer\",\"summer\",\"summer\",\"summer\",\"summer\",\"summer\",\"summer\",\"summer\",\"summer\",\"summer\",\"summer\",\"summer\",\"summer\",\"summer\",\"fall\",\"fall\",\"fall\",\"fall\",\"fall\",\"fall\",\"fall\",\"fall\",\"fall\",\"fall\",\"fall\",\"fall\",\"fall\",\"fall\",\"fall\",\"fall\",\"fall\",\"fall\",\"fall\",\"fall\",\"fall\",\"fall\",\"fall\",\"fall\",\"fall\",\"fall\",\"fall\",\"fall\",\"fall\",\"fall\",\"fall\",\"fall\",\"fall\",\"fall\",\"fall\",\"fall\",\"fall\",\"fall\",\"fall\",\"fall\",\"fall\",\"fall\",\"fall\",\"fall\",\"fall\",\"fall\",\"fall\",\"fall\",\"fall\",\"fall\",\"fall\",\"fall\",\"fall\",\"fall\",\"fall\",\"fall\",\"fall\",\"fall\",\"fall\",\"fall\",\"fall\",\"fall\",\"fall\",\"fall\",\"fall\",\"fall\",\"fall\",\"fall\",\"fall\",\"fall\",\"fall\",\"fall\",\"fall\",\"fall\",\"fall\",\"fall\",\"fall\",\"fall\",\"fall\",\"fall\",\"fall\",\"fall\",\"fall\",\"fall\",\"fall\",\"fall\",\"fall\",\"fall\",\"fall\",\"fall\",\"fall\",\"fall\",\"fall\",\"fall\",\"winter\",\"winter\",\"winter\",\"winter\",\"winter\",\"winter\",\"winter\",\"winter\",\"winter\",\"winter\",\"winter\",\"winter\",\"winter\",\"winter\",\"winter\",\"winter\",\"winter\",\"winter\",\"winter\",\"winter\",\"winter\",\"winter\",\"winter\",\"winter\",\"winter\",\"winter\",\"winter\",\"winter\",\"winter\",\"winter\",\"winter\",\"winter\",\"winter\",\"winter\",\"winter\",\"winter\",\"winter\",\"winter\",\"winter\",\"winter\",\"winter\",\"winter\",\"winter\",\"winter\",\"winter\",\"winter\",\"winter\",\"winter\",\"winter\",\"winter\",\"winter\",\"winter\",\"winter\",\"winter\",\"winter\",\"winter\",\"winter\",\"winter\",\"winter\",\"winter\",\"winter\",\"winter\",\"winter\",\"winter\",\"winter\",\"winter\",\"winter\",\"winter\",\"winter\",\"winter\",\"winter\",\"winter\",\"winter\",\"winter\",\"winter\",\"winter\",\"winter\",\"winter\",\"winter\",\"winter\",\"winter\",\"winter\",\"winter\",\"winter\",\"winter\",\"winter\",\"winter\",\"winter\",\"winter\",\"spring\",\"spring\",\"spring\",\"spring\",\"spring\",\"spring\",\"spring\",\"spring\",\"spring\",\"spring\",\"spring\"],\"x0\":\" \",\"xaxis\":\"x\",\"y\":[985,801,1349,1562,1600,1606,1510,959,822,1321,1263,1162,1406,1421,1248,1204,1000,683,1650,1927,1543,981,986,1416,1985,506,431,1167,1098,1096,1501,1360,1526,1550,1708,1005,1623,1712,1530,1605,1538,1746,1472,1589,1913,1815,2115,2475,2927,1635,1812,1107,1450,1917,1807,1461,1969,2402,1446,1851,2134,1685,1944,2077,605,1872,2133,1891,623,1977,2132,2417,2046,2056,2192,2744,3239,3117,2471,2077,2703,2121,1865,2210,2496,1693,2028,2425,1536,1685,2227,2252,3249,3115,1795,2808,3141,1471,2455,2895,3348,2034,2162,3267,3126,795,3744,3429,3204,3944,4189,1683,4036,4191,4073,4400,3872,4058,4595,5312,3351,4401,4451,2633,4433,4608,4714,4333,4362,4803,4182,4864,4105,3409,4553,3958,4123,3855,4575,4917,5805,4660,4274,4492,4978,4677,4679,4758,4788,4098,3982,3974,4968,5312,5342,4906,4548,4833,4401,3915,4586,4966,4460,5020,4891,5180,3767,4844,5119,4744,4010,4835,4507,4790,4991,5202,5305,4708,4648,5225,5515,5362,5119,4649,6043,4665,4629,4592,4040,5336,4881,4086,4258,4342,5084,5538,5923,5302,4458,4541,4332,3784,3387,3285,3606,3840,4590,4656,4390,3846,4475,4302,4266,4845,3574,4576,4866,4294,3785,4326,4602,4780,4792,4905,4150,3820,4338,4725,4694,3805,4153,5191,3873,4758,5895,5130,3542,4661,1115,4334,4634,5204,5058,5115,4727,4484,4940,3351,2710,1996,1842,3544,5345,5046,4713,4763,4785,3659,4760,4511,4274,4539,3641,4352,4795,2395,5423,5010,4630,4120,3907,4839,5202,2429,2918,3570,4456,4826,4765,4985,5409,5511,5117,4563,2416,2913,3644,5217,5041,4570,4748,2424,4195,4304,4308,4381,4187,4687,3894,2659,3747,627,3331,3669,4068,4186,3974,4046,3926,3649,4035,4205,4109,2933,3368,4067,3717,4486,4195,1817,3053,3392,3663,3520,2765,1607,2566,1495,2792,3068,3071,3867,2914,3613,3727,3940,3614,3485,3811,2594,705,3322,3620,3190,2743,3310,3523,3740,3709,3577,2739,2431,3403,3750,2660,3068,2209,1011,754,1317,1162,2302,2423,2999,2485,2294,1951,2236,2368,3272,4098,4521,3425,2376,3598,2177,4097,3214,2493,2311,2298,2935,3376,3292,3163,1301,1977,2432,4339,4270,4075,3456,4023,3243,3624,4509,4579,3761,4151,2832,2947,3784,4375,2802,3830,3831,2169,1529,3422,3922,4169,3005,4154,4318,2689,3129,3777,4773,5062,3487,2732,3389,4322,4363,4990,3194,4066,3423,3333,3956,4916,5382,4569,4118,4911,5298,5847,6312,6192,4378,7836,5892,6153,6093,6230,6871,8362,3372,4996,5558,5102,5698,6133,5459,6235,6041,5936,6772,6436,6457,6460,6857,5169,5585,5918,4862,5409,6398,7460,7132,6370,6691,4367,6565,7290,6624,1027,3214,5633,6196,5026,6233,4220,6304,5572,5740,6169,6421,6296,6883,6359,6273,5728,4717,6572,7030,7429,6118,2843,5115,7424,7384,7639,8294,7129,4359,6073,5260,6770,6734,6536,6591,6043,5743,6855,7338,4127,8120,7641,6998,7001,7055,7494,7736,7498,6598,6664,4972,7421,7363,7665,7702,6978,5099,6825,6211,5905,5823,7458,6891,6779,7442,7335,6879,5463,5687,5531,6227,6660,7403,6241,6207,4840,4672,6569,6290,7264,7446,7499,6969,6031,6830,6786,5713,6591,5870,4459,7410,6966,7592,8173,6861,6904,6685,6597,7105,7216,7580,7261,7175,6824,5464,7013,7273,7534,7286,5786,6299,6544,6883,6784,7347,7605,7148,7865,4549,6530,7006,7375,7765,7582,6053,5255,6917,7040,7697,7713,7350,6140,5810,6034,6864,7112,6203,7504,5976,8227,7525,7767,7870,7804,8009,8714,7333,6869,4073,7591,7720,8167,8395,7907,7436,7538,7733,7393,7415,8555,6889,6778,4639,7572,7328,8156,7965,3510,5478,6392,7691,7570,7282,7109,6639,5875,7534,7461,7509,5424,8090,6824,7058,7466,7693,7359,7444,7852,4459,22,1096,5566,5986,5847,5138,5107,5259,5686,5035,5315,5992,6536,6852,6269,4094,5495,5445,5698,5629,4669,5499,5634,5146,2425,3910,2277,2424,5087,3959,5260,5323,5668,5191,4649,6234,6606,5729,5375,5008,5582,3228,5170,5501,5319,5532,5611,5047,3786,4585,5557,5267,4128,3623,1749,1787,920,1013,441,2114,3095,1341,1796,2729],\"y0\":\" \",\"yaxis\":\"y\",\"type\":\"box\"}],                        {\"template\":{\"data\":{\"histogram2dcontour\":[{\"type\":\"histogram2dcontour\",\"colorbar\":{\"outlinewidth\":0,\"ticks\":\"\"},\"colorscale\":[[0.0,\"#0d0887\"],[0.1111111111111111,\"#46039f\"],[0.2222222222222222,\"#7201a8\"],[0.3333333333333333,\"#9c179e\"],[0.4444444444444444,\"#bd3786\"],[0.5555555555555556,\"#d8576b\"],[0.6666666666666666,\"#ed7953\"],[0.7777777777777778,\"#fb9f3a\"],[0.8888888888888888,\"#fdca26\"],[1.0,\"#f0f921\"]]}],\"choropleth\":[{\"type\":\"choropleth\",\"colorbar\":{\"outlinewidth\":0,\"ticks\":\"\"}}],\"histogram2d\":[{\"type\":\"histogram2d\",\"colorbar\":{\"outlinewidth\":0,\"ticks\":\"\"},\"colorscale\":[[0.0,\"#0d0887\"],[0.1111111111111111,\"#46039f\"],[0.2222222222222222,\"#7201a8\"],[0.3333333333333333,\"#9c179e\"],[0.4444444444444444,\"#bd3786\"],[0.5555555555555556,\"#d8576b\"],[0.6666666666666666,\"#ed7953\"],[0.7777777777777778,\"#fb9f3a\"],[0.8888888888888888,\"#fdca26\"],[1.0,\"#f0f921\"]]}],\"heatmap\":[{\"type\":\"heatmap\",\"colorbar\":{\"outlinewidth\":0,\"ticks\":\"\"},\"colorscale\":[[0.0,\"#0d0887\"],[0.1111111111111111,\"#46039f\"],[0.2222222222222222,\"#7201a8\"],[0.3333333333333333,\"#9c179e\"],[0.4444444444444444,\"#bd3786\"],[0.5555555555555556,\"#d8576b\"],[0.6666666666666666,\"#ed7953\"],[0.7777777777777778,\"#fb9f3a\"],[0.8888888888888888,\"#fdca26\"],[1.0,\"#f0f921\"]]}],\"heatmapgl\":[{\"type\":\"heatmapgl\",\"colorbar\":{\"outlinewidth\":0,\"ticks\":\"\"},\"colorscale\":[[0.0,\"#0d0887\"],[0.1111111111111111,\"#46039f\"],[0.2222222222222222,\"#7201a8\"],[0.3333333333333333,\"#9c179e\"],[0.4444444444444444,\"#bd3786\"],[0.5555555555555556,\"#d8576b\"],[0.6666666666666666,\"#ed7953\"],[0.7777777777777778,\"#fb9f3a\"],[0.8888888888888888,\"#fdca26\"],[1.0,\"#f0f921\"]]}],\"contourcarpet\":[{\"type\":\"contourcarpet\",\"colorbar\":{\"outlinewidth\":0,\"ticks\":\"\"}}],\"contour\":[{\"type\":\"contour\",\"colorbar\":{\"outlinewidth\":0,\"ticks\":\"\"},\"colorscale\":[[0.0,\"#0d0887\"],[0.1111111111111111,\"#46039f\"],[0.2222222222222222,\"#7201a8\"],[0.3333333333333333,\"#9c179e\"],[0.4444444444444444,\"#bd3786\"],[0.5555555555555556,\"#d8576b\"],[0.6666666666666666,\"#ed7953\"],[0.7777777777777778,\"#fb9f3a\"],[0.8888888888888888,\"#fdca26\"],[1.0,\"#f0f921\"]]}],\"surface\":[{\"type\":\"surface\",\"colorbar\":{\"outlinewidth\":0,\"ticks\":\"\"},\"colorscale\":[[0.0,\"#0d0887\"],[0.1111111111111111,\"#46039f\"],[0.2222222222222222,\"#7201a8\"],[0.3333333333333333,\"#9c179e\"],[0.4444444444444444,\"#bd3786\"],[0.5555555555555556,\"#d8576b\"],[0.6666666666666666,\"#ed7953\"],[0.7777777777777778,\"#fb9f3a\"],[0.8888888888888888,\"#fdca26\"],[1.0,\"#f0f921\"]]}],\"mesh3d\":[{\"type\":\"mesh3d\",\"colorbar\":{\"outlinewidth\":0,\"ticks\":\"\"}}],\"scatter\":[{\"fillpattern\":{\"fillmode\":\"overlay\",\"size\":10,\"solidity\":0.2},\"type\":\"scatter\"}],\"parcoords\":[{\"type\":\"parcoords\",\"line\":{\"colorbar\":{\"outlinewidth\":0,\"ticks\":\"\"}}}],\"scatterpolargl\":[{\"type\":\"scatterpolargl\",\"marker\":{\"colorbar\":{\"outlinewidth\":0,\"ticks\":\"\"}}}],\"bar\":[{\"error_x\":{\"color\":\"#2a3f5f\"},\"error_y\":{\"color\":\"#2a3f5f\"},\"marker\":{\"line\":{\"color\":\"#E5ECF6\",\"width\":0.5},\"pattern\":{\"fillmode\":\"overlay\",\"size\":10,\"solidity\":0.2}},\"type\":\"bar\"}],\"scattergeo\":[{\"type\":\"scattergeo\",\"marker\":{\"colorbar\":{\"outlinewidth\":0,\"ticks\":\"\"}}}],\"scatterpolar\":[{\"type\":\"scatterpolar\",\"marker\":{\"colorbar\":{\"outlinewidth\":0,\"ticks\":\"\"}}}],\"histogram\":[{\"marker\":{\"pattern\":{\"fillmode\":\"overlay\",\"size\":10,\"solidity\":0.2}},\"type\":\"histogram\"}],\"scattergl\":[{\"type\":\"scattergl\",\"marker\":{\"colorbar\":{\"outlinewidth\":0,\"ticks\":\"\"}}}],\"scatter3d\":[{\"type\":\"scatter3d\",\"line\":{\"colorbar\":{\"outlinewidth\":0,\"ticks\":\"\"}},\"marker\":{\"colorbar\":{\"outlinewidth\":0,\"ticks\":\"\"}}}],\"scattermapbox\":[{\"type\":\"scattermapbox\",\"marker\":{\"colorbar\":{\"outlinewidth\":0,\"ticks\":\"\"}}}],\"scatterternary\":[{\"type\":\"scatterternary\",\"marker\":{\"colorbar\":{\"outlinewidth\":0,\"ticks\":\"\"}}}],\"scattercarpet\":[{\"type\":\"scattercarpet\",\"marker\":{\"colorbar\":{\"outlinewidth\":0,\"ticks\":\"\"}}}],\"carpet\":[{\"aaxis\":{\"endlinecolor\":\"#2a3f5f\",\"gridcolor\":\"white\",\"linecolor\":\"white\",\"minorgridcolor\":\"white\",\"startlinecolor\":\"#2a3f5f\"},\"baxis\":{\"endlinecolor\":\"#2a3f5f\",\"gridcolor\":\"white\",\"linecolor\":\"white\",\"minorgridcolor\":\"white\",\"startlinecolor\":\"#2a3f5f\"},\"type\":\"carpet\"}],\"table\":[{\"cells\":{\"fill\":{\"color\":\"#EBF0F8\"},\"line\":{\"color\":\"white\"}},\"header\":{\"fill\":{\"color\":\"#C8D4E3\"},\"line\":{\"color\":\"white\"}},\"type\":\"table\"}],\"barpolar\":[{\"marker\":{\"line\":{\"color\":\"#E5ECF6\",\"width\":0.5},\"pattern\":{\"fillmode\":\"overlay\",\"size\":10,\"solidity\":0.2}},\"type\":\"barpolar\"}],\"pie\":[{\"automargin\":true,\"type\":\"pie\"}]},\"layout\":{\"autotypenumbers\":\"strict\",\"colorway\":[\"#636efa\",\"#EF553B\",\"#00cc96\",\"#ab63fa\",\"#FFA15A\",\"#19d3f3\",\"#FF6692\",\"#B6E880\",\"#FF97FF\",\"#FECB52\"],\"font\":{\"color\":\"#2a3f5f\"},\"hovermode\":\"closest\",\"hoverlabel\":{\"align\":\"left\"},\"paper_bgcolor\":\"white\",\"plot_bgcolor\":\"#E5ECF6\",\"polar\":{\"bgcolor\":\"#E5ECF6\",\"angularaxis\":{\"gridcolor\":\"white\",\"linecolor\":\"white\",\"ticks\":\"\"},\"radialaxis\":{\"gridcolor\":\"white\",\"linecolor\":\"white\",\"ticks\":\"\"}},\"ternary\":{\"bgcolor\":\"#E5ECF6\",\"aaxis\":{\"gridcolor\":\"white\",\"linecolor\":\"white\",\"ticks\":\"\"},\"baxis\":{\"gridcolor\":\"white\",\"linecolor\":\"white\",\"ticks\":\"\"},\"caxis\":{\"gridcolor\":\"white\",\"linecolor\":\"white\",\"ticks\":\"\"}},\"coloraxis\":{\"colorbar\":{\"outlinewidth\":0,\"ticks\":\"\"}},\"colorscale\":{\"sequential\":[[0.0,\"#0d0887\"],[0.1111111111111111,\"#46039f\"],[0.2222222222222222,\"#7201a8\"],[0.3333333333333333,\"#9c179e\"],[0.4444444444444444,\"#bd3786\"],[0.5555555555555556,\"#d8576b\"],[0.6666666666666666,\"#ed7953\"],[0.7777777777777778,\"#fb9f3a\"],[0.8888888888888888,\"#fdca26\"],[1.0,\"#f0f921\"]],\"sequentialminus\":[[0.0,\"#0d0887\"],[0.1111111111111111,\"#46039f\"],[0.2222222222222222,\"#7201a8\"],[0.3333333333333333,\"#9c179e\"],[0.4444444444444444,\"#bd3786\"],[0.5555555555555556,\"#d8576b\"],[0.6666666666666666,\"#ed7953\"],[0.7777777777777778,\"#fb9f3a\"],[0.8888888888888888,\"#fdca26\"],[1.0,\"#f0f921\"]],\"diverging\":[[0,\"#8e0152\"],[0.1,\"#c51b7d\"],[0.2,\"#de77ae\"],[0.3,\"#f1b6da\"],[0.4,\"#fde0ef\"],[0.5,\"#f7f7f7\"],[0.6,\"#e6f5d0\"],[0.7,\"#b8e186\"],[0.8,\"#7fbc41\"],[0.9,\"#4d9221\"],[1,\"#276419\"]]},\"xaxis\":{\"gridcolor\":\"white\",\"linecolor\":\"white\",\"ticks\":\"\",\"title\":{\"standoff\":15},\"zerolinecolor\":\"white\",\"automargin\":true,\"zerolinewidth\":2},\"yaxis\":{\"gridcolor\":\"white\",\"linecolor\":\"white\",\"ticks\":\"\",\"title\":{\"standoff\":15},\"zerolinecolor\":\"white\",\"automargin\":true,\"zerolinewidth\":2},\"scene\":{\"xaxis\":{\"backgroundcolor\":\"#E5ECF6\",\"gridcolor\":\"white\",\"linecolor\":\"white\",\"showbackground\":true,\"ticks\":\"\",\"zerolinecolor\":\"white\",\"gridwidth\":2},\"yaxis\":{\"backgroundcolor\":\"#E5ECF6\",\"gridcolor\":\"white\",\"linecolor\":\"white\",\"showbackground\":true,\"ticks\":\"\",\"zerolinecolor\":\"white\",\"gridwidth\":2},\"zaxis\":{\"backgroundcolor\":\"#E5ECF6\",\"gridcolor\":\"white\",\"linecolor\":\"white\",\"showbackground\":true,\"ticks\":\"\",\"zerolinecolor\":\"white\",\"gridwidth\":2}},\"shapedefaults\":{\"line\":{\"color\":\"#2a3f5f\"}},\"annotationdefaults\":{\"arrowcolor\":\"#2a3f5f\",\"arrowhead\":0,\"arrowwidth\":1},\"geo\":{\"bgcolor\":\"white\",\"landcolor\":\"#E5ECF6\",\"subunitcolor\":\"white\",\"showland\":true,\"showlakes\":true,\"lakecolor\":\"white\"},\"title\":{\"x\":0.05},\"mapbox\":{\"style\":\"light\"}}},\"xaxis\":{\"anchor\":\"y\",\"domain\":[0.0,1.0],\"title\":{\"text\":\"season\"}},\"yaxis\":{\"anchor\":\"x\",\"domain\":[0.0,1.0],\"title\":{\"text\":\"cnt\"}},\"legend\":{\"tracegroupgap\":0},\"title\":{\"text\":\"Boxplot of values for season against our target variable cnt\"},\"boxmode\":\"group\"},                        {\"responsive\": true}                    ).then(function(){\n                            \nvar gd = document.getElementById('bf6d9047-ef19-4e77-ab4c-21cc3a692b71');\nvar x = new MutationObserver(function (mutations, observer) {{\n        var display = window.getComputedStyle(gd).display;\n        if (!display || display === 'none') {{\n            console.log([gd, 'removed!']);\n            Plotly.purge(gd);\n            observer.disconnect();\n        }}\n}});\n\n// Listen for the removal of the full notebook cells\nvar notebookContainer = gd.closest('#notebook-container');\nif (notebookContainer) {{\n    x.observe(notebookContainer, {childList: true});\n}}\n\n// Listen for the clearing of the current output cell\nvar outputEl = gd.closest('.output');\nif (outputEl) {{\n    x.observe(outputEl, {childList: true});\n}}\n\n                        })                };                            </script>        </div>\n</body>\n</html>"
     },
     "metadata": {},
     "output_type": "display_data"
    }
   ]
  },
  {
   "cell_type": "code",
   "metadata": {
    "cell_id": "740dd10df4a24b149b06dbe83d7e84ce",
    "tags": [],
    "deepnote_to_be_reexecuted": false,
    "source_hash": "ecd4fc45",
    "execution_start": 1663728012393,
    "execution_millis": 85,
    "deepnote_cell_type": "code",
    "deepnote_cell_height": 1457.03125,
    "deepnote_output_heights": [
     null,
     526,
     526
    ]
   },
   "source": "create_feature_analysis(data, 'yr')",
   "execution_count": 11,
   "outputs": [
    {
     "name": "stdout",
     "text": "DESCRIPTIVE SUMMARY of yr\ncount    730.000000\nmean       0.500000\nstd        0.500343\nmin        0.000000\n25%        0.000000\n50%        0.500000\n75%        1.000000\nmax        1.000000\nName: yr, dtype: float64\n\n\nUNIQUE VALUE COUNT: 2\n",
     "output_type": "stream"
    },
    {
     "data": {
      "text/html": "<html>\n<head><meta charset=\"utf-8\" /></head>\n<body>\n    <div>            <script src=\"https://cdnjs.cloudflare.com/ajax/libs/mathjax/2.7.5/MathJax.js?config=TeX-AMS-MML_SVG\"></script><script type=\"text/javascript\">if (window.MathJax && window.MathJax.Hub && window.MathJax.Hub.Config) {window.MathJax.Hub.Config({SVG: {font: \"STIX-Web\"}});}</script>                <script type=\"text/javascript\">window.PlotlyConfig = {MathJaxConfig: 'local'};</script>\n        <script src=\"https://cdn.plot.ly/plotly-2.14.0.min.js\"></script>                <div id=\"b37a05c2-d6fa-48e0-9ba7-f83c17908bae\" class=\"plotly-graph-div\" style=\"height:525px; width:100%;\"></div>            <script type=\"text/javascript\">                                    window.PLOTLYENV=window.PLOTLYENV || {};                                    if (document.getElementById(\"b37a05c2-d6fa-48e0-9ba7-f83c17908bae\")) {                    Plotly.newPlot(                        \"b37a05c2-d6fa-48e0-9ba7-f83c17908bae\",                        [{\"alignmentgroup\":\"True\",\"bingroup\":\"x\",\"hovertemplate\":\"yr=%{x}<br>count=%{y}<extra></extra>\",\"legendgroup\":\"\",\"marker\":{\"color\":\"#636efa\",\"pattern\":{\"shape\":\"\"}},\"name\":\"\",\"offsetgroup\":\"\",\"orientation\":\"v\",\"showlegend\":false,\"x\":[0,0,0,0,0,0,0,0,0,0,0,0,0,0,0,0,0,0,0,0,0,0,0,0,0,0,0,0,0,0,0,0,0,0,0,0,0,0,0,0,0,0,0,0,0,0,0,0,0,0,0,0,0,0,0,0,0,0,0,0,0,0,0,0,0,0,0,0,0,0,0,0,0,0,0,0,0,0,0,0,0,0,0,0,0,0,0,0,0,0,0,0,0,0,0,0,0,0,0,0,0,0,0,0,0,0,0,0,0,0,0,0,0,0,0,0,0,0,0,0,0,0,0,0,0,0,0,0,0,0,0,0,0,0,0,0,0,0,0,0,0,0,0,0,0,0,0,0,0,0,0,0,0,0,0,0,0,0,0,0,0,0,0,0,0,0,0,0,0,0,0,0,0,0,0,0,0,0,0,0,0,0,0,0,0,0,0,0,0,0,0,0,0,0,0,0,0,0,0,0,0,0,0,0,0,0,0,0,0,0,0,0,0,0,0,0,0,0,0,0,0,0,0,0,0,0,0,0,0,0,0,0,0,0,0,0,0,0,0,0,0,0,0,0,0,0,0,0,0,0,0,0,0,0,0,0,0,0,0,0,0,0,0,0,0,0,0,0,0,0,0,0,0,0,0,0,0,0,0,0,0,0,0,0,0,0,0,0,0,0,0,0,0,0,0,0,0,0,0,0,0,0,0,0,0,0,0,0,0,0,0,0,0,0,0,0,0,0,0,0,0,0,0,0,0,0,0,0,0,0,0,0,0,0,0,0,0,0,0,0,0,0,0,0,0,0,0,0,0,0,0,0,0,0,0,0,0,0,0,0,0,0,0,0,0,1,1,1,1,1,1,1,1,1,1,1,1,1,1,1,1,1,1,1,1,1,1,1,1,1,1,1,1,1,1,1,1,1,1,1,1,1,1,1,1,1,1,1,1,1,1,1,1,1,1,1,1,1,1,1,1,1,1,1,1,1,1,1,1,1,1,1,1,1,1,1,1,1,1,1,1,1,1,1,1,1,1,1,1,1,1,1,1,1,1,1,1,1,1,1,1,1,1,1,1,1,1,1,1,1,1,1,1,1,1,1,1,1,1,1,1,1,1,1,1,1,1,1,1,1,1,1,1,1,1,1,1,1,1,1,1,1,1,1,1,1,1,1,1,1,1,1,1,1,1,1,1,1,1,1,1,1,1,1,1,1,1,1,1,1,1,1,1,1,1,1,1,1,1,1,1,1,1,1,1,1,1,1,1,1,1,1,1,1,1,1,1,1,1,1,1,1,1,1,1,1,1,1,1,1,1,1,1,1,1,1,1,1,1,1,1,1,1,1,1,1,1,1,1,1,1,1,1,1,1,1,1,1,1,1,1,1,1,1,1,1,1,1,1,1,1,1,1,1,1,1,1,1,1,1,1,1,1,1,1,1,1,1,1,1,1,1,1,1,1,1,1,1,1,1,1,1,1,1,1,1,1,1,1,1,1,1,1,1,1,1,1,1,1,1,1,1,1,1,1,1,1,1,1,1,1,1,1,1,1,1,1,1,1,1,1,1,1,1,1,1,1,1,1,1,1,1,1,1,1,1,1,1,1,1,1,1,1,1,1,1,1,1,1,1,1,1,1,1,1,1,1,1,1,1,1,1,1,1,1,1,1,1,1,1],\"xaxis\":\"x\",\"yaxis\":\"y\",\"type\":\"histogram\"}],                        {\"template\":{\"data\":{\"histogram2dcontour\":[{\"type\":\"histogram2dcontour\",\"colorbar\":{\"outlinewidth\":0,\"ticks\":\"\"},\"colorscale\":[[0.0,\"#0d0887\"],[0.1111111111111111,\"#46039f\"],[0.2222222222222222,\"#7201a8\"],[0.3333333333333333,\"#9c179e\"],[0.4444444444444444,\"#bd3786\"],[0.5555555555555556,\"#d8576b\"],[0.6666666666666666,\"#ed7953\"],[0.7777777777777778,\"#fb9f3a\"],[0.8888888888888888,\"#fdca26\"],[1.0,\"#f0f921\"]]}],\"choropleth\":[{\"type\":\"choropleth\",\"colorbar\":{\"outlinewidth\":0,\"ticks\":\"\"}}],\"histogram2d\":[{\"type\":\"histogram2d\",\"colorbar\":{\"outlinewidth\":0,\"ticks\":\"\"},\"colorscale\":[[0.0,\"#0d0887\"],[0.1111111111111111,\"#46039f\"],[0.2222222222222222,\"#7201a8\"],[0.3333333333333333,\"#9c179e\"],[0.4444444444444444,\"#bd3786\"],[0.5555555555555556,\"#d8576b\"],[0.6666666666666666,\"#ed7953\"],[0.7777777777777778,\"#fb9f3a\"],[0.8888888888888888,\"#fdca26\"],[1.0,\"#f0f921\"]]}],\"heatmap\":[{\"type\":\"heatmap\",\"colorbar\":{\"outlinewidth\":0,\"ticks\":\"\"},\"colorscale\":[[0.0,\"#0d0887\"],[0.1111111111111111,\"#46039f\"],[0.2222222222222222,\"#7201a8\"],[0.3333333333333333,\"#9c179e\"],[0.4444444444444444,\"#bd3786\"],[0.5555555555555556,\"#d8576b\"],[0.6666666666666666,\"#ed7953\"],[0.7777777777777778,\"#fb9f3a\"],[0.8888888888888888,\"#fdca26\"],[1.0,\"#f0f921\"]]}],\"heatmapgl\":[{\"type\":\"heatmapgl\",\"colorbar\":{\"outlinewidth\":0,\"ticks\":\"\"},\"colorscale\":[[0.0,\"#0d0887\"],[0.1111111111111111,\"#46039f\"],[0.2222222222222222,\"#7201a8\"],[0.3333333333333333,\"#9c179e\"],[0.4444444444444444,\"#bd3786\"],[0.5555555555555556,\"#d8576b\"],[0.6666666666666666,\"#ed7953\"],[0.7777777777777778,\"#fb9f3a\"],[0.8888888888888888,\"#fdca26\"],[1.0,\"#f0f921\"]]}],\"contourcarpet\":[{\"type\":\"contourcarpet\",\"colorbar\":{\"outlinewidth\":0,\"ticks\":\"\"}}],\"contour\":[{\"type\":\"contour\",\"colorbar\":{\"outlinewidth\":0,\"ticks\":\"\"},\"colorscale\":[[0.0,\"#0d0887\"],[0.1111111111111111,\"#46039f\"],[0.2222222222222222,\"#7201a8\"],[0.3333333333333333,\"#9c179e\"],[0.4444444444444444,\"#bd3786\"],[0.5555555555555556,\"#d8576b\"],[0.6666666666666666,\"#ed7953\"],[0.7777777777777778,\"#fb9f3a\"],[0.8888888888888888,\"#fdca26\"],[1.0,\"#f0f921\"]]}],\"surface\":[{\"type\":\"surface\",\"colorbar\":{\"outlinewidth\":0,\"ticks\":\"\"},\"colorscale\":[[0.0,\"#0d0887\"],[0.1111111111111111,\"#46039f\"],[0.2222222222222222,\"#7201a8\"],[0.3333333333333333,\"#9c179e\"],[0.4444444444444444,\"#bd3786\"],[0.5555555555555556,\"#d8576b\"],[0.6666666666666666,\"#ed7953\"],[0.7777777777777778,\"#fb9f3a\"],[0.8888888888888888,\"#fdca26\"],[1.0,\"#f0f921\"]]}],\"mesh3d\":[{\"type\":\"mesh3d\",\"colorbar\":{\"outlinewidth\":0,\"ticks\":\"\"}}],\"scatter\":[{\"fillpattern\":{\"fillmode\":\"overlay\",\"size\":10,\"solidity\":0.2},\"type\":\"scatter\"}],\"parcoords\":[{\"type\":\"parcoords\",\"line\":{\"colorbar\":{\"outlinewidth\":0,\"ticks\":\"\"}}}],\"scatterpolargl\":[{\"type\":\"scatterpolargl\",\"marker\":{\"colorbar\":{\"outlinewidth\":0,\"ticks\":\"\"}}}],\"bar\":[{\"error_x\":{\"color\":\"#2a3f5f\"},\"error_y\":{\"color\":\"#2a3f5f\"},\"marker\":{\"line\":{\"color\":\"#E5ECF6\",\"width\":0.5},\"pattern\":{\"fillmode\":\"overlay\",\"size\":10,\"solidity\":0.2}},\"type\":\"bar\"}],\"scattergeo\":[{\"type\":\"scattergeo\",\"marker\":{\"colorbar\":{\"outlinewidth\":0,\"ticks\":\"\"}}}],\"scatterpolar\":[{\"type\":\"scatterpolar\",\"marker\":{\"colorbar\":{\"outlinewidth\":0,\"ticks\":\"\"}}}],\"histogram\":[{\"marker\":{\"pattern\":{\"fillmode\":\"overlay\",\"size\":10,\"solidity\":0.2}},\"type\":\"histogram\"}],\"scattergl\":[{\"type\":\"scattergl\",\"marker\":{\"colorbar\":{\"outlinewidth\":0,\"ticks\":\"\"}}}],\"scatter3d\":[{\"type\":\"scatter3d\",\"line\":{\"colorbar\":{\"outlinewidth\":0,\"ticks\":\"\"}},\"marker\":{\"colorbar\":{\"outlinewidth\":0,\"ticks\":\"\"}}}],\"scattermapbox\":[{\"type\":\"scattermapbox\",\"marker\":{\"colorbar\":{\"outlinewidth\":0,\"ticks\":\"\"}}}],\"scatterternary\":[{\"type\":\"scatterternary\",\"marker\":{\"colorbar\":{\"outlinewidth\":0,\"ticks\":\"\"}}}],\"scattercarpet\":[{\"type\":\"scattercarpet\",\"marker\":{\"colorbar\":{\"outlinewidth\":0,\"ticks\":\"\"}}}],\"carpet\":[{\"aaxis\":{\"endlinecolor\":\"#2a3f5f\",\"gridcolor\":\"white\",\"linecolor\":\"white\",\"minorgridcolor\":\"white\",\"startlinecolor\":\"#2a3f5f\"},\"baxis\":{\"endlinecolor\":\"#2a3f5f\",\"gridcolor\":\"white\",\"linecolor\":\"white\",\"minorgridcolor\":\"white\",\"startlinecolor\":\"#2a3f5f\"},\"type\":\"carpet\"}],\"table\":[{\"cells\":{\"fill\":{\"color\":\"#EBF0F8\"},\"line\":{\"color\":\"white\"}},\"header\":{\"fill\":{\"color\":\"#C8D4E3\"},\"line\":{\"color\":\"white\"}},\"type\":\"table\"}],\"barpolar\":[{\"marker\":{\"line\":{\"color\":\"#E5ECF6\",\"width\":0.5},\"pattern\":{\"fillmode\":\"overlay\",\"size\":10,\"solidity\":0.2}},\"type\":\"barpolar\"}],\"pie\":[{\"automargin\":true,\"type\":\"pie\"}]},\"layout\":{\"autotypenumbers\":\"strict\",\"colorway\":[\"#636efa\",\"#EF553B\",\"#00cc96\",\"#ab63fa\",\"#FFA15A\",\"#19d3f3\",\"#FF6692\",\"#B6E880\",\"#FF97FF\",\"#FECB52\"],\"font\":{\"color\":\"#2a3f5f\"},\"hovermode\":\"closest\",\"hoverlabel\":{\"align\":\"left\"},\"paper_bgcolor\":\"white\",\"plot_bgcolor\":\"#E5ECF6\",\"polar\":{\"bgcolor\":\"#E5ECF6\",\"angularaxis\":{\"gridcolor\":\"white\",\"linecolor\":\"white\",\"ticks\":\"\"},\"radialaxis\":{\"gridcolor\":\"white\",\"linecolor\":\"white\",\"ticks\":\"\"}},\"ternary\":{\"bgcolor\":\"#E5ECF6\",\"aaxis\":{\"gridcolor\":\"white\",\"linecolor\":\"white\",\"ticks\":\"\"},\"baxis\":{\"gridcolor\":\"white\",\"linecolor\":\"white\",\"ticks\":\"\"},\"caxis\":{\"gridcolor\":\"white\",\"linecolor\":\"white\",\"ticks\":\"\"}},\"coloraxis\":{\"colorbar\":{\"outlinewidth\":0,\"ticks\":\"\"}},\"colorscale\":{\"sequential\":[[0.0,\"#0d0887\"],[0.1111111111111111,\"#46039f\"],[0.2222222222222222,\"#7201a8\"],[0.3333333333333333,\"#9c179e\"],[0.4444444444444444,\"#bd3786\"],[0.5555555555555556,\"#d8576b\"],[0.6666666666666666,\"#ed7953\"],[0.7777777777777778,\"#fb9f3a\"],[0.8888888888888888,\"#fdca26\"],[1.0,\"#f0f921\"]],\"sequentialminus\":[[0.0,\"#0d0887\"],[0.1111111111111111,\"#46039f\"],[0.2222222222222222,\"#7201a8\"],[0.3333333333333333,\"#9c179e\"],[0.4444444444444444,\"#bd3786\"],[0.5555555555555556,\"#d8576b\"],[0.6666666666666666,\"#ed7953\"],[0.7777777777777778,\"#fb9f3a\"],[0.8888888888888888,\"#fdca26\"],[1.0,\"#f0f921\"]],\"diverging\":[[0,\"#8e0152\"],[0.1,\"#c51b7d\"],[0.2,\"#de77ae\"],[0.3,\"#f1b6da\"],[0.4,\"#fde0ef\"],[0.5,\"#f7f7f7\"],[0.6,\"#e6f5d0\"],[0.7,\"#b8e186\"],[0.8,\"#7fbc41\"],[0.9,\"#4d9221\"],[1,\"#276419\"]]},\"xaxis\":{\"gridcolor\":\"white\",\"linecolor\":\"white\",\"ticks\":\"\",\"title\":{\"standoff\":15},\"zerolinecolor\":\"white\",\"automargin\":true,\"zerolinewidth\":2},\"yaxis\":{\"gridcolor\":\"white\",\"linecolor\":\"white\",\"ticks\":\"\",\"title\":{\"standoff\":15},\"zerolinecolor\":\"white\",\"automargin\":true,\"zerolinewidth\":2},\"scene\":{\"xaxis\":{\"backgroundcolor\":\"#E5ECF6\",\"gridcolor\":\"white\",\"linecolor\":\"white\",\"showbackground\":true,\"ticks\":\"\",\"zerolinecolor\":\"white\",\"gridwidth\":2},\"yaxis\":{\"backgroundcolor\":\"#E5ECF6\",\"gridcolor\":\"white\",\"linecolor\":\"white\",\"showbackground\":true,\"ticks\":\"\",\"zerolinecolor\":\"white\",\"gridwidth\":2},\"zaxis\":{\"backgroundcolor\":\"#E5ECF6\",\"gridcolor\":\"white\",\"linecolor\":\"white\",\"showbackground\":true,\"ticks\":\"\",\"zerolinecolor\":\"white\",\"gridwidth\":2}},\"shapedefaults\":{\"line\":{\"color\":\"#2a3f5f\"}},\"annotationdefaults\":{\"arrowcolor\":\"#2a3f5f\",\"arrowhead\":0,\"arrowwidth\":1},\"geo\":{\"bgcolor\":\"white\",\"landcolor\":\"#E5ECF6\",\"subunitcolor\":\"white\",\"showland\":true,\"showlakes\":true,\"lakecolor\":\"white\"},\"title\":{\"x\":0.05},\"mapbox\":{\"style\":\"light\"}}},\"xaxis\":{\"anchor\":\"y\",\"domain\":[0.0,1.0],\"title\":{\"text\":\"yr\"}},\"yaxis\":{\"anchor\":\"x\",\"domain\":[0.0,1.0],\"title\":{\"text\":\"count\"}},\"legend\":{\"tracegroupgap\":0},\"title\":{\"text\":\"Histogram of values for yr\"},\"barmode\":\"relative\"},                        {\"responsive\": true}                    ).then(function(){\n                            \nvar gd = document.getElementById('b37a05c2-d6fa-48e0-9ba7-f83c17908bae');\nvar x = new MutationObserver(function (mutations, observer) {{\n        var display = window.getComputedStyle(gd).display;\n        if (!display || display === 'none') {{\n            console.log([gd, 'removed!']);\n            Plotly.purge(gd);\n            observer.disconnect();\n        }}\n}});\n\n// Listen for the removal of the full notebook cells\nvar notebookContainer = gd.closest('#notebook-container');\nif (notebookContainer) {{\n    x.observe(notebookContainer, {childList: true});\n}}\n\n// Listen for the clearing of the current output cell\nvar outputEl = gd.closest('.output');\nif (outputEl) {{\n    x.observe(outputEl, {childList: true});\n}}\n\n                        })                };                            </script>        </div>\n</body>\n</html>"
     },
     "metadata": {},
     "output_type": "display_data"
    },
    {
     "data": {
      "text/html": "<html>\n<head><meta charset=\"utf-8\" /></head>\n<body>\n    <div>            <script src=\"https://cdnjs.cloudflare.com/ajax/libs/mathjax/2.7.5/MathJax.js?config=TeX-AMS-MML_SVG\"></script><script type=\"text/javascript\">if (window.MathJax && window.MathJax.Hub && window.MathJax.Hub.Config) {window.MathJax.Hub.Config({SVG: {font: \"STIX-Web\"}});}</script>                <script type=\"text/javascript\">window.PlotlyConfig = {MathJaxConfig: 'local'};</script>\n        <script src=\"https://cdn.plot.ly/plotly-2.14.0.min.js\"></script>                <div id=\"1cd348c7-7b2b-4c6e-a2af-2afe3393c15e\" class=\"plotly-graph-div\" style=\"height:525px; width:100%;\"></div>            <script type=\"text/javascript\">                                    window.PLOTLYENV=window.PLOTLYENV || {};                                    if (document.getElementById(\"1cd348c7-7b2b-4c6e-a2af-2afe3393c15e\")) {                    Plotly.newPlot(                        \"1cd348c7-7b2b-4c6e-a2af-2afe3393c15e\",                        [{\"alignmentgroup\":\"True\",\"hovertemplate\":\"yr=%{x}<br>cnt=%{y}<extra></extra>\",\"legendgroup\":\"\",\"marker\":{\"color\":\"#636efa\"},\"name\":\"\",\"notched\":false,\"offsetgroup\":\"\",\"orientation\":\"v\",\"showlegend\":false,\"x\":[0,0,0,0,0,0,0,0,0,0,0,0,0,0,0,0,0,0,0,0,0,0,0,0,0,0,0,0,0,0,0,0,0,0,0,0,0,0,0,0,0,0,0,0,0,0,0,0,0,0,0,0,0,0,0,0,0,0,0,0,0,0,0,0,0,0,0,0,0,0,0,0,0,0,0,0,0,0,0,0,0,0,0,0,0,0,0,0,0,0,0,0,0,0,0,0,0,0,0,0,0,0,0,0,0,0,0,0,0,0,0,0,0,0,0,0,0,0,0,0,0,0,0,0,0,0,0,0,0,0,0,0,0,0,0,0,0,0,0,0,0,0,0,0,0,0,0,0,0,0,0,0,0,0,0,0,0,0,0,0,0,0,0,0,0,0,0,0,0,0,0,0,0,0,0,0,0,0,0,0,0,0,0,0,0,0,0,0,0,0,0,0,0,0,0,0,0,0,0,0,0,0,0,0,0,0,0,0,0,0,0,0,0,0,0,0,0,0,0,0,0,0,0,0,0,0,0,0,0,0,0,0,0,0,0,0,0,0,0,0,0,0,0,0,0,0,0,0,0,0,0,0,0,0,0,0,0,0,0,0,0,0,0,0,0,0,0,0,0,0,0,0,0,0,0,0,0,0,0,0,0,0,0,0,0,0,0,0,0,0,0,0,0,0,0,0,0,0,0,0,0,0,0,0,0,0,0,0,0,0,0,0,0,0,0,0,0,0,0,0,0,0,0,0,0,0,0,0,0,0,0,0,0,0,0,0,0,0,0,0,0,0,0,0,0,0,0,0,0,0,0,0,0,0,0,0,0,0,0,0,0,0,0,0,0,1,1,1,1,1,1,1,1,1,1,1,1,1,1,1,1,1,1,1,1,1,1,1,1,1,1,1,1,1,1,1,1,1,1,1,1,1,1,1,1,1,1,1,1,1,1,1,1,1,1,1,1,1,1,1,1,1,1,1,1,1,1,1,1,1,1,1,1,1,1,1,1,1,1,1,1,1,1,1,1,1,1,1,1,1,1,1,1,1,1,1,1,1,1,1,1,1,1,1,1,1,1,1,1,1,1,1,1,1,1,1,1,1,1,1,1,1,1,1,1,1,1,1,1,1,1,1,1,1,1,1,1,1,1,1,1,1,1,1,1,1,1,1,1,1,1,1,1,1,1,1,1,1,1,1,1,1,1,1,1,1,1,1,1,1,1,1,1,1,1,1,1,1,1,1,1,1,1,1,1,1,1,1,1,1,1,1,1,1,1,1,1,1,1,1,1,1,1,1,1,1,1,1,1,1,1,1,1,1,1,1,1,1,1,1,1,1,1,1,1,1,1,1,1,1,1,1,1,1,1,1,1,1,1,1,1,1,1,1,1,1,1,1,1,1,1,1,1,1,1,1,1,1,1,1,1,1,1,1,1,1,1,1,1,1,1,1,1,1,1,1,1,1,1,1,1,1,1,1,1,1,1,1,1,1,1,1,1,1,1,1,1,1,1,1,1,1,1,1,1,1,1,1,1,1,1,1,1,1,1,1,1,1,1,1,1,1,1,1,1,1,1,1,1,1,1,1,1,1,1,1,1,1,1,1,1,1,1,1,1,1,1,1,1,1,1,1,1,1,1,1,1,1,1,1,1,1,1,1,1,1,1,1,1,1],\"x0\":\" \",\"xaxis\":\"x\",\"y\":[985,801,1349,1562,1600,1606,1510,959,822,1321,1263,1162,1406,1421,1248,1204,1000,683,1650,1927,1543,981,986,1416,1985,506,431,1167,1098,1096,1501,1360,1526,1550,1708,1005,1623,1712,1530,1605,1538,1746,1472,1589,1913,1815,2115,2475,2927,1635,1812,1107,1450,1917,1807,1461,1969,2402,1446,1851,2134,1685,1944,2077,605,1872,2133,1891,623,1977,2132,2417,2046,2056,2192,2744,3239,3117,2471,2077,2703,2121,1865,2210,2496,1693,2028,2425,1536,1685,2227,2252,3249,3115,1795,2808,3141,1471,2455,2895,3348,2034,2162,3267,3126,795,3744,3429,3204,3944,4189,1683,4036,4191,4073,4400,3872,4058,4595,5312,3351,4401,4451,2633,4433,4608,4714,4333,4362,4803,4182,4864,4105,3409,4553,3958,4123,3855,4575,4917,5805,4660,4274,4492,4978,4677,4679,4758,4788,4098,3982,3974,4968,5312,5342,4906,4548,4833,4401,3915,4586,4966,4460,5020,4891,5180,3767,4844,5119,4744,4010,4835,4507,4790,4991,5202,5305,4708,4648,5225,5515,5362,5119,4649,6043,4665,4629,4592,4040,5336,4881,4086,4258,4342,5084,5538,5923,5302,4458,4541,4332,3784,3387,3285,3606,3840,4590,4656,4390,3846,4475,4302,4266,4845,3574,4576,4866,4294,3785,4326,4602,4780,4792,4905,4150,3820,4338,4725,4694,3805,4153,5191,3873,4758,5895,5130,3542,4661,1115,4334,4634,5204,5058,5115,4727,4484,4940,3351,2710,1996,1842,3544,5345,5046,4713,4763,4785,3659,4760,4511,4274,4539,3641,4352,4795,2395,5423,5010,4630,4120,3907,4839,5202,2429,2918,3570,4456,4826,4765,4985,5409,5511,5117,4563,2416,2913,3644,5217,5041,4570,4748,2424,4195,4304,4308,4381,4187,4687,3894,2659,3747,627,3331,3669,4068,4186,3974,4046,3926,3649,4035,4205,4109,2933,3368,4067,3717,4486,4195,1817,3053,3392,3663,3520,2765,1607,2566,1495,2792,3068,3071,3867,2914,3613,3727,3940,3614,3485,3811,2594,705,3322,3620,3190,2743,3310,3523,3740,3709,3577,2739,2431,3403,3750,2660,3068,2209,1011,754,1317,1162,2302,2423,2999,2485,2294,1951,2236,2368,3272,4098,4521,3425,2376,3598,2177,4097,3214,2493,2311,2298,2935,3376,3292,3163,1301,1977,2432,4339,4270,4075,3456,4023,3243,3624,4509,4579,3761,4151,2832,2947,3784,4375,2802,3830,3831,2169,1529,3422,3922,4169,3005,4154,4318,2689,3129,3777,4773,5062,3487,2732,3389,4322,4363,4990,3194,4066,3423,3333,3956,4916,5382,4569,4118,4911,5298,5847,6312,6192,4378,7836,5892,6153,6093,6230,6871,8362,3372,4996,5558,5102,5698,6133,5459,6235,6041,5936,6772,6436,6457,6460,6857,5169,5585,5918,4862,5409,6398,7460,7132,6370,6691,4367,6565,7290,6624,1027,3214,5633,6196,5026,6233,4220,6304,5572,5740,6169,6421,6296,6883,6359,6273,5728,4717,6572,7030,7429,6118,2843,5115,7424,7384,7639,8294,7129,4359,6073,5260,6770,6734,6536,6591,6043,5743,6855,7338,4127,8120,7641,6998,7001,7055,7494,7736,7498,6598,6664,4972,7421,7363,7665,7702,6978,5099,6825,6211,5905,5823,7458,6891,6779,7442,7335,6879,5463,5687,5531,6227,6660,7403,6241,6207,4840,4672,6569,6290,7264,7446,7499,6969,6031,6830,6786,5713,6591,5870,4459,7410,6966,7592,8173,6861,6904,6685,6597,7105,7216,7580,7261,7175,6824,5464,7013,7273,7534,7286,5786,6299,6544,6883,6784,7347,7605,7148,7865,4549,6530,7006,7375,7765,7582,6053,5255,6917,7040,7697,7713,7350,6140,5810,6034,6864,7112,6203,7504,5976,8227,7525,7767,7870,7804,8009,8714,7333,6869,4073,7591,7720,8167,8395,7907,7436,7538,7733,7393,7415,8555,6889,6778,4639,7572,7328,8156,7965,3510,5478,6392,7691,7570,7282,7109,6639,5875,7534,7461,7509,5424,8090,6824,7058,7466,7693,7359,7444,7852,4459,22,1096,5566,5986,5847,5138,5107,5259,5686,5035,5315,5992,6536,6852,6269,4094,5495,5445,5698,5629,4669,5499,5634,5146,2425,3910,2277,2424,5087,3959,5260,5323,5668,5191,4649,6234,6606,5729,5375,5008,5582,3228,5170,5501,5319,5532,5611,5047,3786,4585,5557,5267,4128,3623,1749,1787,920,1013,441,2114,3095,1341,1796,2729],\"y0\":\" \",\"yaxis\":\"y\",\"type\":\"box\"}],                        {\"template\":{\"data\":{\"histogram2dcontour\":[{\"type\":\"histogram2dcontour\",\"colorbar\":{\"outlinewidth\":0,\"ticks\":\"\"},\"colorscale\":[[0.0,\"#0d0887\"],[0.1111111111111111,\"#46039f\"],[0.2222222222222222,\"#7201a8\"],[0.3333333333333333,\"#9c179e\"],[0.4444444444444444,\"#bd3786\"],[0.5555555555555556,\"#d8576b\"],[0.6666666666666666,\"#ed7953\"],[0.7777777777777778,\"#fb9f3a\"],[0.8888888888888888,\"#fdca26\"],[1.0,\"#f0f921\"]]}],\"choropleth\":[{\"type\":\"choropleth\",\"colorbar\":{\"outlinewidth\":0,\"ticks\":\"\"}}],\"histogram2d\":[{\"type\":\"histogram2d\",\"colorbar\":{\"outlinewidth\":0,\"ticks\":\"\"},\"colorscale\":[[0.0,\"#0d0887\"],[0.1111111111111111,\"#46039f\"],[0.2222222222222222,\"#7201a8\"],[0.3333333333333333,\"#9c179e\"],[0.4444444444444444,\"#bd3786\"],[0.5555555555555556,\"#d8576b\"],[0.6666666666666666,\"#ed7953\"],[0.7777777777777778,\"#fb9f3a\"],[0.8888888888888888,\"#fdca26\"],[1.0,\"#f0f921\"]]}],\"heatmap\":[{\"type\":\"heatmap\",\"colorbar\":{\"outlinewidth\":0,\"ticks\":\"\"},\"colorscale\":[[0.0,\"#0d0887\"],[0.1111111111111111,\"#46039f\"],[0.2222222222222222,\"#7201a8\"],[0.3333333333333333,\"#9c179e\"],[0.4444444444444444,\"#bd3786\"],[0.5555555555555556,\"#d8576b\"],[0.6666666666666666,\"#ed7953\"],[0.7777777777777778,\"#fb9f3a\"],[0.8888888888888888,\"#fdca26\"],[1.0,\"#f0f921\"]]}],\"heatmapgl\":[{\"type\":\"heatmapgl\",\"colorbar\":{\"outlinewidth\":0,\"ticks\":\"\"},\"colorscale\":[[0.0,\"#0d0887\"],[0.1111111111111111,\"#46039f\"],[0.2222222222222222,\"#7201a8\"],[0.3333333333333333,\"#9c179e\"],[0.4444444444444444,\"#bd3786\"],[0.5555555555555556,\"#d8576b\"],[0.6666666666666666,\"#ed7953\"],[0.7777777777777778,\"#fb9f3a\"],[0.8888888888888888,\"#fdca26\"],[1.0,\"#f0f921\"]]}],\"contourcarpet\":[{\"type\":\"contourcarpet\",\"colorbar\":{\"outlinewidth\":0,\"ticks\":\"\"}}],\"contour\":[{\"type\":\"contour\",\"colorbar\":{\"outlinewidth\":0,\"ticks\":\"\"},\"colorscale\":[[0.0,\"#0d0887\"],[0.1111111111111111,\"#46039f\"],[0.2222222222222222,\"#7201a8\"],[0.3333333333333333,\"#9c179e\"],[0.4444444444444444,\"#bd3786\"],[0.5555555555555556,\"#d8576b\"],[0.6666666666666666,\"#ed7953\"],[0.7777777777777778,\"#fb9f3a\"],[0.8888888888888888,\"#fdca26\"],[1.0,\"#f0f921\"]]}],\"surface\":[{\"type\":\"surface\",\"colorbar\":{\"outlinewidth\":0,\"ticks\":\"\"},\"colorscale\":[[0.0,\"#0d0887\"],[0.1111111111111111,\"#46039f\"],[0.2222222222222222,\"#7201a8\"],[0.3333333333333333,\"#9c179e\"],[0.4444444444444444,\"#bd3786\"],[0.5555555555555556,\"#d8576b\"],[0.6666666666666666,\"#ed7953\"],[0.7777777777777778,\"#fb9f3a\"],[0.8888888888888888,\"#fdca26\"],[1.0,\"#f0f921\"]]}],\"mesh3d\":[{\"type\":\"mesh3d\",\"colorbar\":{\"outlinewidth\":0,\"ticks\":\"\"}}],\"scatter\":[{\"fillpattern\":{\"fillmode\":\"overlay\",\"size\":10,\"solidity\":0.2},\"type\":\"scatter\"}],\"parcoords\":[{\"type\":\"parcoords\",\"line\":{\"colorbar\":{\"outlinewidth\":0,\"ticks\":\"\"}}}],\"scatterpolargl\":[{\"type\":\"scatterpolargl\",\"marker\":{\"colorbar\":{\"outlinewidth\":0,\"ticks\":\"\"}}}],\"bar\":[{\"error_x\":{\"color\":\"#2a3f5f\"},\"error_y\":{\"color\":\"#2a3f5f\"},\"marker\":{\"line\":{\"color\":\"#E5ECF6\",\"width\":0.5},\"pattern\":{\"fillmode\":\"overlay\",\"size\":10,\"solidity\":0.2}},\"type\":\"bar\"}],\"scattergeo\":[{\"type\":\"scattergeo\",\"marker\":{\"colorbar\":{\"outlinewidth\":0,\"ticks\":\"\"}}}],\"scatterpolar\":[{\"type\":\"scatterpolar\",\"marker\":{\"colorbar\":{\"outlinewidth\":0,\"ticks\":\"\"}}}],\"histogram\":[{\"marker\":{\"pattern\":{\"fillmode\":\"overlay\",\"size\":10,\"solidity\":0.2}},\"type\":\"histogram\"}],\"scattergl\":[{\"type\":\"scattergl\",\"marker\":{\"colorbar\":{\"outlinewidth\":0,\"ticks\":\"\"}}}],\"scatter3d\":[{\"type\":\"scatter3d\",\"line\":{\"colorbar\":{\"outlinewidth\":0,\"ticks\":\"\"}},\"marker\":{\"colorbar\":{\"outlinewidth\":0,\"ticks\":\"\"}}}],\"scattermapbox\":[{\"type\":\"scattermapbox\",\"marker\":{\"colorbar\":{\"outlinewidth\":0,\"ticks\":\"\"}}}],\"scatterternary\":[{\"type\":\"scatterternary\",\"marker\":{\"colorbar\":{\"outlinewidth\":0,\"ticks\":\"\"}}}],\"scattercarpet\":[{\"type\":\"scattercarpet\",\"marker\":{\"colorbar\":{\"outlinewidth\":0,\"ticks\":\"\"}}}],\"carpet\":[{\"aaxis\":{\"endlinecolor\":\"#2a3f5f\",\"gridcolor\":\"white\",\"linecolor\":\"white\",\"minorgridcolor\":\"white\",\"startlinecolor\":\"#2a3f5f\"},\"baxis\":{\"endlinecolor\":\"#2a3f5f\",\"gridcolor\":\"white\",\"linecolor\":\"white\",\"minorgridcolor\":\"white\",\"startlinecolor\":\"#2a3f5f\"},\"type\":\"carpet\"}],\"table\":[{\"cells\":{\"fill\":{\"color\":\"#EBF0F8\"},\"line\":{\"color\":\"white\"}},\"header\":{\"fill\":{\"color\":\"#C8D4E3\"},\"line\":{\"color\":\"white\"}},\"type\":\"table\"}],\"barpolar\":[{\"marker\":{\"line\":{\"color\":\"#E5ECF6\",\"width\":0.5},\"pattern\":{\"fillmode\":\"overlay\",\"size\":10,\"solidity\":0.2}},\"type\":\"barpolar\"}],\"pie\":[{\"automargin\":true,\"type\":\"pie\"}]},\"layout\":{\"autotypenumbers\":\"strict\",\"colorway\":[\"#636efa\",\"#EF553B\",\"#00cc96\",\"#ab63fa\",\"#FFA15A\",\"#19d3f3\",\"#FF6692\",\"#B6E880\",\"#FF97FF\",\"#FECB52\"],\"font\":{\"color\":\"#2a3f5f\"},\"hovermode\":\"closest\",\"hoverlabel\":{\"align\":\"left\"},\"paper_bgcolor\":\"white\",\"plot_bgcolor\":\"#E5ECF6\",\"polar\":{\"bgcolor\":\"#E5ECF6\",\"angularaxis\":{\"gridcolor\":\"white\",\"linecolor\":\"white\",\"ticks\":\"\"},\"radialaxis\":{\"gridcolor\":\"white\",\"linecolor\":\"white\",\"ticks\":\"\"}},\"ternary\":{\"bgcolor\":\"#E5ECF6\",\"aaxis\":{\"gridcolor\":\"white\",\"linecolor\":\"white\",\"ticks\":\"\"},\"baxis\":{\"gridcolor\":\"white\",\"linecolor\":\"white\",\"ticks\":\"\"},\"caxis\":{\"gridcolor\":\"white\",\"linecolor\":\"white\",\"ticks\":\"\"}},\"coloraxis\":{\"colorbar\":{\"outlinewidth\":0,\"ticks\":\"\"}},\"colorscale\":{\"sequential\":[[0.0,\"#0d0887\"],[0.1111111111111111,\"#46039f\"],[0.2222222222222222,\"#7201a8\"],[0.3333333333333333,\"#9c179e\"],[0.4444444444444444,\"#bd3786\"],[0.5555555555555556,\"#d8576b\"],[0.6666666666666666,\"#ed7953\"],[0.7777777777777778,\"#fb9f3a\"],[0.8888888888888888,\"#fdca26\"],[1.0,\"#f0f921\"]],\"sequentialminus\":[[0.0,\"#0d0887\"],[0.1111111111111111,\"#46039f\"],[0.2222222222222222,\"#7201a8\"],[0.3333333333333333,\"#9c179e\"],[0.4444444444444444,\"#bd3786\"],[0.5555555555555556,\"#d8576b\"],[0.6666666666666666,\"#ed7953\"],[0.7777777777777778,\"#fb9f3a\"],[0.8888888888888888,\"#fdca26\"],[1.0,\"#f0f921\"]],\"diverging\":[[0,\"#8e0152\"],[0.1,\"#c51b7d\"],[0.2,\"#de77ae\"],[0.3,\"#f1b6da\"],[0.4,\"#fde0ef\"],[0.5,\"#f7f7f7\"],[0.6,\"#e6f5d0\"],[0.7,\"#b8e186\"],[0.8,\"#7fbc41\"],[0.9,\"#4d9221\"],[1,\"#276419\"]]},\"xaxis\":{\"gridcolor\":\"white\",\"linecolor\":\"white\",\"ticks\":\"\",\"title\":{\"standoff\":15},\"zerolinecolor\":\"white\",\"automargin\":true,\"zerolinewidth\":2},\"yaxis\":{\"gridcolor\":\"white\",\"linecolor\":\"white\",\"ticks\":\"\",\"title\":{\"standoff\":15},\"zerolinecolor\":\"white\",\"automargin\":true,\"zerolinewidth\":2},\"scene\":{\"xaxis\":{\"backgroundcolor\":\"#E5ECF6\",\"gridcolor\":\"white\",\"linecolor\":\"white\",\"showbackground\":true,\"ticks\":\"\",\"zerolinecolor\":\"white\",\"gridwidth\":2},\"yaxis\":{\"backgroundcolor\":\"#E5ECF6\",\"gridcolor\":\"white\",\"linecolor\":\"white\",\"showbackground\":true,\"ticks\":\"\",\"zerolinecolor\":\"white\",\"gridwidth\":2},\"zaxis\":{\"backgroundcolor\":\"#E5ECF6\",\"gridcolor\":\"white\",\"linecolor\":\"white\",\"showbackground\":true,\"ticks\":\"\",\"zerolinecolor\":\"white\",\"gridwidth\":2}},\"shapedefaults\":{\"line\":{\"color\":\"#2a3f5f\"}},\"annotationdefaults\":{\"arrowcolor\":\"#2a3f5f\",\"arrowhead\":0,\"arrowwidth\":1},\"geo\":{\"bgcolor\":\"white\",\"landcolor\":\"#E5ECF6\",\"subunitcolor\":\"white\",\"showland\":true,\"showlakes\":true,\"lakecolor\":\"white\"},\"title\":{\"x\":0.05},\"mapbox\":{\"style\":\"light\"}}},\"xaxis\":{\"anchor\":\"y\",\"domain\":[0.0,1.0],\"title\":{\"text\":\"yr\"}},\"yaxis\":{\"anchor\":\"x\",\"domain\":[0.0,1.0],\"title\":{\"text\":\"cnt\"}},\"legend\":{\"tracegroupgap\":0},\"title\":{\"text\":\"Boxplot of values for yr against our target variable cnt\"},\"boxmode\":\"group\"},                        {\"responsive\": true}                    ).then(function(){\n                            \nvar gd = document.getElementById('1cd348c7-7b2b-4c6e-a2af-2afe3393c15e');\nvar x = new MutationObserver(function (mutations, observer) {{\n        var display = window.getComputedStyle(gd).display;\n        if (!display || display === 'none') {{\n            console.log([gd, 'removed!']);\n            Plotly.purge(gd);\n            observer.disconnect();\n        }}\n}});\n\n// Listen for the removal of the full notebook cells\nvar notebookContainer = gd.closest('#notebook-container');\nif (notebookContainer) {{\n    x.observe(notebookContainer, {childList: true});\n}}\n\n// Listen for the clearing of the current output cell\nvar outputEl = gd.closest('.output');\nif (outputEl) {{\n    x.observe(outputEl, {childList: true});\n}}\n\n                        })                };                            </script>        </div>\n</body>\n</html>"
     },
     "metadata": {},
     "output_type": "display_data"
    }
   ]
  },
  {
   "cell_type": "markdown",
   "source": "Our histogram indicates that our data is evenly distributed between year 0 and year 1. Our box plots tell an interesting story though. We can see that the number of casual and registered users went up in year 1. In addition, the median, max and min of registered users appears to jump significantly more than casual users.",
   "metadata": {
    "formattedRanges": [],
    "is_collapsed": false,
    "cell_id": "6b0338f24cb74b7aab1cfe14b91949aa",
    "tags": [],
    "deepnote_cell_type": "text-cell-p"
   }
  },
  {
   "cell_type": "code",
   "metadata": {
    "cell_id": "206dded3164142f396ea5e3d510d4824",
    "tags": [],
    "deepnote_to_be_reexecuted": false,
    "source_hash": "9c7eca23",
    "execution_start": 1663728012477,
    "execution_millis": 104,
    "deepnote_cell_type": "code",
    "deepnote_cell_height": 1378.25,
    "deepnote_output_heights": [
     null,
     526,
     526
    ]
   },
   "source": "create_feature_analysis(data, 'mnth')",
   "execution_count": 12,
   "outputs": [
    {
     "name": "stdout",
     "text": "DESCRIPTIVE SUMMARY of mnth\ncount        730\nunique        12\ntop       august\nfreq          62\nName: mnth, dtype: object\n\n\nUNIQUE VALUE COUNT: 12\n",
     "output_type": "stream"
    },
    {
     "data": {
      "text/html": "<html>\n<head><meta charset=\"utf-8\" /></head>\n<body>\n    <div>            <script src=\"https://cdnjs.cloudflare.com/ajax/libs/mathjax/2.7.5/MathJax.js?config=TeX-AMS-MML_SVG\"></script><script type=\"text/javascript\">if (window.MathJax && window.MathJax.Hub && window.MathJax.Hub.Config) {window.MathJax.Hub.Config({SVG: {font: \"STIX-Web\"}});}</script>                <script type=\"text/javascript\">window.PlotlyConfig = {MathJaxConfig: 'local'};</script>\n        <script src=\"https://cdn.plot.ly/plotly-2.14.0.min.js\"></script>                <div id=\"85dc6a1e-b27d-45a1-91a4-769e6685c13d\" class=\"plotly-graph-div\" style=\"height:525px; width:100%;\"></div>            <script type=\"text/javascript\">                                    window.PLOTLYENV=window.PLOTLYENV || {};                                    if (document.getElementById(\"85dc6a1e-b27d-45a1-91a4-769e6685c13d\")) {                    Plotly.newPlot(                        \"85dc6a1e-b27d-45a1-91a4-769e6685c13d\",                        [{\"alignmentgroup\":\"True\",\"bingroup\":\"x\",\"hovertemplate\":\"mnth=%{x}<br>count=%{y}<extra></extra>\",\"legendgroup\":\"\",\"marker\":{\"color\":\"#636efa\",\"pattern\":{\"shape\":\"\"}},\"name\":\"\",\"offsetgroup\":\"\",\"orientation\":\"v\",\"showlegend\":false,\"x\":[\"jan\",\"jan\",\"jan\",\"jan\",\"jan\",\"jan\",\"jan\",\"jan\",\"jan\",\"jan\",\"jan\",\"jan\",\"jan\",\"jan\",\"jan\",\"jan\",\"jan\",\"jan\",\"jan\",\"jan\",\"jan\",\"jan\",\"jan\",\"jan\",\"jan\",\"jan\",\"jan\",\"jan\",\"jan\",\"jan\",\"jan\",\"feb\",\"feb\",\"feb\",\"feb\",\"feb\",\"feb\",\"feb\",\"feb\",\"feb\",\"feb\",\"feb\",\"feb\",\"feb\",\"feb\",\"feb\",\"feb\",\"feb\",\"feb\",\"feb\",\"feb\",\"feb\",\"feb\",\"feb\",\"feb\",\"feb\",\"feb\",\"feb\",\"feb\",\"march\",\"march\",\"march\",\"march\",\"march\",\"march\",\"march\",\"march\",\"march\",\"march\",\"march\",\"march\",\"march\",\"march\",\"march\",\"march\",\"march\",\"march\",\"march\",\"march\",\"march\",\"march\",\"march\",\"march\",\"march\",\"march\",\"march\",\"march\",\"march\",\"march\",\"march\",\"april\",\"april\",\"april\",\"april\",\"april\",\"april\",\"april\",\"april\",\"april\",\"april\",\"april\",\"april\",\"april\",\"april\",\"april\",\"april\",\"april\",\"april\",\"april\",\"april\",\"april\",\"april\",\"april\",\"april\",\"april\",\"april\",\"april\",\"april\",\"april\",\"april\",\"may\",\"may\",\"may\",\"may\",\"may\",\"may\",\"may\",\"may\",\"may\",\"may\",\"may\",\"may\",\"may\",\"may\",\"may\",\"may\",\"may\",\"may\",\"may\",\"may\",\"may\",\"may\",\"may\",\"may\",\"may\",\"may\",\"may\",\"may\",\"may\",\"may\",\"may\",\"june\",\"june\",\"june\",\"june\",\"june\",\"june\",\"june\",\"june\",\"june\",\"june\",\"june\",\"june\",\"june\",\"june\",\"june\",\"june\",\"june\",\"june\",\"june\",\"june\",\"june\",\"june\",\"june\",\"june\",\"june\",\"june\",\"june\",\"june\",\"june\",\"june\",\"july\",\"july\",\"july\",\"july\",\"july\",\"july\",\"july\",\"july\",\"july\",\"july\",\"july\",\"july\",\"july\",\"july\",\"july\",\"july\",\"july\",\"july\",\"july\",\"july\",\"july\",\"july\",\"july\",\"july\",\"july\",\"july\",\"july\",\"july\",\"july\",\"july\",\"july\",\"august\",\"august\",\"august\",\"august\",\"august\",\"august\",\"august\",\"august\",\"august\",\"august\",\"august\",\"august\",\"august\",\"august\",\"august\",\"august\",\"august\",\"august\",\"august\",\"august\",\"august\",\"august\",\"august\",\"august\",\"august\",\"august\",\"august\",\"august\",\"august\",\"august\",\"august\",\"september\",\"september\",\"september\",\"september\",\"september\",\"september\",\"september\",\"september\",\"september\",\"september\",\"september\",\"september\",\"september\",\"september\",\"september\",\"september\",\"september\",\"september\",\"september\",\"september\",\"september\",\"september\",\"september\",\"september\",\"september\",\"september\",\"september\",\"september\",\"september\",\"september\",\"october\",\"october\",\"october\",\"october\",\"october\",\"october\",\"october\",\"october\",\"october\",\"october\",\"october\",\"october\",\"october\",\"october\",\"october\",\"october\",\"october\",\"october\",\"october\",\"october\",\"october\",\"october\",\"october\",\"october\",\"october\",\"october\",\"october\",\"october\",\"october\",\"october\",\"october\",\"november\",\"november\",\"november\",\"november\",\"november\",\"november\",\"november\",\"november\",\"november\",\"november\",\"november\",\"november\",\"november\",\"november\",\"november\",\"november\",\"november\",\"november\",\"november\",\"november\",\"november\",\"november\",\"november\",\"november\",\"november\",\"november\",\"november\",\"november\",\"november\",\"november\",\"december\",\"december\",\"december\",\"december\",\"december\",\"december\",\"december\",\"december\",\"december\",\"december\",\"december\",\"december\",\"december\",\"december\",\"december\",\"december\",\"december\",\"december\",\"december\",\"december\",\"december\",\"december\",\"december\",\"december\",\"december\",\"december\",\"december\",\"december\",\"december\",\"december\",\"december\",\"jan\",\"jan\",\"jan\",\"jan\",\"jan\",\"jan\",\"jan\",\"jan\",\"jan\",\"jan\",\"jan\",\"jan\",\"jan\",\"jan\",\"jan\",\"jan\",\"jan\",\"jan\",\"jan\",\"jan\",\"jan\",\"jan\",\"jan\",\"jan\",\"jan\",\"jan\",\"jan\",\"jan\",\"jan\",\"jan\",\"jan\",\"feb\",\"feb\",\"feb\",\"feb\",\"feb\",\"feb\",\"feb\",\"feb\",\"feb\",\"feb\",\"feb\",\"feb\",\"feb\",\"feb\",\"feb\",\"feb\",\"feb\",\"feb\",\"feb\",\"feb\",\"feb\",\"feb\",\"feb\",\"feb\",\"feb\",\"feb\",\"feb\",\"feb\",\"march\",\"march\",\"march\",\"march\",\"march\",\"march\",\"march\",\"march\",\"march\",\"march\",\"march\",\"march\",\"march\",\"march\",\"march\",\"march\",\"march\",\"march\",\"march\",\"march\",\"march\",\"march\",\"march\",\"march\",\"march\",\"march\",\"march\",\"march\",\"march\",\"march\",\"march\",\"april\",\"april\",\"april\",\"april\",\"april\",\"april\",\"april\",\"april\",\"april\",\"april\",\"april\",\"april\",\"april\",\"april\",\"april\",\"april\",\"april\",\"april\",\"april\",\"april\",\"april\",\"april\",\"april\",\"april\",\"april\",\"april\",\"april\",\"april\",\"april\",\"april\",\"may\",\"may\",\"may\",\"may\",\"may\",\"may\",\"may\",\"may\",\"may\",\"may\",\"may\",\"may\",\"may\",\"may\",\"may\",\"may\",\"may\",\"may\",\"may\",\"may\",\"may\",\"may\",\"may\",\"may\",\"may\",\"may\",\"may\",\"may\",\"may\",\"may\",\"may\",\"june\",\"june\",\"june\",\"june\",\"june\",\"june\",\"june\",\"june\",\"june\",\"june\",\"june\",\"june\",\"june\",\"june\",\"june\",\"june\",\"june\",\"june\",\"june\",\"june\",\"june\",\"june\",\"june\",\"june\",\"june\",\"june\",\"june\",\"june\",\"june\",\"june\",\"july\",\"july\",\"july\",\"july\",\"july\",\"july\",\"july\",\"july\",\"july\",\"july\",\"july\",\"july\",\"july\",\"july\",\"july\",\"july\",\"july\",\"july\",\"july\",\"july\",\"july\",\"july\",\"july\",\"july\",\"july\",\"july\",\"july\",\"july\",\"july\",\"july\",\"july\",\"august\",\"august\",\"august\",\"august\",\"august\",\"august\",\"august\",\"august\",\"august\",\"august\",\"august\",\"august\",\"august\",\"august\",\"august\",\"august\",\"august\",\"august\",\"august\",\"august\",\"august\",\"august\",\"august\",\"august\",\"august\",\"august\",\"august\",\"august\",\"august\",\"august\",\"august\",\"september\",\"september\",\"september\",\"september\",\"september\",\"september\",\"september\",\"september\",\"september\",\"september\",\"september\",\"september\",\"september\",\"september\",\"september\",\"september\",\"september\",\"september\",\"september\",\"september\",\"september\",\"september\",\"september\",\"september\",\"september\",\"september\",\"september\",\"september\",\"september\",\"september\",\"october\",\"october\",\"october\",\"october\",\"october\",\"october\",\"october\",\"october\",\"october\",\"october\",\"october\",\"october\",\"october\",\"october\",\"october\",\"october\",\"october\",\"october\",\"october\",\"october\",\"october\",\"october\",\"october\",\"october\",\"october\",\"october\",\"october\",\"october\",\"october\",\"october\",\"october\",\"november\",\"november\",\"november\",\"november\",\"november\",\"november\",\"november\",\"november\",\"november\",\"november\",\"november\",\"november\",\"november\",\"november\",\"november\",\"november\",\"november\",\"november\",\"november\",\"november\",\"november\",\"november\",\"november\",\"november\",\"november\",\"november\",\"november\",\"november\",\"november\",\"november\",\"december\",\"december\",\"december\",\"december\",\"december\",\"december\",\"december\",\"december\",\"december\",\"december\",\"december\",\"december\",\"december\",\"december\",\"december\",\"december\",\"december\",\"december\",\"december\",\"december\",\"december\",\"december\",\"december\",\"december\",\"december\",\"december\",\"december\",\"december\",\"december\",\"december\",\"december\"],\"xaxis\":\"x\",\"yaxis\":\"y\",\"type\":\"histogram\"}],                        {\"template\":{\"data\":{\"histogram2dcontour\":[{\"type\":\"histogram2dcontour\",\"colorbar\":{\"outlinewidth\":0,\"ticks\":\"\"},\"colorscale\":[[0.0,\"#0d0887\"],[0.1111111111111111,\"#46039f\"],[0.2222222222222222,\"#7201a8\"],[0.3333333333333333,\"#9c179e\"],[0.4444444444444444,\"#bd3786\"],[0.5555555555555556,\"#d8576b\"],[0.6666666666666666,\"#ed7953\"],[0.7777777777777778,\"#fb9f3a\"],[0.8888888888888888,\"#fdca26\"],[1.0,\"#f0f921\"]]}],\"choropleth\":[{\"type\":\"choropleth\",\"colorbar\":{\"outlinewidth\":0,\"ticks\":\"\"}}],\"histogram2d\":[{\"type\":\"histogram2d\",\"colorbar\":{\"outlinewidth\":0,\"ticks\":\"\"},\"colorscale\":[[0.0,\"#0d0887\"],[0.1111111111111111,\"#46039f\"],[0.2222222222222222,\"#7201a8\"],[0.3333333333333333,\"#9c179e\"],[0.4444444444444444,\"#bd3786\"],[0.5555555555555556,\"#d8576b\"],[0.6666666666666666,\"#ed7953\"],[0.7777777777777778,\"#fb9f3a\"],[0.8888888888888888,\"#fdca26\"],[1.0,\"#f0f921\"]]}],\"heatmap\":[{\"type\":\"heatmap\",\"colorbar\":{\"outlinewidth\":0,\"ticks\":\"\"},\"colorscale\":[[0.0,\"#0d0887\"],[0.1111111111111111,\"#46039f\"],[0.2222222222222222,\"#7201a8\"],[0.3333333333333333,\"#9c179e\"],[0.4444444444444444,\"#bd3786\"],[0.5555555555555556,\"#d8576b\"],[0.6666666666666666,\"#ed7953\"],[0.7777777777777778,\"#fb9f3a\"],[0.8888888888888888,\"#fdca26\"],[1.0,\"#f0f921\"]]}],\"heatmapgl\":[{\"type\":\"heatmapgl\",\"colorbar\":{\"outlinewidth\":0,\"ticks\":\"\"},\"colorscale\":[[0.0,\"#0d0887\"],[0.1111111111111111,\"#46039f\"],[0.2222222222222222,\"#7201a8\"],[0.3333333333333333,\"#9c179e\"],[0.4444444444444444,\"#bd3786\"],[0.5555555555555556,\"#d8576b\"],[0.6666666666666666,\"#ed7953\"],[0.7777777777777778,\"#fb9f3a\"],[0.8888888888888888,\"#fdca26\"],[1.0,\"#f0f921\"]]}],\"contourcarpet\":[{\"type\":\"contourcarpet\",\"colorbar\":{\"outlinewidth\":0,\"ticks\":\"\"}}],\"contour\":[{\"type\":\"contour\",\"colorbar\":{\"outlinewidth\":0,\"ticks\":\"\"},\"colorscale\":[[0.0,\"#0d0887\"],[0.1111111111111111,\"#46039f\"],[0.2222222222222222,\"#7201a8\"],[0.3333333333333333,\"#9c179e\"],[0.4444444444444444,\"#bd3786\"],[0.5555555555555556,\"#d8576b\"],[0.6666666666666666,\"#ed7953\"],[0.7777777777777778,\"#fb9f3a\"],[0.8888888888888888,\"#fdca26\"],[1.0,\"#f0f921\"]]}],\"surface\":[{\"type\":\"surface\",\"colorbar\":{\"outlinewidth\":0,\"ticks\":\"\"},\"colorscale\":[[0.0,\"#0d0887\"],[0.1111111111111111,\"#46039f\"],[0.2222222222222222,\"#7201a8\"],[0.3333333333333333,\"#9c179e\"],[0.4444444444444444,\"#bd3786\"],[0.5555555555555556,\"#d8576b\"],[0.6666666666666666,\"#ed7953\"],[0.7777777777777778,\"#fb9f3a\"],[0.8888888888888888,\"#fdca26\"],[1.0,\"#f0f921\"]]}],\"mesh3d\":[{\"type\":\"mesh3d\",\"colorbar\":{\"outlinewidth\":0,\"ticks\":\"\"}}],\"scatter\":[{\"fillpattern\":{\"fillmode\":\"overlay\",\"size\":10,\"solidity\":0.2},\"type\":\"scatter\"}],\"parcoords\":[{\"type\":\"parcoords\",\"line\":{\"colorbar\":{\"outlinewidth\":0,\"ticks\":\"\"}}}],\"scatterpolargl\":[{\"type\":\"scatterpolargl\",\"marker\":{\"colorbar\":{\"outlinewidth\":0,\"ticks\":\"\"}}}],\"bar\":[{\"error_x\":{\"color\":\"#2a3f5f\"},\"error_y\":{\"color\":\"#2a3f5f\"},\"marker\":{\"line\":{\"color\":\"#E5ECF6\",\"width\":0.5},\"pattern\":{\"fillmode\":\"overlay\",\"size\":10,\"solidity\":0.2}},\"type\":\"bar\"}],\"scattergeo\":[{\"type\":\"scattergeo\",\"marker\":{\"colorbar\":{\"outlinewidth\":0,\"ticks\":\"\"}}}],\"scatterpolar\":[{\"type\":\"scatterpolar\",\"marker\":{\"colorbar\":{\"outlinewidth\":0,\"ticks\":\"\"}}}],\"histogram\":[{\"marker\":{\"pattern\":{\"fillmode\":\"overlay\",\"size\":10,\"solidity\":0.2}},\"type\":\"histogram\"}],\"scattergl\":[{\"type\":\"scattergl\",\"marker\":{\"colorbar\":{\"outlinewidth\":0,\"ticks\":\"\"}}}],\"scatter3d\":[{\"type\":\"scatter3d\",\"line\":{\"colorbar\":{\"outlinewidth\":0,\"ticks\":\"\"}},\"marker\":{\"colorbar\":{\"outlinewidth\":0,\"ticks\":\"\"}}}],\"scattermapbox\":[{\"type\":\"scattermapbox\",\"marker\":{\"colorbar\":{\"outlinewidth\":0,\"ticks\":\"\"}}}],\"scatterternary\":[{\"type\":\"scatterternary\",\"marker\":{\"colorbar\":{\"outlinewidth\":0,\"ticks\":\"\"}}}],\"scattercarpet\":[{\"type\":\"scattercarpet\",\"marker\":{\"colorbar\":{\"outlinewidth\":0,\"ticks\":\"\"}}}],\"carpet\":[{\"aaxis\":{\"endlinecolor\":\"#2a3f5f\",\"gridcolor\":\"white\",\"linecolor\":\"white\",\"minorgridcolor\":\"white\",\"startlinecolor\":\"#2a3f5f\"},\"baxis\":{\"endlinecolor\":\"#2a3f5f\",\"gridcolor\":\"white\",\"linecolor\":\"white\",\"minorgridcolor\":\"white\",\"startlinecolor\":\"#2a3f5f\"},\"type\":\"carpet\"}],\"table\":[{\"cells\":{\"fill\":{\"color\":\"#EBF0F8\"},\"line\":{\"color\":\"white\"}},\"header\":{\"fill\":{\"color\":\"#C8D4E3\"},\"line\":{\"color\":\"white\"}},\"type\":\"table\"}],\"barpolar\":[{\"marker\":{\"line\":{\"color\":\"#E5ECF6\",\"width\":0.5},\"pattern\":{\"fillmode\":\"overlay\",\"size\":10,\"solidity\":0.2}},\"type\":\"barpolar\"}],\"pie\":[{\"automargin\":true,\"type\":\"pie\"}]},\"layout\":{\"autotypenumbers\":\"strict\",\"colorway\":[\"#636efa\",\"#EF553B\",\"#00cc96\",\"#ab63fa\",\"#FFA15A\",\"#19d3f3\",\"#FF6692\",\"#B6E880\",\"#FF97FF\",\"#FECB52\"],\"font\":{\"color\":\"#2a3f5f\"},\"hovermode\":\"closest\",\"hoverlabel\":{\"align\":\"left\"},\"paper_bgcolor\":\"white\",\"plot_bgcolor\":\"#E5ECF6\",\"polar\":{\"bgcolor\":\"#E5ECF6\",\"angularaxis\":{\"gridcolor\":\"white\",\"linecolor\":\"white\",\"ticks\":\"\"},\"radialaxis\":{\"gridcolor\":\"white\",\"linecolor\":\"white\",\"ticks\":\"\"}},\"ternary\":{\"bgcolor\":\"#E5ECF6\",\"aaxis\":{\"gridcolor\":\"white\",\"linecolor\":\"white\",\"ticks\":\"\"},\"baxis\":{\"gridcolor\":\"white\",\"linecolor\":\"white\",\"ticks\":\"\"},\"caxis\":{\"gridcolor\":\"white\",\"linecolor\":\"white\",\"ticks\":\"\"}},\"coloraxis\":{\"colorbar\":{\"outlinewidth\":0,\"ticks\":\"\"}},\"colorscale\":{\"sequential\":[[0.0,\"#0d0887\"],[0.1111111111111111,\"#46039f\"],[0.2222222222222222,\"#7201a8\"],[0.3333333333333333,\"#9c179e\"],[0.4444444444444444,\"#bd3786\"],[0.5555555555555556,\"#d8576b\"],[0.6666666666666666,\"#ed7953\"],[0.7777777777777778,\"#fb9f3a\"],[0.8888888888888888,\"#fdca26\"],[1.0,\"#f0f921\"]],\"sequentialminus\":[[0.0,\"#0d0887\"],[0.1111111111111111,\"#46039f\"],[0.2222222222222222,\"#7201a8\"],[0.3333333333333333,\"#9c179e\"],[0.4444444444444444,\"#bd3786\"],[0.5555555555555556,\"#d8576b\"],[0.6666666666666666,\"#ed7953\"],[0.7777777777777778,\"#fb9f3a\"],[0.8888888888888888,\"#fdca26\"],[1.0,\"#f0f921\"]],\"diverging\":[[0,\"#8e0152\"],[0.1,\"#c51b7d\"],[0.2,\"#de77ae\"],[0.3,\"#f1b6da\"],[0.4,\"#fde0ef\"],[0.5,\"#f7f7f7\"],[0.6,\"#e6f5d0\"],[0.7,\"#b8e186\"],[0.8,\"#7fbc41\"],[0.9,\"#4d9221\"],[1,\"#276419\"]]},\"xaxis\":{\"gridcolor\":\"white\",\"linecolor\":\"white\",\"ticks\":\"\",\"title\":{\"standoff\":15},\"zerolinecolor\":\"white\",\"automargin\":true,\"zerolinewidth\":2},\"yaxis\":{\"gridcolor\":\"white\",\"linecolor\":\"white\",\"ticks\":\"\",\"title\":{\"standoff\":15},\"zerolinecolor\":\"white\",\"automargin\":true,\"zerolinewidth\":2},\"scene\":{\"xaxis\":{\"backgroundcolor\":\"#E5ECF6\",\"gridcolor\":\"white\",\"linecolor\":\"white\",\"showbackground\":true,\"ticks\":\"\",\"zerolinecolor\":\"white\",\"gridwidth\":2},\"yaxis\":{\"backgroundcolor\":\"#E5ECF6\",\"gridcolor\":\"white\",\"linecolor\":\"white\",\"showbackground\":true,\"ticks\":\"\",\"zerolinecolor\":\"white\",\"gridwidth\":2},\"zaxis\":{\"backgroundcolor\":\"#E5ECF6\",\"gridcolor\":\"white\",\"linecolor\":\"white\",\"showbackground\":true,\"ticks\":\"\",\"zerolinecolor\":\"white\",\"gridwidth\":2}},\"shapedefaults\":{\"line\":{\"color\":\"#2a3f5f\"}},\"annotationdefaults\":{\"arrowcolor\":\"#2a3f5f\",\"arrowhead\":0,\"arrowwidth\":1},\"geo\":{\"bgcolor\":\"white\",\"landcolor\":\"#E5ECF6\",\"subunitcolor\":\"white\",\"showland\":true,\"showlakes\":true,\"lakecolor\":\"white\"},\"title\":{\"x\":0.05},\"mapbox\":{\"style\":\"light\"}}},\"xaxis\":{\"anchor\":\"y\",\"domain\":[0.0,1.0],\"title\":{\"text\":\"mnth\"}},\"yaxis\":{\"anchor\":\"x\",\"domain\":[0.0,1.0],\"title\":{\"text\":\"count\"}},\"legend\":{\"tracegroupgap\":0},\"title\":{\"text\":\"Histogram of values for mnth\"},\"barmode\":\"relative\"},                        {\"responsive\": true}                    ).then(function(){\n                            \nvar gd = document.getElementById('85dc6a1e-b27d-45a1-91a4-769e6685c13d');\nvar x = new MutationObserver(function (mutations, observer) {{\n        var display = window.getComputedStyle(gd).display;\n        if (!display || display === 'none') {{\n            console.log([gd, 'removed!']);\n            Plotly.purge(gd);\n            observer.disconnect();\n        }}\n}});\n\n// Listen for the removal of the full notebook cells\nvar notebookContainer = gd.closest('#notebook-container');\nif (notebookContainer) {{\n    x.observe(notebookContainer, {childList: true});\n}}\n\n// Listen for the clearing of the current output cell\nvar outputEl = gd.closest('.output');\nif (outputEl) {{\n    x.observe(outputEl, {childList: true});\n}}\n\n                        })                };                            </script>        </div>\n</body>\n</html>"
     },
     "metadata": {},
     "output_type": "display_data"
    },
    {
     "data": {
      "text/html": "<html>\n<head><meta charset=\"utf-8\" /></head>\n<body>\n    <div>            <script src=\"https://cdnjs.cloudflare.com/ajax/libs/mathjax/2.7.5/MathJax.js?config=TeX-AMS-MML_SVG\"></script><script type=\"text/javascript\">if (window.MathJax && window.MathJax.Hub && window.MathJax.Hub.Config) {window.MathJax.Hub.Config({SVG: {font: \"STIX-Web\"}});}</script>                <script type=\"text/javascript\">window.PlotlyConfig = {MathJaxConfig: 'local'};</script>\n        <script src=\"https://cdn.plot.ly/plotly-2.14.0.min.js\"></script>                <div id=\"3271b49c-86a8-40cf-937c-c1c0ce36164b\" class=\"plotly-graph-div\" style=\"height:525px; width:100%;\"></div>            <script type=\"text/javascript\">                                    window.PLOTLYENV=window.PLOTLYENV || {};                                    if (document.getElementById(\"3271b49c-86a8-40cf-937c-c1c0ce36164b\")) {                    Plotly.newPlot(                        \"3271b49c-86a8-40cf-937c-c1c0ce36164b\",                        [{\"alignmentgroup\":\"True\",\"hovertemplate\":\"mnth=%{x}<br>cnt=%{y}<extra></extra>\",\"legendgroup\":\"\",\"marker\":{\"color\":\"#636efa\"},\"name\":\"\",\"notched\":false,\"offsetgroup\":\"\",\"orientation\":\"v\",\"showlegend\":false,\"x\":[\"jan\",\"jan\",\"jan\",\"jan\",\"jan\",\"jan\",\"jan\",\"jan\",\"jan\",\"jan\",\"jan\",\"jan\",\"jan\",\"jan\",\"jan\",\"jan\",\"jan\",\"jan\",\"jan\",\"jan\",\"jan\",\"jan\",\"jan\",\"jan\",\"jan\",\"jan\",\"jan\",\"jan\",\"jan\",\"jan\",\"jan\",\"feb\",\"feb\",\"feb\",\"feb\",\"feb\",\"feb\",\"feb\",\"feb\",\"feb\",\"feb\",\"feb\",\"feb\",\"feb\",\"feb\",\"feb\",\"feb\",\"feb\",\"feb\",\"feb\",\"feb\",\"feb\",\"feb\",\"feb\",\"feb\",\"feb\",\"feb\",\"feb\",\"feb\",\"march\",\"march\",\"march\",\"march\",\"march\",\"march\",\"march\",\"march\",\"march\",\"march\",\"march\",\"march\",\"march\",\"march\",\"march\",\"march\",\"march\",\"march\",\"march\",\"march\",\"march\",\"march\",\"march\",\"march\",\"march\",\"march\",\"march\",\"march\",\"march\",\"march\",\"march\",\"april\",\"april\",\"april\",\"april\",\"april\",\"april\",\"april\",\"april\",\"april\",\"april\",\"april\",\"april\",\"april\",\"april\",\"april\",\"april\",\"april\",\"april\",\"april\",\"april\",\"april\",\"april\",\"april\",\"april\",\"april\",\"april\",\"april\",\"april\",\"april\",\"april\",\"may\",\"may\",\"may\",\"may\",\"may\",\"may\",\"may\",\"may\",\"may\",\"may\",\"may\",\"may\",\"may\",\"may\",\"may\",\"may\",\"may\",\"may\",\"may\",\"may\",\"may\",\"may\",\"may\",\"may\",\"may\",\"may\",\"may\",\"may\",\"may\",\"may\",\"may\",\"june\",\"june\",\"june\",\"june\",\"june\",\"june\",\"june\",\"june\",\"june\",\"june\",\"june\",\"june\",\"june\",\"june\",\"june\",\"june\",\"june\",\"june\",\"june\",\"june\",\"june\",\"june\",\"june\",\"june\",\"june\",\"june\",\"june\",\"june\",\"june\",\"june\",\"july\",\"july\",\"july\",\"july\",\"july\",\"july\",\"july\",\"july\",\"july\",\"july\",\"july\",\"july\",\"july\",\"july\",\"july\",\"july\",\"july\",\"july\",\"july\",\"july\",\"july\",\"july\",\"july\",\"july\",\"july\",\"july\",\"july\",\"july\",\"july\",\"july\",\"july\",\"august\",\"august\",\"august\",\"august\",\"august\",\"august\",\"august\",\"august\",\"august\",\"august\",\"august\",\"august\",\"august\",\"august\",\"august\",\"august\",\"august\",\"august\",\"august\",\"august\",\"august\",\"august\",\"august\",\"august\",\"august\",\"august\",\"august\",\"august\",\"august\",\"august\",\"august\",\"september\",\"september\",\"september\",\"september\",\"september\",\"september\",\"september\",\"september\",\"september\",\"september\",\"september\",\"september\",\"september\",\"september\",\"september\",\"september\",\"september\",\"september\",\"september\",\"september\",\"september\",\"september\",\"september\",\"september\",\"september\",\"september\",\"september\",\"september\",\"september\",\"september\",\"october\",\"october\",\"october\",\"october\",\"october\",\"october\",\"october\",\"october\",\"october\",\"october\",\"october\",\"october\",\"october\",\"october\",\"october\",\"october\",\"october\",\"october\",\"october\",\"october\",\"october\",\"october\",\"october\",\"october\",\"october\",\"october\",\"october\",\"october\",\"october\",\"october\",\"october\",\"november\",\"november\",\"november\",\"november\",\"november\",\"november\",\"november\",\"november\",\"november\",\"november\",\"november\",\"november\",\"november\",\"november\",\"november\",\"november\",\"november\",\"november\",\"november\",\"november\",\"november\",\"november\",\"november\",\"november\",\"november\",\"november\",\"november\",\"november\",\"november\",\"november\",\"december\",\"december\",\"december\",\"december\",\"december\",\"december\",\"december\",\"december\",\"december\",\"december\",\"december\",\"december\",\"december\",\"december\",\"december\",\"december\",\"december\",\"december\",\"december\",\"december\",\"december\",\"december\",\"december\",\"december\",\"december\",\"december\",\"december\",\"december\",\"december\",\"december\",\"december\",\"jan\",\"jan\",\"jan\",\"jan\",\"jan\",\"jan\",\"jan\",\"jan\",\"jan\",\"jan\",\"jan\",\"jan\",\"jan\",\"jan\",\"jan\",\"jan\",\"jan\",\"jan\",\"jan\",\"jan\",\"jan\",\"jan\",\"jan\",\"jan\",\"jan\",\"jan\",\"jan\",\"jan\",\"jan\",\"jan\",\"jan\",\"feb\",\"feb\",\"feb\",\"feb\",\"feb\",\"feb\",\"feb\",\"feb\",\"feb\",\"feb\",\"feb\",\"feb\",\"feb\",\"feb\",\"feb\",\"feb\",\"feb\",\"feb\",\"feb\",\"feb\",\"feb\",\"feb\",\"feb\",\"feb\",\"feb\",\"feb\",\"feb\",\"feb\",\"march\",\"march\",\"march\",\"march\",\"march\",\"march\",\"march\",\"march\",\"march\",\"march\",\"march\",\"march\",\"march\",\"march\",\"march\",\"march\",\"march\",\"march\",\"march\",\"march\",\"march\",\"march\",\"march\",\"march\",\"march\",\"march\",\"march\",\"march\",\"march\",\"march\",\"march\",\"april\",\"april\",\"april\",\"april\",\"april\",\"april\",\"april\",\"april\",\"april\",\"april\",\"april\",\"april\",\"april\",\"april\",\"april\",\"april\",\"april\",\"april\",\"april\",\"april\",\"april\",\"april\",\"april\",\"april\",\"april\",\"april\",\"april\",\"april\",\"april\",\"april\",\"may\",\"may\",\"may\",\"may\",\"may\",\"may\",\"may\",\"may\",\"may\",\"may\",\"may\",\"may\",\"may\",\"may\",\"may\",\"may\",\"may\",\"may\",\"may\",\"may\",\"may\",\"may\",\"may\",\"may\",\"may\",\"may\",\"may\",\"may\",\"may\",\"may\",\"may\",\"june\",\"june\",\"june\",\"june\",\"june\",\"june\",\"june\",\"june\",\"june\",\"june\",\"june\",\"june\",\"june\",\"june\",\"june\",\"june\",\"june\",\"june\",\"june\",\"june\",\"june\",\"june\",\"june\",\"june\",\"june\",\"june\",\"june\",\"june\",\"june\",\"june\",\"july\",\"july\",\"july\",\"july\",\"july\",\"july\",\"july\",\"july\",\"july\",\"july\",\"july\",\"july\",\"july\",\"july\",\"july\",\"july\",\"july\",\"july\",\"july\",\"july\",\"july\",\"july\",\"july\",\"july\",\"july\",\"july\",\"july\",\"july\",\"july\",\"july\",\"july\",\"august\",\"august\",\"august\",\"august\",\"august\",\"august\",\"august\",\"august\",\"august\",\"august\",\"august\",\"august\",\"august\",\"august\",\"august\",\"august\",\"august\",\"august\",\"august\",\"august\",\"august\",\"august\",\"august\",\"august\",\"august\",\"august\",\"august\",\"august\",\"august\",\"august\",\"august\",\"september\",\"september\",\"september\",\"september\",\"september\",\"september\",\"september\",\"september\",\"september\",\"september\",\"september\",\"september\",\"september\",\"september\",\"september\",\"september\",\"september\",\"september\",\"september\",\"september\",\"september\",\"september\",\"september\",\"september\",\"september\",\"september\",\"september\",\"september\",\"september\",\"september\",\"october\",\"october\",\"october\",\"october\",\"october\",\"october\",\"october\",\"october\",\"october\",\"october\",\"october\",\"october\",\"october\",\"october\",\"october\",\"october\",\"october\",\"october\",\"october\",\"october\",\"october\",\"october\",\"october\",\"october\",\"october\",\"october\",\"october\",\"october\",\"october\",\"october\",\"october\",\"november\",\"november\",\"november\",\"november\",\"november\",\"november\",\"november\",\"november\",\"november\",\"november\",\"november\",\"november\",\"november\",\"november\",\"november\",\"november\",\"november\",\"november\",\"november\",\"november\",\"november\",\"november\",\"november\",\"november\",\"november\",\"november\",\"november\",\"november\",\"november\",\"november\",\"december\",\"december\",\"december\",\"december\",\"december\",\"december\",\"december\",\"december\",\"december\",\"december\",\"december\",\"december\",\"december\",\"december\",\"december\",\"december\",\"december\",\"december\",\"december\",\"december\",\"december\",\"december\",\"december\",\"december\",\"december\",\"december\",\"december\",\"december\",\"december\",\"december\",\"december\"],\"x0\":\" \",\"xaxis\":\"x\",\"y\":[985,801,1349,1562,1600,1606,1510,959,822,1321,1263,1162,1406,1421,1248,1204,1000,683,1650,1927,1543,981,986,1416,1985,506,431,1167,1098,1096,1501,1360,1526,1550,1708,1005,1623,1712,1530,1605,1538,1746,1472,1589,1913,1815,2115,2475,2927,1635,1812,1107,1450,1917,1807,1461,1969,2402,1446,1851,2134,1685,1944,2077,605,1872,2133,1891,623,1977,2132,2417,2046,2056,2192,2744,3239,3117,2471,2077,2703,2121,1865,2210,2496,1693,2028,2425,1536,1685,2227,2252,3249,3115,1795,2808,3141,1471,2455,2895,3348,2034,2162,3267,3126,795,3744,3429,3204,3944,4189,1683,4036,4191,4073,4400,3872,4058,4595,5312,3351,4401,4451,2633,4433,4608,4714,4333,4362,4803,4182,4864,4105,3409,4553,3958,4123,3855,4575,4917,5805,4660,4274,4492,4978,4677,4679,4758,4788,4098,3982,3974,4968,5312,5342,4906,4548,4833,4401,3915,4586,4966,4460,5020,4891,5180,3767,4844,5119,4744,4010,4835,4507,4790,4991,5202,5305,4708,4648,5225,5515,5362,5119,4649,6043,4665,4629,4592,4040,5336,4881,4086,4258,4342,5084,5538,5923,5302,4458,4541,4332,3784,3387,3285,3606,3840,4590,4656,4390,3846,4475,4302,4266,4845,3574,4576,4866,4294,3785,4326,4602,4780,4792,4905,4150,3820,4338,4725,4694,3805,4153,5191,3873,4758,5895,5130,3542,4661,1115,4334,4634,5204,5058,5115,4727,4484,4940,3351,2710,1996,1842,3544,5345,5046,4713,4763,4785,3659,4760,4511,4274,4539,3641,4352,4795,2395,5423,5010,4630,4120,3907,4839,5202,2429,2918,3570,4456,4826,4765,4985,5409,5511,5117,4563,2416,2913,3644,5217,5041,4570,4748,2424,4195,4304,4308,4381,4187,4687,3894,2659,3747,627,3331,3669,4068,4186,3974,4046,3926,3649,4035,4205,4109,2933,3368,4067,3717,4486,4195,1817,3053,3392,3663,3520,2765,1607,2566,1495,2792,3068,3071,3867,2914,3613,3727,3940,3614,3485,3811,2594,705,3322,3620,3190,2743,3310,3523,3740,3709,3577,2739,2431,3403,3750,2660,3068,2209,1011,754,1317,1162,2302,2423,2999,2485,2294,1951,2236,2368,3272,4098,4521,3425,2376,3598,2177,4097,3214,2493,2311,2298,2935,3376,3292,3163,1301,1977,2432,4339,4270,4075,3456,4023,3243,3624,4509,4579,3761,4151,2832,2947,3784,4375,2802,3830,3831,2169,1529,3422,3922,4169,3005,4154,4318,2689,3129,3777,4773,5062,3487,2732,3389,4322,4363,4990,3194,4066,3423,3333,3956,4916,5382,4569,4118,4911,5298,5847,6312,6192,4378,7836,5892,6153,6093,6230,6871,8362,3372,4996,5558,5102,5698,6133,5459,6235,6041,5936,6772,6436,6457,6460,6857,5169,5585,5918,4862,5409,6398,7460,7132,6370,6691,4367,6565,7290,6624,1027,3214,5633,6196,5026,6233,4220,6304,5572,5740,6169,6421,6296,6883,6359,6273,5728,4717,6572,7030,7429,6118,2843,5115,7424,7384,7639,8294,7129,4359,6073,5260,6770,6734,6536,6591,6043,5743,6855,7338,4127,8120,7641,6998,7001,7055,7494,7736,7498,6598,6664,4972,7421,7363,7665,7702,6978,5099,6825,6211,5905,5823,7458,6891,6779,7442,7335,6879,5463,5687,5531,6227,6660,7403,6241,6207,4840,4672,6569,6290,7264,7446,7499,6969,6031,6830,6786,5713,6591,5870,4459,7410,6966,7592,8173,6861,6904,6685,6597,7105,7216,7580,7261,7175,6824,5464,7013,7273,7534,7286,5786,6299,6544,6883,6784,7347,7605,7148,7865,4549,6530,7006,7375,7765,7582,6053,5255,6917,7040,7697,7713,7350,6140,5810,6034,6864,7112,6203,7504,5976,8227,7525,7767,7870,7804,8009,8714,7333,6869,4073,7591,7720,8167,8395,7907,7436,7538,7733,7393,7415,8555,6889,6778,4639,7572,7328,8156,7965,3510,5478,6392,7691,7570,7282,7109,6639,5875,7534,7461,7509,5424,8090,6824,7058,7466,7693,7359,7444,7852,4459,22,1096,5566,5986,5847,5138,5107,5259,5686,5035,5315,5992,6536,6852,6269,4094,5495,5445,5698,5629,4669,5499,5634,5146,2425,3910,2277,2424,5087,3959,5260,5323,5668,5191,4649,6234,6606,5729,5375,5008,5582,3228,5170,5501,5319,5532,5611,5047,3786,4585,5557,5267,4128,3623,1749,1787,920,1013,441,2114,3095,1341,1796,2729],\"y0\":\" \",\"yaxis\":\"y\",\"type\":\"box\"}],                        {\"template\":{\"data\":{\"histogram2dcontour\":[{\"type\":\"histogram2dcontour\",\"colorbar\":{\"outlinewidth\":0,\"ticks\":\"\"},\"colorscale\":[[0.0,\"#0d0887\"],[0.1111111111111111,\"#46039f\"],[0.2222222222222222,\"#7201a8\"],[0.3333333333333333,\"#9c179e\"],[0.4444444444444444,\"#bd3786\"],[0.5555555555555556,\"#d8576b\"],[0.6666666666666666,\"#ed7953\"],[0.7777777777777778,\"#fb9f3a\"],[0.8888888888888888,\"#fdca26\"],[1.0,\"#f0f921\"]]}],\"choropleth\":[{\"type\":\"choropleth\",\"colorbar\":{\"outlinewidth\":0,\"ticks\":\"\"}}],\"histogram2d\":[{\"type\":\"histogram2d\",\"colorbar\":{\"outlinewidth\":0,\"ticks\":\"\"},\"colorscale\":[[0.0,\"#0d0887\"],[0.1111111111111111,\"#46039f\"],[0.2222222222222222,\"#7201a8\"],[0.3333333333333333,\"#9c179e\"],[0.4444444444444444,\"#bd3786\"],[0.5555555555555556,\"#d8576b\"],[0.6666666666666666,\"#ed7953\"],[0.7777777777777778,\"#fb9f3a\"],[0.8888888888888888,\"#fdca26\"],[1.0,\"#f0f921\"]]}],\"heatmap\":[{\"type\":\"heatmap\",\"colorbar\":{\"outlinewidth\":0,\"ticks\":\"\"},\"colorscale\":[[0.0,\"#0d0887\"],[0.1111111111111111,\"#46039f\"],[0.2222222222222222,\"#7201a8\"],[0.3333333333333333,\"#9c179e\"],[0.4444444444444444,\"#bd3786\"],[0.5555555555555556,\"#d8576b\"],[0.6666666666666666,\"#ed7953\"],[0.7777777777777778,\"#fb9f3a\"],[0.8888888888888888,\"#fdca26\"],[1.0,\"#f0f921\"]]}],\"heatmapgl\":[{\"type\":\"heatmapgl\",\"colorbar\":{\"outlinewidth\":0,\"ticks\":\"\"},\"colorscale\":[[0.0,\"#0d0887\"],[0.1111111111111111,\"#46039f\"],[0.2222222222222222,\"#7201a8\"],[0.3333333333333333,\"#9c179e\"],[0.4444444444444444,\"#bd3786\"],[0.5555555555555556,\"#d8576b\"],[0.6666666666666666,\"#ed7953\"],[0.7777777777777778,\"#fb9f3a\"],[0.8888888888888888,\"#fdca26\"],[1.0,\"#f0f921\"]]}],\"contourcarpet\":[{\"type\":\"contourcarpet\",\"colorbar\":{\"outlinewidth\":0,\"ticks\":\"\"}}],\"contour\":[{\"type\":\"contour\",\"colorbar\":{\"outlinewidth\":0,\"ticks\":\"\"},\"colorscale\":[[0.0,\"#0d0887\"],[0.1111111111111111,\"#46039f\"],[0.2222222222222222,\"#7201a8\"],[0.3333333333333333,\"#9c179e\"],[0.4444444444444444,\"#bd3786\"],[0.5555555555555556,\"#d8576b\"],[0.6666666666666666,\"#ed7953\"],[0.7777777777777778,\"#fb9f3a\"],[0.8888888888888888,\"#fdca26\"],[1.0,\"#f0f921\"]]}],\"surface\":[{\"type\":\"surface\",\"colorbar\":{\"outlinewidth\":0,\"ticks\":\"\"},\"colorscale\":[[0.0,\"#0d0887\"],[0.1111111111111111,\"#46039f\"],[0.2222222222222222,\"#7201a8\"],[0.3333333333333333,\"#9c179e\"],[0.4444444444444444,\"#bd3786\"],[0.5555555555555556,\"#d8576b\"],[0.6666666666666666,\"#ed7953\"],[0.7777777777777778,\"#fb9f3a\"],[0.8888888888888888,\"#fdca26\"],[1.0,\"#f0f921\"]]}],\"mesh3d\":[{\"type\":\"mesh3d\",\"colorbar\":{\"outlinewidth\":0,\"ticks\":\"\"}}],\"scatter\":[{\"fillpattern\":{\"fillmode\":\"overlay\",\"size\":10,\"solidity\":0.2},\"type\":\"scatter\"}],\"parcoords\":[{\"type\":\"parcoords\",\"line\":{\"colorbar\":{\"outlinewidth\":0,\"ticks\":\"\"}}}],\"scatterpolargl\":[{\"type\":\"scatterpolargl\",\"marker\":{\"colorbar\":{\"outlinewidth\":0,\"ticks\":\"\"}}}],\"bar\":[{\"error_x\":{\"color\":\"#2a3f5f\"},\"error_y\":{\"color\":\"#2a3f5f\"},\"marker\":{\"line\":{\"color\":\"#E5ECF6\",\"width\":0.5},\"pattern\":{\"fillmode\":\"overlay\",\"size\":10,\"solidity\":0.2}},\"type\":\"bar\"}],\"scattergeo\":[{\"type\":\"scattergeo\",\"marker\":{\"colorbar\":{\"outlinewidth\":0,\"ticks\":\"\"}}}],\"scatterpolar\":[{\"type\":\"scatterpolar\",\"marker\":{\"colorbar\":{\"outlinewidth\":0,\"ticks\":\"\"}}}],\"histogram\":[{\"marker\":{\"pattern\":{\"fillmode\":\"overlay\",\"size\":10,\"solidity\":0.2}},\"type\":\"histogram\"}],\"scattergl\":[{\"type\":\"scattergl\",\"marker\":{\"colorbar\":{\"outlinewidth\":0,\"ticks\":\"\"}}}],\"scatter3d\":[{\"type\":\"scatter3d\",\"line\":{\"colorbar\":{\"outlinewidth\":0,\"ticks\":\"\"}},\"marker\":{\"colorbar\":{\"outlinewidth\":0,\"ticks\":\"\"}}}],\"scattermapbox\":[{\"type\":\"scattermapbox\",\"marker\":{\"colorbar\":{\"outlinewidth\":0,\"ticks\":\"\"}}}],\"scatterternary\":[{\"type\":\"scatterternary\",\"marker\":{\"colorbar\":{\"outlinewidth\":0,\"ticks\":\"\"}}}],\"scattercarpet\":[{\"type\":\"scattercarpet\",\"marker\":{\"colorbar\":{\"outlinewidth\":0,\"ticks\":\"\"}}}],\"carpet\":[{\"aaxis\":{\"endlinecolor\":\"#2a3f5f\",\"gridcolor\":\"white\",\"linecolor\":\"white\",\"minorgridcolor\":\"white\",\"startlinecolor\":\"#2a3f5f\"},\"baxis\":{\"endlinecolor\":\"#2a3f5f\",\"gridcolor\":\"white\",\"linecolor\":\"white\",\"minorgridcolor\":\"white\",\"startlinecolor\":\"#2a3f5f\"},\"type\":\"carpet\"}],\"table\":[{\"cells\":{\"fill\":{\"color\":\"#EBF0F8\"},\"line\":{\"color\":\"white\"}},\"header\":{\"fill\":{\"color\":\"#C8D4E3\"},\"line\":{\"color\":\"white\"}},\"type\":\"table\"}],\"barpolar\":[{\"marker\":{\"line\":{\"color\":\"#E5ECF6\",\"width\":0.5},\"pattern\":{\"fillmode\":\"overlay\",\"size\":10,\"solidity\":0.2}},\"type\":\"barpolar\"}],\"pie\":[{\"automargin\":true,\"type\":\"pie\"}]},\"layout\":{\"autotypenumbers\":\"strict\",\"colorway\":[\"#636efa\",\"#EF553B\",\"#00cc96\",\"#ab63fa\",\"#FFA15A\",\"#19d3f3\",\"#FF6692\",\"#B6E880\",\"#FF97FF\",\"#FECB52\"],\"font\":{\"color\":\"#2a3f5f\"},\"hovermode\":\"closest\",\"hoverlabel\":{\"align\":\"left\"},\"paper_bgcolor\":\"white\",\"plot_bgcolor\":\"#E5ECF6\",\"polar\":{\"bgcolor\":\"#E5ECF6\",\"angularaxis\":{\"gridcolor\":\"white\",\"linecolor\":\"white\",\"ticks\":\"\"},\"radialaxis\":{\"gridcolor\":\"white\",\"linecolor\":\"white\",\"ticks\":\"\"}},\"ternary\":{\"bgcolor\":\"#E5ECF6\",\"aaxis\":{\"gridcolor\":\"white\",\"linecolor\":\"white\",\"ticks\":\"\"},\"baxis\":{\"gridcolor\":\"white\",\"linecolor\":\"white\",\"ticks\":\"\"},\"caxis\":{\"gridcolor\":\"white\",\"linecolor\":\"white\",\"ticks\":\"\"}},\"coloraxis\":{\"colorbar\":{\"outlinewidth\":0,\"ticks\":\"\"}},\"colorscale\":{\"sequential\":[[0.0,\"#0d0887\"],[0.1111111111111111,\"#46039f\"],[0.2222222222222222,\"#7201a8\"],[0.3333333333333333,\"#9c179e\"],[0.4444444444444444,\"#bd3786\"],[0.5555555555555556,\"#d8576b\"],[0.6666666666666666,\"#ed7953\"],[0.7777777777777778,\"#fb9f3a\"],[0.8888888888888888,\"#fdca26\"],[1.0,\"#f0f921\"]],\"sequentialminus\":[[0.0,\"#0d0887\"],[0.1111111111111111,\"#46039f\"],[0.2222222222222222,\"#7201a8\"],[0.3333333333333333,\"#9c179e\"],[0.4444444444444444,\"#bd3786\"],[0.5555555555555556,\"#d8576b\"],[0.6666666666666666,\"#ed7953\"],[0.7777777777777778,\"#fb9f3a\"],[0.8888888888888888,\"#fdca26\"],[1.0,\"#f0f921\"]],\"diverging\":[[0,\"#8e0152\"],[0.1,\"#c51b7d\"],[0.2,\"#de77ae\"],[0.3,\"#f1b6da\"],[0.4,\"#fde0ef\"],[0.5,\"#f7f7f7\"],[0.6,\"#e6f5d0\"],[0.7,\"#b8e186\"],[0.8,\"#7fbc41\"],[0.9,\"#4d9221\"],[1,\"#276419\"]]},\"xaxis\":{\"gridcolor\":\"white\",\"linecolor\":\"white\",\"ticks\":\"\",\"title\":{\"standoff\":15},\"zerolinecolor\":\"white\",\"automargin\":true,\"zerolinewidth\":2},\"yaxis\":{\"gridcolor\":\"white\",\"linecolor\":\"white\",\"ticks\":\"\",\"title\":{\"standoff\":15},\"zerolinecolor\":\"white\",\"automargin\":true,\"zerolinewidth\":2},\"scene\":{\"xaxis\":{\"backgroundcolor\":\"#E5ECF6\",\"gridcolor\":\"white\",\"linecolor\":\"white\",\"showbackground\":true,\"ticks\":\"\",\"zerolinecolor\":\"white\",\"gridwidth\":2},\"yaxis\":{\"backgroundcolor\":\"#E5ECF6\",\"gridcolor\":\"white\",\"linecolor\":\"white\",\"showbackground\":true,\"ticks\":\"\",\"zerolinecolor\":\"white\",\"gridwidth\":2},\"zaxis\":{\"backgroundcolor\":\"#E5ECF6\",\"gridcolor\":\"white\",\"linecolor\":\"white\",\"showbackground\":true,\"ticks\":\"\",\"zerolinecolor\":\"white\",\"gridwidth\":2}},\"shapedefaults\":{\"line\":{\"color\":\"#2a3f5f\"}},\"annotationdefaults\":{\"arrowcolor\":\"#2a3f5f\",\"arrowhead\":0,\"arrowwidth\":1},\"geo\":{\"bgcolor\":\"white\",\"landcolor\":\"#E5ECF6\",\"subunitcolor\":\"white\",\"showland\":true,\"showlakes\":true,\"lakecolor\":\"white\"},\"title\":{\"x\":0.05},\"mapbox\":{\"style\":\"light\"}}},\"xaxis\":{\"anchor\":\"y\",\"domain\":[0.0,1.0],\"title\":{\"text\":\"mnth\"}},\"yaxis\":{\"anchor\":\"x\",\"domain\":[0.0,1.0],\"title\":{\"text\":\"cnt\"}},\"legend\":{\"tracegroupgap\":0},\"title\":{\"text\":\"Boxplot of values for mnth against our target variable cnt\"},\"boxmode\":\"group\"},                        {\"responsive\": true}                    ).then(function(){\n                            \nvar gd = document.getElementById('3271b49c-86a8-40cf-937c-c1c0ce36164b');\nvar x = new MutationObserver(function (mutations, observer) {{\n        var display = window.getComputedStyle(gd).display;\n        if (!display || display === 'none') {{\n            console.log([gd, 'removed!']);\n            Plotly.purge(gd);\n            observer.disconnect();\n        }}\n}});\n\n// Listen for the removal of the full notebook cells\nvar notebookContainer = gd.closest('#notebook-container');\nif (notebookContainer) {{\n    x.observe(notebookContainer, {childList: true});\n}}\n\n// Listen for the clearing of the current output cell\nvar outputEl = gd.closest('.output');\nif (outputEl) {{\n    x.observe(outputEl, {childList: true});\n}}\n\n                        })                };                            </script>        </div>\n</body>\n</html>"
     },
     "metadata": {},
     "output_type": "display_data"
    }
   ]
  },
  {
   "cell_type": "markdown",
   "source": "We can see that the median count of bike rentals goes up during the summer months and slowly starts to drop towards the end of the year. This could be helpful for us during the modeling phase when we're looking to identify features with high correlation.",
   "metadata": {
    "formattedRanges": [],
    "is_collapsed": false,
    "cell_id": "48ddb2efcfb1482582e866506e29eaa0",
    "tags": [],
    "deepnote_cell_type": "text-cell-p"
   }
  },
  {
   "cell_type": "code",
   "metadata": {
    "cell_id": "6ac4ffd01fdf4bf6951ea7d75d91ad64",
    "tags": [],
    "deepnote_to_be_reexecuted": false,
    "source_hash": "e0e2fa03",
    "execution_start": 1663728012596,
    "execution_millis": 82,
    "deepnote_cell_type": "code",
    "deepnote_cell_height": 1457.03125,
    "deepnote_output_heights": [
     null,
     526,
     526
    ]
   },
   "source": "create_feature_analysis(data, 'holiday')",
   "execution_count": 13,
   "outputs": [
    {
     "name": "stdout",
     "text": "DESCRIPTIVE SUMMARY of holiday\ncount    730.000000\nmean       0.028767\nstd        0.167266\nmin        0.000000\n25%        0.000000\n50%        0.000000\n75%        0.000000\nmax        1.000000\nName: holiday, dtype: float64\n\n\nUNIQUE VALUE COUNT: 2\n",
     "output_type": "stream"
    },
    {
     "data": {
      "text/html": "<html>\n<head><meta charset=\"utf-8\" /></head>\n<body>\n    <div>            <script src=\"https://cdnjs.cloudflare.com/ajax/libs/mathjax/2.7.5/MathJax.js?config=TeX-AMS-MML_SVG\"></script><script type=\"text/javascript\">if (window.MathJax && window.MathJax.Hub && window.MathJax.Hub.Config) {window.MathJax.Hub.Config({SVG: {font: \"STIX-Web\"}});}</script>                <script type=\"text/javascript\">window.PlotlyConfig = {MathJaxConfig: 'local'};</script>\n        <script src=\"https://cdn.plot.ly/plotly-2.14.0.min.js\"></script>                <div id=\"108ac37c-fb49-4ce7-8f0a-f6e8e5a31061\" class=\"plotly-graph-div\" style=\"height:525px; width:100%;\"></div>            <script type=\"text/javascript\">                                    window.PLOTLYENV=window.PLOTLYENV || {};                                    if (document.getElementById(\"108ac37c-fb49-4ce7-8f0a-f6e8e5a31061\")) {                    Plotly.newPlot(                        \"108ac37c-fb49-4ce7-8f0a-f6e8e5a31061\",                        [{\"alignmentgroup\":\"True\",\"bingroup\":\"x\",\"hovertemplate\":\"holiday=%{x}<br>count=%{y}<extra></extra>\",\"legendgroup\":\"\",\"marker\":{\"color\":\"#636efa\",\"pattern\":{\"shape\":\"\"}},\"name\":\"\",\"offsetgroup\":\"\",\"orientation\":\"v\",\"showlegend\":false,\"x\":[0,0,0,0,0,0,0,0,0,0,0,0,0,0,0,0,1,0,0,0,0,0,0,0,0,0,0,0,0,0,0,0,0,0,0,0,0,0,0,0,0,0,0,0,0,0,0,0,0,0,0,1,0,0,0,0,0,0,0,0,0,0,0,0,0,0,0,0,0,0,0,0,0,0,0,0,0,0,0,0,0,0,0,0,0,0,0,0,0,0,0,0,0,0,0,0,0,0,0,0,0,0,0,0,1,0,0,0,0,0,0,0,0,0,0,0,0,0,0,0,0,0,0,0,0,0,0,0,0,0,0,0,0,0,0,0,0,0,0,0,0,0,0,0,0,0,0,0,0,1,0,0,0,0,0,0,0,0,0,0,0,0,0,0,0,0,0,0,0,0,0,0,0,0,0,0,0,0,0,0,0,0,0,0,1,0,0,0,0,0,0,0,0,0,0,0,0,0,0,0,0,0,0,0,0,0,0,0,0,0,0,0,0,0,0,0,0,0,0,0,0,0,0,0,0,0,0,0,0,0,0,0,0,0,0,0,0,0,0,0,0,0,0,0,0,0,0,1,0,0,0,0,0,0,0,0,0,0,0,0,0,0,0,0,0,0,0,0,0,0,0,0,0,0,0,0,0,0,0,0,0,0,1,0,0,0,0,0,0,0,0,0,0,0,0,0,0,0,0,0,0,0,0,0,0,0,0,0,0,0,0,0,0,0,1,0,0,0,0,0,0,0,0,0,0,0,0,1,0,0,0,0,0,0,0,0,0,0,0,0,0,0,0,0,0,0,0,0,0,0,0,0,0,0,0,0,0,0,0,1,0,0,0,0,0,0,1,0,0,0,0,0,0,0,0,0,0,0,0,0,1,0,0,0,0,0,0,0,0,0,0,0,0,0,0,0,0,0,0,0,0,0,0,0,0,0,0,0,0,0,0,0,0,0,0,1,0,0,0,0,0,0,0,0,0,0,0,0,0,0,0,0,0,0,0,0,0,0,0,0,0,0,0,0,0,0,0,0,0,0,0,0,0,0,0,0,0,0,0,0,0,0,0,0,0,0,0,0,0,0,1,0,0,0,0,0,0,0,0,0,0,0,0,0,0,0,0,0,0,0,0,0,0,0,0,0,0,0,0,0,0,0,0,0,0,0,0,0,0,0,0,0,1,0,0,0,0,0,0,0,0,0,0,0,0,0,0,0,0,0,0,0,0,0,0,0,0,0,0,0,0,0,0,0,0,0,0,0,0,1,0,0,0,0,0,0,0,0,0,0,0,0,0,0,0,0,0,0,0,0,0,0,0,0,0,0,0,0,0,0,0,0,0,0,0,0,0,0,0,0,0,0,0,0,0,0,0,0,0,0,0,0,0,0,0,0,0,0,0,0,1,0,0,0,0,0,0,0,0,0,0,0,0,0,0,0,0,0,0,0,0,0,0,0,0,0,0,0,0,0,0,0,0,0,0,1,0,0,0,0,0,0,0,0,0,0,0,0,0,0,0,0,0,0,0,0,0,0,0,0,0,0,0,0,0,0,0,0,0,0,1,0,0,0,0,0,0,0,0,0,1,0,0,0,0,0,0,0,0,0,0,0,0,0,0,0,0,0,0,0,0,0,0,0,0,0,0,0,0,0,0,0,0,1,0,0,0,0,0,0],\"xaxis\":\"x\",\"yaxis\":\"y\",\"type\":\"histogram\"}],                        {\"template\":{\"data\":{\"histogram2dcontour\":[{\"type\":\"histogram2dcontour\",\"colorbar\":{\"outlinewidth\":0,\"ticks\":\"\"},\"colorscale\":[[0.0,\"#0d0887\"],[0.1111111111111111,\"#46039f\"],[0.2222222222222222,\"#7201a8\"],[0.3333333333333333,\"#9c179e\"],[0.4444444444444444,\"#bd3786\"],[0.5555555555555556,\"#d8576b\"],[0.6666666666666666,\"#ed7953\"],[0.7777777777777778,\"#fb9f3a\"],[0.8888888888888888,\"#fdca26\"],[1.0,\"#f0f921\"]]}],\"choropleth\":[{\"type\":\"choropleth\",\"colorbar\":{\"outlinewidth\":0,\"ticks\":\"\"}}],\"histogram2d\":[{\"type\":\"histogram2d\",\"colorbar\":{\"outlinewidth\":0,\"ticks\":\"\"},\"colorscale\":[[0.0,\"#0d0887\"],[0.1111111111111111,\"#46039f\"],[0.2222222222222222,\"#7201a8\"],[0.3333333333333333,\"#9c179e\"],[0.4444444444444444,\"#bd3786\"],[0.5555555555555556,\"#d8576b\"],[0.6666666666666666,\"#ed7953\"],[0.7777777777777778,\"#fb9f3a\"],[0.8888888888888888,\"#fdca26\"],[1.0,\"#f0f921\"]]}],\"heatmap\":[{\"type\":\"heatmap\",\"colorbar\":{\"outlinewidth\":0,\"ticks\":\"\"},\"colorscale\":[[0.0,\"#0d0887\"],[0.1111111111111111,\"#46039f\"],[0.2222222222222222,\"#7201a8\"],[0.3333333333333333,\"#9c179e\"],[0.4444444444444444,\"#bd3786\"],[0.5555555555555556,\"#d8576b\"],[0.6666666666666666,\"#ed7953\"],[0.7777777777777778,\"#fb9f3a\"],[0.8888888888888888,\"#fdca26\"],[1.0,\"#f0f921\"]]}],\"heatmapgl\":[{\"type\":\"heatmapgl\",\"colorbar\":{\"outlinewidth\":0,\"ticks\":\"\"},\"colorscale\":[[0.0,\"#0d0887\"],[0.1111111111111111,\"#46039f\"],[0.2222222222222222,\"#7201a8\"],[0.3333333333333333,\"#9c179e\"],[0.4444444444444444,\"#bd3786\"],[0.5555555555555556,\"#d8576b\"],[0.6666666666666666,\"#ed7953\"],[0.7777777777777778,\"#fb9f3a\"],[0.8888888888888888,\"#fdca26\"],[1.0,\"#f0f921\"]]}],\"contourcarpet\":[{\"type\":\"contourcarpet\",\"colorbar\":{\"outlinewidth\":0,\"ticks\":\"\"}}],\"contour\":[{\"type\":\"contour\",\"colorbar\":{\"outlinewidth\":0,\"ticks\":\"\"},\"colorscale\":[[0.0,\"#0d0887\"],[0.1111111111111111,\"#46039f\"],[0.2222222222222222,\"#7201a8\"],[0.3333333333333333,\"#9c179e\"],[0.4444444444444444,\"#bd3786\"],[0.5555555555555556,\"#d8576b\"],[0.6666666666666666,\"#ed7953\"],[0.7777777777777778,\"#fb9f3a\"],[0.8888888888888888,\"#fdca26\"],[1.0,\"#f0f921\"]]}],\"surface\":[{\"type\":\"surface\",\"colorbar\":{\"outlinewidth\":0,\"ticks\":\"\"},\"colorscale\":[[0.0,\"#0d0887\"],[0.1111111111111111,\"#46039f\"],[0.2222222222222222,\"#7201a8\"],[0.3333333333333333,\"#9c179e\"],[0.4444444444444444,\"#bd3786\"],[0.5555555555555556,\"#d8576b\"],[0.6666666666666666,\"#ed7953\"],[0.7777777777777778,\"#fb9f3a\"],[0.8888888888888888,\"#fdca26\"],[1.0,\"#f0f921\"]]}],\"mesh3d\":[{\"type\":\"mesh3d\",\"colorbar\":{\"outlinewidth\":0,\"ticks\":\"\"}}],\"scatter\":[{\"fillpattern\":{\"fillmode\":\"overlay\",\"size\":10,\"solidity\":0.2},\"type\":\"scatter\"}],\"parcoords\":[{\"type\":\"parcoords\",\"line\":{\"colorbar\":{\"outlinewidth\":0,\"ticks\":\"\"}}}],\"scatterpolargl\":[{\"type\":\"scatterpolargl\",\"marker\":{\"colorbar\":{\"outlinewidth\":0,\"ticks\":\"\"}}}],\"bar\":[{\"error_x\":{\"color\":\"#2a3f5f\"},\"error_y\":{\"color\":\"#2a3f5f\"},\"marker\":{\"line\":{\"color\":\"#E5ECF6\",\"width\":0.5},\"pattern\":{\"fillmode\":\"overlay\",\"size\":10,\"solidity\":0.2}},\"type\":\"bar\"}],\"scattergeo\":[{\"type\":\"scattergeo\",\"marker\":{\"colorbar\":{\"outlinewidth\":0,\"ticks\":\"\"}}}],\"scatterpolar\":[{\"type\":\"scatterpolar\",\"marker\":{\"colorbar\":{\"outlinewidth\":0,\"ticks\":\"\"}}}],\"histogram\":[{\"marker\":{\"pattern\":{\"fillmode\":\"overlay\",\"size\":10,\"solidity\":0.2}},\"type\":\"histogram\"}],\"scattergl\":[{\"type\":\"scattergl\",\"marker\":{\"colorbar\":{\"outlinewidth\":0,\"ticks\":\"\"}}}],\"scatter3d\":[{\"type\":\"scatter3d\",\"line\":{\"colorbar\":{\"outlinewidth\":0,\"ticks\":\"\"}},\"marker\":{\"colorbar\":{\"outlinewidth\":0,\"ticks\":\"\"}}}],\"scattermapbox\":[{\"type\":\"scattermapbox\",\"marker\":{\"colorbar\":{\"outlinewidth\":0,\"ticks\":\"\"}}}],\"scatterternary\":[{\"type\":\"scatterternary\",\"marker\":{\"colorbar\":{\"outlinewidth\":0,\"ticks\":\"\"}}}],\"scattercarpet\":[{\"type\":\"scattercarpet\",\"marker\":{\"colorbar\":{\"outlinewidth\":0,\"ticks\":\"\"}}}],\"carpet\":[{\"aaxis\":{\"endlinecolor\":\"#2a3f5f\",\"gridcolor\":\"white\",\"linecolor\":\"white\",\"minorgridcolor\":\"white\",\"startlinecolor\":\"#2a3f5f\"},\"baxis\":{\"endlinecolor\":\"#2a3f5f\",\"gridcolor\":\"white\",\"linecolor\":\"white\",\"minorgridcolor\":\"white\",\"startlinecolor\":\"#2a3f5f\"},\"type\":\"carpet\"}],\"table\":[{\"cells\":{\"fill\":{\"color\":\"#EBF0F8\"},\"line\":{\"color\":\"white\"}},\"header\":{\"fill\":{\"color\":\"#C8D4E3\"},\"line\":{\"color\":\"white\"}},\"type\":\"table\"}],\"barpolar\":[{\"marker\":{\"line\":{\"color\":\"#E5ECF6\",\"width\":0.5},\"pattern\":{\"fillmode\":\"overlay\",\"size\":10,\"solidity\":0.2}},\"type\":\"barpolar\"}],\"pie\":[{\"automargin\":true,\"type\":\"pie\"}]},\"layout\":{\"autotypenumbers\":\"strict\",\"colorway\":[\"#636efa\",\"#EF553B\",\"#00cc96\",\"#ab63fa\",\"#FFA15A\",\"#19d3f3\",\"#FF6692\",\"#B6E880\",\"#FF97FF\",\"#FECB52\"],\"font\":{\"color\":\"#2a3f5f\"},\"hovermode\":\"closest\",\"hoverlabel\":{\"align\":\"left\"},\"paper_bgcolor\":\"white\",\"plot_bgcolor\":\"#E5ECF6\",\"polar\":{\"bgcolor\":\"#E5ECF6\",\"angularaxis\":{\"gridcolor\":\"white\",\"linecolor\":\"white\",\"ticks\":\"\"},\"radialaxis\":{\"gridcolor\":\"white\",\"linecolor\":\"white\",\"ticks\":\"\"}},\"ternary\":{\"bgcolor\":\"#E5ECF6\",\"aaxis\":{\"gridcolor\":\"white\",\"linecolor\":\"white\",\"ticks\":\"\"},\"baxis\":{\"gridcolor\":\"white\",\"linecolor\":\"white\",\"ticks\":\"\"},\"caxis\":{\"gridcolor\":\"white\",\"linecolor\":\"white\",\"ticks\":\"\"}},\"coloraxis\":{\"colorbar\":{\"outlinewidth\":0,\"ticks\":\"\"}},\"colorscale\":{\"sequential\":[[0.0,\"#0d0887\"],[0.1111111111111111,\"#46039f\"],[0.2222222222222222,\"#7201a8\"],[0.3333333333333333,\"#9c179e\"],[0.4444444444444444,\"#bd3786\"],[0.5555555555555556,\"#d8576b\"],[0.6666666666666666,\"#ed7953\"],[0.7777777777777778,\"#fb9f3a\"],[0.8888888888888888,\"#fdca26\"],[1.0,\"#f0f921\"]],\"sequentialminus\":[[0.0,\"#0d0887\"],[0.1111111111111111,\"#46039f\"],[0.2222222222222222,\"#7201a8\"],[0.3333333333333333,\"#9c179e\"],[0.4444444444444444,\"#bd3786\"],[0.5555555555555556,\"#d8576b\"],[0.6666666666666666,\"#ed7953\"],[0.7777777777777778,\"#fb9f3a\"],[0.8888888888888888,\"#fdca26\"],[1.0,\"#f0f921\"]],\"diverging\":[[0,\"#8e0152\"],[0.1,\"#c51b7d\"],[0.2,\"#de77ae\"],[0.3,\"#f1b6da\"],[0.4,\"#fde0ef\"],[0.5,\"#f7f7f7\"],[0.6,\"#e6f5d0\"],[0.7,\"#b8e186\"],[0.8,\"#7fbc41\"],[0.9,\"#4d9221\"],[1,\"#276419\"]]},\"xaxis\":{\"gridcolor\":\"white\",\"linecolor\":\"white\",\"ticks\":\"\",\"title\":{\"standoff\":15},\"zerolinecolor\":\"white\",\"automargin\":true,\"zerolinewidth\":2},\"yaxis\":{\"gridcolor\":\"white\",\"linecolor\":\"white\",\"ticks\":\"\",\"title\":{\"standoff\":15},\"zerolinecolor\":\"white\",\"automargin\":true,\"zerolinewidth\":2},\"scene\":{\"xaxis\":{\"backgroundcolor\":\"#E5ECF6\",\"gridcolor\":\"white\",\"linecolor\":\"white\",\"showbackground\":true,\"ticks\":\"\",\"zerolinecolor\":\"white\",\"gridwidth\":2},\"yaxis\":{\"backgroundcolor\":\"#E5ECF6\",\"gridcolor\":\"white\",\"linecolor\":\"white\",\"showbackground\":true,\"ticks\":\"\",\"zerolinecolor\":\"white\",\"gridwidth\":2},\"zaxis\":{\"backgroundcolor\":\"#E5ECF6\",\"gridcolor\":\"white\",\"linecolor\":\"white\",\"showbackground\":true,\"ticks\":\"\",\"zerolinecolor\":\"white\",\"gridwidth\":2}},\"shapedefaults\":{\"line\":{\"color\":\"#2a3f5f\"}},\"annotationdefaults\":{\"arrowcolor\":\"#2a3f5f\",\"arrowhead\":0,\"arrowwidth\":1},\"geo\":{\"bgcolor\":\"white\",\"landcolor\":\"#E5ECF6\",\"subunitcolor\":\"white\",\"showland\":true,\"showlakes\":true,\"lakecolor\":\"white\"},\"title\":{\"x\":0.05},\"mapbox\":{\"style\":\"light\"}}},\"xaxis\":{\"anchor\":\"y\",\"domain\":[0.0,1.0],\"title\":{\"text\":\"holiday\"}},\"yaxis\":{\"anchor\":\"x\",\"domain\":[0.0,1.0],\"title\":{\"text\":\"count\"}},\"legend\":{\"tracegroupgap\":0},\"title\":{\"text\":\"Histogram of values for holiday\"},\"barmode\":\"relative\"},                        {\"responsive\": true}                    ).then(function(){\n                            \nvar gd = document.getElementById('108ac37c-fb49-4ce7-8f0a-f6e8e5a31061');\nvar x = new MutationObserver(function (mutations, observer) {{\n        var display = window.getComputedStyle(gd).display;\n        if (!display || display === 'none') {{\n            console.log([gd, 'removed!']);\n            Plotly.purge(gd);\n            observer.disconnect();\n        }}\n}});\n\n// Listen for the removal of the full notebook cells\nvar notebookContainer = gd.closest('#notebook-container');\nif (notebookContainer) {{\n    x.observe(notebookContainer, {childList: true});\n}}\n\n// Listen for the clearing of the current output cell\nvar outputEl = gd.closest('.output');\nif (outputEl) {{\n    x.observe(outputEl, {childList: true});\n}}\n\n                        })                };                            </script>        </div>\n</body>\n</html>"
     },
     "metadata": {},
     "output_type": "display_data"
    },
    {
     "data": {
      "text/html": "<html>\n<head><meta charset=\"utf-8\" /></head>\n<body>\n    <div>            <script src=\"https://cdnjs.cloudflare.com/ajax/libs/mathjax/2.7.5/MathJax.js?config=TeX-AMS-MML_SVG\"></script><script type=\"text/javascript\">if (window.MathJax && window.MathJax.Hub && window.MathJax.Hub.Config) {window.MathJax.Hub.Config({SVG: {font: \"STIX-Web\"}});}</script>                <script type=\"text/javascript\">window.PlotlyConfig = {MathJaxConfig: 'local'};</script>\n        <script src=\"https://cdn.plot.ly/plotly-2.14.0.min.js\"></script>                <div id=\"8869be71-2f9b-4e7c-ac14-c528654aa784\" class=\"plotly-graph-div\" style=\"height:525px; width:100%;\"></div>            <script type=\"text/javascript\">                                    window.PLOTLYENV=window.PLOTLYENV || {};                                    if (document.getElementById(\"8869be71-2f9b-4e7c-ac14-c528654aa784\")) {                    Plotly.newPlot(                        \"8869be71-2f9b-4e7c-ac14-c528654aa784\",                        [{\"alignmentgroup\":\"True\",\"hovertemplate\":\"holiday=%{x}<br>cnt=%{y}<extra></extra>\",\"legendgroup\":\"\",\"marker\":{\"color\":\"#636efa\"},\"name\":\"\",\"notched\":false,\"offsetgroup\":\"\",\"orientation\":\"v\",\"showlegend\":false,\"x\":[0,0,0,0,0,0,0,0,0,0,0,0,0,0,0,0,1,0,0,0,0,0,0,0,0,0,0,0,0,0,0,0,0,0,0,0,0,0,0,0,0,0,0,0,0,0,0,0,0,0,0,1,0,0,0,0,0,0,0,0,0,0,0,0,0,0,0,0,0,0,0,0,0,0,0,0,0,0,0,0,0,0,0,0,0,0,0,0,0,0,0,0,0,0,0,0,0,0,0,0,0,0,0,0,1,0,0,0,0,0,0,0,0,0,0,0,0,0,0,0,0,0,0,0,0,0,0,0,0,0,0,0,0,0,0,0,0,0,0,0,0,0,0,0,0,0,0,0,0,1,0,0,0,0,0,0,0,0,0,0,0,0,0,0,0,0,0,0,0,0,0,0,0,0,0,0,0,0,0,0,0,0,0,0,1,0,0,0,0,0,0,0,0,0,0,0,0,0,0,0,0,0,0,0,0,0,0,0,0,0,0,0,0,0,0,0,0,0,0,0,0,0,0,0,0,0,0,0,0,0,0,0,0,0,0,0,0,0,0,0,0,0,0,0,0,0,0,1,0,0,0,0,0,0,0,0,0,0,0,0,0,0,0,0,0,0,0,0,0,0,0,0,0,0,0,0,0,0,0,0,0,0,1,0,0,0,0,0,0,0,0,0,0,0,0,0,0,0,0,0,0,0,0,0,0,0,0,0,0,0,0,0,0,0,1,0,0,0,0,0,0,0,0,0,0,0,0,1,0,0,0,0,0,0,0,0,0,0,0,0,0,0,0,0,0,0,0,0,0,0,0,0,0,0,0,0,0,0,0,1,0,0,0,0,0,0,1,0,0,0,0,0,0,0,0,0,0,0,0,0,1,0,0,0,0,0,0,0,0,0,0,0,0,0,0,0,0,0,0,0,0,0,0,0,0,0,0,0,0,0,0,0,0,0,0,1,0,0,0,0,0,0,0,0,0,0,0,0,0,0,0,0,0,0,0,0,0,0,0,0,0,0,0,0,0,0,0,0,0,0,0,0,0,0,0,0,0,0,0,0,0,0,0,0,0,0,0,0,0,0,1,0,0,0,0,0,0,0,0,0,0,0,0,0,0,0,0,0,0,0,0,0,0,0,0,0,0,0,0,0,0,0,0,0,0,0,0,0,0,0,0,0,1,0,0,0,0,0,0,0,0,0,0,0,0,0,0,0,0,0,0,0,0,0,0,0,0,0,0,0,0,0,0,0,0,0,0,0,0,1,0,0,0,0,0,0,0,0,0,0,0,0,0,0,0,0,0,0,0,0,0,0,0,0,0,0,0,0,0,0,0,0,0,0,0,0,0,0,0,0,0,0,0,0,0,0,0,0,0,0,0,0,0,0,0,0,0,0,0,0,1,0,0,0,0,0,0,0,0,0,0,0,0,0,0,0,0,0,0,0,0,0,0,0,0,0,0,0,0,0,0,0,0,0,0,1,0,0,0,0,0,0,0,0,0,0,0,0,0,0,0,0,0,0,0,0,0,0,0,0,0,0,0,0,0,0,0,0,0,0,1,0,0,0,0,0,0,0,0,0,1,0,0,0,0,0,0,0,0,0,0,0,0,0,0,0,0,0,0,0,0,0,0,0,0,0,0,0,0,0,0,0,0,1,0,0,0,0,0,0],\"x0\":\" \",\"xaxis\":\"x\",\"y\":[985,801,1349,1562,1600,1606,1510,959,822,1321,1263,1162,1406,1421,1248,1204,1000,683,1650,1927,1543,981,986,1416,1985,506,431,1167,1098,1096,1501,1360,1526,1550,1708,1005,1623,1712,1530,1605,1538,1746,1472,1589,1913,1815,2115,2475,2927,1635,1812,1107,1450,1917,1807,1461,1969,2402,1446,1851,2134,1685,1944,2077,605,1872,2133,1891,623,1977,2132,2417,2046,2056,2192,2744,3239,3117,2471,2077,2703,2121,1865,2210,2496,1693,2028,2425,1536,1685,2227,2252,3249,3115,1795,2808,3141,1471,2455,2895,3348,2034,2162,3267,3126,795,3744,3429,3204,3944,4189,1683,4036,4191,4073,4400,3872,4058,4595,5312,3351,4401,4451,2633,4433,4608,4714,4333,4362,4803,4182,4864,4105,3409,4553,3958,4123,3855,4575,4917,5805,4660,4274,4492,4978,4677,4679,4758,4788,4098,3982,3974,4968,5312,5342,4906,4548,4833,4401,3915,4586,4966,4460,5020,4891,5180,3767,4844,5119,4744,4010,4835,4507,4790,4991,5202,5305,4708,4648,5225,5515,5362,5119,4649,6043,4665,4629,4592,4040,5336,4881,4086,4258,4342,5084,5538,5923,5302,4458,4541,4332,3784,3387,3285,3606,3840,4590,4656,4390,3846,4475,4302,4266,4845,3574,4576,4866,4294,3785,4326,4602,4780,4792,4905,4150,3820,4338,4725,4694,3805,4153,5191,3873,4758,5895,5130,3542,4661,1115,4334,4634,5204,5058,5115,4727,4484,4940,3351,2710,1996,1842,3544,5345,5046,4713,4763,4785,3659,4760,4511,4274,4539,3641,4352,4795,2395,5423,5010,4630,4120,3907,4839,5202,2429,2918,3570,4456,4826,4765,4985,5409,5511,5117,4563,2416,2913,3644,5217,5041,4570,4748,2424,4195,4304,4308,4381,4187,4687,3894,2659,3747,627,3331,3669,4068,4186,3974,4046,3926,3649,4035,4205,4109,2933,3368,4067,3717,4486,4195,1817,3053,3392,3663,3520,2765,1607,2566,1495,2792,3068,3071,3867,2914,3613,3727,3940,3614,3485,3811,2594,705,3322,3620,3190,2743,3310,3523,3740,3709,3577,2739,2431,3403,3750,2660,3068,2209,1011,754,1317,1162,2302,2423,2999,2485,2294,1951,2236,2368,3272,4098,4521,3425,2376,3598,2177,4097,3214,2493,2311,2298,2935,3376,3292,3163,1301,1977,2432,4339,4270,4075,3456,4023,3243,3624,4509,4579,3761,4151,2832,2947,3784,4375,2802,3830,3831,2169,1529,3422,3922,4169,3005,4154,4318,2689,3129,3777,4773,5062,3487,2732,3389,4322,4363,4990,3194,4066,3423,3333,3956,4916,5382,4569,4118,4911,5298,5847,6312,6192,4378,7836,5892,6153,6093,6230,6871,8362,3372,4996,5558,5102,5698,6133,5459,6235,6041,5936,6772,6436,6457,6460,6857,5169,5585,5918,4862,5409,6398,7460,7132,6370,6691,4367,6565,7290,6624,1027,3214,5633,6196,5026,6233,4220,6304,5572,5740,6169,6421,6296,6883,6359,6273,5728,4717,6572,7030,7429,6118,2843,5115,7424,7384,7639,8294,7129,4359,6073,5260,6770,6734,6536,6591,6043,5743,6855,7338,4127,8120,7641,6998,7001,7055,7494,7736,7498,6598,6664,4972,7421,7363,7665,7702,6978,5099,6825,6211,5905,5823,7458,6891,6779,7442,7335,6879,5463,5687,5531,6227,6660,7403,6241,6207,4840,4672,6569,6290,7264,7446,7499,6969,6031,6830,6786,5713,6591,5870,4459,7410,6966,7592,8173,6861,6904,6685,6597,7105,7216,7580,7261,7175,6824,5464,7013,7273,7534,7286,5786,6299,6544,6883,6784,7347,7605,7148,7865,4549,6530,7006,7375,7765,7582,6053,5255,6917,7040,7697,7713,7350,6140,5810,6034,6864,7112,6203,7504,5976,8227,7525,7767,7870,7804,8009,8714,7333,6869,4073,7591,7720,8167,8395,7907,7436,7538,7733,7393,7415,8555,6889,6778,4639,7572,7328,8156,7965,3510,5478,6392,7691,7570,7282,7109,6639,5875,7534,7461,7509,5424,8090,6824,7058,7466,7693,7359,7444,7852,4459,22,1096,5566,5986,5847,5138,5107,5259,5686,5035,5315,5992,6536,6852,6269,4094,5495,5445,5698,5629,4669,5499,5634,5146,2425,3910,2277,2424,5087,3959,5260,5323,5668,5191,4649,6234,6606,5729,5375,5008,5582,3228,5170,5501,5319,5532,5611,5047,3786,4585,5557,5267,4128,3623,1749,1787,920,1013,441,2114,3095,1341,1796,2729],\"y0\":\" \",\"yaxis\":\"y\",\"type\":\"box\"}],                        {\"template\":{\"data\":{\"histogram2dcontour\":[{\"type\":\"histogram2dcontour\",\"colorbar\":{\"outlinewidth\":0,\"ticks\":\"\"},\"colorscale\":[[0.0,\"#0d0887\"],[0.1111111111111111,\"#46039f\"],[0.2222222222222222,\"#7201a8\"],[0.3333333333333333,\"#9c179e\"],[0.4444444444444444,\"#bd3786\"],[0.5555555555555556,\"#d8576b\"],[0.6666666666666666,\"#ed7953\"],[0.7777777777777778,\"#fb9f3a\"],[0.8888888888888888,\"#fdca26\"],[1.0,\"#f0f921\"]]}],\"choropleth\":[{\"type\":\"choropleth\",\"colorbar\":{\"outlinewidth\":0,\"ticks\":\"\"}}],\"histogram2d\":[{\"type\":\"histogram2d\",\"colorbar\":{\"outlinewidth\":0,\"ticks\":\"\"},\"colorscale\":[[0.0,\"#0d0887\"],[0.1111111111111111,\"#46039f\"],[0.2222222222222222,\"#7201a8\"],[0.3333333333333333,\"#9c179e\"],[0.4444444444444444,\"#bd3786\"],[0.5555555555555556,\"#d8576b\"],[0.6666666666666666,\"#ed7953\"],[0.7777777777777778,\"#fb9f3a\"],[0.8888888888888888,\"#fdca26\"],[1.0,\"#f0f921\"]]}],\"heatmap\":[{\"type\":\"heatmap\",\"colorbar\":{\"outlinewidth\":0,\"ticks\":\"\"},\"colorscale\":[[0.0,\"#0d0887\"],[0.1111111111111111,\"#46039f\"],[0.2222222222222222,\"#7201a8\"],[0.3333333333333333,\"#9c179e\"],[0.4444444444444444,\"#bd3786\"],[0.5555555555555556,\"#d8576b\"],[0.6666666666666666,\"#ed7953\"],[0.7777777777777778,\"#fb9f3a\"],[0.8888888888888888,\"#fdca26\"],[1.0,\"#f0f921\"]]}],\"heatmapgl\":[{\"type\":\"heatmapgl\",\"colorbar\":{\"outlinewidth\":0,\"ticks\":\"\"},\"colorscale\":[[0.0,\"#0d0887\"],[0.1111111111111111,\"#46039f\"],[0.2222222222222222,\"#7201a8\"],[0.3333333333333333,\"#9c179e\"],[0.4444444444444444,\"#bd3786\"],[0.5555555555555556,\"#d8576b\"],[0.6666666666666666,\"#ed7953\"],[0.7777777777777778,\"#fb9f3a\"],[0.8888888888888888,\"#fdca26\"],[1.0,\"#f0f921\"]]}],\"contourcarpet\":[{\"type\":\"contourcarpet\",\"colorbar\":{\"outlinewidth\":0,\"ticks\":\"\"}}],\"contour\":[{\"type\":\"contour\",\"colorbar\":{\"outlinewidth\":0,\"ticks\":\"\"},\"colorscale\":[[0.0,\"#0d0887\"],[0.1111111111111111,\"#46039f\"],[0.2222222222222222,\"#7201a8\"],[0.3333333333333333,\"#9c179e\"],[0.4444444444444444,\"#bd3786\"],[0.5555555555555556,\"#d8576b\"],[0.6666666666666666,\"#ed7953\"],[0.7777777777777778,\"#fb9f3a\"],[0.8888888888888888,\"#fdca26\"],[1.0,\"#f0f921\"]]}],\"surface\":[{\"type\":\"surface\",\"colorbar\":{\"outlinewidth\":0,\"ticks\":\"\"},\"colorscale\":[[0.0,\"#0d0887\"],[0.1111111111111111,\"#46039f\"],[0.2222222222222222,\"#7201a8\"],[0.3333333333333333,\"#9c179e\"],[0.4444444444444444,\"#bd3786\"],[0.5555555555555556,\"#d8576b\"],[0.6666666666666666,\"#ed7953\"],[0.7777777777777778,\"#fb9f3a\"],[0.8888888888888888,\"#fdca26\"],[1.0,\"#f0f921\"]]}],\"mesh3d\":[{\"type\":\"mesh3d\",\"colorbar\":{\"outlinewidth\":0,\"ticks\":\"\"}}],\"scatter\":[{\"fillpattern\":{\"fillmode\":\"overlay\",\"size\":10,\"solidity\":0.2},\"type\":\"scatter\"}],\"parcoords\":[{\"type\":\"parcoords\",\"line\":{\"colorbar\":{\"outlinewidth\":0,\"ticks\":\"\"}}}],\"scatterpolargl\":[{\"type\":\"scatterpolargl\",\"marker\":{\"colorbar\":{\"outlinewidth\":0,\"ticks\":\"\"}}}],\"bar\":[{\"error_x\":{\"color\":\"#2a3f5f\"},\"error_y\":{\"color\":\"#2a3f5f\"},\"marker\":{\"line\":{\"color\":\"#E5ECF6\",\"width\":0.5},\"pattern\":{\"fillmode\":\"overlay\",\"size\":10,\"solidity\":0.2}},\"type\":\"bar\"}],\"scattergeo\":[{\"type\":\"scattergeo\",\"marker\":{\"colorbar\":{\"outlinewidth\":0,\"ticks\":\"\"}}}],\"scatterpolar\":[{\"type\":\"scatterpolar\",\"marker\":{\"colorbar\":{\"outlinewidth\":0,\"ticks\":\"\"}}}],\"histogram\":[{\"marker\":{\"pattern\":{\"fillmode\":\"overlay\",\"size\":10,\"solidity\":0.2}},\"type\":\"histogram\"}],\"scattergl\":[{\"type\":\"scattergl\",\"marker\":{\"colorbar\":{\"outlinewidth\":0,\"ticks\":\"\"}}}],\"scatter3d\":[{\"type\":\"scatter3d\",\"line\":{\"colorbar\":{\"outlinewidth\":0,\"ticks\":\"\"}},\"marker\":{\"colorbar\":{\"outlinewidth\":0,\"ticks\":\"\"}}}],\"scattermapbox\":[{\"type\":\"scattermapbox\",\"marker\":{\"colorbar\":{\"outlinewidth\":0,\"ticks\":\"\"}}}],\"scatterternary\":[{\"type\":\"scatterternary\",\"marker\":{\"colorbar\":{\"outlinewidth\":0,\"ticks\":\"\"}}}],\"scattercarpet\":[{\"type\":\"scattercarpet\",\"marker\":{\"colorbar\":{\"outlinewidth\":0,\"ticks\":\"\"}}}],\"carpet\":[{\"aaxis\":{\"endlinecolor\":\"#2a3f5f\",\"gridcolor\":\"white\",\"linecolor\":\"white\",\"minorgridcolor\":\"white\",\"startlinecolor\":\"#2a3f5f\"},\"baxis\":{\"endlinecolor\":\"#2a3f5f\",\"gridcolor\":\"white\",\"linecolor\":\"white\",\"minorgridcolor\":\"white\",\"startlinecolor\":\"#2a3f5f\"},\"type\":\"carpet\"}],\"table\":[{\"cells\":{\"fill\":{\"color\":\"#EBF0F8\"},\"line\":{\"color\":\"white\"}},\"header\":{\"fill\":{\"color\":\"#C8D4E3\"},\"line\":{\"color\":\"white\"}},\"type\":\"table\"}],\"barpolar\":[{\"marker\":{\"line\":{\"color\":\"#E5ECF6\",\"width\":0.5},\"pattern\":{\"fillmode\":\"overlay\",\"size\":10,\"solidity\":0.2}},\"type\":\"barpolar\"}],\"pie\":[{\"automargin\":true,\"type\":\"pie\"}]},\"layout\":{\"autotypenumbers\":\"strict\",\"colorway\":[\"#636efa\",\"#EF553B\",\"#00cc96\",\"#ab63fa\",\"#FFA15A\",\"#19d3f3\",\"#FF6692\",\"#B6E880\",\"#FF97FF\",\"#FECB52\"],\"font\":{\"color\":\"#2a3f5f\"},\"hovermode\":\"closest\",\"hoverlabel\":{\"align\":\"left\"},\"paper_bgcolor\":\"white\",\"plot_bgcolor\":\"#E5ECF6\",\"polar\":{\"bgcolor\":\"#E5ECF6\",\"angularaxis\":{\"gridcolor\":\"white\",\"linecolor\":\"white\",\"ticks\":\"\"},\"radialaxis\":{\"gridcolor\":\"white\",\"linecolor\":\"white\",\"ticks\":\"\"}},\"ternary\":{\"bgcolor\":\"#E5ECF6\",\"aaxis\":{\"gridcolor\":\"white\",\"linecolor\":\"white\",\"ticks\":\"\"},\"baxis\":{\"gridcolor\":\"white\",\"linecolor\":\"white\",\"ticks\":\"\"},\"caxis\":{\"gridcolor\":\"white\",\"linecolor\":\"white\",\"ticks\":\"\"}},\"coloraxis\":{\"colorbar\":{\"outlinewidth\":0,\"ticks\":\"\"}},\"colorscale\":{\"sequential\":[[0.0,\"#0d0887\"],[0.1111111111111111,\"#46039f\"],[0.2222222222222222,\"#7201a8\"],[0.3333333333333333,\"#9c179e\"],[0.4444444444444444,\"#bd3786\"],[0.5555555555555556,\"#d8576b\"],[0.6666666666666666,\"#ed7953\"],[0.7777777777777778,\"#fb9f3a\"],[0.8888888888888888,\"#fdca26\"],[1.0,\"#f0f921\"]],\"sequentialminus\":[[0.0,\"#0d0887\"],[0.1111111111111111,\"#46039f\"],[0.2222222222222222,\"#7201a8\"],[0.3333333333333333,\"#9c179e\"],[0.4444444444444444,\"#bd3786\"],[0.5555555555555556,\"#d8576b\"],[0.6666666666666666,\"#ed7953\"],[0.7777777777777778,\"#fb9f3a\"],[0.8888888888888888,\"#fdca26\"],[1.0,\"#f0f921\"]],\"diverging\":[[0,\"#8e0152\"],[0.1,\"#c51b7d\"],[0.2,\"#de77ae\"],[0.3,\"#f1b6da\"],[0.4,\"#fde0ef\"],[0.5,\"#f7f7f7\"],[0.6,\"#e6f5d0\"],[0.7,\"#b8e186\"],[0.8,\"#7fbc41\"],[0.9,\"#4d9221\"],[1,\"#276419\"]]},\"xaxis\":{\"gridcolor\":\"white\",\"linecolor\":\"white\",\"ticks\":\"\",\"title\":{\"standoff\":15},\"zerolinecolor\":\"white\",\"automargin\":true,\"zerolinewidth\":2},\"yaxis\":{\"gridcolor\":\"white\",\"linecolor\":\"white\",\"ticks\":\"\",\"title\":{\"standoff\":15},\"zerolinecolor\":\"white\",\"automargin\":true,\"zerolinewidth\":2},\"scene\":{\"xaxis\":{\"backgroundcolor\":\"#E5ECF6\",\"gridcolor\":\"white\",\"linecolor\":\"white\",\"showbackground\":true,\"ticks\":\"\",\"zerolinecolor\":\"white\",\"gridwidth\":2},\"yaxis\":{\"backgroundcolor\":\"#E5ECF6\",\"gridcolor\":\"white\",\"linecolor\":\"white\",\"showbackground\":true,\"ticks\":\"\",\"zerolinecolor\":\"white\",\"gridwidth\":2},\"zaxis\":{\"backgroundcolor\":\"#E5ECF6\",\"gridcolor\":\"white\",\"linecolor\":\"white\",\"showbackground\":true,\"ticks\":\"\",\"zerolinecolor\":\"white\",\"gridwidth\":2}},\"shapedefaults\":{\"line\":{\"color\":\"#2a3f5f\"}},\"annotationdefaults\":{\"arrowcolor\":\"#2a3f5f\",\"arrowhead\":0,\"arrowwidth\":1},\"geo\":{\"bgcolor\":\"white\",\"landcolor\":\"#E5ECF6\",\"subunitcolor\":\"white\",\"showland\":true,\"showlakes\":true,\"lakecolor\":\"white\"},\"title\":{\"x\":0.05},\"mapbox\":{\"style\":\"light\"}}},\"xaxis\":{\"anchor\":\"y\",\"domain\":[0.0,1.0],\"title\":{\"text\":\"holiday\"}},\"yaxis\":{\"anchor\":\"x\",\"domain\":[0.0,1.0],\"title\":{\"text\":\"cnt\"}},\"legend\":{\"tracegroupgap\":0},\"title\":{\"text\":\"Boxplot of values for holiday against our target variable cnt\"},\"boxmode\":\"group\"},                        {\"responsive\": true}                    ).then(function(){\n                            \nvar gd = document.getElementById('8869be71-2f9b-4e7c-ac14-c528654aa784');\nvar x = new MutationObserver(function (mutations, observer) {{\n        var display = window.getComputedStyle(gd).display;\n        if (!display || display === 'none') {{\n            console.log([gd, 'removed!']);\n            Plotly.purge(gd);\n            observer.disconnect();\n        }}\n}});\n\n// Listen for the removal of the full notebook cells\nvar notebookContainer = gd.closest('#notebook-container');\nif (notebookContainer) {{\n    x.observe(notebookContainer, {childList: true});\n}}\n\n// Listen for the clearing of the current output cell\nvar outputEl = gd.closest('.output');\nif (outputEl) {{\n    x.observe(outputEl, {childList: true});\n}}\n\n                        })                };                            </script>        </div>\n</body>\n</html>"
     },
     "metadata": {},
     "output_type": "display_data"
    }
   ]
  },
  {
   "cell_type": "markdown",
   "source": "We can see that the distribution of riders increased during holidays. However the max number of riders out on the street remained relevailty the same.",
   "metadata": {
    "formattedRanges": [],
    "is_collapsed": false,
    "cell_id": "3ca96d9ad1de44a39f48ab96fb27c29f",
    "tags": [],
    "deepnote_cell_type": "text-cell-p"
   }
  },
  {
   "cell_type": "code",
   "metadata": {
    "cell_id": "aa8f0c7665aa437982fba0f89ade1d0b",
    "tags": [],
    "deepnote_to_be_reexecuted": false,
    "source_hash": "87db9f45",
    "execution_start": 1663728012695,
    "execution_millis": 86,
    "deepnote_cell_type": "code",
    "deepnote_cell_height": 1378.25,
    "deepnote_output_heights": [
     null,
     526,
     526
    ]
   },
   "source": "create_feature_analysis(data, 'weekday')",
   "execution_count": 14,
   "outputs": [
    {
     "name": "stdout",
     "text": "DESCRIPTIVE SUMMARY of weekday\ncount        730\nunique         7\ntop       monday\nfreq         105\nName: weekday, dtype: object\n\n\nUNIQUE VALUE COUNT: 7\n",
     "output_type": "stream"
    },
    {
     "data": {
      "text/html": "<html>\n<head><meta charset=\"utf-8\" /></head>\n<body>\n    <div>            <script src=\"https://cdnjs.cloudflare.com/ajax/libs/mathjax/2.7.5/MathJax.js?config=TeX-AMS-MML_SVG\"></script><script type=\"text/javascript\">if (window.MathJax && window.MathJax.Hub && window.MathJax.Hub.Config) {window.MathJax.Hub.Config({SVG: {font: \"STIX-Web\"}});}</script>                <script type=\"text/javascript\">window.PlotlyConfig = {MathJaxConfig: 'local'};</script>\n        <script src=\"https://cdn.plot.ly/plotly-2.14.0.min.js\"></script>                <div id=\"44fe47a1-2871-4aae-97dc-0a663747fe53\" class=\"plotly-graph-div\" style=\"height:525px; width:100%;\"></div>            <script type=\"text/javascript\">                                    window.PLOTLYENV=window.PLOTLYENV || {};                                    if (document.getElementById(\"44fe47a1-2871-4aae-97dc-0a663747fe53\")) {                    Plotly.newPlot(                        \"44fe47a1-2871-4aae-97dc-0a663747fe53\",                        [{\"alignmentgroup\":\"True\",\"bingroup\":\"x\",\"hovertemplate\":\"weekday=%{x}<br>count=%{y}<extra></extra>\",\"legendgroup\":\"\",\"marker\":{\"color\":\"#636efa\",\"pattern\":{\"shape\":\"\"}},\"name\":\"\",\"offsetgroup\":\"\",\"orientation\":\"v\",\"showlegend\":false,\"x\":[\"sunday\",\"monday\",\"tuesday\",\"wednesday\",\"thursday\",\"friday\",\"saturday\",\"sunday\",\"monday\",\"tuesday\",\"wednesday\",\"thursday\",\"friday\",\"saturday\",\"sunday\",\"monday\",\"tuesday\",\"wednesday\",\"thursday\",\"friday\",\"saturday\",\"sunday\",\"monday\",\"tuesday\",\"wednesday\",\"thursday\",\"friday\",\"saturday\",\"sunday\",\"monday\",\"tuesday\",\"wednesday\",\"thursday\",\"friday\",\"saturday\",\"sunday\",\"monday\",\"tuesday\",\"wednesday\",\"thursday\",\"friday\",\"saturday\",\"sunday\",\"monday\",\"tuesday\",\"wednesday\",\"thursday\",\"friday\",\"saturday\",\"sunday\",\"monday\",\"tuesday\",\"wednesday\",\"thursday\",\"friday\",\"saturday\",\"sunday\",\"monday\",\"tuesday\",\"wednesday\",\"thursday\",\"friday\",\"saturday\",\"sunday\",\"monday\",\"tuesday\",\"wednesday\",\"thursday\",\"friday\",\"saturday\",\"sunday\",\"monday\",\"tuesday\",\"wednesday\",\"thursday\",\"friday\",\"saturday\",\"sunday\",\"monday\",\"tuesday\",\"wednesday\",\"thursday\",\"friday\",\"saturday\",\"sunday\",\"monday\",\"tuesday\",\"wednesday\",\"thursday\",\"friday\",\"saturday\",\"sunday\",\"monday\",\"tuesday\",\"wednesday\",\"thursday\",\"friday\",\"saturday\",\"sunday\",\"monday\",\"tuesday\",\"wednesday\",\"thursday\",\"friday\",\"saturday\",\"sunday\",\"monday\",\"tuesday\",\"wednesday\",\"thursday\",\"friday\",\"saturday\",\"sunday\",\"monday\",\"tuesday\",\"wednesday\",\"thursday\",\"friday\",\"saturday\",\"sunday\",\"monday\",\"tuesday\",\"wednesday\",\"thursday\",\"friday\",\"saturday\",\"sunday\",\"monday\",\"tuesday\",\"wednesday\",\"thursday\",\"friday\",\"saturday\",\"sunday\",\"monday\",\"tuesday\",\"wednesday\",\"thursday\",\"friday\",\"saturday\",\"sunday\",\"monday\",\"tuesday\",\"wednesday\",\"thursday\",\"friday\",\"saturday\",\"sunday\",\"monday\",\"tuesday\",\"wednesday\",\"thursday\",\"friday\",\"saturday\",\"sunday\",\"monday\",\"tuesday\",\"wednesday\",\"thursday\",\"friday\",\"saturday\",\"sunday\",\"monday\",\"tuesday\",\"wednesday\",\"thursday\",\"friday\",\"saturday\",\"sunday\",\"monday\",\"tuesday\",\"wednesday\",\"thursday\",\"friday\",\"saturday\",\"sunday\",\"monday\",\"tuesday\",\"wednesday\",\"thursday\",\"friday\",\"saturday\",\"sunday\",\"monday\",\"tuesday\",\"wednesday\",\"thursday\",\"friday\",\"saturday\",\"sunday\",\"monday\",\"tuesday\",\"wednesday\",\"thursday\",\"friday\",\"saturday\",\"sunday\",\"monday\",\"tuesday\",\"wednesday\",\"thursday\",\"friday\",\"saturday\",\"sunday\",\"monday\",\"tuesday\",\"wednesday\",\"thursday\",\"friday\",\"saturday\",\"sunday\",\"monday\",\"tuesday\",\"wednesday\",\"thursday\",\"friday\",\"saturday\",\"sunday\",\"monday\",\"tuesday\",\"wednesday\",\"thursday\",\"friday\",\"saturday\",\"sunday\",\"monday\",\"tuesday\",\"wednesday\",\"thursday\",\"friday\",\"saturday\",\"sunday\",\"monday\",\"tuesday\",\"wednesday\",\"thursday\",\"friday\",\"saturday\",\"sunday\",\"monday\",\"tuesday\",\"wednesday\",\"thursday\",\"friday\",\"saturday\",\"sunday\",\"monday\",\"tuesday\",\"wednesday\",\"thursday\",\"friday\",\"saturday\",\"sunday\",\"monday\",\"tuesday\",\"wednesday\",\"thursday\",\"friday\",\"saturday\",\"sunday\",\"monday\",\"tuesday\",\"wednesday\",\"thursday\",\"friday\",\"saturday\",\"sunday\",\"monday\",\"tuesday\",\"wednesday\",\"thursday\",\"friday\",\"saturday\",\"sunday\",\"monday\",\"tuesday\",\"wednesday\",\"thursday\",\"friday\",\"saturday\",\"sunday\",\"monday\",\"tuesday\",\"wednesday\",\"thursday\",\"friday\",\"saturday\",\"sunday\",\"monday\",\"tuesday\",\"wednesday\",\"thursday\",\"friday\",\"saturday\",\"sunday\",\"monday\",\"tuesday\",\"wednesday\",\"thursday\",\"friday\",\"saturday\",\"sunday\",\"monday\",\"tuesday\",\"wednesday\",\"thursday\",\"friday\",\"saturday\",\"sunday\",\"monday\",\"tuesday\",\"wednesday\",\"thursday\",\"friday\",\"saturday\",\"sunday\",\"monday\",\"tuesday\",\"wednesday\",\"thursday\",\"friday\",\"saturday\",\"sunday\",\"monday\",\"tuesday\",\"wednesday\",\"thursday\",\"friday\",\"saturday\",\"sunday\",\"monday\",\"tuesday\",\"wednesday\",\"thursday\",\"friday\",\"saturday\",\"sunday\",\"monday\",\"tuesday\",\"wednesday\",\"thursday\",\"friday\",\"saturday\",\"sunday\",\"monday\",\"tuesday\",\"wednesday\",\"thursday\",\"friday\",\"saturday\",\"sunday\",\"monday\",\"tuesday\",\"wednesday\",\"thursday\",\"friday\",\"saturday\",\"sunday\",\"monday\",\"tuesday\",\"wednesday\",\"thursday\",\"friday\",\"saturday\",\"sunday\",\"monday\",\"tuesday\",\"wednesday\",\"thursday\",\"friday\",\"saturday\",\"sunday\",\"monday\",\"tuesday\",\"wednesday\",\"thursday\",\"friday\",\"saturday\",\"sunday\",\"monday\",\"tuesday\",\"wednesday\",\"thursday\",\"friday\",\"saturday\",\"sunday\",\"monday\",\"tuesday\",\"wednesday\",\"thursday\",\"friday\",\"saturday\",\"sunday\",\"monday\",\"tuesday\",\"wednesday\",\"thursday\",\"friday\",\"saturday\",\"sunday\",\"monday\",\"tuesday\",\"wednesday\",\"thursday\",\"friday\",\"saturday\",\"sunday\",\"monday\",\"tuesday\",\"wednesday\",\"thursday\",\"friday\",\"saturday\",\"sunday\",\"monday\",\"tuesday\",\"wednesday\",\"thursday\",\"friday\",\"saturday\",\"sunday\",\"monday\",\"tuesday\",\"wednesday\",\"friday\",\"saturday\",\"sunday\",\"monday\",\"tuesday\",\"wednesday\",\"thursday\",\"friday\",\"saturday\",\"sunday\",\"monday\",\"tuesday\",\"wednesday\",\"thursday\",\"friday\",\"saturday\",\"sunday\",\"monday\",\"tuesday\",\"wednesday\",\"thursday\",\"friday\",\"saturday\",\"sunday\",\"monday\",\"tuesday\",\"wednesday\",\"thursday\",\"friday\",\"saturday\",\"sunday\",\"monday\",\"tuesday\",\"wednesday\",\"thursday\",\"friday\",\"saturday\",\"sunday\",\"monday\",\"tuesday\",\"wednesday\",\"thursday\",\"friday\",\"saturday\",\"sunday\",\"monday\",\"tuesday\",\"wednesday\",\"thursday\",\"friday\",\"saturday\",\"sunday\",\"monday\",\"tuesday\",\"wednesday\",\"thursday\",\"friday\",\"saturday\",\"sunday\",\"monday\",\"tuesday\",\"wednesday\",\"thursday\",\"friday\",\"saturday\",\"sunday\",\"monday\",\"tuesday\",\"wednesday\",\"thursday\",\"friday\",\"saturday\",\"sunday\",\"monday\",\"tuesday\",\"wednesday\",\"thursday\",\"friday\",\"saturday\",\"sunday\",\"monday\",\"tuesday\",\"wednesday\",\"thursday\",\"friday\",\"saturday\",\"sunday\",\"monday\",\"tuesday\",\"wednesday\",\"thursday\",\"friday\",\"saturday\",\"sunday\",\"monday\",\"tuesday\",\"wednesday\",\"thursday\",\"friday\",\"saturday\",\"sunday\",\"monday\",\"tuesday\",\"wednesday\",\"thursday\",\"friday\",\"saturday\",\"sunday\",\"monday\",\"tuesday\",\"wednesday\",\"thursday\",\"friday\",\"saturday\",\"sunday\",\"monday\",\"tuesday\",\"wednesday\",\"thursday\",\"friday\",\"saturday\",\"sunday\",\"monday\",\"tuesday\",\"wednesday\",\"thursday\",\"friday\",\"saturday\",\"sunday\",\"monday\",\"tuesday\",\"wednesday\",\"thursday\",\"friday\",\"saturday\",\"sunday\",\"monday\",\"tuesday\",\"wednesday\",\"thursday\",\"friday\",\"saturday\",\"sunday\",\"monday\",\"tuesday\",\"wednesday\",\"thursday\",\"friday\",\"saturday\",\"sunday\",\"monday\",\"tuesday\",\"wednesday\",\"thursday\",\"friday\",\"saturday\",\"sunday\",\"monday\",\"tuesday\",\"wednesday\",\"thursday\",\"friday\",\"saturday\",\"sunday\",\"monday\",\"tuesday\",\"wednesday\",\"thursday\",\"friday\",\"saturday\",\"sunday\",\"monday\",\"tuesday\",\"wednesday\",\"thursday\",\"friday\",\"saturday\",\"sunday\",\"monday\",\"tuesday\",\"wednesday\",\"thursday\",\"friday\",\"saturday\",\"sunday\",\"monday\",\"tuesday\",\"wednesday\",\"thursday\",\"friday\",\"saturday\",\"sunday\",\"monday\",\"tuesday\",\"wednesday\",\"thursday\",\"friday\",\"saturday\",\"sunday\",\"monday\",\"tuesday\",\"wednesday\",\"thursday\",\"friday\",\"saturday\",\"sunday\",\"monday\",\"tuesday\",\"wednesday\",\"thursday\",\"friday\",\"saturday\",\"sunday\",\"monday\",\"tuesday\",\"wednesday\",\"thursday\",\"friday\",\"saturday\",\"sunday\",\"monday\",\"tuesday\",\"wednesday\",\"thursday\",\"friday\",\"saturday\",\"sunday\",\"monday\",\"tuesday\",\"wednesday\",\"thursday\",\"friday\",\"saturday\",\"sunday\",\"monday\",\"tuesday\",\"wednesday\",\"thursday\",\"friday\",\"saturday\",\"sunday\",\"monday\",\"tuesday\",\"wednesday\",\"thursday\",\"friday\",\"saturday\",\"sunday\",\"monday\",\"tuesday\",\"wednesday\",\"thursday\",\"friday\",\"saturday\",\"sunday\",\"monday\",\"tuesday\",\"wednesday\",\"thursday\",\"friday\",\"saturday\",\"sunday\",\"monday\",\"tuesday\",\"wednesday\",\"thursday\",\"friday\",\"saturday\",\"sunday\",\"monday\",\"tuesday\",\"wednesday\",\"thursday\",\"friday\",\"saturday\",\"sunday\",\"monday\",\"tuesday\",\"wednesday\",\"thursday\",\"friday\",\"saturday\",\"sunday\",\"monday\",\"tuesday\",\"wednesday\",\"thursday\",\"friday\",\"saturday\",\"sunday\",\"monday\",\"tuesday\",\"wednesday\",\"thursday\",\"friday\",\"saturday\",\"sunday\",\"monday\",\"tuesday\",\"wednesday\",\"thursday\",\"friday\",\"saturday\",\"sunday\",\"monday\",\"tuesday\"],\"xaxis\":\"x\",\"yaxis\":\"y\",\"type\":\"histogram\"}],                        {\"template\":{\"data\":{\"histogram2dcontour\":[{\"type\":\"histogram2dcontour\",\"colorbar\":{\"outlinewidth\":0,\"ticks\":\"\"},\"colorscale\":[[0.0,\"#0d0887\"],[0.1111111111111111,\"#46039f\"],[0.2222222222222222,\"#7201a8\"],[0.3333333333333333,\"#9c179e\"],[0.4444444444444444,\"#bd3786\"],[0.5555555555555556,\"#d8576b\"],[0.6666666666666666,\"#ed7953\"],[0.7777777777777778,\"#fb9f3a\"],[0.8888888888888888,\"#fdca26\"],[1.0,\"#f0f921\"]]}],\"choropleth\":[{\"type\":\"choropleth\",\"colorbar\":{\"outlinewidth\":0,\"ticks\":\"\"}}],\"histogram2d\":[{\"type\":\"histogram2d\",\"colorbar\":{\"outlinewidth\":0,\"ticks\":\"\"},\"colorscale\":[[0.0,\"#0d0887\"],[0.1111111111111111,\"#46039f\"],[0.2222222222222222,\"#7201a8\"],[0.3333333333333333,\"#9c179e\"],[0.4444444444444444,\"#bd3786\"],[0.5555555555555556,\"#d8576b\"],[0.6666666666666666,\"#ed7953\"],[0.7777777777777778,\"#fb9f3a\"],[0.8888888888888888,\"#fdca26\"],[1.0,\"#f0f921\"]]}],\"heatmap\":[{\"type\":\"heatmap\",\"colorbar\":{\"outlinewidth\":0,\"ticks\":\"\"},\"colorscale\":[[0.0,\"#0d0887\"],[0.1111111111111111,\"#46039f\"],[0.2222222222222222,\"#7201a8\"],[0.3333333333333333,\"#9c179e\"],[0.4444444444444444,\"#bd3786\"],[0.5555555555555556,\"#d8576b\"],[0.6666666666666666,\"#ed7953\"],[0.7777777777777778,\"#fb9f3a\"],[0.8888888888888888,\"#fdca26\"],[1.0,\"#f0f921\"]]}],\"heatmapgl\":[{\"type\":\"heatmapgl\",\"colorbar\":{\"outlinewidth\":0,\"ticks\":\"\"},\"colorscale\":[[0.0,\"#0d0887\"],[0.1111111111111111,\"#46039f\"],[0.2222222222222222,\"#7201a8\"],[0.3333333333333333,\"#9c179e\"],[0.4444444444444444,\"#bd3786\"],[0.5555555555555556,\"#d8576b\"],[0.6666666666666666,\"#ed7953\"],[0.7777777777777778,\"#fb9f3a\"],[0.8888888888888888,\"#fdca26\"],[1.0,\"#f0f921\"]]}],\"contourcarpet\":[{\"type\":\"contourcarpet\",\"colorbar\":{\"outlinewidth\":0,\"ticks\":\"\"}}],\"contour\":[{\"type\":\"contour\",\"colorbar\":{\"outlinewidth\":0,\"ticks\":\"\"},\"colorscale\":[[0.0,\"#0d0887\"],[0.1111111111111111,\"#46039f\"],[0.2222222222222222,\"#7201a8\"],[0.3333333333333333,\"#9c179e\"],[0.4444444444444444,\"#bd3786\"],[0.5555555555555556,\"#d8576b\"],[0.6666666666666666,\"#ed7953\"],[0.7777777777777778,\"#fb9f3a\"],[0.8888888888888888,\"#fdca26\"],[1.0,\"#f0f921\"]]}],\"surface\":[{\"type\":\"surface\",\"colorbar\":{\"outlinewidth\":0,\"ticks\":\"\"},\"colorscale\":[[0.0,\"#0d0887\"],[0.1111111111111111,\"#46039f\"],[0.2222222222222222,\"#7201a8\"],[0.3333333333333333,\"#9c179e\"],[0.4444444444444444,\"#bd3786\"],[0.5555555555555556,\"#d8576b\"],[0.6666666666666666,\"#ed7953\"],[0.7777777777777778,\"#fb9f3a\"],[0.8888888888888888,\"#fdca26\"],[1.0,\"#f0f921\"]]}],\"mesh3d\":[{\"type\":\"mesh3d\",\"colorbar\":{\"outlinewidth\":0,\"ticks\":\"\"}}],\"scatter\":[{\"fillpattern\":{\"fillmode\":\"overlay\",\"size\":10,\"solidity\":0.2},\"type\":\"scatter\"}],\"parcoords\":[{\"type\":\"parcoords\",\"line\":{\"colorbar\":{\"outlinewidth\":0,\"ticks\":\"\"}}}],\"scatterpolargl\":[{\"type\":\"scatterpolargl\",\"marker\":{\"colorbar\":{\"outlinewidth\":0,\"ticks\":\"\"}}}],\"bar\":[{\"error_x\":{\"color\":\"#2a3f5f\"},\"error_y\":{\"color\":\"#2a3f5f\"},\"marker\":{\"line\":{\"color\":\"#E5ECF6\",\"width\":0.5},\"pattern\":{\"fillmode\":\"overlay\",\"size\":10,\"solidity\":0.2}},\"type\":\"bar\"}],\"scattergeo\":[{\"type\":\"scattergeo\",\"marker\":{\"colorbar\":{\"outlinewidth\":0,\"ticks\":\"\"}}}],\"scatterpolar\":[{\"type\":\"scatterpolar\",\"marker\":{\"colorbar\":{\"outlinewidth\":0,\"ticks\":\"\"}}}],\"histogram\":[{\"marker\":{\"pattern\":{\"fillmode\":\"overlay\",\"size\":10,\"solidity\":0.2}},\"type\":\"histogram\"}],\"scattergl\":[{\"type\":\"scattergl\",\"marker\":{\"colorbar\":{\"outlinewidth\":0,\"ticks\":\"\"}}}],\"scatter3d\":[{\"type\":\"scatter3d\",\"line\":{\"colorbar\":{\"outlinewidth\":0,\"ticks\":\"\"}},\"marker\":{\"colorbar\":{\"outlinewidth\":0,\"ticks\":\"\"}}}],\"scattermapbox\":[{\"type\":\"scattermapbox\",\"marker\":{\"colorbar\":{\"outlinewidth\":0,\"ticks\":\"\"}}}],\"scatterternary\":[{\"type\":\"scatterternary\",\"marker\":{\"colorbar\":{\"outlinewidth\":0,\"ticks\":\"\"}}}],\"scattercarpet\":[{\"type\":\"scattercarpet\",\"marker\":{\"colorbar\":{\"outlinewidth\":0,\"ticks\":\"\"}}}],\"carpet\":[{\"aaxis\":{\"endlinecolor\":\"#2a3f5f\",\"gridcolor\":\"white\",\"linecolor\":\"white\",\"minorgridcolor\":\"white\",\"startlinecolor\":\"#2a3f5f\"},\"baxis\":{\"endlinecolor\":\"#2a3f5f\",\"gridcolor\":\"white\",\"linecolor\":\"white\",\"minorgridcolor\":\"white\",\"startlinecolor\":\"#2a3f5f\"},\"type\":\"carpet\"}],\"table\":[{\"cells\":{\"fill\":{\"color\":\"#EBF0F8\"},\"line\":{\"color\":\"white\"}},\"header\":{\"fill\":{\"color\":\"#C8D4E3\"},\"line\":{\"color\":\"white\"}},\"type\":\"table\"}],\"barpolar\":[{\"marker\":{\"line\":{\"color\":\"#E5ECF6\",\"width\":0.5},\"pattern\":{\"fillmode\":\"overlay\",\"size\":10,\"solidity\":0.2}},\"type\":\"barpolar\"}],\"pie\":[{\"automargin\":true,\"type\":\"pie\"}]},\"layout\":{\"autotypenumbers\":\"strict\",\"colorway\":[\"#636efa\",\"#EF553B\",\"#00cc96\",\"#ab63fa\",\"#FFA15A\",\"#19d3f3\",\"#FF6692\",\"#B6E880\",\"#FF97FF\",\"#FECB52\"],\"font\":{\"color\":\"#2a3f5f\"},\"hovermode\":\"closest\",\"hoverlabel\":{\"align\":\"left\"},\"paper_bgcolor\":\"white\",\"plot_bgcolor\":\"#E5ECF6\",\"polar\":{\"bgcolor\":\"#E5ECF6\",\"angularaxis\":{\"gridcolor\":\"white\",\"linecolor\":\"white\",\"ticks\":\"\"},\"radialaxis\":{\"gridcolor\":\"white\",\"linecolor\":\"white\",\"ticks\":\"\"}},\"ternary\":{\"bgcolor\":\"#E5ECF6\",\"aaxis\":{\"gridcolor\":\"white\",\"linecolor\":\"white\",\"ticks\":\"\"},\"baxis\":{\"gridcolor\":\"white\",\"linecolor\":\"white\",\"ticks\":\"\"},\"caxis\":{\"gridcolor\":\"white\",\"linecolor\":\"white\",\"ticks\":\"\"}},\"coloraxis\":{\"colorbar\":{\"outlinewidth\":0,\"ticks\":\"\"}},\"colorscale\":{\"sequential\":[[0.0,\"#0d0887\"],[0.1111111111111111,\"#46039f\"],[0.2222222222222222,\"#7201a8\"],[0.3333333333333333,\"#9c179e\"],[0.4444444444444444,\"#bd3786\"],[0.5555555555555556,\"#d8576b\"],[0.6666666666666666,\"#ed7953\"],[0.7777777777777778,\"#fb9f3a\"],[0.8888888888888888,\"#fdca26\"],[1.0,\"#f0f921\"]],\"sequentialminus\":[[0.0,\"#0d0887\"],[0.1111111111111111,\"#46039f\"],[0.2222222222222222,\"#7201a8\"],[0.3333333333333333,\"#9c179e\"],[0.4444444444444444,\"#bd3786\"],[0.5555555555555556,\"#d8576b\"],[0.6666666666666666,\"#ed7953\"],[0.7777777777777778,\"#fb9f3a\"],[0.8888888888888888,\"#fdca26\"],[1.0,\"#f0f921\"]],\"diverging\":[[0,\"#8e0152\"],[0.1,\"#c51b7d\"],[0.2,\"#de77ae\"],[0.3,\"#f1b6da\"],[0.4,\"#fde0ef\"],[0.5,\"#f7f7f7\"],[0.6,\"#e6f5d0\"],[0.7,\"#b8e186\"],[0.8,\"#7fbc41\"],[0.9,\"#4d9221\"],[1,\"#276419\"]]},\"xaxis\":{\"gridcolor\":\"white\",\"linecolor\":\"white\",\"ticks\":\"\",\"title\":{\"standoff\":15},\"zerolinecolor\":\"white\",\"automargin\":true,\"zerolinewidth\":2},\"yaxis\":{\"gridcolor\":\"white\",\"linecolor\":\"white\",\"ticks\":\"\",\"title\":{\"standoff\":15},\"zerolinecolor\":\"white\",\"automargin\":true,\"zerolinewidth\":2},\"scene\":{\"xaxis\":{\"backgroundcolor\":\"#E5ECF6\",\"gridcolor\":\"white\",\"linecolor\":\"white\",\"showbackground\":true,\"ticks\":\"\",\"zerolinecolor\":\"white\",\"gridwidth\":2},\"yaxis\":{\"backgroundcolor\":\"#E5ECF6\",\"gridcolor\":\"white\",\"linecolor\":\"white\",\"showbackground\":true,\"ticks\":\"\",\"zerolinecolor\":\"white\",\"gridwidth\":2},\"zaxis\":{\"backgroundcolor\":\"#E5ECF6\",\"gridcolor\":\"white\",\"linecolor\":\"white\",\"showbackground\":true,\"ticks\":\"\",\"zerolinecolor\":\"white\",\"gridwidth\":2}},\"shapedefaults\":{\"line\":{\"color\":\"#2a3f5f\"}},\"annotationdefaults\":{\"arrowcolor\":\"#2a3f5f\",\"arrowhead\":0,\"arrowwidth\":1},\"geo\":{\"bgcolor\":\"white\",\"landcolor\":\"#E5ECF6\",\"subunitcolor\":\"white\",\"showland\":true,\"showlakes\":true,\"lakecolor\":\"white\"},\"title\":{\"x\":0.05},\"mapbox\":{\"style\":\"light\"}}},\"xaxis\":{\"anchor\":\"y\",\"domain\":[0.0,1.0],\"title\":{\"text\":\"weekday\"}},\"yaxis\":{\"anchor\":\"x\",\"domain\":[0.0,1.0],\"title\":{\"text\":\"count\"}},\"legend\":{\"tracegroupgap\":0},\"title\":{\"text\":\"Histogram of values for weekday\"},\"barmode\":\"relative\"},                        {\"responsive\": true}                    ).then(function(){\n                            \nvar gd = document.getElementById('44fe47a1-2871-4aae-97dc-0a663747fe53');\nvar x = new MutationObserver(function (mutations, observer) {{\n        var display = window.getComputedStyle(gd).display;\n        if (!display || display === 'none') {{\n            console.log([gd, 'removed!']);\n            Plotly.purge(gd);\n            observer.disconnect();\n        }}\n}});\n\n// Listen for the removal of the full notebook cells\nvar notebookContainer = gd.closest('#notebook-container');\nif (notebookContainer) {{\n    x.observe(notebookContainer, {childList: true});\n}}\n\n// Listen for the clearing of the current output cell\nvar outputEl = gd.closest('.output');\nif (outputEl) {{\n    x.observe(outputEl, {childList: true});\n}}\n\n                        })                };                            </script>        </div>\n</body>\n</html>"
     },
     "metadata": {},
     "output_type": "display_data"
    },
    {
     "data": {
      "text/html": "<html>\n<head><meta charset=\"utf-8\" /></head>\n<body>\n    <div>            <script src=\"https://cdnjs.cloudflare.com/ajax/libs/mathjax/2.7.5/MathJax.js?config=TeX-AMS-MML_SVG\"></script><script type=\"text/javascript\">if (window.MathJax && window.MathJax.Hub && window.MathJax.Hub.Config) {window.MathJax.Hub.Config({SVG: {font: \"STIX-Web\"}});}</script>                <script type=\"text/javascript\">window.PlotlyConfig = {MathJaxConfig: 'local'};</script>\n        <script src=\"https://cdn.plot.ly/plotly-2.14.0.min.js\"></script>                <div id=\"07ddf230-db02-4037-9fd5-d48cf6d15b4d\" class=\"plotly-graph-div\" style=\"height:525px; width:100%;\"></div>            <script type=\"text/javascript\">                                    window.PLOTLYENV=window.PLOTLYENV || {};                                    if (document.getElementById(\"07ddf230-db02-4037-9fd5-d48cf6d15b4d\")) {                    Plotly.newPlot(                        \"07ddf230-db02-4037-9fd5-d48cf6d15b4d\",                        [{\"alignmentgroup\":\"True\",\"hovertemplate\":\"weekday=%{x}<br>cnt=%{y}<extra></extra>\",\"legendgroup\":\"\",\"marker\":{\"color\":\"#636efa\"},\"name\":\"\",\"notched\":false,\"offsetgroup\":\"\",\"orientation\":\"v\",\"showlegend\":false,\"x\":[\"sunday\",\"monday\",\"tuesday\",\"wednesday\",\"thursday\",\"friday\",\"saturday\",\"sunday\",\"monday\",\"tuesday\",\"wednesday\",\"thursday\",\"friday\",\"saturday\",\"sunday\",\"monday\",\"tuesday\",\"wednesday\",\"thursday\",\"friday\",\"saturday\",\"sunday\",\"monday\",\"tuesday\",\"wednesday\",\"thursday\",\"friday\",\"saturday\",\"sunday\",\"monday\",\"tuesday\",\"wednesday\",\"thursday\",\"friday\",\"saturday\",\"sunday\",\"monday\",\"tuesday\",\"wednesday\",\"thursday\",\"friday\",\"saturday\",\"sunday\",\"monday\",\"tuesday\",\"wednesday\",\"thursday\",\"friday\",\"saturday\",\"sunday\",\"monday\",\"tuesday\",\"wednesday\",\"thursday\",\"friday\",\"saturday\",\"sunday\",\"monday\",\"tuesday\",\"wednesday\",\"thursday\",\"friday\",\"saturday\",\"sunday\",\"monday\",\"tuesday\",\"wednesday\",\"thursday\",\"friday\",\"saturday\",\"sunday\",\"monday\",\"tuesday\",\"wednesday\",\"thursday\",\"friday\",\"saturday\",\"sunday\",\"monday\",\"tuesday\",\"wednesday\",\"thursday\",\"friday\",\"saturday\",\"sunday\",\"monday\",\"tuesday\",\"wednesday\",\"thursday\",\"friday\",\"saturday\",\"sunday\",\"monday\",\"tuesday\",\"wednesday\",\"thursday\",\"friday\",\"saturday\",\"sunday\",\"monday\",\"tuesday\",\"wednesday\",\"thursday\",\"friday\",\"saturday\",\"sunday\",\"monday\",\"tuesday\",\"wednesday\",\"thursday\",\"friday\",\"saturday\",\"sunday\",\"monday\",\"tuesday\",\"wednesday\",\"thursday\",\"friday\",\"saturday\",\"sunday\",\"monday\",\"tuesday\",\"wednesday\",\"thursday\",\"friday\",\"saturday\",\"sunday\",\"monday\",\"tuesday\",\"wednesday\",\"thursday\",\"friday\",\"saturday\",\"sunday\",\"monday\",\"tuesday\",\"wednesday\",\"thursday\",\"friday\",\"saturday\",\"sunday\",\"monday\",\"tuesday\",\"wednesday\",\"thursday\",\"friday\",\"saturday\",\"sunday\",\"monday\",\"tuesday\",\"wednesday\",\"thursday\",\"friday\",\"saturday\",\"sunday\",\"monday\",\"tuesday\",\"wednesday\",\"thursday\",\"friday\",\"saturday\",\"sunday\",\"monday\",\"tuesday\",\"wednesday\",\"thursday\",\"friday\",\"saturday\",\"sunday\",\"monday\",\"tuesday\",\"wednesday\",\"thursday\",\"friday\",\"saturday\",\"sunday\",\"monday\",\"tuesday\",\"wednesday\",\"thursday\",\"friday\",\"saturday\",\"sunday\",\"monday\",\"tuesday\",\"wednesday\",\"thursday\",\"friday\",\"saturday\",\"sunday\",\"monday\",\"tuesday\",\"wednesday\",\"thursday\",\"friday\",\"saturday\",\"sunday\",\"monday\",\"tuesday\",\"wednesday\",\"thursday\",\"friday\",\"saturday\",\"sunday\",\"monday\",\"tuesday\",\"wednesday\",\"thursday\",\"friday\",\"saturday\",\"sunday\",\"monday\",\"tuesday\",\"wednesday\",\"thursday\",\"friday\",\"saturday\",\"sunday\",\"monday\",\"tuesday\",\"wednesday\",\"thursday\",\"friday\",\"saturday\",\"sunday\",\"monday\",\"tuesday\",\"wednesday\",\"thursday\",\"friday\",\"saturday\",\"sunday\",\"monday\",\"tuesday\",\"wednesday\",\"thursday\",\"friday\",\"saturday\",\"sunday\",\"monday\",\"tuesday\",\"wednesday\",\"thursday\",\"friday\",\"saturday\",\"sunday\",\"monday\",\"tuesday\",\"wednesday\",\"thursday\",\"friday\",\"saturday\",\"sunday\",\"monday\",\"tuesday\",\"wednesday\",\"thursday\",\"friday\",\"saturday\",\"sunday\",\"monday\",\"tuesday\",\"wednesday\",\"thursday\",\"friday\",\"saturday\",\"sunday\",\"monday\",\"tuesday\",\"wednesday\",\"thursday\",\"friday\",\"saturday\",\"sunday\",\"monday\",\"tuesday\",\"wednesday\",\"thursday\",\"friday\",\"saturday\",\"sunday\",\"monday\",\"tuesday\",\"wednesday\",\"thursday\",\"friday\",\"saturday\",\"sunday\",\"monday\",\"tuesday\",\"wednesday\",\"thursday\",\"friday\",\"saturday\",\"sunday\",\"monday\",\"tuesday\",\"wednesday\",\"thursday\",\"friday\",\"saturday\",\"sunday\",\"monday\",\"tuesday\",\"wednesday\",\"thursday\",\"friday\",\"saturday\",\"sunday\",\"monday\",\"tuesday\",\"wednesday\",\"thursday\",\"friday\",\"saturday\",\"sunday\",\"monday\",\"tuesday\",\"wednesday\",\"thursday\",\"friday\",\"saturday\",\"sunday\",\"monday\",\"tuesday\",\"wednesday\",\"thursday\",\"friday\",\"saturday\",\"sunday\",\"monday\",\"tuesday\",\"wednesday\",\"thursday\",\"friday\",\"saturday\",\"sunday\",\"monday\",\"tuesday\",\"wednesday\",\"thursday\",\"friday\",\"saturday\",\"sunday\",\"monday\",\"tuesday\",\"wednesday\",\"thursday\",\"friday\",\"saturday\",\"sunday\",\"monday\",\"tuesday\",\"wednesday\",\"thursday\",\"friday\",\"saturday\",\"sunday\",\"monday\",\"tuesday\",\"wednesday\",\"thursday\",\"friday\",\"saturday\",\"sunday\",\"monday\",\"tuesday\",\"wednesday\",\"thursday\",\"friday\",\"saturday\",\"sunday\",\"monday\",\"tuesday\",\"wednesday\",\"thursday\",\"friday\",\"saturday\",\"sunday\",\"monday\",\"tuesday\",\"wednesday\",\"thursday\",\"friday\",\"saturday\",\"sunday\",\"monday\",\"tuesday\",\"wednesday\",\"thursday\",\"friday\",\"saturday\",\"sunday\",\"monday\",\"tuesday\",\"wednesday\",\"thursday\",\"friday\",\"saturday\",\"sunday\",\"monday\",\"tuesday\",\"wednesday\",\"thursday\",\"friday\",\"saturday\",\"sunday\",\"monday\",\"tuesday\",\"wednesday\",\"thursday\",\"friday\",\"saturday\",\"sunday\",\"monday\",\"tuesday\",\"wednesday\",\"thursday\",\"friday\",\"saturday\",\"sunday\",\"monday\",\"tuesday\",\"wednesday\",\"friday\",\"saturday\",\"sunday\",\"monday\",\"tuesday\",\"wednesday\",\"thursday\",\"friday\",\"saturday\",\"sunday\",\"monday\",\"tuesday\",\"wednesday\",\"thursday\",\"friday\",\"saturday\",\"sunday\",\"monday\",\"tuesday\",\"wednesday\",\"thursday\",\"friday\",\"saturday\",\"sunday\",\"monday\",\"tuesday\",\"wednesday\",\"thursday\",\"friday\",\"saturday\",\"sunday\",\"monday\",\"tuesday\",\"wednesday\",\"thursday\",\"friday\",\"saturday\",\"sunday\",\"monday\",\"tuesday\",\"wednesday\",\"thursday\",\"friday\",\"saturday\",\"sunday\",\"monday\",\"tuesday\",\"wednesday\",\"thursday\",\"friday\",\"saturday\",\"sunday\",\"monday\",\"tuesday\",\"wednesday\",\"thursday\",\"friday\",\"saturday\",\"sunday\",\"monday\",\"tuesday\",\"wednesday\",\"thursday\",\"friday\",\"saturday\",\"sunday\",\"monday\",\"tuesday\",\"wednesday\",\"thursday\",\"friday\",\"saturday\",\"sunday\",\"monday\",\"tuesday\",\"wednesday\",\"thursday\",\"friday\",\"saturday\",\"sunday\",\"monday\",\"tuesday\",\"wednesday\",\"thursday\",\"friday\",\"saturday\",\"sunday\",\"monday\",\"tuesday\",\"wednesday\",\"thursday\",\"friday\",\"saturday\",\"sunday\",\"monday\",\"tuesday\",\"wednesday\",\"thursday\",\"friday\",\"saturday\",\"sunday\",\"monday\",\"tuesday\",\"wednesday\",\"thursday\",\"friday\",\"saturday\",\"sunday\",\"monday\",\"tuesday\",\"wednesday\",\"thursday\",\"friday\",\"saturday\",\"sunday\",\"monday\",\"tuesday\",\"wednesday\",\"thursday\",\"friday\",\"saturday\",\"sunday\",\"monday\",\"tuesday\",\"wednesday\",\"thursday\",\"friday\",\"saturday\",\"sunday\",\"monday\",\"tuesday\",\"wednesday\",\"thursday\",\"friday\",\"saturday\",\"sunday\",\"monday\",\"tuesday\",\"wednesday\",\"thursday\",\"friday\",\"saturday\",\"sunday\",\"monday\",\"tuesday\",\"wednesday\",\"thursday\",\"friday\",\"saturday\",\"sunday\",\"monday\",\"tuesday\",\"wednesday\",\"thursday\",\"friday\",\"saturday\",\"sunday\",\"monday\",\"tuesday\",\"wednesday\",\"thursday\",\"friday\",\"saturday\",\"sunday\",\"monday\",\"tuesday\",\"wednesday\",\"thursday\",\"friday\",\"saturday\",\"sunday\",\"monday\",\"tuesday\",\"wednesday\",\"thursday\",\"friday\",\"saturday\",\"sunday\",\"monday\",\"tuesday\",\"wednesday\",\"thursday\",\"friday\",\"saturday\",\"sunday\",\"monday\",\"tuesday\",\"wednesday\",\"thursday\",\"friday\",\"saturday\",\"sunday\",\"monday\",\"tuesday\",\"wednesday\",\"thursday\",\"friday\",\"saturday\",\"sunday\",\"monday\",\"tuesday\",\"wednesday\",\"thursday\",\"friday\",\"saturday\",\"sunday\",\"monday\",\"tuesday\",\"wednesday\",\"thursday\",\"friday\",\"saturday\",\"sunday\",\"monday\",\"tuesday\",\"wednesday\",\"thursday\",\"friday\",\"saturday\",\"sunday\",\"monday\",\"tuesday\",\"wednesday\",\"thursday\",\"friday\",\"saturday\",\"sunday\",\"monday\",\"tuesday\",\"wednesday\",\"thursday\",\"friday\",\"saturday\",\"sunday\",\"monday\",\"tuesday\",\"wednesday\",\"thursday\",\"friday\",\"saturday\",\"sunday\",\"monday\",\"tuesday\",\"wednesday\",\"thursday\",\"friday\",\"saturday\",\"sunday\",\"monday\",\"tuesday\",\"wednesday\",\"thursday\",\"friday\",\"saturday\",\"sunday\",\"monday\",\"tuesday\",\"wednesday\",\"thursday\",\"friday\",\"saturday\",\"sunday\",\"monday\",\"tuesday\",\"wednesday\",\"thursday\",\"friday\",\"saturday\",\"sunday\",\"monday\",\"tuesday\",\"wednesday\",\"thursday\",\"friday\",\"saturday\",\"sunday\",\"monday\",\"tuesday\",\"wednesday\",\"thursday\",\"friday\",\"saturday\",\"sunday\",\"monday\",\"tuesday\",\"wednesday\",\"thursday\",\"friday\",\"saturday\",\"sunday\",\"monday\",\"tuesday\",\"wednesday\",\"thursday\",\"friday\",\"saturday\",\"sunday\",\"monday\",\"tuesday\",\"wednesday\",\"thursday\",\"friday\",\"saturday\",\"sunday\",\"monday\",\"tuesday\"],\"x0\":\" \",\"xaxis\":\"x\",\"y\":[985,801,1349,1562,1600,1606,1510,959,822,1321,1263,1162,1406,1421,1248,1204,1000,683,1650,1927,1543,981,986,1416,1985,506,431,1167,1098,1096,1501,1360,1526,1550,1708,1005,1623,1712,1530,1605,1538,1746,1472,1589,1913,1815,2115,2475,2927,1635,1812,1107,1450,1917,1807,1461,1969,2402,1446,1851,2134,1685,1944,2077,605,1872,2133,1891,623,1977,2132,2417,2046,2056,2192,2744,3239,3117,2471,2077,2703,2121,1865,2210,2496,1693,2028,2425,1536,1685,2227,2252,3249,3115,1795,2808,3141,1471,2455,2895,3348,2034,2162,3267,3126,795,3744,3429,3204,3944,4189,1683,4036,4191,4073,4400,3872,4058,4595,5312,3351,4401,4451,2633,4433,4608,4714,4333,4362,4803,4182,4864,4105,3409,4553,3958,4123,3855,4575,4917,5805,4660,4274,4492,4978,4677,4679,4758,4788,4098,3982,3974,4968,5312,5342,4906,4548,4833,4401,3915,4586,4966,4460,5020,4891,5180,3767,4844,5119,4744,4010,4835,4507,4790,4991,5202,5305,4708,4648,5225,5515,5362,5119,4649,6043,4665,4629,4592,4040,5336,4881,4086,4258,4342,5084,5538,5923,5302,4458,4541,4332,3784,3387,3285,3606,3840,4590,4656,4390,3846,4475,4302,4266,4845,3574,4576,4866,4294,3785,4326,4602,4780,4792,4905,4150,3820,4338,4725,4694,3805,4153,5191,3873,4758,5895,5130,3542,4661,1115,4334,4634,5204,5058,5115,4727,4484,4940,3351,2710,1996,1842,3544,5345,5046,4713,4763,4785,3659,4760,4511,4274,4539,3641,4352,4795,2395,5423,5010,4630,4120,3907,4839,5202,2429,2918,3570,4456,4826,4765,4985,5409,5511,5117,4563,2416,2913,3644,5217,5041,4570,4748,2424,4195,4304,4308,4381,4187,4687,3894,2659,3747,627,3331,3669,4068,4186,3974,4046,3926,3649,4035,4205,4109,2933,3368,4067,3717,4486,4195,1817,3053,3392,3663,3520,2765,1607,2566,1495,2792,3068,3071,3867,2914,3613,3727,3940,3614,3485,3811,2594,705,3322,3620,3190,2743,3310,3523,3740,3709,3577,2739,2431,3403,3750,2660,3068,2209,1011,754,1317,1162,2302,2423,2999,2485,2294,1951,2236,2368,3272,4098,4521,3425,2376,3598,2177,4097,3214,2493,2311,2298,2935,3376,3292,3163,1301,1977,2432,4339,4270,4075,3456,4023,3243,3624,4509,4579,3761,4151,2832,2947,3784,4375,2802,3830,3831,2169,1529,3422,3922,4169,3005,4154,4318,2689,3129,3777,4773,5062,3487,2732,3389,4322,4363,4990,3194,4066,3423,3333,3956,4916,5382,4569,4118,4911,5298,5847,6312,6192,4378,7836,5892,6153,6093,6230,6871,8362,3372,4996,5558,5102,5698,6133,5459,6235,6041,5936,6772,6436,6457,6460,6857,5169,5585,5918,4862,5409,6398,7460,7132,6370,6691,4367,6565,7290,6624,1027,3214,5633,6196,5026,6233,4220,6304,5572,5740,6169,6421,6296,6883,6359,6273,5728,4717,6572,7030,7429,6118,2843,5115,7424,7384,7639,8294,7129,4359,6073,5260,6770,6734,6536,6591,6043,5743,6855,7338,4127,8120,7641,6998,7001,7055,7494,7736,7498,6598,6664,4972,7421,7363,7665,7702,6978,5099,6825,6211,5905,5823,7458,6891,6779,7442,7335,6879,5463,5687,5531,6227,6660,7403,6241,6207,4840,4672,6569,6290,7264,7446,7499,6969,6031,6830,6786,5713,6591,5870,4459,7410,6966,7592,8173,6861,6904,6685,6597,7105,7216,7580,7261,7175,6824,5464,7013,7273,7534,7286,5786,6299,6544,6883,6784,7347,7605,7148,7865,4549,6530,7006,7375,7765,7582,6053,5255,6917,7040,7697,7713,7350,6140,5810,6034,6864,7112,6203,7504,5976,8227,7525,7767,7870,7804,8009,8714,7333,6869,4073,7591,7720,8167,8395,7907,7436,7538,7733,7393,7415,8555,6889,6778,4639,7572,7328,8156,7965,3510,5478,6392,7691,7570,7282,7109,6639,5875,7534,7461,7509,5424,8090,6824,7058,7466,7693,7359,7444,7852,4459,22,1096,5566,5986,5847,5138,5107,5259,5686,5035,5315,5992,6536,6852,6269,4094,5495,5445,5698,5629,4669,5499,5634,5146,2425,3910,2277,2424,5087,3959,5260,5323,5668,5191,4649,6234,6606,5729,5375,5008,5582,3228,5170,5501,5319,5532,5611,5047,3786,4585,5557,5267,4128,3623,1749,1787,920,1013,441,2114,3095,1341,1796,2729],\"y0\":\" \",\"yaxis\":\"y\",\"type\":\"box\"}],                        {\"template\":{\"data\":{\"histogram2dcontour\":[{\"type\":\"histogram2dcontour\",\"colorbar\":{\"outlinewidth\":0,\"ticks\":\"\"},\"colorscale\":[[0.0,\"#0d0887\"],[0.1111111111111111,\"#46039f\"],[0.2222222222222222,\"#7201a8\"],[0.3333333333333333,\"#9c179e\"],[0.4444444444444444,\"#bd3786\"],[0.5555555555555556,\"#d8576b\"],[0.6666666666666666,\"#ed7953\"],[0.7777777777777778,\"#fb9f3a\"],[0.8888888888888888,\"#fdca26\"],[1.0,\"#f0f921\"]]}],\"choropleth\":[{\"type\":\"choropleth\",\"colorbar\":{\"outlinewidth\":0,\"ticks\":\"\"}}],\"histogram2d\":[{\"type\":\"histogram2d\",\"colorbar\":{\"outlinewidth\":0,\"ticks\":\"\"},\"colorscale\":[[0.0,\"#0d0887\"],[0.1111111111111111,\"#46039f\"],[0.2222222222222222,\"#7201a8\"],[0.3333333333333333,\"#9c179e\"],[0.4444444444444444,\"#bd3786\"],[0.5555555555555556,\"#d8576b\"],[0.6666666666666666,\"#ed7953\"],[0.7777777777777778,\"#fb9f3a\"],[0.8888888888888888,\"#fdca26\"],[1.0,\"#f0f921\"]]}],\"heatmap\":[{\"type\":\"heatmap\",\"colorbar\":{\"outlinewidth\":0,\"ticks\":\"\"},\"colorscale\":[[0.0,\"#0d0887\"],[0.1111111111111111,\"#46039f\"],[0.2222222222222222,\"#7201a8\"],[0.3333333333333333,\"#9c179e\"],[0.4444444444444444,\"#bd3786\"],[0.5555555555555556,\"#d8576b\"],[0.6666666666666666,\"#ed7953\"],[0.7777777777777778,\"#fb9f3a\"],[0.8888888888888888,\"#fdca26\"],[1.0,\"#f0f921\"]]}],\"heatmapgl\":[{\"type\":\"heatmapgl\",\"colorbar\":{\"outlinewidth\":0,\"ticks\":\"\"},\"colorscale\":[[0.0,\"#0d0887\"],[0.1111111111111111,\"#46039f\"],[0.2222222222222222,\"#7201a8\"],[0.3333333333333333,\"#9c179e\"],[0.4444444444444444,\"#bd3786\"],[0.5555555555555556,\"#d8576b\"],[0.6666666666666666,\"#ed7953\"],[0.7777777777777778,\"#fb9f3a\"],[0.8888888888888888,\"#fdca26\"],[1.0,\"#f0f921\"]]}],\"contourcarpet\":[{\"type\":\"contourcarpet\",\"colorbar\":{\"outlinewidth\":0,\"ticks\":\"\"}}],\"contour\":[{\"type\":\"contour\",\"colorbar\":{\"outlinewidth\":0,\"ticks\":\"\"},\"colorscale\":[[0.0,\"#0d0887\"],[0.1111111111111111,\"#46039f\"],[0.2222222222222222,\"#7201a8\"],[0.3333333333333333,\"#9c179e\"],[0.4444444444444444,\"#bd3786\"],[0.5555555555555556,\"#d8576b\"],[0.6666666666666666,\"#ed7953\"],[0.7777777777777778,\"#fb9f3a\"],[0.8888888888888888,\"#fdca26\"],[1.0,\"#f0f921\"]]}],\"surface\":[{\"type\":\"surface\",\"colorbar\":{\"outlinewidth\":0,\"ticks\":\"\"},\"colorscale\":[[0.0,\"#0d0887\"],[0.1111111111111111,\"#46039f\"],[0.2222222222222222,\"#7201a8\"],[0.3333333333333333,\"#9c179e\"],[0.4444444444444444,\"#bd3786\"],[0.5555555555555556,\"#d8576b\"],[0.6666666666666666,\"#ed7953\"],[0.7777777777777778,\"#fb9f3a\"],[0.8888888888888888,\"#fdca26\"],[1.0,\"#f0f921\"]]}],\"mesh3d\":[{\"type\":\"mesh3d\",\"colorbar\":{\"outlinewidth\":0,\"ticks\":\"\"}}],\"scatter\":[{\"fillpattern\":{\"fillmode\":\"overlay\",\"size\":10,\"solidity\":0.2},\"type\":\"scatter\"}],\"parcoords\":[{\"type\":\"parcoords\",\"line\":{\"colorbar\":{\"outlinewidth\":0,\"ticks\":\"\"}}}],\"scatterpolargl\":[{\"type\":\"scatterpolargl\",\"marker\":{\"colorbar\":{\"outlinewidth\":0,\"ticks\":\"\"}}}],\"bar\":[{\"error_x\":{\"color\":\"#2a3f5f\"},\"error_y\":{\"color\":\"#2a3f5f\"},\"marker\":{\"line\":{\"color\":\"#E5ECF6\",\"width\":0.5},\"pattern\":{\"fillmode\":\"overlay\",\"size\":10,\"solidity\":0.2}},\"type\":\"bar\"}],\"scattergeo\":[{\"type\":\"scattergeo\",\"marker\":{\"colorbar\":{\"outlinewidth\":0,\"ticks\":\"\"}}}],\"scatterpolar\":[{\"type\":\"scatterpolar\",\"marker\":{\"colorbar\":{\"outlinewidth\":0,\"ticks\":\"\"}}}],\"histogram\":[{\"marker\":{\"pattern\":{\"fillmode\":\"overlay\",\"size\":10,\"solidity\":0.2}},\"type\":\"histogram\"}],\"scattergl\":[{\"type\":\"scattergl\",\"marker\":{\"colorbar\":{\"outlinewidth\":0,\"ticks\":\"\"}}}],\"scatter3d\":[{\"type\":\"scatter3d\",\"line\":{\"colorbar\":{\"outlinewidth\":0,\"ticks\":\"\"}},\"marker\":{\"colorbar\":{\"outlinewidth\":0,\"ticks\":\"\"}}}],\"scattermapbox\":[{\"type\":\"scattermapbox\",\"marker\":{\"colorbar\":{\"outlinewidth\":0,\"ticks\":\"\"}}}],\"scatterternary\":[{\"type\":\"scatterternary\",\"marker\":{\"colorbar\":{\"outlinewidth\":0,\"ticks\":\"\"}}}],\"scattercarpet\":[{\"type\":\"scattercarpet\",\"marker\":{\"colorbar\":{\"outlinewidth\":0,\"ticks\":\"\"}}}],\"carpet\":[{\"aaxis\":{\"endlinecolor\":\"#2a3f5f\",\"gridcolor\":\"white\",\"linecolor\":\"white\",\"minorgridcolor\":\"white\",\"startlinecolor\":\"#2a3f5f\"},\"baxis\":{\"endlinecolor\":\"#2a3f5f\",\"gridcolor\":\"white\",\"linecolor\":\"white\",\"minorgridcolor\":\"white\",\"startlinecolor\":\"#2a3f5f\"},\"type\":\"carpet\"}],\"table\":[{\"cells\":{\"fill\":{\"color\":\"#EBF0F8\"},\"line\":{\"color\":\"white\"}},\"header\":{\"fill\":{\"color\":\"#C8D4E3\"},\"line\":{\"color\":\"white\"}},\"type\":\"table\"}],\"barpolar\":[{\"marker\":{\"line\":{\"color\":\"#E5ECF6\",\"width\":0.5},\"pattern\":{\"fillmode\":\"overlay\",\"size\":10,\"solidity\":0.2}},\"type\":\"barpolar\"}],\"pie\":[{\"automargin\":true,\"type\":\"pie\"}]},\"layout\":{\"autotypenumbers\":\"strict\",\"colorway\":[\"#636efa\",\"#EF553B\",\"#00cc96\",\"#ab63fa\",\"#FFA15A\",\"#19d3f3\",\"#FF6692\",\"#B6E880\",\"#FF97FF\",\"#FECB52\"],\"font\":{\"color\":\"#2a3f5f\"},\"hovermode\":\"closest\",\"hoverlabel\":{\"align\":\"left\"},\"paper_bgcolor\":\"white\",\"plot_bgcolor\":\"#E5ECF6\",\"polar\":{\"bgcolor\":\"#E5ECF6\",\"angularaxis\":{\"gridcolor\":\"white\",\"linecolor\":\"white\",\"ticks\":\"\"},\"radialaxis\":{\"gridcolor\":\"white\",\"linecolor\":\"white\",\"ticks\":\"\"}},\"ternary\":{\"bgcolor\":\"#E5ECF6\",\"aaxis\":{\"gridcolor\":\"white\",\"linecolor\":\"white\",\"ticks\":\"\"},\"baxis\":{\"gridcolor\":\"white\",\"linecolor\":\"white\",\"ticks\":\"\"},\"caxis\":{\"gridcolor\":\"white\",\"linecolor\":\"white\",\"ticks\":\"\"}},\"coloraxis\":{\"colorbar\":{\"outlinewidth\":0,\"ticks\":\"\"}},\"colorscale\":{\"sequential\":[[0.0,\"#0d0887\"],[0.1111111111111111,\"#46039f\"],[0.2222222222222222,\"#7201a8\"],[0.3333333333333333,\"#9c179e\"],[0.4444444444444444,\"#bd3786\"],[0.5555555555555556,\"#d8576b\"],[0.6666666666666666,\"#ed7953\"],[0.7777777777777778,\"#fb9f3a\"],[0.8888888888888888,\"#fdca26\"],[1.0,\"#f0f921\"]],\"sequentialminus\":[[0.0,\"#0d0887\"],[0.1111111111111111,\"#46039f\"],[0.2222222222222222,\"#7201a8\"],[0.3333333333333333,\"#9c179e\"],[0.4444444444444444,\"#bd3786\"],[0.5555555555555556,\"#d8576b\"],[0.6666666666666666,\"#ed7953\"],[0.7777777777777778,\"#fb9f3a\"],[0.8888888888888888,\"#fdca26\"],[1.0,\"#f0f921\"]],\"diverging\":[[0,\"#8e0152\"],[0.1,\"#c51b7d\"],[0.2,\"#de77ae\"],[0.3,\"#f1b6da\"],[0.4,\"#fde0ef\"],[0.5,\"#f7f7f7\"],[0.6,\"#e6f5d0\"],[0.7,\"#b8e186\"],[0.8,\"#7fbc41\"],[0.9,\"#4d9221\"],[1,\"#276419\"]]},\"xaxis\":{\"gridcolor\":\"white\",\"linecolor\":\"white\",\"ticks\":\"\",\"title\":{\"standoff\":15},\"zerolinecolor\":\"white\",\"automargin\":true,\"zerolinewidth\":2},\"yaxis\":{\"gridcolor\":\"white\",\"linecolor\":\"white\",\"ticks\":\"\",\"title\":{\"standoff\":15},\"zerolinecolor\":\"white\",\"automargin\":true,\"zerolinewidth\":2},\"scene\":{\"xaxis\":{\"backgroundcolor\":\"#E5ECF6\",\"gridcolor\":\"white\",\"linecolor\":\"white\",\"showbackground\":true,\"ticks\":\"\",\"zerolinecolor\":\"white\",\"gridwidth\":2},\"yaxis\":{\"backgroundcolor\":\"#E5ECF6\",\"gridcolor\":\"white\",\"linecolor\":\"white\",\"showbackground\":true,\"ticks\":\"\",\"zerolinecolor\":\"white\",\"gridwidth\":2},\"zaxis\":{\"backgroundcolor\":\"#E5ECF6\",\"gridcolor\":\"white\",\"linecolor\":\"white\",\"showbackground\":true,\"ticks\":\"\",\"zerolinecolor\":\"white\",\"gridwidth\":2}},\"shapedefaults\":{\"line\":{\"color\":\"#2a3f5f\"}},\"annotationdefaults\":{\"arrowcolor\":\"#2a3f5f\",\"arrowhead\":0,\"arrowwidth\":1},\"geo\":{\"bgcolor\":\"white\",\"landcolor\":\"#E5ECF6\",\"subunitcolor\":\"white\",\"showland\":true,\"showlakes\":true,\"lakecolor\":\"white\"},\"title\":{\"x\":0.05},\"mapbox\":{\"style\":\"light\"}}},\"xaxis\":{\"anchor\":\"y\",\"domain\":[0.0,1.0],\"title\":{\"text\":\"weekday\"}},\"yaxis\":{\"anchor\":\"x\",\"domain\":[0.0,1.0],\"title\":{\"text\":\"cnt\"}},\"legend\":{\"tracegroupgap\":0},\"title\":{\"text\":\"Boxplot of values for weekday against our target variable cnt\"},\"boxmode\":\"group\"},                        {\"responsive\": true}                    ).then(function(){\n                            \nvar gd = document.getElementById('07ddf230-db02-4037-9fd5-d48cf6d15b4d');\nvar x = new MutationObserver(function (mutations, observer) {{\n        var display = window.getComputedStyle(gd).display;\n        if (!display || display === 'none') {{\n            console.log([gd, 'removed!']);\n            Plotly.purge(gd);\n            observer.disconnect();\n        }}\n}});\n\n// Listen for the removal of the full notebook cells\nvar notebookContainer = gd.closest('#notebook-container');\nif (notebookContainer) {{\n    x.observe(notebookContainer, {childList: true});\n}}\n\n// Listen for the clearing of the current output cell\nvar outputEl = gd.closest('.output');\nif (outputEl) {{\n    x.observe(outputEl, {childList: true});\n}}\n\n                        })                };                            </script>        </div>\n</body>\n</html>"
     },
     "metadata": {},
     "output_type": "display_data"
    }
   ]
  },
  {
   "cell_type": "markdown",
   "source": "Nothing out of the ordinary here. Data for each of day of the week is evenly distributed.",
   "metadata": {
    "formattedRanges": [],
    "is_collapsed": false,
    "cell_id": "2bcf5119992e407a97d338a2a839af82",
    "tags": [],
    "deepnote_cell_type": "text-cell-p"
   }
  },
  {
   "cell_type": "code",
   "metadata": {
    "cell_id": "6da49401fc204af28a494d02ea73463e",
    "tags": [],
    "deepnote_to_be_reexecuted": false,
    "source_hash": "ce6d3b3f",
    "execution_start": 1663728012782,
    "execution_millis": 85,
    "deepnote_cell_type": "code",
    "deepnote_cell_height": 1457.03125,
    "deepnote_output_heights": [
     null,
     526,
     526
    ]
   },
   "source": "create_feature_analysis(data, 'workingday')",
   "execution_count": 15,
   "outputs": [
    {
     "name": "stdout",
     "text": "DESCRIPTIVE SUMMARY of workingday\ncount    730.000000\nmean       0.683562\nstd        0.465405\nmin        0.000000\n25%        0.000000\n50%        1.000000\n75%        1.000000\nmax        1.000000\nName: workingday, dtype: float64\n\n\nUNIQUE VALUE COUNT: 2\n",
     "output_type": "stream"
    },
    {
     "data": {
      "text/html": "<html>\n<head><meta charset=\"utf-8\" /></head>\n<body>\n    <div>            <script src=\"https://cdnjs.cloudflare.com/ajax/libs/mathjax/2.7.5/MathJax.js?config=TeX-AMS-MML_SVG\"></script><script type=\"text/javascript\">if (window.MathJax && window.MathJax.Hub && window.MathJax.Hub.Config) {window.MathJax.Hub.Config({SVG: {font: \"STIX-Web\"}});}</script>                <script type=\"text/javascript\">window.PlotlyConfig = {MathJaxConfig: 'local'};</script>\n        <script src=\"https://cdn.plot.ly/plotly-2.14.0.min.js\"></script>                <div id=\"31da2bf6-eb92-41cd-b161-e6040e901965\" class=\"plotly-graph-div\" style=\"height:525px; width:100%;\"></div>            <script type=\"text/javascript\">                                    window.PLOTLYENV=window.PLOTLYENV || {};                                    if (document.getElementById(\"31da2bf6-eb92-41cd-b161-e6040e901965\")) {                    Plotly.newPlot(                        \"31da2bf6-eb92-41cd-b161-e6040e901965\",                        [{\"alignmentgroup\":\"True\",\"bingroup\":\"x\",\"hovertemplate\":\"workingday=%{x}<br>count=%{y}<extra></extra>\",\"legendgroup\":\"\",\"marker\":{\"color\":\"#636efa\",\"pattern\":{\"shape\":\"\"}},\"name\":\"\",\"offsetgroup\":\"\",\"orientation\":\"v\",\"showlegend\":false,\"x\":[0,0,1,1,1,1,1,0,0,1,1,1,1,1,0,0,0,1,1,1,1,0,0,1,1,1,1,1,0,0,1,1,1,1,1,0,0,1,1,1,1,1,0,0,1,1,1,1,1,0,0,0,1,1,1,1,0,0,1,1,1,1,1,0,0,1,1,1,1,1,0,0,1,1,1,1,1,0,0,1,1,1,1,1,0,0,1,1,1,1,1,0,0,1,1,1,1,1,0,0,1,1,1,1,0,0,0,1,1,1,1,1,0,0,1,1,1,1,1,0,0,1,1,1,1,1,0,0,1,1,1,1,1,0,0,1,1,1,1,1,0,0,1,1,1,1,1,0,0,0,1,1,1,1,0,0,1,1,1,1,1,0,0,1,1,1,1,1,0,0,1,1,1,1,1,0,0,1,1,1,1,1,0,0,0,1,1,1,1,0,0,1,1,1,1,1,0,0,1,1,1,1,1,0,0,1,1,1,1,1,0,0,1,1,1,1,1,0,0,1,1,1,1,1,0,0,1,1,1,1,1,0,0,1,1,1,1,1,0,0,1,1,1,1,1,0,0,0,1,1,1,1,0,0,1,1,1,1,1,0,0,1,1,1,1,1,0,0,1,1,1,1,1,0,0,1,1,1,1,1,0,0,0,1,1,1,1,0,0,1,1,1,1,1,0,0,1,1,1,1,1,0,0,1,1,1,1,1,0,0,1,1,1,1,0,0,0,1,1,1,1,1,0,0,1,1,1,0,1,0,0,1,1,1,1,1,0,0,1,1,1,1,1,0,0,1,1,1,1,1,0,0,1,1,1,1,1,0,0,0,1,1,1,1,0,0,0,1,1,1,1,0,0,1,1,1,1,1,0,0,0,1,1,1,1,0,0,1,1,1,1,1,0,0,1,1,1,1,1,0,0,1,1,1,1,1,0,0,1,1,1,1,1,0,0,0,1,1,1,1,0,0,1,1,1,1,0,0,1,1,1,1,1,0,0,1,1,1,1,1,0,0,1,1,1,1,1,0,0,1,1,1,1,1,0,0,1,1,1,1,1,0,0,1,1,1,1,1,0,0,0,1,1,1,1,0,0,1,1,1,1,1,0,0,1,1,1,1,1,0,0,1,1,1,1,1,0,0,1,1,1,1,1,0,0,1,1,1,1,1,0,0,0,1,1,1,1,0,0,1,1,1,1,1,0,0,1,1,1,1,1,0,0,1,1,1,1,1,0,0,1,1,1,1,1,0,0,1,1,0,1,1,0,0,1,1,1,1,1,0,0,1,1,1,1,1,0,0,1,1,1,1,1,0,0,1,1,1,1,1,0,0,1,1,1,1,1,0,0,1,1,1,1,1,0,0,1,1,1,1,1,0,0,1,1,1,1,1,0,0,0,1,1,1,1,0,0,1,1,1,1,1,0,0,1,1,1,1,1,0,0,1,1,1,1,1,0,0,1,1,1,1,1,0,0,0,1,1,1,1,0,0,1,1,1,1,1,0,0,1,1,1,1,1,0,0,1,1,1,1,1,0,0,1,1,1,1,1,0,0,0,1,1,1,1,0,0,1,1,1,0,1,0,0,1,1,1,1,1,0,0,1,1,1,1,1,0,0,1,1,1,1,1,0,0,1,1,1,1,1,0,0,1,0,1,1,1,0,0,1],\"xaxis\":\"x\",\"yaxis\":\"y\",\"type\":\"histogram\"}],                        {\"template\":{\"data\":{\"histogram2dcontour\":[{\"type\":\"histogram2dcontour\",\"colorbar\":{\"outlinewidth\":0,\"ticks\":\"\"},\"colorscale\":[[0.0,\"#0d0887\"],[0.1111111111111111,\"#46039f\"],[0.2222222222222222,\"#7201a8\"],[0.3333333333333333,\"#9c179e\"],[0.4444444444444444,\"#bd3786\"],[0.5555555555555556,\"#d8576b\"],[0.6666666666666666,\"#ed7953\"],[0.7777777777777778,\"#fb9f3a\"],[0.8888888888888888,\"#fdca26\"],[1.0,\"#f0f921\"]]}],\"choropleth\":[{\"type\":\"choropleth\",\"colorbar\":{\"outlinewidth\":0,\"ticks\":\"\"}}],\"histogram2d\":[{\"type\":\"histogram2d\",\"colorbar\":{\"outlinewidth\":0,\"ticks\":\"\"},\"colorscale\":[[0.0,\"#0d0887\"],[0.1111111111111111,\"#46039f\"],[0.2222222222222222,\"#7201a8\"],[0.3333333333333333,\"#9c179e\"],[0.4444444444444444,\"#bd3786\"],[0.5555555555555556,\"#d8576b\"],[0.6666666666666666,\"#ed7953\"],[0.7777777777777778,\"#fb9f3a\"],[0.8888888888888888,\"#fdca26\"],[1.0,\"#f0f921\"]]}],\"heatmap\":[{\"type\":\"heatmap\",\"colorbar\":{\"outlinewidth\":0,\"ticks\":\"\"},\"colorscale\":[[0.0,\"#0d0887\"],[0.1111111111111111,\"#46039f\"],[0.2222222222222222,\"#7201a8\"],[0.3333333333333333,\"#9c179e\"],[0.4444444444444444,\"#bd3786\"],[0.5555555555555556,\"#d8576b\"],[0.6666666666666666,\"#ed7953\"],[0.7777777777777778,\"#fb9f3a\"],[0.8888888888888888,\"#fdca26\"],[1.0,\"#f0f921\"]]}],\"heatmapgl\":[{\"type\":\"heatmapgl\",\"colorbar\":{\"outlinewidth\":0,\"ticks\":\"\"},\"colorscale\":[[0.0,\"#0d0887\"],[0.1111111111111111,\"#46039f\"],[0.2222222222222222,\"#7201a8\"],[0.3333333333333333,\"#9c179e\"],[0.4444444444444444,\"#bd3786\"],[0.5555555555555556,\"#d8576b\"],[0.6666666666666666,\"#ed7953\"],[0.7777777777777778,\"#fb9f3a\"],[0.8888888888888888,\"#fdca26\"],[1.0,\"#f0f921\"]]}],\"contourcarpet\":[{\"type\":\"contourcarpet\",\"colorbar\":{\"outlinewidth\":0,\"ticks\":\"\"}}],\"contour\":[{\"type\":\"contour\",\"colorbar\":{\"outlinewidth\":0,\"ticks\":\"\"},\"colorscale\":[[0.0,\"#0d0887\"],[0.1111111111111111,\"#46039f\"],[0.2222222222222222,\"#7201a8\"],[0.3333333333333333,\"#9c179e\"],[0.4444444444444444,\"#bd3786\"],[0.5555555555555556,\"#d8576b\"],[0.6666666666666666,\"#ed7953\"],[0.7777777777777778,\"#fb9f3a\"],[0.8888888888888888,\"#fdca26\"],[1.0,\"#f0f921\"]]}],\"surface\":[{\"type\":\"surface\",\"colorbar\":{\"outlinewidth\":0,\"ticks\":\"\"},\"colorscale\":[[0.0,\"#0d0887\"],[0.1111111111111111,\"#46039f\"],[0.2222222222222222,\"#7201a8\"],[0.3333333333333333,\"#9c179e\"],[0.4444444444444444,\"#bd3786\"],[0.5555555555555556,\"#d8576b\"],[0.6666666666666666,\"#ed7953\"],[0.7777777777777778,\"#fb9f3a\"],[0.8888888888888888,\"#fdca26\"],[1.0,\"#f0f921\"]]}],\"mesh3d\":[{\"type\":\"mesh3d\",\"colorbar\":{\"outlinewidth\":0,\"ticks\":\"\"}}],\"scatter\":[{\"fillpattern\":{\"fillmode\":\"overlay\",\"size\":10,\"solidity\":0.2},\"type\":\"scatter\"}],\"parcoords\":[{\"type\":\"parcoords\",\"line\":{\"colorbar\":{\"outlinewidth\":0,\"ticks\":\"\"}}}],\"scatterpolargl\":[{\"type\":\"scatterpolargl\",\"marker\":{\"colorbar\":{\"outlinewidth\":0,\"ticks\":\"\"}}}],\"bar\":[{\"error_x\":{\"color\":\"#2a3f5f\"},\"error_y\":{\"color\":\"#2a3f5f\"},\"marker\":{\"line\":{\"color\":\"#E5ECF6\",\"width\":0.5},\"pattern\":{\"fillmode\":\"overlay\",\"size\":10,\"solidity\":0.2}},\"type\":\"bar\"}],\"scattergeo\":[{\"type\":\"scattergeo\",\"marker\":{\"colorbar\":{\"outlinewidth\":0,\"ticks\":\"\"}}}],\"scatterpolar\":[{\"type\":\"scatterpolar\",\"marker\":{\"colorbar\":{\"outlinewidth\":0,\"ticks\":\"\"}}}],\"histogram\":[{\"marker\":{\"pattern\":{\"fillmode\":\"overlay\",\"size\":10,\"solidity\":0.2}},\"type\":\"histogram\"}],\"scattergl\":[{\"type\":\"scattergl\",\"marker\":{\"colorbar\":{\"outlinewidth\":0,\"ticks\":\"\"}}}],\"scatter3d\":[{\"type\":\"scatter3d\",\"line\":{\"colorbar\":{\"outlinewidth\":0,\"ticks\":\"\"}},\"marker\":{\"colorbar\":{\"outlinewidth\":0,\"ticks\":\"\"}}}],\"scattermapbox\":[{\"type\":\"scattermapbox\",\"marker\":{\"colorbar\":{\"outlinewidth\":0,\"ticks\":\"\"}}}],\"scatterternary\":[{\"type\":\"scatterternary\",\"marker\":{\"colorbar\":{\"outlinewidth\":0,\"ticks\":\"\"}}}],\"scattercarpet\":[{\"type\":\"scattercarpet\",\"marker\":{\"colorbar\":{\"outlinewidth\":0,\"ticks\":\"\"}}}],\"carpet\":[{\"aaxis\":{\"endlinecolor\":\"#2a3f5f\",\"gridcolor\":\"white\",\"linecolor\":\"white\",\"minorgridcolor\":\"white\",\"startlinecolor\":\"#2a3f5f\"},\"baxis\":{\"endlinecolor\":\"#2a3f5f\",\"gridcolor\":\"white\",\"linecolor\":\"white\",\"minorgridcolor\":\"white\",\"startlinecolor\":\"#2a3f5f\"},\"type\":\"carpet\"}],\"table\":[{\"cells\":{\"fill\":{\"color\":\"#EBF0F8\"},\"line\":{\"color\":\"white\"}},\"header\":{\"fill\":{\"color\":\"#C8D4E3\"},\"line\":{\"color\":\"white\"}},\"type\":\"table\"}],\"barpolar\":[{\"marker\":{\"line\":{\"color\":\"#E5ECF6\",\"width\":0.5},\"pattern\":{\"fillmode\":\"overlay\",\"size\":10,\"solidity\":0.2}},\"type\":\"barpolar\"}],\"pie\":[{\"automargin\":true,\"type\":\"pie\"}]},\"layout\":{\"autotypenumbers\":\"strict\",\"colorway\":[\"#636efa\",\"#EF553B\",\"#00cc96\",\"#ab63fa\",\"#FFA15A\",\"#19d3f3\",\"#FF6692\",\"#B6E880\",\"#FF97FF\",\"#FECB52\"],\"font\":{\"color\":\"#2a3f5f\"},\"hovermode\":\"closest\",\"hoverlabel\":{\"align\":\"left\"},\"paper_bgcolor\":\"white\",\"plot_bgcolor\":\"#E5ECF6\",\"polar\":{\"bgcolor\":\"#E5ECF6\",\"angularaxis\":{\"gridcolor\":\"white\",\"linecolor\":\"white\",\"ticks\":\"\"},\"radialaxis\":{\"gridcolor\":\"white\",\"linecolor\":\"white\",\"ticks\":\"\"}},\"ternary\":{\"bgcolor\":\"#E5ECF6\",\"aaxis\":{\"gridcolor\":\"white\",\"linecolor\":\"white\",\"ticks\":\"\"},\"baxis\":{\"gridcolor\":\"white\",\"linecolor\":\"white\",\"ticks\":\"\"},\"caxis\":{\"gridcolor\":\"white\",\"linecolor\":\"white\",\"ticks\":\"\"}},\"coloraxis\":{\"colorbar\":{\"outlinewidth\":0,\"ticks\":\"\"}},\"colorscale\":{\"sequential\":[[0.0,\"#0d0887\"],[0.1111111111111111,\"#46039f\"],[0.2222222222222222,\"#7201a8\"],[0.3333333333333333,\"#9c179e\"],[0.4444444444444444,\"#bd3786\"],[0.5555555555555556,\"#d8576b\"],[0.6666666666666666,\"#ed7953\"],[0.7777777777777778,\"#fb9f3a\"],[0.8888888888888888,\"#fdca26\"],[1.0,\"#f0f921\"]],\"sequentialminus\":[[0.0,\"#0d0887\"],[0.1111111111111111,\"#46039f\"],[0.2222222222222222,\"#7201a8\"],[0.3333333333333333,\"#9c179e\"],[0.4444444444444444,\"#bd3786\"],[0.5555555555555556,\"#d8576b\"],[0.6666666666666666,\"#ed7953\"],[0.7777777777777778,\"#fb9f3a\"],[0.8888888888888888,\"#fdca26\"],[1.0,\"#f0f921\"]],\"diverging\":[[0,\"#8e0152\"],[0.1,\"#c51b7d\"],[0.2,\"#de77ae\"],[0.3,\"#f1b6da\"],[0.4,\"#fde0ef\"],[0.5,\"#f7f7f7\"],[0.6,\"#e6f5d0\"],[0.7,\"#b8e186\"],[0.8,\"#7fbc41\"],[0.9,\"#4d9221\"],[1,\"#276419\"]]},\"xaxis\":{\"gridcolor\":\"white\",\"linecolor\":\"white\",\"ticks\":\"\",\"title\":{\"standoff\":15},\"zerolinecolor\":\"white\",\"automargin\":true,\"zerolinewidth\":2},\"yaxis\":{\"gridcolor\":\"white\",\"linecolor\":\"white\",\"ticks\":\"\",\"title\":{\"standoff\":15},\"zerolinecolor\":\"white\",\"automargin\":true,\"zerolinewidth\":2},\"scene\":{\"xaxis\":{\"backgroundcolor\":\"#E5ECF6\",\"gridcolor\":\"white\",\"linecolor\":\"white\",\"showbackground\":true,\"ticks\":\"\",\"zerolinecolor\":\"white\",\"gridwidth\":2},\"yaxis\":{\"backgroundcolor\":\"#E5ECF6\",\"gridcolor\":\"white\",\"linecolor\":\"white\",\"showbackground\":true,\"ticks\":\"\",\"zerolinecolor\":\"white\",\"gridwidth\":2},\"zaxis\":{\"backgroundcolor\":\"#E5ECF6\",\"gridcolor\":\"white\",\"linecolor\":\"white\",\"showbackground\":true,\"ticks\":\"\",\"zerolinecolor\":\"white\",\"gridwidth\":2}},\"shapedefaults\":{\"line\":{\"color\":\"#2a3f5f\"}},\"annotationdefaults\":{\"arrowcolor\":\"#2a3f5f\",\"arrowhead\":0,\"arrowwidth\":1},\"geo\":{\"bgcolor\":\"white\",\"landcolor\":\"#E5ECF6\",\"subunitcolor\":\"white\",\"showland\":true,\"showlakes\":true,\"lakecolor\":\"white\"},\"title\":{\"x\":0.05},\"mapbox\":{\"style\":\"light\"}}},\"xaxis\":{\"anchor\":\"y\",\"domain\":[0.0,1.0],\"title\":{\"text\":\"workingday\"}},\"yaxis\":{\"anchor\":\"x\",\"domain\":[0.0,1.0],\"title\":{\"text\":\"count\"}},\"legend\":{\"tracegroupgap\":0},\"title\":{\"text\":\"Histogram of values for workingday\"},\"barmode\":\"relative\"},                        {\"responsive\": true}                    ).then(function(){\n                            \nvar gd = document.getElementById('31da2bf6-eb92-41cd-b161-e6040e901965');\nvar x = new MutationObserver(function (mutations, observer) {{\n        var display = window.getComputedStyle(gd).display;\n        if (!display || display === 'none') {{\n            console.log([gd, 'removed!']);\n            Plotly.purge(gd);\n            observer.disconnect();\n        }}\n}});\n\n// Listen for the removal of the full notebook cells\nvar notebookContainer = gd.closest('#notebook-container');\nif (notebookContainer) {{\n    x.observe(notebookContainer, {childList: true});\n}}\n\n// Listen for the clearing of the current output cell\nvar outputEl = gd.closest('.output');\nif (outputEl) {{\n    x.observe(outputEl, {childList: true});\n}}\n\n                        })                };                            </script>        </div>\n</body>\n</html>"
     },
     "metadata": {},
     "output_type": "display_data"
    },
    {
     "data": {
      "text/html": "<html>\n<head><meta charset=\"utf-8\" /></head>\n<body>\n    <div>            <script src=\"https://cdnjs.cloudflare.com/ajax/libs/mathjax/2.7.5/MathJax.js?config=TeX-AMS-MML_SVG\"></script><script type=\"text/javascript\">if (window.MathJax && window.MathJax.Hub && window.MathJax.Hub.Config) {window.MathJax.Hub.Config({SVG: {font: \"STIX-Web\"}});}</script>                <script type=\"text/javascript\">window.PlotlyConfig = {MathJaxConfig: 'local'};</script>\n        <script src=\"https://cdn.plot.ly/plotly-2.14.0.min.js\"></script>                <div id=\"57d61fb5-6aca-4306-ae0d-ea345630cd46\" class=\"plotly-graph-div\" style=\"height:525px; width:100%;\"></div>            <script type=\"text/javascript\">                                    window.PLOTLYENV=window.PLOTLYENV || {};                                    if (document.getElementById(\"57d61fb5-6aca-4306-ae0d-ea345630cd46\")) {                    Plotly.newPlot(                        \"57d61fb5-6aca-4306-ae0d-ea345630cd46\",                        [{\"alignmentgroup\":\"True\",\"hovertemplate\":\"workingday=%{x}<br>cnt=%{y}<extra></extra>\",\"legendgroup\":\"\",\"marker\":{\"color\":\"#636efa\"},\"name\":\"\",\"notched\":false,\"offsetgroup\":\"\",\"orientation\":\"v\",\"showlegend\":false,\"x\":[0,0,1,1,1,1,1,0,0,1,1,1,1,1,0,0,0,1,1,1,1,0,0,1,1,1,1,1,0,0,1,1,1,1,1,0,0,1,1,1,1,1,0,0,1,1,1,1,1,0,0,0,1,1,1,1,0,0,1,1,1,1,1,0,0,1,1,1,1,1,0,0,1,1,1,1,1,0,0,1,1,1,1,1,0,0,1,1,1,1,1,0,0,1,1,1,1,1,0,0,1,1,1,1,0,0,0,1,1,1,1,1,0,0,1,1,1,1,1,0,0,1,1,1,1,1,0,0,1,1,1,1,1,0,0,1,1,1,1,1,0,0,1,1,1,1,1,0,0,0,1,1,1,1,0,0,1,1,1,1,1,0,0,1,1,1,1,1,0,0,1,1,1,1,1,0,0,1,1,1,1,1,0,0,0,1,1,1,1,0,0,1,1,1,1,1,0,0,1,1,1,1,1,0,0,1,1,1,1,1,0,0,1,1,1,1,1,0,0,1,1,1,1,1,0,0,1,1,1,1,1,0,0,1,1,1,1,1,0,0,1,1,1,1,1,0,0,0,1,1,1,1,0,0,1,1,1,1,1,0,0,1,1,1,1,1,0,0,1,1,1,1,1,0,0,1,1,1,1,1,0,0,0,1,1,1,1,0,0,1,1,1,1,1,0,0,1,1,1,1,1,0,0,1,1,1,1,1,0,0,1,1,1,1,0,0,0,1,1,1,1,1,0,0,1,1,1,0,1,0,0,1,1,1,1,1,0,0,1,1,1,1,1,0,0,1,1,1,1,1,0,0,1,1,1,1,1,0,0,0,1,1,1,1,0,0,0,1,1,1,1,0,0,1,1,1,1,1,0,0,0,1,1,1,1,0,0,1,1,1,1,1,0,0,1,1,1,1,1,0,0,1,1,1,1,1,0,0,1,1,1,1,1,0,0,0,1,1,1,1,0,0,1,1,1,1,0,0,1,1,1,1,1,0,0,1,1,1,1,1,0,0,1,1,1,1,1,0,0,1,1,1,1,1,0,0,1,1,1,1,1,0,0,1,1,1,1,1,0,0,0,1,1,1,1,0,0,1,1,1,1,1,0,0,1,1,1,1,1,0,0,1,1,1,1,1,0,0,1,1,1,1,1,0,0,1,1,1,1,1,0,0,0,1,1,1,1,0,0,1,1,1,1,1,0,0,1,1,1,1,1,0,0,1,1,1,1,1,0,0,1,1,1,1,1,0,0,1,1,0,1,1,0,0,1,1,1,1,1,0,0,1,1,1,1,1,0,0,1,1,1,1,1,0,0,1,1,1,1,1,0,0,1,1,1,1,1,0,0,1,1,1,1,1,0,0,1,1,1,1,1,0,0,1,1,1,1,1,0,0,0,1,1,1,1,0,0,1,1,1,1,1,0,0,1,1,1,1,1,0,0,1,1,1,1,1,0,0,1,1,1,1,1,0,0,0,1,1,1,1,0,0,1,1,1,1,1,0,0,1,1,1,1,1,0,0,1,1,1,1,1,0,0,1,1,1,1,1,0,0,0,1,1,1,1,0,0,1,1,1,0,1,0,0,1,1,1,1,1,0,0,1,1,1,1,1,0,0,1,1,1,1,1,0,0,1,1,1,1,1,0,0,1,0,1,1,1,0,0,1],\"x0\":\" \",\"xaxis\":\"x\",\"y\":[985,801,1349,1562,1600,1606,1510,959,822,1321,1263,1162,1406,1421,1248,1204,1000,683,1650,1927,1543,981,986,1416,1985,506,431,1167,1098,1096,1501,1360,1526,1550,1708,1005,1623,1712,1530,1605,1538,1746,1472,1589,1913,1815,2115,2475,2927,1635,1812,1107,1450,1917,1807,1461,1969,2402,1446,1851,2134,1685,1944,2077,605,1872,2133,1891,623,1977,2132,2417,2046,2056,2192,2744,3239,3117,2471,2077,2703,2121,1865,2210,2496,1693,2028,2425,1536,1685,2227,2252,3249,3115,1795,2808,3141,1471,2455,2895,3348,2034,2162,3267,3126,795,3744,3429,3204,3944,4189,1683,4036,4191,4073,4400,3872,4058,4595,5312,3351,4401,4451,2633,4433,4608,4714,4333,4362,4803,4182,4864,4105,3409,4553,3958,4123,3855,4575,4917,5805,4660,4274,4492,4978,4677,4679,4758,4788,4098,3982,3974,4968,5312,5342,4906,4548,4833,4401,3915,4586,4966,4460,5020,4891,5180,3767,4844,5119,4744,4010,4835,4507,4790,4991,5202,5305,4708,4648,5225,5515,5362,5119,4649,6043,4665,4629,4592,4040,5336,4881,4086,4258,4342,5084,5538,5923,5302,4458,4541,4332,3784,3387,3285,3606,3840,4590,4656,4390,3846,4475,4302,4266,4845,3574,4576,4866,4294,3785,4326,4602,4780,4792,4905,4150,3820,4338,4725,4694,3805,4153,5191,3873,4758,5895,5130,3542,4661,1115,4334,4634,5204,5058,5115,4727,4484,4940,3351,2710,1996,1842,3544,5345,5046,4713,4763,4785,3659,4760,4511,4274,4539,3641,4352,4795,2395,5423,5010,4630,4120,3907,4839,5202,2429,2918,3570,4456,4826,4765,4985,5409,5511,5117,4563,2416,2913,3644,5217,5041,4570,4748,2424,4195,4304,4308,4381,4187,4687,3894,2659,3747,627,3331,3669,4068,4186,3974,4046,3926,3649,4035,4205,4109,2933,3368,4067,3717,4486,4195,1817,3053,3392,3663,3520,2765,1607,2566,1495,2792,3068,3071,3867,2914,3613,3727,3940,3614,3485,3811,2594,705,3322,3620,3190,2743,3310,3523,3740,3709,3577,2739,2431,3403,3750,2660,3068,2209,1011,754,1317,1162,2302,2423,2999,2485,2294,1951,2236,2368,3272,4098,4521,3425,2376,3598,2177,4097,3214,2493,2311,2298,2935,3376,3292,3163,1301,1977,2432,4339,4270,4075,3456,4023,3243,3624,4509,4579,3761,4151,2832,2947,3784,4375,2802,3830,3831,2169,1529,3422,3922,4169,3005,4154,4318,2689,3129,3777,4773,5062,3487,2732,3389,4322,4363,4990,3194,4066,3423,3333,3956,4916,5382,4569,4118,4911,5298,5847,6312,6192,4378,7836,5892,6153,6093,6230,6871,8362,3372,4996,5558,5102,5698,6133,5459,6235,6041,5936,6772,6436,6457,6460,6857,5169,5585,5918,4862,5409,6398,7460,7132,6370,6691,4367,6565,7290,6624,1027,3214,5633,6196,5026,6233,4220,6304,5572,5740,6169,6421,6296,6883,6359,6273,5728,4717,6572,7030,7429,6118,2843,5115,7424,7384,7639,8294,7129,4359,6073,5260,6770,6734,6536,6591,6043,5743,6855,7338,4127,8120,7641,6998,7001,7055,7494,7736,7498,6598,6664,4972,7421,7363,7665,7702,6978,5099,6825,6211,5905,5823,7458,6891,6779,7442,7335,6879,5463,5687,5531,6227,6660,7403,6241,6207,4840,4672,6569,6290,7264,7446,7499,6969,6031,6830,6786,5713,6591,5870,4459,7410,6966,7592,8173,6861,6904,6685,6597,7105,7216,7580,7261,7175,6824,5464,7013,7273,7534,7286,5786,6299,6544,6883,6784,7347,7605,7148,7865,4549,6530,7006,7375,7765,7582,6053,5255,6917,7040,7697,7713,7350,6140,5810,6034,6864,7112,6203,7504,5976,8227,7525,7767,7870,7804,8009,8714,7333,6869,4073,7591,7720,8167,8395,7907,7436,7538,7733,7393,7415,8555,6889,6778,4639,7572,7328,8156,7965,3510,5478,6392,7691,7570,7282,7109,6639,5875,7534,7461,7509,5424,8090,6824,7058,7466,7693,7359,7444,7852,4459,22,1096,5566,5986,5847,5138,5107,5259,5686,5035,5315,5992,6536,6852,6269,4094,5495,5445,5698,5629,4669,5499,5634,5146,2425,3910,2277,2424,5087,3959,5260,5323,5668,5191,4649,6234,6606,5729,5375,5008,5582,3228,5170,5501,5319,5532,5611,5047,3786,4585,5557,5267,4128,3623,1749,1787,920,1013,441,2114,3095,1341,1796,2729],\"y0\":\" \",\"yaxis\":\"y\",\"type\":\"box\"}],                        {\"template\":{\"data\":{\"histogram2dcontour\":[{\"type\":\"histogram2dcontour\",\"colorbar\":{\"outlinewidth\":0,\"ticks\":\"\"},\"colorscale\":[[0.0,\"#0d0887\"],[0.1111111111111111,\"#46039f\"],[0.2222222222222222,\"#7201a8\"],[0.3333333333333333,\"#9c179e\"],[0.4444444444444444,\"#bd3786\"],[0.5555555555555556,\"#d8576b\"],[0.6666666666666666,\"#ed7953\"],[0.7777777777777778,\"#fb9f3a\"],[0.8888888888888888,\"#fdca26\"],[1.0,\"#f0f921\"]]}],\"choropleth\":[{\"type\":\"choropleth\",\"colorbar\":{\"outlinewidth\":0,\"ticks\":\"\"}}],\"histogram2d\":[{\"type\":\"histogram2d\",\"colorbar\":{\"outlinewidth\":0,\"ticks\":\"\"},\"colorscale\":[[0.0,\"#0d0887\"],[0.1111111111111111,\"#46039f\"],[0.2222222222222222,\"#7201a8\"],[0.3333333333333333,\"#9c179e\"],[0.4444444444444444,\"#bd3786\"],[0.5555555555555556,\"#d8576b\"],[0.6666666666666666,\"#ed7953\"],[0.7777777777777778,\"#fb9f3a\"],[0.8888888888888888,\"#fdca26\"],[1.0,\"#f0f921\"]]}],\"heatmap\":[{\"type\":\"heatmap\",\"colorbar\":{\"outlinewidth\":0,\"ticks\":\"\"},\"colorscale\":[[0.0,\"#0d0887\"],[0.1111111111111111,\"#46039f\"],[0.2222222222222222,\"#7201a8\"],[0.3333333333333333,\"#9c179e\"],[0.4444444444444444,\"#bd3786\"],[0.5555555555555556,\"#d8576b\"],[0.6666666666666666,\"#ed7953\"],[0.7777777777777778,\"#fb9f3a\"],[0.8888888888888888,\"#fdca26\"],[1.0,\"#f0f921\"]]}],\"heatmapgl\":[{\"type\":\"heatmapgl\",\"colorbar\":{\"outlinewidth\":0,\"ticks\":\"\"},\"colorscale\":[[0.0,\"#0d0887\"],[0.1111111111111111,\"#46039f\"],[0.2222222222222222,\"#7201a8\"],[0.3333333333333333,\"#9c179e\"],[0.4444444444444444,\"#bd3786\"],[0.5555555555555556,\"#d8576b\"],[0.6666666666666666,\"#ed7953\"],[0.7777777777777778,\"#fb9f3a\"],[0.8888888888888888,\"#fdca26\"],[1.0,\"#f0f921\"]]}],\"contourcarpet\":[{\"type\":\"contourcarpet\",\"colorbar\":{\"outlinewidth\":0,\"ticks\":\"\"}}],\"contour\":[{\"type\":\"contour\",\"colorbar\":{\"outlinewidth\":0,\"ticks\":\"\"},\"colorscale\":[[0.0,\"#0d0887\"],[0.1111111111111111,\"#46039f\"],[0.2222222222222222,\"#7201a8\"],[0.3333333333333333,\"#9c179e\"],[0.4444444444444444,\"#bd3786\"],[0.5555555555555556,\"#d8576b\"],[0.6666666666666666,\"#ed7953\"],[0.7777777777777778,\"#fb9f3a\"],[0.8888888888888888,\"#fdca26\"],[1.0,\"#f0f921\"]]}],\"surface\":[{\"type\":\"surface\",\"colorbar\":{\"outlinewidth\":0,\"ticks\":\"\"},\"colorscale\":[[0.0,\"#0d0887\"],[0.1111111111111111,\"#46039f\"],[0.2222222222222222,\"#7201a8\"],[0.3333333333333333,\"#9c179e\"],[0.4444444444444444,\"#bd3786\"],[0.5555555555555556,\"#d8576b\"],[0.6666666666666666,\"#ed7953\"],[0.7777777777777778,\"#fb9f3a\"],[0.8888888888888888,\"#fdca26\"],[1.0,\"#f0f921\"]]}],\"mesh3d\":[{\"type\":\"mesh3d\",\"colorbar\":{\"outlinewidth\":0,\"ticks\":\"\"}}],\"scatter\":[{\"fillpattern\":{\"fillmode\":\"overlay\",\"size\":10,\"solidity\":0.2},\"type\":\"scatter\"}],\"parcoords\":[{\"type\":\"parcoords\",\"line\":{\"colorbar\":{\"outlinewidth\":0,\"ticks\":\"\"}}}],\"scatterpolargl\":[{\"type\":\"scatterpolargl\",\"marker\":{\"colorbar\":{\"outlinewidth\":0,\"ticks\":\"\"}}}],\"bar\":[{\"error_x\":{\"color\":\"#2a3f5f\"},\"error_y\":{\"color\":\"#2a3f5f\"},\"marker\":{\"line\":{\"color\":\"#E5ECF6\",\"width\":0.5},\"pattern\":{\"fillmode\":\"overlay\",\"size\":10,\"solidity\":0.2}},\"type\":\"bar\"}],\"scattergeo\":[{\"type\":\"scattergeo\",\"marker\":{\"colorbar\":{\"outlinewidth\":0,\"ticks\":\"\"}}}],\"scatterpolar\":[{\"type\":\"scatterpolar\",\"marker\":{\"colorbar\":{\"outlinewidth\":0,\"ticks\":\"\"}}}],\"histogram\":[{\"marker\":{\"pattern\":{\"fillmode\":\"overlay\",\"size\":10,\"solidity\":0.2}},\"type\":\"histogram\"}],\"scattergl\":[{\"type\":\"scattergl\",\"marker\":{\"colorbar\":{\"outlinewidth\":0,\"ticks\":\"\"}}}],\"scatter3d\":[{\"type\":\"scatter3d\",\"line\":{\"colorbar\":{\"outlinewidth\":0,\"ticks\":\"\"}},\"marker\":{\"colorbar\":{\"outlinewidth\":0,\"ticks\":\"\"}}}],\"scattermapbox\":[{\"type\":\"scattermapbox\",\"marker\":{\"colorbar\":{\"outlinewidth\":0,\"ticks\":\"\"}}}],\"scatterternary\":[{\"type\":\"scatterternary\",\"marker\":{\"colorbar\":{\"outlinewidth\":0,\"ticks\":\"\"}}}],\"scattercarpet\":[{\"type\":\"scattercarpet\",\"marker\":{\"colorbar\":{\"outlinewidth\":0,\"ticks\":\"\"}}}],\"carpet\":[{\"aaxis\":{\"endlinecolor\":\"#2a3f5f\",\"gridcolor\":\"white\",\"linecolor\":\"white\",\"minorgridcolor\":\"white\",\"startlinecolor\":\"#2a3f5f\"},\"baxis\":{\"endlinecolor\":\"#2a3f5f\",\"gridcolor\":\"white\",\"linecolor\":\"white\",\"minorgridcolor\":\"white\",\"startlinecolor\":\"#2a3f5f\"},\"type\":\"carpet\"}],\"table\":[{\"cells\":{\"fill\":{\"color\":\"#EBF0F8\"},\"line\":{\"color\":\"white\"}},\"header\":{\"fill\":{\"color\":\"#C8D4E3\"},\"line\":{\"color\":\"white\"}},\"type\":\"table\"}],\"barpolar\":[{\"marker\":{\"line\":{\"color\":\"#E5ECF6\",\"width\":0.5},\"pattern\":{\"fillmode\":\"overlay\",\"size\":10,\"solidity\":0.2}},\"type\":\"barpolar\"}],\"pie\":[{\"automargin\":true,\"type\":\"pie\"}]},\"layout\":{\"autotypenumbers\":\"strict\",\"colorway\":[\"#636efa\",\"#EF553B\",\"#00cc96\",\"#ab63fa\",\"#FFA15A\",\"#19d3f3\",\"#FF6692\",\"#B6E880\",\"#FF97FF\",\"#FECB52\"],\"font\":{\"color\":\"#2a3f5f\"},\"hovermode\":\"closest\",\"hoverlabel\":{\"align\":\"left\"},\"paper_bgcolor\":\"white\",\"plot_bgcolor\":\"#E5ECF6\",\"polar\":{\"bgcolor\":\"#E5ECF6\",\"angularaxis\":{\"gridcolor\":\"white\",\"linecolor\":\"white\",\"ticks\":\"\"},\"radialaxis\":{\"gridcolor\":\"white\",\"linecolor\":\"white\",\"ticks\":\"\"}},\"ternary\":{\"bgcolor\":\"#E5ECF6\",\"aaxis\":{\"gridcolor\":\"white\",\"linecolor\":\"white\",\"ticks\":\"\"},\"baxis\":{\"gridcolor\":\"white\",\"linecolor\":\"white\",\"ticks\":\"\"},\"caxis\":{\"gridcolor\":\"white\",\"linecolor\":\"white\",\"ticks\":\"\"}},\"coloraxis\":{\"colorbar\":{\"outlinewidth\":0,\"ticks\":\"\"}},\"colorscale\":{\"sequential\":[[0.0,\"#0d0887\"],[0.1111111111111111,\"#46039f\"],[0.2222222222222222,\"#7201a8\"],[0.3333333333333333,\"#9c179e\"],[0.4444444444444444,\"#bd3786\"],[0.5555555555555556,\"#d8576b\"],[0.6666666666666666,\"#ed7953\"],[0.7777777777777778,\"#fb9f3a\"],[0.8888888888888888,\"#fdca26\"],[1.0,\"#f0f921\"]],\"sequentialminus\":[[0.0,\"#0d0887\"],[0.1111111111111111,\"#46039f\"],[0.2222222222222222,\"#7201a8\"],[0.3333333333333333,\"#9c179e\"],[0.4444444444444444,\"#bd3786\"],[0.5555555555555556,\"#d8576b\"],[0.6666666666666666,\"#ed7953\"],[0.7777777777777778,\"#fb9f3a\"],[0.8888888888888888,\"#fdca26\"],[1.0,\"#f0f921\"]],\"diverging\":[[0,\"#8e0152\"],[0.1,\"#c51b7d\"],[0.2,\"#de77ae\"],[0.3,\"#f1b6da\"],[0.4,\"#fde0ef\"],[0.5,\"#f7f7f7\"],[0.6,\"#e6f5d0\"],[0.7,\"#b8e186\"],[0.8,\"#7fbc41\"],[0.9,\"#4d9221\"],[1,\"#276419\"]]},\"xaxis\":{\"gridcolor\":\"white\",\"linecolor\":\"white\",\"ticks\":\"\",\"title\":{\"standoff\":15},\"zerolinecolor\":\"white\",\"automargin\":true,\"zerolinewidth\":2},\"yaxis\":{\"gridcolor\":\"white\",\"linecolor\":\"white\",\"ticks\":\"\",\"title\":{\"standoff\":15},\"zerolinecolor\":\"white\",\"automargin\":true,\"zerolinewidth\":2},\"scene\":{\"xaxis\":{\"backgroundcolor\":\"#E5ECF6\",\"gridcolor\":\"white\",\"linecolor\":\"white\",\"showbackground\":true,\"ticks\":\"\",\"zerolinecolor\":\"white\",\"gridwidth\":2},\"yaxis\":{\"backgroundcolor\":\"#E5ECF6\",\"gridcolor\":\"white\",\"linecolor\":\"white\",\"showbackground\":true,\"ticks\":\"\",\"zerolinecolor\":\"white\",\"gridwidth\":2},\"zaxis\":{\"backgroundcolor\":\"#E5ECF6\",\"gridcolor\":\"white\",\"linecolor\":\"white\",\"showbackground\":true,\"ticks\":\"\",\"zerolinecolor\":\"white\",\"gridwidth\":2}},\"shapedefaults\":{\"line\":{\"color\":\"#2a3f5f\"}},\"annotationdefaults\":{\"arrowcolor\":\"#2a3f5f\",\"arrowhead\":0,\"arrowwidth\":1},\"geo\":{\"bgcolor\":\"white\",\"landcolor\":\"#E5ECF6\",\"subunitcolor\":\"white\",\"showland\":true,\"showlakes\":true,\"lakecolor\":\"white\"},\"title\":{\"x\":0.05},\"mapbox\":{\"style\":\"light\"}}},\"xaxis\":{\"anchor\":\"y\",\"domain\":[0.0,1.0],\"title\":{\"text\":\"workingday\"}},\"yaxis\":{\"anchor\":\"x\",\"domain\":[0.0,1.0],\"title\":{\"text\":\"cnt\"}},\"legend\":{\"tracegroupgap\":0},\"title\":{\"text\":\"Boxplot of values for workingday against our target variable cnt\"},\"boxmode\":\"group\"},                        {\"responsive\": true}                    ).then(function(){\n                            \nvar gd = document.getElementById('57d61fb5-6aca-4306-ae0d-ea345630cd46');\nvar x = new MutationObserver(function (mutations, observer) {{\n        var display = window.getComputedStyle(gd).display;\n        if (!display || display === 'none') {{\n            console.log([gd, 'removed!']);\n            Plotly.purge(gd);\n            observer.disconnect();\n        }}\n}});\n\n// Listen for the removal of the full notebook cells\nvar notebookContainer = gd.closest('#notebook-container');\nif (notebookContainer) {{\n    x.observe(notebookContainer, {childList: true});\n}}\n\n// Listen for the clearing of the current output cell\nvar outputEl = gd.closest('.output');\nif (outputEl) {{\n    x.observe(outputEl, {childList: true});\n}}\n\n                        })                };                            </script>        </div>\n</body>\n</html>"
     },
     "metadata": {},
     "output_type": "display_data"
    }
   ]
  },
  {
   "cell_type": "markdown",
   "source": "Although the mean and max are relavitely the same, we can that there are consistently more riders out on the weekend.",
   "metadata": {
    "formattedRanges": [],
    "is_collapsed": false,
    "cell_id": "998399f6e7424f32b63a7c11cbc22aae",
    "tags": [],
    "deepnote_cell_type": "text-cell-p"
   }
  },
  {
   "cell_type": "code",
   "metadata": {
    "cell_id": "d6861229983845ec9315094bdb91630a",
    "tags": [],
    "deepnote_to_be_reexecuted": false,
    "source_hash": "9015fa79",
    "execution_start": 1663728012869,
    "execution_millis": 90,
    "deepnote_cell_type": "code",
    "deepnote_cell_height": 1378.25,
    "deepnote_output_heights": [
     null,
     526,
     526
    ]
   },
   "source": "create_feature_analysis(data, 'weathersit')",
   "execution_count": 16,
   "outputs": [
    {
     "name": "stdout",
     "text": "DESCRIPTIVE SUMMARY of weathersit\ncount       730\nunique        3\ntop       clear\nfreq        463\nName: weathersit, dtype: object\n\n\nUNIQUE VALUE COUNT: 3\n",
     "output_type": "stream"
    },
    {
     "data": {
      "text/html": "<html>\n<head><meta charset=\"utf-8\" /></head>\n<body>\n    <div>            <script src=\"https://cdnjs.cloudflare.com/ajax/libs/mathjax/2.7.5/MathJax.js?config=TeX-AMS-MML_SVG\"></script><script type=\"text/javascript\">if (window.MathJax && window.MathJax.Hub && window.MathJax.Hub.Config) {window.MathJax.Hub.Config({SVG: {font: \"STIX-Web\"}});}</script>                <script type=\"text/javascript\">window.PlotlyConfig = {MathJaxConfig: 'local'};</script>\n        <script src=\"https://cdn.plot.ly/plotly-2.14.0.min.js\"></script>                <div id=\"b8124d5a-825e-4a7a-83f9-4aae1c9fbaf9\" class=\"plotly-graph-div\" style=\"height:525px; width:100%;\"></div>            <script type=\"text/javascript\">                                    window.PLOTLYENV=window.PLOTLYENV || {};                                    if (document.getElementById(\"b8124d5a-825e-4a7a-83f9-4aae1c9fbaf9\")) {                    Plotly.newPlot(                        \"b8124d5a-825e-4a7a-83f9-4aae1c9fbaf9\",                        [{\"alignmentgroup\":\"True\",\"bingroup\":\"x\",\"hovertemplate\":\"weathersit=%{x}<br>count=%{y}<extra></extra>\",\"legendgroup\":\"\",\"marker\":{\"color\":\"#636efa\",\"pattern\":{\"shape\":\"\"}},\"name\":\"\",\"offsetgroup\":\"\",\"orientation\":\"v\",\"showlegend\":false,\"x\":[\"misty\",\"misty\",\"clear\",\"clear\",\"clear\",\"clear\",\"misty\",\"misty\",\"clear\",\"clear\",\"misty\",\"clear\",\"clear\",\"clear\",\"misty\",\"clear\",\"misty\",\"misty\",\"misty\",\"misty\",\"clear\",\"clear\",\"clear\",\"clear\",\"misty\",\"light_snow\",\"clear\",\"misty\",\"clear\",\"clear\",\"misty\",\"misty\",\"misty\",\"clear\",\"misty\",\"misty\",\"clear\",\"clear\",\"clear\",\"misty\",\"clear\",\"clear\",\"clear\",\"clear\",\"clear\",\"clear\",\"clear\",\"clear\",\"clear\",\"clear\",\"clear\",\"misty\",\"clear\",\"clear\",\"misty\",\"misty\",\"clear\",\"clear\",\"misty\",\"clear\",\"clear\",\"clear\",\"misty\",\"misty\",\"misty\",\"clear\",\"clear\",\"misty\",\"light_snow\",\"misty\",\"clear\",\"clear\",\"clear\",\"misty\",\"misty\",\"clear\",\"clear\",\"clear\",\"clear\",\"misty\",\"clear\",\"misty\",\"misty\",\"clear\",\"clear\",\"misty\",\"clear\",\"clear\",\"misty\",\"light_snow\",\"misty\",\"misty\",\"clear\",\"clear\",\"misty\",\"clear\",\"clear\",\"misty\",\"misty\",\"misty\",\"misty\",\"misty\",\"misty\",\"clear\",\"clear\",\"light_snow\",\"clear\",\"clear\",\"misty\",\"clear\",\"clear\",\"misty\",\"misty\",\"misty\",\"clear\",\"clear\",\"misty\",\"misty\",\"clear\",\"clear\",\"misty\",\"misty\",\"misty\",\"misty\",\"clear\",\"clear\",\"clear\",\"clear\",\"clear\",\"clear\",\"clear\",\"clear\",\"misty\",\"misty\",\"misty\",\"clear\",\"misty\",\"misty\",\"misty\",\"clear\",\"clear\",\"clear\",\"misty\",\"misty\",\"clear\",\"clear\",\"clear\",\"clear\",\"clear\",\"clear\",\"clear\",\"misty\",\"clear\",\"clear\",\"clear\",\"misty\",\"clear\",\"clear\",\"clear\",\"misty\",\"clear\",\"clear\",\"clear\",\"clear\",\"clear\",\"clear\",\"misty\",\"clear\",\"clear\",\"misty\",\"misty\",\"misty\",\"clear\",\"misty\",\"clear\",\"clear\",\"clear\",\"misty\",\"clear\",\"clear\",\"clear\",\"clear\",\"clear\",\"misty\",\"misty\",\"clear\",\"clear\",\"clear\",\"misty\",\"clear\",\"clear\",\"clear\",\"clear\",\"clear\",\"clear\",\"clear\",\"clear\",\"clear\",\"clear\",\"clear\",\"clear\",\"misty\",\"clear\",\"clear\",\"clear\",\"clear\",\"clear\",\"clear\",\"clear\",\"clear\",\"clear\",\"clear\",\"clear\",\"clear\",\"misty\",\"misty\",\"clear\",\"misty\",\"clear\",\"clear\",\"clear\",\"clear\",\"clear\",\"clear\",\"misty\",\"misty\",\"clear\",\"clear\",\"clear\",\"clear\",\"misty\",\"clear\",\"clear\",\"clear\",\"clear\",\"clear\",\"misty\",\"clear\",\"misty\",\"clear\",\"clear\",\"clear\",\"clear\",\"clear\",\"misty\",\"clear\",\"clear\",\"misty\",\"light_snow\",\"light_snow\",\"light_snow\",\"misty\",\"clear\",\"clear\",\"clear\",\"clear\",\"clear\",\"misty\",\"misty\",\"misty\",\"clear\",\"misty\",\"misty\",\"misty\",\"misty\",\"misty\",\"misty\",\"misty\",\"misty\",\"misty\",\"misty\",\"clear\",\"clear\",\"misty\",\"misty\",\"misty\",\"clear\",\"clear\",\"clear\",\"clear\",\"clear\",\"clear\",\"clear\",\"misty\",\"light_snow\",\"misty\",\"misty\",\"clear\",\"clear\",\"clear\",\"misty\",\"light_snow\",\"clear\",\"clear\",\"clear\",\"clear\",\"clear\",\"clear\",\"misty\",\"misty\",\"misty\",\"light_snow\",\"clear\",\"clear\",\"clear\",\"clear\",\"clear\",\"misty\",\"clear\",\"clear\",\"clear\",\"clear\",\"clear\",\"misty\",\"clear\",\"clear\",\"clear\",\"clear\",\"misty\",\"light_snow\",\"misty\",\"clear\",\"clear\",\"misty\",\"light_snow\",\"light_snow\",\"misty\",\"clear\",\"clear\",\"clear\",\"clear\",\"clear\",\"misty\",\"clear\",\"clear\",\"clear\",\"clear\",\"clear\",\"misty\",\"light_snow\",\"light_snow\",\"clear\",\"clear\",\"clear\",\"clear\",\"clear\",\"clear\",\"misty\",\"misty\",\"misty\",\"misty\",\"clear\",\"clear\",\"misty\",\"misty\",\"misty\",\"clear\",\"clear\",\"clear\",\"clear\",\"misty\",\"clear\",\"clear\",\"clear\",\"clear\",\"clear\",\"clear\",\"clear\",\"misty\",\"clear\",\"clear\",\"clear\",\"clear\",\"misty\",\"clear\",\"misty\",\"misty\",\"clear\",\"clear\",\"clear\",\"clear\",\"misty\",\"clear\",\"clear\",\"misty\",\"misty\",\"misty\",\"misty\",\"clear\",\"clear\",\"misty\",\"misty\",\"clear\",\"clear\",\"clear\",\"clear\",\"clear\",\"misty\",\"clear\",\"misty\",\"misty\",\"clear\",\"clear\",\"misty\",\"clear\",\"misty\",\"light_snow\",\"clear\",\"clear\",\"misty\",\"clear\",\"misty\",\"clear\",\"clear\",\"misty\",\"clear\",\"clear\",\"clear\",\"clear\",\"misty\",\"clear\",\"clear\",\"clear\",\"clear\",\"clear\",\"misty\",\"misty\",\"clear\",\"clear\",\"clear\",\"clear\",\"clear\",\"misty\",\"clear\",\"clear\",\"clear\",\"clear\",\"clear\",\"clear\",\"misty\",\"misty\",\"misty\",\"clear\",\"clear\",\"misty\",\"clear\",\"misty\",\"misty\",\"misty\",\"clear\",\"clear\",\"clear\",\"clear\",\"misty\",\"misty\",\"misty\",\"clear\",\"clear\",\"clear\",\"clear\",\"clear\",\"clear\",\"clear\",\"clear\",\"clear\",\"clear\",\"clear\",\"clear\",\"clear\",\"clear\",\"clear\",\"clear\",\"misty\",\"clear\",\"clear\",\"clear\",\"light_snow\",\"misty\",\"clear\",\"clear\",\"misty\",\"clear\",\"misty\",\"clear\",\"misty\",\"misty\",\"clear\",\"misty\",\"clear\",\"misty\",\"misty\",\"misty\",\"misty\",\"misty\",\"clear\",\"clear\",\"clear\",\"clear\",\"misty\",\"misty\",\"clear\",\"clear\",\"clear\",\"clear\",\"clear\",\"misty\",\"misty\",\"misty\",\"clear\",\"clear\",\"clear\",\"clear\",\"clear\",\"clear\",\"misty\",\"clear\",\"misty\",\"clear\",\"clear\",\"clear\",\"misty\",\"clear\",\"clear\",\"clear\",\"clear\",\"clear\",\"misty\",\"misty\",\"clear\",\"clear\",\"clear\",\"clear\",\"clear\",\"misty\",\"clear\",\"clear\",\"clear\",\"clear\",\"clear\",\"clear\",\"clear\",\"clear\",\"clear\",\"clear\",\"clear\",\"clear\",\"clear\",\"clear\",\"clear\",\"clear\",\"clear\",\"clear\",\"clear\",\"clear\",\"misty\",\"misty\",\"clear\",\"clear\",\"misty\",\"misty\",\"clear\",\"clear\",\"clear\",\"clear\",\"clear\",\"misty\",\"light_snow\",\"misty\",\"clear\",\"clear\",\"clear\",\"clear\",\"clear\",\"clear\",\"clear\",\"clear\",\"clear\",\"clear\",\"clear\",\"misty\",\"clear\",\"clear\",\"misty\",\"misty\",\"misty\",\"clear\",\"misty\",\"misty\",\"clear\",\"clear\",\"clear\",\"clear\",\"clear\",\"clear\",\"clear\",\"misty\",\"misty\",\"clear\",\"clear\",\"clear\",\"misty\",\"misty\",\"misty\",\"clear\",\"clear\",\"clear\",\"clear\",\"clear\",\"misty\",\"misty\",\"clear\",\"clear\",\"clear\",\"misty\",\"clear\",\"misty\",\"clear\",\"clear\",\"clear\",\"clear\",\"clear\",\"clear\",\"clear\",\"clear\",\"misty\",\"misty\",\"clear\",\"clear\",\"clear\",\"clear\",\"clear\",\"clear\",\"clear\",\"clear\",\"misty\",\"misty\",\"clear\",\"clear\",\"misty\",\"light_snow\",\"misty\",\"misty\",\"clear\",\"clear\",\"misty\",\"misty\",\"misty\",\"clear\",\"clear\",\"clear\",\"clear\",\"clear\",\"misty\",\"clear\",\"clear\",\"misty\",\"misty\",\"clear\",\"clear\",\"clear\",\"clear\",\"clear\",\"misty\",\"misty\",\"misty\",\"misty\",\"light_snow\",\"misty\",\"misty\",\"misty\",\"clear\",\"misty\",\"clear\",\"clear\",\"clear\",\"misty\",\"clear\",\"clear\",\"clear\",\"clear\",\"clear\",\"misty\",\"clear\",\"misty\",\"clear\",\"clear\",\"clear\",\"misty\",\"misty\",\"clear\",\"clear\",\"clear\",\"clear\",\"clear\",\"clear\",\"misty\",\"clear\",\"clear\",\"clear\",\"misty\",\"misty\",\"clear\",\"clear\",\"clear\",\"clear\",\"misty\",\"misty\",\"misty\",\"misty\",\"misty\",\"misty\",\"clear\",\"clear\",\"clear\",\"misty\",\"misty\",\"clear\",\"clear\",\"misty\",\"misty\",\"clear\",\"clear\",\"misty\",\"misty\",\"light_snow\",\"misty\",\"misty\",\"misty\",\"clear\",\"misty\"],\"xaxis\":\"x\",\"yaxis\":\"y\",\"type\":\"histogram\"}],                        {\"template\":{\"data\":{\"histogram2dcontour\":[{\"type\":\"histogram2dcontour\",\"colorbar\":{\"outlinewidth\":0,\"ticks\":\"\"},\"colorscale\":[[0.0,\"#0d0887\"],[0.1111111111111111,\"#46039f\"],[0.2222222222222222,\"#7201a8\"],[0.3333333333333333,\"#9c179e\"],[0.4444444444444444,\"#bd3786\"],[0.5555555555555556,\"#d8576b\"],[0.6666666666666666,\"#ed7953\"],[0.7777777777777778,\"#fb9f3a\"],[0.8888888888888888,\"#fdca26\"],[1.0,\"#f0f921\"]]}],\"choropleth\":[{\"type\":\"choropleth\",\"colorbar\":{\"outlinewidth\":0,\"ticks\":\"\"}}],\"histogram2d\":[{\"type\":\"histogram2d\",\"colorbar\":{\"outlinewidth\":0,\"ticks\":\"\"},\"colorscale\":[[0.0,\"#0d0887\"],[0.1111111111111111,\"#46039f\"],[0.2222222222222222,\"#7201a8\"],[0.3333333333333333,\"#9c179e\"],[0.4444444444444444,\"#bd3786\"],[0.5555555555555556,\"#d8576b\"],[0.6666666666666666,\"#ed7953\"],[0.7777777777777778,\"#fb9f3a\"],[0.8888888888888888,\"#fdca26\"],[1.0,\"#f0f921\"]]}],\"heatmap\":[{\"type\":\"heatmap\",\"colorbar\":{\"outlinewidth\":0,\"ticks\":\"\"},\"colorscale\":[[0.0,\"#0d0887\"],[0.1111111111111111,\"#46039f\"],[0.2222222222222222,\"#7201a8\"],[0.3333333333333333,\"#9c179e\"],[0.4444444444444444,\"#bd3786\"],[0.5555555555555556,\"#d8576b\"],[0.6666666666666666,\"#ed7953\"],[0.7777777777777778,\"#fb9f3a\"],[0.8888888888888888,\"#fdca26\"],[1.0,\"#f0f921\"]]}],\"heatmapgl\":[{\"type\":\"heatmapgl\",\"colorbar\":{\"outlinewidth\":0,\"ticks\":\"\"},\"colorscale\":[[0.0,\"#0d0887\"],[0.1111111111111111,\"#46039f\"],[0.2222222222222222,\"#7201a8\"],[0.3333333333333333,\"#9c179e\"],[0.4444444444444444,\"#bd3786\"],[0.5555555555555556,\"#d8576b\"],[0.6666666666666666,\"#ed7953\"],[0.7777777777777778,\"#fb9f3a\"],[0.8888888888888888,\"#fdca26\"],[1.0,\"#f0f921\"]]}],\"contourcarpet\":[{\"type\":\"contourcarpet\",\"colorbar\":{\"outlinewidth\":0,\"ticks\":\"\"}}],\"contour\":[{\"type\":\"contour\",\"colorbar\":{\"outlinewidth\":0,\"ticks\":\"\"},\"colorscale\":[[0.0,\"#0d0887\"],[0.1111111111111111,\"#46039f\"],[0.2222222222222222,\"#7201a8\"],[0.3333333333333333,\"#9c179e\"],[0.4444444444444444,\"#bd3786\"],[0.5555555555555556,\"#d8576b\"],[0.6666666666666666,\"#ed7953\"],[0.7777777777777778,\"#fb9f3a\"],[0.8888888888888888,\"#fdca26\"],[1.0,\"#f0f921\"]]}],\"surface\":[{\"type\":\"surface\",\"colorbar\":{\"outlinewidth\":0,\"ticks\":\"\"},\"colorscale\":[[0.0,\"#0d0887\"],[0.1111111111111111,\"#46039f\"],[0.2222222222222222,\"#7201a8\"],[0.3333333333333333,\"#9c179e\"],[0.4444444444444444,\"#bd3786\"],[0.5555555555555556,\"#d8576b\"],[0.6666666666666666,\"#ed7953\"],[0.7777777777777778,\"#fb9f3a\"],[0.8888888888888888,\"#fdca26\"],[1.0,\"#f0f921\"]]}],\"mesh3d\":[{\"type\":\"mesh3d\",\"colorbar\":{\"outlinewidth\":0,\"ticks\":\"\"}}],\"scatter\":[{\"fillpattern\":{\"fillmode\":\"overlay\",\"size\":10,\"solidity\":0.2},\"type\":\"scatter\"}],\"parcoords\":[{\"type\":\"parcoords\",\"line\":{\"colorbar\":{\"outlinewidth\":0,\"ticks\":\"\"}}}],\"scatterpolargl\":[{\"type\":\"scatterpolargl\",\"marker\":{\"colorbar\":{\"outlinewidth\":0,\"ticks\":\"\"}}}],\"bar\":[{\"error_x\":{\"color\":\"#2a3f5f\"},\"error_y\":{\"color\":\"#2a3f5f\"},\"marker\":{\"line\":{\"color\":\"#E5ECF6\",\"width\":0.5},\"pattern\":{\"fillmode\":\"overlay\",\"size\":10,\"solidity\":0.2}},\"type\":\"bar\"}],\"scattergeo\":[{\"type\":\"scattergeo\",\"marker\":{\"colorbar\":{\"outlinewidth\":0,\"ticks\":\"\"}}}],\"scatterpolar\":[{\"type\":\"scatterpolar\",\"marker\":{\"colorbar\":{\"outlinewidth\":0,\"ticks\":\"\"}}}],\"histogram\":[{\"marker\":{\"pattern\":{\"fillmode\":\"overlay\",\"size\":10,\"solidity\":0.2}},\"type\":\"histogram\"}],\"scattergl\":[{\"type\":\"scattergl\",\"marker\":{\"colorbar\":{\"outlinewidth\":0,\"ticks\":\"\"}}}],\"scatter3d\":[{\"type\":\"scatter3d\",\"line\":{\"colorbar\":{\"outlinewidth\":0,\"ticks\":\"\"}},\"marker\":{\"colorbar\":{\"outlinewidth\":0,\"ticks\":\"\"}}}],\"scattermapbox\":[{\"type\":\"scattermapbox\",\"marker\":{\"colorbar\":{\"outlinewidth\":0,\"ticks\":\"\"}}}],\"scatterternary\":[{\"type\":\"scatterternary\",\"marker\":{\"colorbar\":{\"outlinewidth\":0,\"ticks\":\"\"}}}],\"scattercarpet\":[{\"type\":\"scattercarpet\",\"marker\":{\"colorbar\":{\"outlinewidth\":0,\"ticks\":\"\"}}}],\"carpet\":[{\"aaxis\":{\"endlinecolor\":\"#2a3f5f\",\"gridcolor\":\"white\",\"linecolor\":\"white\",\"minorgridcolor\":\"white\",\"startlinecolor\":\"#2a3f5f\"},\"baxis\":{\"endlinecolor\":\"#2a3f5f\",\"gridcolor\":\"white\",\"linecolor\":\"white\",\"minorgridcolor\":\"white\",\"startlinecolor\":\"#2a3f5f\"},\"type\":\"carpet\"}],\"table\":[{\"cells\":{\"fill\":{\"color\":\"#EBF0F8\"},\"line\":{\"color\":\"white\"}},\"header\":{\"fill\":{\"color\":\"#C8D4E3\"},\"line\":{\"color\":\"white\"}},\"type\":\"table\"}],\"barpolar\":[{\"marker\":{\"line\":{\"color\":\"#E5ECF6\",\"width\":0.5},\"pattern\":{\"fillmode\":\"overlay\",\"size\":10,\"solidity\":0.2}},\"type\":\"barpolar\"}],\"pie\":[{\"automargin\":true,\"type\":\"pie\"}]},\"layout\":{\"autotypenumbers\":\"strict\",\"colorway\":[\"#636efa\",\"#EF553B\",\"#00cc96\",\"#ab63fa\",\"#FFA15A\",\"#19d3f3\",\"#FF6692\",\"#B6E880\",\"#FF97FF\",\"#FECB52\"],\"font\":{\"color\":\"#2a3f5f\"},\"hovermode\":\"closest\",\"hoverlabel\":{\"align\":\"left\"},\"paper_bgcolor\":\"white\",\"plot_bgcolor\":\"#E5ECF6\",\"polar\":{\"bgcolor\":\"#E5ECF6\",\"angularaxis\":{\"gridcolor\":\"white\",\"linecolor\":\"white\",\"ticks\":\"\"},\"radialaxis\":{\"gridcolor\":\"white\",\"linecolor\":\"white\",\"ticks\":\"\"}},\"ternary\":{\"bgcolor\":\"#E5ECF6\",\"aaxis\":{\"gridcolor\":\"white\",\"linecolor\":\"white\",\"ticks\":\"\"},\"baxis\":{\"gridcolor\":\"white\",\"linecolor\":\"white\",\"ticks\":\"\"},\"caxis\":{\"gridcolor\":\"white\",\"linecolor\":\"white\",\"ticks\":\"\"}},\"coloraxis\":{\"colorbar\":{\"outlinewidth\":0,\"ticks\":\"\"}},\"colorscale\":{\"sequential\":[[0.0,\"#0d0887\"],[0.1111111111111111,\"#46039f\"],[0.2222222222222222,\"#7201a8\"],[0.3333333333333333,\"#9c179e\"],[0.4444444444444444,\"#bd3786\"],[0.5555555555555556,\"#d8576b\"],[0.6666666666666666,\"#ed7953\"],[0.7777777777777778,\"#fb9f3a\"],[0.8888888888888888,\"#fdca26\"],[1.0,\"#f0f921\"]],\"sequentialminus\":[[0.0,\"#0d0887\"],[0.1111111111111111,\"#46039f\"],[0.2222222222222222,\"#7201a8\"],[0.3333333333333333,\"#9c179e\"],[0.4444444444444444,\"#bd3786\"],[0.5555555555555556,\"#d8576b\"],[0.6666666666666666,\"#ed7953\"],[0.7777777777777778,\"#fb9f3a\"],[0.8888888888888888,\"#fdca26\"],[1.0,\"#f0f921\"]],\"diverging\":[[0,\"#8e0152\"],[0.1,\"#c51b7d\"],[0.2,\"#de77ae\"],[0.3,\"#f1b6da\"],[0.4,\"#fde0ef\"],[0.5,\"#f7f7f7\"],[0.6,\"#e6f5d0\"],[0.7,\"#b8e186\"],[0.8,\"#7fbc41\"],[0.9,\"#4d9221\"],[1,\"#276419\"]]},\"xaxis\":{\"gridcolor\":\"white\",\"linecolor\":\"white\",\"ticks\":\"\",\"title\":{\"standoff\":15},\"zerolinecolor\":\"white\",\"automargin\":true,\"zerolinewidth\":2},\"yaxis\":{\"gridcolor\":\"white\",\"linecolor\":\"white\",\"ticks\":\"\",\"title\":{\"standoff\":15},\"zerolinecolor\":\"white\",\"automargin\":true,\"zerolinewidth\":2},\"scene\":{\"xaxis\":{\"backgroundcolor\":\"#E5ECF6\",\"gridcolor\":\"white\",\"linecolor\":\"white\",\"showbackground\":true,\"ticks\":\"\",\"zerolinecolor\":\"white\",\"gridwidth\":2},\"yaxis\":{\"backgroundcolor\":\"#E5ECF6\",\"gridcolor\":\"white\",\"linecolor\":\"white\",\"showbackground\":true,\"ticks\":\"\",\"zerolinecolor\":\"white\",\"gridwidth\":2},\"zaxis\":{\"backgroundcolor\":\"#E5ECF6\",\"gridcolor\":\"white\",\"linecolor\":\"white\",\"showbackground\":true,\"ticks\":\"\",\"zerolinecolor\":\"white\",\"gridwidth\":2}},\"shapedefaults\":{\"line\":{\"color\":\"#2a3f5f\"}},\"annotationdefaults\":{\"arrowcolor\":\"#2a3f5f\",\"arrowhead\":0,\"arrowwidth\":1},\"geo\":{\"bgcolor\":\"white\",\"landcolor\":\"#E5ECF6\",\"subunitcolor\":\"white\",\"showland\":true,\"showlakes\":true,\"lakecolor\":\"white\"},\"title\":{\"x\":0.05},\"mapbox\":{\"style\":\"light\"}}},\"xaxis\":{\"anchor\":\"y\",\"domain\":[0.0,1.0],\"title\":{\"text\":\"weathersit\"}},\"yaxis\":{\"anchor\":\"x\",\"domain\":[0.0,1.0],\"title\":{\"text\":\"count\"}},\"legend\":{\"tracegroupgap\":0},\"title\":{\"text\":\"Histogram of values for weathersit\"},\"barmode\":\"relative\"},                        {\"responsive\": true}                    ).then(function(){\n                            \nvar gd = document.getElementById('b8124d5a-825e-4a7a-83f9-4aae1c9fbaf9');\nvar x = new MutationObserver(function (mutations, observer) {{\n        var display = window.getComputedStyle(gd).display;\n        if (!display || display === 'none') {{\n            console.log([gd, 'removed!']);\n            Plotly.purge(gd);\n            observer.disconnect();\n        }}\n}});\n\n// Listen for the removal of the full notebook cells\nvar notebookContainer = gd.closest('#notebook-container');\nif (notebookContainer) {{\n    x.observe(notebookContainer, {childList: true});\n}}\n\n// Listen for the clearing of the current output cell\nvar outputEl = gd.closest('.output');\nif (outputEl) {{\n    x.observe(outputEl, {childList: true});\n}}\n\n                        })                };                            </script>        </div>\n</body>\n</html>"
     },
     "metadata": {},
     "output_type": "display_data"
    },
    {
     "data": {
      "text/html": "<html>\n<head><meta charset=\"utf-8\" /></head>\n<body>\n    <div>            <script src=\"https://cdnjs.cloudflare.com/ajax/libs/mathjax/2.7.5/MathJax.js?config=TeX-AMS-MML_SVG\"></script><script type=\"text/javascript\">if (window.MathJax && window.MathJax.Hub && window.MathJax.Hub.Config) {window.MathJax.Hub.Config({SVG: {font: \"STIX-Web\"}});}</script>                <script type=\"text/javascript\">window.PlotlyConfig = {MathJaxConfig: 'local'};</script>\n        <script src=\"https://cdn.plot.ly/plotly-2.14.0.min.js\"></script>                <div id=\"d11c5075-b147-4830-9245-cfba3e01e9a0\" class=\"plotly-graph-div\" style=\"height:525px; width:100%;\"></div>            <script type=\"text/javascript\">                                    window.PLOTLYENV=window.PLOTLYENV || {};                                    if (document.getElementById(\"d11c5075-b147-4830-9245-cfba3e01e9a0\")) {                    Plotly.newPlot(                        \"d11c5075-b147-4830-9245-cfba3e01e9a0\",                        [{\"alignmentgroup\":\"True\",\"hovertemplate\":\"weathersit=%{x}<br>cnt=%{y}<extra></extra>\",\"legendgroup\":\"\",\"marker\":{\"color\":\"#636efa\"},\"name\":\"\",\"notched\":false,\"offsetgroup\":\"\",\"orientation\":\"v\",\"showlegend\":false,\"x\":[\"misty\",\"misty\",\"clear\",\"clear\",\"clear\",\"clear\",\"misty\",\"misty\",\"clear\",\"clear\",\"misty\",\"clear\",\"clear\",\"clear\",\"misty\",\"clear\",\"misty\",\"misty\",\"misty\",\"misty\",\"clear\",\"clear\",\"clear\",\"clear\",\"misty\",\"light_snow\",\"clear\",\"misty\",\"clear\",\"clear\",\"misty\",\"misty\",\"misty\",\"clear\",\"misty\",\"misty\",\"clear\",\"clear\",\"clear\",\"misty\",\"clear\",\"clear\",\"clear\",\"clear\",\"clear\",\"clear\",\"clear\",\"clear\",\"clear\",\"clear\",\"clear\",\"misty\",\"clear\",\"clear\",\"misty\",\"misty\",\"clear\",\"clear\",\"misty\",\"clear\",\"clear\",\"clear\",\"misty\",\"misty\",\"misty\",\"clear\",\"clear\",\"misty\",\"light_snow\",\"misty\",\"clear\",\"clear\",\"clear\",\"misty\",\"misty\",\"clear\",\"clear\",\"clear\",\"clear\",\"misty\",\"clear\",\"misty\",\"misty\",\"clear\",\"clear\",\"misty\",\"clear\",\"clear\",\"misty\",\"light_snow\",\"misty\",\"misty\",\"clear\",\"clear\",\"misty\",\"clear\",\"clear\",\"misty\",\"misty\",\"misty\",\"misty\",\"misty\",\"misty\",\"clear\",\"clear\",\"light_snow\",\"clear\",\"clear\",\"misty\",\"clear\",\"clear\",\"misty\",\"misty\",\"misty\",\"clear\",\"clear\",\"misty\",\"misty\",\"clear\",\"clear\",\"misty\",\"misty\",\"misty\",\"misty\",\"clear\",\"clear\",\"clear\",\"clear\",\"clear\",\"clear\",\"clear\",\"clear\",\"misty\",\"misty\",\"misty\",\"clear\",\"misty\",\"misty\",\"misty\",\"clear\",\"clear\",\"clear\",\"misty\",\"misty\",\"clear\",\"clear\",\"clear\",\"clear\",\"clear\",\"clear\",\"clear\",\"misty\",\"clear\",\"clear\",\"clear\",\"misty\",\"clear\",\"clear\",\"clear\",\"misty\",\"clear\",\"clear\",\"clear\",\"clear\",\"clear\",\"clear\",\"misty\",\"clear\",\"clear\",\"misty\",\"misty\",\"misty\",\"clear\",\"misty\",\"clear\",\"clear\",\"clear\",\"misty\",\"clear\",\"clear\",\"clear\",\"clear\",\"clear\",\"misty\",\"misty\",\"clear\",\"clear\",\"clear\",\"misty\",\"clear\",\"clear\",\"clear\",\"clear\",\"clear\",\"clear\",\"clear\",\"clear\",\"clear\",\"clear\",\"clear\",\"clear\",\"misty\",\"clear\",\"clear\",\"clear\",\"clear\",\"clear\",\"clear\",\"clear\",\"clear\",\"clear\",\"clear\",\"clear\",\"clear\",\"misty\",\"misty\",\"clear\",\"misty\",\"clear\",\"clear\",\"clear\",\"clear\",\"clear\",\"clear\",\"misty\",\"misty\",\"clear\",\"clear\",\"clear\",\"clear\",\"misty\",\"clear\",\"clear\",\"clear\",\"clear\",\"clear\",\"misty\",\"clear\",\"misty\",\"clear\",\"clear\",\"clear\",\"clear\",\"clear\",\"misty\",\"clear\",\"clear\",\"misty\",\"light_snow\",\"light_snow\",\"light_snow\",\"misty\",\"clear\",\"clear\",\"clear\",\"clear\",\"clear\",\"misty\",\"misty\",\"misty\",\"clear\",\"misty\",\"misty\",\"misty\",\"misty\",\"misty\",\"misty\",\"misty\",\"misty\",\"misty\",\"misty\",\"clear\",\"clear\",\"misty\",\"misty\",\"misty\",\"clear\",\"clear\",\"clear\",\"clear\",\"clear\",\"clear\",\"clear\",\"misty\",\"light_snow\",\"misty\",\"misty\",\"clear\",\"clear\",\"clear\",\"misty\",\"light_snow\",\"clear\",\"clear\",\"clear\",\"clear\",\"clear\",\"clear\",\"misty\",\"misty\",\"misty\",\"light_snow\",\"clear\",\"clear\",\"clear\",\"clear\",\"clear\",\"misty\",\"clear\",\"clear\",\"clear\",\"clear\",\"clear\",\"misty\",\"clear\",\"clear\",\"clear\",\"clear\",\"misty\",\"light_snow\",\"misty\",\"clear\",\"clear\",\"misty\",\"light_snow\",\"light_snow\",\"misty\",\"clear\",\"clear\",\"clear\",\"clear\",\"clear\",\"misty\",\"clear\",\"clear\",\"clear\",\"clear\",\"clear\",\"misty\",\"light_snow\",\"light_snow\",\"clear\",\"clear\",\"clear\",\"clear\",\"clear\",\"clear\",\"misty\",\"misty\",\"misty\",\"misty\",\"clear\",\"clear\",\"misty\",\"misty\",\"misty\",\"clear\",\"clear\",\"clear\",\"clear\",\"misty\",\"clear\",\"clear\",\"clear\",\"clear\",\"clear\",\"clear\",\"clear\",\"misty\",\"clear\",\"clear\",\"clear\",\"clear\",\"misty\",\"clear\",\"misty\",\"misty\",\"clear\",\"clear\",\"clear\",\"clear\",\"misty\",\"clear\",\"clear\",\"misty\",\"misty\",\"misty\",\"misty\",\"clear\",\"clear\",\"misty\",\"misty\",\"clear\",\"clear\",\"clear\",\"clear\",\"clear\",\"misty\",\"clear\",\"misty\",\"misty\",\"clear\",\"clear\",\"misty\",\"clear\",\"misty\",\"light_snow\",\"clear\",\"clear\",\"misty\",\"clear\",\"misty\",\"clear\",\"clear\",\"misty\",\"clear\",\"clear\",\"clear\",\"clear\",\"misty\",\"clear\",\"clear\",\"clear\",\"clear\",\"clear\",\"misty\",\"misty\",\"clear\",\"clear\",\"clear\",\"clear\",\"clear\",\"misty\",\"clear\",\"clear\",\"clear\",\"clear\",\"clear\",\"clear\",\"misty\",\"misty\",\"misty\",\"clear\",\"clear\",\"misty\",\"clear\",\"misty\",\"misty\",\"misty\",\"clear\",\"clear\",\"clear\",\"clear\",\"misty\",\"misty\",\"misty\",\"clear\",\"clear\",\"clear\",\"clear\",\"clear\",\"clear\",\"clear\",\"clear\",\"clear\",\"clear\",\"clear\",\"clear\",\"clear\",\"clear\",\"clear\",\"clear\",\"misty\",\"clear\",\"clear\",\"clear\",\"light_snow\",\"misty\",\"clear\",\"clear\",\"misty\",\"clear\",\"misty\",\"clear\",\"misty\",\"misty\",\"clear\",\"misty\",\"clear\",\"misty\",\"misty\",\"misty\",\"misty\",\"misty\",\"clear\",\"clear\",\"clear\",\"clear\",\"misty\",\"misty\",\"clear\",\"clear\",\"clear\",\"clear\",\"clear\",\"misty\",\"misty\",\"misty\",\"clear\",\"clear\",\"clear\",\"clear\",\"clear\",\"clear\",\"misty\",\"clear\",\"misty\",\"clear\",\"clear\",\"clear\",\"misty\",\"clear\",\"clear\",\"clear\",\"clear\",\"clear\",\"misty\",\"misty\",\"clear\",\"clear\",\"clear\",\"clear\",\"clear\",\"misty\",\"clear\",\"clear\",\"clear\",\"clear\",\"clear\",\"clear\",\"clear\",\"clear\",\"clear\",\"clear\",\"clear\",\"clear\",\"clear\",\"clear\",\"clear\",\"clear\",\"clear\",\"clear\",\"clear\",\"clear\",\"misty\",\"misty\",\"clear\",\"clear\",\"misty\",\"misty\",\"clear\",\"clear\",\"clear\",\"clear\",\"clear\",\"misty\",\"light_snow\",\"misty\",\"clear\",\"clear\",\"clear\",\"clear\",\"clear\",\"clear\",\"clear\",\"clear\",\"clear\",\"clear\",\"clear\",\"misty\",\"clear\",\"clear\",\"misty\",\"misty\",\"misty\",\"clear\",\"misty\",\"misty\",\"clear\",\"clear\",\"clear\",\"clear\",\"clear\",\"clear\",\"clear\",\"misty\",\"misty\",\"clear\",\"clear\",\"clear\",\"misty\",\"misty\",\"misty\",\"clear\",\"clear\",\"clear\",\"clear\",\"clear\",\"misty\",\"misty\",\"clear\",\"clear\",\"clear\",\"misty\",\"clear\",\"misty\",\"clear\",\"clear\",\"clear\",\"clear\",\"clear\",\"clear\",\"clear\",\"clear\",\"misty\",\"misty\",\"clear\",\"clear\",\"clear\",\"clear\",\"clear\",\"clear\",\"clear\",\"clear\",\"misty\",\"misty\",\"clear\",\"clear\",\"misty\",\"light_snow\",\"misty\",\"misty\",\"clear\",\"clear\",\"misty\",\"misty\",\"misty\",\"clear\",\"clear\",\"clear\",\"clear\",\"clear\",\"misty\",\"clear\",\"clear\",\"misty\",\"misty\",\"clear\",\"clear\",\"clear\",\"clear\",\"clear\",\"misty\",\"misty\",\"misty\",\"misty\",\"light_snow\",\"misty\",\"misty\",\"misty\",\"clear\",\"misty\",\"clear\",\"clear\",\"clear\",\"misty\",\"clear\",\"clear\",\"clear\",\"clear\",\"clear\",\"misty\",\"clear\",\"misty\",\"clear\",\"clear\",\"clear\",\"misty\",\"misty\",\"clear\",\"clear\",\"clear\",\"clear\",\"clear\",\"clear\",\"misty\",\"clear\",\"clear\",\"clear\",\"misty\",\"misty\",\"clear\",\"clear\",\"clear\",\"clear\",\"misty\",\"misty\",\"misty\",\"misty\",\"misty\",\"misty\",\"clear\",\"clear\",\"clear\",\"misty\",\"misty\",\"clear\",\"clear\",\"misty\",\"misty\",\"clear\",\"clear\",\"misty\",\"misty\",\"light_snow\",\"misty\",\"misty\",\"misty\",\"clear\",\"misty\"],\"x0\":\" \",\"xaxis\":\"x\",\"y\":[985,801,1349,1562,1600,1606,1510,959,822,1321,1263,1162,1406,1421,1248,1204,1000,683,1650,1927,1543,981,986,1416,1985,506,431,1167,1098,1096,1501,1360,1526,1550,1708,1005,1623,1712,1530,1605,1538,1746,1472,1589,1913,1815,2115,2475,2927,1635,1812,1107,1450,1917,1807,1461,1969,2402,1446,1851,2134,1685,1944,2077,605,1872,2133,1891,623,1977,2132,2417,2046,2056,2192,2744,3239,3117,2471,2077,2703,2121,1865,2210,2496,1693,2028,2425,1536,1685,2227,2252,3249,3115,1795,2808,3141,1471,2455,2895,3348,2034,2162,3267,3126,795,3744,3429,3204,3944,4189,1683,4036,4191,4073,4400,3872,4058,4595,5312,3351,4401,4451,2633,4433,4608,4714,4333,4362,4803,4182,4864,4105,3409,4553,3958,4123,3855,4575,4917,5805,4660,4274,4492,4978,4677,4679,4758,4788,4098,3982,3974,4968,5312,5342,4906,4548,4833,4401,3915,4586,4966,4460,5020,4891,5180,3767,4844,5119,4744,4010,4835,4507,4790,4991,5202,5305,4708,4648,5225,5515,5362,5119,4649,6043,4665,4629,4592,4040,5336,4881,4086,4258,4342,5084,5538,5923,5302,4458,4541,4332,3784,3387,3285,3606,3840,4590,4656,4390,3846,4475,4302,4266,4845,3574,4576,4866,4294,3785,4326,4602,4780,4792,4905,4150,3820,4338,4725,4694,3805,4153,5191,3873,4758,5895,5130,3542,4661,1115,4334,4634,5204,5058,5115,4727,4484,4940,3351,2710,1996,1842,3544,5345,5046,4713,4763,4785,3659,4760,4511,4274,4539,3641,4352,4795,2395,5423,5010,4630,4120,3907,4839,5202,2429,2918,3570,4456,4826,4765,4985,5409,5511,5117,4563,2416,2913,3644,5217,5041,4570,4748,2424,4195,4304,4308,4381,4187,4687,3894,2659,3747,627,3331,3669,4068,4186,3974,4046,3926,3649,4035,4205,4109,2933,3368,4067,3717,4486,4195,1817,3053,3392,3663,3520,2765,1607,2566,1495,2792,3068,3071,3867,2914,3613,3727,3940,3614,3485,3811,2594,705,3322,3620,3190,2743,3310,3523,3740,3709,3577,2739,2431,3403,3750,2660,3068,2209,1011,754,1317,1162,2302,2423,2999,2485,2294,1951,2236,2368,3272,4098,4521,3425,2376,3598,2177,4097,3214,2493,2311,2298,2935,3376,3292,3163,1301,1977,2432,4339,4270,4075,3456,4023,3243,3624,4509,4579,3761,4151,2832,2947,3784,4375,2802,3830,3831,2169,1529,3422,3922,4169,3005,4154,4318,2689,3129,3777,4773,5062,3487,2732,3389,4322,4363,4990,3194,4066,3423,3333,3956,4916,5382,4569,4118,4911,5298,5847,6312,6192,4378,7836,5892,6153,6093,6230,6871,8362,3372,4996,5558,5102,5698,6133,5459,6235,6041,5936,6772,6436,6457,6460,6857,5169,5585,5918,4862,5409,6398,7460,7132,6370,6691,4367,6565,7290,6624,1027,3214,5633,6196,5026,6233,4220,6304,5572,5740,6169,6421,6296,6883,6359,6273,5728,4717,6572,7030,7429,6118,2843,5115,7424,7384,7639,8294,7129,4359,6073,5260,6770,6734,6536,6591,6043,5743,6855,7338,4127,8120,7641,6998,7001,7055,7494,7736,7498,6598,6664,4972,7421,7363,7665,7702,6978,5099,6825,6211,5905,5823,7458,6891,6779,7442,7335,6879,5463,5687,5531,6227,6660,7403,6241,6207,4840,4672,6569,6290,7264,7446,7499,6969,6031,6830,6786,5713,6591,5870,4459,7410,6966,7592,8173,6861,6904,6685,6597,7105,7216,7580,7261,7175,6824,5464,7013,7273,7534,7286,5786,6299,6544,6883,6784,7347,7605,7148,7865,4549,6530,7006,7375,7765,7582,6053,5255,6917,7040,7697,7713,7350,6140,5810,6034,6864,7112,6203,7504,5976,8227,7525,7767,7870,7804,8009,8714,7333,6869,4073,7591,7720,8167,8395,7907,7436,7538,7733,7393,7415,8555,6889,6778,4639,7572,7328,8156,7965,3510,5478,6392,7691,7570,7282,7109,6639,5875,7534,7461,7509,5424,8090,6824,7058,7466,7693,7359,7444,7852,4459,22,1096,5566,5986,5847,5138,5107,5259,5686,5035,5315,5992,6536,6852,6269,4094,5495,5445,5698,5629,4669,5499,5634,5146,2425,3910,2277,2424,5087,3959,5260,5323,5668,5191,4649,6234,6606,5729,5375,5008,5582,3228,5170,5501,5319,5532,5611,5047,3786,4585,5557,5267,4128,3623,1749,1787,920,1013,441,2114,3095,1341,1796,2729],\"y0\":\" \",\"yaxis\":\"y\",\"type\":\"box\"}],                        {\"template\":{\"data\":{\"histogram2dcontour\":[{\"type\":\"histogram2dcontour\",\"colorbar\":{\"outlinewidth\":0,\"ticks\":\"\"},\"colorscale\":[[0.0,\"#0d0887\"],[0.1111111111111111,\"#46039f\"],[0.2222222222222222,\"#7201a8\"],[0.3333333333333333,\"#9c179e\"],[0.4444444444444444,\"#bd3786\"],[0.5555555555555556,\"#d8576b\"],[0.6666666666666666,\"#ed7953\"],[0.7777777777777778,\"#fb9f3a\"],[0.8888888888888888,\"#fdca26\"],[1.0,\"#f0f921\"]]}],\"choropleth\":[{\"type\":\"choropleth\",\"colorbar\":{\"outlinewidth\":0,\"ticks\":\"\"}}],\"histogram2d\":[{\"type\":\"histogram2d\",\"colorbar\":{\"outlinewidth\":0,\"ticks\":\"\"},\"colorscale\":[[0.0,\"#0d0887\"],[0.1111111111111111,\"#46039f\"],[0.2222222222222222,\"#7201a8\"],[0.3333333333333333,\"#9c179e\"],[0.4444444444444444,\"#bd3786\"],[0.5555555555555556,\"#d8576b\"],[0.6666666666666666,\"#ed7953\"],[0.7777777777777778,\"#fb9f3a\"],[0.8888888888888888,\"#fdca26\"],[1.0,\"#f0f921\"]]}],\"heatmap\":[{\"type\":\"heatmap\",\"colorbar\":{\"outlinewidth\":0,\"ticks\":\"\"},\"colorscale\":[[0.0,\"#0d0887\"],[0.1111111111111111,\"#46039f\"],[0.2222222222222222,\"#7201a8\"],[0.3333333333333333,\"#9c179e\"],[0.4444444444444444,\"#bd3786\"],[0.5555555555555556,\"#d8576b\"],[0.6666666666666666,\"#ed7953\"],[0.7777777777777778,\"#fb9f3a\"],[0.8888888888888888,\"#fdca26\"],[1.0,\"#f0f921\"]]}],\"heatmapgl\":[{\"type\":\"heatmapgl\",\"colorbar\":{\"outlinewidth\":0,\"ticks\":\"\"},\"colorscale\":[[0.0,\"#0d0887\"],[0.1111111111111111,\"#46039f\"],[0.2222222222222222,\"#7201a8\"],[0.3333333333333333,\"#9c179e\"],[0.4444444444444444,\"#bd3786\"],[0.5555555555555556,\"#d8576b\"],[0.6666666666666666,\"#ed7953\"],[0.7777777777777778,\"#fb9f3a\"],[0.8888888888888888,\"#fdca26\"],[1.0,\"#f0f921\"]]}],\"contourcarpet\":[{\"type\":\"contourcarpet\",\"colorbar\":{\"outlinewidth\":0,\"ticks\":\"\"}}],\"contour\":[{\"type\":\"contour\",\"colorbar\":{\"outlinewidth\":0,\"ticks\":\"\"},\"colorscale\":[[0.0,\"#0d0887\"],[0.1111111111111111,\"#46039f\"],[0.2222222222222222,\"#7201a8\"],[0.3333333333333333,\"#9c179e\"],[0.4444444444444444,\"#bd3786\"],[0.5555555555555556,\"#d8576b\"],[0.6666666666666666,\"#ed7953\"],[0.7777777777777778,\"#fb9f3a\"],[0.8888888888888888,\"#fdca26\"],[1.0,\"#f0f921\"]]}],\"surface\":[{\"type\":\"surface\",\"colorbar\":{\"outlinewidth\":0,\"ticks\":\"\"},\"colorscale\":[[0.0,\"#0d0887\"],[0.1111111111111111,\"#46039f\"],[0.2222222222222222,\"#7201a8\"],[0.3333333333333333,\"#9c179e\"],[0.4444444444444444,\"#bd3786\"],[0.5555555555555556,\"#d8576b\"],[0.6666666666666666,\"#ed7953\"],[0.7777777777777778,\"#fb9f3a\"],[0.8888888888888888,\"#fdca26\"],[1.0,\"#f0f921\"]]}],\"mesh3d\":[{\"type\":\"mesh3d\",\"colorbar\":{\"outlinewidth\":0,\"ticks\":\"\"}}],\"scatter\":[{\"fillpattern\":{\"fillmode\":\"overlay\",\"size\":10,\"solidity\":0.2},\"type\":\"scatter\"}],\"parcoords\":[{\"type\":\"parcoords\",\"line\":{\"colorbar\":{\"outlinewidth\":0,\"ticks\":\"\"}}}],\"scatterpolargl\":[{\"type\":\"scatterpolargl\",\"marker\":{\"colorbar\":{\"outlinewidth\":0,\"ticks\":\"\"}}}],\"bar\":[{\"error_x\":{\"color\":\"#2a3f5f\"},\"error_y\":{\"color\":\"#2a3f5f\"},\"marker\":{\"line\":{\"color\":\"#E5ECF6\",\"width\":0.5},\"pattern\":{\"fillmode\":\"overlay\",\"size\":10,\"solidity\":0.2}},\"type\":\"bar\"}],\"scattergeo\":[{\"type\":\"scattergeo\",\"marker\":{\"colorbar\":{\"outlinewidth\":0,\"ticks\":\"\"}}}],\"scatterpolar\":[{\"type\":\"scatterpolar\",\"marker\":{\"colorbar\":{\"outlinewidth\":0,\"ticks\":\"\"}}}],\"histogram\":[{\"marker\":{\"pattern\":{\"fillmode\":\"overlay\",\"size\":10,\"solidity\":0.2}},\"type\":\"histogram\"}],\"scattergl\":[{\"type\":\"scattergl\",\"marker\":{\"colorbar\":{\"outlinewidth\":0,\"ticks\":\"\"}}}],\"scatter3d\":[{\"type\":\"scatter3d\",\"line\":{\"colorbar\":{\"outlinewidth\":0,\"ticks\":\"\"}},\"marker\":{\"colorbar\":{\"outlinewidth\":0,\"ticks\":\"\"}}}],\"scattermapbox\":[{\"type\":\"scattermapbox\",\"marker\":{\"colorbar\":{\"outlinewidth\":0,\"ticks\":\"\"}}}],\"scatterternary\":[{\"type\":\"scatterternary\",\"marker\":{\"colorbar\":{\"outlinewidth\":0,\"ticks\":\"\"}}}],\"scattercarpet\":[{\"type\":\"scattercarpet\",\"marker\":{\"colorbar\":{\"outlinewidth\":0,\"ticks\":\"\"}}}],\"carpet\":[{\"aaxis\":{\"endlinecolor\":\"#2a3f5f\",\"gridcolor\":\"white\",\"linecolor\":\"white\",\"minorgridcolor\":\"white\",\"startlinecolor\":\"#2a3f5f\"},\"baxis\":{\"endlinecolor\":\"#2a3f5f\",\"gridcolor\":\"white\",\"linecolor\":\"white\",\"minorgridcolor\":\"white\",\"startlinecolor\":\"#2a3f5f\"},\"type\":\"carpet\"}],\"table\":[{\"cells\":{\"fill\":{\"color\":\"#EBF0F8\"},\"line\":{\"color\":\"white\"}},\"header\":{\"fill\":{\"color\":\"#C8D4E3\"},\"line\":{\"color\":\"white\"}},\"type\":\"table\"}],\"barpolar\":[{\"marker\":{\"line\":{\"color\":\"#E5ECF6\",\"width\":0.5},\"pattern\":{\"fillmode\":\"overlay\",\"size\":10,\"solidity\":0.2}},\"type\":\"barpolar\"}],\"pie\":[{\"automargin\":true,\"type\":\"pie\"}]},\"layout\":{\"autotypenumbers\":\"strict\",\"colorway\":[\"#636efa\",\"#EF553B\",\"#00cc96\",\"#ab63fa\",\"#FFA15A\",\"#19d3f3\",\"#FF6692\",\"#B6E880\",\"#FF97FF\",\"#FECB52\"],\"font\":{\"color\":\"#2a3f5f\"},\"hovermode\":\"closest\",\"hoverlabel\":{\"align\":\"left\"},\"paper_bgcolor\":\"white\",\"plot_bgcolor\":\"#E5ECF6\",\"polar\":{\"bgcolor\":\"#E5ECF6\",\"angularaxis\":{\"gridcolor\":\"white\",\"linecolor\":\"white\",\"ticks\":\"\"},\"radialaxis\":{\"gridcolor\":\"white\",\"linecolor\":\"white\",\"ticks\":\"\"}},\"ternary\":{\"bgcolor\":\"#E5ECF6\",\"aaxis\":{\"gridcolor\":\"white\",\"linecolor\":\"white\",\"ticks\":\"\"},\"baxis\":{\"gridcolor\":\"white\",\"linecolor\":\"white\",\"ticks\":\"\"},\"caxis\":{\"gridcolor\":\"white\",\"linecolor\":\"white\",\"ticks\":\"\"}},\"coloraxis\":{\"colorbar\":{\"outlinewidth\":0,\"ticks\":\"\"}},\"colorscale\":{\"sequential\":[[0.0,\"#0d0887\"],[0.1111111111111111,\"#46039f\"],[0.2222222222222222,\"#7201a8\"],[0.3333333333333333,\"#9c179e\"],[0.4444444444444444,\"#bd3786\"],[0.5555555555555556,\"#d8576b\"],[0.6666666666666666,\"#ed7953\"],[0.7777777777777778,\"#fb9f3a\"],[0.8888888888888888,\"#fdca26\"],[1.0,\"#f0f921\"]],\"sequentialminus\":[[0.0,\"#0d0887\"],[0.1111111111111111,\"#46039f\"],[0.2222222222222222,\"#7201a8\"],[0.3333333333333333,\"#9c179e\"],[0.4444444444444444,\"#bd3786\"],[0.5555555555555556,\"#d8576b\"],[0.6666666666666666,\"#ed7953\"],[0.7777777777777778,\"#fb9f3a\"],[0.8888888888888888,\"#fdca26\"],[1.0,\"#f0f921\"]],\"diverging\":[[0,\"#8e0152\"],[0.1,\"#c51b7d\"],[0.2,\"#de77ae\"],[0.3,\"#f1b6da\"],[0.4,\"#fde0ef\"],[0.5,\"#f7f7f7\"],[0.6,\"#e6f5d0\"],[0.7,\"#b8e186\"],[0.8,\"#7fbc41\"],[0.9,\"#4d9221\"],[1,\"#276419\"]]},\"xaxis\":{\"gridcolor\":\"white\",\"linecolor\":\"white\",\"ticks\":\"\",\"title\":{\"standoff\":15},\"zerolinecolor\":\"white\",\"automargin\":true,\"zerolinewidth\":2},\"yaxis\":{\"gridcolor\":\"white\",\"linecolor\":\"white\",\"ticks\":\"\",\"title\":{\"standoff\":15},\"zerolinecolor\":\"white\",\"automargin\":true,\"zerolinewidth\":2},\"scene\":{\"xaxis\":{\"backgroundcolor\":\"#E5ECF6\",\"gridcolor\":\"white\",\"linecolor\":\"white\",\"showbackground\":true,\"ticks\":\"\",\"zerolinecolor\":\"white\",\"gridwidth\":2},\"yaxis\":{\"backgroundcolor\":\"#E5ECF6\",\"gridcolor\":\"white\",\"linecolor\":\"white\",\"showbackground\":true,\"ticks\":\"\",\"zerolinecolor\":\"white\",\"gridwidth\":2},\"zaxis\":{\"backgroundcolor\":\"#E5ECF6\",\"gridcolor\":\"white\",\"linecolor\":\"white\",\"showbackground\":true,\"ticks\":\"\",\"zerolinecolor\":\"white\",\"gridwidth\":2}},\"shapedefaults\":{\"line\":{\"color\":\"#2a3f5f\"}},\"annotationdefaults\":{\"arrowcolor\":\"#2a3f5f\",\"arrowhead\":0,\"arrowwidth\":1},\"geo\":{\"bgcolor\":\"white\",\"landcolor\":\"#E5ECF6\",\"subunitcolor\":\"white\",\"showland\":true,\"showlakes\":true,\"lakecolor\":\"white\"},\"title\":{\"x\":0.05},\"mapbox\":{\"style\":\"light\"}}},\"xaxis\":{\"anchor\":\"y\",\"domain\":[0.0,1.0],\"title\":{\"text\":\"weathersit\"}},\"yaxis\":{\"anchor\":\"x\",\"domain\":[0.0,1.0],\"title\":{\"text\":\"cnt\"}},\"legend\":{\"tracegroupgap\":0},\"title\":{\"text\":\"Boxplot of values for weathersit against our target variable cnt\"},\"boxmode\":\"group\"},                        {\"responsive\": true}                    ).then(function(){\n                            \nvar gd = document.getElementById('d11c5075-b147-4830-9245-cfba3e01e9a0');\nvar x = new MutationObserver(function (mutations, observer) {{\n        var display = window.getComputedStyle(gd).display;\n        if (!display || display === 'none') {{\n            console.log([gd, 'removed!']);\n            Plotly.purge(gd);\n            observer.disconnect();\n        }}\n}});\n\n// Listen for the removal of the full notebook cells\nvar notebookContainer = gd.closest('#notebook-container');\nif (notebookContainer) {{\n    x.observe(notebookContainer, {childList: true});\n}}\n\n// Listen for the clearing of the current output cell\nvar outputEl = gd.closest('.output');\nif (outputEl) {{\n    x.observe(outputEl, {childList: true});\n}}\n\n                        })                };                            </script>        </div>\n</body>\n</html>"
     },
     "metadata": {},
     "output_type": "display_data"
    }
   ]
  },
  {
   "cell_type": "markdown",
   "source": "Now we're getting somewhere. The distribution of weather situations indicates that the data has more clear entries than misty or light snow entries. It also highlights the fact that there are no heavy rain and ice entries despite the dataset indicates as such.",
   "metadata": {
    "formattedRanges": [],
    "is_collapsed": false,
    "cell_id": "a08e442c90d64bc293cbc213aad2c8c9",
    "tags": [],
    "deepnote_cell_type": "text-cell-p"
   }
  },
  {
   "cell_type": "code",
   "metadata": {
    "cell_id": "0d0854d1743a4e9581089501e930e9bc",
    "tags": [],
    "deepnote_to_be_reexecuted": false,
    "source_hash": "1e9cdf7a",
    "execution_start": 1663728012961,
    "execution_millis": 94,
    "deepnote_cell_type": "code",
    "deepnote_cell_height": 1457.03125,
    "deepnote_output_heights": [
     null,
     526,
     526
    ]
   },
   "source": "create_feature_analysis(data, 'temp')",
   "execution_count": 17,
   "outputs": [
    {
     "name": "stdout",
     "text": "DESCRIPTIVE SUMMARY of temp\ncount    730.000000\nmean      20.319259\nstd        7.506729\nmin        2.424346\n25%       13.811885\n50%       20.465826\n75%       26.880615\nmax       35.328347\nName: temp, dtype: float64\n\n\nUNIQUE VALUE COUNT: 498\n",
     "output_type": "stream"
    },
    {
     "data": {
      "text/html": "<html>\n<head><meta charset=\"utf-8\" /></head>\n<body>\n    <div>            <script src=\"https://cdnjs.cloudflare.com/ajax/libs/mathjax/2.7.5/MathJax.js?config=TeX-AMS-MML_SVG\"></script><script type=\"text/javascript\">if (window.MathJax && window.MathJax.Hub && window.MathJax.Hub.Config) {window.MathJax.Hub.Config({SVG: {font: \"STIX-Web\"}});}</script>                <script type=\"text/javascript\">window.PlotlyConfig = {MathJaxConfig: 'local'};</script>\n        <script src=\"https://cdn.plot.ly/plotly-2.14.0.min.js\"></script>                <div id=\"a7231921-caae-4b0c-a939-384eca8f7af1\" class=\"plotly-graph-div\" style=\"height:525px; width:100%;\"></div>            <script type=\"text/javascript\">                                    window.PLOTLYENV=window.PLOTLYENV || {};                                    if (document.getElementById(\"a7231921-caae-4b0c-a939-384eca8f7af1\")) {                    Plotly.newPlot(                        \"a7231921-caae-4b0c-a939-384eca8f7af1\",                        [{\"alignmentgroup\":\"True\",\"bingroup\":\"x\",\"hovertemplate\":\"temp=%{x}<br>count=%{y}<extra></extra>\",\"legendgroup\":\"\",\"marker\":{\"color\":\"#636efa\",\"pattern\":{\"shape\":\"\"}},\"name\":\"\",\"offsetgroup\":\"\",\"orientation\":\"v\",\"showlegend\":false,\"x\":[14.110847,14.902598,8.050924,8.2,9.305237,8.378268,8.057402,6.765,5.671653,6.184153,6.932731,7.081807,6.765,6.59567,9.566653,9.498347,7.209153,8.883347,11.979134,10.728347,7.2775,2.4243464,3.9573897,3.9930433,9.162598,8.9175,7.995,8.342598,8.057402,8.877402,7.414153,7.879134,10.66,7.665237,8.663464,9.566653,11.719153,11.138347,9.054153,5.526103,5.918268,7.752731,9.1225,12.977402,17.015,10.909567,13.048701,17.869153,21.388347,16.365847,11.693897,12.436653,7.471102,9.091299,12.121732,14.938268,11.5825,14.082598,16.698193,10.933347,13.735,8.131653,10.728347,15.750847,15.437402,10.731299,11.9925,12.129153,15.952731,12.977402,13.495847,15.758268,13.333897,13.013031,14.973897,17.015,22.14,19.3725,13.6325,17.647835,18.108347,14.225237,11.685,10.830847,10.899153,10.374763,10.838268,12.4025,12.3,11.001653,12.3,12.915,15.511653,23.506653,16.980847,16.024153,17.9375,13.769153,14.0425,17.493347,24.421732,20.6025,16.9125,19.1675,18.313347,17.664153,18.723347,21.0125,20.739153,24.395,18.825847,13.803347,18.86,23.848347,24.873347,25.898347,25.42,25.3175,20.91,19.3725,18.518347,22.515847,25.283347,16.980847,18.825847,19.645847,21.32,21.661653,21.8325,21.8325,22.2425,21.935,21.0125,21.354153,23.0625,23.6775,23.028347,22.55,21.764153,22.003347,24.7025,24.770847,25.898347,27.06,27.094153,29.041653,27.948347,26.889153,27.3675,30.066653,31.775,31.330847,29.315,25.42,26.035,26.581653,27.811653,29.0075,31.809153,33.141653,30.955,29.725,28.3925,26.035,24.770847,25.693347,25.761653,26.615847,28.563347,28.665847,26.035,27.914153,30.066653,29.861653,29.690847,28.495,27.88,27.9825,30.510847,29.861653,28.563347,29.6225,30.271653,29.383347,29.793347,30.613347,29.52,30.75,29.075847,30.066653,30.6475,31.2625,32.560847,30.613347,27.914153,27.196653,28.153347,29.485847,30.613347,31.843347,31.501653,33.415,34.781653,34.815847,34.03,30.476653,31.638347,31.775,31.945847,34.371653,32.970847,33.039153,31.638347,32.116653,29.998347,29.11,29.144153,29.383347,30.4425,31.365,31.775,31.433347,29.4175,29.041653,28.119153,27.743347,27.299153,28.734153,29.656653,29.178347,28.085,28.5975,29.144153,28.358347,26.274153,27.606653,28.050847,28.7,27.88,28.989419,26.103347,26.205847,26.923347,26.855,26.376653,27.435847,29.075847,27.606653,22.14,24.565847,25.990433,26.65,27.06,26.786653,26.418268,26.684153,27.606653,23.6775,19.235847,20.158347,20.8075,22.515847,23.028347,24.395,25.761653,24.975847,24.873347,26.000847,26.615847,26.103347,26.035,25.283347,23.130847,16.81,14.623347,15.750847,19.850847,22.071653,20.260847,20.944153,21.388347,22.174153,23.404153,23.233347,22.276653,24.155847,22.584153,20.773347,20.978347,21.900847,21.8325,22.211299,19.509153,17.5275,17.3225,17.288347,18.996653,19.338347,19.850847,19.27,13.564153,10.420847,13.085847,13.94,16.434153,15.4775,16.741653,16.536653,13.393347,14.281653,16.195,16.741653,16.4,15.58,13.290847,14.623347,18.074153,21.73,21.73,18.723347,14.008347,11.240847,13.495847,18.996653,18.3475,17.083347,18.074153,15.306653,15.375,15.409153,18.825847,20.642598,18.791653,13.325,12.8125,12.880847,12.265847,13.564153,15.819153,18.9625,16.81,10.899153,11.924153,11.275,9.054153,9.771653,11.5825,13.0175,17.3225,15.375,10.591653,9.771653,11.343347,15.819153,17.561653,17.356653,15.306653,12.4025,11.266103,13.191299,13.325,12.26433,10.181653,12.778347,16.81,15.17,11.194763,6.15,4.4075,10.899153,13.700847,16.126653,13.8375,9.190847,12.656536,11.240847,15.6825,11.240847,7.38,6.833347,7.79,15.294763,12.436653,7.79,8.9175,7.106653,6.6625,8.951653,14.0425,12.060847,14.008347,17.425,12.949153,11.5825,11.035847,15.99,19.235847,16.365847,12.846653,10.830847,10.899153,11.586969,14.520847,10.523347,10.865,11.514153,9.190847,5.2275,9.1225,13.085847,14.281653,12.983347,14.076653,14.213347,11.48,11.48,11.800866,16.229153,18.620847,16.7075,11.924153,11.445847,15.033347,14.725847,19.919153,14.486653,16.980847,13.359153,9.976653,10.591653,16.570847,21.6275,16.844153,11.7875,14.831299,19.133347,23.165,23.4725,22.8575,17.869153,21.080847,19.3725,22.345,22.994153,21.798347,22.720847,24.668347,20.6025,17.9375,18.279153,13.256653,19.850847,20.260847,15.17,17.390847,17.459153,17.790433,19.133347,22.208347,17.835,16.536653,17.9375,20.5,20.055847,18.313347,14.296536,16.2975,18.1425,20.295,24.873347,27.230847,24.941653,18.996653,20.431653,21.593347,23.37,16.263347,13.188347,16.946653,19.543347,20.431653,18.7575,15.443347,18.791653,19.030847,25.146653,23.130847,22.96,25.7275,25.488347,23.0625,22.0375,23.848347,23.575,20.739153,21.866653,23.130847,25.1125,23.506653,25.078347,26.103347,24.326653,23.130847,24.6,25.454153,24.531653,25.215,25.488347,26.855,27.88,28.3925,28.29,29.2125,29.6225,26.923347,27.88,26.820847,23.916653,24.7025,24.4975,22.174153,22.720847,24.7025,26.615847,29.144153,29.793347,29.554153,26.786653,26.889153,26.581653,26.205847,25.898347,24.2925,23.301653,28.221653,32.0825,33.039153,31.8775,29.998347,30.476653,29.349153,25.864153,28.5975,30.715847,34.200847,31.365,33.449153,32.048347,32.014153,32.355847,33.9275,33.961653,35.328347,33.7225,29.144153,29.554153,29.383347,29.349153,29.998347,28.836653,30.579153,31.296653,33.551653,32.526653,31.57,27.299153,24.429153,27.3675,30.408347,30.784153,29.690847,31.843347,32.048347,30.989153,29.588347,29.964153,29.246653,29.4175,30.8525,31.399153,32.526653,31.535847,30.8525,30.169153,30.75,30.989153,29.349153,28.3925,28.734153,29.554153,29.793347,28.973347,29.485847,29.656653,27.811653,26.069153,26.069153,26.615847,27.3675,28.529153,28.8025,27.128347,26.786653,28.836653,29.861653,28.085,28.973347,31.330847,30.886653,28.563347,29.0075,29.759153,30.203347,28.563347,28.836653,27.025847,25.01,23.916653,23.6775,24.565847,25.1125,25.966653,24.941653,23.78,23.814153,25.556653,22.6525,22.413347,24.565847,26.65,21.695847,21.080847,22.55,26.035,26.65,25.385847,22.2425,21.593347,21.354153,24.224153,26.9575,26.9575,25.215,22.720847,17.049153,15.716653,18.313347,21.080847,17.835,17.9375,16.126653,21.388347,23.028347,19.201653,18.689153,21.4225,23.096653,19.850847,19.030847,19.9875,22.310847,24.0875,22.55,22.379153,21.73,19.5775,18.04,13.045462,14.6575,14.999153,14.555,14.076653,13.359153,13.085847,11.514153,12.129153,14.439134,14.828347,15.955847,17.254153,19.885,14.076653,11.855847,13.188347,14.145,13.325,14.0425,15.614153,15.340847,14.486653,13.94,15.101653,11.411653,10.079153,12.846653,11.958347,12.163347,11.51567,12.231653,12.231653,14.2475,18.5525,19.509153,17.971653,10.489153,13.154153,15.648347,15.750847,17.869153,14.486653,12.1975,12.129153,11.548347,13.290847,14.8625,16.126653,16.844153,13.6325,13.53,13.393347,10.899153,10.079153,9.483464,11.943464,9.976653,10.420847,10.386653,10.386653,10.489153,8.849153],\"xaxis\":\"x\",\"yaxis\":\"y\",\"type\":\"histogram\"}],                        {\"template\":{\"data\":{\"histogram2dcontour\":[{\"type\":\"histogram2dcontour\",\"colorbar\":{\"outlinewidth\":0,\"ticks\":\"\"},\"colorscale\":[[0.0,\"#0d0887\"],[0.1111111111111111,\"#46039f\"],[0.2222222222222222,\"#7201a8\"],[0.3333333333333333,\"#9c179e\"],[0.4444444444444444,\"#bd3786\"],[0.5555555555555556,\"#d8576b\"],[0.6666666666666666,\"#ed7953\"],[0.7777777777777778,\"#fb9f3a\"],[0.8888888888888888,\"#fdca26\"],[1.0,\"#f0f921\"]]}],\"choropleth\":[{\"type\":\"choropleth\",\"colorbar\":{\"outlinewidth\":0,\"ticks\":\"\"}}],\"histogram2d\":[{\"type\":\"histogram2d\",\"colorbar\":{\"outlinewidth\":0,\"ticks\":\"\"},\"colorscale\":[[0.0,\"#0d0887\"],[0.1111111111111111,\"#46039f\"],[0.2222222222222222,\"#7201a8\"],[0.3333333333333333,\"#9c179e\"],[0.4444444444444444,\"#bd3786\"],[0.5555555555555556,\"#d8576b\"],[0.6666666666666666,\"#ed7953\"],[0.7777777777777778,\"#fb9f3a\"],[0.8888888888888888,\"#fdca26\"],[1.0,\"#f0f921\"]]}],\"heatmap\":[{\"type\":\"heatmap\",\"colorbar\":{\"outlinewidth\":0,\"ticks\":\"\"},\"colorscale\":[[0.0,\"#0d0887\"],[0.1111111111111111,\"#46039f\"],[0.2222222222222222,\"#7201a8\"],[0.3333333333333333,\"#9c179e\"],[0.4444444444444444,\"#bd3786\"],[0.5555555555555556,\"#d8576b\"],[0.6666666666666666,\"#ed7953\"],[0.7777777777777778,\"#fb9f3a\"],[0.8888888888888888,\"#fdca26\"],[1.0,\"#f0f921\"]]}],\"heatmapgl\":[{\"type\":\"heatmapgl\",\"colorbar\":{\"outlinewidth\":0,\"ticks\":\"\"},\"colorscale\":[[0.0,\"#0d0887\"],[0.1111111111111111,\"#46039f\"],[0.2222222222222222,\"#7201a8\"],[0.3333333333333333,\"#9c179e\"],[0.4444444444444444,\"#bd3786\"],[0.5555555555555556,\"#d8576b\"],[0.6666666666666666,\"#ed7953\"],[0.7777777777777778,\"#fb9f3a\"],[0.8888888888888888,\"#fdca26\"],[1.0,\"#f0f921\"]]}],\"contourcarpet\":[{\"type\":\"contourcarpet\",\"colorbar\":{\"outlinewidth\":0,\"ticks\":\"\"}}],\"contour\":[{\"type\":\"contour\",\"colorbar\":{\"outlinewidth\":0,\"ticks\":\"\"},\"colorscale\":[[0.0,\"#0d0887\"],[0.1111111111111111,\"#46039f\"],[0.2222222222222222,\"#7201a8\"],[0.3333333333333333,\"#9c179e\"],[0.4444444444444444,\"#bd3786\"],[0.5555555555555556,\"#d8576b\"],[0.6666666666666666,\"#ed7953\"],[0.7777777777777778,\"#fb9f3a\"],[0.8888888888888888,\"#fdca26\"],[1.0,\"#f0f921\"]]}],\"surface\":[{\"type\":\"surface\",\"colorbar\":{\"outlinewidth\":0,\"ticks\":\"\"},\"colorscale\":[[0.0,\"#0d0887\"],[0.1111111111111111,\"#46039f\"],[0.2222222222222222,\"#7201a8\"],[0.3333333333333333,\"#9c179e\"],[0.4444444444444444,\"#bd3786\"],[0.5555555555555556,\"#d8576b\"],[0.6666666666666666,\"#ed7953\"],[0.7777777777777778,\"#fb9f3a\"],[0.8888888888888888,\"#fdca26\"],[1.0,\"#f0f921\"]]}],\"mesh3d\":[{\"type\":\"mesh3d\",\"colorbar\":{\"outlinewidth\":0,\"ticks\":\"\"}}],\"scatter\":[{\"fillpattern\":{\"fillmode\":\"overlay\",\"size\":10,\"solidity\":0.2},\"type\":\"scatter\"}],\"parcoords\":[{\"type\":\"parcoords\",\"line\":{\"colorbar\":{\"outlinewidth\":0,\"ticks\":\"\"}}}],\"scatterpolargl\":[{\"type\":\"scatterpolargl\",\"marker\":{\"colorbar\":{\"outlinewidth\":0,\"ticks\":\"\"}}}],\"bar\":[{\"error_x\":{\"color\":\"#2a3f5f\"},\"error_y\":{\"color\":\"#2a3f5f\"},\"marker\":{\"line\":{\"color\":\"#E5ECF6\",\"width\":0.5},\"pattern\":{\"fillmode\":\"overlay\",\"size\":10,\"solidity\":0.2}},\"type\":\"bar\"}],\"scattergeo\":[{\"type\":\"scattergeo\",\"marker\":{\"colorbar\":{\"outlinewidth\":0,\"ticks\":\"\"}}}],\"scatterpolar\":[{\"type\":\"scatterpolar\",\"marker\":{\"colorbar\":{\"outlinewidth\":0,\"ticks\":\"\"}}}],\"histogram\":[{\"marker\":{\"pattern\":{\"fillmode\":\"overlay\",\"size\":10,\"solidity\":0.2}},\"type\":\"histogram\"}],\"scattergl\":[{\"type\":\"scattergl\",\"marker\":{\"colorbar\":{\"outlinewidth\":0,\"ticks\":\"\"}}}],\"scatter3d\":[{\"type\":\"scatter3d\",\"line\":{\"colorbar\":{\"outlinewidth\":0,\"ticks\":\"\"}},\"marker\":{\"colorbar\":{\"outlinewidth\":0,\"ticks\":\"\"}}}],\"scattermapbox\":[{\"type\":\"scattermapbox\",\"marker\":{\"colorbar\":{\"outlinewidth\":0,\"ticks\":\"\"}}}],\"scatterternary\":[{\"type\":\"scatterternary\",\"marker\":{\"colorbar\":{\"outlinewidth\":0,\"ticks\":\"\"}}}],\"scattercarpet\":[{\"type\":\"scattercarpet\",\"marker\":{\"colorbar\":{\"outlinewidth\":0,\"ticks\":\"\"}}}],\"carpet\":[{\"aaxis\":{\"endlinecolor\":\"#2a3f5f\",\"gridcolor\":\"white\",\"linecolor\":\"white\",\"minorgridcolor\":\"white\",\"startlinecolor\":\"#2a3f5f\"},\"baxis\":{\"endlinecolor\":\"#2a3f5f\",\"gridcolor\":\"white\",\"linecolor\":\"white\",\"minorgridcolor\":\"white\",\"startlinecolor\":\"#2a3f5f\"},\"type\":\"carpet\"}],\"table\":[{\"cells\":{\"fill\":{\"color\":\"#EBF0F8\"},\"line\":{\"color\":\"white\"}},\"header\":{\"fill\":{\"color\":\"#C8D4E3\"},\"line\":{\"color\":\"white\"}},\"type\":\"table\"}],\"barpolar\":[{\"marker\":{\"line\":{\"color\":\"#E5ECF6\",\"width\":0.5},\"pattern\":{\"fillmode\":\"overlay\",\"size\":10,\"solidity\":0.2}},\"type\":\"barpolar\"}],\"pie\":[{\"automargin\":true,\"type\":\"pie\"}]},\"layout\":{\"autotypenumbers\":\"strict\",\"colorway\":[\"#636efa\",\"#EF553B\",\"#00cc96\",\"#ab63fa\",\"#FFA15A\",\"#19d3f3\",\"#FF6692\",\"#B6E880\",\"#FF97FF\",\"#FECB52\"],\"font\":{\"color\":\"#2a3f5f\"},\"hovermode\":\"closest\",\"hoverlabel\":{\"align\":\"left\"},\"paper_bgcolor\":\"white\",\"plot_bgcolor\":\"#E5ECF6\",\"polar\":{\"bgcolor\":\"#E5ECF6\",\"angularaxis\":{\"gridcolor\":\"white\",\"linecolor\":\"white\",\"ticks\":\"\"},\"radialaxis\":{\"gridcolor\":\"white\",\"linecolor\":\"white\",\"ticks\":\"\"}},\"ternary\":{\"bgcolor\":\"#E5ECF6\",\"aaxis\":{\"gridcolor\":\"white\",\"linecolor\":\"white\",\"ticks\":\"\"},\"baxis\":{\"gridcolor\":\"white\",\"linecolor\":\"white\",\"ticks\":\"\"},\"caxis\":{\"gridcolor\":\"white\",\"linecolor\":\"white\",\"ticks\":\"\"}},\"coloraxis\":{\"colorbar\":{\"outlinewidth\":0,\"ticks\":\"\"}},\"colorscale\":{\"sequential\":[[0.0,\"#0d0887\"],[0.1111111111111111,\"#46039f\"],[0.2222222222222222,\"#7201a8\"],[0.3333333333333333,\"#9c179e\"],[0.4444444444444444,\"#bd3786\"],[0.5555555555555556,\"#d8576b\"],[0.6666666666666666,\"#ed7953\"],[0.7777777777777778,\"#fb9f3a\"],[0.8888888888888888,\"#fdca26\"],[1.0,\"#f0f921\"]],\"sequentialminus\":[[0.0,\"#0d0887\"],[0.1111111111111111,\"#46039f\"],[0.2222222222222222,\"#7201a8\"],[0.3333333333333333,\"#9c179e\"],[0.4444444444444444,\"#bd3786\"],[0.5555555555555556,\"#d8576b\"],[0.6666666666666666,\"#ed7953\"],[0.7777777777777778,\"#fb9f3a\"],[0.8888888888888888,\"#fdca26\"],[1.0,\"#f0f921\"]],\"diverging\":[[0,\"#8e0152\"],[0.1,\"#c51b7d\"],[0.2,\"#de77ae\"],[0.3,\"#f1b6da\"],[0.4,\"#fde0ef\"],[0.5,\"#f7f7f7\"],[0.6,\"#e6f5d0\"],[0.7,\"#b8e186\"],[0.8,\"#7fbc41\"],[0.9,\"#4d9221\"],[1,\"#276419\"]]},\"xaxis\":{\"gridcolor\":\"white\",\"linecolor\":\"white\",\"ticks\":\"\",\"title\":{\"standoff\":15},\"zerolinecolor\":\"white\",\"automargin\":true,\"zerolinewidth\":2},\"yaxis\":{\"gridcolor\":\"white\",\"linecolor\":\"white\",\"ticks\":\"\",\"title\":{\"standoff\":15},\"zerolinecolor\":\"white\",\"automargin\":true,\"zerolinewidth\":2},\"scene\":{\"xaxis\":{\"backgroundcolor\":\"#E5ECF6\",\"gridcolor\":\"white\",\"linecolor\":\"white\",\"showbackground\":true,\"ticks\":\"\",\"zerolinecolor\":\"white\",\"gridwidth\":2},\"yaxis\":{\"backgroundcolor\":\"#E5ECF6\",\"gridcolor\":\"white\",\"linecolor\":\"white\",\"showbackground\":true,\"ticks\":\"\",\"zerolinecolor\":\"white\",\"gridwidth\":2},\"zaxis\":{\"backgroundcolor\":\"#E5ECF6\",\"gridcolor\":\"white\",\"linecolor\":\"white\",\"showbackground\":true,\"ticks\":\"\",\"zerolinecolor\":\"white\",\"gridwidth\":2}},\"shapedefaults\":{\"line\":{\"color\":\"#2a3f5f\"}},\"annotationdefaults\":{\"arrowcolor\":\"#2a3f5f\",\"arrowhead\":0,\"arrowwidth\":1},\"geo\":{\"bgcolor\":\"white\",\"landcolor\":\"#E5ECF6\",\"subunitcolor\":\"white\",\"showland\":true,\"showlakes\":true,\"lakecolor\":\"white\"},\"title\":{\"x\":0.05},\"mapbox\":{\"style\":\"light\"}}},\"xaxis\":{\"anchor\":\"y\",\"domain\":[0.0,1.0],\"title\":{\"text\":\"temp\"}},\"yaxis\":{\"anchor\":\"x\",\"domain\":[0.0,1.0],\"title\":{\"text\":\"count\"}},\"legend\":{\"tracegroupgap\":0},\"title\":{\"text\":\"Histogram of values for temp\"},\"barmode\":\"relative\"},                        {\"responsive\": true}                    ).then(function(){\n                            \nvar gd = document.getElementById('a7231921-caae-4b0c-a939-384eca8f7af1');\nvar x = new MutationObserver(function (mutations, observer) {{\n        var display = window.getComputedStyle(gd).display;\n        if (!display || display === 'none') {{\n            console.log([gd, 'removed!']);\n            Plotly.purge(gd);\n            observer.disconnect();\n        }}\n}});\n\n// Listen for the removal of the full notebook cells\nvar notebookContainer = gd.closest('#notebook-container');\nif (notebookContainer) {{\n    x.observe(notebookContainer, {childList: true});\n}}\n\n// Listen for the clearing of the current output cell\nvar outputEl = gd.closest('.output');\nif (outputEl) {{\n    x.observe(outputEl, {childList: true});\n}}\n\n                        })                };                            </script>        </div>\n</body>\n</html>"
     },
     "metadata": {},
     "output_type": "display_data"
    },
    {
     "data": {
      "text/html": "<html>\n<head><meta charset=\"utf-8\" /></head>\n<body>\n    <div>            <script src=\"https://cdnjs.cloudflare.com/ajax/libs/mathjax/2.7.5/MathJax.js?config=TeX-AMS-MML_SVG\"></script><script type=\"text/javascript\">if (window.MathJax && window.MathJax.Hub && window.MathJax.Hub.Config) {window.MathJax.Hub.Config({SVG: {font: \"STIX-Web\"}});}</script>                <script type=\"text/javascript\">window.PlotlyConfig = {MathJaxConfig: 'local'};</script>\n        <script src=\"https://cdn.plot.ly/plotly-2.14.0.min.js\"></script>                <div id=\"74815324-e39e-48fd-9746-2dc2c8360b43\" class=\"plotly-graph-div\" style=\"height:525px; width:100%;\"></div>            <script type=\"text/javascript\">                                    window.PLOTLYENV=window.PLOTLYENV || {};                                    if (document.getElementById(\"74815324-e39e-48fd-9746-2dc2c8360b43\")) {                    Plotly.newPlot(                        \"74815324-e39e-48fd-9746-2dc2c8360b43\",                        [{\"alignmentgroup\":\"True\",\"hovertemplate\":\"temp=%{x}<br>cnt=%{y}<extra></extra>\",\"legendgroup\":\"\",\"marker\":{\"color\":\"#636efa\"},\"name\":\"\",\"notched\":false,\"offsetgroup\":\"\",\"orientation\":\"v\",\"showlegend\":false,\"x\":[14.110847,14.902598,8.050924,8.2,9.305237,8.378268,8.057402,6.765,5.671653,6.184153,6.932731,7.081807,6.765,6.59567,9.566653,9.498347,7.209153,8.883347,11.979134,10.728347,7.2775,2.4243464,3.9573897,3.9930433,9.162598,8.9175,7.995,8.342598,8.057402,8.877402,7.414153,7.879134,10.66,7.665237,8.663464,9.566653,11.719153,11.138347,9.054153,5.526103,5.918268,7.752731,9.1225,12.977402,17.015,10.909567,13.048701,17.869153,21.388347,16.365847,11.693897,12.436653,7.471102,9.091299,12.121732,14.938268,11.5825,14.082598,16.698193,10.933347,13.735,8.131653,10.728347,15.750847,15.437402,10.731299,11.9925,12.129153,15.952731,12.977402,13.495847,15.758268,13.333897,13.013031,14.973897,17.015,22.14,19.3725,13.6325,17.647835,18.108347,14.225237,11.685,10.830847,10.899153,10.374763,10.838268,12.4025,12.3,11.001653,12.3,12.915,15.511653,23.506653,16.980847,16.024153,17.9375,13.769153,14.0425,17.493347,24.421732,20.6025,16.9125,19.1675,18.313347,17.664153,18.723347,21.0125,20.739153,24.395,18.825847,13.803347,18.86,23.848347,24.873347,25.898347,25.42,25.3175,20.91,19.3725,18.518347,22.515847,25.283347,16.980847,18.825847,19.645847,21.32,21.661653,21.8325,21.8325,22.2425,21.935,21.0125,21.354153,23.0625,23.6775,23.028347,22.55,21.764153,22.003347,24.7025,24.770847,25.898347,27.06,27.094153,29.041653,27.948347,26.889153,27.3675,30.066653,31.775,31.330847,29.315,25.42,26.035,26.581653,27.811653,29.0075,31.809153,33.141653,30.955,29.725,28.3925,26.035,24.770847,25.693347,25.761653,26.615847,28.563347,28.665847,26.035,27.914153,30.066653,29.861653,29.690847,28.495,27.88,27.9825,30.510847,29.861653,28.563347,29.6225,30.271653,29.383347,29.793347,30.613347,29.52,30.75,29.075847,30.066653,30.6475,31.2625,32.560847,30.613347,27.914153,27.196653,28.153347,29.485847,30.613347,31.843347,31.501653,33.415,34.781653,34.815847,34.03,30.476653,31.638347,31.775,31.945847,34.371653,32.970847,33.039153,31.638347,32.116653,29.998347,29.11,29.144153,29.383347,30.4425,31.365,31.775,31.433347,29.4175,29.041653,28.119153,27.743347,27.299153,28.734153,29.656653,29.178347,28.085,28.5975,29.144153,28.358347,26.274153,27.606653,28.050847,28.7,27.88,28.989419,26.103347,26.205847,26.923347,26.855,26.376653,27.435847,29.075847,27.606653,22.14,24.565847,25.990433,26.65,27.06,26.786653,26.418268,26.684153,27.606653,23.6775,19.235847,20.158347,20.8075,22.515847,23.028347,24.395,25.761653,24.975847,24.873347,26.000847,26.615847,26.103347,26.035,25.283347,23.130847,16.81,14.623347,15.750847,19.850847,22.071653,20.260847,20.944153,21.388347,22.174153,23.404153,23.233347,22.276653,24.155847,22.584153,20.773347,20.978347,21.900847,21.8325,22.211299,19.509153,17.5275,17.3225,17.288347,18.996653,19.338347,19.850847,19.27,13.564153,10.420847,13.085847,13.94,16.434153,15.4775,16.741653,16.536653,13.393347,14.281653,16.195,16.741653,16.4,15.58,13.290847,14.623347,18.074153,21.73,21.73,18.723347,14.008347,11.240847,13.495847,18.996653,18.3475,17.083347,18.074153,15.306653,15.375,15.409153,18.825847,20.642598,18.791653,13.325,12.8125,12.880847,12.265847,13.564153,15.819153,18.9625,16.81,10.899153,11.924153,11.275,9.054153,9.771653,11.5825,13.0175,17.3225,15.375,10.591653,9.771653,11.343347,15.819153,17.561653,17.356653,15.306653,12.4025,11.266103,13.191299,13.325,12.26433,10.181653,12.778347,16.81,15.17,11.194763,6.15,4.4075,10.899153,13.700847,16.126653,13.8375,9.190847,12.656536,11.240847,15.6825,11.240847,7.38,6.833347,7.79,15.294763,12.436653,7.79,8.9175,7.106653,6.6625,8.951653,14.0425,12.060847,14.008347,17.425,12.949153,11.5825,11.035847,15.99,19.235847,16.365847,12.846653,10.830847,10.899153,11.586969,14.520847,10.523347,10.865,11.514153,9.190847,5.2275,9.1225,13.085847,14.281653,12.983347,14.076653,14.213347,11.48,11.48,11.800866,16.229153,18.620847,16.7075,11.924153,11.445847,15.033347,14.725847,19.919153,14.486653,16.980847,13.359153,9.976653,10.591653,16.570847,21.6275,16.844153,11.7875,14.831299,19.133347,23.165,23.4725,22.8575,17.869153,21.080847,19.3725,22.345,22.994153,21.798347,22.720847,24.668347,20.6025,17.9375,18.279153,13.256653,19.850847,20.260847,15.17,17.390847,17.459153,17.790433,19.133347,22.208347,17.835,16.536653,17.9375,20.5,20.055847,18.313347,14.296536,16.2975,18.1425,20.295,24.873347,27.230847,24.941653,18.996653,20.431653,21.593347,23.37,16.263347,13.188347,16.946653,19.543347,20.431653,18.7575,15.443347,18.791653,19.030847,25.146653,23.130847,22.96,25.7275,25.488347,23.0625,22.0375,23.848347,23.575,20.739153,21.866653,23.130847,25.1125,23.506653,25.078347,26.103347,24.326653,23.130847,24.6,25.454153,24.531653,25.215,25.488347,26.855,27.88,28.3925,28.29,29.2125,29.6225,26.923347,27.88,26.820847,23.916653,24.7025,24.4975,22.174153,22.720847,24.7025,26.615847,29.144153,29.793347,29.554153,26.786653,26.889153,26.581653,26.205847,25.898347,24.2925,23.301653,28.221653,32.0825,33.039153,31.8775,29.998347,30.476653,29.349153,25.864153,28.5975,30.715847,34.200847,31.365,33.449153,32.048347,32.014153,32.355847,33.9275,33.961653,35.328347,33.7225,29.144153,29.554153,29.383347,29.349153,29.998347,28.836653,30.579153,31.296653,33.551653,32.526653,31.57,27.299153,24.429153,27.3675,30.408347,30.784153,29.690847,31.843347,32.048347,30.989153,29.588347,29.964153,29.246653,29.4175,30.8525,31.399153,32.526653,31.535847,30.8525,30.169153,30.75,30.989153,29.349153,28.3925,28.734153,29.554153,29.793347,28.973347,29.485847,29.656653,27.811653,26.069153,26.069153,26.615847,27.3675,28.529153,28.8025,27.128347,26.786653,28.836653,29.861653,28.085,28.973347,31.330847,30.886653,28.563347,29.0075,29.759153,30.203347,28.563347,28.836653,27.025847,25.01,23.916653,23.6775,24.565847,25.1125,25.966653,24.941653,23.78,23.814153,25.556653,22.6525,22.413347,24.565847,26.65,21.695847,21.080847,22.55,26.035,26.65,25.385847,22.2425,21.593347,21.354153,24.224153,26.9575,26.9575,25.215,22.720847,17.049153,15.716653,18.313347,21.080847,17.835,17.9375,16.126653,21.388347,23.028347,19.201653,18.689153,21.4225,23.096653,19.850847,19.030847,19.9875,22.310847,24.0875,22.55,22.379153,21.73,19.5775,18.04,13.045462,14.6575,14.999153,14.555,14.076653,13.359153,13.085847,11.514153,12.129153,14.439134,14.828347,15.955847,17.254153,19.885,14.076653,11.855847,13.188347,14.145,13.325,14.0425,15.614153,15.340847,14.486653,13.94,15.101653,11.411653,10.079153,12.846653,11.958347,12.163347,11.51567,12.231653,12.231653,14.2475,18.5525,19.509153,17.971653,10.489153,13.154153,15.648347,15.750847,17.869153,14.486653,12.1975,12.129153,11.548347,13.290847,14.8625,16.126653,16.844153,13.6325,13.53,13.393347,10.899153,10.079153,9.483464,11.943464,9.976653,10.420847,10.386653,10.386653,10.489153,8.849153],\"x0\":\" \",\"xaxis\":\"x\",\"y\":[985,801,1349,1562,1600,1606,1510,959,822,1321,1263,1162,1406,1421,1248,1204,1000,683,1650,1927,1543,981,986,1416,1985,506,431,1167,1098,1096,1501,1360,1526,1550,1708,1005,1623,1712,1530,1605,1538,1746,1472,1589,1913,1815,2115,2475,2927,1635,1812,1107,1450,1917,1807,1461,1969,2402,1446,1851,2134,1685,1944,2077,605,1872,2133,1891,623,1977,2132,2417,2046,2056,2192,2744,3239,3117,2471,2077,2703,2121,1865,2210,2496,1693,2028,2425,1536,1685,2227,2252,3249,3115,1795,2808,3141,1471,2455,2895,3348,2034,2162,3267,3126,795,3744,3429,3204,3944,4189,1683,4036,4191,4073,4400,3872,4058,4595,5312,3351,4401,4451,2633,4433,4608,4714,4333,4362,4803,4182,4864,4105,3409,4553,3958,4123,3855,4575,4917,5805,4660,4274,4492,4978,4677,4679,4758,4788,4098,3982,3974,4968,5312,5342,4906,4548,4833,4401,3915,4586,4966,4460,5020,4891,5180,3767,4844,5119,4744,4010,4835,4507,4790,4991,5202,5305,4708,4648,5225,5515,5362,5119,4649,6043,4665,4629,4592,4040,5336,4881,4086,4258,4342,5084,5538,5923,5302,4458,4541,4332,3784,3387,3285,3606,3840,4590,4656,4390,3846,4475,4302,4266,4845,3574,4576,4866,4294,3785,4326,4602,4780,4792,4905,4150,3820,4338,4725,4694,3805,4153,5191,3873,4758,5895,5130,3542,4661,1115,4334,4634,5204,5058,5115,4727,4484,4940,3351,2710,1996,1842,3544,5345,5046,4713,4763,4785,3659,4760,4511,4274,4539,3641,4352,4795,2395,5423,5010,4630,4120,3907,4839,5202,2429,2918,3570,4456,4826,4765,4985,5409,5511,5117,4563,2416,2913,3644,5217,5041,4570,4748,2424,4195,4304,4308,4381,4187,4687,3894,2659,3747,627,3331,3669,4068,4186,3974,4046,3926,3649,4035,4205,4109,2933,3368,4067,3717,4486,4195,1817,3053,3392,3663,3520,2765,1607,2566,1495,2792,3068,3071,3867,2914,3613,3727,3940,3614,3485,3811,2594,705,3322,3620,3190,2743,3310,3523,3740,3709,3577,2739,2431,3403,3750,2660,3068,2209,1011,754,1317,1162,2302,2423,2999,2485,2294,1951,2236,2368,3272,4098,4521,3425,2376,3598,2177,4097,3214,2493,2311,2298,2935,3376,3292,3163,1301,1977,2432,4339,4270,4075,3456,4023,3243,3624,4509,4579,3761,4151,2832,2947,3784,4375,2802,3830,3831,2169,1529,3422,3922,4169,3005,4154,4318,2689,3129,3777,4773,5062,3487,2732,3389,4322,4363,4990,3194,4066,3423,3333,3956,4916,5382,4569,4118,4911,5298,5847,6312,6192,4378,7836,5892,6153,6093,6230,6871,8362,3372,4996,5558,5102,5698,6133,5459,6235,6041,5936,6772,6436,6457,6460,6857,5169,5585,5918,4862,5409,6398,7460,7132,6370,6691,4367,6565,7290,6624,1027,3214,5633,6196,5026,6233,4220,6304,5572,5740,6169,6421,6296,6883,6359,6273,5728,4717,6572,7030,7429,6118,2843,5115,7424,7384,7639,8294,7129,4359,6073,5260,6770,6734,6536,6591,6043,5743,6855,7338,4127,8120,7641,6998,7001,7055,7494,7736,7498,6598,6664,4972,7421,7363,7665,7702,6978,5099,6825,6211,5905,5823,7458,6891,6779,7442,7335,6879,5463,5687,5531,6227,6660,7403,6241,6207,4840,4672,6569,6290,7264,7446,7499,6969,6031,6830,6786,5713,6591,5870,4459,7410,6966,7592,8173,6861,6904,6685,6597,7105,7216,7580,7261,7175,6824,5464,7013,7273,7534,7286,5786,6299,6544,6883,6784,7347,7605,7148,7865,4549,6530,7006,7375,7765,7582,6053,5255,6917,7040,7697,7713,7350,6140,5810,6034,6864,7112,6203,7504,5976,8227,7525,7767,7870,7804,8009,8714,7333,6869,4073,7591,7720,8167,8395,7907,7436,7538,7733,7393,7415,8555,6889,6778,4639,7572,7328,8156,7965,3510,5478,6392,7691,7570,7282,7109,6639,5875,7534,7461,7509,5424,8090,6824,7058,7466,7693,7359,7444,7852,4459,22,1096,5566,5986,5847,5138,5107,5259,5686,5035,5315,5992,6536,6852,6269,4094,5495,5445,5698,5629,4669,5499,5634,5146,2425,3910,2277,2424,5087,3959,5260,5323,5668,5191,4649,6234,6606,5729,5375,5008,5582,3228,5170,5501,5319,5532,5611,5047,3786,4585,5557,5267,4128,3623,1749,1787,920,1013,441,2114,3095,1341,1796,2729],\"y0\":\" \",\"yaxis\":\"y\",\"type\":\"box\"}],                        {\"template\":{\"data\":{\"histogram2dcontour\":[{\"type\":\"histogram2dcontour\",\"colorbar\":{\"outlinewidth\":0,\"ticks\":\"\"},\"colorscale\":[[0.0,\"#0d0887\"],[0.1111111111111111,\"#46039f\"],[0.2222222222222222,\"#7201a8\"],[0.3333333333333333,\"#9c179e\"],[0.4444444444444444,\"#bd3786\"],[0.5555555555555556,\"#d8576b\"],[0.6666666666666666,\"#ed7953\"],[0.7777777777777778,\"#fb9f3a\"],[0.8888888888888888,\"#fdca26\"],[1.0,\"#f0f921\"]]}],\"choropleth\":[{\"type\":\"choropleth\",\"colorbar\":{\"outlinewidth\":0,\"ticks\":\"\"}}],\"histogram2d\":[{\"type\":\"histogram2d\",\"colorbar\":{\"outlinewidth\":0,\"ticks\":\"\"},\"colorscale\":[[0.0,\"#0d0887\"],[0.1111111111111111,\"#46039f\"],[0.2222222222222222,\"#7201a8\"],[0.3333333333333333,\"#9c179e\"],[0.4444444444444444,\"#bd3786\"],[0.5555555555555556,\"#d8576b\"],[0.6666666666666666,\"#ed7953\"],[0.7777777777777778,\"#fb9f3a\"],[0.8888888888888888,\"#fdca26\"],[1.0,\"#f0f921\"]]}],\"heatmap\":[{\"type\":\"heatmap\",\"colorbar\":{\"outlinewidth\":0,\"ticks\":\"\"},\"colorscale\":[[0.0,\"#0d0887\"],[0.1111111111111111,\"#46039f\"],[0.2222222222222222,\"#7201a8\"],[0.3333333333333333,\"#9c179e\"],[0.4444444444444444,\"#bd3786\"],[0.5555555555555556,\"#d8576b\"],[0.6666666666666666,\"#ed7953\"],[0.7777777777777778,\"#fb9f3a\"],[0.8888888888888888,\"#fdca26\"],[1.0,\"#f0f921\"]]}],\"heatmapgl\":[{\"type\":\"heatmapgl\",\"colorbar\":{\"outlinewidth\":0,\"ticks\":\"\"},\"colorscale\":[[0.0,\"#0d0887\"],[0.1111111111111111,\"#46039f\"],[0.2222222222222222,\"#7201a8\"],[0.3333333333333333,\"#9c179e\"],[0.4444444444444444,\"#bd3786\"],[0.5555555555555556,\"#d8576b\"],[0.6666666666666666,\"#ed7953\"],[0.7777777777777778,\"#fb9f3a\"],[0.8888888888888888,\"#fdca26\"],[1.0,\"#f0f921\"]]}],\"contourcarpet\":[{\"type\":\"contourcarpet\",\"colorbar\":{\"outlinewidth\":0,\"ticks\":\"\"}}],\"contour\":[{\"type\":\"contour\",\"colorbar\":{\"outlinewidth\":0,\"ticks\":\"\"},\"colorscale\":[[0.0,\"#0d0887\"],[0.1111111111111111,\"#46039f\"],[0.2222222222222222,\"#7201a8\"],[0.3333333333333333,\"#9c179e\"],[0.4444444444444444,\"#bd3786\"],[0.5555555555555556,\"#d8576b\"],[0.6666666666666666,\"#ed7953\"],[0.7777777777777778,\"#fb9f3a\"],[0.8888888888888888,\"#fdca26\"],[1.0,\"#f0f921\"]]}],\"surface\":[{\"type\":\"surface\",\"colorbar\":{\"outlinewidth\":0,\"ticks\":\"\"},\"colorscale\":[[0.0,\"#0d0887\"],[0.1111111111111111,\"#46039f\"],[0.2222222222222222,\"#7201a8\"],[0.3333333333333333,\"#9c179e\"],[0.4444444444444444,\"#bd3786\"],[0.5555555555555556,\"#d8576b\"],[0.6666666666666666,\"#ed7953\"],[0.7777777777777778,\"#fb9f3a\"],[0.8888888888888888,\"#fdca26\"],[1.0,\"#f0f921\"]]}],\"mesh3d\":[{\"type\":\"mesh3d\",\"colorbar\":{\"outlinewidth\":0,\"ticks\":\"\"}}],\"scatter\":[{\"fillpattern\":{\"fillmode\":\"overlay\",\"size\":10,\"solidity\":0.2},\"type\":\"scatter\"}],\"parcoords\":[{\"type\":\"parcoords\",\"line\":{\"colorbar\":{\"outlinewidth\":0,\"ticks\":\"\"}}}],\"scatterpolargl\":[{\"type\":\"scatterpolargl\",\"marker\":{\"colorbar\":{\"outlinewidth\":0,\"ticks\":\"\"}}}],\"bar\":[{\"error_x\":{\"color\":\"#2a3f5f\"},\"error_y\":{\"color\":\"#2a3f5f\"},\"marker\":{\"line\":{\"color\":\"#E5ECF6\",\"width\":0.5},\"pattern\":{\"fillmode\":\"overlay\",\"size\":10,\"solidity\":0.2}},\"type\":\"bar\"}],\"scattergeo\":[{\"type\":\"scattergeo\",\"marker\":{\"colorbar\":{\"outlinewidth\":0,\"ticks\":\"\"}}}],\"scatterpolar\":[{\"type\":\"scatterpolar\",\"marker\":{\"colorbar\":{\"outlinewidth\":0,\"ticks\":\"\"}}}],\"histogram\":[{\"marker\":{\"pattern\":{\"fillmode\":\"overlay\",\"size\":10,\"solidity\":0.2}},\"type\":\"histogram\"}],\"scattergl\":[{\"type\":\"scattergl\",\"marker\":{\"colorbar\":{\"outlinewidth\":0,\"ticks\":\"\"}}}],\"scatter3d\":[{\"type\":\"scatter3d\",\"line\":{\"colorbar\":{\"outlinewidth\":0,\"ticks\":\"\"}},\"marker\":{\"colorbar\":{\"outlinewidth\":0,\"ticks\":\"\"}}}],\"scattermapbox\":[{\"type\":\"scattermapbox\",\"marker\":{\"colorbar\":{\"outlinewidth\":0,\"ticks\":\"\"}}}],\"scatterternary\":[{\"type\":\"scatterternary\",\"marker\":{\"colorbar\":{\"outlinewidth\":0,\"ticks\":\"\"}}}],\"scattercarpet\":[{\"type\":\"scattercarpet\",\"marker\":{\"colorbar\":{\"outlinewidth\":0,\"ticks\":\"\"}}}],\"carpet\":[{\"aaxis\":{\"endlinecolor\":\"#2a3f5f\",\"gridcolor\":\"white\",\"linecolor\":\"white\",\"minorgridcolor\":\"white\",\"startlinecolor\":\"#2a3f5f\"},\"baxis\":{\"endlinecolor\":\"#2a3f5f\",\"gridcolor\":\"white\",\"linecolor\":\"white\",\"minorgridcolor\":\"white\",\"startlinecolor\":\"#2a3f5f\"},\"type\":\"carpet\"}],\"table\":[{\"cells\":{\"fill\":{\"color\":\"#EBF0F8\"},\"line\":{\"color\":\"white\"}},\"header\":{\"fill\":{\"color\":\"#C8D4E3\"},\"line\":{\"color\":\"white\"}},\"type\":\"table\"}],\"barpolar\":[{\"marker\":{\"line\":{\"color\":\"#E5ECF6\",\"width\":0.5},\"pattern\":{\"fillmode\":\"overlay\",\"size\":10,\"solidity\":0.2}},\"type\":\"barpolar\"}],\"pie\":[{\"automargin\":true,\"type\":\"pie\"}]},\"layout\":{\"autotypenumbers\":\"strict\",\"colorway\":[\"#636efa\",\"#EF553B\",\"#00cc96\",\"#ab63fa\",\"#FFA15A\",\"#19d3f3\",\"#FF6692\",\"#B6E880\",\"#FF97FF\",\"#FECB52\"],\"font\":{\"color\":\"#2a3f5f\"},\"hovermode\":\"closest\",\"hoverlabel\":{\"align\":\"left\"},\"paper_bgcolor\":\"white\",\"plot_bgcolor\":\"#E5ECF6\",\"polar\":{\"bgcolor\":\"#E5ECF6\",\"angularaxis\":{\"gridcolor\":\"white\",\"linecolor\":\"white\",\"ticks\":\"\"},\"radialaxis\":{\"gridcolor\":\"white\",\"linecolor\":\"white\",\"ticks\":\"\"}},\"ternary\":{\"bgcolor\":\"#E5ECF6\",\"aaxis\":{\"gridcolor\":\"white\",\"linecolor\":\"white\",\"ticks\":\"\"},\"baxis\":{\"gridcolor\":\"white\",\"linecolor\":\"white\",\"ticks\":\"\"},\"caxis\":{\"gridcolor\":\"white\",\"linecolor\":\"white\",\"ticks\":\"\"}},\"coloraxis\":{\"colorbar\":{\"outlinewidth\":0,\"ticks\":\"\"}},\"colorscale\":{\"sequential\":[[0.0,\"#0d0887\"],[0.1111111111111111,\"#46039f\"],[0.2222222222222222,\"#7201a8\"],[0.3333333333333333,\"#9c179e\"],[0.4444444444444444,\"#bd3786\"],[0.5555555555555556,\"#d8576b\"],[0.6666666666666666,\"#ed7953\"],[0.7777777777777778,\"#fb9f3a\"],[0.8888888888888888,\"#fdca26\"],[1.0,\"#f0f921\"]],\"sequentialminus\":[[0.0,\"#0d0887\"],[0.1111111111111111,\"#46039f\"],[0.2222222222222222,\"#7201a8\"],[0.3333333333333333,\"#9c179e\"],[0.4444444444444444,\"#bd3786\"],[0.5555555555555556,\"#d8576b\"],[0.6666666666666666,\"#ed7953\"],[0.7777777777777778,\"#fb9f3a\"],[0.8888888888888888,\"#fdca26\"],[1.0,\"#f0f921\"]],\"diverging\":[[0,\"#8e0152\"],[0.1,\"#c51b7d\"],[0.2,\"#de77ae\"],[0.3,\"#f1b6da\"],[0.4,\"#fde0ef\"],[0.5,\"#f7f7f7\"],[0.6,\"#e6f5d0\"],[0.7,\"#b8e186\"],[0.8,\"#7fbc41\"],[0.9,\"#4d9221\"],[1,\"#276419\"]]},\"xaxis\":{\"gridcolor\":\"white\",\"linecolor\":\"white\",\"ticks\":\"\",\"title\":{\"standoff\":15},\"zerolinecolor\":\"white\",\"automargin\":true,\"zerolinewidth\":2},\"yaxis\":{\"gridcolor\":\"white\",\"linecolor\":\"white\",\"ticks\":\"\",\"title\":{\"standoff\":15},\"zerolinecolor\":\"white\",\"automargin\":true,\"zerolinewidth\":2},\"scene\":{\"xaxis\":{\"backgroundcolor\":\"#E5ECF6\",\"gridcolor\":\"white\",\"linecolor\":\"white\",\"showbackground\":true,\"ticks\":\"\",\"zerolinecolor\":\"white\",\"gridwidth\":2},\"yaxis\":{\"backgroundcolor\":\"#E5ECF6\",\"gridcolor\":\"white\",\"linecolor\":\"white\",\"showbackground\":true,\"ticks\":\"\",\"zerolinecolor\":\"white\",\"gridwidth\":2},\"zaxis\":{\"backgroundcolor\":\"#E5ECF6\",\"gridcolor\":\"white\",\"linecolor\":\"white\",\"showbackground\":true,\"ticks\":\"\",\"zerolinecolor\":\"white\",\"gridwidth\":2}},\"shapedefaults\":{\"line\":{\"color\":\"#2a3f5f\"}},\"annotationdefaults\":{\"arrowcolor\":\"#2a3f5f\",\"arrowhead\":0,\"arrowwidth\":1},\"geo\":{\"bgcolor\":\"white\",\"landcolor\":\"#E5ECF6\",\"subunitcolor\":\"white\",\"showland\":true,\"showlakes\":true,\"lakecolor\":\"white\"},\"title\":{\"x\":0.05},\"mapbox\":{\"style\":\"light\"}}},\"xaxis\":{\"anchor\":\"y\",\"domain\":[0.0,1.0],\"title\":{\"text\":\"temp\"}},\"yaxis\":{\"anchor\":\"x\",\"domain\":[0.0,1.0],\"title\":{\"text\":\"cnt\"}},\"legend\":{\"tracegroupgap\":0},\"title\":{\"text\":\"Boxplot of values for temp against our target variable cnt\"},\"boxmode\":\"group\"},                        {\"responsive\": true}                    ).then(function(){\n                            \nvar gd = document.getElementById('74815324-e39e-48fd-9746-2dc2c8360b43');\nvar x = new MutationObserver(function (mutations, observer) {{\n        var display = window.getComputedStyle(gd).display;\n        if (!display || display === 'none') {{\n            console.log([gd, 'removed!']);\n            Plotly.purge(gd);\n            observer.disconnect();\n        }}\n}});\n\n// Listen for the removal of the full notebook cells\nvar notebookContainer = gd.closest('#notebook-container');\nif (notebookContainer) {{\n    x.observe(notebookContainer, {childList: true});\n}}\n\n// Listen for the clearing of the current output cell\nvar outputEl = gd.closest('.output');\nif (outputEl) {{\n    x.observe(outputEl, {childList: true});\n}}\n\n                        })                };                            </script>        </div>\n</body>\n</html>"
     },
     "metadata": {},
     "output_type": "display_data"
    }
   ]
  },
  {
   "cell_type": "markdown",
   "source": "As the temperature increases, we can see that the distribution of total bike rentals varies significantly.",
   "metadata": {
    "formattedRanges": [],
    "is_collapsed": false,
    "cell_id": "dd653332c8354942b279a5f06f10a340",
    "tags": [],
    "deepnote_cell_type": "text-cell-p"
   }
  },
  {
   "cell_type": "code",
   "metadata": {
    "cell_id": "24b5f2c4b4c341c8acc3e746fac80364",
    "tags": [],
    "deepnote_to_be_reexecuted": false,
    "source_hash": "67420529",
    "execution_start": 1663728013057,
    "execution_millis": 93,
    "deepnote_cell_type": "code",
    "deepnote_cell_height": 1457.03125,
    "deepnote_output_heights": [
     null,
     526,
     526
    ]
   },
   "source": "create_feature_analysis(data, 'atemp')",
   "execution_count": 18,
   "outputs": [
    {
     "name": "stdout",
     "text": "DESCRIPTIVE SUMMARY of atemp\ncount    730.000000\nmean      23.726322\nstd        8.150308\nmin        3.953480\n25%       16.889713\n50%       24.368225\n75%       30.445775\nmax       42.044800\nName: atemp, dtype: float64\n\n\nUNIQUE VALUE COUNT: 689\n",
     "output_type": "stream"
    },
    {
     "data": {
      "text/html": "<html>\n<head><meta charset=\"utf-8\" /></head>\n<body>\n    <div>            <script src=\"https://cdnjs.cloudflare.com/ajax/libs/mathjax/2.7.5/MathJax.js?config=TeX-AMS-MML_SVG\"></script><script type=\"text/javascript\">if (window.MathJax && window.MathJax.Hub && window.MathJax.Hub.Config) {window.MathJax.Hub.Config({SVG: {font: \"STIX-Web\"}});}</script>                <script type=\"text/javascript\">window.PlotlyConfig = {MathJaxConfig: 'local'};</script>\n        <script src=\"https://cdn.plot.ly/plotly-2.14.0.min.js\"></script>                <div id=\"5c608d29-b662-40bd-a91b-327d85c872c0\" class=\"plotly-graph-div\" style=\"height:525px; width:100%;\"></div>            <script type=\"text/javascript\">                                    window.PLOTLYENV=window.PLOTLYENV || {};                                    if (document.getElementById(\"5c608d29-b662-40bd-a91b-327d85c872c0\")) {                    Plotly.newPlot(                        \"5c608d29-b662-40bd-a91b-327d85c872c0\",                        [{\"alignmentgroup\":\"True\",\"bingroup\":\"x\",\"hovertemplate\":\"atemp=%{x}<br>count=%{y}<extra></extra>\",\"legendgroup\":\"\",\"marker\":{\"color\":\"#636efa\",\"pattern\":{\"shape\":\"\"}},\"name\":\"\",\"offsetgroup\":\"\",\"orientation\":\"v\",\"showlegend\":false,\"x\":[18.18125,17.68695,9.47025,10.6061,11.4635,11.66045,10.44195,8.1127,5.80875,7.5444,9.5732,8.02365,7.54415,9.42065,12.4056,11.71085,8.83855,11.61665,14.9211,12.7525,7.89165,3.95348,4.941955,5.8965,11.7263,10.18,10.985,11.16585,10.6063,12.5161,9.3125,11.7265,12.72085,8.8939,11.42935,12.1529,14.58355,15.1829,9.9123,7.21415,7.4774,10.67545,11.6477,16.20565,19.9175,12.7137,15.81,21.4329,25.59915,19.5702,13.8665,14.20375,9.30165,12.28585,14.45955,17.52305,14.1096,17.55545,20.0059,13.19395,16.00355,10.00665,12.78395,18.93895,18.3126,11.92305,15.12,14.3304,19.2834,15.25,16.2875,19.00455,16.6,15.9089,18.3465,20.51665,26.35045,23.32625,16.2875,20.48675,22.0321,16.89695,13.54165,12.8156,12.87855,12.51695,12.8787,14.6454,14.8675,12.87875,14.1727,15.78185,18.93835,27.14645,19.9175,19.3804,21.6848,16.22395,17.07645,21.33685,28.26085,24.6527,20.86415,23.1371,22.09565,21.2746,22.2848,25.1573,24.4629,28.2196,22.6946,16.0977,22.50605,27.58815,28.725,29.70415,28.7571,28.94645,24.87315,23.20105,22.4102,26.64165,29.10395,20.2325,22.09585,23.70585,25.63105,25.94665,26.2623,26.13605,26.42,26.16815,24.715,25.03145,26.8,27.5256,26.92645,26.3579,25.5371,26.4521,28.59875,28.725,29.5148,30.24065,30.7771,32.7344,31.8504,30.61895,30.7775,33.5546,36.26915,36.04835,32.1971,29.35665,29.7348,30.8402,31.0929,32.7975,36.36395,37.87895,35.1646,33.9019,32.16625,30.0827,29.5773,29.3877,29.7673,30.01915,32.1977,32.2923,29.7673,31.8823,34.69145,34.69165,32.82915,32.16565,31.88145,31.8502,34.6279,32.7344,31.8504,32.6081,33.3654,33.42875,33.27085,34.8169,34.28165,34.34355,33.52415,33.2079,34.50125,36.4902,36.96375,34.4702,31.7552,31.21855,31.91315,33.49165,35.19625,37.37395,37.3425,41.31855,42.0448,40.21435,39.74145,36.0479,34.84895,34.53335,36.995,39.29835,36.42685,36.4898,35.1646,35.35355,33.99685,33.2394,32.82835,33.8077,35.7646,35.16415,36.20605,34.24915,32.57605,32.7021,32.2929,31.2194,30.80835,32.29185,33.33355,33.1129,31.66105,32.4498,33.77625,31.9127,30.30335,31.5346,32.2927,32.98665,31.7778,32.39795,30.3979,29.7352,30.55605,30.74605,30.2404,31.66065,33.27145,31.2823,25.76,27.21145,27.76805,28.9473,30.3981,30.46145,30.1065,30.1777,31.345,27.68355,23.07375,23.9256,24.52685,26.48375,26.61085,27.52665,27.74815,26.10625,28.2206,28.63185,29.4521,28.72625,28.7579,28.7256,27.24145,20.64315,17.26585,19.6023,23.6429,26.3569,24.02125,25.2202,25.6621,26.19915,27.14625,27.3048,25.88585,27.5902,26.48375,24.93625,25.1577,25.53625,26.13605,25.6924,23.32625,21.1798,21.2746,21.11665,22.85335,23.16875,23.6423,22.8523,15.9406,11.39565,16.06645,17.80315,19.8544,19.50665,20.29605,20.1696,16.1927,18.1179,20.04355,20.6123,20.45395,18.68605,15.34085,17.8971,21.5275,26.2306,25.37895,22.5994,16.16105,13.63605,16.22415,22.8529,22.2531,21.0848,21.52685,18.62355,19.03355,19.25435,22.79,24.5061,22.56875,15.56105,15.2777,16.57165,15.5302,17.455,19.69625,22.82,20.0123,12.8469,15.8771,13.3206,12.6577,13.5098,15.0569,16.9181,20.61185,17.99125,12.46855,12.27895,14.04665,19.8227,21.40085,21.30605,18.87565,14.9621,13.99805,15.77675,16.38165,13.9987,13.1946,15.9406,20.70605,18.78105,12.6152,6.31375,5.96685,13.9206,17.01335,19.53895,17.0129,12.37395,15.9413,14.14105,19.0969,12.4681,9.15435,8.08125,9.53315,18.2139,13.7627,9.5019,11.0479,8.74375,8.1125,12.1529,17.4554,14.74105,17.8025,20.76915,16.31895,13.63605,13.13125,19.06585,23.3269,19.94855,15.4673,13.63625,13.22605,14.8213,18.0552,13.32105,13.0994,14.6779,10.54335,5.0829,11.39565,16.6973,17.58145,16.5081,17.58145,17.77125,13.2894,13.66955,14.75565,19.63335,22.2223,20.54855,12.78375,13.4154,17.8977,17.67625,23.76855,17.9921,20.6746,15.15105,12.05855,12.7521,19.255,26.2302,19.85415,13.88835,17.9835,22.9796,27.14645,27.43085,26.64125,21.81145,25.2523,23.2,26.64105,26.92665,25.6629,26.57835,28.50335,24.33665,21.8744,21.9375,15.7827,23.5475,24.1152,18.78105,21.0854,20.86435,21.37565,23.07415,26.6725,21.55815,19.53835,21.30645,24.62125,23.8319,21.81165,16.8637,19.3802,21.5904,24.3998,28.69375,30.74625,29.92435,22.8519,24.6523,25.78875,27.14605,19.4752,15.05625,20.26415,23.51585,24.17915,22.63185,18.8752,22.50605,22.8848,28.85105,26.8948,26.8621,29.54585,29.2304,27.33685,26.3571,27.87355,27.65125,24.58915,26.04165,27.24085,29.2619,27.495,28.8202,29.79875,28.63065,27.55605,28.3454,29.19835,28.28335,29.04125,29.2306,30.335,31.37645,32.1348,32.07125,33.965,33.6496,30.55645,31.56645,30.3981,28.3144,28.75665,28.91415,26.2946,27.1146,28.4721,29.8931,32.41835,33.17585,32.98605,29.89375,30.55585,31.21915,29.9877,29.7354,28.59875,27.2421,32.7346,36.04875,37.6271,36.20605,32.6396,33.7127,32.7021,29.7352,32.0396,33.7756,39.33065,34.3754,37.53145,35.1019,35.1325,36.61685,38.06835,37.62665,40.24565,39.5198,32.7027,33.2398,32.51355,32.73415,33.39665,33.3021,35.2598,36.20625,37.78415,37.27915,35.7321,30.65125,27.4956,31.15625,34.50085,35.3225,32.7027,36.96315,36.71085,34.8802,33.39665,34.24935,33.1448,33.3654,35.3544,36.14335,37.56335,36.55395,35.5123,34.88105,35.38585,34.9754,33.3971,31.91335,32.22895,33.1127,33.83895,32.70185,32.7344,12.12,30.90355,30.1777,29.79835,30.05125,31.0927,31.8504,32.355,30.9348,29.7998,32.7344,33.3025,31.78665,32.63895,34.47,35.1327,32.45,33.08145,34.3444,35.44915,32.76645,32.8602,30.55605,28.94625,28.2827,27.7146,28.50375,28.9779,29.70415,29.29335,28.15625,27.6525,28.25335,27.0202,26.6096,28.59855,30.5244,25.94665,25.12565,27.20895,29.83065,30.39875,29.29315,26.5148,25.88315,25.6,27.11665,29.95665,30.39875,29.00935,26.92605,20.99065,19.3804,21.9056,25.1571,21.55835,21.65355,19.5698,25.4102,26.9575,23.0423,22.5054,25.63125,26.8948,23.6421,22.82145,24.1471,26.5152,27.93605,26.4844,26.1375,25.75665,23.38855,21.97,15.49545,18.055,18.4971,17.8021,16.1923,16.4769,15.40375,14.07835,13.73105,17.09455,17.77065,19.69685,21.08565,23.76915,16.16125,14.07815,16.2246,17.3602,16.31915,16.8873,18.78105,19.03335,18.2446,17.51855,18.93895,12.4371,12.87915,16.9502,14.0779,14.4881,14.9211,16.19335,15.8452,17.9604,22.7898,23.4527,21.4006,12.9102,16.0979,19.4754,19.5073,21.77875,16.91815,14.8669,14.7094,14.7096,16.91915,18.4969,20.075,20.4854,17.1081,16.76085,15.08835,11.80565,12.97355,12.945,14.72325,11.01665,11.3321,12.7523,12.12,11.585,11.17435],\"xaxis\":\"x\",\"yaxis\":\"y\",\"type\":\"histogram\"}],                        {\"template\":{\"data\":{\"histogram2dcontour\":[{\"type\":\"histogram2dcontour\",\"colorbar\":{\"outlinewidth\":0,\"ticks\":\"\"},\"colorscale\":[[0.0,\"#0d0887\"],[0.1111111111111111,\"#46039f\"],[0.2222222222222222,\"#7201a8\"],[0.3333333333333333,\"#9c179e\"],[0.4444444444444444,\"#bd3786\"],[0.5555555555555556,\"#d8576b\"],[0.6666666666666666,\"#ed7953\"],[0.7777777777777778,\"#fb9f3a\"],[0.8888888888888888,\"#fdca26\"],[1.0,\"#f0f921\"]]}],\"choropleth\":[{\"type\":\"choropleth\",\"colorbar\":{\"outlinewidth\":0,\"ticks\":\"\"}}],\"histogram2d\":[{\"type\":\"histogram2d\",\"colorbar\":{\"outlinewidth\":0,\"ticks\":\"\"},\"colorscale\":[[0.0,\"#0d0887\"],[0.1111111111111111,\"#46039f\"],[0.2222222222222222,\"#7201a8\"],[0.3333333333333333,\"#9c179e\"],[0.4444444444444444,\"#bd3786\"],[0.5555555555555556,\"#d8576b\"],[0.6666666666666666,\"#ed7953\"],[0.7777777777777778,\"#fb9f3a\"],[0.8888888888888888,\"#fdca26\"],[1.0,\"#f0f921\"]]}],\"heatmap\":[{\"type\":\"heatmap\",\"colorbar\":{\"outlinewidth\":0,\"ticks\":\"\"},\"colorscale\":[[0.0,\"#0d0887\"],[0.1111111111111111,\"#46039f\"],[0.2222222222222222,\"#7201a8\"],[0.3333333333333333,\"#9c179e\"],[0.4444444444444444,\"#bd3786\"],[0.5555555555555556,\"#d8576b\"],[0.6666666666666666,\"#ed7953\"],[0.7777777777777778,\"#fb9f3a\"],[0.8888888888888888,\"#fdca26\"],[1.0,\"#f0f921\"]]}],\"heatmapgl\":[{\"type\":\"heatmapgl\",\"colorbar\":{\"outlinewidth\":0,\"ticks\":\"\"},\"colorscale\":[[0.0,\"#0d0887\"],[0.1111111111111111,\"#46039f\"],[0.2222222222222222,\"#7201a8\"],[0.3333333333333333,\"#9c179e\"],[0.4444444444444444,\"#bd3786\"],[0.5555555555555556,\"#d8576b\"],[0.6666666666666666,\"#ed7953\"],[0.7777777777777778,\"#fb9f3a\"],[0.8888888888888888,\"#fdca26\"],[1.0,\"#f0f921\"]]}],\"contourcarpet\":[{\"type\":\"contourcarpet\",\"colorbar\":{\"outlinewidth\":0,\"ticks\":\"\"}}],\"contour\":[{\"type\":\"contour\",\"colorbar\":{\"outlinewidth\":0,\"ticks\":\"\"},\"colorscale\":[[0.0,\"#0d0887\"],[0.1111111111111111,\"#46039f\"],[0.2222222222222222,\"#7201a8\"],[0.3333333333333333,\"#9c179e\"],[0.4444444444444444,\"#bd3786\"],[0.5555555555555556,\"#d8576b\"],[0.6666666666666666,\"#ed7953\"],[0.7777777777777778,\"#fb9f3a\"],[0.8888888888888888,\"#fdca26\"],[1.0,\"#f0f921\"]]}],\"surface\":[{\"type\":\"surface\",\"colorbar\":{\"outlinewidth\":0,\"ticks\":\"\"},\"colorscale\":[[0.0,\"#0d0887\"],[0.1111111111111111,\"#46039f\"],[0.2222222222222222,\"#7201a8\"],[0.3333333333333333,\"#9c179e\"],[0.4444444444444444,\"#bd3786\"],[0.5555555555555556,\"#d8576b\"],[0.6666666666666666,\"#ed7953\"],[0.7777777777777778,\"#fb9f3a\"],[0.8888888888888888,\"#fdca26\"],[1.0,\"#f0f921\"]]}],\"mesh3d\":[{\"type\":\"mesh3d\",\"colorbar\":{\"outlinewidth\":0,\"ticks\":\"\"}}],\"scatter\":[{\"fillpattern\":{\"fillmode\":\"overlay\",\"size\":10,\"solidity\":0.2},\"type\":\"scatter\"}],\"parcoords\":[{\"type\":\"parcoords\",\"line\":{\"colorbar\":{\"outlinewidth\":0,\"ticks\":\"\"}}}],\"scatterpolargl\":[{\"type\":\"scatterpolargl\",\"marker\":{\"colorbar\":{\"outlinewidth\":0,\"ticks\":\"\"}}}],\"bar\":[{\"error_x\":{\"color\":\"#2a3f5f\"},\"error_y\":{\"color\":\"#2a3f5f\"},\"marker\":{\"line\":{\"color\":\"#E5ECF6\",\"width\":0.5},\"pattern\":{\"fillmode\":\"overlay\",\"size\":10,\"solidity\":0.2}},\"type\":\"bar\"}],\"scattergeo\":[{\"type\":\"scattergeo\",\"marker\":{\"colorbar\":{\"outlinewidth\":0,\"ticks\":\"\"}}}],\"scatterpolar\":[{\"type\":\"scatterpolar\",\"marker\":{\"colorbar\":{\"outlinewidth\":0,\"ticks\":\"\"}}}],\"histogram\":[{\"marker\":{\"pattern\":{\"fillmode\":\"overlay\",\"size\":10,\"solidity\":0.2}},\"type\":\"histogram\"}],\"scattergl\":[{\"type\":\"scattergl\",\"marker\":{\"colorbar\":{\"outlinewidth\":0,\"ticks\":\"\"}}}],\"scatter3d\":[{\"type\":\"scatter3d\",\"line\":{\"colorbar\":{\"outlinewidth\":0,\"ticks\":\"\"}},\"marker\":{\"colorbar\":{\"outlinewidth\":0,\"ticks\":\"\"}}}],\"scattermapbox\":[{\"type\":\"scattermapbox\",\"marker\":{\"colorbar\":{\"outlinewidth\":0,\"ticks\":\"\"}}}],\"scatterternary\":[{\"type\":\"scatterternary\",\"marker\":{\"colorbar\":{\"outlinewidth\":0,\"ticks\":\"\"}}}],\"scattercarpet\":[{\"type\":\"scattercarpet\",\"marker\":{\"colorbar\":{\"outlinewidth\":0,\"ticks\":\"\"}}}],\"carpet\":[{\"aaxis\":{\"endlinecolor\":\"#2a3f5f\",\"gridcolor\":\"white\",\"linecolor\":\"white\",\"minorgridcolor\":\"white\",\"startlinecolor\":\"#2a3f5f\"},\"baxis\":{\"endlinecolor\":\"#2a3f5f\",\"gridcolor\":\"white\",\"linecolor\":\"white\",\"minorgridcolor\":\"white\",\"startlinecolor\":\"#2a3f5f\"},\"type\":\"carpet\"}],\"table\":[{\"cells\":{\"fill\":{\"color\":\"#EBF0F8\"},\"line\":{\"color\":\"white\"}},\"header\":{\"fill\":{\"color\":\"#C8D4E3\"},\"line\":{\"color\":\"white\"}},\"type\":\"table\"}],\"barpolar\":[{\"marker\":{\"line\":{\"color\":\"#E5ECF6\",\"width\":0.5},\"pattern\":{\"fillmode\":\"overlay\",\"size\":10,\"solidity\":0.2}},\"type\":\"barpolar\"}],\"pie\":[{\"automargin\":true,\"type\":\"pie\"}]},\"layout\":{\"autotypenumbers\":\"strict\",\"colorway\":[\"#636efa\",\"#EF553B\",\"#00cc96\",\"#ab63fa\",\"#FFA15A\",\"#19d3f3\",\"#FF6692\",\"#B6E880\",\"#FF97FF\",\"#FECB52\"],\"font\":{\"color\":\"#2a3f5f\"},\"hovermode\":\"closest\",\"hoverlabel\":{\"align\":\"left\"},\"paper_bgcolor\":\"white\",\"plot_bgcolor\":\"#E5ECF6\",\"polar\":{\"bgcolor\":\"#E5ECF6\",\"angularaxis\":{\"gridcolor\":\"white\",\"linecolor\":\"white\",\"ticks\":\"\"},\"radialaxis\":{\"gridcolor\":\"white\",\"linecolor\":\"white\",\"ticks\":\"\"}},\"ternary\":{\"bgcolor\":\"#E5ECF6\",\"aaxis\":{\"gridcolor\":\"white\",\"linecolor\":\"white\",\"ticks\":\"\"},\"baxis\":{\"gridcolor\":\"white\",\"linecolor\":\"white\",\"ticks\":\"\"},\"caxis\":{\"gridcolor\":\"white\",\"linecolor\":\"white\",\"ticks\":\"\"}},\"coloraxis\":{\"colorbar\":{\"outlinewidth\":0,\"ticks\":\"\"}},\"colorscale\":{\"sequential\":[[0.0,\"#0d0887\"],[0.1111111111111111,\"#46039f\"],[0.2222222222222222,\"#7201a8\"],[0.3333333333333333,\"#9c179e\"],[0.4444444444444444,\"#bd3786\"],[0.5555555555555556,\"#d8576b\"],[0.6666666666666666,\"#ed7953\"],[0.7777777777777778,\"#fb9f3a\"],[0.8888888888888888,\"#fdca26\"],[1.0,\"#f0f921\"]],\"sequentialminus\":[[0.0,\"#0d0887\"],[0.1111111111111111,\"#46039f\"],[0.2222222222222222,\"#7201a8\"],[0.3333333333333333,\"#9c179e\"],[0.4444444444444444,\"#bd3786\"],[0.5555555555555556,\"#d8576b\"],[0.6666666666666666,\"#ed7953\"],[0.7777777777777778,\"#fb9f3a\"],[0.8888888888888888,\"#fdca26\"],[1.0,\"#f0f921\"]],\"diverging\":[[0,\"#8e0152\"],[0.1,\"#c51b7d\"],[0.2,\"#de77ae\"],[0.3,\"#f1b6da\"],[0.4,\"#fde0ef\"],[0.5,\"#f7f7f7\"],[0.6,\"#e6f5d0\"],[0.7,\"#b8e186\"],[0.8,\"#7fbc41\"],[0.9,\"#4d9221\"],[1,\"#276419\"]]},\"xaxis\":{\"gridcolor\":\"white\",\"linecolor\":\"white\",\"ticks\":\"\",\"title\":{\"standoff\":15},\"zerolinecolor\":\"white\",\"automargin\":true,\"zerolinewidth\":2},\"yaxis\":{\"gridcolor\":\"white\",\"linecolor\":\"white\",\"ticks\":\"\",\"title\":{\"standoff\":15},\"zerolinecolor\":\"white\",\"automargin\":true,\"zerolinewidth\":2},\"scene\":{\"xaxis\":{\"backgroundcolor\":\"#E5ECF6\",\"gridcolor\":\"white\",\"linecolor\":\"white\",\"showbackground\":true,\"ticks\":\"\",\"zerolinecolor\":\"white\",\"gridwidth\":2},\"yaxis\":{\"backgroundcolor\":\"#E5ECF6\",\"gridcolor\":\"white\",\"linecolor\":\"white\",\"showbackground\":true,\"ticks\":\"\",\"zerolinecolor\":\"white\",\"gridwidth\":2},\"zaxis\":{\"backgroundcolor\":\"#E5ECF6\",\"gridcolor\":\"white\",\"linecolor\":\"white\",\"showbackground\":true,\"ticks\":\"\",\"zerolinecolor\":\"white\",\"gridwidth\":2}},\"shapedefaults\":{\"line\":{\"color\":\"#2a3f5f\"}},\"annotationdefaults\":{\"arrowcolor\":\"#2a3f5f\",\"arrowhead\":0,\"arrowwidth\":1},\"geo\":{\"bgcolor\":\"white\",\"landcolor\":\"#E5ECF6\",\"subunitcolor\":\"white\",\"showland\":true,\"showlakes\":true,\"lakecolor\":\"white\"},\"title\":{\"x\":0.05},\"mapbox\":{\"style\":\"light\"}}},\"xaxis\":{\"anchor\":\"y\",\"domain\":[0.0,1.0],\"title\":{\"text\":\"atemp\"}},\"yaxis\":{\"anchor\":\"x\",\"domain\":[0.0,1.0],\"title\":{\"text\":\"count\"}},\"legend\":{\"tracegroupgap\":0},\"title\":{\"text\":\"Histogram of values for atemp\"},\"barmode\":\"relative\"},                        {\"responsive\": true}                    ).then(function(){\n                            \nvar gd = document.getElementById('5c608d29-b662-40bd-a91b-327d85c872c0');\nvar x = new MutationObserver(function (mutations, observer) {{\n        var display = window.getComputedStyle(gd).display;\n        if (!display || display === 'none') {{\n            console.log([gd, 'removed!']);\n            Plotly.purge(gd);\n            observer.disconnect();\n        }}\n}});\n\n// Listen for the removal of the full notebook cells\nvar notebookContainer = gd.closest('#notebook-container');\nif (notebookContainer) {{\n    x.observe(notebookContainer, {childList: true});\n}}\n\n// Listen for the clearing of the current output cell\nvar outputEl = gd.closest('.output');\nif (outputEl) {{\n    x.observe(outputEl, {childList: true});\n}}\n\n                        })                };                            </script>        </div>\n</body>\n</html>"
     },
     "metadata": {},
     "output_type": "display_data"
    },
    {
     "data": {
      "text/html": "<html>\n<head><meta charset=\"utf-8\" /></head>\n<body>\n    <div>            <script src=\"https://cdnjs.cloudflare.com/ajax/libs/mathjax/2.7.5/MathJax.js?config=TeX-AMS-MML_SVG\"></script><script type=\"text/javascript\">if (window.MathJax && window.MathJax.Hub && window.MathJax.Hub.Config) {window.MathJax.Hub.Config({SVG: {font: \"STIX-Web\"}});}</script>                <script type=\"text/javascript\">window.PlotlyConfig = {MathJaxConfig: 'local'};</script>\n        <script src=\"https://cdn.plot.ly/plotly-2.14.0.min.js\"></script>                <div id=\"ab20125e-5f0e-4288-a573-6f5e7777a0c8\" class=\"plotly-graph-div\" style=\"height:525px; width:100%;\"></div>            <script type=\"text/javascript\">                                    window.PLOTLYENV=window.PLOTLYENV || {};                                    if (document.getElementById(\"ab20125e-5f0e-4288-a573-6f5e7777a0c8\")) {                    Plotly.newPlot(                        \"ab20125e-5f0e-4288-a573-6f5e7777a0c8\",                        [{\"alignmentgroup\":\"True\",\"hovertemplate\":\"atemp=%{x}<br>cnt=%{y}<extra></extra>\",\"legendgroup\":\"\",\"marker\":{\"color\":\"#636efa\"},\"name\":\"\",\"notched\":false,\"offsetgroup\":\"\",\"orientation\":\"v\",\"showlegend\":false,\"x\":[18.18125,17.68695,9.47025,10.6061,11.4635,11.66045,10.44195,8.1127,5.80875,7.5444,9.5732,8.02365,7.54415,9.42065,12.4056,11.71085,8.83855,11.61665,14.9211,12.7525,7.89165,3.95348,4.941955,5.8965,11.7263,10.18,10.985,11.16585,10.6063,12.5161,9.3125,11.7265,12.72085,8.8939,11.42935,12.1529,14.58355,15.1829,9.9123,7.21415,7.4774,10.67545,11.6477,16.20565,19.9175,12.7137,15.81,21.4329,25.59915,19.5702,13.8665,14.20375,9.30165,12.28585,14.45955,17.52305,14.1096,17.55545,20.0059,13.19395,16.00355,10.00665,12.78395,18.93895,18.3126,11.92305,15.12,14.3304,19.2834,15.25,16.2875,19.00455,16.6,15.9089,18.3465,20.51665,26.35045,23.32625,16.2875,20.48675,22.0321,16.89695,13.54165,12.8156,12.87855,12.51695,12.8787,14.6454,14.8675,12.87875,14.1727,15.78185,18.93835,27.14645,19.9175,19.3804,21.6848,16.22395,17.07645,21.33685,28.26085,24.6527,20.86415,23.1371,22.09565,21.2746,22.2848,25.1573,24.4629,28.2196,22.6946,16.0977,22.50605,27.58815,28.725,29.70415,28.7571,28.94645,24.87315,23.20105,22.4102,26.64165,29.10395,20.2325,22.09585,23.70585,25.63105,25.94665,26.2623,26.13605,26.42,26.16815,24.715,25.03145,26.8,27.5256,26.92645,26.3579,25.5371,26.4521,28.59875,28.725,29.5148,30.24065,30.7771,32.7344,31.8504,30.61895,30.7775,33.5546,36.26915,36.04835,32.1971,29.35665,29.7348,30.8402,31.0929,32.7975,36.36395,37.87895,35.1646,33.9019,32.16625,30.0827,29.5773,29.3877,29.7673,30.01915,32.1977,32.2923,29.7673,31.8823,34.69145,34.69165,32.82915,32.16565,31.88145,31.8502,34.6279,32.7344,31.8504,32.6081,33.3654,33.42875,33.27085,34.8169,34.28165,34.34355,33.52415,33.2079,34.50125,36.4902,36.96375,34.4702,31.7552,31.21855,31.91315,33.49165,35.19625,37.37395,37.3425,41.31855,42.0448,40.21435,39.74145,36.0479,34.84895,34.53335,36.995,39.29835,36.42685,36.4898,35.1646,35.35355,33.99685,33.2394,32.82835,33.8077,35.7646,35.16415,36.20605,34.24915,32.57605,32.7021,32.2929,31.2194,30.80835,32.29185,33.33355,33.1129,31.66105,32.4498,33.77625,31.9127,30.30335,31.5346,32.2927,32.98665,31.7778,32.39795,30.3979,29.7352,30.55605,30.74605,30.2404,31.66065,33.27145,31.2823,25.76,27.21145,27.76805,28.9473,30.3981,30.46145,30.1065,30.1777,31.345,27.68355,23.07375,23.9256,24.52685,26.48375,26.61085,27.52665,27.74815,26.10625,28.2206,28.63185,29.4521,28.72625,28.7579,28.7256,27.24145,20.64315,17.26585,19.6023,23.6429,26.3569,24.02125,25.2202,25.6621,26.19915,27.14625,27.3048,25.88585,27.5902,26.48375,24.93625,25.1577,25.53625,26.13605,25.6924,23.32625,21.1798,21.2746,21.11665,22.85335,23.16875,23.6423,22.8523,15.9406,11.39565,16.06645,17.80315,19.8544,19.50665,20.29605,20.1696,16.1927,18.1179,20.04355,20.6123,20.45395,18.68605,15.34085,17.8971,21.5275,26.2306,25.37895,22.5994,16.16105,13.63605,16.22415,22.8529,22.2531,21.0848,21.52685,18.62355,19.03355,19.25435,22.79,24.5061,22.56875,15.56105,15.2777,16.57165,15.5302,17.455,19.69625,22.82,20.0123,12.8469,15.8771,13.3206,12.6577,13.5098,15.0569,16.9181,20.61185,17.99125,12.46855,12.27895,14.04665,19.8227,21.40085,21.30605,18.87565,14.9621,13.99805,15.77675,16.38165,13.9987,13.1946,15.9406,20.70605,18.78105,12.6152,6.31375,5.96685,13.9206,17.01335,19.53895,17.0129,12.37395,15.9413,14.14105,19.0969,12.4681,9.15435,8.08125,9.53315,18.2139,13.7627,9.5019,11.0479,8.74375,8.1125,12.1529,17.4554,14.74105,17.8025,20.76915,16.31895,13.63605,13.13125,19.06585,23.3269,19.94855,15.4673,13.63625,13.22605,14.8213,18.0552,13.32105,13.0994,14.6779,10.54335,5.0829,11.39565,16.6973,17.58145,16.5081,17.58145,17.77125,13.2894,13.66955,14.75565,19.63335,22.2223,20.54855,12.78375,13.4154,17.8977,17.67625,23.76855,17.9921,20.6746,15.15105,12.05855,12.7521,19.255,26.2302,19.85415,13.88835,17.9835,22.9796,27.14645,27.43085,26.64125,21.81145,25.2523,23.2,26.64105,26.92665,25.6629,26.57835,28.50335,24.33665,21.8744,21.9375,15.7827,23.5475,24.1152,18.78105,21.0854,20.86435,21.37565,23.07415,26.6725,21.55815,19.53835,21.30645,24.62125,23.8319,21.81165,16.8637,19.3802,21.5904,24.3998,28.69375,30.74625,29.92435,22.8519,24.6523,25.78875,27.14605,19.4752,15.05625,20.26415,23.51585,24.17915,22.63185,18.8752,22.50605,22.8848,28.85105,26.8948,26.8621,29.54585,29.2304,27.33685,26.3571,27.87355,27.65125,24.58915,26.04165,27.24085,29.2619,27.495,28.8202,29.79875,28.63065,27.55605,28.3454,29.19835,28.28335,29.04125,29.2306,30.335,31.37645,32.1348,32.07125,33.965,33.6496,30.55645,31.56645,30.3981,28.3144,28.75665,28.91415,26.2946,27.1146,28.4721,29.8931,32.41835,33.17585,32.98605,29.89375,30.55585,31.21915,29.9877,29.7354,28.59875,27.2421,32.7346,36.04875,37.6271,36.20605,32.6396,33.7127,32.7021,29.7352,32.0396,33.7756,39.33065,34.3754,37.53145,35.1019,35.1325,36.61685,38.06835,37.62665,40.24565,39.5198,32.7027,33.2398,32.51355,32.73415,33.39665,33.3021,35.2598,36.20625,37.78415,37.27915,35.7321,30.65125,27.4956,31.15625,34.50085,35.3225,32.7027,36.96315,36.71085,34.8802,33.39665,34.24935,33.1448,33.3654,35.3544,36.14335,37.56335,36.55395,35.5123,34.88105,35.38585,34.9754,33.3971,31.91335,32.22895,33.1127,33.83895,32.70185,32.7344,12.12,30.90355,30.1777,29.79835,30.05125,31.0927,31.8504,32.355,30.9348,29.7998,32.7344,33.3025,31.78665,32.63895,34.47,35.1327,32.45,33.08145,34.3444,35.44915,32.76645,32.8602,30.55605,28.94625,28.2827,27.7146,28.50375,28.9779,29.70415,29.29335,28.15625,27.6525,28.25335,27.0202,26.6096,28.59855,30.5244,25.94665,25.12565,27.20895,29.83065,30.39875,29.29315,26.5148,25.88315,25.6,27.11665,29.95665,30.39875,29.00935,26.92605,20.99065,19.3804,21.9056,25.1571,21.55835,21.65355,19.5698,25.4102,26.9575,23.0423,22.5054,25.63125,26.8948,23.6421,22.82145,24.1471,26.5152,27.93605,26.4844,26.1375,25.75665,23.38855,21.97,15.49545,18.055,18.4971,17.8021,16.1923,16.4769,15.40375,14.07835,13.73105,17.09455,17.77065,19.69685,21.08565,23.76915,16.16125,14.07815,16.2246,17.3602,16.31915,16.8873,18.78105,19.03335,18.2446,17.51855,18.93895,12.4371,12.87915,16.9502,14.0779,14.4881,14.9211,16.19335,15.8452,17.9604,22.7898,23.4527,21.4006,12.9102,16.0979,19.4754,19.5073,21.77875,16.91815,14.8669,14.7094,14.7096,16.91915,18.4969,20.075,20.4854,17.1081,16.76085,15.08835,11.80565,12.97355,12.945,14.72325,11.01665,11.3321,12.7523,12.12,11.585,11.17435],\"x0\":\" \",\"xaxis\":\"x\",\"y\":[985,801,1349,1562,1600,1606,1510,959,822,1321,1263,1162,1406,1421,1248,1204,1000,683,1650,1927,1543,981,986,1416,1985,506,431,1167,1098,1096,1501,1360,1526,1550,1708,1005,1623,1712,1530,1605,1538,1746,1472,1589,1913,1815,2115,2475,2927,1635,1812,1107,1450,1917,1807,1461,1969,2402,1446,1851,2134,1685,1944,2077,605,1872,2133,1891,623,1977,2132,2417,2046,2056,2192,2744,3239,3117,2471,2077,2703,2121,1865,2210,2496,1693,2028,2425,1536,1685,2227,2252,3249,3115,1795,2808,3141,1471,2455,2895,3348,2034,2162,3267,3126,795,3744,3429,3204,3944,4189,1683,4036,4191,4073,4400,3872,4058,4595,5312,3351,4401,4451,2633,4433,4608,4714,4333,4362,4803,4182,4864,4105,3409,4553,3958,4123,3855,4575,4917,5805,4660,4274,4492,4978,4677,4679,4758,4788,4098,3982,3974,4968,5312,5342,4906,4548,4833,4401,3915,4586,4966,4460,5020,4891,5180,3767,4844,5119,4744,4010,4835,4507,4790,4991,5202,5305,4708,4648,5225,5515,5362,5119,4649,6043,4665,4629,4592,4040,5336,4881,4086,4258,4342,5084,5538,5923,5302,4458,4541,4332,3784,3387,3285,3606,3840,4590,4656,4390,3846,4475,4302,4266,4845,3574,4576,4866,4294,3785,4326,4602,4780,4792,4905,4150,3820,4338,4725,4694,3805,4153,5191,3873,4758,5895,5130,3542,4661,1115,4334,4634,5204,5058,5115,4727,4484,4940,3351,2710,1996,1842,3544,5345,5046,4713,4763,4785,3659,4760,4511,4274,4539,3641,4352,4795,2395,5423,5010,4630,4120,3907,4839,5202,2429,2918,3570,4456,4826,4765,4985,5409,5511,5117,4563,2416,2913,3644,5217,5041,4570,4748,2424,4195,4304,4308,4381,4187,4687,3894,2659,3747,627,3331,3669,4068,4186,3974,4046,3926,3649,4035,4205,4109,2933,3368,4067,3717,4486,4195,1817,3053,3392,3663,3520,2765,1607,2566,1495,2792,3068,3071,3867,2914,3613,3727,3940,3614,3485,3811,2594,705,3322,3620,3190,2743,3310,3523,3740,3709,3577,2739,2431,3403,3750,2660,3068,2209,1011,754,1317,1162,2302,2423,2999,2485,2294,1951,2236,2368,3272,4098,4521,3425,2376,3598,2177,4097,3214,2493,2311,2298,2935,3376,3292,3163,1301,1977,2432,4339,4270,4075,3456,4023,3243,3624,4509,4579,3761,4151,2832,2947,3784,4375,2802,3830,3831,2169,1529,3422,3922,4169,3005,4154,4318,2689,3129,3777,4773,5062,3487,2732,3389,4322,4363,4990,3194,4066,3423,3333,3956,4916,5382,4569,4118,4911,5298,5847,6312,6192,4378,7836,5892,6153,6093,6230,6871,8362,3372,4996,5558,5102,5698,6133,5459,6235,6041,5936,6772,6436,6457,6460,6857,5169,5585,5918,4862,5409,6398,7460,7132,6370,6691,4367,6565,7290,6624,1027,3214,5633,6196,5026,6233,4220,6304,5572,5740,6169,6421,6296,6883,6359,6273,5728,4717,6572,7030,7429,6118,2843,5115,7424,7384,7639,8294,7129,4359,6073,5260,6770,6734,6536,6591,6043,5743,6855,7338,4127,8120,7641,6998,7001,7055,7494,7736,7498,6598,6664,4972,7421,7363,7665,7702,6978,5099,6825,6211,5905,5823,7458,6891,6779,7442,7335,6879,5463,5687,5531,6227,6660,7403,6241,6207,4840,4672,6569,6290,7264,7446,7499,6969,6031,6830,6786,5713,6591,5870,4459,7410,6966,7592,8173,6861,6904,6685,6597,7105,7216,7580,7261,7175,6824,5464,7013,7273,7534,7286,5786,6299,6544,6883,6784,7347,7605,7148,7865,4549,6530,7006,7375,7765,7582,6053,5255,6917,7040,7697,7713,7350,6140,5810,6034,6864,7112,6203,7504,5976,8227,7525,7767,7870,7804,8009,8714,7333,6869,4073,7591,7720,8167,8395,7907,7436,7538,7733,7393,7415,8555,6889,6778,4639,7572,7328,8156,7965,3510,5478,6392,7691,7570,7282,7109,6639,5875,7534,7461,7509,5424,8090,6824,7058,7466,7693,7359,7444,7852,4459,22,1096,5566,5986,5847,5138,5107,5259,5686,5035,5315,5992,6536,6852,6269,4094,5495,5445,5698,5629,4669,5499,5634,5146,2425,3910,2277,2424,5087,3959,5260,5323,5668,5191,4649,6234,6606,5729,5375,5008,5582,3228,5170,5501,5319,5532,5611,5047,3786,4585,5557,5267,4128,3623,1749,1787,920,1013,441,2114,3095,1341,1796,2729],\"y0\":\" \",\"yaxis\":\"y\",\"type\":\"box\"}],                        {\"template\":{\"data\":{\"histogram2dcontour\":[{\"type\":\"histogram2dcontour\",\"colorbar\":{\"outlinewidth\":0,\"ticks\":\"\"},\"colorscale\":[[0.0,\"#0d0887\"],[0.1111111111111111,\"#46039f\"],[0.2222222222222222,\"#7201a8\"],[0.3333333333333333,\"#9c179e\"],[0.4444444444444444,\"#bd3786\"],[0.5555555555555556,\"#d8576b\"],[0.6666666666666666,\"#ed7953\"],[0.7777777777777778,\"#fb9f3a\"],[0.8888888888888888,\"#fdca26\"],[1.0,\"#f0f921\"]]}],\"choropleth\":[{\"type\":\"choropleth\",\"colorbar\":{\"outlinewidth\":0,\"ticks\":\"\"}}],\"histogram2d\":[{\"type\":\"histogram2d\",\"colorbar\":{\"outlinewidth\":0,\"ticks\":\"\"},\"colorscale\":[[0.0,\"#0d0887\"],[0.1111111111111111,\"#46039f\"],[0.2222222222222222,\"#7201a8\"],[0.3333333333333333,\"#9c179e\"],[0.4444444444444444,\"#bd3786\"],[0.5555555555555556,\"#d8576b\"],[0.6666666666666666,\"#ed7953\"],[0.7777777777777778,\"#fb9f3a\"],[0.8888888888888888,\"#fdca26\"],[1.0,\"#f0f921\"]]}],\"heatmap\":[{\"type\":\"heatmap\",\"colorbar\":{\"outlinewidth\":0,\"ticks\":\"\"},\"colorscale\":[[0.0,\"#0d0887\"],[0.1111111111111111,\"#46039f\"],[0.2222222222222222,\"#7201a8\"],[0.3333333333333333,\"#9c179e\"],[0.4444444444444444,\"#bd3786\"],[0.5555555555555556,\"#d8576b\"],[0.6666666666666666,\"#ed7953\"],[0.7777777777777778,\"#fb9f3a\"],[0.8888888888888888,\"#fdca26\"],[1.0,\"#f0f921\"]]}],\"heatmapgl\":[{\"type\":\"heatmapgl\",\"colorbar\":{\"outlinewidth\":0,\"ticks\":\"\"},\"colorscale\":[[0.0,\"#0d0887\"],[0.1111111111111111,\"#46039f\"],[0.2222222222222222,\"#7201a8\"],[0.3333333333333333,\"#9c179e\"],[0.4444444444444444,\"#bd3786\"],[0.5555555555555556,\"#d8576b\"],[0.6666666666666666,\"#ed7953\"],[0.7777777777777778,\"#fb9f3a\"],[0.8888888888888888,\"#fdca26\"],[1.0,\"#f0f921\"]]}],\"contourcarpet\":[{\"type\":\"contourcarpet\",\"colorbar\":{\"outlinewidth\":0,\"ticks\":\"\"}}],\"contour\":[{\"type\":\"contour\",\"colorbar\":{\"outlinewidth\":0,\"ticks\":\"\"},\"colorscale\":[[0.0,\"#0d0887\"],[0.1111111111111111,\"#46039f\"],[0.2222222222222222,\"#7201a8\"],[0.3333333333333333,\"#9c179e\"],[0.4444444444444444,\"#bd3786\"],[0.5555555555555556,\"#d8576b\"],[0.6666666666666666,\"#ed7953\"],[0.7777777777777778,\"#fb9f3a\"],[0.8888888888888888,\"#fdca26\"],[1.0,\"#f0f921\"]]}],\"surface\":[{\"type\":\"surface\",\"colorbar\":{\"outlinewidth\":0,\"ticks\":\"\"},\"colorscale\":[[0.0,\"#0d0887\"],[0.1111111111111111,\"#46039f\"],[0.2222222222222222,\"#7201a8\"],[0.3333333333333333,\"#9c179e\"],[0.4444444444444444,\"#bd3786\"],[0.5555555555555556,\"#d8576b\"],[0.6666666666666666,\"#ed7953\"],[0.7777777777777778,\"#fb9f3a\"],[0.8888888888888888,\"#fdca26\"],[1.0,\"#f0f921\"]]}],\"mesh3d\":[{\"type\":\"mesh3d\",\"colorbar\":{\"outlinewidth\":0,\"ticks\":\"\"}}],\"scatter\":[{\"fillpattern\":{\"fillmode\":\"overlay\",\"size\":10,\"solidity\":0.2},\"type\":\"scatter\"}],\"parcoords\":[{\"type\":\"parcoords\",\"line\":{\"colorbar\":{\"outlinewidth\":0,\"ticks\":\"\"}}}],\"scatterpolargl\":[{\"type\":\"scatterpolargl\",\"marker\":{\"colorbar\":{\"outlinewidth\":0,\"ticks\":\"\"}}}],\"bar\":[{\"error_x\":{\"color\":\"#2a3f5f\"},\"error_y\":{\"color\":\"#2a3f5f\"},\"marker\":{\"line\":{\"color\":\"#E5ECF6\",\"width\":0.5},\"pattern\":{\"fillmode\":\"overlay\",\"size\":10,\"solidity\":0.2}},\"type\":\"bar\"}],\"scattergeo\":[{\"type\":\"scattergeo\",\"marker\":{\"colorbar\":{\"outlinewidth\":0,\"ticks\":\"\"}}}],\"scatterpolar\":[{\"type\":\"scatterpolar\",\"marker\":{\"colorbar\":{\"outlinewidth\":0,\"ticks\":\"\"}}}],\"histogram\":[{\"marker\":{\"pattern\":{\"fillmode\":\"overlay\",\"size\":10,\"solidity\":0.2}},\"type\":\"histogram\"}],\"scattergl\":[{\"type\":\"scattergl\",\"marker\":{\"colorbar\":{\"outlinewidth\":0,\"ticks\":\"\"}}}],\"scatter3d\":[{\"type\":\"scatter3d\",\"line\":{\"colorbar\":{\"outlinewidth\":0,\"ticks\":\"\"}},\"marker\":{\"colorbar\":{\"outlinewidth\":0,\"ticks\":\"\"}}}],\"scattermapbox\":[{\"type\":\"scattermapbox\",\"marker\":{\"colorbar\":{\"outlinewidth\":0,\"ticks\":\"\"}}}],\"scatterternary\":[{\"type\":\"scatterternary\",\"marker\":{\"colorbar\":{\"outlinewidth\":0,\"ticks\":\"\"}}}],\"scattercarpet\":[{\"type\":\"scattercarpet\",\"marker\":{\"colorbar\":{\"outlinewidth\":0,\"ticks\":\"\"}}}],\"carpet\":[{\"aaxis\":{\"endlinecolor\":\"#2a3f5f\",\"gridcolor\":\"white\",\"linecolor\":\"white\",\"minorgridcolor\":\"white\",\"startlinecolor\":\"#2a3f5f\"},\"baxis\":{\"endlinecolor\":\"#2a3f5f\",\"gridcolor\":\"white\",\"linecolor\":\"white\",\"minorgridcolor\":\"white\",\"startlinecolor\":\"#2a3f5f\"},\"type\":\"carpet\"}],\"table\":[{\"cells\":{\"fill\":{\"color\":\"#EBF0F8\"},\"line\":{\"color\":\"white\"}},\"header\":{\"fill\":{\"color\":\"#C8D4E3\"},\"line\":{\"color\":\"white\"}},\"type\":\"table\"}],\"barpolar\":[{\"marker\":{\"line\":{\"color\":\"#E5ECF6\",\"width\":0.5},\"pattern\":{\"fillmode\":\"overlay\",\"size\":10,\"solidity\":0.2}},\"type\":\"barpolar\"}],\"pie\":[{\"automargin\":true,\"type\":\"pie\"}]},\"layout\":{\"autotypenumbers\":\"strict\",\"colorway\":[\"#636efa\",\"#EF553B\",\"#00cc96\",\"#ab63fa\",\"#FFA15A\",\"#19d3f3\",\"#FF6692\",\"#B6E880\",\"#FF97FF\",\"#FECB52\"],\"font\":{\"color\":\"#2a3f5f\"},\"hovermode\":\"closest\",\"hoverlabel\":{\"align\":\"left\"},\"paper_bgcolor\":\"white\",\"plot_bgcolor\":\"#E5ECF6\",\"polar\":{\"bgcolor\":\"#E5ECF6\",\"angularaxis\":{\"gridcolor\":\"white\",\"linecolor\":\"white\",\"ticks\":\"\"},\"radialaxis\":{\"gridcolor\":\"white\",\"linecolor\":\"white\",\"ticks\":\"\"}},\"ternary\":{\"bgcolor\":\"#E5ECF6\",\"aaxis\":{\"gridcolor\":\"white\",\"linecolor\":\"white\",\"ticks\":\"\"},\"baxis\":{\"gridcolor\":\"white\",\"linecolor\":\"white\",\"ticks\":\"\"},\"caxis\":{\"gridcolor\":\"white\",\"linecolor\":\"white\",\"ticks\":\"\"}},\"coloraxis\":{\"colorbar\":{\"outlinewidth\":0,\"ticks\":\"\"}},\"colorscale\":{\"sequential\":[[0.0,\"#0d0887\"],[0.1111111111111111,\"#46039f\"],[0.2222222222222222,\"#7201a8\"],[0.3333333333333333,\"#9c179e\"],[0.4444444444444444,\"#bd3786\"],[0.5555555555555556,\"#d8576b\"],[0.6666666666666666,\"#ed7953\"],[0.7777777777777778,\"#fb9f3a\"],[0.8888888888888888,\"#fdca26\"],[1.0,\"#f0f921\"]],\"sequentialminus\":[[0.0,\"#0d0887\"],[0.1111111111111111,\"#46039f\"],[0.2222222222222222,\"#7201a8\"],[0.3333333333333333,\"#9c179e\"],[0.4444444444444444,\"#bd3786\"],[0.5555555555555556,\"#d8576b\"],[0.6666666666666666,\"#ed7953\"],[0.7777777777777778,\"#fb9f3a\"],[0.8888888888888888,\"#fdca26\"],[1.0,\"#f0f921\"]],\"diverging\":[[0,\"#8e0152\"],[0.1,\"#c51b7d\"],[0.2,\"#de77ae\"],[0.3,\"#f1b6da\"],[0.4,\"#fde0ef\"],[0.5,\"#f7f7f7\"],[0.6,\"#e6f5d0\"],[0.7,\"#b8e186\"],[0.8,\"#7fbc41\"],[0.9,\"#4d9221\"],[1,\"#276419\"]]},\"xaxis\":{\"gridcolor\":\"white\",\"linecolor\":\"white\",\"ticks\":\"\",\"title\":{\"standoff\":15},\"zerolinecolor\":\"white\",\"automargin\":true,\"zerolinewidth\":2},\"yaxis\":{\"gridcolor\":\"white\",\"linecolor\":\"white\",\"ticks\":\"\",\"title\":{\"standoff\":15},\"zerolinecolor\":\"white\",\"automargin\":true,\"zerolinewidth\":2},\"scene\":{\"xaxis\":{\"backgroundcolor\":\"#E5ECF6\",\"gridcolor\":\"white\",\"linecolor\":\"white\",\"showbackground\":true,\"ticks\":\"\",\"zerolinecolor\":\"white\",\"gridwidth\":2},\"yaxis\":{\"backgroundcolor\":\"#E5ECF6\",\"gridcolor\":\"white\",\"linecolor\":\"white\",\"showbackground\":true,\"ticks\":\"\",\"zerolinecolor\":\"white\",\"gridwidth\":2},\"zaxis\":{\"backgroundcolor\":\"#E5ECF6\",\"gridcolor\":\"white\",\"linecolor\":\"white\",\"showbackground\":true,\"ticks\":\"\",\"zerolinecolor\":\"white\",\"gridwidth\":2}},\"shapedefaults\":{\"line\":{\"color\":\"#2a3f5f\"}},\"annotationdefaults\":{\"arrowcolor\":\"#2a3f5f\",\"arrowhead\":0,\"arrowwidth\":1},\"geo\":{\"bgcolor\":\"white\",\"landcolor\":\"#E5ECF6\",\"subunitcolor\":\"white\",\"showland\":true,\"showlakes\":true,\"lakecolor\":\"white\"},\"title\":{\"x\":0.05},\"mapbox\":{\"style\":\"light\"}}},\"xaxis\":{\"anchor\":\"y\",\"domain\":[0.0,1.0],\"title\":{\"text\":\"atemp\"}},\"yaxis\":{\"anchor\":\"x\",\"domain\":[0.0,1.0],\"title\":{\"text\":\"cnt\"}},\"legend\":{\"tracegroupgap\":0},\"title\":{\"text\":\"Boxplot of values for atemp against our target variable cnt\"},\"boxmode\":\"group\"},                        {\"responsive\": true}                    ).then(function(){\n                            \nvar gd = document.getElementById('ab20125e-5f0e-4288-a573-6f5e7777a0c8');\nvar x = new MutationObserver(function (mutations, observer) {{\n        var display = window.getComputedStyle(gd).display;\n        if (!display || display === 'none') {{\n            console.log([gd, 'removed!']);\n            Plotly.purge(gd);\n            observer.disconnect();\n        }}\n}});\n\n// Listen for the removal of the full notebook cells\nvar notebookContainer = gd.closest('#notebook-container');\nif (notebookContainer) {{\n    x.observe(notebookContainer, {childList: true});\n}}\n\n// Listen for the clearing of the current output cell\nvar outputEl = gd.closest('.output');\nif (outputEl) {{\n    x.observe(outputEl, {childList: true});\n}}\n\n                        })                };                            </script>        </div>\n</body>\n</html>"
     },
     "metadata": {},
     "output_type": "display_data"
    }
   ]
  },
  {
   "cell_type": "code",
   "metadata": {
    "cell_id": "bc946dd18e94414c941ef9c9cf26adb7",
    "tags": [],
    "deepnote_to_be_reexecuted": false,
    "source_hash": "58f0264",
    "execution_start": 1663728013151,
    "execution_millis": 99,
    "deepnote_cell_type": "code",
    "deepnote_cell_height": 1457.03125,
    "deepnote_output_heights": [
     null,
     526,
     526
    ]
   },
   "source": "create_feature_analysis(data, 'hum')",
   "execution_count": 19,
   "outputs": [
    {
     "name": "stdout",
     "text": "DESCRIPTIVE SUMMARY of hum\ncount    730.000000\nmean      62.765175\nstd       14.237589\nmin        0.000000\n25%       52.000000\n50%       62.625000\n75%       72.989575\nmax       97.250000\nName: hum, dtype: float64\n\n\nUNIQUE VALUE COUNT: 594\n",
     "output_type": "stream"
    },
    {
     "data": {
      "text/html": "<html>\n<head><meta charset=\"utf-8\" /></head>\n<body>\n    <div>            <script src=\"https://cdnjs.cloudflare.com/ajax/libs/mathjax/2.7.5/MathJax.js?config=TeX-AMS-MML_SVG\"></script><script type=\"text/javascript\">if (window.MathJax && window.MathJax.Hub && window.MathJax.Hub.Config) {window.MathJax.Hub.Config({SVG: {font: \"STIX-Web\"}});}</script>                <script type=\"text/javascript\">window.PlotlyConfig = {MathJaxConfig: 'local'};</script>\n        <script src=\"https://cdn.plot.ly/plotly-2.14.0.min.js\"></script>                <div id=\"e743cd76-f5be-45a7-9ee4-7370b018c4bf\" class=\"plotly-graph-div\" style=\"height:525px; width:100%;\"></div>            <script type=\"text/javascript\">                                    window.PLOTLYENV=window.PLOTLYENV || {};                                    if (document.getElementById(\"e743cd76-f5be-45a7-9ee4-7370b018c4bf\")) {                    Plotly.newPlot(                        \"e743cd76-f5be-45a7-9ee4-7370b018c4bf\",                        [{\"alignmentgroup\":\"True\",\"bingroup\":\"x\",\"hovertemplate\":\"hum=%{x}<br>count=%{y}<extra></extra>\",\"legendgroup\":\"\",\"marker\":{\"color\":\"#636efa\",\"pattern\":{\"shape\":\"\"}},\"name\":\"\",\"offsetgroup\":\"\",\"orientation\":\"v\",\"showlegend\":false,\"x\":[80.5833,69.6087,43.7273,59.0435,43.6957,51.8261,49.8696,53.5833,43.4167,48.2917,68.6364,59.9545,47.0417,53.7826,49.875,48.375,53.75,86.1667,74.1739,53.8333,45.7083,40.0,43.6522,49.1739,61.6957,86.25,68.75,79.3043,65.1739,72.2174,60.375,82.9565,77.5417,43.7826,58.5217,92.9167,56.8333,73.8333,53.7917,49.4783,43.7391,50.6364,54.4167,45.7391,37.5833,31.4348,42.3478,50.5,51.6667,18.7917,40.7826,60.5,57.7778,42.3043,69.7391,71.2174,53.7917,68.0,87.6364,53.5,44.9583,31.8333,61.0417,78.9167,94.8261,55.1304,42.0833,77.5417,0.0,64.9565,59.4583,52.7391,49.6957,65.5652,77.6522,60.2917,52.5217,37.9167,47.375,73.7391,62.4583,83.9565,80.5833,49.5,39.4167,49.3913,30.2174,31.4167,64.6667,91.8333,68.625,65.375,48.0,42.625,64.2083,47.0833,60.2917,83.625,87.75,85.75,71.6956,73.9167,81.9167,54.0417,67.125,88.8333,47.9583,54.25,66.5833,61.4167,40.7083,72.9583,88.7917,81.0833,77.6667,72.9167,83.5417,70.0833,45.7083,50.3333,76.2083,73.0,69.7083,73.7083,44.4167,59.0,54.125,63.1667,58.875,48.9167,63.2917,74.75,86.3333,92.25,86.7083,78.7917,83.7917,87.0,82.9583,71.9583,62.6667,74.9583,81.0,74.0833,69.625,67.75,65.375,72.9583,81.875,68.5,63.6667,67.7083,30.5,35.4167,45.625,65.25,60.0,59.7917,62.2083,56.8333,60.5,65.4583,74.7917,49.4583,50.7083,47.1667,68.8333,73.5833,67.0417,66.6667,74.625,77.0417,70.75,70.3333,57.3333,48.3333,51.3333,65.8333,63.4167,49.7917,43.4167,39.625,44.4583,68.25,63.7917,59.0417,74.3333,65.125,75.7917,60.9167,57.8333,63.5833,55.9167,63.1667,47.625,59.125,58.5,60.4167,65.125,65.0417,70.7083,69.125,58.0417,50.0,55.0833,75.7083,54.0833,40.2917,58.3333,54.25,46.5833,48.0833,55.0833,49.125,65.75,75.75,63.0833,75.5,75.2917,59.2083,57.0417,42.4167,42.375,41.5,72.9583,81.75,71.2083,57.8333,57.5417,65.4583,72.2917,67.4167,77.0,47.0,45.5417,60.5,77.1667,76.125,85.0,56.1765,55.4583,54.8333,59.7917,63.9167,72.7083,71.6667,74.2083,79.0417,88.6957,91.7083,93.9565,89.7917,75.375,71.375,69.2174,71.25,69.7083,70.9167,59.0417,71.8333,69.5,69.0,88.125,90.0,90.2083,97.25,86.25,84.5,84.8333,88.5417,84.875,69.9167,64.75,75.375,79.1667,76.0833,71.0,64.7917,62.0833,68.4167,70.125,72.75,73.375,80.875,90.625,89.6667,71.625,48.3333,48.6667,57.9583,70.1667,89.5217,63.625,57.4167,62.9167,74.125,77.2083,62.2917,72.0417,81.2917,58.5833,88.25,62.375,70.3333,68.375,71.875,70.2083,62.25,51.9167,73.4583,75.875,72.1667,75.8333,81.3333,44.625,55.2917,45.8333,58.7083,68.875,93.0,57.5833,41.0,50.2083,68.4583,91.0,96.25,75.7917,54.9167,64.375,68.1667,69.8333,74.3043,83.0833,61.3333,52.4583,62.5833,61.2917,77.5833,82.7083,94.9583,97.0417,58.0,69.5833,50.75,49.0,67.0833,59.0,66.375,63.4167,50.0417,56.0833,58.625,63.75,59.5417,85.8333,75.75,68.625,54.25,68.1304,50.6957,76.25,50.3913,57.4167,63.6667,61.5833,69.25,38.1304,44.125,41.4583,52.4167,54.2083,53.1667,46.5,70.1667,64.6522,84.75,80.2917,50.75,45.75,41.9167,52.25,71.6087,44.3333,49.75,45.0,83.125,79.625,91.125,83.5833,64.375,76.9583,74.125,54.3333,31.125,40.0833,41.6667,50.7917,67.2917,52.6667,77.9583,68.7917,62.2174,49.625,72.2917,56.2083,54.0,73.125,46.4583,41.125,50.875,53.125,75.2917,63.4583,53.4583,51.5833,50.7826,59.4348,56.7917,55.4583,73.75,39.5833,41.0,49.0833,39.5833,61.5417,65.7083,62.125,40.3333,50.625,45.6667,51.3333,56.75,40.7083,35.0417,47.6957,48.9167,61.75,50.7083,57.9583,84.2083,75.5833,81.0,72.875,80.7917,82.125,83.125,69.4167,88.5417,88.0833,47.7917,29.0,48.125,43.9167,58.0833,73.8333,67.625,50.4348,39.6667,46.9583,37.4167,37.7083,25.4167,27.5833,31.75,43.5,46.9565,46.625,40.8333,50.2917,50.7917,56.1667,39.0417,56.9167,61.25,69.4583,68.2917,83.5417,76.6667,45.4167,42.7917,75.6667,40.0833,48.9583,58.7083,57.0,65.9583,79.7083,76.8333,73.5417,75.6667,74.0,66.4167,68.5833,74.4167,55.2083,36.0417,48.0417,57.625,78.9583,79.4583,69.7917,52.0,52.3333,45.625,53.0417,81.125,76.5833,77.4583,71.6667,74.7083,73.25,69.7083,67.625,68.4583,67.0,49.2917,75.5417,54.9167,49.3333,48.7083,61.3333,61.125,56.7083,46.7917,43.7083,53.8333,58.7917,83.3333,58.2083,56.9583,58.9583,50.4167,59.875,77.7917,69.0,59.2083,56.7917,57.375,53.4583,47.9167,50.4167,37.3333,36.0,42.25,48.875,60.125,51.875,44.7083,49.2083,53.875,45.7917,45.0833,49.2083,57.375,68.3333,66.75,63.3333,52.9583,48.5833,69.9167,71.7917,64.5,50.5833,57.7083,60.0417,84.4167,86.5417,76.25,69.4167,65.5,45.0,59.6667,59.4583,61.3333,62.375,66.875,70.4167,67.75,65.9583,64.25,61.3333,65.25,65.4167,70.375,67.2917,62.0417,71.5833,73.2917,53.0417,54.5417,68.6667,61.9583,51.9167,57.0833,60.3333,71.1667,73.4167,67.375,67.7083,63.5833,61.5,71.2917,84.5833,73.0417,62.0,55.2083,59.0417,58.75,63.8333,81.5,79.0833,75.5,74.125,81.0417,73.625,79.9167,54.75,50.375,52.0,57.7083,63.7083,67.25,50.1667,57.0,73.4583,87.25,53.6667,61.8333,66.875,64.6667,46.7083,49.2917,57.0,63.0833,69.0833,69.0,54.2917,58.3333,64.9167,87.1667,79.375,72.2917,62.75,66.4167,70.8333,70.9583,76.1667,63.0833,46.3333,53.9167,49.4583,64.0417,70.75,55.8333,69.2917,72.8333,81.5,57.2917,51.0,56.8333,64.1667,63.625,80.0417,80.7083,72.0,69.4583,88.0,82.5455,66.6667,58.1667,52.2083,49.125,53.2917,49.4167,56.7083,54.75,33.3478,54.0833,64.5417,65.9167,74.1667,66.2917,55.2083,62.0417,52.4583,54.5417,69.2917,62.3333,68.5,61.375,58.0417,56.875,40.4583,46.8333,53.5417,78.6667,50.625,55.5652,64.9583,80.6667,82.3333,76.75,73.375,48.5,50.875,76.4167,91.125,90.5417,92.5,59.6667,53.8333,48.5833,64.2917,65.0417,83.875,90.7083,66.625,62.5417,66.7917,55.6667,44.125,51.5417,79.1304,73.4783,82.3333,65.2917,59.0,75.2917,48.3333,57.75],\"xaxis\":\"x\",\"yaxis\":\"y\",\"type\":\"histogram\"}],                        {\"template\":{\"data\":{\"histogram2dcontour\":[{\"type\":\"histogram2dcontour\",\"colorbar\":{\"outlinewidth\":0,\"ticks\":\"\"},\"colorscale\":[[0.0,\"#0d0887\"],[0.1111111111111111,\"#46039f\"],[0.2222222222222222,\"#7201a8\"],[0.3333333333333333,\"#9c179e\"],[0.4444444444444444,\"#bd3786\"],[0.5555555555555556,\"#d8576b\"],[0.6666666666666666,\"#ed7953\"],[0.7777777777777778,\"#fb9f3a\"],[0.8888888888888888,\"#fdca26\"],[1.0,\"#f0f921\"]]}],\"choropleth\":[{\"type\":\"choropleth\",\"colorbar\":{\"outlinewidth\":0,\"ticks\":\"\"}}],\"histogram2d\":[{\"type\":\"histogram2d\",\"colorbar\":{\"outlinewidth\":0,\"ticks\":\"\"},\"colorscale\":[[0.0,\"#0d0887\"],[0.1111111111111111,\"#46039f\"],[0.2222222222222222,\"#7201a8\"],[0.3333333333333333,\"#9c179e\"],[0.4444444444444444,\"#bd3786\"],[0.5555555555555556,\"#d8576b\"],[0.6666666666666666,\"#ed7953\"],[0.7777777777777778,\"#fb9f3a\"],[0.8888888888888888,\"#fdca26\"],[1.0,\"#f0f921\"]]}],\"heatmap\":[{\"type\":\"heatmap\",\"colorbar\":{\"outlinewidth\":0,\"ticks\":\"\"},\"colorscale\":[[0.0,\"#0d0887\"],[0.1111111111111111,\"#46039f\"],[0.2222222222222222,\"#7201a8\"],[0.3333333333333333,\"#9c179e\"],[0.4444444444444444,\"#bd3786\"],[0.5555555555555556,\"#d8576b\"],[0.6666666666666666,\"#ed7953\"],[0.7777777777777778,\"#fb9f3a\"],[0.8888888888888888,\"#fdca26\"],[1.0,\"#f0f921\"]]}],\"heatmapgl\":[{\"type\":\"heatmapgl\",\"colorbar\":{\"outlinewidth\":0,\"ticks\":\"\"},\"colorscale\":[[0.0,\"#0d0887\"],[0.1111111111111111,\"#46039f\"],[0.2222222222222222,\"#7201a8\"],[0.3333333333333333,\"#9c179e\"],[0.4444444444444444,\"#bd3786\"],[0.5555555555555556,\"#d8576b\"],[0.6666666666666666,\"#ed7953\"],[0.7777777777777778,\"#fb9f3a\"],[0.8888888888888888,\"#fdca26\"],[1.0,\"#f0f921\"]]}],\"contourcarpet\":[{\"type\":\"contourcarpet\",\"colorbar\":{\"outlinewidth\":0,\"ticks\":\"\"}}],\"contour\":[{\"type\":\"contour\",\"colorbar\":{\"outlinewidth\":0,\"ticks\":\"\"},\"colorscale\":[[0.0,\"#0d0887\"],[0.1111111111111111,\"#46039f\"],[0.2222222222222222,\"#7201a8\"],[0.3333333333333333,\"#9c179e\"],[0.4444444444444444,\"#bd3786\"],[0.5555555555555556,\"#d8576b\"],[0.6666666666666666,\"#ed7953\"],[0.7777777777777778,\"#fb9f3a\"],[0.8888888888888888,\"#fdca26\"],[1.0,\"#f0f921\"]]}],\"surface\":[{\"type\":\"surface\",\"colorbar\":{\"outlinewidth\":0,\"ticks\":\"\"},\"colorscale\":[[0.0,\"#0d0887\"],[0.1111111111111111,\"#46039f\"],[0.2222222222222222,\"#7201a8\"],[0.3333333333333333,\"#9c179e\"],[0.4444444444444444,\"#bd3786\"],[0.5555555555555556,\"#d8576b\"],[0.6666666666666666,\"#ed7953\"],[0.7777777777777778,\"#fb9f3a\"],[0.8888888888888888,\"#fdca26\"],[1.0,\"#f0f921\"]]}],\"mesh3d\":[{\"type\":\"mesh3d\",\"colorbar\":{\"outlinewidth\":0,\"ticks\":\"\"}}],\"scatter\":[{\"fillpattern\":{\"fillmode\":\"overlay\",\"size\":10,\"solidity\":0.2},\"type\":\"scatter\"}],\"parcoords\":[{\"type\":\"parcoords\",\"line\":{\"colorbar\":{\"outlinewidth\":0,\"ticks\":\"\"}}}],\"scatterpolargl\":[{\"type\":\"scatterpolargl\",\"marker\":{\"colorbar\":{\"outlinewidth\":0,\"ticks\":\"\"}}}],\"bar\":[{\"error_x\":{\"color\":\"#2a3f5f\"},\"error_y\":{\"color\":\"#2a3f5f\"},\"marker\":{\"line\":{\"color\":\"#E5ECF6\",\"width\":0.5},\"pattern\":{\"fillmode\":\"overlay\",\"size\":10,\"solidity\":0.2}},\"type\":\"bar\"}],\"scattergeo\":[{\"type\":\"scattergeo\",\"marker\":{\"colorbar\":{\"outlinewidth\":0,\"ticks\":\"\"}}}],\"scatterpolar\":[{\"type\":\"scatterpolar\",\"marker\":{\"colorbar\":{\"outlinewidth\":0,\"ticks\":\"\"}}}],\"histogram\":[{\"marker\":{\"pattern\":{\"fillmode\":\"overlay\",\"size\":10,\"solidity\":0.2}},\"type\":\"histogram\"}],\"scattergl\":[{\"type\":\"scattergl\",\"marker\":{\"colorbar\":{\"outlinewidth\":0,\"ticks\":\"\"}}}],\"scatter3d\":[{\"type\":\"scatter3d\",\"line\":{\"colorbar\":{\"outlinewidth\":0,\"ticks\":\"\"}},\"marker\":{\"colorbar\":{\"outlinewidth\":0,\"ticks\":\"\"}}}],\"scattermapbox\":[{\"type\":\"scattermapbox\",\"marker\":{\"colorbar\":{\"outlinewidth\":0,\"ticks\":\"\"}}}],\"scatterternary\":[{\"type\":\"scatterternary\",\"marker\":{\"colorbar\":{\"outlinewidth\":0,\"ticks\":\"\"}}}],\"scattercarpet\":[{\"type\":\"scattercarpet\",\"marker\":{\"colorbar\":{\"outlinewidth\":0,\"ticks\":\"\"}}}],\"carpet\":[{\"aaxis\":{\"endlinecolor\":\"#2a3f5f\",\"gridcolor\":\"white\",\"linecolor\":\"white\",\"minorgridcolor\":\"white\",\"startlinecolor\":\"#2a3f5f\"},\"baxis\":{\"endlinecolor\":\"#2a3f5f\",\"gridcolor\":\"white\",\"linecolor\":\"white\",\"minorgridcolor\":\"white\",\"startlinecolor\":\"#2a3f5f\"},\"type\":\"carpet\"}],\"table\":[{\"cells\":{\"fill\":{\"color\":\"#EBF0F8\"},\"line\":{\"color\":\"white\"}},\"header\":{\"fill\":{\"color\":\"#C8D4E3\"},\"line\":{\"color\":\"white\"}},\"type\":\"table\"}],\"barpolar\":[{\"marker\":{\"line\":{\"color\":\"#E5ECF6\",\"width\":0.5},\"pattern\":{\"fillmode\":\"overlay\",\"size\":10,\"solidity\":0.2}},\"type\":\"barpolar\"}],\"pie\":[{\"automargin\":true,\"type\":\"pie\"}]},\"layout\":{\"autotypenumbers\":\"strict\",\"colorway\":[\"#636efa\",\"#EF553B\",\"#00cc96\",\"#ab63fa\",\"#FFA15A\",\"#19d3f3\",\"#FF6692\",\"#B6E880\",\"#FF97FF\",\"#FECB52\"],\"font\":{\"color\":\"#2a3f5f\"},\"hovermode\":\"closest\",\"hoverlabel\":{\"align\":\"left\"},\"paper_bgcolor\":\"white\",\"plot_bgcolor\":\"#E5ECF6\",\"polar\":{\"bgcolor\":\"#E5ECF6\",\"angularaxis\":{\"gridcolor\":\"white\",\"linecolor\":\"white\",\"ticks\":\"\"},\"radialaxis\":{\"gridcolor\":\"white\",\"linecolor\":\"white\",\"ticks\":\"\"}},\"ternary\":{\"bgcolor\":\"#E5ECF6\",\"aaxis\":{\"gridcolor\":\"white\",\"linecolor\":\"white\",\"ticks\":\"\"},\"baxis\":{\"gridcolor\":\"white\",\"linecolor\":\"white\",\"ticks\":\"\"},\"caxis\":{\"gridcolor\":\"white\",\"linecolor\":\"white\",\"ticks\":\"\"}},\"coloraxis\":{\"colorbar\":{\"outlinewidth\":0,\"ticks\":\"\"}},\"colorscale\":{\"sequential\":[[0.0,\"#0d0887\"],[0.1111111111111111,\"#46039f\"],[0.2222222222222222,\"#7201a8\"],[0.3333333333333333,\"#9c179e\"],[0.4444444444444444,\"#bd3786\"],[0.5555555555555556,\"#d8576b\"],[0.6666666666666666,\"#ed7953\"],[0.7777777777777778,\"#fb9f3a\"],[0.8888888888888888,\"#fdca26\"],[1.0,\"#f0f921\"]],\"sequentialminus\":[[0.0,\"#0d0887\"],[0.1111111111111111,\"#46039f\"],[0.2222222222222222,\"#7201a8\"],[0.3333333333333333,\"#9c179e\"],[0.4444444444444444,\"#bd3786\"],[0.5555555555555556,\"#d8576b\"],[0.6666666666666666,\"#ed7953\"],[0.7777777777777778,\"#fb9f3a\"],[0.8888888888888888,\"#fdca26\"],[1.0,\"#f0f921\"]],\"diverging\":[[0,\"#8e0152\"],[0.1,\"#c51b7d\"],[0.2,\"#de77ae\"],[0.3,\"#f1b6da\"],[0.4,\"#fde0ef\"],[0.5,\"#f7f7f7\"],[0.6,\"#e6f5d0\"],[0.7,\"#b8e186\"],[0.8,\"#7fbc41\"],[0.9,\"#4d9221\"],[1,\"#276419\"]]},\"xaxis\":{\"gridcolor\":\"white\",\"linecolor\":\"white\",\"ticks\":\"\",\"title\":{\"standoff\":15},\"zerolinecolor\":\"white\",\"automargin\":true,\"zerolinewidth\":2},\"yaxis\":{\"gridcolor\":\"white\",\"linecolor\":\"white\",\"ticks\":\"\",\"title\":{\"standoff\":15},\"zerolinecolor\":\"white\",\"automargin\":true,\"zerolinewidth\":2},\"scene\":{\"xaxis\":{\"backgroundcolor\":\"#E5ECF6\",\"gridcolor\":\"white\",\"linecolor\":\"white\",\"showbackground\":true,\"ticks\":\"\",\"zerolinecolor\":\"white\",\"gridwidth\":2},\"yaxis\":{\"backgroundcolor\":\"#E5ECF6\",\"gridcolor\":\"white\",\"linecolor\":\"white\",\"showbackground\":true,\"ticks\":\"\",\"zerolinecolor\":\"white\",\"gridwidth\":2},\"zaxis\":{\"backgroundcolor\":\"#E5ECF6\",\"gridcolor\":\"white\",\"linecolor\":\"white\",\"showbackground\":true,\"ticks\":\"\",\"zerolinecolor\":\"white\",\"gridwidth\":2}},\"shapedefaults\":{\"line\":{\"color\":\"#2a3f5f\"}},\"annotationdefaults\":{\"arrowcolor\":\"#2a3f5f\",\"arrowhead\":0,\"arrowwidth\":1},\"geo\":{\"bgcolor\":\"white\",\"landcolor\":\"#E5ECF6\",\"subunitcolor\":\"white\",\"showland\":true,\"showlakes\":true,\"lakecolor\":\"white\"},\"title\":{\"x\":0.05},\"mapbox\":{\"style\":\"light\"}}},\"xaxis\":{\"anchor\":\"y\",\"domain\":[0.0,1.0],\"title\":{\"text\":\"hum\"}},\"yaxis\":{\"anchor\":\"x\",\"domain\":[0.0,1.0],\"title\":{\"text\":\"count\"}},\"legend\":{\"tracegroupgap\":0},\"title\":{\"text\":\"Histogram of values for hum\"},\"barmode\":\"relative\"},                        {\"responsive\": true}                    ).then(function(){\n                            \nvar gd = document.getElementById('e743cd76-f5be-45a7-9ee4-7370b018c4bf');\nvar x = new MutationObserver(function (mutations, observer) {{\n        var display = window.getComputedStyle(gd).display;\n        if (!display || display === 'none') {{\n            console.log([gd, 'removed!']);\n            Plotly.purge(gd);\n            observer.disconnect();\n        }}\n}});\n\n// Listen for the removal of the full notebook cells\nvar notebookContainer = gd.closest('#notebook-container');\nif (notebookContainer) {{\n    x.observe(notebookContainer, {childList: true});\n}}\n\n// Listen for the clearing of the current output cell\nvar outputEl = gd.closest('.output');\nif (outputEl) {{\n    x.observe(outputEl, {childList: true});\n}}\n\n                        })                };                            </script>        </div>\n</body>\n</html>"
     },
     "metadata": {},
     "output_type": "display_data"
    },
    {
     "data": {
      "text/html": "<html>\n<head><meta charset=\"utf-8\" /></head>\n<body>\n    <div>            <script src=\"https://cdnjs.cloudflare.com/ajax/libs/mathjax/2.7.5/MathJax.js?config=TeX-AMS-MML_SVG\"></script><script type=\"text/javascript\">if (window.MathJax && window.MathJax.Hub && window.MathJax.Hub.Config) {window.MathJax.Hub.Config({SVG: {font: \"STIX-Web\"}});}</script>                <script type=\"text/javascript\">window.PlotlyConfig = {MathJaxConfig: 'local'};</script>\n        <script src=\"https://cdn.plot.ly/plotly-2.14.0.min.js\"></script>                <div id=\"d76d9949-eb50-47d1-a74d-dda5581aa4d4\" class=\"plotly-graph-div\" style=\"height:525px; width:100%;\"></div>            <script type=\"text/javascript\">                                    window.PLOTLYENV=window.PLOTLYENV || {};                                    if (document.getElementById(\"d76d9949-eb50-47d1-a74d-dda5581aa4d4\")) {                    Plotly.newPlot(                        \"d76d9949-eb50-47d1-a74d-dda5581aa4d4\",                        [{\"alignmentgroup\":\"True\",\"hovertemplate\":\"hum=%{x}<br>cnt=%{y}<extra></extra>\",\"legendgroup\":\"\",\"marker\":{\"color\":\"#636efa\"},\"name\":\"\",\"notched\":false,\"offsetgroup\":\"\",\"orientation\":\"v\",\"showlegend\":false,\"x\":[80.5833,69.6087,43.7273,59.0435,43.6957,51.8261,49.8696,53.5833,43.4167,48.2917,68.6364,59.9545,47.0417,53.7826,49.875,48.375,53.75,86.1667,74.1739,53.8333,45.7083,40.0,43.6522,49.1739,61.6957,86.25,68.75,79.3043,65.1739,72.2174,60.375,82.9565,77.5417,43.7826,58.5217,92.9167,56.8333,73.8333,53.7917,49.4783,43.7391,50.6364,54.4167,45.7391,37.5833,31.4348,42.3478,50.5,51.6667,18.7917,40.7826,60.5,57.7778,42.3043,69.7391,71.2174,53.7917,68.0,87.6364,53.5,44.9583,31.8333,61.0417,78.9167,94.8261,55.1304,42.0833,77.5417,0.0,64.9565,59.4583,52.7391,49.6957,65.5652,77.6522,60.2917,52.5217,37.9167,47.375,73.7391,62.4583,83.9565,80.5833,49.5,39.4167,49.3913,30.2174,31.4167,64.6667,91.8333,68.625,65.375,48.0,42.625,64.2083,47.0833,60.2917,83.625,87.75,85.75,71.6956,73.9167,81.9167,54.0417,67.125,88.8333,47.9583,54.25,66.5833,61.4167,40.7083,72.9583,88.7917,81.0833,77.6667,72.9167,83.5417,70.0833,45.7083,50.3333,76.2083,73.0,69.7083,73.7083,44.4167,59.0,54.125,63.1667,58.875,48.9167,63.2917,74.75,86.3333,92.25,86.7083,78.7917,83.7917,87.0,82.9583,71.9583,62.6667,74.9583,81.0,74.0833,69.625,67.75,65.375,72.9583,81.875,68.5,63.6667,67.7083,30.5,35.4167,45.625,65.25,60.0,59.7917,62.2083,56.8333,60.5,65.4583,74.7917,49.4583,50.7083,47.1667,68.8333,73.5833,67.0417,66.6667,74.625,77.0417,70.75,70.3333,57.3333,48.3333,51.3333,65.8333,63.4167,49.7917,43.4167,39.625,44.4583,68.25,63.7917,59.0417,74.3333,65.125,75.7917,60.9167,57.8333,63.5833,55.9167,63.1667,47.625,59.125,58.5,60.4167,65.125,65.0417,70.7083,69.125,58.0417,50.0,55.0833,75.7083,54.0833,40.2917,58.3333,54.25,46.5833,48.0833,55.0833,49.125,65.75,75.75,63.0833,75.5,75.2917,59.2083,57.0417,42.4167,42.375,41.5,72.9583,81.75,71.2083,57.8333,57.5417,65.4583,72.2917,67.4167,77.0,47.0,45.5417,60.5,77.1667,76.125,85.0,56.1765,55.4583,54.8333,59.7917,63.9167,72.7083,71.6667,74.2083,79.0417,88.6957,91.7083,93.9565,89.7917,75.375,71.375,69.2174,71.25,69.7083,70.9167,59.0417,71.8333,69.5,69.0,88.125,90.0,90.2083,97.25,86.25,84.5,84.8333,88.5417,84.875,69.9167,64.75,75.375,79.1667,76.0833,71.0,64.7917,62.0833,68.4167,70.125,72.75,73.375,80.875,90.625,89.6667,71.625,48.3333,48.6667,57.9583,70.1667,89.5217,63.625,57.4167,62.9167,74.125,77.2083,62.2917,72.0417,81.2917,58.5833,88.25,62.375,70.3333,68.375,71.875,70.2083,62.25,51.9167,73.4583,75.875,72.1667,75.8333,81.3333,44.625,55.2917,45.8333,58.7083,68.875,93.0,57.5833,41.0,50.2083,68.4583,91.0,96.25,75.7917,54.9167,64.375,68.1667,69.8333,74.3043,83.0833,61.3333,52.4583,62.5833,61.2917,77.5833,82.7083,94.9583,97.0417,58.0,69.5833,50.75,49.0,67.0833,59.0,66.375,63.4167,50.0417,56.0833,58.625,63.75,59.5417,85.8333,75.75,68.625,54.25,68.1304,50.6957,76.25,50.3913,57.4167,63.6667,61.5833,69.25,38.1304,44.125,41.4583,52.4167,54.2083,53.1667,46.5,70.1667,64.6522,84.75,80.2917,50.75,45.75,41.9167,52.25,71.6087,44.3333,49.75,45.0,83.125,79.625,91.125,83.5833,64.375,76.9583,74.125,54.3333,31.125,40.0833,41.6667,50.7917,67.2917,52.6667,77.9583,68.7917,62.2174,49.625,72.2917,56.2083,54.0,73.125,46.4583,41.125,50.875,53.125,75.2917,63.4583,53.4583,51.5833,50.7826,59.4348,56.7917,55.4583,73.75,39.5833,41.0,49.0833,39.5833,61.5417,65.7083,62.125,40.3333,50.625,45.6667,51.3333,56.75,40.7083,35.0417,47.6957,48.9167,61.75,50.7083,57.9583,84.2083,75.5833,81.0,72.875,80.7917,82.125,83.125,69.4167,88.5417,88.0833,47.7917,29.0,48.125,43.9167,58.0833,73.8333,67.625,50.4348,39.6667,46.9583,37.4167,37.7083,25.4167,27.5833,31.75,43.5,46.9565,46.625,40.8333,50.2917,50.7917,56.1667,39.0417,56.9167,61.25,69.4583,68.2917,83.5417,76.6667,45.4167,42.7917,75.6667,40.0833,48.9583,58.7083,57.0,65.9583,79.7083,76.8333,73.5417,75.6667,74.0,66.4167,68.5833,74.4167,55.2083,36.0417,48.0417,57.625,78.9583,79.4583,69.7917,52.0,52.3333,45.625,53.0417,81.125,76.5833,77.4583,71.6667,74.7083,73.25,69.7083,67.625,68.4583,67.0,49.2917,75.5417,54.9167,49.3333,48.7083,61.3333,61.125,56.7083,46.7917,43.7083,53.8333,58.7917,83.3333,58.2083,56.9583,58.9583,50.4167,59.875,77.7917,69.0,59.2083,56.7917,57.375,53.4583,47.9167,50.4167,37.3333,36.0,42.25,48.875,60.125,51.875,44.7083,49.2083,53.875,45.7917,45.0833,49.2083,57.375,68.3333,66.75,63.3333,52.9583,48.5833,69.9167,71.7917,64.5,50.5833,57.7083,60.0417,84.4167,86.5417,76.25,69.4167,65.5,45.0,59.6667,59.4583,61.3333,62.375,66.875,70.4167,67.75,65.9583,64.25,61.3333,65.25,65.4167,70.375,67.2917,62.0417,71.5833,73.2917,53.0417,54.5417,68.6667,61.9583,51.9167,57.0833,60.3333,71.1667,73.4167,67.375,67.7083,63.5833,61.5,71.2917,84.5833,73.0417,62.0,55.2083,59.0417,58.75,63.8333,81.5,79.0833,75.5,74.125,81.0417,73.625,79.9167,54.75,50.375,52.0,57.7083,63.7083,67.25,50.1667,57.0,73.4583,87.25,53.6667,61.8333,66.875,64.6667,46.7083,49.2917,57.0,63.0833,69.0833,69.0,54.2917,58.3333,64.9167,87.1667,79.375,72.2917,62.75,66.4167,70.8333,70.9583,76.1667,63.0833,46.3333,53.9167,49.4583,64.0417,70.75,55.8333,69.2917,72.8333,81.5,57.2917,51.0,56.8333,64.1667,63.625,80.0417,80.7083,72.0,69.4583,88.0,82.5455,66.6667,58.1667,52.2083,49.125,53.2917,49.4167,56.7083,54.75,33.3478,54.0833,64.5417,65.9167,74.1667,66.2917,55.2083,62.0417,52.4583,54.5417,69.2917,62.3333,68.5,61.375,58.0417,56.875,40.4583,46.8333,53.5417,78.6667,50.625,55.5652,64.9583,80.6667,82.3333,76.75,73.375,48.5,50.875,76.4167,91.125,90.5417,92.5,59.6667,53.8333,48.5833,64.2917,65.0417,83.875,90.7083,66.625,62.5417,66.7917,55.6667,44.125,51.5417,79.1304,73.4783,82.3333,65.2917,59.0,75.2917,48.3333,57.75],\"x0\":\" \",\"xaxis\":\"x\",\"y\":[985,801,1349,1562,1600,1606,1510,959,822,1321,1263,1162,1406,1421,1248,1204,1000,683,1650,1927,1543,981,986,1416,1985,506,431,1167,1098,1096,1501,1360,1526,1550,1708,1005,1623,1712,1530,1605,1538,1746,1472,1589,1913,1815,2115,2475,2927,1635,1812,1107,1450,1917,1807,1461,1969,2402,1446,1851,2134,1685,1944,2077,605,1872,2133,1891,623,1977,2132,2417,2046,2056,2192,2744,3239,3117,2471,2077,2703,2121,1865,2210,2496,1693,2028,2425,1536,1685,2227,2252,3249,3115,1795,2808,3141,1471,2455,2895,3348,2034,2162,3267,3126,795,3744,3429,3204,3944,4189,1683,4036,4191,4073,4400,3872,4058,4595,5312,3351,4401,4451,2633,4433,4608,4714,4333,4362,4803,4182,4864,4105,3409,4553,3958,4123,3855,4575,4917,5805,4660,4274,4492,4978,4677,4679,4758,4788,4098,3982,3974,4968,5312,5342,4906,4548,4833,4401,3915,4586,4966,4460,5020,4891,5180,3767,4844,5119,4744,4010,4835,4507,4790,4991,5202,5305,4708,4648,5225,5515,5362,5119,4649,6043,4665,4629,4592,4040,5336,4881,4086,4258,4342,5084,5538,5923,5302,4458,4541,4332,3784,3387,3285,3606,3840,4590,4656,4390,3846,4475,4302,4266,4845,3574,4576,4866,4294,3785,4326,4602,4780,4792,4905,4150,3820,4338,4725,4694,3805,4153,5191,3873,4758,5895,5130,3542,4661,1115,4334,4634,5204,5058,5115,4727,4484,4940,3351,2710,1996,1842,3544,5345,5046,4713,4763,4785,3659,4760,4511,4274,4539,3641,4352,4795,2395,5423,5010,4630,4120,3907,4839,5202,2429,2918,3570,4456,4826,4765,4985,5409,5511,5117,4563,2416,2913,3644,5217,5041,4570,4748,2424,4195,4304,4308,4381,4187,4687,3894,2659,3747,627,3331,3669,4068,4186,3974,4046,3926,3649,4035,4205,4109,2933,3368,4067,3717,4486,4195,1817,3053,3392,3663,3520,2765,1607,2566,1495,2792,3068,3071,3867,2914,3613,3727,3940,3614,3485,3811,2594,705,3322,3620,3190,2743,3310,3523,3740,3709,3577,2739,2431,3403,3750,2660,3068,2209,1011,754,1317,1162,2302,2423,2999,2485,2294,1951,2236,2368,3272,4098,4521,3425,2376,3598,2177,4097,3214,2493,2311,2298,2935,3376,3292,3163,1301,1977,2432,4339,4270,4075,3456,4023,3243,3624,4509,4579,3761,4151,2832,2947,3784,4375,2802,3830,3831,2169,1529,3422,3922,4169,3005,4154,4318,2689,3129,3777,4773,5062,3487,2732,3389,4322,4363,4990,3194,4066,3423,3333,3956,4916,5382,4569,4118,4911,5298,5847,6312,6192,4378,7836,5892,6153,6093,6230,6871,8362,3372,4996,5558,5102,5698,6133,5459,6235,6041,5936,6772,6436,6457,6460,6857,5169,5585,5918,4862,5409,6398,7460,7132,6370,6691,4367,6565,7290,6624,1027,3214,5633,6196,5026,6233,4220,6304,5572,5740,6169,6421,6296,6883,6359,6273,5728,4717,6572,7030,7429,6118,2843,5115,7424,7384,7639,8294,7129,4359,6073,5260,6770,6734,6536,6591,6043,5743,6855,7338,4127,8120,7641,6998,7001,7055,7494,7736,7498,6598,6664,4972,7421,7363,7665,7702,6978,5099,6825,6211,5905,5823,7458,6891,6779,7442,7335,6879,5463,5687,5531,6227,6660,7403,6241,6207,4840,4672,6569,6290,7264,7446,7499,6969,6031,6830,6786,5713,6591,5870,4459,7410,6966,7592,8173,6861,6904,6685,6597,7105,7216,7580,7261,7175,6824,5464,7013,7273,7534,7286,5786,6299,6544,6883,6784,7347,7605,7148,7865,4549,6530,7006,7375,7765,7582,6053,5255,6917,7040,7697,7713,7350,6140,5810,6034,6864,7112,6203,7504,5976,8227,7525,7767,7870,7804,8009,8714,7333,6869,4073,7591,7720,8167,8395,7907,7436,7538,7733,7393,7415,8555,6889,6778,4639,7572,7328,8156,7965,3510,5478,6392,7691,7570,7282,7109,6639,5875,7534,7461,7509,5424,8090,6824,7058,7466,7693,7359,7444,7852,4459,22,1096,5566,5986,5847,5138,5107,5259,5686,5035,5315,5992,6536,6852,6269,4094,5495,5445,5698,5629,4669,5499,5634,5146,2425,3910,2277,2424,5087,3959,5260,5323,5668,5191,4649,6234,6606,5729,5375,5008,5582,3228,5170,5501,5319,5532,5611,5047,3786,4585,5557,5267,4128,3623,1749,1787,920,1013,441,2114,3095,1341,1796,2729],\"y0\":\" \",\"yaxis\":\"y\",\"type\":\"box\"}],                        {\"template\":{\"data\":{\"histogram2dcontour\":[{\"type\":\"histogram2dcontour\",\"colorbar\":{\"outlinewidth\":0,\"ticks\":\"\"},\"colorscale\":[[0.0,\"#0d0887\"],[0.1111111111111111,\"#46039f\"],[0.2222222222222222,\"#7201a8\"],[0.3333333333333333,\"#9c179e\"],[0.4444444444444444,\"#bd3786\"],[0.5555555555555556,\"#d8576b\"],[0.6666666666666666,\"#ed7953\"],[0.7777777777777778,\"#fb9f3a\"],[0.8888888888888888,\"#fdca26\"],[1.0,\"#f0f921\"]]}],\"choropleth\":[{\"type\":\"choropleth\",\"colorbar\":{\"outlinewidth\":0,\"ticks\":\"\"}}],\"histogram2d\":[{\"type\":\"histogram2d\",\"colorbar\":{\"outlinewidth\":0,\"ticks\":\"\"},\"colorscale\":[[0.0,\"#0d0887\"],[0.1111111111111111,\"#46039f\"],[0.2222222222222222,\"#7201a8\"],[0.3333333333333333,\"#9c179e\"],[0.4444444444444444,\"#bd3786\"],[0.5555555555555556,\"#d8576b\"],[0.6666666666666666,\"#ed7953\"],[0.7777777777777778,\"#fb9f3a\"],[0.8888888888888888,\"#fdca26\"],[1.0,\"#f0f921\"]]}],\"heatmap\":[{\"type\":\"heatmap\",\"colorbar\":{\"outlinewidth\":0,\"ticks\":\"\"},\"colorscale\":[[0.0,\"#0d0887\"],[0.1111111111111111,\"#46039f\"],[0.2222222222222222,\"#7201a8\"],[0.3333333333333333,\"#9c179e\"],[0.4444444444444444,\"#bd3786\"],[0.5555555555555556,\"#d8576b\"],[0.6666666666666666,\"#ed7953\"],[0.7777777777777778,\"#fb9f3a\"],[0.8888888888888888,\"#fdca26\"],[1.0,\"#f0f921\"]]}],\"heatmapgl\":[{\"type\":\"heatmapgl\",\"colorbar\":{\"outlinewidth\":0,\"ticks\":\"\"},\"colorscale\":[[0.0,\"#0d0887\"],[0.1111111111111111,\"#46039f\"],[0.2222222222222222,\"#7201a8\"],[0.3333333333333333,\"#9c179e\"],[0.4444444444444444,\"#bd3786\"],[0.5555555555555556,\"#d8576b\"],[0.6666666666666666,\"#ed7953\"],[0.7777777777777778,\"#fb9f3a\"],[0.8888888888888888,\"#fdca26\"],[1.0,\"#f0f921\"]]}],\"contourcarpet\":[{\"type\":\"contourcarpet\",\"colorbar\":{\"outlinewidth\":0,\"ticks\":\"\"}}],\"contour\":[{\"type\":\"contour\",\"colorbar\":{\"outlinewidth\":0,\"ticks\":\"\"},\"colorscale\":[[0.0,\"#0d0887\"],[0.1111111111111111,\"#46039f\"],[0.2222222222222222,\"#7201a8\"],[0.3333333333333333,\"#9c179e\"],[0.4444444444444444,\"#bd3786\"],[0.5555555555555556,\"#d8576b\"],[0.6666666666666666,\"#ed7953\"],[0.7777777777777778,\"#fb9f3a\"],[0.8888888888888888,\"#fdca26\"],[1.0,\"#f0f921\"]]}],\"surface\":[{\"type\":\"surface\",\"colorbar\":{\"outlinewidth\":0,\"ticks\":\"\"},\"colorscale\":[[0.0,\"#0d0887\"],[0.1111111111111111,\"#46039f\"],[0.2222222222222222,\"#7201a8\"],[0.3333333333333333,\"#9c179e\"],[0.4444444444444444,\"#bd3786\"],[0.5555555555555556,\"#d8576b\"],[0.6666666666666666,\"#ed7953\"],[0.7777777777777778,\"#fb9f3a\"],[0.8888888888888888,\"#fdca26\"],[1.0,\"#f0f921\"]]}],\"mesh3d\":[{\"type\":\"mesh3d\",\"colorbar\":{\"outlinewidth\":0,\"ticks\":\"\"}}],\"scatter\":[{\"fillpattern\":{\"fillmode\":\"overlay\",\"size\":10,\"solidity\":0.2},\"type\":\"scatter\"}],\"parcoords\":[{\"type\":\"parcoords\",\"line\":{\"colorbar\":{\"outlinewidth\":0,\"ticks\":\"\"}}}],\"scatterpolargl\":[{\"type\":\"scatterpolargl\",\"marker\":{\"colorbar\":{\"outlinewidth\":0,\"ticks\":\"\"}}}],\"bar\":[{\"error_x\":{\"color\":\"#2a3f5f\"},\"error_y\":{\"color\":\"#2a3f5f\"},\"marker\":{\"line\":{\"color\":\"#E5ECF6\",\"width\":0.5},\"pattern\":{\"fillmode\":\"overlay\",\"size\":10,\"solidity\":0.2}},\"type\":\"bar\"}],\"scattergeo\":[{\"type\":\"scattergeo\",\"marker\":{\"colorbar\":{\"outlinewidth\":0,\"ticks\":\"\"}}}],\"scatterpolar\":[{\"type\":\"scatterpolar\",\"marker\":{\"colorbar\":{\"outlinewidth\":0,\"ticks\":\"\"}}}],\"histogram\":[{\"marker\":{\"pattern\":{\"fillmode\":\"overlay\",\"size\":10,\"solidity\":0.2}},\"type\":\"histogram\"}],\"scattergl\":[{\"type\":\"scattergl\",\"marker\":{\"colorbar\":{\"outlinewidth\":0,\"ticks\":\"\"}}}],\"scatter3d\":[{\"type\":\"scatter3d\",\"line\":{\"colorbar\":{\"outlinewidth\":0,\"ticks\":\"\"}},\"marker\":{\"colorbar\":{\"outlinewidth\":0,\"ticks\":\"\"}}}],\"scattermapbox\":[{\"type\":\"scattermapbox\",\"marker\":{\"colorbar\":{\"outlinewidth\":0,\"ticks\":\"\"}}}],\"scatterternary\":[{\"type\":\"scatterternary\",\"marker\":{\"colorbar\":{\"outlinewidth\":0,\"ticks\":\"\"}}}],\"scattercarpet\":[{\"type\":\"scattercarpet\",\"marker\":{\"colorbar\":{\"outlinewidth\":0,\"ticks\":\"\"}}}],\"carpet\":[{\"aaxis\":{\"endlinecolor\":\"#2a3f5f\",\"gridcolor\":\"white\",\"linecolor\":\"white\",\"minorgridcolor\":\"white\",\"startlinecolor\":\"#2a3f5f\"},\"baxis\":{\"endlinecolor\":\"#2a3f5f\",\"gridcolor\":\"white\",\"linecolor\":\"white\",\"minorgridcolor\":\"white\",\"startlinecolor\":\"#2a3f5f\"},\"type\":\"carpet\"}],\"table\":[{\"cells\":{\"fill\":{\"color\":\"#EBF0F8\"},\"line\":{\"color\":\"white\"}},\"header\":{\"fill\":{\"color\":\"#C8D4E3\"},\"line\":{\"color\":\"white\"}},\"type\":\"table\"}],\"barpolar\":[{\"marker\":{\"line\":{\"color\":\"#E5ECF6\",\"width\":0.5},\"pattern\":{\"fillmode\":\"overlay\",\"size\":10,\"solidity\":0.2}},\"type\":\"barpolar\"}],\"pie\":[{\"automargin\":true,\"type\":\"pie\"}]},\"layout\":{\"autotypenumbers\":\"strict\",\"colorway\":[\"#636efa\",\"#EF553B\",\"#00cc96\",\"#ab63fa\",\"#FFA15A\",\"#19d3f3\",\"#FF6692\",\"#B6E880\",\"#FF97FF\",\"#FECB52\"],\"font\":{\"color\":\"#2a3f5f\"},\"hovermode\":\"closest\",\"hoverlabel\":{\"align\":\"left\"},\"paper_bgcolor\":\"white\",\"plot_bgcolor\":\"#E5ECF6\",\"polar\":{\"bgcolor\":\"#E5ECF6\",\"angularaxis\":{\"gridcolor\":\"white\",\"linecolor\":\"white\",\"ticks\":\"\"},\"radialaxis\":{\"gridcolor\":\"white\",\"linecolor\":\"white\",\"ticks\":\"\"}},\"ternary\":{\"bgcolor\":\"#E5ECF6\",\"aaxis\":{\"gridcolor\":\"white\",\"linecolor\":\"white\",\"ticks\":\"\"},\"baxis\":{\"gridcolor\":\"white\",\"linecolor\":\"white\",\"ticks\":\"\"},\"caxis\":{\"gridcolor\":\"white\",\"linecolor\":\"white\",\"ticks\":\"\"}},\"coloraxis\":{\"colorbar\":{\"outlinewidth\":0,\"ticks\":\"\"}},\"colorscale\":{\"sequential\":[[0.0,\"#0d0887\"],[0.1111111111111111,\"#46039f\"],[0.2222222222222222,\"#7201a8\"],[0.3333333333333333,\"#9c179e\"],[0.4444444444444444,\"#bd3786\"],[0.5555555555555556,\"#d8576b\"],[0.6666666666666666,\"#ed7953\"],[0.7777777777777778,\"#fb9f3a\"],[0.8888888888888888,\"#fdca26\"],[1.0,\"#f0f921\"]],\"sequentialminus\":[[0.0,\"#0d0887\"],[0.1111111111111111,\"#46039f\"],[0.2222222222222222,\"#7201a8\"],[0.3333333333333333,\"#9c179e\"],[0.4444444444444444,\"#bd3786\"],[0.5555555555555556,\"#d8576b\"],[0.6666666666666666,\"#ed7953\"],[0.7777777777777778,\"#fb9f3a\"],[0.8888888888888888,\"#fdca26\"],[1.0,\"#f0f921\"]],\"diverging\":[[0,\"#8e0152\"],[0.1,\"#c51b7d\"],[0.2,\"#de77ae\"],[0.3,\"#f1b6da\"],[0.4,\"#fde0ef\"],[0.5,\"#f7f7f7\"],[0.6,\"#e6f5d0\"],[0.7,\"#b8e186\"],[0.8,\"#7fbc41\"],[0.9,\"#4d9221\"],[1,\"#276419\"]]},\"xaxis\":{\"gridcolor\":\"white\",\"linecolor\":\"white\",\"ticks\":\"\",\"title\":{\"standoff\":15},\"zerolinecolor\":\"white\",\"automargin\":true,\"zerolinewidth\":2},\"yaxis\":{\"gridcolor\":\"white\",\"linecolor\":\"white\",\"ticks\":\"\",\"title\":{\"standoff\":15},\"zerolinecolor\":\"white\",\"automargin\":true,\"zerolinewidth\":2},\"scene\":{\"xaxis\":{\"backgroundcolor\":\"#E5ECF6\",\"gridcolor\":\"white\",\"linecolor\":\"white\",\"showbackground\":true,\"ticks\":\"\",\"zerolinecolor\":\"white\",\"gridwidth\":2},\"yaxis\":{\"backgroundcolor\":\"#E5ECF6\",\"gridcolor\":\"white\",\"linecolor\":\"white\",\"showbackground\":true,\"ticks\":\"\",\"zerolinecolor\":\"white\",\"gridwidth\":2},\"zaxis\":{\"backgroundcolor\":\"#E5ECF6\",\"gridcolor\":\"white\",\"linecolor\":\"white\",\"showbackground\":true,\"ticks\":\"\",\"zerolinecolor\":\"white\",\"gridwidth\":2}},\"shapedefaults\":{\"line\":{\"color\":\"#2a3f5f\"}},\"annotationdefaults\":{\"arrowcolor\":\"#2a3f5f\",\"arrowhead\":0,\"arrowwidth\":1},\"geo\":{\"bgcolor\":\"white\",\"landcolor\":\"#E5ECF6\",\"subunitcolor\":\"white\",\"showland\":true,\"showlakes\":true,\"lakecolor\":\"white\"},\"title\":{\"x\":0.05},\"mapbox\":{\"style\":\"light\"}}},\"xaxis\":{\"anchor\":\"y\",\"domain\":[0.0,1.0],\"title\":{\"text\":\"hum\"}},\"yaxis\":{\"anchor\":\"x\",\"domain\":[0.0,1.0],\"title\":{\"text\":\"cnt\"}},\"legend\":{\"tracegroupgap\":0},\"title\":{\"text\":\"Boxplot of values for hum against our target variable cnt\"},\"boxmode\":\"group\"},                        {\"responsive\": true}                    ).then(function(){\n                            \nvar gd = document.getElementById('d76d9949-eb50-47d1-a74d-dda5581aa4d4');\nvar x = new MutationObserver(function (mutations, observer) {{\n        var display = window.getComputedStyle(gd).display;\n        if (!display || display === 'none') {{\n            console.log([gd, 'removed!']);\n            Plotly.purge(gd);\n            observer.disconnect();\n        }}\n}});\n\n// Listen for the removal of the full notebook cells\nvar notebookContainer = gd.closest('#notebook-container');\nif (notebookContainer) {{\n    x.observe(notebookContainer, {childList: true});\n}}\n\n// Listen for the clearing of the current output cell\nvar outputEl = gd.closest('.output');\nif (outputEl) {{\n    x.observe(outputEl, {childList: true});\n}}\n\n                        })                };                            </script>        </div>\n</body>\n</html>"
     },
     "metadata": {},
     "output_type": "display_data"
    }
   ]
  },
  {
   "cell_type": "code",
   "metadata": {
    "cell_id": "c2751df007ce4a2d934d5261db7b1e9b",
    "tags": [],
    "deepnote_to_be_reexecuted": false,
    "source_hash": "173f3043",
    "execution_start": 1663728013253,
    "execution_millis": 90,
    "deepnote_cell_type": "code",
    "deepnote_cell_height": 1457.03125,
    "deepnote_output_heights": [
     null,
     526,
     526
    ]
   },
   "source": "create_feature_analysis(data, 'windspeed')",
   "execution_count": 20,
   "outputs": [
    {
     "name": "stdout",
     "text": "DESCRIPTIVE SUMMARY of windspeed\ncount    730.000000\nmean      12.763620\nstd        5.195841\nmin        1.500244\n25%        9.041650\n50%       12.125325\n75%       15.625589\nmax       34.000021\nName: windspeed, dtype: float64\n\n\nUNIQUE VALUE COUNT: 649\n",
     "output_type": "stream"
    },
    {
     "data": {
      "text/html": "<html>\n<head><meta charset=\"utf-8\" /></head>\n<body>\n    <div>            <script src=\"https://cdnjs.cloudflare.com/ajax/libs/mathjax/2.7.5/MathJax.js?config=TeX-AMS-MML_SVG\"></script><script type=\"text/javascript\">if (window.MathJax && window.MathJax.Hub && window.MathJax.Hub.Config) {window.MathJax.Hub.Config({SVG: {font: \"STIX-Web\"}});}</script>                <script type=\"text/javascript\">window.PlotlyConfig = {MathJaxConfig: 'local'};</script>\n        <script src=\"https://cdn.plot.ly/plotly-2.14.0.min.js\"></script>                <div id=\"39175cd7-4d58-489e-b481-449c244e6695\" class=\"plotly-graph-div\" style=\"height:525px; width:100%;\"></div>            <script type=\"text/javascript\">                                    window.PLOTLYENV=window.PLOTLYENV || {};                                    if (document.getElementById(\"39175cd7-4d58-489e-b481-449c244e6695\")) {                    Plotly.newPlot(                        \"39175cd7-4d58-489e-b481-449c244e6695\",                        [{\"alignmentgroup\":\"True\",\"bingroup\":\"x\",\"hovertemplate\":\"windspeed=%{x}<br>count=%{y}<extra></extra>\",\"legendgroup\":\"\",\"marker\":{\"color\":\"#636efa\",\"pattern\":{\"shape\":\"\"}},\"name\":\"\",\"offsetgroup\":\"\",\"orientation\":\"v\",\"showlegend\":false,\"x\":[10.749882,16.652113,16.636703,10.739832,12.5223,6.0008684,11.304642,17.875868,24.25065,14.958889,8.182844,20.410009,20.167,8.478716,10.583521,12.625011,12.999139,9.833925,13.957239,13.125568,23.667214,11.52199,16.5222,10.60811,8.696332,19.68795,7.627079,8.2611,9.739455,4.9568342,12.541864,3.565271,17.708636,18.609384,8.565213,10.792293,9.5006,3.0423561,24.25065,12.652213,14.869645,7.27285,13.625589,17.479161,27.999836,19.522058,16.869997,15.416968,17.749975,34.000021,14.956745,20.625682,13.110761,6.305571,16.783232,23.218113,12.500257,8.391616,19.408962,14.500475,20.624811,15.125518,13.624182,16.875357,23.000229,22.870584,8.08355,14.75005,17.545759,15.60899,14.791925,18.130468,9.174042,12.348703,13.608839,14.041793,15.478139,24.667189,13.917307,19.348461,15.12525,15.695487,16.333729,15.458575,14.041257,12.3481,14.217668,15.208732,11.583496,14.582282,17.333436,13.208782,12.208271,25.833257,26.000489,17.625221,10.874904,15.208464,8.916561,9.833389,21.739758,18.416893,16.791339,7.4169,15.167125,22.834136,20.334232,10.958989,10.584057,16.208975,21.792286,14.707907,15.458575,12.875725,12.417311,21.8755,20.9174,21.500836,16.084221,15.750025,7.125718,12.291418,22.958689,22.042732,19.791264,15.292482,10.75015,5.0007125,11.792,7.749957,8.083014,12.707689,12.041575,9.04165,10.249593,8.500357,18.582718,13.499964,7.250271,8.375871,8.08355,9.916536,15.667414,13.875164,10.333611,13.376014,16.125493,15.416164,14.333846,8.792075,7.459043,13.875164,19.583229,16.959107,8.250514,9.292364,8.167032,12.583136,9.166739,10.042161,9.417118,10.37495,10.958989,20.45845,18.041961,11.250104,13.833557,9.582943,8.000336,6.834,10.416825,11.458675,11.541554,15.999868,14.875675,14.041257,6.3337311,7.208396,9.666961,17.542007,12.415904,6.874736,7.709154,15.333486,5.4591064,8.459286,10.042161,10.6664,15.083643,11.250104,12.292557,18.916579,13.417018,9.790911,16.124689,12.249811,13.958914,16.417211,14.458868,8.7502,7.625739,14.875407,8.9177,8.791807,11.334457,6.0841561,13.417286,12.292021,11.958093,11.667246,11.291979,11.042471,10.500039,13.79195,9.084061,13.20905,12.374632,15.29275,13.499629,12.875725,10.125107,13.417286,11.041332,8.416607,14.167418,14.916411,13.999918,15.834043,9.625689,15.624936,9.333636,6.999289,16.666518,18.54225,9.833121,16.958236,14.125811,5.6254875,25.166339,20.412153,10.708275,8.375536,5.5833311,9.500332,9.375243,12.416775,13.833289,14.250632,23.044181,6.5003936,12.914116,8.333393,10.291736,7.708618,5.957171,9.500868,11.2091,18.166782,11.000261,12.708225,11.958361,10.166714,9.041918,6.4590814,8.584375,5.2505689,5.2516811,3.3754064,7.4169,7.917457,9.958143,11.583161,13.833825,19.583832,14.874871,5.5841686,13.792218,11.87575,9.041918,1.5002439,3.0420814,4.25115,2.8343814,9.583814,16.62605,9.499729,15.000161,17.291561,18.875039,11.750393,7.375829,16.303713,28.292425,14.833532,6.2086689,6.6673375,7.959064,11.166086,9.959014,13.250121,15.375093,23.541857,11.833339,7.12545,9.083257,5.5001439,9.166739,18.209193,12.667154,6.1676314,3.834075,4.6255125,4.1671186,12.667489,21.083225,14.208154,18.875307,20.541932,13.375411,9.167543,20.459254,11.291711,15.041232,12.45865,9.249618,7.959064,22.500275,11.209368,6.6260186,4.5841936,13.999918,9.522174,17.292164,18.167586,14.750586,6.750518,6.4174811,5.6252061,4.1679561,15.583061,17.833725,16.083886,5.5420189,15.625807,4.4582939,4.25115,9.41685,4.0842061,17.958814,17.458525,16.292189,11.375193,11.584032,4.1252436,14.8338,3.167425,18.374482,12.750368,10.391097,16.044155,12.62615,19.695387,8.000604,9.000579,14.750318,12.875189,22.087555,24.499957,12.3749,8.709129,11.249836,11.708786,12.833314,6.6263,12.565984,8.791807,12.124789,25.333236,12.541261,16.834286,15.500986,23.39171,27.833743,14.750586,13.58425,14.917014,13.375746,7.417436,8.292389,10.791757,4.9175186,22.958689,14.125543,16.08335,14.458064,17.541739,12.667489,12.541529,11.959232,8.167032,11.791732,10.3046,9.874393,8.959307,13.000479,7.834243,19.416332,27.417204,11.207961,9.458993,12.1672,6.125475,13.791682,12.792243,16.958504,15.348561,13.783039,15.709557,12.791171,15.916989,28.250014,13.750343,17.958211,12.958939,15.208129,9.708568,10.792293,22.416257,15.333486,13.458625,23.167193,29.584721,27.7916,15.12525,14.913329,13.916771,15.87565,7.709154,10.042161,7.583864,7.417168,8.501161,10.875239,8.125157,6.0004061,7.876654,7.7921,12.916461,14.791925,25.917007,12.541864,19.541957,21.41655,9.250489,16.791339,11.541889,20.913313,6.708911,12.125325,14.708443,20.125996,18.416357,15.583932,23.999132,16.708125,19.783358,19.458743,10.416557,12.791439,15.083643,19.083543,18.333143,11.250104,4.4172564,10.041357,19.000329,23.084582,20.334232,16.708661,7.959064,11.833875,23.291411,8.708325,7.832836,11.499746,10.458432,9.249886,8.957632,10.916846,10.250464,10.041893,15.458307,19.833943,14.499604,21.042221,15.874779,8.249911,15.082839,14.250364,9.875264,8.208304,15.374825,9.166739,5.626325,17.042589,15.624668,7.917189,6.834,11.584032,9.41685,13.332464,14.416457,13.166907,19.7918,9.000043,13.083693,15.916721,12.499654,12.333829,19.083811,14.041525,5.167375,10.54245,11.750661,9.667229,8.959307,13.916771,14.374582,22.999693,17.000111,11.833339,11.166689,9.708568,11.707982,9.917139,7.625404,7.958729,12.250414,12.041307,9.750175,20.125661,23.292014,18.208925,11.50055,11.082939,10.791757,11.291443,13.082889,8.457879,9.04165,12.999943,9.791514,10.958118,8.417143,12.125325,10.166379,10.166111,9.833925,5.41695,9.626493,11.166689,11.000529,7.666743,9.208614,11.083743,14.000789,14.2911,6.2926936,9.291761,14.167418,11.0416,19.082471,10.250464,10.54245,11.416532,10.292339,11.083475,9.458993,8.666718,14.458064,17.249686,19.458207,8.666718,7.832836,7.4169,10.4587,16.000471,13.834093,8.208304,9.126204,11.333586,11.374657,9.500332,15.500718,11.917089,5.79215,8.708593,4.8756436,4.7089811,5.6679186,4.8337686,16.375336,15.333486,8.625111,12.791975,7.541654,5.1668189,11.291711,7.583529,4.2927436,10.125107,15.833507,12.583136,9.542207,11.500282,18.833968,15.041232,17.333771,6.1676314,8.833682,5.5422936,6.958821,16.583907,6.0422811,10.166714,23.958329,14.416725,7.917189,10.333343,19.000061,14.958286,9.541068,15.833507,16.3748,9.000914,10.999993,15.249468,9.042186,6.0838814,6.999825,4.4585686,7.875582,7.12545,17.957675,9.457854,12.708493,12.7501,12.584007,12.166932,15.751164,9.791514,18.667004,19.834479,12.208807,6.791857,15.874779,9.041918,7.874979,11.125618,5.4593811,6.3345686,4.8762064,8.333125,8.875289,15.791364,26.666536,23.9994,14.271603,11.166689,10.542182,17.833725,18.125443,12.000236,15.833775,11.625371,20.375236,23.304945,14.375386,3.8756686,8.5425,11.625639,22.917082,13.374875,10.250129,11.458675,12.041843,15.250004,15.749489,5.542575,6.917482,3.5423436,9.917407,25.250357,10.0835,3.12555,15.916654,14.125007,7.739974,3.9175436,4.0001814,8.333393,5.5422936,11.666643,21.709407,11.708518,8.7502,6.792393,10.584325,12.750636,19.834479,10.916779,11.666643,8.792343,7.12545,6.749714,6.5833061,14.834068,12.334164,8.875021,25.083661,27.292182,8.916561,5.1744368,11.304642,21.208582,23.458911,10.416557,8.333661,23.500518,10.374682],\"xaxis\":\"x\",\"yaxis\":\"y\",\"type\":\"histogram\"}],                        {\"template\":{\"data\":{\"histogram2dcontour\":[{\"type\":\"histogram2dcontour\",\"colorbar\":{\"outlinewidth\":0,\"ticks\":\"\"},\"colorscale\":[[0.0,\"#0d0887\"],[0.1111111111111111,\"#46039f\"],[0.2222222222222222,\"#7201a8\"],[0.3333333333333333,\"#9c179e\"],[0.4444444444444444,\"#bd3786\"],[0.5555555555555556,\"#d8576b\"],[0.6666666666666666,\"#ed7953\"],[0.7777777777777778,\"#fb9f3a\"],[0.8888888888888888,\"#fdca26\"],[1.0,\"#f0f921\"]]}],\"choropleth\":[{\"type\":\"choropleth\",\"colorbar\":{\"outlinewidth\":0,\"ticks\":\"\"}}],\"histogram2d\":[{\"type\":\"histogram2d\",\"colorbar\":{\"outlinewidth\":0,\"ticks\":\"\"},\"colorscale\":[[0.0,\"#0d0887\"],[0.1111111111111111,\"#46039f\"],[0.2222222222222222,\"#7201a8\"],[0.3333333333333333,\"#9c179e\"],[0.4444444444444444,\"#bd3786\"],[0.5555555555555556,\"#d8576b\"],[0.6666666666666666,\"#ed7953\"],[0.7777777777777778,\"#fb9f3a\"],[0.8888888888888888,\"#fdca26\"],[1.0,\"#f0f921\"]]}],\"heatmap\":[{\"type\":\"heatmap\",\"colorbar\":{\"outlinewidth\":0,\"ticks\":\"\"},\"colorscale\":[[0.0,\"#0d0887\"],[0.1111111111111111,\"#46039f\"],[0.2222222222222222,\"#7201a8\"],[0.3333333333333333,\"#9c179e\"],[0.4444444444444444,\"#bd3786\"],[0.5555555555555556,\"#d8576b\"],[0.6666666666666666,\"#ed7953\"],[0.7777777777777778,\"#fb9f3a\"],[0.8888888888888888,\"#fdca26\"],[1.0,\"#f0f921\"]]}],\"heatmapgl\":[{\"type\":\"heatmapgl\",\"colorbar\":{\"outlinewidth\":0,\"ticks\":\"\"},\"colorscale\":[[0.0,\"#0d0887\"],[0.1111111111111111,\"#46039f\"],[0.2222222222222222,\"#7201a8\"],[0.3333333333333333,\"#9c179e\"],[0.4444444444444444,\"#bd3786\"],[0.5555555555555556,\"#d8576b\"],[0.6666666666666666,\"#ed7953\"],[0.7777777777777778,\"#fb9f3a\"],[0.8888888888888888,\"#fdca26\"],[1.0,\"#f0f921\"]]}],\"contourcarpet\":[{\"type\":\"contourcarpet\",\"colorbar\":{\"outlinewidth\":0,\"ticks\":\"\"}}],\"contour\":[{\"type\":\"contour\",\"colorbar\":{\"outlinewidth\":0,\"ticks\":\"\"},\"colorscale\":[[0.0,\"#0d0887\"],[0.1111111111111111,\"#46039f\"],[0.2222222222222222,\"#7201a8\"],[0.3333333333333333,\"#9c179e\"],[0.4444444444444444,\"#bd3786\"],[0.5555555555555556,\"#d8576b\"],[0.6666666666666666,\"#ed7953\"],[0.7777777777777778,\"#fb9f3a\"],[0.8888888888888888,\"#fdca26\"],[1.0,\"#f0f921\"]]}],\"surface\":[{\"type\":\"surface\",\"colorbar\":{\"outlinewidth\":0,\"ticks\":\"\"},\"colorscale\":[[0.0,\"#0d0887\"],[0.1111111111111111,\"#46039f\"],[0.2222222222222222,\"#7201a8\"],[0.3333333333333333,\"#9c179e\"],[0.4444444444444444,\"#bd3786\"],[0.5555555555555556,\"#d8576b\"],[0.6666666666666666,\"#ed7953\"],[0.7777777777777778,\"#fb9f3a\"],[0.8888888888888888,\"#fdca26\"],[1.0,\"#f0f921\"]]}],\"mesh3d\":[{\"type\":\"mesh3d\",\"colorbar\":{\"outlinewidth\":0,\"ticks\":\"\"}}],\"scatter\":[{\"fillpattern\":{\"fillmode\":\"overlay\",\"size\":10,\"solidity\":0.2},\"type\":\"scatter\"}],\"parcoords\":[{\"type\":\"parcoords\",\"line\":{\"colorbar\":{\"outlinewidth\":0,\"ticks\":\"\"}}}],\"scatterpolargl\":[{\"type\":\"scatterpolargl\",\"marker\":{\"colorbar\":{\"outlinewidth\":0,\"ticks\":\"\"}}}],\"bar\":[{\"error_x\":{\"color\":\"#2a3f5f\"},\"error_y\":{\"color\":\"#2a3f5f\"},\"marker\":{\"line\":{\"color\":\"#E5ECF6\",\"width\":0.5},\"pattern\":{\"fillmode\":\"overlay\",\"size\":10,\"solidity\":0.2}},\"type\":\"bar\"}],\"scattergeo\":[{\"type\":\"scattergeo\",\"marker\":{\"colorbar\":{\"outlinewidth\":0,\"ticks\":\"\"}}}],\"scatterpolar\":[{\"type\":\"scatterpolar\",\"marker\":{\"colorbar\":{\"outlinewidth\":0,\"ticks\":\"\"}}}],\"histogram\":[{\"marker\":{\"pattern\":{\"fillmode\":\"overlay\",\"size\":10,\"solidity\":0.2}},\"type\":\"histogram\"}],\"scattergl\":[{\"type\":\"scattergl\",\"marker\":{\"colorbar\":{\"outlinewidth\":0,\"ticks\":\"\"}}}],\"scatter3d\":[{\"type\":\"scatter3d\",\"line\":{\"colorbar\":{\"outlinewidth\":0,\"ticks\":\"\"}},\"marker\":{\"colorbar\":{\"outlinewidth\":0,\"ticks\":\"\"}}}],\"scattermapbox\":[{\"type\":\"scattermapbox\",\"marker\":{\"colorbar\":{\"outlinewidth\":0,\"ticks\":\"\"}}}],\"scatterternary\":[{\"type\":\"scatterternary\",\"marker\":{\"colorbar\":{\"outlinewidth\":0,\"ticks\":\"\"}}}],\"scattercarpet\":[{\"type\":\"scattercarpet\",\"marker\":{\"colorbar\":{\"outlinewidth\":0,\"ticks\":\"\"}}}],\"carpet\":[{\"aaxis\":{\"endlinecolor\":\"#2a3f5f\",\"gridcolor\":\"white\",\"linecolor\":\"white\",\"minorgridcolor\":\"white\",\"startlinecolor\":\"#2a3f5f\"},\"baxis\":{\"endlinecolor\":\"#2a3f5f\",\"gridcolor\":\"white\",\"linecolor\":\"white\",\"minorgridcolor\":\"white\",\"startlinecolor\":\"#2a3f5f\"},\"type\":\"carpet\"}],\"table\":[{\"cells\":{\"fill\":{\"color\":\"#EBF0F8\"},\"line\":{\"color\":\"white\"}},\"header\":{\"fill\":{\"color\":\"#C8D4E3\"},\"line\":{\"color\":\"white\"}},\"type\":\"table\"}],\"barpolar\":[{\"marker\":{\"line\":{\"color\":\"#E5ECF6\",\"width\":0.5},\"pattern\":{\"fillmode\":\"overlay\",\"size\":10,\"solidity\":0.2}},\"type\":\"barpolar\"}],\"pie\":[{\"automargin\":true,\"type\":\"pie\"}]},\"layout\":{\"autotypenumbers\":\"strict\",\"colorway\":[\"#636efa\",\"#EF553B\",\"#00cc96\",\"#ab63fa\",\"#FFA15A\",\"#19d3f3\",\"#FF6692\",\"#B6E880\",\"#FF97FF\",\"#FECB52\"],\"font\":{\"color\":\"#2a3f5f\"},\"hovermode\":\"closest\",\"hoverlabel\":{\"align\":\"left\"},\"paper_bgcolor\":\"white\",\"plot_bgcolor\":\"#E5ECF6\",\"polar\":{\"bgcolor\":\"#E5ECF6\",\"angularaxis\":{\"gridcolor\":\"white\",\"linecolor\":\"white\",\"ticks\":\"\"},\"radialaxis\":{\"gridcolor\":\"white\",\"linecolor\":\"white\",\"ticks\":\"\"}},\"ternary\":{\"bgcolor\":\"#E5ECF6\",\"aaxis\":{\"gridcolor\":\"white\",\"linecolor\":\"white\",\"ticks\":\"\"},\"baxis\":{\"gridcolor\":\"white\",\"linecolor\":\"white\",\"ticks\":\"\"},\"caxis\":{\"gridcolor\":\"white\",\"linecolor\":\"white\",\"ticks\":\"\"}},\"coloraxis\":{\"colorbar\":{\"outlinewidth\":0,\"ticks\":\"\"}},\"colorscale\":{\"sequential\":[[0.0,\"#0d0887\"],[0.1111111111111111,\"#46039f\"],[0.2222222222222222,\"#7201a8\"],[0.3333333333333333,\"#9c179e\"],[0.4444444444444444,\"#bd3786\"],[0.5555555555555556,\"#d8576b\"],[0.6666666666666666,\"#ed7953\"],[0.7777777777777778,\"#fb9f3a\"],[0.8888888888888888,\"#fdca26\"],[1.0,\"#f0f921\"]],\"sequentialminus\":[[0.0,\"#0d0887\"],[0.1111111111111111,\"#46039f\"],[0.2222222222222222,\"#7201a8\"],[0.3333333333333333,\"#9c179e\"],[0.4444444444444444,\"#bd3786\"],[0.5555555555555556,\"#d8576b\"],[0.6666666666666666,\"#ed7953\"],[0.7777777777777778,\"#fb9f3a\"],[0.8888888888888888,\"#fdca26\"],[1.0,\"#f0f921\"]],\"diverging\":[[0,\"#8e0152\"],[0.1,\"#c51b7d\"],[0.2,\"#de77ae\"],[0.3,\"#f1b6da\"],[0.4,\"#fde0ef\"],[0.5,\"#f7f7f7\"],[0.6,\"#e6f5d0\"],[0.7,\"#b8e186\"],[0.8,\"#7fbc41\"],[0.9,\"#4d9221\"],[1,\"#276419\"]]},\"xaxis\":{\"gridcolor\":\"white\",\"linecolor\":\"white\",\"ticks\":\"\",\"title\":{\"standoff\":15},\"zerolinecolor\":\"white\",\"automargin\":true,\"zerolinewidth\":2},\"yaxis\":{\"gridcolor\":\"white\",\"linecolor\":\"white\",\"ticks\":\"\",\"title\":{\"standoff\":15},\"zerolinecolor\":\"white\",\"automargin\":true,\"zerolinewidth\":2},\"scene\":{\"xaxis\":{\"backgroundcolor\":\"#E5ECF6\",\"gridcolor\":\"white\",\"linecolor\":\"white\",\"showbackground\":true,\"ticks\":\"\",\"zerolinecolor\":\"white\",\"gridwidth\":2},\"yaxis\":{\"backgroundcolor\":\"#E5ECF6\",\"gridcolor\":\"white\",\"linecolor\":\"white\",\"showbackground\":true,\"ticks\":\"\",\"zerolinecolor\":\"white\",\"gridwidth\":2},\"zaxis\":{\"backgroundcolor\":\"#E5ECF6\",\"gridcolor\":\"white\",\"linecolor\":\"white\",\"showbackground\":true,\"ticks\":\"\",\"zerolinecolor\":\"white\",\"gridwidth\":2}},\"shapedefaults\":{\"line\":{\"color\":\"#2a3f5f\"}},\"annotationdefaults\":{\"arrowcolor\":\"#2a3f5f\",\"arrowhead\":0,\"arrowwidth\":1},\"geo\":{\"bgcolor\":\"white\",\"landcolor\":\"#E5ECF6\",\"subunitcolor\":\"white\",\"showland\":true,\"showlakes\":true,\"lakecolor\":\"white\"},\"title\":{\"x\":0.05},\"mapbox\":{\"style\":\"light\"}}},\"xaxis\":{\"anchor\":\"y\",\"domain\":[0.0,1.0],\"title\":{\"text\":\"windspeed\"}},\"yaxis\":{\"anchor\":\"x\",\"domain\":[0.0,1.0],\"title\":{\"text\":\"count\"}},\"legend\":{\"tracegroupgap\":0},\"title\":{\"text\":\"Histogram of values for windspeed\"},\"barmode\":\"relative\"},                        {\"responsive\": true}                    ).then(function(){\n                            \nvar gd = document.getElementById('39175cd7-4d58-489e-b481-449c244e6695');\nvar x = new MutationObserver(function (mutations, observer) {{\n        var display = window.getComputedStyle(gd).display;\n        if (!display || display === 'none') {{\n            console.log([gd, 'removed!']);\n            Plotly.purge(gd);\n            observer.disconnect();\n        }}\n}});\n\n// Listen for the removal of the full notebook cells\nvar notebookContainer = gd.closest('#notebook-container');\nif (notebookContainer) {{\n    x.observe(notebookContainer, {childList: true});\n}}\n\n// Listen for the clearing of the current output cell\nvar outputEl = gd.closest('.output');\nif (outputEl) {{\n    x.observe(outputEl, {childList: true});\n}}\n\n                        })                };                            </script>        </div>\n</body>\n</html>"
     },
     "metadata": {},
     "output_type": "display_data"
    },
    {
     "data": {
      "text/html": "<html>\n<head><meta charset=\"utf-8\" /></head>\n<body>\n    <div>            <script src=\"https://cdnjs.cloudflare.com/ajax/libs/mathjax/2.7.5/MathJax.js?config=TeX-AMS-MML_SVG\"></script><script type=\"text/javascript\">if (window.MathJax && window.MathJax.Hub && window.MathJax.Hub.Config) {window.MathJax.Hub.Config({SVG: {font: \"STIX-Web\"}});}</script>                <script type=\"text/javascript\">window.PlotlyConfig = {MathJaxConfig: 'local'};</script>\n        <script src=\"https://cdn.plot.ly/plotly-2.14.0.min.js\"></script>                <div id=\"6d360714-9acc-4dd8-af11-99bcf7ffcc28\" class=\"plotly-graph-div\" style=\"height:525px; width:100%;\"></div>            <script type=\"text/javascript\">                                    window.PLOTLYENV=window.PLOTLYENV || {};                                    if (document.getElementById(\"6d360714-9acc-4dd8-af11-99bcf7ffcc28\")) {                    Plotly.newPlot(                        \"6d360714-9acc-4dd8-af11-99bcf7ffcc28\",                        [{\"alignmentgroup\":\"True\",\"hovertemplate\":\"windspeed=%{x}<br>cnt=%{y}<extra></extra>\",\"legendgroup\":\"\",\"marker\":{\"color\":\"#636efa\"},\"name\":\"\",\"notched\":false,\"offsetgroup\":\"\",\"orientation\":\"v\",\"showlegend\":false,\"x\":[10.749882,16.652113,16.636703,10.739832,12.5223,6.0008684,11.304642,17.875868,24.25065,14.958889,8.182844,20.410009,20.167,8.478716,10.583521,12.625011,12.999139,9.833925,13.957239,13.125568,23.667214,11.52199,16.5222,10.60811,8.696332,19.68795,7.627079,8.2611,9.739455,4.9568342,12.541864,3.565271,17.708636,18.609384,8.565213,10.792293,9.5006,3.0423561,24.25065,12.652213,14.869645,7.27285,13.625589,17.479161,27.999836,19.522058,16.869997,15.416968,17.749975,34.000021,14.956745,20.625682,13.110761,6.305571,16.783232,23.218113,12.500257,8.391616,19.408962,14.500475,20.624811,15.125518,13.624182,16.875357,23.000229,22.870584,8.08355,14.75005,17.545759,15.60899,14.791925,18.130468,9.174042,12.348703,13.608839,14.041793,15.478139,24.667189,13.917307,19.348461,15.12525,15.695487,16.333729,15.458575,14.041257,12.3481,14.217668,15.208732,11.583496,14.582282,17.333436,13.208782,12.208271,25.833257,26.000489,17.625221,10.874904,15.208464,8.916561,9.833389,21.739758,18.416893,16.791339,7.4169,15.167125,22.834136,20.334232,10.958989,10.584057,16.208975,21.792286,14.707907,15.458575,12.875725,12.417311,21.8755,20.9174,21.500836,16.084221,15.750025,7.125718,12.291418,22.958689,22.042732,19.791264,15.292482,10.75015,5.0007125,11.792,7.749957,8.083014,12.707689,12.041575,9.04165,10.249593,8.500357,18.582718,13.499964,7.250271,8.375871,8.08355,9.916536,15.667414,13.875164,10.333611,13.376014,16.125493,15.416164,14.333846,8.792075,7.459043,13.875164,19.583229,16.959107,8.250514,9.292364,8.167032,12.583136,9.166739,10.042161,9.417118,10.37495,10.958989,20.45845,18.041961,11.250104,13.833557,9.582943,8.000336,6.834,10.416825,11.458675,11.541554,15.999868,14.875675,14.041257,6.3337311,7.208396,9.666961,17.542007,12.415904,6.874736,7.709154,15.333486,5.4591064,8.459286,10.042161,10.6664,15.083643,11.250104,12.292557,18.916579,13.417018,9.790911,16.124689,12.249811,13.958914,16.417211,14.458868,8.7502,7.625739,14.875407,8.9177,8.791807,11.334457,6.0841561,13.417286,12.292021,11.958093,11.667246,11.291979,11.042471,10.500039,13.79195,9.084061,13.20905,12.374632,15.29275,13.499629,12.875725,10.125107,13.417286,11.041332,8.416607,14.167418,14.916411,13.999918,15.834043,9.625689,15.624936,9.333636,6.999289,16.666518,18.54225,9.833121,16.958236,14.125811,5.6254875,25.166339,20.412153,10.708275,8.375536,5.5833311,9.500332,9.375243,12.416775,13.833289,14.250632,23.044181,6.5003936,12.914116,8.333393,10.291736,7.708618,5.957171,9.500868,11.2091,18.166782,11.000261,12.708225,11.958361,10.166714,9.041918,6.4590814,8.584375,5.2505689,5.2516811,3.3754064,7.4169,7.917457,9.958143,11.583161,13.833825,19.583832,14.874871,5.5841686,13.792218,11.87575,9.041918,1.5002439,3.0420814,4.25115,2.8343814,9.583814,16.62605,9.499729,15.000161,17.291561,18.875039,11.750393,7.375829,16.303713,28.292425,14.833532,6.2086689,6.6673375,7.959064,11.166086,9.959014,13.250121,15.375093,23.541857,11.833339,7.12545,9.083257,5.5001439,9.166739,18.209193,12.667154,6.1676314,3.834075,4.6255125,4.1671186,12.667489,21.083225,14.208154,18.875307,20.541932,13.375411,9.167543,20.459254,11.291711,15.041232,12.45865,9.249618,7.959064,22.500275,11.209368,6.6260186,4.5841936,13.999918,9.522174,17.292164,18.167586,14.750586,6.750518,6.4174811,5.6252061,4.1679561,15.583061,17.833725,16.083886,5.5420189,15.625807,4.4582939,4.25115,9.41685,4.0842061,17.958814,17.458525,16.292189,11.375193,11.584032,4.1252436,14.8338,3.167425,18.374482,12.750368,10.391097,16.044155,12.62615,19.695387,8.000604,9.000579,14.750318,12.875189,22.087555,24.499957,12.3749,8.709129,11.249836,11.708786,12.833314,6.6263,12.565984,8.791807,12.124789,25.333236,12.541261,16.834286,15.500986,23.39171,27.833743,14.750586,13.58425,14.917014,13.375746,7.417436,8.292389,10.791757,4.9175186,22.958689,14.125543,16.08335,14.458064,17.541739,12.667489,12.541529,11.959232,8.167032,11.791732,10.3046,9.874393,8.959307,13.000479,7.834243,19.416332,27.417204,11.207961,9.458993,12.1672,6.125475,13.791682,12.792243,16.958504,15.348561,13.783039,15.709557,12.791171,15.916989,28.250014,13.750343,17.958211,12.958939,15.208129,9.708568,10.792293,22.416257,15.333486,13.458625,23.167193,29.584721,27.7916,15.12525,14.913329,13.916771,15.87565,7.709154,10.042161,7.583864,7.417168,8.501161,10.875239,8.125157,6.0004061,7.876654,7.7921,12.916461,14.791925,25.917007,12.541864,19.541957,21.41655,9.250489,16.791339,11.541889,20.913313,6.708911,12.125325,14.708443,20.125996,18.416357,15.583932,23.999132,16.708125,19.783358,19.458743,10.416557,12.791439,15.083643,19.083543,18.333143,11.250104,4.4172564,10.041357,19.000329,23.084582,20.334232,16.708661,7.959064,11.833875,23.291411,8.708325,7.832836,11.499746,10.458432,9.249886,8.957632,10.916846,10.250464,10.041893,15.458307,19.833943,14.499604,21.042221,15.874779,8.249911,15.082839,14.250364,9.875264,8.208304,15.374825,9.166739,5.626325,17.042589,15.624668,7.917189,6.834,11.584032,9.41685,13.332464,14.416457,13.166907,19.7918,9.000043,13.083693,15.916721,12.499654,12.333829,19.083811,14.041525,5.167375,10.54245,11.750661,9.667229,8.959307,13.916771,14.374582,22.999693,17.000111,11.833339,11.166689,9.708568,11.707982,9.917139,7.625404,7.958729,12.250414,12.041307,9.750175,20.125661,23.292014,18.208925,11.50055,11.082939,10.791757,11.291443,13.082889,8.457879,9.04165,12.999943,9.791514,10.958118,8.417143,12.125325,10.166379,10.166111,9.833925,5.41695,9.626493,11.166689,11.000529,7.666743,9.208614,11.083743,14.000789,14.2911,6.2926936,9.291761,14.167418,11.0416,19.082471,10.250464,10.54245,11.416532,10.292339,11.083475,9.458993,8.666718,14.458064,17.249686,19.458207,8.666718,7.832836,7.4169,10.4587,16.000471,13.834093,8.208304,9.126204,11.333586,11.374657,9.500332,15.500718,11.917089,5.79215,8.708593,4.8756436,4.7089811,5.6679186,4.8337686,16.375336,15.333486,8.625111,12.791975,7.541654,5.1668189,11.291711,7.583529,4.2927436,10.125107,15.833507,12.583136,9.542207,11.500282,18.833968,15.041232,17.333771,6.1676314,8.833682,5.5422936,6.958821,16.583907,6.0422811,10.166714,23.958329,14.416725,7.917189,10.333343,19.000061,14.958286,9.541068,15.833507,16.3748,9.000914,10.999993,15.249468,9.042186,6.0838814,6.999825,4.4585686,7.875582,7.12545,17.957675,9.457854,12.708493,12.7501,12.584007,12.166932,15.751164,9.791514,18.667004,19.834479,12.208807,6.791857,15.874779,9.041918,7.874979,11.125618,5.4593811,6.3345686,4.8762064,8.333125,8.875289,15.791364,26.666536,23.9994,14.271603,11.166689,10.542182,17.833725,18.125443,12.000236,15.833775,11.625371,20.375236,23.304945,14.375386,3.8756686,8.5425,11.625639,22.917082,13.374875,10.250129,11.458675,12.041843,15.250004,15.749489,5.542575,6.917482,3.5423436,9.917407,25.250357,10.0835,3.12555,15.916654,14.125007,7.739974,3.9175436,4.0001814,8.333393,5.5422936,11.666643,21.709407,11.708518,8.7502,6.792393,10.584325,12.750636,19.834479,10.916779,11.666643,8.792343,7.12545,6.749714,6.5833061,14.834068,12.334164,8.875021,25.083661,27.292182,8.916561,5.1744368,11.304642,21.208582,23.458911,10.416557,8.333661,23.500518,10.374682],\"x0\":\" \",\"xaxis\":\"x\",\"y\":[985,801,1349,1562,1600,1606,1510,959,822,1321,1263,1162,1406,1421,1248,1204,1000,683,1650,1927,1543,981,986,1416,1985,506,431,1167,1098,1096,1501,1360,1526,1550,1708,1005,1623,1712,1530,1605,1538,1746,1472,1589,1913,1815,2115,2475,2927,1635,1812,1107,1450,1917,1807,1461,1969,2402,1446,1851,2134,1685,1944,2077,605,1872,2133,1891,623,1977,2132,2417,2046,2056,2192,2744,3239,3117,2471,2077,2703,2121,1865,2210,2496,1693,2028,2425,1536,1685,2227,2252,3249,3115,1795,2808,3141,1471,2455,2895,3348,2034,2162,3267,3126,795,3744,3429,3204,3944,4189,1683,4036,4191,4073,4400,3872,4058,4595,5312,3351,4401,4451,2633,4433,4608,4714,4333,4362,4803,4182,4864,4105,3409,4553,3958,4123,3855,4575,4917,5805,4660,4274,4492,4978,4677,4679,4758,4788,4098,3982,3974,4968,5312,5342,4906,4548,4833,4401,3915,4586,4966,4460,5020,4891,5180,3767,4844,5119,4744,4010,4835,4507,4790,4991,5202,5305,4708,4648,5225,5515,5362,5119,4649,6043,4665,4629,4592,4040,5336,4881,4086,4258,4342,5084,5538,5923,5302,4458,4541,4332,3784,3387,3285,3606,3840,4590,4656,4390,3846,4475,4302,4266,4845,3574,4576,4866,4294,3785,4326,4602,4780,4792,4905,4150,3820,4338,4725,4694,3805,4153,5191,3873,4758,5895,5130,3542,4661,1115,4334,4634,5204,5058,5115,4727,4484,4940,3351,2710,1996,1842,3544,5345,5046,4713,4763,4785,3659,4760,4511,4274,4539,3641,4352,4795,2395,5423,5010,4630,4120,3907,4839,5202,2429,2918,3570,4456,4826,4765,4985,5409,5511,5117,4563,2416,2913,3644,5217,5041,4570,4748,2424,4195,4304,4308,4381,4187,4687,3894,2659,3747,627,3331,3669,4068,4186,3974,4046,3926,3649,4035,4205,4109,2933,3368,4067,3717,4486,4195,1817,3053,3392,3663,3520,2765,1607,2566,1495,2792,3068,3071,3867,2914,3613,3727,3940,3614,3485,3811,2594,705,3322,3620,3190,2743,3310,3523,3740,3709,3577,2739,2431,3403,3750,2660,3068,2209,1011,754,1317,1162,2302,2423,2999,2485,2294,1951,2236,2368,3272,4098,4521,3425,2376,3598,2177,4097,3214,2493,2311,2298,2935,3376,3292,3163,1301,1977,2432,4339,4270,4075,3456,4023,3243,3624,4509,4579,3761,4151,2832,2947,3784,4375,2802,3830,3831,2169,1529,3422,3922,4169,3005,4154,4318,2689,3129,3777,4773,5062,3487,2732,3389,4322,4363,4990,3194,4066,3423,3333,3956,4916,5382,4569,4118,4911,5298,5847,6312,6192,4378,7836,5892,6153,6093,6230,6871,8362,3372,4996,5558,5102,5698,6133,5459,6235,6041,5936,6772,6436,6457,6460,6857,5169,5585,5918,4862,5409,6398,7460,7132,6370,6691,4367,6565,7290,6624,1027,3214,5633,6196,5026,6233,4220,6304,5572,5740,6169,6421,6296,6883,6359,6273,5728,4717,6572,7030,7429,6118,2843,5115,7424,7384,7639,8294,7129,4359,6073,5260,6770,6734,6536,6591,6043,5743,6855,7338,4127,8120,7641,6998,7001,7055,7494,7736,7498,6598,6664,4972,7421,7363,7665,7702,6978,5099,6825,6211,5905,5823,7458,6891,6779,7442,7335,6879,5463,5687,5531,6227,6660,7403,6241,6207,4840,4672,6569,6290,7264,7446,7499,6969,6031,6830,6786,5713,6591,5870,4459,7410,6966,7592,8173,6861,6904,6685,6597,7105,7216,7580,7261,7175,6824,5464,7013,7273,7534,7286,5786,6299,6544,6883,6784,7347,7605,7148,7865,4549,6530,7006,7375,7765,7582,6053,5255,6917,7040,7697,7713,7350,6140,5810,6034,6864,7112,6203,7504,5976,8227,7525,7767,7870,7804,8009,8714,7333,6869,4073,7591,7720,8167,8395,7907,7436,7538,7733,7393,7415,8555,6889,6778,4639,7572,7328,8156,7965,3510,5478,6392,7691,7570,7282,7109,6639,5875,7534,7461,7509,5424,8090,6824,7058,7466,7693,7359,7444,7852,4459,22,1096,5566,5986,5847,5138,5107,5259,5686,5035,5315,5992,6536,6852,6269,4094,5495,5445,5698,5629,4669,5499,5634,5146,2425,3910,2277,2424,5087,3959,5260,5323,5668,5191,4649,6234,6606,5729,5375,5008,5582,3228,5170,5501,5319,5532,5611,5047,3786,4585,5557,5267,4128,3623,1749,1787,920,1013,441,2114,3095,1341,1796,2729],\"y0\":\" \",\"yaxis\":\"y\",\"type\":\"box\"}],                        {\"template\":{\"data\":{\"histogram2dcontour\":[{\"type\":\"histogram2dcontour\",\"colorbar\":{\"outlinewidth\":0,\"ticks\":\"\"},\"colorscale\":[[0.0,\"#0d0887\"],[0.1111111111111111,\"#46039f\"],[0.2222222222222222,\"#7201a8\"],[0.3333333333333333,\"#9c179e\"],[0.4444444444444444,\"#bd3786\"],[0.5555555555555556,\"#d8576b\"],[0.6666666666666666,\"#ed7953\"],[0.7777777777777778,\"#fb9f3a\"],[0.8888888888888888,\"#fdca26\"],[1.0,\"#f0f921\"]]}],\"choropleth\":[{\"type\":\"choropleth\",\"colorbar\":{\"outlinewidth\":0,\"ticks\":\"\"}}],\"histogram2d\":[{\"type\":\"histogram2d\",\"colorbar\":{\"outlinewidth\":0,\"ticks\":\"\"},\"colorscale\":[[0.0,\"#0d0887\"],[0.1111111111111111,\"#46039f\"],[0.2222222222222222,\"#7201a8\"],[0.3333333333333333,\"#9c179e\"],[0.4444444444444444,\"#bd3786\"],[0.5555555555555556,\"#d8576b\"],[0.6666666666666666,\"#ed7953\"],[0.7777777777777778,\"#fb9f3a\"],[0.8888888888888888,\"#fdca26\"],[1.0,\"#f0f921\"]]}],\"heatmap\":[{\"type\":\"heatmap\",\"colorbar\":{\"outlinewidth\":0,\"ticks\":\"\"},\"colorscale\":[[0.0,\"#0d0887\"],[0.1111111111111111,\"#46039f\"],[0.2222222222222222,\"#7201a8\"],[0.3333333333333333,\"#9c179e\"],[0.4444444444444444,\"#bd3786\"],[0.5555555555555556,\"#d8576b\"],[0.6666666666666666,\"#ed7953\"],[0.7777777777777778,\"#fb9f3a\"],[0.8888888888888888,\"#fdca26\"],[1.0,\"#f0f921\"]]}],\"heatmapgl\":[{\"type\":\"heatmapgl\",\"colorbar\":{\"outlinewidth\":0,\"ticks\":\"\"},\"colorscale\":[[0.0,\"#0d0887\"],[0.1111111111111111,\"#46039f\"],[0.2222222222222222,\"#7201a8\"],[0.3333333333333333,\"#9c179e\"],[0.4444444444444444,\"#bd3786\"],[0.5555555555555556,\"#d8576b\"],[0.6666666666666666,\"#ed7953\"],[0.7777777777777778,\"#fb9f3a\"],[0.8888888888888888,\"#fdca26\"],[1.0,\"#f0f921\"]]}],\"contourcarpet\":[{\"type\":\"contourcarpet\",\"colorbar\":{\"outlinewidth\":0,\"ticks\":\"\"}}],\"contour\":[{\"type\":\"contour\",\"colorbar\":{\"outlinewidth\":0,\"ticks\":\"\"},\"colorscale\":[[0.0,\"#0d0887\"],[0.1111111111111111,\"#46039f\"],[0.2222222222222222,\"#7201a8\"],[0.3333333333333333,\"#9c179e\"],[0.4444444444444444,\"#bd3786\"],[0.5555555555555556,\"#d8576b\"],[0.6666666666666666,\"#ed7953\"],[0.7777777777777778,\"#fb9f3a\"],[0.8888888888888888,\"#fdca26\"],[1.0,\"#f0f921\"]]}],\"surface\":[{\"type\":\"surface\",\"colorbar\":{\"outlinewidth\":0,\"ticks\":\"\"},\"colorscale\":[[0.0,\"#0d0887\"],[0.1111111111111111,\"#46039f\"],[0.2222222222222222,\"#7201a8\"],[0.3333333333333333,\"#9c179e\"],[0.4444444444444444,\"#bd3786\"],[0.5555555555555556,\"#d8576b\"],[0.6666666666666666,\"#ed7953\"],[0.7777777777777778,\"#fb9f3a\"],[0.8888888888888888,\"#fdca26\"],[1.0,\"#f0f921\"]]}],\"mesh3d\":[{\"type\":\"mesh3d\",\"colorbar\":{\"outlinewidth\":0,\"ticks\":\"\"}}],\"scatter\":[{\"fillpattern\":{\"fillmode\":\"overlay\",\"size\":10,\"solidity\":0.2},\"type\":\"scatter\"}],\"parcoords\":[{\"type\":\"parcoords\",\"line\":{\"colorbar\":{\"outlinewidth\":0,\"ticks\":\"\"}}}],\"scatterpolargl\":[{\"type\":\"scatterpolargl\",\"marker\":{\"colorbar\":{\"outlinewidth\":0,\"ticks\":\"\"}}}],\"bar\":[{\"error_x\":{\"color\":\"#2a3f5f\"},\"error_y\":{\"color\":\"#2a3f5f\"},\"marker\":{\"line\":{\"color\":\"#E5ECF6\",\"width\":0.5},\"pattern\":{\"fillmode\":\"overlay\",\"size\":10,\"solidity\":0.2}},\"type\":\"bar\"}],\"scattergeo\":[{\"type\":\"scattergeo\",\"marker\":{\"colorbar\":{\"outlinewidth\":0,\"ticks\":\"\"}}}],\"scatterpolar\":[{\"type\":\"scatterpolar\",\"marker\":{\"colorbar\":{\"outlinewidth\":0,\"ticks\":\"\"}}}],\"histogram\":[{\"marker\":{\"pattern\":{\"fillmode\":\"overlay\",\"size\":10,\"solidity\":0.2}},\"type\":\"histogram\"}],\"scattergl\":[{\"type\":\"scattergl\",\"marker\":{\"colorbar\":{\"outlinewidth\":0,\"ticks\":\"\"}}}],\"scatter3d\":[{\"type\":\"scatter3d\",\"line\":{\"colorbar\":{\"outlinewidth\":0,\"ticks\":\"\"}},\"marker\":{\"colorbar\":{\"outlinewidth\":0,\"ticks\":\"\"}}}],\"scattermapbox\":[{\"type\":\"scattermapbox\",\"marker\":{\"colorbar\":{\"outlinewidth\":0,\"ticks\":\"\"}}}],\"scatterternary\":[{\"type\":\"scatterternary\",\"marker\":{\"colorbar\":{\"outlinewidth\":0,\"ticks\":\"\"}}}],\"scattercarpet\":[{\"type\":\"scattercarpet\",\"marker\":{\"colorbar\":{\"outlinewidth\":0,\"ticks\":\"\"}}}],\"carpet\":[{\"aaxis\":{\"endlinecolor\":\"#2a3f5f\",\"gridcolor\":\"white\",\"linecolor\":\"white\",\"minorgridcolor\":\"white\",\"startlinecolor\":\"#2a3f5f\"},\"baxis\":{\"endlinecolor\":\"#2a3f5f\",\"gridcolor\":\"white\",\"linecolor\":\"white\",\"minorgridcolor\":\"white\",\"startlinecolor\":\"#2a3f5f\"},\"type\":\"carpet\"}],\"table\":[{\"cells\":{\"fill\":{\"color\":\"#EBF0F8\"},\"line\":{\"color\":\"white\"}},\"header\":{\"fill\":{\"color\":\"#C8D4E3\"},\"line\":{\"color\":\"white\"}},\"type\":\"table\"}],\"barpolar\":[{\"marker\":{\"line\":{\"color\":\"#E5ECF6\",\"width\":0.5},\"pattern\":{\"fillmode\":\"overlay\",\"size\":10,\"solidity\":0.2}},\"type\":\"barpolar\"}],\"pie\":[{\"automargin\":true,\"type\":\"pie\"}]},\"layout\":{\"autotypenumbers\":\"strict\",\"colorway\":[\"#636efa\",\"#EF553B\",\"#00cc96\",\"#ab63fa\",\"#FFA15A\",\"#19d3f3\",\"#FF6692\",\"#B6E880\",\"#FF97FF\",\"#FECB52\"],\"font\":{\"color\":\"#2a3f5f\"},\"hovermode\":\"closest\",\"hoverlabel\":{\"align\":\"left\"},\"paper_bgcolor\":\"white\",\"plot_bgcolor\":\"#E5ECF6\",\"polar\":{\"bgcolor\":\"#E5ECF6\",\"angularaxis\":{\"gridcolor\":\"white\",\"linecolor\":\"white\",\"ticks\":\"\"},\"radialaxis\":{\"gridcolor\":\"white\",\"linecolor\":\"white\",\"ticks\":\"\"}},\"ternary\":{\"bgcolor\":\"#E5ECF6\",\"aaxis\":{\"gridcolor\":\"white\",\"linecolor\":\"white\",\"ticks\":\"\"},\"baxis\":{\"gridcolor\":\"white\",\"linecolor\":\"white\",\"ticks\":\"\"},\"caxis\":{\"gridcolor\":\"white\",\"linecolor\":\"white\",\"ticks\":\"\"}},\"coloraxis\":{\"colorbar\":{\"outlinewidth\":0,\"ticks\":\"\"}},\"colorscale\":{\"sequential\":[[0.0,\"#0d0887\"],[0.1111111111111111,\"#46039f\"],[0.2222222222222222,\"#7201a8\"],[0.3333333333333333,\"#9c179e\"],[0.4444444444444444,\"#bd3786\"],[0.5555555555555556,\"#d8576b\"],[0.6666666666666666,\"#ed7953\"],[0.7777777777777778,\"#fb9f3a\"],[0.8888888888888888,\"#fdca26\"],[1.0,\"#f0f921\"]],\"sequentialminus\":[[0.0,\"#0d0887\"],[0.1111111111111111,\"#46039f\"],[0.2222222222222222,\"#7201a8\"],[0.3333333333333333,\"#9c179e\"],[0.4444444444444444,\"#bd3786\"],[0.5555555555555556,\"#d8576b\"],[0.6666666666666666,\"#ed7953\"],[0.7777777777777778,\"#fb9f3a\"],[0.8888888888888888,\"#fdca26\"],[1.0,\"#f0f921\"]],\"diverging\":[[0,\"#8e0152\"],[0.1,\"#c51b7d\"],[0.2,\"#de77ae\"],[0.3,\"#f1b6da\"],[0.4,\"#fde0ef\"],[0.5,\"#f7f7f7\"],[0.6,\"#e6f5d0\"],[0.7,\"#b8e186\"],[0.8,\"#7fbc41\"],[0.9,\"#4d9221\"],[1,\"#276419\"]]},\"xaxis\":{\"gridcolor\":\"white\",\"linecolor\":\"white\",\"ticks\":\"\",\"title\":{\"standoff\":15},\"zerolinecolor\":\"white\",\"automargin\":true,\"zerolinewidth\":2},\"yaxis\":{\"gridcolor\":\"white\",\"linecolor\":\"white\",\"ticks\":\"\",\"title\":{\"standoff\":15},\"zerolinecolor\":\"white\",\"automargin\":true,\"zerolinewidth\":2},\"scene\":{\"xaxis\":{\"backgroundcolor\":\"#E5ECF6\",\"gridcolor\":\"white\",\"linecolor\":\"white\",\"showbackground\":true,\"ticks\":\"\",\"zerolinecolor\":\"white\",\"gridwidth\":2},\"yaxis\":{\"backgroundcolor\":\"#E5ECF6\",\"gridcolor\":\"white\",\"linecolor\":\"white\",\"showbackground\":true,\"ticks\":\"\",\"zerolinecolor\":\"white\",\"gridwidth\":2},\"zaxis\":{\"backgroundcolor\":\"#E5ECF6\",\"gridcolor\":\"white\",\"linecolor\":\"white\",\"showbackground\":true,\"ticks\":\"\",\"zerolinecolor\":\"white\",\"gridwidth\":2}},\"shapedefaults\":{\"line\":{\"color\":\"#2a3f5f\"}},\"annotationdefaults\":{\"arrowcolor\":\"#2a3f5f\",\"arrowhead\":0,\"arrowwidth\":1},\"geo\":{\"bgcolor\":\"white\",\"landcolor\":\"#E5ECF6\",\"subunitcolor\":\"white\",\"showland\":true,\"showlakes\":true,\"lakecolor\":\"white\"},\"title\":{\"x\":0.05},\"mapbox\":{\"style\":\"light\"}}},\"xaxis\":{\"anchor\":\"y\",\"domain\":[0.0,1.0],\"title\":{\"text\":\"windspeed\"}},\"yaxis\":{\"anchor\":\"x\",\"domain\":[0.0,1.0],\"title\":{\"text\":\"cnt\"}},\"legend\":{\"tracegroupgap\":0},\"title\":{\"text\":\"Boxplot of values for windspeed against our target variable cnt\"},\"boxmode\":\"group\"},                        {\"responsive\": true}                    ).then(function(){\n                            \nvar gd = document.getElementById('6d360714-9acc-4dd8-af11-99bcf7ffcc28');\nvar x = new MutationObserver(function (mutations, observer) {{\n        var display = window.getComputedStyle(gd).display;\n        if (!display || display === 'none') {{\n            console.log([gd, 'removed!']);\n            Plotly.purge(gd);\n            observer.disconnect();\n        }}\n}});\n\n// Listen for the removal of the full notebook cells\nvar notebookContainer = gd.closest('#notebook-container');\nif (notebookContainer) {{\n    x.observe(notebookContainer, {childList: true});\n}}\n\n// Listen for the clearing of the current output cell\nvar outputEl = gd.closest('.output');\nif (outputEl) {{\n    x.observe(outputEl, {childList: true});\n}}\n\n                        })                };                            </script>        </div>\n</body>\n</html>"
     },
     "metadata": {},
     "output_type": "display_data"
    }
   ]
  },
  {
   "cell_type": "code",
   "metadata": {
    "cell_id": "d34b625449914e308c9c4d50d15f79be",
    "tags": [],
    "deepnote_to_be_reexecuted": false,
    "source_hash": "173f3043",
    "execution_start": 1663728013357,
    "execution_millis": 1043,
    "deepnote_cell_type": "code",
    "deepnote_cell_height": 1457.03125,
    "deepnote_output_heights": [
     null,
     526,
     526
    ]
   },
   "source": "create_feature_analysis(data, 'windspeed')",
   "execution_count": 21,
   "outputs": [
    {
     "name": "stdout",
     "text": "DESCRIPTIVE SUMMARY of windspeed\ncount    730.000000\nmean      12.763620\nstd        5.195841\nmin        1.500244\n25%        9.041650\n50%       12.125325\n75%       15.625589\nmax       34.000021\nName: windspeed, dtype: float64\n\n\nUNIQUE VALUE COUNT: 649\n",
     "output_type": "stream"
    },
    {
     "data": {
      "text/html": "<html>\n<head><meta charset=\"utf-8\" /></head>\n<body>\n    <div>            <script src=\"https://cdnjs.cloudflare.com/ajax/libs/mathjax/2.7.5/MathJax.js?config=TeX-AMS-MML_SVG\"></script><script type=\"text/javascript\">if (window.MathJax && window.MathJax.Hub && window.MathJax.Hub.Config) {window.MathJax.Hub.Config({SVG: {font: \"STIX-Web\"}});}</script>                <script type=\"text/javascript\">window.PlotlyConfig = {MathJaxConfig: 'local'};</script>\n        <script src=\"https://cdn.plot.ly/plotly-2.14.0.min.js\"></script>                <div id=\"40f7b6af-9f2f-4e19-89b2-860bb2c8bcfa\" class=\"plotly-graph-div\" style=\"height:525px; width:100%;\"></div>            <script type=\"text/javascript\">                                    window.PLOTLYENV=window.PLOTLYENV || {};                                    if (document.getElementById(\"40f7b6af-9f2f-4e19-89b2-860bb2c8bcfa\")) {                    Plotly.newPlot(                        \"40f7b6af-9f2f-4e19-89b2-860bb2c8bcfa\",                        [{\"alignmentgroup\":\"True\",\"bingroup\":\"x\",\"hovertemplate\":\"windspeed=%{x}<br>count=%{y}<extra></extra>\",\"legendgroup\":\"\",\"marker\":{\"color\":\"#636efa\",\"pattern\":{\"shape\":\"\"}},\"name\":\"\",\"offsetgroup\":\"\",\"orientation\":\"v\",\"showlegend\":false,\"x\":[10.749882,16.652113,16.636703,10.739832,12.5223,6.0008684,11.304642,17.875868,24.25065,14.958889,8.182844,20.410009,20.167,8.478716,10.583521,12.625011,12.999139,9.833925,13.957239,13.125568,23.667214,11.52199,16.5222,10.60811,8.696332,19.68795,7.627079,8.2611,9.739455,4.9568342,12.541864,3.565271,17.708636,18.609384,8.565213,10.792293,9.5006,3.0423561,24.25065,12.652213,14.869645,7.27285,13.625589,17.479161,27.999836,19.522058,16.869997,15.416968,17.749975,34.000021,14.956745,20.625682,13.110761,6.305571,16.783232,23.218113,12.500257,8.391616,19.408962,14.500475,20.624811,15.125518,13.624182,16.875357,23.000229,22.870584,8.08355,14.75005,17.545759,15.60899,14.791925,18.130468,9.174042,12.348703,13.608839,14.041793,15.478139,24.667189,13.917307,19.348461,15.12525,15.695487,16.333729,15.458575,14.041257,12.3481,14.217668,15.208732,11.583496,14.582282,17.333436,13.208782,12.208271,25.833257,26.000489,17.625221,10.874904,15.208464,8.916561,9.833389,21.739758,18.416893,16.791339,7.4169,15.167125,22.834136,20.334232,10.958989,10.584057,16.208975,21.792286,14.707907,15.458575,12.875725,12.417311,21.8755,20.9174,21.500836,16.084221,15.750025,7.125718,12.291418,22.958689,22.042732,19.791264,15.292482,10.75015,5.0007125,11.792,7.749957,8.083014,12.707689,12.041575,9.04165,10.249593,8.500357,18.582718,13.499964,7.250271,8.375871,8.08355,9.916536,15.667414,13.875164,10.333611,13.376014,16.125493,15.416164,14.333846,8.792075,7.459043,13.875164,19.583229,16.959107,8.250514,9.292364,8.167032,12.583136,9.166739,10.042161,9.417118,10.37495,10.958989,20.45845,18.041961,11.250104,13.833557,9.582943,8.000336,6.834,10.416825,11.458675,11.541554,15.999868,14.875675,14.041257,6.3337311,7.208396,9.666961,17.542007,12.415904,6.874736,7.709154,15.333486,5.4591064,8.459286,10.042161,10.6664,15.083643,11.250104,12.292557,18.916579,13.417018,9.790911,16.124689,12.249811,13.958914,16.417211,14.458868,8.7502,7.625739,14.875407,8.9177,8.791807,11.334457,6.0841561,13.417286,12.292021,11.958093,11.667246,11.291979,11.042471,10.500039,13.79195,9.084061,13.20905,12.374632,15.29275,13.499629,12.875725,10.125107,13.417286,11.041332,8.416607,14.167418,14.916411,13.999918,15.834043,9.625689,15.624936,9.333636,6.999289,16.666518,18.54225,9.833121,16.958236,14.125811,5.6254875,25.166339,20.412153,10.708275,8.375536,5.5833311,9.500332,9.375243,12.416775,13.833289,14.250632,23.044181,6.5003936,12.914116,8.333393,10.291736,7.708618,5.957171,9.500868,11.2091,18.166782,11.000261,12.708225,11.958361,10.166714,9.041918,6.4590814,8.584375,5.2505689,5.2516811,3.3754064,7.4169,7.917457,9.958143,11.583161,13.833825,19.583832,14.874871,5.5841686,13.792218,11.87575,9.041918,1.5002439,3.0420814,4.25115,2.8343814,9.583814,16.62605,9.499729,15.000161,17.291561,18.875039,11.750393,7.375829,16.303713,28.292425,14.833532,6.2086689,6.6673375,7.959064,11.166086,9.959014,13.250121,15.375093,23.541857,11.833339,7.12545,9.083257,5.5001439,9.166739,18.209193,12.667154,6.1676314,3.834075,4.6255125,4.1671186,12.667489,21.083225,14.208154,18.875307,20.541932,13.375411,9.167543,20.459254,11.291711,15.041232,12.45865,9.249618,7.959064,22.500275,11.209368,6.6260186,4.5841936,13.999918,9.522174,17.292164,18.167586,14.750586,6.750518,6.4174811,5.6252061,4.1679561,15.583061,17.833725,16.083886,5.5420189,15.625807,4.4582939,4.25115,9.41685,4.0842061,17.958814,17.458525,16.292189,11.375193,11.584032,4.1252436,14.8338,3.167425,18.374482,12.750368,10.391097,16.044155,12.62615,19.695387,8.000604,9.000579,14.750318,12.875189,22.087555,24.499957,12.3749,8.709129,11.249836,11.708786,12.833314,6.6263,12.565984,8.791807,12.124789,25.333236,12.541261,16.834286,15.500986,23.39171,27.833743,14.750586,13.58425,14.917014,13.375746,7.417436,8.292389,10.791757,4.9175186,22.958689,14.125543,16.08335,14.458064,17.541739,12.667489,12.541529,11.959232,8.167032,11.791732,10.3046,9.874393,8.959307,13.000479,7.834243,19.416332,27.417204,11.207961,9.458993,12.1672,6.125475,13.791682,12.792243,16.958504,15.348561,13.783039,15.709557,12.791171,15.916989,28.250014,13.750343,17.958211,12.958939,15.208129,9.708568,10.792293,22.416257,15.333486,13.458625,23.167193,29.584721,27.7916,15.12525,14.913329,13.916771,15.87565,7.709154,10.042161,7.583864,7.417168,8.501161,10.875239,8.125157,6.0004061,7.876654,7.7921,12.916461,14.791925,25.917007,12.541864,19.541957,21.41655,9.250489,16.791339,11.541889,20.913313,6.708911,12.125325,14.708443,20.125996,18.416357,15.583932,23.999132,16.708125,19.783358,19.458743,10.416557,12.791439,15.083643,19.083543,18.333143,11.250104,4.4172564,10.041357,19.000329,23.084582,20.334232,16.708661,7.959064,11.833875,23.291411,8.708325,7.832836,11.499746,10.458432,9.249886,8.957632,10.916846,10.250464,10.041893,15.458307,19.833943,14.499604,21.042221,15.874779,8.249911,15.082839,14.250364,9.875264,8.208304,15.374825,9.166739,5.626325,17.042589,15.624668,7.917189,6.834,11.584032,9.41685,13.332464,14.416457,13.166907,19.7918,9.000043,13.083693,15.916721,12.499654,12.333829,19.083811,14.041525,5.167375,10.54245,11.750661,9.667229,8.959307,13.916771,14.374582,22.999693,17.000111,11.833339,11.166689,9.708568,11.707982,9.917139,7.625404,7.958729,12.250414,12.041307,9.750175,20.125661,23.292014,18.208925,11.50055,11.082939,10.791757,11.291443,13.082889,8.457879,9.04165,12.999943,9.791514,10.958118,8.417143,12.125325,10.166379,10.166111,9.833925,5.41695,9.626493,11.166689,11.000529,7.666743,9.208614,11.083743,14.000789,14.2911,6.2926936,9.291761,14.167418,11.0416,19.082471,10.250464,10.54245,11.416532,10.292339,11.083475,9.458993,8.666718,14.458064,17.249686,19.458207,8.666718,7.832836,7.4169,10.4587,16.000471,13.834093,8.208304,9.126204,11.333586,11.374657,9.500332,15.500718,11.917089,5.79215,8.708593,4.8756436,4.7089811,5.6679186,4.8337686,16.375336,15.333486,8.625111,12.791975,7.541654,5.1668189,11.291711,7.583529,4.2927436,10.125107,15.833507,12.583136,9.542207,11.500282,18.833968,15.041232,17.333771,6.1676314,8.833682,5.5422936,6.958821,16.583907,6.0422811,10.166714,23.958329,14.416725,7.917189,10.333343,19.000061,14.958286,9.541068,15.833507,16.3748,9.000914,10.999993,15.249468,9.042186,6.0838814,6.999825,4.4585686,7.875582,7.12545,17.957675,9.457854,12.708493,12.7501,12.584007,12.166932,15.751164,9.791514,18.667004,19.834479,12.208807,6.791857,15.874779,9.041918,7.874979,11.125618,5.4593811,6.3345686,4.8762064,8.333125,8.875289,15.791364,26.666536,23.9994,14.271603,11.166689,10.542182,17.833725,18.125443,12.000236,15.833775,11.625371,20.375236,23.304945,14.375386,3.8756686,8.5425,11.625639,22.917082,13.374875,10.250129,11.458675,12.041843,15.250004,15.749489,5.542575,6.917482,3.5423436,9.917407,25.250357,10.0835,3.12555,15.916654,14.125007,7.739974,3.9175436,4.0001814,8.333393,5.5422936,11.666643,21.709407,11.708518,8.7502,6.792393,10.584325,12.750636,19.834479,10.916779,11.666643,8.792343,7.12545,6.749714,6.5833061,14.834068,12.334164,8.875021,25.083661,27.292182,8.916561,5.1744368,11.304642,21.208582,23.458911,10.416557,8.333661,23.500518,10.374682],\"xaxis\":\"x\",\"yaxis\":\"y\",\"type\":\"histogram\"}],                        {\"template\":{\"data\":{\"histogram2dcontour\":[{\"type\":\"histogram2dcontour\",\"colorbar\":{\"outlinewidth\":0,\"ticks\":\"\"},\"colorscale\":[[0.0,\"#0d0887\"],[0.1111111111111111,\"#46039f\"],[0.2222222222222222,\"#7201a8\"],[0.3333333333333333,\"#9c179e\"],[0.4444444444444444,\"#bd3786\"],[0.5555555555555556,\"#d8576b\"],[0.6666666666666666,\"#ed7953\"],[0.7777777777777778,\"#fb9f3a\"],[0.8888888888888888,\"#fdca26\"],[1.0,\"#f0f921\"]]}],\"choropleth\":[{\"type\":\"choropleth\",\"colorbar\":{\"outlinewidth\":0,\"ticks\":\"\"}}],\"histogram2d\":[{\"type\":\"histogram2d\",\"colorbar\":{\"outlinewidth\":0,\"ticks\":\"\"},\"colorscale\":[[0.0,\"#0d0887\"],[0.1111111111111111,\"#46039f\"],[0.2222222222222222,\"#7201a8\"],[0.3333333333333333,\"#9c179e\"],[0.4444444444444444,\"#bd3786\"],[0.5555555555555556,\"#d8576b\"],[0.6666666666666666,\"#ed7953\"],[0.7777777777777778,\"#fb9f3a\"],[0.8888888888888888,\"#fdca26\"],[1.0,\"#f0f921\"]]}],\"heatmap\":[{\"type\":\"heatmap\",\"colorbar\":{\"outlinewidth\":0,\"ticks\":\"\"},\"colorscale\":[[0.0,\"#0d0887\"],[0.1111111111111111,\"#46039f\"],[0.2222222222222222,\"#7201a8\"],[0.3333333333333333,\"#9c179e\"],[0.4444444444444444,\"#bd3786\"],[0.5555555555555556,\"#d8576b\"],[0.6666666666666666,\"#ed7953\"],[0.7777777777777778,\"#fb9f3a\"],[0.8888888888888888,\"#fdca26\"],[1.0,\"#f0f921\"]]}],\"heatmapgl\":[{\"type\":\"heatmapgl\",\"colorbar\":{\"outlinewidth\":0,\"ticks\":\"\"},\"colorscale\":[[0.0,\"#0d0887\"],[0.1111111111111111,\"#46039f\"],[0.2222222222222222,\"#7201a8\"],[0.3333333333333333,\"#9c179e\"],[0.4444444444444444,\"#bd3786\"],[0.5555555555555556,\"#d8576b\"],[0.6666666666666666,\"#ed7953\"],[0.7777777777777778,\"#fb9f3a\"],[0.8888888888888888,\"#fdca26\"],[1.0,\"#f0f921\"]]}],\"contourcarpet\":[{\"type\":\"contourcarpet\",\"colorbar\":{\"outlinewidth\":0,\"ticks\":\"\"}}],\"contour\":[{\"type\":\"contour\",\"colorbar\":{\"outlinewidth\":0,\"ticks\":\"\"},\"colorscale\":[[0.0,\"#0d0887\"],[0.1111111111111111,\"#46039f\"],[0.2222222222222222,\"#7201a8\"],[0.3333333333333333,\"#9c179e\"],[0.4444444444444444,\"#bd3786\"],[0.5555555555555556,\"#d8576b\"],[0.6666666666666666,\"#ed7953\"],[0.7777777777777778,\"#fb9f3a\"],[0.8888888888888888,\"#fdca26\"],[1.0,\"#f0f921\"]]}],\"surface\":[{\"type\":\"surface\",\"colorbar\":{\"outlinewidth\":0,\"ticks\":\"\"},\"colorscale\":[[0.0,\"#0d0887\"],[0.1111111111111111,\"#46039f\"],[0.2222222222222222,\"#7201a8\"],[0.3333333333333333,\"#9c179e\"],[0.4444444444444444,\"#bd3786\"],[0.5555555555555556,\"#d8576b\"],[0.6666666666666666,\"#ed7953\"],[0.7777777777777778,\"#fb9f3a\"],[0.8888888888888888,\"#fdca26\"],[1.0,\"#f0f921\"]]}],\"mesh3d\":[{\"type\":\"mesh3d\",\"colorbar\":{\"outlinewidth\":0,\"ticks\":\"\"}}],\"scatter\":[{\"fillpattern\":{\"fillmode\":\"overlay\",\"size\":10,\"solidity\":0.2},\"type\":\"scatter\"}],\"parcoords\":[{\"type\":\"parcoords\",\"line\":{\"colorbar\":{\"outlinewidth\":0,\"ticks\":\"\"}}}],\"scatterpolargl\":[{\"type\":\"scatterpolargl\",\"marker\":{\"colorbar\":{\"outlinewidth\":0,\"ticks\":\"\"}}}],\"bar\":[{\"error_x\":{\"color\":\"#2a3f5f\"},\"error_y\":{\"color\":\"#2a3f5f\"},\"marker\":{\"line\":{\"color\":\"#E5ECF6\",\"width\":0.5},\"pattern\":{\"fillmode\":\"overlay\",\"size\":10,\"solidity\":0.2}},\"type\":\"bar\"}],\"scattergeo\":[{\"type\":\"scattergeo\",\"marker\":{\"colorbar\":{\"outlinewidth\":0,\"ticks\":\"\"}}}],\"scatterpolar\":[{\"type\":\"scatterpolar\",\"marker\":{\"colorbar\":{\"outlinewidth\":0,\"ticks\":\"\"}}}],\"histogram\":[{\"marker\":{\"pattern\":{\"fillmode\":\"overlay\",\"size\":10,\"solidity\":0.2}},\"type\":\"histogram\"}],\"scattergl\":[{\"type\":\"scattergl\",\"marker\":{\"colorbar\":{\"outlinewidth\":0,\"ticks\":\"\"}}}],\"scatter3d\":[{\"type\":\"scatter3d\",\"line\":{\"colorbar\":{\"outlinewidth\":0,\"ticks\":\"\"}},\"marker\":{\"colorbar\":{\"outlinewidth\":0,\"ticks\":\"\"}}}],\"scattermapbox\":[{\"type\":\"scattermapbox\",\"marker\":{\"colorbar\":{\"outlinewidth\":0,\"ticks\":\"\"}}}],\"scatterternary\":[{\"type\":\"scatterternary\",\"marker\":{\"colorbar\":{\"outlinewidth\":0,\"ticks\":\"\"}}}],\"scattercarpet\":[{\"type\":\"scattercarpet\",\"marker\":{\"colorbar\":{\"outlinewidth\":0,\"ticks\":\"\"}}}],\"carpet\":[{\"aaxis\":{\"endlinecolor\":\"#2a3f5f\",\"gridcolor\":\"white\",\"linecolor\":\"white\",\"minorgridcolor\":\"white\",\"startlinecolor\":\"#2a3f5f\"},\"baxis\":{\"endlinecolor\":\"#2a3f5f\",\"gridcolor\":\"white\",\"linecolor\":\"white\",\"minorgridcolor\":\"white\",\"startlinecolor\":\"#2a3f5f\"},\"type\":\"carpet\"}],\"table\":[{\"cells\":{\"fill\":{\"color\":\"#EBF0F8\"},\"line\":{\"color\":\"white\"}},\"header\":{\"fill\":{\"color\":\"#C8D4E3\"},\"line\":{\"color\":\"white\"}},\"type\":\"table\"}],\"barpolar\":[{\"marker\":{\"line\":{\"color\":\"#E5ECF6\",\"width\":0.5},\"pattern\":{\"fillmode\":\"overlay\",\"size\":10,\"solidity\":0.2}},\"type\":\"barpolar\"}],\"pie\":[{\"automargin\":true,\"type\":\"pie\"}]},\"layout\":{\"autotypenumbers\":\"strict\",\"colorway\":[\"#636efa\",\"#EF553B\",\"#00cc96\",\"#ab63fa\",\"#FFA15A\",\"#19d3f3\",\"#FF6692\",\"#B6E880\",\"#FF97FF\",\"#FECB52\"],\"font\":{\"color\":\"#2a3f5f\"},\"hovermode\":\"closest\",\"hoverlabel\":{\"align\":\"left\"},\"paper_bgcolor\":\"white\",\"plot_bgcolor\":\"#E5ECF6\",\"polar\":{\"bgcolor\":\"#E5ECF6\",\"angularaxis\":{\"gridcolor\":\"white\",\"linecolor\":\"white\",\"ticks\":\"\"},\"radialaxis\":{\"gridcolor\":\"white\",\"linecolor\":\"white\",\"ticks\":\"\"}},\"ternary\":{\"bgcolor\":\"#E5ECF6\",\"aaxis\":{\"gridcolor\":\"white\",\"linecolor\":\"white\",\"ticks\":\"\"},\"baxis\":{\"gridcolor\":\"white\",\"linecolor\":\"white\",\"ticks\":\"\"},\"caxis\":{\"gridcolor\":\"white\",\"linecolor\":\"white\",\"ticks\":\"\"}},\"coloraxis\":{\"colorbar\":{\"outlinewidth\":0,\"ticks\":\"\"}},\"colorscale\":{\"sequential\":[[0.0,\"#0d0887\"],[0.1111111111111111,\"#46039f\"],[0.2222222222222222,\"#7201a8\"],[0.3333333333333333,\"#9c179e\"],[0.4444444444444444,\"#bd3786\"],[0.5555555555555556,\"#d8576b\"],[0.6666666666666666,\"#ed7953\"],[0.7777777777777778,\"#fb9f3a\"],[0.8888888888888888,\"#fdca26\"],[1.0,\"#f0f921\"]],\"sequentialminus\":[[0.0,\"#0d0887\"],[0.1111111111111111,\"#46039f\"],[0.2222222222222222,\"#7201a8\"],[0.3333333333333333,\"#9c179e\"],[0.4444444444444444,\"#bd3786\"],[0.5555555555555556,\"#d8576b\"],[0.6666666666666666,\"#ed7953\"],[0.7777777777777778,\"#fb9f3a\"],[0.8888888888888888,\"#fdca26\"],[1.0,\"#f0f921\"]],\"diverging\":[[0,\"#8e0152\"],[0.1,\"#c51b7d\"],[0.2,\"#de77ae\"],[0.3,\"#f1b6da\"],[0.4,\"#fde0ef\"],[0.5,\"#f7f7f7\"],[0.6,\"#e6f5d0\"],[0.7,\"#b8e186\"],[0.8,\"#7fbc41\"],[0.9,\"#4d9221\"],[1,\"#276419\"]]},\"xaxis\":{\"gridcolor\":\"white\",\"linecolor\":\"white\",\"ticks\":\"\",\"title\":{\"standoff\":15},\"zerolinecolor\":\"white\",\"automargin\":true,\"zerolinewidth\":2},\"yaxis\":{\"gridcolor\":\"white\",\"linecolor\":\"white\",\"ticks\":\"\",\"title\":{\"standoff\":15},\"zerolinecolor\":\"white\",\"automargin\":true,\"zerolinewidth\":2},\"scene\":{\"xaxis\":{\"backgroundcolor\":\"#E5ECF6\",\"gridcolor\":\"white\",\"linecolor\":\"white\",\"showbackground\":true,\"ticks\":\"\",\"zerolinecolor\":\"white\",\"gridwidth\":2},\"yaxis\":{\"backgroundcolor\":\"#E5ECF6\",\"gridcolor\":\"white\",\"linecolor\":\"white\",\"showbackground\":true,\"ticks\":\"\",\"zerolinecolor\":\"white\",\"gridwidth\":2},\"zaxis\":{\"backgroundcolor\":\"#E5ECF6\",\"gridcolor\":\"white\",\"linecolor\":\"white\",\"showbackground\":true,\"ticks\":\"\",\"zerolinecolor\":\"white\",\"gridwidth\":2}},\"shapedefaults\":{\"line\":{\"color\":\"#2a3f5f\"}},\"annotationdefaults\":{\"arrowcolor\":\"#2a3f5f\",\"arrowhead\":0,\"arrowwidth\":1},\"geo\":{\"bgcolor\":\"white\",\"landcolor\":\"#E5ECF6\",\"subunitcolor\":\"white\",\"showland\":true,\"showlakes\":true,\"lakecolor\":\"white\"},\"title\":{\"x\":0.05},\"mapbox\":{\"style\":\"light\"}}},\"xaxis\":{\"anchor\":\"y\",\"domain\":[0.0,1.0],\"title\":{\"text\":\"windspeed\"}},\"yaxis\":{\"anchor\":\"x\",\"domain\":[0.0,1.0],\"title\":{\"text\":\"count\"}},\"legend\":{\"tracegroupgap\":0},\"title\":{\"text\":\"Histogram of values for windspeed\"},\"barmode\":\"relative\"},                        {\"responsive\": true}                    ).then(function(){\n                            \nvar gd = document.getElementById('40f7b6af-9f2f-4e19-89b2-860bb2c8bcfa');\nvar x = new MutationObserver(function (mutations, observer) {{\n        var display = window.getComputedStyle(gd).display;\n        if (!display || display === 'none') {{\n            console.log([gd, 'removed!']);\n            Plotly.purge(gd);\n            observer.disconnect();\n        }}\n}});\n\n// Listen for the removal of the full notebook cells\nvar notebookContainer = gd.closest('#notebook-container');\nif (notebookContainer) {{\n    x.observe(notebookContainer, {childList: true});\n}}\n\n// Listen for the clearing of the current output cell\nvar outputEl = gd.closest('.output');\nif (outputEl) {{\n    x.observe(outputEl, {childList: true});\n}}\n\n                        })                };                            </script>        </div>\n</body>\n</html>"
     },
     "metadata": {},
     "output_type": "display_data"
    },
    {
     "data": {
      "text/html": "<html>\n<head><meta charset=\"utf-8\" /></head>\n<body>\n    <div>            <script src=\"https://cdnjs.cloudflare.com/ajax/libs/mathjax/2.7.5/MathJax.js?config=TeX-AMS-MML_SVG\"></script><script type=\"text/javascript\">if (window.MathJax && window.MathJax.Hub && window.MathJax.Hub.Config) {window.MathJax.Hub.Config({SVG: {font: \"STIX-Web\"}});}</script>                <script type=\"text/javascript\">window.PlotlyConfig = {MathJaxConfig: 'local'};</script>\n        <script src=\"https://cdn.plot.ly/plotly-2.14.0.min.js\"></script>                <div id=\"0555384d-4054-4a72-add6-c031ce38ec05\" class=\"plotly-graph-div\" style=\"height:525px; width:100%;\"></div>            <script type=\"text/javascript\">                                    window.PLOTLYENV=window.PLOTLYENV || {};                                    if (document.getElementById(\"0555384d-4054-4a72-add6-c031ce38ec05\")) {                    Plotly.newPlot(                        \"0555384d-4054-4a72-add6-c031ce38ec05\",                        [{\"alignmentgroup\":\"True\",\"hovertemplate\":\"windspeed=%{x}<br>cnt=%{y}<extra></extra>\",\"legendgroup\":\"\",\"marker\":{\"color\":\"#636efa\"},\"name\":\"\",\"notched\":false,\"offsetgroup\":\"\",\"orientation\":\"v\",\"showlegend\":false,\"x\":[10.749882,16.652113,16.636703,10.739832,12.5223,6.0008684,11.304642,17.875868,24.25065,14.958889,8.182844,20.410009,20.167,8.478716,10.583521,12.625011,12.999139,9.833925,13.957239,13.125568,23.667214,11.52199,16.5222,10.60811,8.696332,19.68795,7.627079,8.2611,9.739455,4.9568342,12.541864,3.565271,17.708636,18.609384,8.565213,10.792293,9.5006,3.0423561,24.25065,12.652213,14.869645,7.27285,13.625589,17.479161,27.999836,19.522058,16.869997,15.416968,17.749975,34.000021,14.956745,20.625682,13.110761,6.305571,16.783232,23.218113,12.500257,8.391616,19.408962,14.500475,20.624811,15.125518,13.624182,16.875357,23.000229,22.870584,8.08355,14.75005,17.545759,15.60899,14.791925,18.130468,9.174042,12.348703,13.608839,14.041793,15.478139,24.667189,13.917307,19.348461,15.12525,15.695487,16.333729,15.458575,14.041257,12.3481,14.217668,15.208732,11.583496,14.582282,17.333436,13.208782,12.208271,25.833257,26.000489,17.625221,10.874904,15.208464,8.916561,9.833389,21.739758,18.416893,16.791339,7.4169,15.167125,22.834136,20.334232,10.958989,10.584057,16.208975,21.792286,14.707907,15.458575,12.875725,12.417311,21.8755,20.9174,21.500836,16.084221,15.750025,7.125718,12.291418,22.958689,22.042732,19.791264,15.292482,10.75015,5.0007125,11.792,7.749957,8.083014,12.707689,12.041575,9.04165,10.249593,8.500357,18.582718,13.499964,7.250271,8.375871,8.08355,9.916536,15.667414,13.875164,10.333611,13.376014,16.125493,15.416164,14.333846,8.792075,7.459043,13.875164,19.583229,16.959107,8.250514,9.292364,8.167032,12.583136,9.166739,10.042161,9.417118,10.37495,10.958989,20.45845,18.041961,11.250104,13.833557,9.582943,8.000336,6.834,10.416825,11.458675,11.541554,15.999868,14.875675,14.041257,6.3337311,7.208396,9.666961,17.542007,12.415904,6.874736,7.709154,15.333486,5.4591064,8.459286,10.042161,10.6664,15.083643,11.250104,12.292557,18.916579,13.417018,9.790911,16.124689,12.249811,13.958914,16.417211,14.458868,8.7502,7.625739,14.875407,8.9177,8.791807,11.334457,6.0841561,13.417286,12.292021,11.958093,11.667246,11.291979,11.042471,10.500039,13.79195,9.084061,13.20905,12.374632,15.29275,13.499629,12.875725,10.125107,13.417286,11.041332,8.416607,14.167418,14.916411,13.999918,15.834043,9.625689,15.624936,9.333636,6.999289,16.666518,18.54225,9.833121,16.958236,14.125811,5.6254875,25.166339,20.412153,10.708275,8.375536,5.5833311,9.500332,9.375243,12.416775,13.833289,14.250632,23.044181,6.5003936,12.914116,8.333393,10.291736,7.708618,5.957171,9.500868,11.2091,18.166782,11.000261,12.708225,11.958361,10.166714,9.041918,6.4590814,8.584375,5.2505689,5.2516811,3.3754064,7.4169,7.917457,9.958143,11.583161,13.833825,19.583832,14.874871,5.5841686,13.792218,11.87575,9.041918,1.5002439,3.0420814,4.25115,2.8343814,9.583814,16.62605,9.499729,15.000161,17.291561,18.875039,11.750393,7.375829,16.303713,28.292425,14.833532,6.2086689,6.6673375,7.959064,11.166086,9.959014,13.250121,15.375093,23.541857,11.833339,7.12545,9.083257,5.5001439,9.166739,18.209193,12.667154,6.1676314,3.834075,4.6255125,4.1671186,12.667489,21.083225,14.208154,18.875307,20.541932,13.375411,9.167543,20.459254,11.291711,15.041232,12.45865,9.249618,7.959064,22.500275,11.209368,6.6260186,4.5841936,13.999918,9.522174,17.292164,18.167586,14.750586,6.750518,6.4174811,5.6252061,4.1679561,15.583061,17.833725,16.083886,5.5420189,15.625807,4.4582939,4.25115,9.41685,4.0842061,17.958814,17.458525,16.292189,11.375193,11.584032,4.1252436,14.8338,3.167425,18.374482,12.750368,10.391097,16.044155,12.62615,19.695387,8.000604,9.000579,14.750318,12.875189,22.087555,24.499957,12.3749,8.709129,11.249836,11.708786,12.833314,6.6263,12.565984,8.791807,12.124789,25.333236,12.541261,16.834286,15.500986,23.39171,27.833743,14.750586,13.58425,14.917014,13.375746,7.417436,8.292389,10.791757,4.9175186,22.958689,14.125543,16.08335,14.458064,17.541739,12.667489,12.541529,11.959232,8.167032,11.791732,10.3046,9.874393,8.959307,13.000479,7.834243,19.416332,27.417204,11.207961,9.458993,12.1672,6.125475,13.791682,12.792243,16.958504,15.348561,13.783039,15.709557,12.791171,15.916989,28.250014,13.750343,17.958211,12.958939,15.208129,9.708568,10.792293,22.416257,15.333486,13.458625,23.167193,29.584721,27.7916,15.12525,14.913329,13.916771,15.87565,7.709154,10.042161,7.583864,7.417168,8.501161,10.875239,8.125157,6.0004061,7.876654,7.7921,12.916461,14.791925,25.917007,12.541864,19.541957,21.41655,9.250489,16.791339,11.541889,20.913313,6.708911,12.125325,14.708443,20.125996,18.416357,15.583932,23.999132,16.708125,19.783358,19.458743,10.416557,12.791439,15.083643,19.083543,18.333143,11.250104,4.4172564,10.041357,19.000329,23.084582,20.334232,16.708661,7.959064,11.833875,23.291411,8.708325,7.832836,11.499746,10.458432,9.249886,8.957632,10.916846,10.250464,10.041893,15.458307,19.833943,14.499604,21.042221,15.874779,8.249911,15.082839,14.250364,9.875264,8.208304,15.374825,9.166739,5.626325,17.042589,15.624668,7.917189,6.834,11.584032,9.41685,13.332464,14.416457,13.166907,19.7918,9.000043,13.083693,15.916721,12.499654,12.333829,19.083811,14.041525,5.167375,10.54245,11.750661,9.667229,8.959307,13.916771,14.374582,22.999693,17.000111,11.833339,11.166689,9.708568,11.707982,9.917139,7.625404,7.958729,12.250414,12.041307,9.750175,20.125661,23.292014,18.208925,11.50055,11.082939,10.791757,11.291443,13.082889,8.457879,9.04165,12.999943,9.791514,10.958118,8.417143,12.125325,10.166379,10.166111,9.833925,5.41695,9.626493,11.166689,11.000529,7.666743,9.208614,11.083743,14.000789,14.2911,6.2926936,9.291761,14.167418,11.0416,19.082471,10.250464,10.54245,11.416532,10.292339,11.083475,9.458993,8.666718,14.458064,17.249686,19.458207,8.666718,7.832836,7.4169,10.4587,16.000471,13.834093,8.208304,9.126204,11.333586,11.374657,9.500332,15.500718,11.917089,5.79215,8.708593,4.8756436,4.7089811,5.6679186,4.8337686,16.375336,15.333486,8.625111,12.791975,7.541654,5.1668189,11.291711,7.583529,4.2927436,10.125107,15.833507,12.583136,9.542207,11.500282,18.833968,15.041232,17.333771,6.1676314,8.833682,5.5422936,6.958821,16.583907,6.0422811,10.166714,23.958329,14.416725,7.917189,10.333343,19.000061,14.958286,9.541068,15.833507,16.3748,9.000914,10.999993,15.249468,9.042186,6.0838814,6.999825,4.4585686,7.875582,7.12545,17.957675,9.457854,12.708493,12.7501,12.584007,12.166932,15.751164,9.791514,18.667004,19.834479,12.208807,6.791857,15.874779,9.041918,7.874979,11.125618,5.4593811,6.3345686,4.8762064,8.333125,8.875289,15.791364,26.666536,23.9994,14.271603,11.166689,10.542182,17.833725,18.125443,12.000236,15.833775,11.625371,20.375236,23.304945,14.375386,3.8756686,8.5425,11.625639,22.917082,13.374875,10.250129,11.458675,12.041843,15.250004,15.749489,5.542575,6.917482,3.5423436,9.917407,25.250357,10.0835,3.12555,15.916654,14.125007,7.739974,3.9175436,4.0001814,8.333393,5.5422936,11.666643,21.709407,11.708518,8.7502,6.792393,10.584325,12.750636,19.834479,10.916779,11.666643,8.792343,7.12545,6.749714,6.5833061,14.834068,12.334164,8.875021,25.083661,27.292182,8.916561,5.1744368,11.304642,21.208582,23.458911,10.416557,8.333661,23.500518,10.374682],\"x0\":\" \",\"xaxis\":\"x\",\"y\":[985,801,1349,1562,1600,1606,1510,959,822,1321,1263,1162,1406,1421,1248,1204,1000,683,1650,1927,1543,981,986,1416,1985,506,431,1167,1098,1096,1501,1360,1526,1550,1708,1005,1623,1712,1530,1605,1538,1746,1472,1589,1913,1815,2115,2475,2927,1635,1812,1107,1450,1917,1807,1461,1969,2402,1446,1851,2134,1685,1944,2077,605,1872,2133,1891,623,1977,2132,2417,2046,2056,2192,2744,3239,3117,2471,2077,2703,2121,1865,2210,2496,1693,2028,2425,1536,1685,2227,2252,3249,3115,1795,2808,3141,1471,2455,2895,3348,2034,2162,3267,3126,795,3744,3429,3204,3944,4189,1683,4036,4191,4073,4400,3872,4058,4595,5312,3351,4401,4451,2633,4433,4608,4714,4333,4362,4803,4182,4864,4105,3409,4553,3958,4123,3855,4575,4917,5805,4660,4274,4492,4978,4677,4679,4758,4788,4098,3982,3974,4968,5312,5342,4906,4548,4833,4401,3915,4586,4966,4460,5020,4891,5180,3767,4844,5119,4744,4010,4835,4507,4790,4991,5202,5305,4708,4648,5225,5515,5362,5119,4649,6043,4665,4629,4592,4040,5336,4881,4086,4258,4342,5084,5538,5923,5302,4458,4541,4332,3784,3387,3285,3606,3840,4590,4656,4390,3846,4475,4302,4266,4845,3574,4576,4866,4294,3785,4326,4602,4780,4792,4905,4150,3820,4338,4725,4694,3805,4153,5191,3873,4758,5895,5130,3542,4661,1115,4334,4634,5204,5058,5115,4727,4484,4940,3351,2710,1996,1842,3544,5345,5046,4713,4763,4785,3659,4760,4511,4274,4539,3641,4352,4795,2395,5423,5010,4630,4120,3907,4839,5202,2429,2918,3570,4456,4826,4765,4985,5409,5511,5117,4563,2416,2913,3644,5217,5041,4570,4748,2424,4195,4304,4308,4381,4187,4687,3894,2659,3747,627,3331,3669,4068,4186,3974,4046,3926,3649,4035,4205,4109,2933,3368,4067,3717,4486,4195,1817,3053,3392,3663,3520,2765,1607,2566,1495,2792,3068,3071,3867,2914,3613,3727,3940,3614,3485,3811,2594,705,3322,3620,3190,2743,3310,3523,3740,3709,3577,2739,2431,3403,3750,2660,3068,2209,1011,754,1317,1162,2302,2423,2999,2485,2294,1951,2236,2368,3272,4098,4521,3425,2376,3598,2177,4097,3214,2493,2311,2298,2935,3376,3292,3163,1301,1977,2432,4339,4270,4075,3456,4023,3243,3624,4509,4579,3761,4151,2832,2947,3784,4375,2802,3830,3831,2169,1529,3422,3922,4169,3005,4154,4318,2689,3129,3777,4773,5062,3487,2732,3389,4322,4363,4990,3194,4066,3423,3333,3956,4916,5382,4569,4118,4911,5298,5847,6312,6192,4378,7836,5892,6153,6093,6230,6871,8362,3372,4996,5558,5102,5698,6133,5459,6235,6041,5936,6772,6436,6457,6460,6857,5169,5585,5918,4862,5409,6398,7460,7132,6370,6691,4367,6565,7290,6624,1027,3214,5633,6196,5026,6233,4220,6304,5572,5740,6169,6421,6296,6883,6359,6273,5728,4717,6572,7030,7429,6118,2843,5115,7424,7384,7639,8294,7129,4359,6073,5260,6770,6734,6536,6591,6043,5743,6855,7338,4127,8120,7641,6998,7001,7055,7494,7736,7498,6598,6664,4972,7421,7363,7665,7702,6978,5099,6825,6211,5905,5823,7458,6891,6779,7442,7335,6879,5463,5687,5531,6227,6660,7403,6241,6207,4840,4672,6569,6290,7264,7446,7499,6969,6031,6830,6786,5713,6591,5870,4459,7410,6966,7592,8173,6861,6904,6685,6597,7105,7216,7580,7261,7175,6824,5464,7013,7273,7534,7286,5786,6299,6544,6883,6784,7347,7605,7148,7865,4549,6530,7006,7375,7765,7582,6053,5255,6917,7040,7697,7713,7350,6140,5810,6034,6864,7112,6203,7504,5976,8227,7525,7767,7870,7804,8009,8714,7333,6869,4073,7591,7720,8167,8395,7907,7436,7538,7733,7393,7415,8555,6889,6778,4639,7572,7328,8156,7965,3510,5478,6392,7691,7570,7282,7109,6639,5875,7534,7461,7509,5424,8090,6824,7058,7466,7693,7359,7444,7852,4459,22,1096,5566,5986,5847,5138,5107,5259,5686,5035,5315,5992,6536,6852,6269,4094,5495,5445,5698,5629,4669,5499,5634,5146,2425,3910,2277,2424,5087,3959,5260,5323,5668,5191,4649,6234,6606,5729,5375,5008,5582,3228,5170,5501,5319,5532,5611,5047,3786,4585,5557,5267,4128,3623,1749,1787,920,1013,441,2114,3095,1341,1796,2729],\"y0\":\" \",\"yaxis\":\"y\",\"type\":\"box\"}],                        {\"template\":{\"data\":{\"histogram2dcontour\":[{\"type\":\"histogram2dcontour\",\"colorbar\":{\"outlinewidth\":0,\"ticks\":\"\"},\"colorscale\":[[0.0,\"#0d0887\"],[0.1111111111111111,\"#46039f\"],[0.2222222222222222,\"#7201a8\"],[0.3333333333333333,\"#9c179e\"],[0.4444444444444444,\"#bd3786\"],[0.5555555555555556,\"#d8576b\"],[0.6666666666666666,\"#ed7953\"],[0.7777777777777778,\"#fb9f3a\"],[0.8888888888888888,\"#fdca26\"],[1.0,\"#f0f921\"]]}],\"choropleth\":[{\"type\":\"choropleth\",\"colorbar\":{\"outlinewidth\":0,\"ticks\":\"\"}}],\"histogram2d\":[{\"type\":\"histogram2d\",\"colorbar\":{\"outlinewidth\":0,\"ticks\":\"\"},\"colorscale\":[[0.0,\"#0d0887\"],[0.1111111111111111,\"#46039f\"],[0.2222222222222222,\"#7201a8\"],[0.3333333333333333,\"#9c179e\"],[0.4444444444444444,\"#bd3786\"],[0.5555555555555556,\"#d8576b\"],[0.6666666666666666,\"#ed7953\"],[0.7777777777777778,\"#fb9f3a\"],[0.8888888888888888,\"#fdca26\"],[1.0,\"#f0f921\"]]}],\"heatmap\":[{\"type\":\"heatmap\",\"colorbar\":{\"outlinewidth\":0,\"ticks\":\"\"},\"colorscale\":[[0.0,\"#0d0887\"],[0.1111111111111111,\"#46039f\"],[0.2222222222222222,\"#7201a8\"],[0.3333333333333333,\"#9c179e\"],[0.4444444444444444,\"#bd3786\"],[0.5555555555555556,\"#d8576b\"],[0.6666666666666666,\"#ed7953\"],[0.7777777777777778,\"#fb9f3a\"],[0.8888888888888888,\"#fdca26\"],[1.0,\"#f0f921\"]]}],\"heatmapgl\":[{\"type\":\"heatmapgl\",\"colorbar\":{\"outlinewidth\":0,\"ticks\":\"\"},\"colorscale\":[[0.0,\"#0d0887\"],[0.1111111111111111,\"#46039f\"],[0.2222222222222222,\"#7201a8\"],[0.3333333333333333,\"#9c179e\"],[0.4444444444444444,\"#bd3786\"],[0.5555555555555556,\"#d8576b\"],[0.6666666666666666,\"#ed7953\"],[0.7777777777777778,\"#fb9f3a\"],[0.8888888888888888,\"#fdca26\"],[1.0,\"#f0f921\"]]}],\"contourcarpet\":[{\"type\":\"contourcarpet\",\"colorbar\":{\"outlinewidth\":0,\"ticks\":\"\"}}],\"contour\":[{\"type\":\"contour\",\"colorbar\":{\"outlinewidth\":0,\"ticks\":\"\"},\"colorscale\":[[0.0,\"#0d0887\"],[0.1111111111111111,\"#46039f\"],[0.2222222222222222,\"#7201a8\"],[0.3333333333333333,\"#9c179e\"],[0.4444444444444444,\"#bd3786\"],[0.5555555555555556,\"#d8576b\"],[0.6666666666666666,\"#ed7953\"],[0.7777777777777778,\"#fb9f3a\"],[0.8888888888888888,\"#fdca26\"],[1.0,\"#f0f921\"]]}],\"surface\":[{\"type\":\"surface\",\"colorbar\":{\"outlinewidth\":0,\"ticks\":\"\"},\"colorscale\":[[0.0,\"#0d0887\"],[0.1111111111111111,\"#46039f\"],[0.2222222222222222,\"#7201a8\"],[0.3333333333333333,\"#9c179e\"],[0.4444444444444444,\"#bd3786\"],[0.5555555555555556,\"#d8576b\"],[0.6666666666666666,\"#ed7953\"],[0.7777777777777778,\"#fb9f3a\"],[0.8888888888888888,\"#fdca26\"],[1.0,\"#f0f921\"]]}],\"mesh3d\":[{\"type\":\"mesh3d\",\"colorbar\":{\"outlinewidth\":0,\"ticks\":\"\"}}],\"scatter\":[{\"fillpattern\":{\"fillmode\":\"overlay\",\"size\":10,\"solidity\":0.2},\"type\":\"scatter\"}],\"parcoords\":[{\"type\":\"parcoords\",\"line\":{\"colorbar\":{\"outlinewidth\":0,\"ticks\":\"\"}}}],\"scatterpolargl\":[{\"type\":\"scatterpolargl\",\"marker\":{\"colorbar\":{\"outlinewidth\":0,\"ticks\":\"\"}}}],\"bar\":[{\"error_x\":{\"color\":\"#2a3f5f\"},\"error_y\":{\"color\":\"#2a3f5f\"},\"marker\":{\"line\":{\"color\":\"#E5ECF6\",\"width\":0.5},\"pattern\":{\"fillmode\":\"overlay\",\"size\":10,\"solidity\":0.2}},\"type\":\"bar\"}],\"scattergeo\":[{\"type\":\"scattergeo\",\"marker\":{\"colorbar\":{\"outlinewidth\":0,\"ticks\":\"\"}}}],\"scatterpolar\":[{\"type\":\"scatterpolar\",\"marker\":{\"colorbar\":{\"outlinewidth\":0,\"ticks\":\"\"}}}],\"histogram\":[{\"marker\":{\"pattern\":{\"fillmode\":\"overlay\",\"size\":10,\"solidity\":0.2}},\"type\":\"histogram\"}],\"scattergl\":[{\"type\":\"scattergl\",\"marker\":{\"colorbar\":{\"outlinewidth\":0,\"ticks\":\"\"}}}],\"scatter3d\":[{\"type\":\"scatter3d\",\"line\":{\"colorbar\":{\"outlinewidth\":0,\"ticks\":\"\"}},\"marker\":{\"colorbar\":{\"outlinewidth\":0,\"ticks\":\"\"}}}],\"scattermapbox\":[{\"type\":\"scattermapbox\",\"marker\":{\"colorbar\":{\"outlinewidth\":0,\"ticks\":\"\"}}}],\"scatterternary\":[{\"type\":\"scatterternary\",\"marker\":{\"colorbar\":{\"outlinewidth\":0,\"ticks\":\"\"}}}],\"scattercarpet\":[{\"type\":\"scattercarpet\",\"marker\":{\"colorbar\":{\"outlinewidth\":0,\"ticks\":\"\"}}}],\"carpet\":[{\"aaxis\":{\"endlinecolor\":\"#2a3f5f\",\"gridcolor\":\"white\",\"linecolor\":\"white\",\"minorgridcolor\":\"white\",\"startlinecolor\":\"#2a3f5f\"},\"baxis\":{\"endlinecolor\":\"#2a3f5f\",\"gridcolor\":\"white\",\"linecolor\":\"white\",\"minorgridcolor\":\"white\",\"startlinecolor\":\"#2a3f5f\"},\"type\":\"carpet\"}],\"table\":[{\"cells\":{\"fill\":{\"color\":\"#EBF0F8\"},\"line\":{\"color\":\"white\"}},\"header\":{\"fill\":{\"color\":\"#C8D4E3\"},\"line\":{\"color\":\"white\"}},\"type\":\"table\"}],\"barpolar\":[{\"marker\":{\"line\":{\"color\":\"#E5ECF6\",\"width\":0.5},\"pattern\":{\"fillmode\":\"overlay\",\"size\":10,\"solidity\":0.2}},\"type\":\"barpolar\"}],\"pie\":[{\"automargin\":true,\"type\":\"pie\"}]},\"layout\":{\"autotypenumbers\":\"strict\",\"colorway\":[\"#636efa\",\"#EF553B\",\"#00cc96\",\"#ab63fa\",\"#FFA15A\",\"#19d3f3\",\"#FF6692\",\"#B6E880\",\"#FF97FF\",\"#FECB52\"],\"font\":{\"color\":\"#2a3f5f\"},\"hovermode\":\"closest\",\"hoverlabel\":{\"align\":\"left\"},\"paper_bgcolor\":\"white\",\"plot_bgcolor\":\"#E5ECF6\",\"polar\":{\"bgcolor\":\"#E5ECF6\",\"angularaxis\":{\"gridcolor\":\"white\",\"linecolor\":\"white\",\"ticks\":\"\"},\"radialaxis\":{\"gridcolor\":\"white\",\"linecolor\":\"white\",\"ticks\":\"\"}},\"ternary\":{\"bgcolor\":\"#E5ECF6\",\"aaxis\":{\"gridcolor\":\"white\",\"linecolor\":\"white\",\"ticks\":\"\"},\"baxis\":{\"gridcolor\":\"white\",\"linecolor\":\"white\",\"ticks\":\"\"},\"caxis\":{\"gridcolor\":\"white\",\"linecolor\":\"white\",\"ticks\":\"\"}},\"coloraxis\":{\"colorbar\":{\"outlinewidth\":0,\"ticks\":\"\"}},\"colorscale\":{\"sequential\":[[0.0,\"#0d0887\"],[0.1111111111111111,\"#46039f\"],[0.2222222222222222,\"#7201a8\"],[0.3333333333333333,\"#9c179e\"],[0.4444444444444444,\"#bd3786\"],[0.5555555555555556,\"#d8576b\"],[0.6666666666666666,\"#ed7953\"],[0.7777777777777778,\"#fb9f3a\"],[0.8888888888888888,\"#fdca26\"],[1.0,\"#f0f921\"]],\"sequentialminus\":[[0.0,\"#0d0887\"],[0.1111111111111111,\"#46039f\"],[0.2222222222222222,\"#7201a8\"],[0.3333333333333333,\"#9c179e\"],[0.4444444444444444,\"#bd3786\"],[0.5555555555555556,\"#d8576b\"],[0.6666666666666666,\"#ed7953\"],[0.7777777777777778,\"#fb9f3a\"],[0.8888888888888888,\"#fdca26\"],[1.0,\"#f0f921\"]],\"diverging\":[[0,\"#8e0152\"],[0.1,\"#c51b7d\"],[0.2,\"#de77ae\"],[0.3,\"#f1b6da\"],[0.4,\"#fde0ef\"],[0.5,\"#f7f7f7\"],[0.6,\"#e6f5d0\"],[0.7,\"#b8e186\"],[0.8,\"#7fbc41\"],[0.9,\"#4d9221\"],[1,\"#276419\"]]},\"xaxis\":{\"gridcolor\":\"white\",\"linecolor\":\"white\",\"ticks\":\"\",\"title\":{\"standoff\":15},\"zerolinecolor\":\"white\",\"automargin\":true,\"zerolinewidth\":2},\"yaxis\":{\"gridcolor\":\"white\",\"linecolor\":\"white\",\"ticks\":\"\",\"title\":{\"standoff\":15},\"zerolinecolor\":\"white\",\"automargin\":true,\"zerolinewidth\":2},\"scene\":{\"xaxis\":{\"backgroundcolor\":\"#E5ECF6\",\"gridcolor\":\"white\",\"linecolor\":\"white\",\"showbackground\":true,\"ticks\":\"\",\"zerolinecolor\":\"white\",\"gridwidth\":2},\"yaxis\":{\"backgroundcolor\":\"#E5ECF6\",\"gridcolor\":\"white\",\"linecolor\":\"white\",\"showbackground\":true,\"ticks\":\"\",\"zerolinecolor\":\"white\",\"gridwidth\":2},\"zaxis\":{\"backgroundcolor\":\"#E5ECF6\",\"gridcolor\":\"white\",\"linecolor\":\"white\",\"showbackground\":true,\"ticks\":\"\",\"zerolinecolor\":\"white\",\"gridwidth\":2}},\"shapedefaults\":{\"line\":{\"color\":\"#2a3f5f\"}},\"annotationdefaults\":{\"arrowcolor\":\"#2a3f5f\",\"arrowhead\":0,\"arrowwidth\":1},\"geo\":{\"bgcolor\":\"white\",\"landcolor\":\"#E5ECF6\",\"subunitcolor\":\"white\",\"showland\":true,\"showlakes\":true,\"lakecolor\":\"white\"},\"title\":{\"x\":0.05},\"mapbox\":{\"style\":\"light\"}}},\"xaxis\":{\"anchor\":\"y\",\"domain\":[0.0,1.0],\"title\":{\"text\":\"windspeed\"}},\"yaxis\":{\"anchor\":\"x\",\"domain\":[0.0,1.0],\"title\":{\"text\":\"cnt\"}},\"legend\":{\"tracegroupgap\":0},\"title\":{\"text\":\"Boxplot of values for windspeed against our target variable cnt\"},\"boxmode\":\"group\"},                        {\"responsive\": true}                    ).then(function(){\n                            \nvar gd = document.getElementById('0555384d-4054-4a72-add6-c031ce38ec05');\nvar x = new MutationObserver(function (mutations, observer) {{\n        var display = window.getComputedStyle(gd).display;\n        if (!display || display === 'none') {{\n            console.log([gd, 'removed!']);\n            Plotly.purge(gd);\n            observer.disconnect();\n        }}\n}});\n\n// Listen for the removal of the full notebook cells\nvar notebookContainer = gd.closest('#notebook-container');\nif (notebookContainer) {{\n    x.observe(notebookContainer, {childList: true});\n}}\n\n// Listen for the clearing of the current output cell\nvar outputEl = gd.closest('.output');\nif (outputEl) {{\n    x.observe(outputEl, {childList: true});\n}}\n\n                        })                };                            </script>        </div>\n</body>\n</html>"
     },
     "metadata": {},
     "output_type": "display_data"
    }
   ]
  },
  {
   "cell_type": "markdown",
   "source": "### Data preperation",
   "metadata": {
    "cell_id": "68f4c4b5bf8f4feab8f10fa97a9dba86",
    "tags": [],
    "deepnote_cell_type": "markdown",
    "deepnote_cell_height": 62
   }
  },
  {
   "cell_type": "markdown",
   "source": "Before we go and explore our target variable, let's go ahead and re-transform our potential predictor features into numerical data types so that we can leverage a correlation matrices to tell us more about feature correlation.  ",
   "metadata": {
    "formattedRanges": [],
    "is_collapsed": false,
    "cell_id": "1c485831-4d86-4856-ab33-160a23d10ace",
    "tags": [],
    "deepnote_cell_type": "text-cell-p"
   }
  },
  {
   "cell_type": "code",
   "metadata": {
    "cell_id": "7e286260f78547d484c70e1db5f419d3",
    "tags": [],
    "deepnote_to_be_reexecuted": false,
    "source_hash": "41313cfa",
    "execution_start": 1663728013458,
    "execution_millis": 1004,
    "deepnote_cell_type": "code",
    "deepnote_cell_height": 405
   },
   "source": "data.head()",
   "execution_count": 22,
   "outputs": [
    {
     "output_type": "execute_result",
     "execution_count": 22,
     "data": {
      "application/vnd.deepnote.dataframe.v3+json": {
       "column_count": 12,
       "row_count": 5,
       "columns": [
        {
         "name": "season",
         "dtype": "object",
         "stats": {
          "unique_count": 1,
          "nan_count": 0,
          "categories": [
           {
            "name": "spring",
            "count": 5
           }
          ]
         }
        },
        {
         "name": "yr",
         "dtype": "int64",
         "stats": {
          "unique_count": 1,
          "nan_count": 0,
          "min": "0",
          "max": "0",
          "histogram": [
           {
            "bin_start": -0.5,
            "bin_end": -0.4,
            "count": 0
           },
           {
            "bin_start": -0.4,
            "bin_end": -0.3,
            "count": 0
           },
           {
            "bin_start": -0.3,
            "bin_end": -0.19999999999999996,
            "count": 0
           },
           {
            "bin_start": -0.19999999999999996,
            "bin_end": -0.09999999999999998,
            "count": 0
           },
           {
            "bin_start": -0.09999999999999998,
            "bin_end": 0,
            "count": 0
           },
           {
            "bin_start": 0,
            "bin_end": 0.10000000000000009,
            "count": 5
           },
           {
            "bin_start": 0.10000000000000009,
            "bin_end": 0.20000000000000007,
            "count": 0
           },
           {
            "bin_start": 0.20000000000000007,
            "bin_end": 0.30000000000000004,
            "count": 0
           },
           {
            "bin_start": 0.30000000000000004,
            "bin_end": 0.4,
            "count": 0
           },
           {
            "bin_start": 0.4,
            "bin_end": 0.5,
            "count": 0
           }
          ]
         }
        },
        {
         "name": "mnth",
         "dtype": "object",
         "stats": {
          "unique_count": 1,
          "nan_count": 0,
          "categories": [
           {
            "name": "jan",
            "count": 5
           }
          ]
         }
        },
        {
         "name": "holiday",
         "dtype": "int64",
         "stats": {
          "unique_count": 1,
          "nan_count": 0,
          "min": "0",
          "max": "0",
          "histogram": [
           {
            "bin_start": -0.5,
            "bin_end": -0.4,
            "count": 0
           },
           {
            "bin_start": -0.4,
            "bin_end": -0.3,
            "count": 0
           },
           {
            "bin_start": -0.3,
            "bin_end": -0.19999999999999996,
            "count": 0
           },
           {
            "bin_start": -0.19999999999999996,
            "bin_end": -0.09999999999999998,
            "count": 0
           },
           {
            "bin_start": -0.09999999999999998,
            "bin_end": 0,
            "count": 0
           },
           {
            "bin_start": 0,
            "bin_end": 0.10000000000000009,
            "count": 5
           },
           {
            "bin_start": 0.10000000000000009,
            "bin_end": 0.20000000000000007,
            "count": 0
           },
           {
            "bin_start": 0.20000000000000007,
            "bin_end": 0.30000000000000004,
            "count": 0
           },
           {
            "bin_start": 0.30000000000000004,
            "bin_end": 0.4,
            "count": 0
           },
           {
            "bin_start": 0.4,
            "bin_end": 0.5,
            "count": 0
           }
          ]
         }
        },
        {
         "name": "weekday",
         "dtype": "object",
         "stats": {
          "unique_count": 5,
          "nan_count": 0,
          "categories": [
           {
            "name": "sunday",
            "count": 1
           },
           {
            "name": "monday",
            "count": 1
           },
           {
            "name": "3 others",
            "count": 3
           }
          ]
         }
        },
        {
         "name": "workingday",
         "dtype": "int64",
         "stats": {
          "unique_count": 2,
          "nan_count": 0,
          "min": "0",
          "max": "1",
          "histogram": [
           {
            "bin_start": 0,
            "bin_end": 0.1,
            "count": 2
           },
           {
            "bin_start": 0.1,
            "bin_end": 0.2,
            "count": 0
           },
           {
            "bin_start": 0.2,
            "bin_end": 0.30000000000000004,
            "count": 0
           },
           {
            "bin_start": 0.30000000000000004,
            "bin_end": 0.4,
            "count": 0
           },
           {
            "bin_start": 0.4,
            "bin_end": 0.5,
            "count": 0
           },
           {
            "bin_start": 0.5,
            "bin_end": 0.6000000000000001,
            "count": 0
           },
           {
            "bin_start": 0.6000000000000001,
            "bin_end": 0.7000000000000001,
            "count": 0
           },
           {
            "bin_start": 0.7000000000000001,
            "bin_end": 0.8,
            "count": 0
           },
           {
            "bin_start": 0.8,
            "bin_end": 0.9,
            "count": 0
           },
           {
            "bin_start": 0.9,
            "bin_end": 1,
            "count": 3
           }
          ]
         }
        },
        {
         "name": "weathersit",
         "dtype": "object",
         "stats": {
          "unique_count": 2,
          "nan_count": 0,
          "categories": [
           {
            "name": "clear",
            "count": 3
           },
           {
            "name": "misty",
            "count": 2
           }
          ]
         }
        },
        {
         "name": "temp",
         "dtype": "float64",
         "stats": {
          "unique_count": 5,
          "nan_count": 0,
          "min": "8.050924",
          "max": "14.902598",
          "histogram": [
           {
            "bin_start": 8.050924,
            "bin_end": 8.7360914,
            "count": 2
           },
           {
            "bin_start": 8.7360914,
            "bin_end": 9.4212588,
            "count": 1
           },
           {
            "bin_start": 9.4212588,
            "bin_end": 10.1064262,
            "count": 0
           },
           {
            "bin_start": 10.1064262,
            "bin_end": 10.791593599999999,
            "count": 0
           },
           {
            "bin_start": 10.791593599999999,
            "bin_end": 11.476761,
            "count": 0
           },
           {
            "bin_start": 11.476761,
            "bin_end": 12.161928399999999,
            "count": 0
           },
           {
            "bin_start": 12.161928399999999,
            "bin_end": 12.847095799999998,
            "count": 0
           },
           {
            "bin_start": 12.847095799999998,
            "bin_end": 13.5322632,
            "count": 0
           },
           {
            "bin_start": 13.5322632,
            "bin_end": 14.2174306,
            "count": 1
           },
           {
            "bin_start": 14.2174306,
            "bin_end": 14.902598,
            "count": 1
           }
          ]
         }
        },
        {
         "name": "atemp",
         "dtype": "float64",
         "stats": {
          "unique_count": 5,
          "nan_count": 0,
          "min": "9.47025",
          "max": "18.18125",
          "histogram": [
           {
            "bin_start": 9.47025,
            "bin_end": 10.34135,
            "count": 1
           },
           {
            "bin_start": 10.34135,
            "bin_end": 11.21245,
            "count": 1
           },
           {
            "bin_start": 11.21245,
            "bin_end": 12.083549999999999,
            "count": 1
           },
           {
            "bin_start": 12.083549999999999,
            "bin_end": 12.954649999999999,
            "count": 0
           },
           {
            "bin_start": 12.954649999999999,
            "bin_end": 13.82575,
            "count": 0
           },
           {
            "bin_start": 13.82575,
            "bin_end": 14.69685,
            "count": 0
           },
           {
            "bin_start": 14.69685,
            "bin_end": 15.56795,
            "count": 0
           },
           {
            "bin_start": 15.56795,
            "bin_end": 16.439049999999998,
            "count": 0
           },
           {
            "bin_start": 16.439049999999998,
            "bin_end": 17.31015,
            "count": 0
           },
           {
            "bin_start": 17.31015,
            "bin_end": 18.18125,
            "count": 2
           }
          ]
         }
        },
        {
         "name": "hum",
         "dtype": "float64",
         "stats": {
          "unique_count": 5,
          "nan_count": 0,
          "min": "43.6957",
          "max": "80.5833",
          "histogram": [
           {
            "bin_start": 43.6957,
            "bin_end": 47.384460000000004,
            "count": 2
           },
           {
            "bin_start": 47.384460000000004,
            "bin_end": 51.07322,
            "count": 0
           },
           {
            "bin_start": 51.07322,
            "bin_end": 54.76198,
            "count": 0
           },
           {
            "bin_start": 54.76198,
            "bin_end": 58.450739999999996,
            "count": 0
           },
           {
            "bin_start": 58.450739999999996,
            "bin_end": 62.1395,
            "count": 1
           },
           {
            "bin_start": 62.1395,
            "bin_end": 65.82826,
            "count": 0
           },
           {
            "bin_start": 65.82826,
            "bin_end": 69.51702,
            "count": 0
           },
           {
            "bin_start": 69.51702,
            "bin_end": 73.20578,
            "count": 1
           },
           {
            "bin_start": 73.20578,
            "bin_end": 76.89454,
            "count": 0
           },
           {
            "bin_start": 76.89454,
            "bin_end": 80.5833,
            "count": 1
           }
          ]
         }
        },
        {
         "name": "windspeed",
         "dtype": "float64",
         "stats": {
          "unique_count": 5,
          "nan_count": 0,
          "min": "10.739832",
          "max": "16.652113",
          "histogram": [
           {
            "bin_start": 10.739832,
            "bin_end": 11.3310601,
            "count": 2
           },
           {
            "bin_start": 11.3310601,
            "bin_end": 11.9222882,
            "count": 0
           },
           {
            "bin_start": 11.9222882,
            "bin_end": 12.5135163,
            "count": 0
           },
           {
            "bin_start": 12.5135163,
            "bin_end": 13.1047444,
            "count": 1
           },
           {
            "bin_start": 13.1047444,
            "bin_end": 13.6959725,
            "count": 0
           },
           {
            "bin_start": 13.6959725,
            "bin_end": 14.2872006,
            "count": 0
           },
           {
            "bin_start": 14.2872006,
            "bin_end": 14.8784287,
            "count": 0
           },
           {
            "bin_start": 14.8784287,
            "bin_end": 15.4696568,
            "count": 0
           },
           {
            "bin_start": 15.4696568,
            "bin_end": 16.0608849,
            "count": 0
           },
           {
            "bin_start": 16.0608849,
            "bin_end": 16.652113,
            "count": 2
           }
          ]
         }
        },
        {
         "name": "cnt",
         "dtype": "int64",
         "stats": {
          "unique_count": 5,
          "nan_count": 0,
          "min": "801",
          "max": "1600",
          "histogram": [
           {
            "bin_start": 801,
            "bin_end": 880.9,
            "count": 1
           },
           {
            "bin_start": 880.9,
            "bin_end": 960.8,
            "count": 0
           },
           {
            "bin_start": 960.8,
            "bin_end": 1040.7,
            "count": 1
           },
           {
            "bin_start": 1040.7,
            "bin_end": 1120.6,
            "count": 0
           },
           {
            "bin_start": 1120.6,
            "bin_end": 1200.5,
            "count": 0
           },
           {
            "bin_start": 1200.5,
            "bin_end": 1280.4,
            "count": 0
           },
           {
            "bin_start": 1280.4,
            "bin_end": 1360.3000000000002,
            "count": 1
           },
           {
            "bin_start": 1360.3000000000002,
            "bin_end": 1440.2,
            "count": 0
           },
           {
            "bin_start": 1440.2,
            "bin_end": 1520.1,
            "count": 0
           },
           {
            "bin_start": 1520.1,
            "bin_end": 1600,
            "count": 2
           }
          ]
         }
        },
        {
         "name": "_deepnote_index_column",
         "dtype": "int64"
        }
       ],
       "rows": [
        {
         "season": "spring",
         "yr": "0",
         "mnth": "jan",
         "holiday": "0",
         "weekday": "sunday",
         "workingday": "0",
         "weathersit": "misty",
         "temp": "14.110847",
         "atemp": "18.18125",
         "hum": "80.5833",
         "windspeed": "10.749882",
         "cnt": "985",
         "_deepnote_index_column": "0"
        },
        {
         "season": "spring",
         "yr": "0",
         "mnth": "jan",
         "holiday": "0",
         "weekday": "monday",
         "workingday": "0",
         "weathersit": "misty",
         "temp": "14.902598",
         "atemp": "17.68695",
         "hum": "69.6087",
         "windspeed": "16.652113",
         "cnt": "801",
         "_deepnote_index_column": "1"
        },
        {
         "season": "spring",
         "yr": "0",
         "mnth": "jan",
         "holiday": "0",
         "weekday": "tuesday",
         "workingday": "1",
         "weathersit": "clear",
         "temp": "8.050924",
         "atemp": "9.47025",
         "hum": "43.7273",
         "windspeed": "16.636703",
         "cnt": "1349",
         "_deepnote_index_column": "2"
        },
        {
         "season": "spring",
         "yr": "0",
         "mnth": "jan",
         "holiday": "0",
         "weekday": "wednesday",
         "workingday": "1",
         "weathersit": "clear",
         "temp": "8.2",
         "atemp": "10.6061",
         "hum": "59.0435",
         "windspeed": "10.739832",
         "cnt": "1562",
         "_deepnote_index_column": "3"
        },
        {
         "season": "spring",
         "yr": "0",
         "mnth": "jan",
         "holiday": "0",
         "weekday": "thursday",
         "workingday": "1",
         "weathersit": "clear",
         "temp": "9.305237",
         "atemp": "11.4635",
         "hum": "43.6957",
         "windspeed": "12.5223",
         "cnt": "1600",
         "_deepnote_index_column": "4"
        }
       ]
      },
      "text/plain": "   season  yr mnth  holiday    weekday  workingday weathersit       temp  \\\n0  spring   0  jan        0     sunday           0      misty  14.110847   \n1  spring   0  jan        0     monday           0      misty  14.902598   \n2  spring   0  jan        0    tuesday           1      clear   8.050924   \n3  spring   0  jan        0  wednesday           1      clear   8.200000   \n4  spring   0  jan        0   thursday           1      clear   9.305237   \n\n      atemp      hum  windspeed   cnt  \n0  18.18125  80.5833  10.749882   985  \n1  17.68695  69.6087  16.652113   801  \n2   9.47025  43.7273  16.636703  1349  \n3  10.60610  59.0435  10.739832  1562  \n4  11.46350  43.6957  12.522300  1600  ",
      "text/html": "<div>\n<style scoped>\n    .dataframe tbody tr th:only-of-type {\n        vertical-align: middle;\n    }\n\n    .dataframe tbody tr th {\n        vertical-align: top;\n    }\n\n    .dataframe thead th {\n        text-align: right;\n    }\n</style>\n<table border=\"1\" class=\"dataframe\">\n  <thead>\n    <tr style=\"text-align: right;\">\n      <th></th>\n      <th>season</th>\n      <th>yr</th>\n      <th>mnth</th>\n      <th>holiday</th>\n      <th>weekday</th>\n      <th>workingday</th>\n      <th>weathersit</th>\n      <th>temp</th>\n      <th>atemp</th>\n      <th>hum</th>\n      <th>windspeed</th>\n      <th>cnt</th>\n    </tr>\n  </thead>\n  <tbody>\n    <tr>\n      <th>0</th>\n      <td>spring</td>\n      <td>0</td>\n      <td>jan</td>\n      <td>0</td>\n      <td>sunday</td>\n      <td>0</td>\n      <td>misty</td>\n      <td>14.110847</td>\n      <td>18.18125</td>\n      <td>80.5833</td>\n      <td>10.749882</td>\n      <td>985</td>\n    </tr>\n    <tr>\n      <th>1</th>\n      <td>spring</td>\n      <td>0</td>\n      <td>jan</td>\n      <td>0</td>\n      <td>monday</td>\n      <td>0</td>\n      <td>misty</td>\n      <td>14.902598</td>\n      <td>17.68695</td>\n      <td>69.6087</td>\n      <td>16.652113</td>\n      <td>801</td>\n    </tr>\n    <tr>\n      <th>2</th>\n      <td>spring</td>\n      <td>0</td>\n      <td>jan</td>\n      <td>0</td>\n      <td>tuesday</td>\n      <td>1</td>\n      <td>clear</td>\n      <td>8.050924</td>\n      <td>9.47025</td>\n      <td>43.7273</td>\n      <td>16.636703</td>\n      <td>1349</td>\n    </tr>\n    <tr>\n      <th>3</th>\n      <td>spring</td>\n      <td>0</td>\n      <td>jan</td>\n      <td>0</td>\n      <td>wednesday</td>\n      <td>1</td>\n      <td>clear</td>\n      <td>8.200000</td>\n      <td>10.60610</td>\n      <td>59.0435</td>\n      <td>10.739832</td>\n      <td>1562</td>\n    </tr>\n    <tr>\n      <th>4</th>\n      <td>spring</td>\n      <td>0</td>\n      <td>jan</td>\n      <td>0</td>\n      <td>thursday</td>\n      <td>1</td>\n      <td>clear</td>\n      <td>9.305237</td>\n      <td>11.46350</td>\n      <td>43.6957</td>\n      <td>12.522300</td>\n      <td>1600</td>\n    </tr>\n  </tbody>\n</table>\n</div>"
     },
     "metadata": {}
    }
   ]
  },
  {
   "cell_type": "code",
   "metadata": {
    "cell_id": "99035139c71c42298c5d22807ddb81c1",
    "tags": [],
    "deepnote_to_be_reexecuted": false,
    "source_hash": "d58817ea",
    "execution_start": 1663728013504,
    "execution_millis": 6,
    "deepnote_cell_type": "code",
    "deepnote_cell_height": 166
   },
   "source": "# creating feature columns for each categorical feature in our dataset. \n\nmnths_dummies = pd.get_dummies(data.mnth, drop_first=True)\nweekdays_dummies = pd.get_dummies(data.weekday,drop_first=True)\nweathersit_dummies = pd.get_dummies(data.weathersit,drop_first=True)\nseasons_dummies = pd.get_dummies(data.season,drop_first=True)",
   "execution_count": 23,
   "outputs": []
  },
  {
   "cell_type": "code",
   "metadata": {
    "cell_id": "f9e8e83c72994be9ace9446f674c9d2f",
    "tags": [],
    "deepnote_to_be_reexecuted": false,
    "source_hash": "f0f6145f",
    "execution_start": 1663728013514,
    "execution_millis": 6,
    "deepnote_cell_type": "code",
    "deepnote_cell_height": 135
   },
   "source": "# adds those columns to a new dataset along with the rest of our data\nnumerical_data = pd.concat([data, mnths_dummies, weekdays_dummies, weathersit_dummies, seasons_dummies], axis=1)\n# removes original variables from new data set.\nnumerical_data.drop(['mnth','weekday', 'weathersit', 'season'], inplace=True, axis=1)",
   "execution_count": 24,
   "outputs": []
  },
  {
   "cell_type": "code",
   "metadata": {
    "cell_id": "80dbefa713484599ac5d3d9735770762",
    "tags": [],
    "deepnote_to_be_reexecuted": false,
    "source_hash": "bd524b90",
    "execution_start": 1663728013528,
    "execution_millis": 941,
    "deepnote_cell_type": "code",
    "deepnote_cell_height": 405
   },
   "source": "numerical_data.head()",
   "execution_count": 25,
   "outputs": [
    {
     "output_type": "execute_result",
     "execution_count": 25,
     "data": {
      "application/vnd.deepnote.dataframe.v3+json": {
       "column_count": 30,
       "row_count": 5,
       "columns": [
        {
         "name": "yr",
         "dtype": "int64",
         "stats": {
          "unique_count": 1,
          "nan_count": 0,
          "min": "0",
          "max": "0",
          "histogram": [
           {
            "bin_start": -0.5,
            "bin_end": -0.4,
            "count": 0
           },
           {
            "bin_start": -0.4,
            "bin_end": -0.3,
            "count": 0
           },
           {
            "bin_start": -0.3,
            "bin_end": -0.19999999999999996,
            "count": 0
           },
           {
            "bin_start": -0.19999999999999996,
            "bin_end": -0.09999999999999998,
            "count": 0
           },
           {
            "bin_start": -0.09999999999999998,
            "bin_end": 0,
            "count": 0
           },
           {
            "bin_start": 0,
            "bin_end": 0.10000000000000009,
            "count": 5
           },
           {
            "bin_start": 0.10000000000000009,
            "bin_end": 0.20000000000000007,
            "count": 0
           },
           {
            "bin_start": 0.20000000000000007,
            "bin_end": 0.30000000000000004,
            "count": 0
           },
           {
            "bin_start": 0.30000000000000004,
            "bin_end": 0.4,
            "count": 0
           },
           {
            "bin_start": 0.4,
            "bin_end": 0.5,
            "count": 0
           }
          ]
         }
        },
        {
         "name": "holiday",
         "dtype": "int64",
         "stats": {
          "unique_count": 1,
          "nan_count": 0,
          "min": "0",
          "max": "0",
          "histogram": [
           {
            "bin_start": -0.5,
            "bin_end": -0.4,
            "count": 0
           },
           {
            "bin_start": -0.4,
            "bin_end": -0.3,
            "count": 0
           },
           {
            "bin_start": -0.3,
            "bin_end": -0.19999999999999996,
            "count": 0
           },
           {
            "bin_start": -0.19999999999999996,
            "bin_end": -0.09999999999999998,
            "count": 0
           },
           {
            "bin_start": -0.09999999999999998,
            "bin_end": 0,
            "count": 0
           },
           {
            "bin_start": 0,
            "bin_end": 0.10000000000000009,
            "count": 5
           },
           {
            "bin_start": 0.10000000000000009,
            "bin_end": 0.20000000000000007,
            "count": 0
           },
           {
            "bin_start": 0.20000000000000007,
            "bin_end": 0.30000000000000004,
            "count": 0
           },
           {
            "bin_start": 0.30000000000000004,
            "bin_end": 0.4,
            "count": 0
           },
           {
            "bin_start": 0.4,
            "bin_end": 0.5,
            "count": 0
           }
          ]
         }
        },
        {
         "name": "workingday",
         "dtype": "int64",
         "stats": {
          "unique_count": 2,
          "nan_count": 0,
          "min": "0",
          "max": "1",
          "histogram": [
           {
            "bin_start": 0,
            "bin_end": 0.1,
            "count": 2
           },
           {
            "bin_start": 0.1,
            "bin_end": 0.2,
            "count": 0
           },
           {
            "bin_start": 0.2,
            "bin_end": 0.30000000000000004,
            "count": 0
           },
           {
            "bin_start": 0.30000000000000004,
            "bin_end": 0.4,
            "count": 0
           },
           {
            "bin_start": 0.4,
            "bin_end": 0.5,
            "count": 0
           },
           {
            "bin_start": 0.5,
            "bin_end": 0.6000000000000001,
            "count": 0
           },
           {
            "bin_start": 0.6000000000000001,
            "bin_end": 0.7000000000000001,
            "count": 0
           },
           {
            "bin_start": 0.7000000000000001,
            "bin_end": 0.8,
            "count": 0
           },
           {
            "bin_start": 0.8,
            "bin_end": 0.9,
            "count": 0
           },
           {
            "bin_start": 0.9,
            "bin_end": 1,
            "count": 3
           }
          ]
         }
        },
        {
         "name": "temp",
         "dtype": "float64",
         "stats": {
          "unique_count": 5,
          "nan_count": 0,
          "min": "8.050924",
          "max": "14.902598",
          "histogram": [
           {
            "bin_start": 8.050924,
            "bin_end": 8.7360914,
            "count": 2
           },
           {
            "bin_start": 8.7360914,
            "bin_end": 9.4212588,
            "count": 1
           },
           {
            "bin_start": 9.4212588,
            "bin_end": 10.1064262,
            "count": 0
           },
           {
            "bin_start": 10.1064262,
            "bin_end": 10.791593599999999,
            "count": 0
           },
           {
            "bin_start": 10.791593599999999,
            "bin_end": 11.476761,
            "count": 0
           },
           {
            "bin_start": 11.476761,
            "bin_end": 12.161928399999999,
            "count": 0
           },
           {
            "bin_start": 12.161928399999999,
            "bin_end": 12.847095799999998,
            "count": 0
           },
           {
            "bin_start": 12.847095799999998,
            "bin_end": 13.5322632,
            "count": 0
           },
           {
            "bin_start": 13.5322632,
            "bin_end": 14.2174306,
            "count": 1
           },
           {
            "bin_start": 14.2174306,
            "bin_end": 14.902598,
            "count": 1
           }
          ]
         }
        },
        {
         "name": "atemp",
         "dtype": "float64",
         "stats": {
          "unique_count": 5,
          "nan_count": 0,
          "min": "9.47025",
          "max": "18.18125",
          "histogram": [
           {
            "bin_start": 9.47025,
            "bin_end": 10.34135,
            "count": 1
           },
           {
            "bin_start": 10.34135,
            "bin_end": 11.21245,
            "count": 1
           },
           {
            "bin_start": 11.21245,
            "bin_end": 12.083549999999999,
            "count": 1
           },
           {
            "bin_start": 12.083549999999999,
            "bin_end": 12.954649999999999,
            "count": 0
           },
           {
            "bin_start": 12.954649999999999,
            "bin_end": 13.82575,
            "count": 0
           },
           {
            "bin_start": 13.82575,
            "bin_end": 14.69685,
            "count": 0
           },
           {
            "bin_start": 14.69685,
            "bin_end": 15.56795,
            "count": 0
           },
           {
            "bin_start": 15.56795,
            "bin_end": 16.439049999999998,
            "count": 0
           },
           {
            "bin_start": 16.439049999999998,
            "bin_end": 17.31015,
            "count": 0
           },
           {
            "bin_start": 17.31015,
            "bin_end": 18.18125,
            "count": 2
           }
          ]
         }
        },
        {
         "name": "hum",
         "dtype": "float64",
         "stats": {
          "unique_count": 5,
          "nan_count": 0,
          "min": "43.6957",
          "max": "80.5833",
          "histogram": [
           {
            "bin_start": 43.6957,
            "bin_end": 47.384460000000004,
            "count": 2
           },
           {
            "bin_start": 47.384460000000004,
            "bin_end": 51.07322,
            "count": 0
           },
           {
            "bin_start": 51.07322,
            "bin_end": 54.76198,
            "count": 0
           },
           {
            "bin_start": 54.76198,
            "bin_end": 58.450739999999996,
            "count": 0
           },
           {
            "bin_start": 58.450739999999996,
            "bin_end": 62.1395,
            "count": 1
           },
           {
            "bin_start": 62.1395,
            "bin_end": 65.82826,
            "count": 0
           },
           {
            "bin_start": 65.82826,
            "bin_end": 69.51702,
            "count": 0
           },
           {
            "bin_start": 69.51702,
            "bin_end": 73.20578,
            "count": 1
           },
           {
            "bin_start": 73.20578,
            "bin_end": 76.89454,
            "count": 0
           },
           {
            "bin_start": 76.89454,
            "bin_end": 80.5833,
            "count": 1
           }
          ]
         }
        },
        {
         "name": "windspeed",
         "dtype": "float64",
         "stats": {
          "unique_count": 5,
          "nan_count": 0,
          "min": "10.739832",
          "max": "16.652113",
          "histogram": [
           {
            "bin_start": 10.739832,
            "bin_end": 11.3310601,
            "count": 2
           },
           {
            "bin_start": 11.3310601,
            "bin_end": 11.9222882,
            "count": 0
           },
           {
            "bin_start": 11.9222882,
            "bin_end": 12.5135163,
            "count": 0
           },
           {
            "bin_start": 12.5135163,
            "bin_end": 13.1047444,
            "count": 1
           },
           {
            "bin_start": 13.1047444,
            "bin_end": 13.6959725,
            "count": 0
           },
           {
            "bin_start": 13.6959725,
            "bin_end": 14.2872006,
            "count": 0
           },
           {
            "bin_start": 14.2872006,
            "bin_end": 14.8784287,
            "count": 0
           },
           {
            "bin_start": 14.8784287,
            "bin_end": 15.4696568,
            "count": 0
           },
           {
            "bin_start": 15.4696568,
            "bin_end": 16.0608849,
            "count": 0
           },
           {
            "bin_start": 16.0608849,
            "bin_end": 16.652113,
            "count": 2
           }
          ]
         }
        },
        {
         "name": "cnt",
         "dtype": "int64",
         "stats": {
          "unique_count": 5,
          "nan_count": 0,
          "min": "801",
          "max": "1600",
          "histogram": [
           {
            "bin_start": 801,
            "bin_end": 880.9,
            "count": 1
           },
           {
            "bin_start": 880.9,
            "bin_end": 960.8,
            "count": 0
           },
           {
            "bin_start": 960.8,
            "bin_end": 1040.7,
            "count": 1
           },
           {
            "bin_start": 1040.7,
            "bin_end": 1120.6,
            "count": 0
           },
           {
            "bin_start": 1120.6,
            "bin_end": 1200.5,
            "count": 0
           },
           {
            "bin_start": 1200.5,
            "bin_end": 1280.4,
            "count": 0
           },
           {
            "bin_start": 1280.4,
            "bin_end": 1360.3000000000002,
            "count": 1
           },
           {
            "bin_start": 1360.3000000000002,
            "bin_end": 1440.2,
            "count": 0
           },
           {
            "bin_start": 1440.2,
            "bin_end": 1520.1,
            "count": 0
           },
           {
            "bin_start": 1520.1,
            "bin_end": 1600,
            "count": 2
           }
          ]
         }
        },
        {
         "name": "august",
         "dtype": "uint8",
         "stats": {
          "unique_count": 1,
          "nan_count": 0,
          "min": "0",
          "max": "0",
          "histogram": [
           {
            "bin_start": -0.5,
            "bin_end": -0.4,
            "count": 0
           },
           {
            "bin_start": -0.4,
            "bin_end": -0.3,
            "count": 0
           },
           {
            "bin_start": -0.3,
            "bin_end": -0.19999999999999996,
            "count": 0
           },
           {
            "bin_start": -0.19999999999999996,
            "bin_end": -0.09999999999999998,
            "count": 0
           },
           {
            "bin_start": -0.09999999999999998,
            "bin_end": 0,
            "count": 0
           },
           {
            "bin_start": 0,
            "bin_end": 0.10000000000000009,
            "count": 5
           },
           {
            "bin_start": 0.10000000000000009,
            "bin_end": 0.20000000000000007,
            "count": 0
           },
           {
            "bin_start": 0.20000000000000007,
            "bin_end": 0.30000000000000004,
            "count": 0
           },
           {
            "bin_start": 0.30000000000000004,
            "bin_end": 0.4,
            "count": 0
           },
           {
            "bin_start": 0.4,
            "bin_end": 0.5,
            "count": 0
           }
          ]
         }
        },
        {
         "name": "december",
         "dtype": "uint8",
         "stats": {
          "unique_count": 1,
          "nan_count": 0,
          "min": "0",
          "max": "0",
          "histogram": [
           {
            "bin_start": -0.5,
            "bin_end": -0.4,
            "count": 0
           },
           {
            "bin_start": -0.4,
            "bin_end": -0.3,
            "count": 0
           },
           {
            "bin_start": -0.3,
            "bin_end": -0.19999999999999996,
            "count": 0
           },
           {
            "bin_start": -0.19999999999999996,
            "bin_end": -0.09999999999999998,
            "count": 0
           },
           {
            "bin_start": -0.09999999999999998,
            "bin_end": 0,
            "count": 0
           },
           {
            "bin_start": 0,
            "bin_end": 0.10000000000000009,
            "count": 5
           },
           {
            "bin_start": 0.10000000000000009,
            "bin_end": 0.20000000000000007,
            "count": 0
           },
           {
            "bin_start": 0.20000000000000007,
            "bin_end": 0.30000000000000004,
            "count": 0
           },
           {
            "bin_start": 0.30000000000000004,
            "bin_end": 0.4,
            "count": 0
           },
           {
            "bin_start": 0.4,
            "bin_end": 0.5,
            "count": 0
           }
          ]
         }
        },
        {
         "name": "feb",
         "dtype": "uint8",
         "stats": {
          "unique_count": 1,
          "nan_count": 0,
          "min": "0",
          "max": "0",
          "histogram": [
           {
            "bin_start": -0.5,
            "bin_end": -0.4,
            "count": 0
           },
           {
            "bin_start": -0.4,
            "bin_end": -0.3,
            "count": 0
           },
           {
            "bin_start": -0.3,
            "bin_end": -0.19999999999999996,
            "count": 0
           },
           {
            "bin_start": -0.19999999999999996,
            "bin_end": -0.09999999999999998,
            "count": 0
           },
           {
            "bin_start": -0.09999999999999998,
            "bin_end": 0,
            "count": 0
           },
           {
            "bin_start": 0,
            "bin_end": 0.10000000000000009,
            "count": 5
           },
           {
            "bin_start": 0.10000000000000009,
            "bin_end": 0.20000000000000007,
            "count": 0
           },
           {
            "bin_start": 0.20000000000000007,
            "bin_end": 0.30000000000000004,
            "count": 0
           },
           {
            "bin_start": 0.30000000000000004,
            "bin_end": 0.4,
            "count": 0
           },
           {
            "bin_start": 0.4,
            "bin_end": 0.5,
            "count": 0
           }
          ]
         }
        },
        {
         "name": "jan",
         "dtype": "uint8",
         "stats": {
          "unique_count": 1,
          "nan_count": 0,
          "min": "1",
          "max": "1",
          "histogram": [
           {
            "bin_start": 0.5,
            "bin_end": 0.6,
            "count": 0
           },
           {
            "bin_start": 0.6,
            "bin_end": 0.7,
            "count": 0
           },
           {
            "bin_start": 0.7,
            "bin_end": 0.8,
            "count": 0
           },
           {
            "bin_start": 0.8,
            "bin_end": 0.9,
            "count": 0
           },
           {
            "bin_start": 0.9,
            "bin_end": 1,
            "count": 0
           },
           {
            "bin_start": 1,
            "bin_end": 1.1,
            "count": 5
           },
           {
            "bin_start": 1.1,
            "bin_end": 1.2000000000000002,
            "count": 0
           },
           {
            "bin_start": 1.2000000000000002,
            "bin_end": 1.3,
            "count": 0
           },
           {
            "bin_start": 1.3,
            "bin_end": 1.4,
            "count": 0
           },
           {
            "bin_start": 1.4,
            "bin_end": 1.5,
            "count": 0
           }
          ]
         }
        },
        {
         "name": "july",
         "dtype": "uint8",
         "stats": {
          "unique_count": 1,
          "nan_count": 0,
          "min": "0",
          "max": "0",
          "histogram": [
           {
            "bin_start": -0.5,
            "bin_end": -0.4,
            "count": 0
           },
           {
            "bin_start": -0.4,
            "bin_end": -0.3,
            "count": 0
           },
           {
            "bin_start": -0.3,
            "bin_end": -0.19999999999999996,
            "count": 0
           },
           {
            "bin_start": -0.19999999999999996,
            "bin_end": -0.09999999999999998,
            "count": 0
           },
           {
            "bin_start": -0.09999999999999998,
            "bin_end": 0,
            "count": 0
           },
           {
            "bin_start": 0,
            "bin_end": 0.10000000000000009,
            "count": 5
           },
           {
            "bin_start": 0.10000000000000009,
            "bin_end": 0.20000000000000007,
            "count": 0
           },
           {
            "bin_start": 0.20000000000000007,
            "bin_end": 0.30000000000000004,
            "count": 0
           },
           {
            "bin_start": 0.30000000000000004,
            "bin_end": 0.4,
            "count": 0
           },
           {
            "bin_start": 0.4,
            "bin_end": 0.5,
            "count": 0
           }
          ]
         }
        },
        {
         "name": "june",
         "dtype": "uint8",
         "stats": {
          "unique_count": 1,
          "nan_count": 0,
          "min": "0",
          "max": "0",
          "histogram": [
           {
            "bin_start": -0.5,
            "bin_end": -0.4,
            "count": 0
           },
           {
            "bin_start": -0.4,
            "bin_end": -0.3,
            "count": 0
           },
           {
            "bin_start": -0.3,
            "bin_end": -0.19999999999999996,
            "count": 0
           },
           {
            "bin_start": -0.19999999999999996,
            "bin_end": -0.09999999999999998,
            "count": 0
           },
           {
            "bin_start": -0.09999999999999998,
            "bin_end": 0,
            "count": 0
           },
           {
            "bin_start": 0,
            "bin_end": 0.10000000000000009,
            "count": 5
           },
           {
            "bin_start": 0.10000000000000009,
            "bin_end": 0.20000000000000007,
            "count": 0
           },
           {
            "bin_start": 0.20000000000000007,
            "bin_end": 0.30000000000000004,
            "count": 0
           },
           {
            "bin_start": 0.30000000000000004,
            "bin_end": 0.4,
            "count": 0
           },
           {
            "bin_start": 0.4,
            "bin_end": 0.5,
            "count": 0
           }
          ]
         }
        },
        {
         "name": "march",
         "dtype": "uint8",
         "stats": {
          "unique_count": 1,
          "nan_count": 0,
          "min": "0",
          "max": "0",
          "histogram": [
           {
            "bin_start": -0.5,
            "bin_end": -0.4,
            "count": 0
           },
           {
            "bin_start": -0.4,
            "bin_end": -0.3,
            "count": 0
           },
           {
            "bin_start": -0.3,
            "bin_end": -0.19999999999999996,
            "count": 0
           },
           {
            "bin_start": -0.19999999999999996,
            "bin_end": -0.09999999999999998,
            "count": 0
           },
           {
            "bin_start": -0.09999999999999998,
            "bin_end": 0,
            "count": 0
           },
           {
            "bin_start": 0,
            "bin_end": 0.10000000000000009,
            "count": 5
           },
           {
            "bin_start": 0.10000000000000009,
            "bin_end": 0.20000000000000007,
            "count": 0
           },
           {
            "bin_start": 0.20000000000000007,
            "bin_end": 0.30000000000000004,
            "count": 0
           },
           {
            "bin_start": 0.30000000000000004,
            "bin_end": 0.4,
            "count": 0
           },
           {
            "bin_start": 0.4,
            "bin_end": 0.5,
            "count": 0
           }
          ]
         }
        },
        {
         "name": "may",
         "dtype": "uint8",
         "stats": {
          "unique_count": 1,
          "nan_count": 0,
          "min": "0",
          "max": "0",
          "histogram": [
           {
            "bin_start": -0.5,
            "bin_end": -0.4,
            "count": 0
           },
           {
            "bin_start": -0.4,
            "bin_end": -0.3,
            "count": 0
           },
           {
            "bin_start": -0.3,
            "bin_end": -0.19999999999999996,
            "count": 0
           },
           {
            "bin_start": -0.19999999999999996,
            "bin_end": -0.09999999999999998,
            "count": 0
           },
           {
            "bin_start": -0.09999999999999998,
            "bin_end": 0,
            "count": 0
           },
           {
            "bin_start": 0,
            "bin_end": 0.10000000000000009,
            "count": 5
           },
           {
            "bin_start": 0.10000000000000009,
            "bin_end": 0.20000000000000007,
            "count": 0
           },
           {
            "bin_start": 0.20000000000000007,
            "bin_end": 0.30000000000000004,
            "count": 0
           },
           {
            "bin_start": 0.30000000000000004,
            "bin_end": 0.4,
            "count": 0
           },
           {
            "bin_start": 0.4,
            "bin_end": 0.5,
            "count": 0
           }
          ]
         }
        },
        {
         "name": "november",
         "dtype": "uint8",
         "stats": {
          "unique_count": 1,
          "nan_count": 0,
          "min": "0",
          "max": "0",
          "histogram": [
           {
            "bin_start": -0.5,
            "bin_end": -0.4,
            "count": 0
           },
           {
            "bin_start": -0.4,
            "bin_end": -0.3,
            "count": 0
           },
           {
            "bin_start": -0.3,
            "bin_end": -0.19999999999999996,
            "count": 0
           },
           {
            "bin_start": -0.19999999999999996,
            "bin_end": -0.09999999999999998,
            "count": 0
           },
           {
            "bin_start": -0.09999999999999998,
            "bin_end": 0,
            "count": 0
           },
           {
            "bin_start": 0,
            "bin_end": 0.10000000000000009,
            "count": 5
           },
           {
            "bin_start": 0.10000000000000009,
            "bin_end": 0.20000000000000007,
            "count": 0
           },
           {
            "bin_start": 0.20000000000000007,
            "bin_end": 0.30000000000000004,
            "count": 0
           },
           {
            "bin_start": 0.30000000000000004,
            "bin_end": 0.4,
            "count": 0
           },
           {
            "bin_start": 0.4,
            "bin_end": 0.5,
            "count": 0
           }
          ]
         }
        },
        {
         "name": "october",
         "dtype": "uint8",
         "stats": {
          "unique_count": 1,
          "nan_count": 0,
          "min": "0",
          "max": "0",
          "histogram": [
           {
            "bin_start": -0.5,
            "bin_end": -0.4,
            "count": 0
           },
           {
            "bin_start": -0.4,
            "bin_end": -0.3,
            "count": 0
           },
           {
            "bin_start": -0.3,
            "bin_end": -0.19999999999999996,
            "count": 0
           },
           {
            "bin_start": -0.19999999999999996,
            "bin_end": -0.09999999999999998,
            "count": 0
           },
           {
            "bin_start": -0.09999999999999998,
            "bin_end": 0,
            "count": 0
           },
           {
            "bin_start": 0,
            "bin_end": 0.10000000000000009,
            "count": 5
           },
           {
            "bin_start": 0.10000000000000009,
            "bin_end": 0.20000000000000007,
            "count": 0
           },
           {
            "bin_start": 0.20000000000000007,
            "bin_end": 0.30000000000000004,
            "count": 0
           },
           {
            "bin_start": 0.30000000000000004,
            "bin_end": 0.4,
            "count": 0
           },
           {
            "bin_start": 0.4,
            "bin_end": 0.5,
            "count": 0
           }
          ]
         }
        },
        {
         "name": "september",
         "dtype": "uint8",
         "stats": {
          "unique_count": 1,
          "nan_count": 0,
          "min": "0",
          "max": "0",
          "histogram": [
           {
            "bin_start": -0.5,
            "bin_end": -0.4,
            "count": 0
           },
           {
            "bin_start": -0.4,
            "bin_end": -0.3,
            "count": 0
           },
           {
            "bin_start": -0.3,
            "bin_end": -0.19999999999999996,
            "count": 0
           },
           {
            "bin_start": -0.19999999999999996,
            "bin_end": -0.09999999999999998,
            "count": 0
           },
           {
            "bin_start": -0.09999999999999998,
            "bin_end": 0,
            "count": 0
           },
           {
            "bin_start": 0,
            "bin_end": 0.10000000000000009,
            "count": 5
           },
           {
            "bin_start": 0.10000000000000009,
            "bin_end": 0.20000000000000007,
            "count": 0
           },
           {
            "bin_start": 0.20000000000000007,
            "bin_end": 0.30000000000000004,
            "count": 0
           },
           {
            "bin_start": 0.30000000000000004,
            "bin_end": 0.4,
            "count": 0
           },
           {
            "bin_start": 0.4,
            "bin_end": 0.5,
            "count": 0
           }
          ]
         }
        },
        {
         "name": "monday",
         "dtype": "uint8",
         "stats": {
          "unique_count": 2,
          "nan_count": 0,
          "min": "0",
          "max": "1",
          "histogram": [
           {
            "bin_start": 0,
            "bin_end": 0.1,
            "count": 4
           },
           {
            "bin_start": 0.1,
            "bin_end": 0.2,
            "count": 0
           },
           {
            "bin_start": 0.2,
            "bin_end": 0.30000000000000004,
            "count": 0
           },
           {
            "bin_start": 0.30000000000000004,
            "bin_end": 0.4,
            "count": 0
           },
           {
            "bin_start": 0.4,
            "bin_end": 0.5,
            "count": 0
           },
           {
            "bin_start": 0.5,
            "bin_end": 0.6000000000000001,
            "count": 0
           },
           {
            "bin_start": 0.6000000000000001,
            "bin_end": 0.7000000000000001,
            "count": 0
           },
           {
            "bin_start": 0.7000000000000001,
            "bin_end": 0.8,
            "count": 0
           },
           {
            "bin_start": 0.8,
            "bin_end": 0.9,
            "count": 0
           },
           {
            "bin_start": 0.9,
            "bin_end": 1,
            "count": 1
           }
          ]
         }
        },
        {
         "name": "saturday",
         "dtype": "uint8",
         "stats": {
          "unique_count": 1,
          "nan_count": 0,
          "min": "0",
          "max": "0",
          "histogram": [
           {
            "bin_start": -0.5,
            "bin_end": -0.4,
            "count": 0
           },
           {
            "bin_start": -0.4,
            "bin_end": -0.3,
            "count": 0
           },
           {
            "bin_start": -0.3,
            "bin_end": -0.19999999999999996,
            "count": 0
           },
           {
            "bin_start": -0.19999999999999996,
            "bin_end": -0.09999999999999998,
            "count": 0
           },
           {
            "bin_start": -0.09999999999999998,
            "bin_end": 0,
            "count": 0
           },
           {
            "bin_start": 0,
            "bin_end": 0.10000000000000009,
            "count": 5
           },
           {
            "bin_start": 0.10000000000000009,
            "bin_end": 0.20000000000000007,
            "count": 0
           },
           {
            "bin_start": 0.20000000000000007,
            "bin_end": 0.30000000000000004,
            "count": 0
           },
           {
            "bin_start": 0.30000000000000004,
            "bin_end": 0.4,
            "count": 0
           },
           {
            "bin_start": 0.4,
            "bin_end": 0.5,
            "count": 0
           }
          ]
         }
        },
        {
         "name": "sunday",
         "dtype": "uint8",
         "stats": {
          "unique_count": 2,
          "nan_count": 0,
          "min": "0",
          "max": "1",
          "histogram": [
           {
            "bin_start": 0,
            "bin_end": 0.1,
            "count": 4
           },
           {
            "bin_start": 0.1,
            "bin_end": 0.2,
            "count": 0
           },
           {
            "bin_start": 0.2,
            "bin_end": 0.30000000000000004,
            "count": 0
           },
           {
            "bin_start": 0.30000000000000004,
            "bin_end": 0.4,
            "count": 0
           },
           {
            "bin_start": 0.4,
            "bin_end": 0.5,
            "count": 0
           },
           {
            "bin_start": 0.5,
            "bin_end": 0.6000000000000001,
            "count": 0
           },
           {
            "bin_start": 0.6000000000000001,
            "bin_end": 0.7000000000000001,
            "count": 0
           },
           {
            "bin_start": 0.7000000000000001,
            "bin_end": 0.8,
            "count": 0
           },
           {
            "bin_start": 0.8,
            "bin_end": 0.9,
            "count": 0
           },
           {
            "bin_start": 0.9,
            "bin_end": 1,
            "count": 1
           }
          ]
         }
        },
        {
         "name": "thursday",
         "dtype": "uint8",
         "stats": {
          "unique_count": 2,
          "nan_count": 0,
          "min": "0",
          "max": "1",
          "histogram": [
           {
            "bin_start": 0,
            "bin_end": 0.1,
            "count": 4
           },
           {
            "bin_start": 0.1,
            "bin_end": 0.2,
            "count": 0
           },
           {
            "bin_start": 0.2,
            "bin_end": 0.30000000000000004,
            "count": 0
           },
           {
            "bin_start": 0.30000000000000004,
            "bin_end": 0.4,
            "count": 0
           },
           {
            "bin_start": 0.4,
            "bin_end": 0.5,
            "count": 0
           },
           {
            "bin_start": 0.5,
            "bin_end": 0.6000000000000001,
            "count": 0
           },
           {
            "bin_start": 0.6000000000000001,
            "bin_end": 0.7000000000000001,
            "count": 0
           },
           {
            "bin_start": 0.7000000000000001,
            "bin_end": 0.8,
            "count": 0
           },
           {
            "bin_start": 0.8,
            "bin_end": 0.9,
            "count": 0
           },
           {
            "bin_start": 0.9,
            "bin_end": 1,
            "count": 1
           }
          ]
         }
        },
        {
         "name": "tuesday",
         "dtype": "uint8",
         "stats": {
          "unique_count": 2,
          "nan_count": 0,
          "min": "0",
          "max": "1",
          "histogram": [
           {
            "bin_start": 0,
            "bin_end": 0.1,
            "count": 4
           },
           {
            "bin_start": 0.1,
            "bin_end": 0.2,
            "count": 0
           },
           {
            "bin_start": 0.2,
            "bin_end": 0.30000000000000004,
            "count": 0
           },
           {
            "bin_start": 0.30000000000000004,
            "bin_end": 0.4,
            "count": 0
           },
           {
            "bin_start": 0.4,
            "bin_end": 0.5,
            "count": 0
           },
           {
            "bin_start": 0.5,
            "bin_end": 0.6000000000000001,
            "count": 0
           },
           {
            "bin_start": 0.6000000000000001,
            "bin_end": 0.7000000000000001,
            "count": 0
           },
           {
            "bin_start": 0.7000000000000001,
            "bin_end": 0.8,
            "count": 0
           },
           {
            "bin_start": 0.8,
            "bin_end": 0.9,
            "count": 0
           },
           {
            "bin_start": 0.9,
            "bin_end": 1,
            "count": 1
           }
          ]
         }
        },
        {
         "name": "wednesday",
         "dtype": "uint8",
         "stats": {
          "unique_count": 2,
          "nan_count": 0,
          "min": "0",
          "max": "1",
          "histogram": [
           {
            "bin_start": 0,
            "bin_end": 0.1,
            "count": 4
           },
           {
            "bin_start": 0.1,
            "bin_end": 0.2,
            "count": 0
           },
           {
            "bin_start": 0.2,
            "bin_end": 0.30000000000000004,
            "count": 0
           },
           {
            "bin_start": 0.30000000000000004,
            "bin_end": 0.4,
            "count": 0
           },
           {
            "bin_start": 0.4,
            "bin_end": 0.5,
            "count": 0
           },
           {
            "bin_start": 0.5,
            "bin_end": 0.6000000000000001,
            "count": 0
           },
           {
            "bin_start": 0.6000000000000001,
            "bin_end": 0.7000000000000001,
            "count": 0
           },
           {
            "bin_start": 0.7000000000000001,
            "bin_end": 0.8,
            "count": 0
           },
           {
            "bin_start": 0.8,
            "bin_end": 0.9,
            "count": 0
           },
           {
            "bin_start": 0.9,
            "bin_end": 1,
            "count": 1
           }
          ]
         }
        },
        {
         "name": "light_snow",
         "dtype": "uint8",
         "stats": {
          "unique_count": 1,
          "nan_count": 0,
          "min": "0",
          "max": "0",
          "histogram": [
           {
            "bin_start": -0.5,
            "bin_end": -0.4,
            "count": 0
           },
           {
            "bin_start": -0.4,
            "bin_end": -0.3,
            "count": 0
           },
           {
            "bin_start": -0.3,
            "bin_end": -0.19999999999999996,
            "count": 0
           },
           {
            "bin_start": -0.19999999999999996,
            "bin_end": -0.09999999999999998,
            "count": 0
           },
           {
            "bin_start": -0.09999999999999998,
            "bin_end": 0,
            "count": 0
           },
           {
            "bin_start": 0,
            "bin_end": 0.10000000000000009,
            "count": 5
           },
           {
            "bin_start": 0.10000000000000009,
            "bin_end": 0.20000000000000007,
            "count": 0
           },
           {
            "bin_start": 0.20000000000000007,
            "bin_end": 0.30000000000000004,
            "count": 0
           },
           {
            "bin_start": 0.30000000000000004,
            "bin_end": 0.4,
            "count": 0
           },
           {
            "bin_start": 0.4,
            "bin_end": 0.5,
            "count": 0
           }
          ]
         }
        },
        {
         "name": "misty",
         "dtype": "uint8",
         "stats": {
          "unique_count": 2,
          "nan_count": 0,
          "min": "0",
          "max": "1",
          "histogram": [
           {
            "bin_start": 0,
            "bin_end": 0.1,
            "count": 3
           },
           {
            "bin_start": 0.1,
            "bin_end": 0.2,
            "count": 0
           },
           {
            "bin_start": 0.2,
            "bin_end": 0.30000000000000004,
            "count": 0
           },
           {
            "bin_start": 0.30000000000000004,
            "bin_end": 0.4,
            "count": 0
           },
           {
            "bin_start": 0.4,
            "bin_end": 0.5,
            "count": 0
           },
           {
            "bin_start": 0.5,
            "bin_end": 0.6000000000000001,
            "count": 0
           },
           {
            "bin_start": 0.6000000000000001,
            "bin_end": 0.7000000000000001,
            "count": 0
           },
           {
            "bin_start": 0.7000000000000001,
            "bin_end": 0.8,
            "count": 0
           },
           {
            "bin_start": 0.8,
            "bin_end": 0.9,
            "count": 0
           },
           {
            "bin_start": 0.9,
            "bin_end": 1,
            "count": 2
           }
          ]
         }
        },
        {
         "name": "spring",
         "dtype": "uint8",
         "stats": {
          "unique_count": 1,
          "nan_count": 0,
          "min": "1",
          "max": "1",
          "histogram": [
           {
            "bin_start": 0.5,
            "bin_end": 0.6,
            "count": 0
           },
           {
            "bin_start": 0.6,
            "bin_end": 0.7,
            "count": 0
           },
           {
            "bin_start": 0.7,
            "bin_end": 0.8,
            "count": 0
           },
           {
            "bin_start": 0.8,
            "bin_end": 0.9,
            "count": 0
           },
           {
            "bin_start": 0.9,
            "bin_end": 1,
            "count": 0
           },
           {
            "bin_start": 1,
            "bin_end": 1.1,
            "count": 5
           },
           {
            "bin_start": 1.1,
            "bin_end": 1.2000000000000002,
            "count": 0
           },
           {
            "bin_start": 1.2000000000000002,
            "bin_end": 1.3,
            "count": 0
           },
           {
            "bin_start": 1.3,
            "bin_end": 1.4,
            "count": 0
           },
           {
            "bin_start": 1.4,
            "bin_end": 1.5,
            "count": 0
           }
          ]
         }
        },
        {
         "name": "summer",
         "dtype": "uint8",
         "stats": {
          "unique_count": 1,
          "nan_count": 0,
          "min": "0",
          "max": "0",
          "histogram": [
           {
            "bin_start": -0.5,
            "bin_end": -0.4,
            "count": 0
           },
           {
            "bin_start": -0.4,
            "bin_end": -0.3,
            "count": 0
           },
           {
            "bin_start": -0.3,
            "bin_end": -0.19999999999999996,
            "count": 0
           },
           {
            "bin_start": -0.19999999999999996,
            "bin_end": -0.09999999999999998,
            "count": 0
           },
           {
            "bin_start": -0.09999999999999998,
            "bin_end": 0,
            "count": 0
           },
           {
            "bin_start": 0,
            "bin_end": 0.10000000000000009,
            "count": 5
           },
           {
            "bin_start": 0.10000000000000009,
            "bin_end": 0.20000000000000007,
            "count": 0
           },
           {
            "bin_start": 0.20000000000000007,
            "bin_end": 0.30000000000000004,
            "count": 0
           },
           {
            "bin_start": 0.30000000000000004,
            "bin_end": 0.4,
            "count": 0
           },
           {
            "bin_start": 0.4,
            "bin_end": 0.5,
            "count": 0
           }
          ]
         }
        },
        {
         "name": "winter",
         "dtype": "uint8",
         "stats": {
          "unique_count": 1,
          "nan_count": 0,
          "min": "0",
          "max": "0",
          "histogram": [
           {
            "bin_start": -0.5,
            "bin_end": -0.4,
            "count": 0
           },
           {
            "bin_start": -0.4,
            "bin_end": -0.3,
            "count": 0
           },
           {
            "bin_start": -0.3,
            "bin_end": -0.19999999999999996,
            "count": 0
           },
           {
            "bin_start": -0.19999999999999996,
            "bin_end": -0.09999999999999998,
            "count": 0
           },
           {
            "bin_start": -0.09999999999999998,
            "bin_end": 0,
            "count": 0
           },
           {
            "bin_start": 0,
            "bin_end": 0.10000000000000009,
            "count": 5
           },
           {
            "bin_start": 0.10000000000000009,
            "bin_end": 0.20000000000000007,
            "count": 0
           },
           {
            "bin_start": 0.20000000000000007,
            "bin_end": 0.30000000000000004,
            "count": 0
           },
           {
            "bin_start": 0.30000000000000004,
            "bin_end": 0.4,
            "count": 0
           },
           {
            "bin_start": 0.4,
            "bin_end": 0.5,
            "count": 0
           }
          ]
         }
        },
        {
         "name": "_deepnote_index_column",
         "dtype": "int64"
        }
       ],
       "rows": [
        {
         "yr": "0",
         "holiday": "0",
         "workingday": "0",
         "temp": "14.110847",
         "atemp": "18.18125",
         "hum": "80.5833",
         "windspeed": "10.749882",
         "cnt": "985",
         "august": "0",
         "december": "0",
         "feb": "0",
         "jan": "1",
         "july": "0",
         "june": "0",
         "march": "0",
         "may": "0",
         "november": "0",
         "october": "0",
         "september": "0",
         "monday": "0",
         "saturday": "0",
         "sunday": "1",
         "thursday": "0",
         "tuesday": "0",
         "wednesday": "0",
         "light_snow": "0",
         "misty": "1",
         "spring": "1",
         "summer": "0",
         "winter": "0",
         "_deepnote_index_column": "0"
        },
        {
         "yr": "0",
         "holiday": "0",
         "workingday": "0",
         "temp": "14.902598",
         "atemp": "17.68695",
         "hum": "69.6087",
         "windspeed": "16.652113",
         "cnt": "801",
         "august": "0",
         "december": "0",
         "feb": "0",
         "jan": "1",
         "july": "0",
         "june": "0",
         "march": "0",
         "may": "0",
         "november": "0",
         "october": "0",
         "september": "0",
         "monday": "1",
         "saturday": "0",
         "sunday": "0",
         "thursday": "0",
         "tuesday": "0",
         "wednesday": "0",
         "light_snow": "0",
         "misty": "1",
         "spring": "1",
         "summer": "0",
         "winter": "0",
         "_deepnote_index_column": "1"
        },
        {
         "yr": "0",
         "holiday": "0",
         "workingday": "1",
         "temp": "8.050924",
         "atemp": "9.47025",
         "hum": "43.7273",
         "windspeed": "16.636703",
         "cnt": "1349",
         "august": "0",
         "december": "0",
         "feb": "0",
         "jan": "1",
         "july": "0",
         "june": "0",
         "march": "0",
         "may": "0",
         "november": "0",
         "october": "0",
         "september": "0",
         "monday": "0",
         "saturday": "0",
         "sunday": "0",
         "thursday": "0",
         "tuesday": "1",
         "wednesday": "0",
         "light_snow": "0",
         "misty": "0",
         "spring": "1",
         "summer": "0",
         "winter": "0",
         "_deepnote_index_column": "2"
        },
        {
         "yr": "0",
         "holiday": "0",
         "workingday": "1",
         "temp": "8.2",
         "atemp": "10.6061",
         "hum": "59.0435",
         "windspeed": "10.739832",
         "cnt": "1562",
         "august": "0",
         "december": "0",
         "feb": "0",
         "jan": "1",
         "july": "0",
         "june": "0",
         "march": "0",
         "may": "0",
         "november": "0",
         "october": "0",
         "september": "0",
         "monday": "0",
         "saturday": "0",
         "sunday": "0",
         "thursday": "0",
         "tuesday": "0",
         "wednesday": "1",
         "light_snow": "0",
         "misty": "0",
         "spring": "1",
         "summer": "0",
         "winter": "0",
         "_deepnote_index_column": "3"
        },
        {
         "yr": "0",
         "holiday": "0",
         "workingday": "1",
         "temp": "9.305237",
         "atemp": "11.4635",
         "hum": "43.6957",
         "windspeed": "12.5223",
         "cnt": "1600",
         "august": "0",
         "december": "0",
         "feb": "0",
         "jan": "1",
         "july": "0",
         "june": "0",
         "march": "0",
         "may": "0",
         "november": "0",
         "october": "0",
         "september": "0",
         "monday": "0",
         "saturday": "0",
         "sunday": "0",
         "thursday": "1",
         "tuesday": "0",
         "wednesday": "0",
         "light_snow": "0",
         "misty": "0",
         "spring": "1",
         "summer": "0",
         "winter": "0",
         "_deepnote_index_column": "4"
        }
       ]
      },
      "text/plain": "   yr  holiday  workingday       temp     atemp      hum  windspeed   cnt  \\\n0   0        0           0  14.110847  18.18125  80.5833  10.749882   985   \n1   0        0           0  14.902598  17.68695  69.6087  16.652113   801   \n2   0        0           1   8.050924   9.47025  43.7273  16.636703  1349   \n3   0        0           1   8.200000  10.60610  59.0435  10.739832  1562   \n4   0        0           1   9.305237  11.46350  43.6957  12.522300  1600   \n\n   august  december  ...  saturday  sunday  thursday  tuesday  wednesday  \\\n0       0         0  ...         0       1         0        0          0   \n1       0         0  ...         0       0         0        0          0   \n2       0         0  ...         0       0         0        1          0   \n3       0         0  ...         0       0         0        0          1   \n4       0         0  ...         0       0         1        0          0   \n\n   light_snow  misty  spring  summer  winter  \n0           0      1       1       0       0  \n1           0      1       1       0       0  \n2           0      0       1       0       0  \n3           0      0       1       0       0  \n4           0      0       1       0       0  \n\n[5 rows x 30 columns]",
      "text/html": "<div>\n<style scoped>\n    .dataframe tbody tr th:only-of-type {\n        vertical-align: middle;\n    }\n\n    .dataframe tbody tr th {\n        vertical-align: top;\n    }\n\n    .dataframe thead th {\n        text-align: right;\n    }\n</style>\n<table border=\"1\" class=\"dataframe\">\n  <thead>\n    <tr style=\"text-align: right;\">\n      <th></th>\n      <th>yr</th>\n      <th>holiday</th>\n      <th>workingday</th>\n      <th>temp</th>\n      <th>atemp</th>\n      <th>hum</th>\n      <th>windspeed</th>\n      <th>cnt</th>\n      <th>august</th>\n      <th>december</th>\n      <th>...</th>\n      <th>saturday</th>\n      <th>sunday</th>\n      <th>thursday</th>\n      <th>tuesday</th>\n      <th>wednesday</th>\n      <th>light_snow</th>\n      <th>misty</th>\n      <th>spring</th>\n      <th>summer</th>\n      <th>winter</th>\n    </tr>\n  </thead>\n  <tbody>\n    <tr>\n      <th>0</th>\n      <td>0</td>\n      <td>0</td>\n      <td>0</td>\n      <td>14.110847</td>\n      <td>18.18125</td>\n      <td>80.5833</td>\n      <td>10.749882</td>\n      <td>985</td>\n      <td>0</td>\n      <td>0</td>\n      <td>...</td>\n      <td>0</td>\n      <td>1</td>\n      <td>0</td>\n      <td>0</td>\n      <td>0</td>\n      <td>0</td>\n      <td>1</td>\n      <td>1</td>\n      <td>0</td>\n      <td>0</td>\n    </tr>\n    <tr>\n      <th>1</th>\n      <td>0</td>\n      <td>0</td>\n      <td>0</td>\n      <td>14.902598</td>\n      <td>17.68695</td>\n      <td>69.6087</td>\n      <td>16.652113</td>\n      <td>801</td>\n      <td>0</td>\n      <td>0</td>\n      <td>...</td>\n      <td>0</td>\n      <td>0</td>\n      <td>0</td>\n      <td>0</td>\n      <td>0</td>\n      <td>0</td>\n      <td>1</td>\n      <td>1</td>\n      <td>0</td>\n      <td>0</td>\n    </tr>\n    <tr>\n      <th>2</th>\n      <td>0</td>\n      <td>0</td>\n      <td>1</td>\n      <td>8.050924</td>\n      <td>9.47025</td>\n      <td>43.7273</td>\n      <td>16.636703</td>\n      <td>1349</td>\n      <td>0</td>\n      <td>0</td>\n      <td>...</td>\n      <td>0</td>\n      <td>0</td>\n      <td>0</td>\n      <td>1</td>\n      <td>0</td>\n      <td>0</td>\n      <td>0</td>\n      <td>1</td>\n      <td>0</td>\n      <td>0</td>\n    </tr>\n    <tr>\n      <th>3</th>\n      <td>0</td>\n      <td>0</td>\n      <td>1</td>\n      <td>8.200000</td>\n      <td>10.60610</td>\n      <td>59.0435</td>\n      <td>10.739832</td>\n      <td>1562</td>\n      <td>0</td>\n      <td>0</td>\n      <td>...</td>\n      <td>0</td>\n      <td>0</td>\n      <td>0</td>\n      <td>0</td>\n      <td>1</td>\n      <td>0</td>\n      <td>0</td>\n      <td>1</td>\n      <td>0</td>\n      <td>0</td>\n    </tr>\n    <tr>\n      <th>4</th>\n      <td>0</td>\n      <td>0</td>\n      <td>1</td>\n      <td>9.305237</td>\n      <td>11.46350</td>\n      <td>43.6957</td>\n      <td>12.522300</td>\n      <td>1600</td>\n      <td>0</td>\n      <td>0</td>\n      <td>...</td>\n      <td>0</td>\n      <td>0</td>\n      <td>1</td>\n      <td>0</td>\n      <td>0</td>\n      <td>0</td>\n      <td>0</td>\n      <td>1</td>\n      <td>0</td>\n      <td>0</td>\n    </tr>\n  </tbody>\n</table>\n<p>5 rows × 30 columns</p>\n</div>"
     },
     "metadata": {}
    }
   ]
  },
  {
   "cell_type": "markdown",
   "source": "Now that we have a better understanding of our potential predictor variables and they'e been converted to numerical variables (either continuous or categorical), let's go ahead gain a better understanding of our target variable and do any cleaning, transformation needed. ",
   "metadata": {
    "formattedRanges": [],
    "is_collapsed": false,
    "cell_id": "ba03b930-e6ba-4eeb-baa4-e60972e64f83",
    "tags": [],
    "deepnote_cell_type": "text-cell-p"
   }
  },
  {
   "cell_type": "code",
   "metadata": {
    "cell_id": "6e4ab133b6b94be9a019d9ed85e60d60",
    "tags": [],
    "deepnote_to_be_reexecuted": false,
    "source_hash": "27add8e6",
    "execution_start": 1663728013640,
    "execution_millis": 830,
    "deepnote_cell_type": "code",
    "deepnote_cell_height": 1457.03125,
    "deepnote_output_heights": [
     null,
     526,
     526
    ]
   },
   "source": "create_feature_analysis(data, 'cnt')",
   "execution_count": 26,
   "outputs": [
    {
     "name": "stdout",
     "text": "DESCRIPTIVE SUMMARY of cnt\ncount     730.000000\nmean     4508.006849\nstd      1936.011647\nmin        22.000000\n25%      3169.750000\n50%      4548.500000\n75%      5966.000000\nmax      8714.000000\nName: cnt, dtype: float64\n\n\nUNIQUE VALUE COUNT: 695\n",
     "output_type": "stream"
    },
    {
     "data": {
      "text/html": "<html>\n<head><meta charset=\"utf-8\" /></head>\n<body>\n    <div>            <script src=\"https://cdnjs.cloudflare.com/ajax/libs/mathjax/2.7.5/MathJax.js?config=TeX-AMS-MML_SVG\"></script><script type=\"text/javascript\">if (window.MathJax && window.MathJax.Hub && window.MathJax.Hub.Config) {window.MathJax.Hub.Config({SVG: {font: \"STIX-Web\"}});}</script>                <script type=\"text/javascript\">window.PlotlyConfig = {MathJaxConfig: 'local'};</script>\n        <script src=\"https://cdn.plot.ly/plotly-2.14.0.min.js\"></script>                <div id=\"d1299844-aff0-443d-a3fd-4b313880fa4f\" class=\"plotly-graph-div\" style=\"height:525px; width:100%;\"></div>            <script type=\"text/javascript\">                                    window.PLOTLYENV=window.PLOTLYENV || {};                                    if (document.getElementById(\"d1299844-aff0-443d-a3fd-4b313880fa4f\")) {                    Plotly.newPlot(                        \"d1299844-aff0-443d-a3fd-4b313880fa4f\",                        [{\"alignmentgroup\":\"True\",\"bingroup\":\"x\",\"hovertemplate\":\"cnt=%{x}<br>count=%{y}<extra></extra>\",\"legendgroup\":\"\",\"marker\":{\"color\":\"#636efa\",\"pattern\":{\"shape\":\"\"}},\"name\":\"\",\"offsetgroup\":\"\",\"orientation\":\"v\",\"showlegend\":false,\"x\":[985,801,1349,1562,1600,1606,1510,959,822,1321,1263,1162,1406,1421,1248,1204,1000,683,1650,1927,1543,981,986,1416,1985,506,431,1167,1098,1096,1501,1360,1526,1550,1708,1005,1623,1712,1530,1605,1538,1746,1472,1589,1913,1815,2115,2475,2927,1635,1812,1107,1450,1917,1807,1461,1969,2402,1446,1851,2134,1685,1944,2077,605,1872,2133,1891,623,1977,2132,2417,2046,2056,2192,2744,3239,3117,2471,2077,2703,2121,1865,2210,2496,1693,2028,2425,1536,1685,2227,2252,3249,3115,1795,2808,3141,1471,2455,2895,3348,2034,2162,3267,3126,795,3744,3429,3204,3944,4189,1683,4036,4191,4073,4400,3872,4058,4595,5312,3351,4401,4451,2633,4433,4608,4714,4333,4362,4803,4182,4864,4105,3409,4553,3958,4123,3855,4575,4917,5805,4660,4274,4492,4978,4677,4679,4758,4788,4098,3982,3974,4968,5312,5342,4906,4548,4833,4401,3915,4586,4966,4460,5020,4891,5180,3767,4844,5119,4744,4010,4835,4507,4790,4991,5202,5305,4708,4648,5225,5515,5362,5119,4649,6043,4665,4629,4592,4040,5336,4881,4086,4258,4342,5084,5538,5923,5302,4458,4541,4332,3784,3387,3285,3606,3840,4590,4656,4390,3846,4475,4302,4266,4845,3574,4576,4866,4294,3785,4326,4602,4780,4792,4905,4150,3820,4338,4725,4694,3805,4153,5191,3873,4758,5895,5130,3542,4661,1115,4334,4634,5204,5058,5115,4727,4484,4940,3351,2710,1996,1842,3544,5345,5046,4713,4763,4785,3659,4760,4511,4274,4539,3641,4352,4795,2395,5423,5010,4630,4120,3907,4839,5202,2429,2918,3570,4456,4826,4765,4985,5409,5511,5117,4563,2416,2913,3644,5217,5041,4570,4748,2424,4195,4304,4308,4381,4187,4687,3894,2659,3747,627,3331,3669,4068,4186,3974,4046,3926,3649,4035,4205,4109,2933,3368,4067,3717,4486,4195,1817,3053,3392,3663,3520,2765,1607,2566,1495,2792,3068,3071,3867,2914,3613,3727,3940,3614,3485,3811,2594,705,3322,3620,3190,2743,3310,3523,3740,3709,3577,2739,2431,3403,3750,2660,3068,2209,1011,754,1317,1162,2302,2423,2999,2485,2294,1951,2236,2368,3272,4098,4521,3425,2376,3598,2177,4097,3214,2493,2311,2298,2935,3376,3292,3163,1301,1977,2432,4339,4270,4075,3456,4023,3243,3624,4509,4579,3761,4151,2832,2947,3784,4375,2802,3830,3831,2169,1529,3422,3922,4169,3005,4154,4318,2689,3129,3777,4773,5062,3487,2732,3389,4322,4363,4990,3194,4066,3423,3333,3956,4916,5382,4569,4118,4911,5298,5847,6312,6192,4378,7836,5892,6153,6093,6230,6871,8362,3372,4996,5558,5102,5698,6133,5459,6235,6041,5936,6772,6436,6457,6460,6857,5169,5585,5918,4862,5409,6398,7460,7132,6370,6691,4367,6565,7290,6624,1027,3214,5633,6196,5026,6233,4220,6304,5572,5740,6169,6421,6296,6883,6359,6273,5728,4717,6572,7030,7429,6118,2843,5115,7424,7384,7639,8294,7129,4359,6073,5260,6770,6734,6536,6591,6043,5743,6855,7338,4127,8120,7641,6998,7001,7055,7494,7736,7498,6598,6664,4972,7421,7363,7665,7702,6978,5099,6825,6211,5905,5823,7458,6891,6779,7442,7335,6879,5463,5687,5531,6227,6660,7403,6241,6207,4840,4672,6569,6290,7264,7446,7499,6969,6031,6830,6786,5713,6591,5870,4459,7410,6966,7592,8173,6861,6904,6685,6597,7105,7216,7580,7261,7175,6824,5464,7013,7273,7534,7286,5786,6299,6544,6883,6784,7347,7605,7148,7865,4549,6530,7006,7375,7765,7582,6053,5255,6917,7040,7697,7713,7350,6140,5810,6034,6864,7112,6203,7504,5976,8227,7525,7767,7870,7804,8009,8714,7333,6869,4073,7591,7720,8167,8395,7907,7436,7538,7733,7393,7415,8555,6889,6778,4639,7572,7328,8156,7965,3510,5478,6392,7691,7570,7282,7109,6639,5875,7534,7461,7509,5424,8090,6824,7058,7466,7693,7359,7444,7852,4459,22,1096,5566,5986,5847,5138,5107,5259,5686,5035,5315,5992,6536,6852,6269,4094,5495,5445,5698,5629,4669,5499,5634,5146,2425,3910,2277,2424,5087,3959,5260,5323,5668,5191,4649,6234,6606,5729,5375,5008,5582,3228,5170,5501,5319,5532,5611,5047,3786,4585,5557,5267,4128,3623,1749,1787,920,1013,441,2114,3095,1341,1796,2729],\"xaxis\":\"x\",\"yaxis\":\"y\",\"type\":\"histogram\"}],                        {\"template\":{\"data\":{\"histogram2dcontour\":[{\"type\":\"histogram2dcontour\",\"colorbar\":{\"outlinewidth\":0,\"ticks\":\"\"},\"colorscale\":[[0.0,\"#0d0887\"],[0.1111111111111111,\"#46039f\"],[0.2222222222222222,\"#7201a8\"],[0.3333333333333333,\"#9c179e\"],[0.4444444444444444,\"#bd3786\"],[0.5555555555555556,\"#d8576b\"],[0.6666666666666666,\"#ed7953\"],[0.7777777777777778,\"#fb9f3a\"],[0.8888888888888888,\"#fdca26\"],[1.0,\"#f0f921\"]]}],\"choropleth\":[{\"type\":\"choropleth\",\"colorbar\":{\"outlinewidth\":0,\"ticks\":\"\"}}],\"histogram2d\":[{\"type\":\"histogram2d\",\"colorbar\":{\"outlinewidth\":0,\"ticks\":\"\"},\"colorscale\":[[0.0,\"#0d0887\"],[0.1111111111111111,\"#46039f\"],[0.2222222222222222,\"#7201a8\"],[0.3333333333333333,\"#9c179e\"],[0.4444444444444444,\"#bd3786\"],[0.5555555555555556,\"#d8576b\"],[0.6666666666666666,\"#ed7953\"],[0.7777777777777778,\"#fb9f3a\"],[0.8888888888888888,\"#fdca26\"],[1.0,\"#f0f921\"]]}],\"heatmap\":[{\"type\":\"heatmap\",\"colorbar\":{\"outlinewidth\":0,\"ticks\":\"\"},\"colorscale\":[[0.0,\"#0d0887\"],[0.1111111111111111,\"#46039f\"],[0.2222222222222222,\"#7201a8\"],[0.3333333333333333,\"#9c179e\"],[0.4444444444444444,\"#bd3786\"],[0.5555555555555556,\"#d8576b\"],[0.6666666666666666,\"#ed7953\"],[0.7777777777777778,\"#fb9f3a\"],[0.8888888888888888,\"#fdca26\"],[1.0,\"#f0f921\"]]}],\"heatmapgl\":[{\"type\":\"heatmapgl\",\"colorbar\":{\"outlinewidth\":0,\"ticks\":\"\"},\"colorscale\":[[0.0,\"#0d0887\"],[0.1111111111111111,\"#46039f\"],[0.2222222222222222,\"#7201a8\"],[0.3333333333333333,\"#9c179e\"],[0.4444444444444444,\"#bd3786\"],[0.5555555555555556,\"#d8576b\"],[0.6666666666666666,\"#ed7953\"],[0.7777777777777778,\"#fb9f3a\"],[0.8888888888888888,\"#fdca26\"],[1.0,\"#f0f921\"]]}],\"contourcarpet\":[{\"type\":\"contourcarpet\",\"colorbar\":{\"outlinewidth\":0,\"ticks\":\"\"}}],\"contour\":[{\"type\":\"contour\",\"colorbar\":{\"outlinewidth\":0,\"ticks\":\"\"},\"colorscale\":[[0.0,\"#0d0887\"],[0.1111111111111111,\"#46039f\"],[0.2222222222222222,\"#7201a8\"],[0.3333333333333333,\"#9c179e\"],[0.4444444444444444,\"#bd3786\"],[0.5555555555555556,\"#d8576b\"],[0.6666666666666666,\"#ed7953\"],[0.7777777777777778,\"#fb9f3a\"],[0.8888888888888888,\"#fdca26\"],[1.0,\"#f0f921\"]]}],\"surface\":[{\"type\":\"surface\",\"colorbar\":{\"outlinewidth\":0,\"ticks\":\"\"},\"colorscale\":[[0.0,\"#0d0887\"],[0.1111111111111111,\"#46039f\"],[0.2222222222222222,\"#7201a8\"],[0.3333333333333333,\"#9c179e\"],[0.4444444444444444,\"#bd3786\"],[0.5555555555555556,\"#d8576b\"],[0.6666666666666666,\"#ed7953\"],[0.7777777777777778,\"#fb9f3a\"],[0.8888888888888888,\"#fdca26\"],[1.0,\"#f0f921\"]]}],\"mesh3d\":[{\"type\":\"mesh3d\",\"colorbar\":{\"outlinewidth\":0,\"ticks\":\"\"}}],\"scatter\":[{\"fillpattern\":{\"fillmode\":\"overlay\",\"size\":10,\"solidity\":0.2},\"type\":\"scatter\"}],\"parcoords\":[{\"type\":\"parcoords\",\"line\":{\"colorbar\":{\"outlinewidth\":0,\"ticks\":\"\"}}}],\"scatterpolargl\":[{\"type\":\"scatterpolargl\",\"marker\":{\"colorbar\":{\"outlinewidth\":0,\"ticks\":\"\"}}}],\"bar\":[{\"error_x\":{\"color\":\"#2a3f5f\"},\"error_y\":{\"color\":\"#2a3f5f\"},\"marker\":{\"line\":{\"color\":\"#E5ECF6\",\"width\":0.5},\"pattern\":{\"fillmode\":\"overlay\",\"size\":10,\"solidity\":0.2}},\"type\":\"bar\"}],\"scattergeo\":[{\"type\":\"scattergeo\",\"marker\":{\"colorbar\":{\"outlinewidth\":0,\"ticks\":\"\"}}}],\"scatterpolar\":[{\"type\":\"scatterpolar\",\"marker\":{\"colorbar\":{\"outlinewidth\":0,\"ticks\":\"\"}}}],\"histogram\":[{\"marker\":{\"pattern\":{\"fillmode\":\"overlay\",\"size\":10,\"solidity\":0.2}},\"type\":\"histogram\"}],\"scattergl\":[{\"type\":\"scattergl\",\"marker\":{\"colorbar\":{\"outlinewidth\":0,\"ticks\":\"\"}}}],\"scatter3d\":[{\"type\":\"scatter3d\",\"line\":{\"colorbar\":{\"outlinewidth\":0,\"ticks\":\"\"}},\"marker\":{\"colorbar\":{\"outlinewidth\":0,\"ticks\":\"\"}}}],\"scattermapbox\":[{\"type\":\"scattermapbox\",\"marker\":{\"colorbar\":{\"outlinewidth\":0,\"ticks\":\"\"}}}],\"scatterternary\":[{\"type\":\"scatterternary\",\"marker\":{\"colorbar\":{\"outlinewidth\":0,\"ticks\":\"\"}}}],\"scattercarpet\":[{\"type\":\"scattercarpet\",\"marker\":{\"colorbar\":{\"outlinewidth\":0,\"ticks\":\"\"}}}],\"carpet\":[{\"aaxis\":{\"endlinecolor\":\"#2a3f5f\",\"gridcolor\":\"white\",\"linecolor\":\"white\",\"minorgridcolor\":\"white\",\"startlinecolor\":\"#2a3f5f\"},\"baxis\":{\"endlinecolor\":\"#2a3f5f\",\"gridcolor\":\"white\",\"linecolor\":\"white\",\"minorgridcolor\":\"white\",\"startlinecolor\":\"#2a3f5f\"},\"type\":\"carpet\"}],\"table\":[{\"cells\":{\"fill\":{\"color\":\"#EBF0F8\"},\"line\":{\"color\":\"white\"}},\"header\":{\"fill\":{\"color\":\"#C8D4E3\"},\"line\":{\"color\":\"white\"}},\"type\":\"table\"}],\"barpolar\":[{\"marker\":{\"line\":{\"color\":\"#E5ECF6\",\"width\":0.5},\"pattern\":{\"fillmode\":\"overlay\",\"size\":10,\"solidity\":0.2}},\"type\":\"barpolar\"}],\"pie\":[{\"automargin\":true,\"type\":\"pie\"}]},\"layout\":{\"autotypenumbers\":\"strict\",\"colorway\":[\"#636efa\",\"#EF553B\",\"#00cc96\",\"#ab63fa\",\"#FFA15A\",\"#19d3f3\",\"#FF6692\",\"#B6E880\",\"#FF97FF\",\"#FECB52\"],\"font\":{\"color\":\"#2a3f5f\"},\"hovermode\":\"closest\",\"hoverlabel\":{\"align\":\"left\"},\"paper_bgcolor\":\"white\",\"plot_bgcolor\":\"#E5ECF6\",\"polar\":{\"bgcolor\":\"#E5ECF6\",\"angularaxis\":{\"gridcolor\":\"white\",\"linecolor\":\"white\",\"ticks\":\"\"},\"radialaxis\":{\"gridcolor\":\"white\",\"linecolor\":\"white\",\"ticks\":\"\"}},\"ternary\":{\"bgcolor\":\"#E5ECF6\",\"aaxis\":{\"gridcolor\":\"white\",\"linecolor\":\"white\",\"ticks\":\"\"},\"baxis\":{\"gridcolor\":\"white\",\"linecolor\":\"white\",\"ticks\":\"\"},\"caxis\":{\"gridcolor\":\"white\",\"linecolor\":\"white\",\"ticks\":\"\"}},\"coloraxis\":{\"colorbar\":{\"outlinewidth\":0,\"ticks\":\"\"}},\"colorscale\":{\"sequential\":[[0.0,\"#0d0887\"],[0.1111111111111111,\"#46039f\"],[0.2222222222222222,\"#7201a8\"],[0.3333333333333333,\"#9c179e\"],[0.4444444444444444,\"#bd3786\"],[0.5555555555555556,\"#d8576b\"],[0.6666666666666666,\"#ed7953\"],[0.7777777777777778,\"#fb9f3a\"],[0.8888888888888888,\"#fdca26\"],[1.0,\"#f0f921\"]],\"sequentialminus\":[[0.0,\"#0d0887\"],[0.1111111111111111,\"#46039f\"],[0.2222222222222222,\"#7201a8\"],[0.3333333333333333,\"#9c179e\"],[0.4444444444444444,\"#bd3786\"],[0.5555555555555556,\"#d8576b\"],[0.6666666666666666,\"#ed7953\"],[0.7777777777777778,\"#fb9f3a\"],[0.8888888888888888,\"#fdca26\"],[1.0,\"#f0f921\"]],\"diverging\":[[0,\"#8e0152\"],[0.1,\"#c51b7d\"],[0.2,\"#de77ae\"],[0.3,\"#f1b6da\"],[0.4,\"#fde0ef\"],[0.5,\"#f7f7f7\"],[0.6,\"#e6f5d0\"],[0.7,\"#b8e186\"],[0.8,\"#7fbc41\"],[0.9,\"#4d9221\"],[1,\"#276419\"]]},\"xaxis\":{\"gridcolor\":\"white\",\"linecolor\":\"white\",\"ticks\":\"\",\"title\":{\"standoff\":15},\"zerolinecolor\":\"white\",\"automargin\":true,\"zerolinewidth\":2},\"yaxis\":{\"gridcolor\":\"white\",\"linecolor\":\"white\",\"ticks\":\"\",\"title\":{\"standoff\":15},\"zerolinecolor\":\"white\",\"automargin\":true,\"zerolinewidth\":2},\"scene\":{\"xaxis\":{\"backgroundcolor\":\"#E5ECF6\",\"gridcolor\":\"white\",\"linecolor\":\"white\",\"showbackground\":true,\"ticks\":\"\",\"zerolinecolor\":\"white\",\"gridwidth\":2},\"yaxis\":{\"backgroundcolor\":\"#E5ECF6\",\"gridcolor\":\"white\",\"linecolor\":\"white\",\"showbackground\":true,\"ticks\":\"\",\"zerolinecolor\":\"white\",\"gridwidth\":2},\"zaxis\":{\"backgroundcolor\":\"#E5ECF6\",\"gridcolor\":\"white\",\"linecolor\":\"white\",\"showbackground\":true,\"ticks\":\"\",\"zerolinecolor\":\"white\",\"gridwidth\":2}},\"shapedefaults\":{\"line\":{\"color\":\"#2a3f5f\"}},\"annotationdefaults\":{\"arrowcolor\":\"#2a3f5f\",\"arrowhead\":0,\"arrowwidth\":1},\"geo\":{\"bgcolor\":\"white\",\"landcolor\":\"#E5ECF6\",\"subunitcolor\":\"white\",\"showland\":true,\"showlakes\":true,\"lakecolor\":\"white\"},\"title\":{\"x\":0.05},\"mapbox\":{\"style\":\"light\"}}},\"xaxis\":{\"anchor\":\"y\",\"domain\":[0.0,1.0],\"title\":{\"text\":\"cnt\"}},\"yaxis\":{\"anchor\":\"x\",\"domain\":[0.0,1.0],\"title\":{\"text\":\"count\"}},\"legend\":{\"tracegroupgap\":0},\"title\":{\"text\":\"Histogram of values for cnt\"},\"barmode\":\"relative\"},                        {\"responsive\": true}                    ).then(function(){\n                            \nvar gd = document.getElementById('d1299844-aff0-443d-a3fd-4b313880fa4f');\nvar x = new MutationObserver(function (mutations, observer) {{\n        var display = window.getComputedStyle(gd).display;\n        if (!display || display === 'none') {{\n            console.log([gd, 'removed!']);\n            Plotly.purge(gd);\n            observer.disconnect();\n        }}\n}});\n\n// Listen for the removal of the full notebook cells\nvar notebookContainer = gd.closest('#notebook-container');\nif (notebookContainer) {{\n    x.observe(notebookContainer, {childList: true});\n}}\n\n// Listen for the clearing of the current output cell\nvar outputEl = gd.closest('.output');\nif (outputEl) {{\n    x.observe(outputEl, {childList: true});\n}}\n\n                        })                };                            </script>        </div>\n</body>\n</html>"
     },
     "metadata": {},
     "output_type": "display_data"
    },
    {
     "data": {
      "text/html": "<html>\n<head><meta charset=\"utf-8\" /></head>\n<body>\n    <div>            <script src=\"https://cdnjs.cloudflare.com/ajax/libs/mathjax/2.7.5/MathJax.js?config=TeX-AMS-MML_SVG\"></script><script type=\"text/javascript\">if (window.MathJax && window.MathJax.Hub && window.MathJax.Hub.Config) {window.MathJax.Hub.Config({SVG: {font: \"STIX-Web\"}});}</script>                <script type=\"text/javascript\">window.PlotlyConfig = {MathJaxConfig: 'local'};</script>\n        <script src=\"https://cdn.plot.ly/plotly-2.14.0.min.js\"></script>                <div id=\"8f1c75b1-8a6f-43f7-8901-b4fc1f65e0bb\" class=\"plotly-graph-div\" style=\"height:525px; width:100%;\"></div>            <script type=\"text/javascript\">                                    window.PLOTLYENV=window.PLOTLYENV || {};                                    if (document.getElementById(\"8f1c75b1-8a6f-43f7-8901-b4fc1f65e0bb\")) {                    Plotly.newPlot(                        \"8f1c75b1-8a6f-43f7-8901-b4fc1f65e0bb\",                        [{\"alignmentgroup\":\"True\",\"hovertemplate\":\"cnt=%{y}<extra></extra>\",\"legendgroup\":\"\",\"marker\":{\"color\":\"#636efa\"},\"name\":\"\",\"notched\":false,\"offsetgroup\":\"\",\"orientation\":\"v\",\"showlegend\":false,\"x\":[985,801,1349,1562,1600,1606,1510,959,822,1321,1263,1162,1406,1421,1248,1204,1000,683,1650,1927,1543,981,986,1416,1985,506,431,1167,1098,1096,1501,1360,1526,1550,1708,1005,1623,1712,1530,1605,1538,1746,1472,1589,1913,1815,2115,2475,2927,1635,1812,1107,1450,1917,1807,1461,1969,2402,1446,1851,2134,1685,1944,2077,605,1872,2133,1891,623,1977,2132,2417,2046,2056,2192,2744,3239,3117,2471,2077,2703,2121,1865,2210,2496,1693,2028,2425,1536,1685,2227,2252,3249,3115,1795,2808,3141,1471,2455,2895,3348,2034,2162,3267,3126,795,3744,3429,3204,3944,4189,1683,4036,4191,4073,4400,3872,4058,4595,5312,3351,4401,4451,2633,4433,4608,4714,4333,4362,4803,4182,4864,4105,3409,4553,3958,4123,3855,4575,4917,5805,4660,4274,4492,4978,4677,4679,4758,4788,4098,3982,3974,4968,5312,5342,4906,4548,4833,4401,3915,4586,4966,4460,5020,4891,5180,3767,4844,5119,4744,4010,4835,4507,4790,4991,5202,5305,4708,4648,5225,5515,5362,5119,4649,6043,4665,4629,4592,4040,5336,4881,4086,4258,4342,5084,5538,5923,5302,4458,4541,4332,3784,3387,3285,3606,3840,4590,4656,4390,3846,4475,4302,4266,4845,3574,4576,4866,4294,3785,4326,4602,4780,4792,4905,4150,3820,4338,4725,4694,3805,4153,5191,3873,4758,5895,5130,3542,4661,1115,4334,4634,5204,5058,5115,4727,4484,4940,3351,2710,1996,1842,3544,5345,5046,4713,4763,4785,3659,4760,4511,4274,4539,3641,4352,4795,2395,5423,5010,4630,4120,3907,4839,5202,2429,2918,3570,4456,4826,4765,4985,5409,5511,5117,4563,2416,2913,3644,5217,5041,4570,4748,2424,4195,4304,4308,4381,4187,4687,3894,2659,3747,627,3331,3669,4068,4186,3974,4046,3926,3649,4035,4205,4109,2933,3368,4067,3717,4486,4195,1817,3053,3392,3663,3520,2765,1607,2566,1495,2792,3068,3071,3867,2914,3613,3727,3940,3614,3485,3811,2594,705,3322,3620,3190,2743,3310,3523,3740,3709,3577,2739,2431,3403,3750,2660,3068,2209,1011,754,1317,1162,2302,2423,2999,2485,2294,1951,2236,2368,3272,4098,4521,3425,2376,3598,2177,4097,3214,2493,2311,2298,2935,3376,3292,3163,1301,1977,2432,4339,4270,4075,3456,4023,3243,3624,4509,4579,3761,4151,2832,2947,3784,4375,2802,3830,3831,2169,1529,3422,3922,4169,3005,4154,4318,2689,3129,3777,4773,5062,3487,2732,3389,4322,4363,4990,3194,4066,3423,3333,3956,4916,5382,4569,4118,4911,5298,5847,6312,6192,4378,7836,5892,6153,6093,6230,6871,8362,3372,4996,5558,5102,5698,6133,5459,6235,6041,5936,6772,6436,6457,6460,6857,5169,5585,5918,4862,5409,6398,7460,7132,6370,6691,4367,6565,7290,6624,1027,3214,5633,6196,5026,6233,4220,6304,5572,5740,6169,6421,6296,6883,6359,6273,5728,4717,6572,7030,7429,6118,2843,5115,7424,7384,7639,8294,7129,4359,6073,5260,6770,6734,6536,6591,6043,5743,6855,7338,4127,8120,7641,6998,7001,7055,7494,7736,7498,6598,6664,4972,7421,7363,7665,7702,6978,5099,6825,6211,5905,5823,7458,6891,6779,7442,7335,6879,5463,5687,5531,6227,6660,7403,6241,6207,4840,4672,6569,6290,7264,7446,7499,6969,6031,6830,6786,5713,6591,5870,4459,7410,6966,7592,8173,6861,6904,6685,6597,7105,7216,7580,7261,7175,6824,5464,7013,7273,7534,7286,5786,6299,6544,6883,6784,7347,7605,7148,7865,4549,6530,7006,7375,7765,7582,6053,5255,6917,7040,7697,7713,7350,6140,5810,6034,6864,7112,6203,7504,5976,8227,7525,7767,7870,7804,8009,8714,7333,6869,4073,7591,7720,8167,8395,7907,7436,7538,7733,7393,7415,8555,6889,6778,4639,7572,7328,8156,7965,3510,5478,6392,7691,7570,7282,7109,6639,5875,7534,7461,7509,5424,8090,6824,7058,7466,7693,7359,7444,7852,4459,22,1096,5566,5986,5847,5138,5107,5259,5686,5035,5315,5992,6536,6852,6269,4094,5495,5445,5698,5629,4669,5499,5634,5146,2425,3910,2277,2424,5087,3959,5260,5323,5668,5191,4649,6234,6606,5729,5375,5008,5582,3228,5170,5501,5319,5532,5611,5047,3786,4585,5557,5267,4128,3623,1749,1787,920,1013,441,2114,3095,1341,1796,2729],\"x0\":\" \",\"xaxis\":\"x\",\"y\":[985,801,1349,1562,1600,1606,1510,959,822,1321,1263,1162,1406,1421,1248,1204,1000,683,1650,1927,1543,981,986,1416,1985,506,431,1167,1098,1096,1501,1360,1526,1550,1708,1005,1623,1712,1530,1605,1538,1746,1472,1589,1913,1815,2115,2475,2927,1635,1812,1107,1450,1917,1807,1461,1969,2402,1446,1851,2134,1685,1944,2077,605,1872,2133,1891,623,1977,2132,2417,2046,2056,2192,2744,3239,3117,2471,2077,2703,2121,1865,2210,2496,1693,2028,2425,1536,1685,2227,2252,3249,3115,1795,2808,3141,1471,2455,2895,3348,2034,2162,3267,3126,795,3744,3429,3204,3944,4189,1683,4036,4191,4073,4400,3872,4058,4595,5312,3351,4401,4451,2633,4433,4608,4714,4333,4362,4803,4182,4864,4105,3409,4553,3958,4123,3855,4575,4917,5805,4660,4274,4492,4978,4677,4679,4758,4788,4098,3982,3974,4968,5312,5342,4906,4548,4833,4401,3915,4586,4966,4460,5020,4891,5180,3767,4844,5119,4744,4010,4835,4507,4790,4991,5202,5305,4708,4648,5225,5515,5362,5119,4649,6043,4665,4629,4592,4040,5336,4881,4086,4258,4342,5084,5538,5923,5302,4458,4541,4332,3784,3387,3285,3606,3840,4590,4656,4390,3846,4475,4302,4266,4845,3574,4576,4866,4294,3785,4326,4602,4780,4792,4905,4150,3820,4338,4725,4694,3805,4153,5191,3873,4758,5895,5130,3542,4661,1115,4334,4634,5204,5058,5115,4727,4484,4940,3351,2710,1996,1842,3544,5345,5046,4713,4763,4785,3659,4760,4511,4274,4539,3641,4352,4795,2395,5423,5010,4630,4120,3907,4839,5202,2429,2918,3570,4456,4826,4765,4985,5409,5511,5117,4563,2416,2913,3644,5217,5041,4570,4748,2424,4195,4304,4308,4381,4187,4687,3894,2659,3747,627,3331,3669,4068,4186,3974,4046,3926,3649,4035,4205,4109,2933,3368,4067,3717,4486,4195,1817,3053,3392,3663,3520,2765,1607,2566,1495,2792,3068,3071,3867,2914,3613,3727,3940,3614,3485,3811,2594,705,3322,3620,3190,2743,3310,3523,3740,3709,3577,2739,2431,3403,3750,2660,3068,2209,1011,754,1317,1162,2302,2423,2999,2485,2294,1951,2236,2368,3272,4098,4521,3425,2376,3598,2177,4097,3214,2493,2311,2298,2935,3376,3292,3163,1301,1977,2432,4339,4270,4075,3456,4023,3243,3624,4509,4579,3761,4151,2832,2947,3784,4375,2802,3830,3831,2169,1529,3422,3922,4169,3005,4154,4318,2689,3129,3777,4773,5062,3487,2732,3389,4322,4363,4990,3194,4066,3423,3333,3956,4916,5382,4569,4118,4911,5298,5847,6312,6192,4378,7836,5892,6153,6093,6230,6871,8362,3372,4996,5558,5102,5698,6133,5459,6235,6041,5936,6772,6436,6457,6460,6857,5169,5585,5918,4862,5409,6398,7460,7132,6370,6691,4367,6565,7290,6624,1027,3214,5633,6196,5026,6233,4220,6304,5572,5740,6169,6421,6296,6883,6359,6273,5728,4717,6572,7030,7429,6118,2843,5115,7424,7384,7639,8294,7129,4359,6073,5260,6770,6734,6536,6591,6043,5743,6855,7338,4127,8120,7641,6998,7001,7055,7494,7736,7498,6598,6664,4972,7421,7363,7665,7702,6978,5099,6825,6211,5905,5823,7458,6891,6779,7442,7335,6879,5463,5687,5531,6227,6660,7403,6241,6207,4840,4672,6569,6290,7264,7446,7499,6969,6031,6830,6786,5713,6591,5870,4459,7410,6966,7592,8173,6861,6904,6685,6597,7105,7216,7580,7261,7175,6824,5464,7013,7273,7534,7286,5786,6299,6544,6883,6784,7347,7605,7148,7865,4549,6530,7006,7375,7765,7582,6053,5255,6917,7040,7697,7713,7350,6140,5810,6034,6864,7112,6203,7504,5976,8227,7525,7767,7870,7804,8009,8714,7333,6869,4073,7591,7720,8167,8395,7907,7436,7538,7733,7393,7415,8555,6889,6778,4639,7572,7328,8156,7965,3510,5478,6392,7691,7570,7282,7109,6639,5875,7534,7461,7509,5424,8090,6824,7058,7466,7693,7359,7444,7852,4459,22,1096,5566,5986,5847,5138,5107,5259,5686,5035,5315,5992,6536,6852,6269,4094,5495,5445,5698,5629,4669,5499,5634,5146,2425,3910,2277,2424,5087,3959,5260,5323,5668,5191,4649,6234,6606,5729,5375,5008,5582,3228,5170,5501,5319,5532,5611,5047,3786,4585,5557,5267,4128,3623,1749,1787,920,1013,441,2114,3095,1341,1796,2729],\"y0\":\" \",\"yaxis\":\"y\",\"type\":\"box\"}],                        {\"template\":{\"data\":{\"histogram2dcontour\":[{\"type\":\"histogram2dcontour\",\"colorbar\":{\"outlinewidth\":0,\"ticks\":\"\"},\"colorscale\":[[0.0,\"#0d0887\"],[0.1111111111111111,\"#46039f\"],[0.2222222222222222,\"#7201a8\"],[0.3333333333333333,\"#9c179e\"],[0.4444444444444444,\"#bd3786\"],[0.5555555555555556,\"#d8576b\"],[0.6666666666666666,\"#ed7953\"],[0.7777777777777778,\"#fb9f3a\"],[0.8888888888888888,\"#fdca26\"],[1.0,\"#f0f921\"]]}],\"choropleth\":[{\"type\":\"choropleth\",\"colorbar\":{\"outlinewidth\":0,\"ticks\":\"\"}}],\"histogram2d\":[{\"type\":\"histogram2d\",\"colorbar\":{\"outlinewidth\":0,\"ticks\":\"\"},\"colorscale\":[[0.0,\"#0d0887\"],[0.1111111111111111,\"#46039f\"],[0.2222222222222222,\"#7201a8\"],[0.3333333333333333,\"#9c179e\"],[0.4444444444444444,\"#bd3786\"],[0.5555555555555556,\"#d8576b\"],[0.6666666666666666,\"#ed7953\"],[0.7777777777777778,\"#fb9f3a\"],[0.8888888888888888,\"#fdca26\"],[1.0,\"#f0f921\"]]}],\"heatmap\":[{\"type\":\"heatmap\",\"colorbar\":{\"outlinewidth\":0,\"ticks\":\"\"},\"colorscale\":[[0.0,\"#0d0887\"],[0.1111111111111111,\"#46039f\"],[0.2222222222222222,\"#7201a8\"],[0.3333333333333333,\"#9c179e\"],[0.4444444444444444,\"#bd3786\"],[0.5555555555555556,\"#d8576b\"],[0.6666666666666666,\"#ed7953\"],[0.7777777777777778,\"#fb9f3a\"],[0.8888888888888888,\"#fdca26\"],[1.0,\"#f0f921\"]]}],\"heatmapgl\":[{\"type\":\"heatmapgl\",\"colorbar\":{\"outlinewidth\":0,\"ticks\":\"\"},\"colorscale\":[[0.0,\"#0d0887\"],[0.1111111111111111,\"#46039f\"],[0.2222222222222222,\"#7201a8\"],[0.3333333333333333,\"#9c179e\"],[0.4444444444444444,\"#bd3786\"],[0.5555555555555556,\"#d8576b\"],[0.6666666666666666,\"#ed7953\"],[0.7777777777777778,\"#fb9f3a\"],[0.8888888888888888,\"#fdca26\"],[1.0,\"#f0f921\"]]}],\"contourcarpet\":[{\"type\":\"contourcarpet\",\"colorbar\":{\"outlinewidth\":0,\"ticks\":\"\"}}],\"contour\":[{\"type\":\"contour\",\"colorbar\":{\"outlinewidth\":0,\"ticks\":\"\"},\"colorscale\":[[0.0,\"#0d0887\"],[0.1111111111111111,\"#46039f\"],[0.2222222222222222,\"#7201a8\"],[0.3333333333333333,\"#9c179e\"],[0.4444444444444444,\"#bd3786\"],[0.5555555555555556,\"#d8576b\"],[0.6666666666666666,\"#ed7953\"],[0.7777777777777778,\"#fb9f3a\"],[0.8888888888888888,\"#fdca26\"],[1.0,\"#f0f921\"]]}],\"surface\":[{\"type\":\"surface\",\"colorbar\":{\"outlinewidth\":0,\"ticks\":\"\"},\"colorscale\":[[0.0,\"#0d0887\"],[0.1111111111111111,\"#46039f\"],[0.2222222222222222,\"#7201a8\"],[0.3333333333333333,\"#9c179e\"],[0.4444444444444444,\"#bd3786\"],[0.5555555555555556,\"#d8576b\"],[0.6666666666666666,\"#ed7953\"],[0.7777777777777778,\"#fb9f3a\"],[0.8888888888888888,\"#fdca26\"],[1.0,\"#f0f921\"]]}],\"mesh3d\":[{\"type\":\"mesh3d\",\"colorbar\":{\"outlinewidth\":0,\"ticks\":\"\"}}],\"scatter\":[{\"fillpattern\":{\"fillmode\":\"overlay\",\"size\":10,\"solidity\":0.2},\"type\":\"scatter\"}],\"parcoords\":[{\"type\":\"parcoords\",\"line\":{\"colorbar\":{\"outlinewidth\":0,\"ticks\":\"\"}}}],\"scatterpolargl\":[{\"type\":\"scatterpolargl\",\"marker\":{\"colorbar\":{\"outlinewidth\":0,\"ticks\":\"\"}}}],\"bar\":[{\"error_x\":{\"color\":\"#2a3f5f\"},\"error_y\":{\"color\":\"#2a3f5f\"},\"marker\":{\"line\":{\"color\":\"#E5ECF6\",\"width\":0.5},\"pattern\":{\"fillmode\":\"overlay\",\"size\":10,\"solidity\":0.2}},\"type\":\"bar\"}],\"scattergeo\":[{\"type\":\"scattergeo\",\"marker\":{\"colorbar\":{\"outlinewidth\":0,\"ticks\":\"\"}}}],\"scatterpolar\":[{\"type\":\"scatterpolar\",\"marker\":{\"colorbar\":{\"outlinewidth\":0,\"ticks\":\"\"}}}],\"histogram\":[{\"marker\":{\"pattern\":{\"fillmode\":\"overlay\",\"size\":10,\"solidity\":0.2}},\"type\":\"histogram\"}],\"scattergl\":[{\"type\":\"scattergl\",\"marker\":{\"colorbar\":{\"outlinewidth\":0,\"ticks\":\"\"}}}],\"scatter3d\":[{\"type\":\"scatter3d\",\"line\":{\"colorbar\":{\"outlinewidth\":0,\"ticks\":\"\"}},\"marker\":{\"colorbar\":{\"outlinewidth\":0,\"ticks\":\"\"}}}],\"scattermapbox\":[{\"type\":\"scattermapbox\",\"marker\":{\"colorbar\":{\"outlinewidth\":0,\"ticks\":\"\"}}}],\"scatterternary\":[{\"type\":\"scatterternary\",\"marker\":{\"colorbar\":{\"outlinewidth\":0,\"ticks\":\"\"}}}],\"scattercarpet\":[{\"type\":\"scattercarpet\",\"marker\":{\"colorbar\":{\"outlinewidth\":0,\"ticks\":\"\"}}}],\"carpet\":[{\"aaxis\":{\"endlinecolor\":\"#2a3f5f\",\"gridcolor\":\"white\",\"linecolor\":\"white\",\"minorgridcolor\":\"white\",\"startlinecolor\":\"#2a3f5f\"},\"baxis\":{\"endlinecolor\":\"#2a3f5f\",\"gridcolor\":\"white\",\"linecolor\":\"white\",\"minorgridcolor\":\"white\",\"startlinecolor\":\"#2a3f5f\"},\"type\":\"carpet\"}],\"table\":[{\"cells\":{\"fill\":{\"color\":\"#EBF0F8\"},\"line\":{\"color\":\"white\"}},\"header\":{\"fill\":{\"color\":\"#C8D4E3\"},\"line\":{\"color\":\"white\"}},\"type\":\"table\"}],\"barpolar\":[{\"marker\":{\"line\":{\"color\":\"#E5ECF6\",\"width\":0.5},\"pattern\":{\"fillmode\":\"overlay\",\"size\":10,\"solidity\":0.2}},\"type\":\"barpolar\"}],\"pie\":[{\"automargin\":true,\"type\":\"pie\"}]},\"layout\":{\"autotypenumbers\":\"strict\",\"colorway\":[\"#636efa\",\"#EF553B\",\"#00cc96\",\"#ab63fa\",\"#FFA15A\",\"#19d3f3\",\"#FF6692\",\"#B6E880\",\"#FF97FF\",\"#FECB52\"],\"font\":{\"color\":\"#2a3f5f\"},\"hovermode\":\"closest\",\"hoverlabel\":{\"align\":\"left\"},\"paper_bgcolor\":\"white\",\"plot_bgcolor\":\"#E5ECF6\",\"polar\":{\"bgcolor\":\"#E5ECF6\",\"angularaxis\":{\"gridcolor\":\"white\",\"linecolor\":\"white\",\"ticks\":\"\"},\"radialaxis\":{\"gridcolor\":\"white\",\"linecolor\":\"white\",\"ticks\":\"\"}},\"ternary\":{\"bgcolor\":\"#E5ECF6\",\"aaxis\":{\"gridcolor\":\"white\",\"linecolor\":\"white\",\"ticks\":\"\"},\"baxis\":{\"gridcolor\":\"white\",\"linecolor\":\"white\",\"ticks\":\"\"},\"caxis\":{\"gridcolor\":\"white\",\"linecolor\":\"white\",\"ticks\":\"\"}},\"coloraxis\":{\"colorbar\":{\"outlinewidth\":0,\"ticks\":\"\"}},\"colorscale\":{\"sequential\":[[0.0,\"#0d0887\"],[0.1111111111111111,\"#46039f\"],[0.2222222222222222,\"#7201a8\"],[0.3333333333333333,\"#9c179e\"],[0.4444444444444444,\"#bd3786\"],[0.5555555555555556,\"#d8576b\"],[0.6666666666666666,\"#ed7953\"],[0.7777777777777778,\"#fb9f3a\"],[0.8888888888888888,\"#fdca26\"],[1.0,\"#f0f921\"]],\"sequentialminus\":[[0.0,\"#0d0887\"],[0.1111111111111111,\"#46039f\"],[0.2222222222222222,\"#7201a8\"],[0.3333333333333333,\"#9c179e\"],[0.4444444444444444,\"#bd3786\"],[0.5555555555555556,\"#d8576b\"],[0.6666666666666666,\"#ed7953\"],[0.7777777777777778,\"#fb9f3a\"],[0.8888888888888888,\"#fdca26\"],[1.0,\"#f0f921\"]],\"diverging\":[[0,\"#8e0152\"],[0.1,\"#c51b7d\"],[0.2,\"#de77ae\"],[0.3,\"#f1b6da\"],[0.4,\"#fde0ef\"],[0.5,\"#f7f7f7\"],[0.6,\"#e6f5d0\"],[0.7,\"#b8e186\"],[0.8,\"#7fbc41\"],[0.9,\"#4d9221\"],[1,\"#276419\"]]},\"xaxis\":{\"gridcolor\":\"white\",\"linecolor\":\"white\",\"ticks\":\"\",\"title\":{\"standoff\":15},\"zerolinecolor\":\"white\",\"automargin\":true,\"zerolinewidth\":2},\"yaxis\":{\"gridcolor\":\"white\",\"linecolor\":\"white\",\"ticks\":\"\",\"title\":{\"standoff\":15},\"zerolinecolor\":\"white\",\"automargin\":true,\"zerolinewidth\":2},\"scene\":{\"xaxis\":{\"backgroundcolor\":\"#E5ECF6\",\"gridcolor\":\"white\",\"linecolor\":\"white\",\"showbackground\":true,\"ticks\":\"\",\"zerolinecolor\":\"white\",\"gridwidth\":2},\"yaxis\":{\"backgroundcolor\":\"#E5ECF6\",\"gridcolor\":\"white\",\"linecolor\":\"white\",\"showbackground\":true,\"ticks\":\"\",\"zerolinecolor\":\"white\",\"gridwidth\":2},\"zaxis\":{\"backgroundcolor\":\"#E5ECF6\",\"gridcolor\":\"white\",\"linecolor\":\"white\",\"showbackground\":true,\"ticks\":\"\",\"zerolinecolor\":\"white\",\"gridwidth\":2}},\"shapedefaults\":{\"line\":{\"color\":\"#2a3f5f\"}},\"annotationdefaults\":{\"arrowcolor\":\"#2a3f5f\",\"arrowhead\":0,\"arrowwidth\":1},\"geo\":{\"bgcolor\":\"white\",\"landcolor\":\"#E5ECF6\",\"subunitcolor\":\"white\",\"showland\":true,\"showlakes\":true,\"lakecolor\":\"white\"},\"title\":{\"x\":0.05},\"mapbox\":{\"style\":\"light\"}}},\"xaxis\":{\"anchor\":\"y\",\"domain\":[0.0,1.0],\"title\":{\"text\":\"cnt\"}},\"yaxis\":{\"anchor\":\"x\",\"domain\":[0.0,1.0],\"title\":{\"text\":\"cnt\"}},\"legend\":{\"tracegroupgap\":0},\"title\":{\"text\":\"Boxplot of values for cnt against our target variable cnt\"},\"boxmode\":\"group\"},                        {\"responsive\": true}                    ).then(function(){\n                            \nvar gd = document.getElementById('8f1c75b1-8a6f-43f7-8901-b4fc1f65e0bb');\nvar x = new MutationObserver(function (mutations, observer) {{\n        var display = window.getComputedStyle(gd).display;\n        if (!display || display === 'none') {{\n            console.log([gd, 'removed!']);\n            Plotly.purge(gd);\n            observer.disconnect();\n        }}\n}});\n\n// Listen for the removal of the full notebook cells\nvar notebookContainer = gd.closest('#notebook-container');\nif (notebookContainer) {{\n    x.observe(notebookContainer, {childList: true});\n}}\n\n// Listen for the clearing of the current output cell\nvar outputEl = gd.closest('.output');\nif (outputEl) {{\n    x.observe(outputEl, {childList: true});\n}}\n\n                        })                };                            </script>        </div>\n</body>\n</html>"
     },
     "metadata": {},
     "output_type": "display_data"
    }
   ]
  },
  {
   "cell_type": "markdown",
   "source": "Our target variable looks like its in good condition. Let's visualize a quick heat mat to see if we can find any obvious correlations now that all of our data is numerical.",
   "metadata": {
    "formattedRanges": [],
    "is_collapsed": false,
    "cell_id": "bcecf6a0-3098-4002-88dc-07dc66ef75e2",
    "tags": [],
    "deepnote_cell_type": "text-cell-p"
   }
  },
  {
   "cell_type": "code",
   "metadata": {
    "cell_id": "29f7d556ff31434893bf691e112ddbf9",
    "tags": [],
    "deepnote_to_be_reexecuted": false,
    "source_hash": "3583fa30",
    "execution_start": 1663728013723,
    "execution_millis": 748,
    "deepnote_cell_type": "code",
    "deepnote_cell_height": 702,
    "deepnote_output_heights": [
     610
    ]
   },
   "source": "create_heatmap(numerical_data)",
   "execution_count": 27,
   "outputs": [
    {
     "data": {
      "text/html": "<html>\n<head><meta charset=\"utf-8\" /></head>\n<body>\n    <div>            <script src=\"https://cdnjs.cloudflare.com/ajax/libs/mathjax/2.7.5/MathJax.js?config=TeX-AMS-MML_SVG\"></script><script type=\"text/javascript\">if (window.MathJax && window.MathJax.Hub && window.MathJax.Hub.Config) {window.MathJax.Hub.Config({SVG: {font: \"STIX-Web\"}});}</script>                <script type=\"text/javascript\">window.PlotlyConfig = {MathJaxConfig: 'local'};</script>\n        <script src=\"https://cdn.plot.ly/plotly-2.14.0.min.js\"></script>                <div id=\"16f9b04d-313e-426e-b313-0a9f059d34f5\" class=\"plotly-graph-div\" style=\"height:800px; width:100%;\"></div>            <script type=\"text/javascript\">                                    window.PLOTLYENV=window.PLOTLYENV || {};                                    if (document.getElementById(\"16f9b04d-313e-426e-b313-0a9f059d34f5\")) {                    Plotly.newPlot(                        \"16f9b04d-313e-426e-b313-0a9f059d34f5\",                        [{\"x\":[\"yr\",\"holiday\",\"workingday\",\"temp\",\"atemp\",\"hum\",\"windspeed\",\"cnt\",\"august\",\"december\",\"feb\",\"jan\",\"july\",\"june\",\"march\",\"may\",\"november\",\"october\",\"september\",\"monday\",\"saturday\",\"sunday\",\"thursday\",\"tuesday\",\"wednesday\",\"light_snow\",\"misty\",\"spring\",\"summer\",\"winter\"],\"y\":[\"yr\",\"holiday\",\"workingday\",\"temp\",\"atemp\",\"hum\",\"windspeed\",\"cnt\",\"august\",\"december\",\"feb\",\"jan\",\"july\",\"june\",\"march\",\"may\",\"november\",\"october\",\"september\",\"monday\",\"saturday\",\"sunday\",\"thursday\",\"tuesday\",\"wednesday\",\"light_snow\",\"misty\",\"spring\",\"summer\",\"winter\"],\"z\":[[1.0,0.00819534489103433,-0.002945396302156467,0.048789192952589856,0.04721519160299868,-0.11254712339969726,-0.011624347793381586,0.5697284652110445,4.139280503507643e-17,3.7096681942473764e-17,-2.8015854315243063e-16,5.51676759034215e-17,1.4654553215877967e-16,-2.0896344971800145e-16,1.599112484468769e-16,7.671648379647611e-17,-2.983214535556763e-17,8.57178845619293e-17,-2.1387779384850103e-17,0.0039036002917940205,-5.819694458798696e-17,-0.0039036002917941285,-0.003935026099688392,0.0039036002917938895,-1.9504134887151516e-16,-0.07375810401930835,-0.005796151936939653,3.2250676446834855e-16,-1.7513582854184525e-17,-1.0962039007664686e-16],[0.00819534489103433,1.0,-0.25294774532876485,-0.02876407228678619,-0.032702854831218674,-0.01566158225535676,0.006257140056584132,-0.06876375304749031,-0.05243172464754977,0.006362682407306373,0.011980132277954622,0.035759885934734385,0.006362682407306373,-0.05150207816100042,-0.05243172464754981,0.006362682407306342,0.0678519442438577,0.006362682407306361,0.008174933041428654,-0.07054092831112846,-0.02325423007325919,-0.07054092831112843,-0.04621266802842428,0.2797643619414148,-0.04670117476038513,-0.029619181946403374,-0.018668075416473542,0.03464186610074315,-0.024408101266769924,0.016785053239212942],[-0.002945396302156467,-0.25294774532876485,1.0,0.05347048551426394,0.05294044491690086,0.02320176883687175,-0.0186659798263423,0.06254174970317232,0.03823776277511565,-0.014588820922526705,-0.0030927865135475293,-0.0251541376620559,-0.01458882092252712,0.02130093724705659,0.02767244603558682,0.006541812556529869,-0.010870823146773463,-0.004023504182998343,-0.010870823146773605,-0.6024193646531385,0.2604689696271981,-0.6024193646531385,0.2673050437403738,0.15297623144784817,0.26889577107321183,0.028990384782884564,0.04887703431140371,-0.027615197648658794,0.015091226219614558,-0.004623057552302509],[0.048789192952589856,-0.02876407228678619,0.05347048551426394,1.0,0.9916961786905638,0.12856467549038136,-0.15818637936955832,0.6270440344135135,0.35464787616176985,-0.28566449358000934,-0.31062605048168523,-0.43150503277260294,0.4327221634157885,0.30831387213950484,-0.17492286117851952,0.1651883981995512,-0.206690064897766,-0.017615838748269212,0.19772936314521378,-0.026801851349024887,-5.003258337620524e-06,-0.030362911160058955,0.023459158636467546,-0.004799217941749712,0.01935952459959575,-0.05846140518881659,-0.09629702440441472,-0.6194080075218313,0.15487561883667458,-0.22559004078426528],[0.04721519160299868,-0.032702854831218674,0.05294044491690086,0.9916961786905638,1.0,0.1415117247488017,-0.1838764039224192,0.6306853489531029,0.33093892479207015,-0.277483893231018,-0.3108452339506962,-0.4390064108193889,0.4293500653103742,0.30076806578465226,-0.1731348075841515,0.1704469278282769,-0.1968773362720865,-0.004775182643913162,0.19247743295714254,-0.02324660465237941,-0.008544144756855573,-0.03133956524087921,0.02084244311925171,9.129297643510042e-05,0.022045427141291766,-0.06493665831193686,-0.09293332175626273,-0.6247724368557962,0.1631512921287469,-0.20563428241207005],[-0.11254712339969726,-0.01566158225535676,0.02320176883687175,0.12856467549038136,0.1415117247488017,1.0,-0.24850586960205132,-0.09854287912248184,0.021580333558927415,0.08220022142728808,-0.130520574965831,-0.08955481514965176,-0.0637568453949742,-0.10904773285228832,-0.08388742551919014,0.13127310382201626,-0.005837192943654336,0.14155662943141575,0.18311805030776404,2.022943244937183e-05,-0.03980892955583664,-0.02331014542916658,0.04605933831811636,0.0285914985264838,0.04061569856082766,0.26759226613016496,0.4906279423444671,-0.1848839882982234,-0.0028700347336052838,0.16390762066522602],[-0.011624347793381586,0.006257140056584132,-0.0186659798263423,-0.15818637936955832,-0.1838764039224192,-0.24850586960205132,1.0,-0.23513249514103576,-0.06912465491155297,-0.05461551930488281,0.09609291328363556,0.06211669329195837,-0.09608996255812917,-0.01962362998465385,0.12657516120687046,-0.029534489044898152,-0.02587339290917282,-0.06013273802225995,-0.09482530243741609,-0.010429315074488927,-0.021632596164367236,0.03218736395572958,-0.014024987131069384,0.0009988390922283407,0.0069610949718409525,0.11733176509348156,-0.037177308285319684,0.17888008301051345,0.09742066575687483,-0.13561198004354155],[0.5697284652110445,-0.06876375304749031,0.06254174970317232,0.6270440344135135,0.6306853489531029,-0.09854287912248184,-0.23513249514103576,1.0,0.18210006179037805,-0.1738782308995132,-0.2738478461573499,-0.36716734752916597,0.16623624797924302,0.19556836683481693,-0.12845580915786473,0.13255294686440602,-0.04034360183915741,0.1088461203973657,0.19466350183493134,-0.05914607981065166,0.038402726941419725,0.009011582608986919,0.014012385240541462,-0.03599103736163539,0.000559689771007373,-0.2406017182852676,-0.17068578312164856,-0.5617017727137545,0.14532451548629646,0.06461908891675268],[4.139280503507643e-17,-0.05243172464754977,0.03823776277511565,0.35464787616176985,0.33093892479207015,0.021580333558927415,-0.06912465491155297,0.18210006179037805,1.0,-0.09281437125748503,-0.08781560116370868,-0.09281437125748501,-0.09281437125748505,-0.09116871579372093,-0.09281437125748498,-0.09281437125748508,-0.09116871579372102,-0.09281437125748504,-0.09116871579372096,-0.012851566520605083,0.002349480898038974,-0.012851566520605092,0.017672978006079695,0.0011508865540840007,0.002349480898038915,-0.05243172464754987,-0.01968039146015634,-0.17428600750358744,-0.17685616510144755,-0.1730007858103557],[3.7096681942473764e-17,0.006362682407306373,-0.014588820922526705,-0.28566449358000934,-0.277483893231018,0.08220022142728808,-0.05461551930488281,-0.1738782308995132,-0.09281437125748503,1.0,-0.08781560116370875,-0.09281437125748503,-0.09281437125748501,-0.09116871579372099,-0.09281437125748503,-0.09281437125748505,-0.09116871579372099,-0.09281437125748498,-0.09116871579372096,0.001150886554084039,0.002349480898038897,0.01515333962877318,-0.01055738073448531,0.0011508865540840098,-0.011708888409899119,0.03575988593473446,0.06348421499954919,0.07652342623365405,-0.1768561651014476,0.2847396043366529],[-2.8015854315243063e-16,0.011980132277954622,-0.0030927865135475293,-0.31062605048168523,-0.3108452339506962,-0.130520574965831,0.09609291328363556,-0.2738478461573499,-0.08781560116370868,-0.08781560116370875,1.0,-0.08781560116370875,-0.08781560116370861,-0.08625857694535936,-0.08781560116370866,-0.08781560116370864,-0.08625857694535947,-0.08781560116370875,-0.08625857694535938,-0.0008037137000583196,0.00032276927344095053,-0.0008037137000583603,0.0014583311481708417,-0.0008037137000583141,0.00032276927344100566,-0.018813869704111825,-0.009487306243057055,0.503859158985561,-0.16733109590115625,-0.16368335853490165],[5.51676759034215e-17,0.035759885934734385,-0.0251541376620559,-0.43150503277260294,-0.4390064108193889,-0.08955481514965176,0.06211669329195837,-0.36716734752916597,-0.09281437125748501,-0.09281437125748503,-0.08781560116370875,1.0,-0.09281437125748512,-0.09116871579372093,-0.09281437125748514,-0.09281437125748515,-0.09116871579372102,-0.09281437125748508,-0.09116871579372093,0.015153339628773186,-0.011708888409899079,0.0011508865540840543,-0.010557380734485233,0.01515333962877321,0.0023494808980390677,-0.02303452112012165,0.032297487577159605,0.5325405784831834,-0.17685616510144772,-0.17300078581035583],[1.4654553215877967e-16,0.006362682407306373,-0.01458882092252712,0.4327221634157885,0.4293500653103742,-0.0637568453949742,-0.09608996255812917,0.16623624797924302,-0.09281437125748505,-0.09281437125748501,-0.08781560116370861,-0.09281437125748512,1.0,-0.09116871579372093,-0.09281437125748505,-0.09281437125748515,-0.09116871579372099,-0.09281437125748508,-0.09116871579372093,0.01515333962877308,0.0023494808980389762,0.0011508865540840062,-0.01055738073448527,0.0011508865540839986,0.0023494808980389225,-0.023034521120121745,-0.11324057372732521,-0.1742860075035873,-0.17685616510144753,-0.17300078581035574],[-2.0896344971800145e-16,-0.05150207816100042,0.02130093724705659,0.30831387213950484,0.30076806578465226,-0.10904773285228832,-0.01962362998465385,0.19556836683481693,-0.09116871579372093,-0.09116871579372099,-0.08625857694535936,-0.09116871579372093,-0.09116871579372093,1.0,-0.091168715793721,-0.09116871579372099,-0.08955223880597012,-0.09116871579372102,-0.0895522388059701,-0.008955918791643426,0.006450554918728526,0.00525673494292109,0.007654189280919114,-0.008955918791643409,-0.007818854446943649,-0.051502078161000414,-0.06562247286125802,-0.1711958101923302,0.2857574651682428,-0.16993337626432242],[1.599112484468769e-16,-0.05243172464754981,0.02767244603558682,-0.17492286117851952,-0.1731348075841515,-0.08388742551919014,0.12657516120687046,-0.12845580915786473,-0.09281437125748498,-0.09281437125748503,-0.08781560116370866,-0.09281437125748514,-0.09281437125748505,-0.091168715793721,1.0,-0.09281437125748512,-0.0911687157937211,-0.09281437125748505,-0.09116871579372103,-0.012851566520605063,0.0023494808980389606,0.0011508865540840049,0.0035577986357972348,-0.012851566520605037,0.0023494808980389966,0.006362682407306335,0.03229748757715964,0.28173114474594296,0.07211911641408963,-0.17300078581035572],[7.671648379647611e-17,0.006362682407306342,0.006541812556529869,0.1651883981995512,0.1704469278282769,0.13127310382201626,-0.029534489044898152,0.13255294686440602,-0.09281437125748508,-0.09281437125748505,-0.08781560116370864,-0.09281437125748515,-0.09281437125748515,-0.09116871579372099,-0.09281437125748512,1.0,-0.09116871579372102,-0.09281437125748511,-0.09116871579372099,0.0011508865540840174,-0.011708888409899122,-0.012851566520605064,0.003557798635797271,0.0011508865540840348,0.016407850205977004,-0.05243172464754985,0.04269306338462292,-0.17428600750358744,0.5248014464423395,-0.17300078581035574],[-2.983214535556763e-17,0.0678519442438577,-0.010870823146773463,-0.206690064897766,-0.1968773362720865,-0.005837192943654336,-0.02587339290917282,-0.04034360183915741,-0.09116871579372102,-0.09116871579372099,-0.08625857694535947,-0.09116871579372102,-0.09116871579372099,-0.08955223880597012,-0.0911687157937211,-0.09116871579372102,1.0,-0.09116871579372102,-0.08955223880597017,-0.008955918791643373,0.006450554918728468,-0.008955918791643359,0.0076541892809191,-0.00895591879164341,0.006450554918728478,0.03801343864264308,-0.05507084176242142,-0.1711958101923304,-0.1737203973269494,0.526984402797225],[8.57178845619293e-17,0.006362682407306361,-0.004023504182998343,-0.017615838748269212,-0.004775182643913162,0.14155662943141575,-0.06013273802225995,0.1088461203973657,-0.09281437125748504,-0.09281437125748498,-0.08781560116370875,-0.09281437125748508,-0.09281437125748508,-0.09116871579372102,-0.09281437125748505,-0.09281437125748511,-0.09116871579372102,1.0,-0.09116871579372103,0.0011508865540840528,-0.011708888409899124,0.001150886554084046,0.003557798635797207,0.015153339628773113,0.0023494808980389225,0.0945542929895905,0.04269306338462285,-0.17428600750358733,-0.1768561651014475,0.536496818917508],[-2.1387779384850103e-17,0.008174933041428654,-0.010870823146773605,0.19772936314521378,0.19247743295714254,0.18311805030776404,-0.09482530243741609,0.19466350183493134,-0.09116871579372096,-0.09116871579372096,-0.08625857694535938,-0.09116871579372093,-0.09116871579372093,-0.0895522388059701,-0.09116871579372103,-0.09116871579372099,-0.08955223880597017,-0.09116871579372103,1.0,0.005256734942921123,0.006450554918728492,0.005256734942921108,-0.006672882962852591,-0.008955918791643423,-0.007818854446943664,0.03801343864264318,0.03989383812710851,-0.1711958101923304,-0.17372039732694927,0.015911364818756817],[0.0039036002917940205,-0.07054092831112846,-0.6024193646531385,-0.026801851349024887,-0.02324660465237941,2.022943244937183e-05,-0.010429315074488927,-0.05914607981065166,-0.012851566520605083,0.001150886554084039,-0.0008037137000583196,0.015153339628773186,0.01515333962877308,-0.008955918791643426,-0.012851566520605063,0.0011508865540840174,-0.008955918791643373,0.0011508865540840528,0.005256734942921123,1.0,-0.1670644879410057,-0.168,-0.16612671706983775,-0.16799999999999995,-0.16706448794100556,-0.04718724229429227,-0.044459815670908634,0.010049229472303564,-0.0041873477151913845,0.0036114682378001668],[-5.819694458798696e-17,-0.02325423007325919,0.2604689696271981,-5.003258337620524e-06,-0.008544144756855573,-0.03980892955583664,-0.021632596164367236,0.038402726941419725,0.002349480898038974,0.002349480898038897,0.00032276927344095053,-0.011708888409899079,0.0023494808980389762,0.006450554918728526,0.0023494808980389606,-0.011708888409899122,0.006450554918728468,-0.011708888409899124,0.006450554918728492,-0.1670644879410057,1.0,-0.1670644879410057,-0.16520163643210006,-0.1670644879410058,-0.16613418530351465,-0.07014811944751134,0.04936233003239611,0.0032385597530711053,-0.0019289258323604158,-0.0032758040465058038],[-0.0039036002917941285,-0.07054092831112843,-0.6024193646531385,-0.030362911160058955,-0.03133956524087921,-0.02331014542916658,0.03218736395572958,0.009011582608986919,-0.012851566520605092,0.01515333962877318,-0.0008037137000583603,0.0011508865540840543,0.0011508865540840062,0.00525673494292109,0.0011508865540840049,-0.012851566520605064,-0.008955918791643359,0.001150886554084046,0.005256734942921108,-0.168,-0.1670644879410057,1.0,-0.16612671706983786,-0.168,-0.16706448794100567,0.022873815756216248,-0.011426059498121538,0.010049229472303517,-0.004187347715191382,-0.005479469050455342],[-0.003935026099688392,-0.04621266802842428,0.2673050437403738,0.023459158636467546,0.02084244311925171,0.04605933831811636,-0.014024987131069384,0.014012385240541462,0.017672978006079695,-0.01055738073448531,0.0014583311481708417,-0.010557380734485233,-0.01055738073448527,0.007654189280919114,0.0035577986357972348,0.003557798635797271,0.0076541892809191,0.003557798635797207,-0.006672882962852591,-0.16612671706983775,-0.16520163643210006,-0.16612671706983786,1.0,-0.16612671706983792,-0.16520163643209992,0.09503749663626397,-0.022557121048969415,-0.012756460590776222,0.00941047596907493,-0.0010545018919570714],[0.0039036002917938895,0.2797643619414148,0.15297623144784817,-0.004799217941749712,9.129297643510042e-05,0.0285914985264838,0.0009988390922283407,-0.03599103736163539,0.0011508865540840007,0.0011508865540840098,-0.0008037137000583141,0.01515333962877321,0.0011508865540839986,-0.008955918791643409,-0.012851566520605037,0.0011508865540840348,-0.00895591879164341,0.015153339628773113,-0.008955918791643423,-0.16799999999999995,-0.1670644879410058,-0.168,-0.16612671706983792,1.0,-0.1670644879410057,-0.023833556277456088,0.013349257631468724,0.000992516491091787,0.004803134143895957,0.0036114682378001342],[-1.9504134887151516e-16,-0.04670117476038513,0.26889577107321183,0.01935952459959575,0.022045427141291766,0.04061569856082766,0.0069610949718409525,0.000559689771007373,0.002349480898038915,-0.011708888409899119,0.00032276927344100566,0.0023494808980390677,0.0023494808980389225,-0.007818854446943649,0.0023494808980389966,0.016407850205977004,0.006450554918728478,0.0023494808980389225,-0.007818854446943664,-0.16706448794100556,-0.16613418530351465,-0.16706448794100567,-0.16520163643209992,-0.1670644879410057,1.0,0.02363965930099279,0.0244880772088923,-0.0058543195536283595,-0.001928925832360413,0.005851436235743034],[-0.07375810401930835,-0.029619181946403374,0.028990384782884564,-0.05846140518881659,-0.06493665831193686,0.26759226613016496,0.11733176509348156,-0.2406017182852676,-0.05243172464754987,0.03575988593473446,-0.018813869704111825,-0.02303452112012165,-0.023034521120121745,-0.051502078161000414,0.006362682407306335,-0.05243172464754985,0.03801343864264308,0.0945542929895905,0.03801343864264318,-0.04718724229429227,-0.07014811944751134,0.022873815756216248,0.09503749663626397,-0.023833556277456088,0.02363965930099279,1.0,-0.12269628193575348,-0.022400003644089568,-0.04328301008535253,0.09312828604061747],[-0.005796151936939653,-0.018668075416473542,0.04887703431140371,-0.09629702440441472,-0.09293332175626273,0.4906279423444671,-0.037177308285319684,-0.17068578312164856,-0.01968039146015634,0.06348421499954919,-0.009487306243057055,0.032297487577159605,-0.11324057372732521,-0.06562247286125802,0.03229748757715964,0.04269306338462292,-0.05507084176242142,0.04269306338462285,0.03989383812710851,-0.044459815670908634,0.04936233003239611,-0.011426059498121538,-0.022557121048969415,0.013349257631468724,0.0244880772088923,-0.12269628193575348,1.0,0.029197887476754638,0.040011224813403815,0.03385700717585217],[3.2250676446834855e-16,0.03464186610074315,-0.027615197648658794,-0.6194080075218313,-0.6247724368557962,-0.1848839882982234,0.17888008301051345,-0.5617017727137545,-0.17428600750358744,0.07652342623365405,0.503859158985561,0.5325405784831834,-0.1742860075035873,-0.1711958101923302,0.28173114474594296,-0.17428600750358744,-0.1711958101923304,-0.17428600750358733,-0.1711958101923304,0.010049229472303564,0.0032385597530711053,0.010049229472303517,-0.012756460590776222,0.000992516491091787,-0.0058543195536283595,-0.022400003644089568,0.029197887476754638,1.0,-0.33209894653508026,-0.3248593493158915],[-1.7513582854184525e-17,-0.024408101266769924,0.015091226219614558,0.15487561883667458,0.1631512921287469,-0.0028700347336052838,0.09742066575687483,0.14532451548629646,-0.17685616510144755,-0.1768561651014476,-0.16733109590115625,-0.17685616510144772,-0.17685616510144753,0.2857574651682428,0.07211911641408963,0.5248014464423395,-0.1737203973269494,-0.1768561651014475,-0.17372039732694927,-0.0041873477151913845,-0.0019289258323604158,-0.004187347715191382,0.00941047596907493,0.004803134143895957,-0.001928925832360413,-0.04328301008535253,0.040011224813403815,-0.33209894653508026,1.0,-0.32964997902185345],[-1.0962039007664686e-16,0.016785053239212942,-0.004623057552302509,-0.22559004078426528,-0.20563428241207005,0.16390762066522602,-0.13561198004354155,0.06461908891675268,-0.1730007858103557,0.2847396043366529,-0.16368335853490165,-0.17300078581035583,-0.17300078581035574,-0.16993337626432242,-0.17300078581035572,-0.17300078581035574,0.526984402797225,0.536496818917508,0.015911364818756817,0.0036114682378001668,-0.0032758040465058038,-0.005479469050455342,-0.0010545018919570714,0.0036114682378001342,0.005851436235743034,0.09312828604061747,0.03385700717585217,-0.3248593493158915,-0.32964997902185345,1.0]],\"type\":\"heatmap\"}],                        {\"template\":{\"data\":{\"histogram2dcontour\":[{\"type\":\"histogram2dcontour\",\"colorbar\":{\"outlinewidth\":0,\"ticks\":\"\"},\"colorscale\":[[0.0,\"#0d0887\"],[0.1111111111111111,\"#46039f\"],[0.2222222222222222,\"#7201a8\"],[0.3333333333333333,\"#9c179e\"],[0.4444444444444444,\"#bd3786\"],[0.5555555555555556,\"#d8576b\"],[0.6666666666666666,\"#ed7953\"],[0.7777777777777778,\"#fb9f3a\"],[0.8888888888888888,\"#fdca26\"],[1.0,\"#f0f921\"]]}],\"choropleth\":[{\"type\":\"choropleth\",\"colorbar\":{\"outlinewidth\":0,\"ticks\":\"\"}}],\"histogram2d\":[{\"type\":\"histogram2d\",\"colorbar\":{\"outlinewidth\":0,\"ticks\":\"\"},\"colorscale\":[[0.0,\"#0d0887\"],[0.1111111111111111,\"#46039f\"],[0.2222222222222222,\"#7201a8\"],[0.3333333333333333,\"#9c179e\"],[0.4444444444444444,\"#bd3786\"],[0.5555555555555556,\"#d8576b\"],[0.6666666666666666,\"#ed7953\"],[0.7777777777777778,\"#fb9f3a\"],[0.8888888888888888,\"#fdca26\"],[1.0,\"#f0f921\"]]}],\"heatmap\":[{\"type\":\"heatmap\",\"colorbar\":{\"outlinewidth\":0,\"ticks\":\"\"},\"colorscale\":[[0.0,\"#0d0887\"],[0.1111111111111111,\"#46039f\"],[0.2222222222222222,\"#7201a8\"],[0.3333333333333333,\"#9c179e\"],[0.4444444444444444,\"#bd3786\"],[0.5555555555555556,\"#d8576b\"],[0.6666666666666666,\"#ed7953\"],[0.7777777777777778,\"#fb9f3a\"],[0.8888888888888888,\"#fdca26\"],[1.0,\"#f0f921\"]]}],\"heatmapgl\":[{\"type\":\"heatmapgl\",\"colorbar\":{\"outlinewidth\":0,\"ticks\":\"\"},\"colorscale\":[[0.0,\"#0d0887\"],[0.1111111111111111,\"#46039f\"],[0.2222222222222222,\"#7201a8\"],[0.3333333333333333,\"#9c179e\"],[0.4444444444444444,\"#bd3786\"],[0.5555555555555556,\"#d8576b\"],[0.6666666666666666,\"#ed7953\"],[0.7777777777777778,\"#fb9f3a\"],[0.8888888888888888,\"#fdca26\"],[1.0,\"#f0f921\"]]}],\"contourcarpet\":[{\"type\":\"contourcarpet\",\"colorbar\":{\"outlinewidth\":0,\"ticks\":\"\"}}],\"contour\":[{\"type\":\"contour\",\"colorbar\":{\"outlinewidth\":0,\"ticks\":\"\"},\"colorscale\":[[0.0,\"#0d0887\"],[0.1111111111111111,\"#46039f\"],[0.2222222222222222,\"#7201a8\"],[0.3333333333333333,\"#9c179e\"],[0.4444444444444444,\"#bd3786\"],[0.5555555555555556,\"#d8576b\"],[0.6666666666666666,\"#ed7953\"],[0.7777777777777778,\"#fb9f3a\"],[0.8888888888888888,\"#fdca26\"],[1.0,\"#f0f921\"]]}],\"surface\":[{\"type\":\"surface\",\"colorbar\":{\"outlinewidth\":0,\"ticks\":\"\"},\"colorscale\":[[0.0,\"#0d0887\"],[0.1111111111111111,\"#46039f\"],[0.2222222222222222,\"#7201a8\"],[0.3333333333333333,\"#9c179e\"],[0.4444444444444444,\"#bd3786\"],[0.5555555555555556,\"#d8576b\"],[0.6666666666666666,\"#ed7953\"],[0.7777777777777778,\"#fb9f3a\"],[0.8888888888888888,\"#fdca26\"],[1.0,\"#f0f921\"]]}],\"mesh3d\":[{\"type\":\"mesh3d\",\"colorbar\":{\"outlinewidth\":0,\"ticks\":\"\"}}],\"scatter\":[{\"fillpattern\":{\"fillmode\":\"overlay\",\"size\":10,\"solidity\":0.2},\"type\":\"scatter\"}],\"parcoords\":[{\"type\":\"parcoords\",\"line\":{\"colorbar\":{\"outlinewidth\":0,\"ticks\":\"\"}}}],\"scatterpolargl\":[{\"type\":\"scatterpolargl\",\"marker\":{\"colorbar\":{\"outlinewidth\":0,\"ticks\":\"\"}}}],\"bar\":[{\"error_x\":{\"color\":\"#2a3f5f\"},\"error_y\":{\"color\":\"#2a3f5f\"},\"marker\":{\"line\":{\"color\":\"#E5ECF6\",\"width\":0.5},\"pattern\":{\"fillmode\":\"overlay\",\"size\":10,\"solidity\":0.2}},\"type\":\"bar\"}],\"scattergeo\":[{\"type\":\"scattergeo\",\"marker\":{\"colorbar\":{\"outlinewidth\":0,\"ticks\":\"\"}}}],\"scatterpolar\":[{\"type\":\"scatterpolar\",\"marker\":{\"colorbar\":{\"outlinewidth\":0,\"ticks\":\"\"}}}],\"histogram\":[{\"marker\":{\"pattern\":{\"fillmode\":\"overlay\",\"size\":10,\"solidity\":0.2}},\"type\":\"histogram\"}],\"scattergl\":[{\"type\":\"scattergl\",\"marker\":{\"colorbar\":{\"outlinewidth\":0,\"ticks\":\"\"}}}],\"scatter3d\":[{\"type\":\"scatter3d\",\"line\":{\"colorbar\":{\"outlinewidth\":0,\"ticks\":\"\"}},\"marker\":{\"colorbar\":{\"outlinewidth\":0,\"ticks\":\"\"}}}],\"scattermapbox\":[{\"type\":\"scattermapbox\",\"marker\":{\"colorbar\":{\"outlinewidth\":0,\"ticks\":\"\"}}}],\"scatterternary\":[{\"type\":\"scatterternary\",\"marker\":{\"colorbar\":{\"outlinewidth\":0,\"ticks\":\"\"}}}],\"scattercarpet\":[{\"type\":\"scattercarpet\",\"marker\":{\"colorbar\":{\"outlinewidth\":0,\"ticks\":\"\"}}}],\"carpet\":[{\"aaxis\":{\"endlinecolor\":\"#2a3f5f\",\"gridcolor\":\"white\",\"linecolor\":\"white\",\"minorgridcolor\":\"white\",\"startlinecolor\":\"#2a3f5f\"},\"baxis\":{\"endlinecolor\":\"#2a3f5f\",\"gridcolor\":\"white\",\"linecolor\":\"white\",\"minorgridcolor\":\"white\",\"startlinecolor\":\"#2a3f5f\"},\"type\":\"carpet\"}],\"table\":[{\"cells\":{\"fill\":{\"color\":\"#EBF0F8\"},\"line\":{\"color\":\"white\"}},\"header\":{\"fill\":{\"color\":\"#C8D4E3\"},\"line\":{\"color\":\"white\"}},\"type\":\"table\"}],\"barpolar\":[{\"marker\":{\"line\":{\"color\":\"#E5ECF6\",\"width\":0.5},\"pattern\":{\"fillmode\":\"overlay\",\"size\":10,\"solidity\":0.2}},\"type\":\"barpolar\"}],\"pie\":[{\"automargin\":true,\"type\":\"pie\"}]},\"layout\":{\"autotypenumbers\":\"strict\",\"colorway\":[\"#636efa\",\"#EF553B\",\"#00cc96\",\"#ab63fa\",\"#FFA15A\",\"#19d3f3\",\"#FF6692\",\"#B6E880\",\"#FF97FF\",\"#FECB52\"],\"font\":{\"color\":\"#2a3f5f\"},\"hovermode\":\"closest\",\"hoverlabel\":{\"align\":\"left\"},\"paper_bgcolor\":\"white\",\"plot_bgcolor\":\"#E5ECF6\",\"polar\":{\"bgcolor\":\"#E5ECF6\",\"angularaxis\":{\"gridcolor\":\"white\",\"linecolor\":\"white\",\"ticks\":\"\"},\"radialaxis\":{\"gridcolor\":\"white\",\"linecolor\":\"white\",\"ticks\":\"\"}},\"ternary\":{\"bgcolor\":\"#E5ECF6\",\"aaxis\":{\"gridcolor\":\"white\",\"linecolor\":\"white\",\"ticks\":\"\"},\"baxis\":{\"gridcolor\":\"white\",\"linecolor\":\"white\",\"ticks\":\"\"},\"caxis\":{\"gridcolor\":\"white\",\"linecolor\":\"white\",\"ticks\":\"\"}},\"coloraxis\":{\"colorbar\":{\"outlinewidth\":0,\"ticks\":\"\"}},\"colorscale\":{\"sequential\":[[0.0,\"#0d0887\"],[0.1111111111111111,\"#46039f\"],[0.2222222222222222,\"#7201a8\"],[0.3333333333333333,\"#9c179e\"],[0.4444444444444444,\"#bd3786\"],[0.5555555555555556,\"#d8576b\"],[0.6666666666666666,\"#ed7953\"],[0.7777777777777778,\"#fb9f3a\"],[0.8888888888888888,\"#fdca26\"],[1.0,\"#f0f921\"]],\"sequentialminus\":[[0.0,\"#0d0887\"],[0.1111111111111111,\"#46039f\"],[0.2222222222222222,\"#7201a8\"],[0.3333333333333333,\"#9c179e\"],[0.4444444444444444,\"#bd3786\"],[0.5555555555555556,\"#d8576b\"],[0.6666666666666666,\"#ed7953\"],[0.7777777777777778,\"#fb9f3a\"],[0.8888888888888888,\"#fdca26\"],[1.0,\"#f0f921\"]],\"diverging\":[[0,\"#8e0152\"],[0.1,\"#c51b7d\"],[0.2,\"#de77ae\"],[0.3,\"#f1b6da\"],[0.4,\"#fde0ef\"],[0.5,\"#f7f7f7\"],[0.6,\"#e6f5d0\"],[0.7,\"#b8e186\"],[0.8,\"#7fbc41\"],[0.9,\"#4d9221\"],[1,\"#276419\"]]},\"xaxis\":{\"gridcolor\":\"white\",\"linecolor\":\"white\",\"ticks\":\"\",\"title\":{\"standoff\":15},\"zerolinecolor\":\"white\",\"automargin\":true,\"zerolinewidth\":2},\"yaxis\":{\"gridcolor\":\"white\",\"linecolor\":\"white\",\"ticks\":\"\",\"title\":{\"standoff\":15},\"zerolinecolor\":\"white\",\"automargin\":true,\"zerolinewidth\":2},\"scene\":{\"xaxis\":{\"backgroundcolor\":\"#E5ECF6\",\"gridcolor\":\"white\",\"linecolor\":\"white\",\"showbackground\":true,\"ticks\":\"\",\"zerolinecolor\":\"white\",\"gridwidth\":2},\"yaxis\":{\"backgroundcolor\":\"#E5ECF6\",\"gridcolor\":\"white\",\"linecolor\":\"white\",\"showbackground\":true,\"ticks\":\"\",\"zerolinecolor\":\"white\",\"gridwidth\":2},\"zaxis\":{\"backgroundcolor\":\"#E5ECF6\",\"gridcolor\":\"white\",\"linecolor\":\"white\",\"showbackground\":true,\"ticks\":\"\",\"zerolinecolor\":\"white\",\"gridwidth\":2}},\"shapedefaults\":{\"line\":{\"color\":\"#2a3f5f\"}},\"annotationdefaults\":{\"arrowcolor\":\"#2a3f5f\",\"arrowhead\":0,\"arrowwidth\":1},\"geo\":{\"bgcolor\":\"white\",\"landcolor\":\"#E5ECF6\",\"subunitcolor\":\"white\",\"showland\":true,\"showlakes\":true,\"lakecolor\":\"white\"},\"title\":{\"x\":0.05},\"mapbox\":{\"style\":\"light\"}}},\"height\":800},                        {\"responsive\": true}                    ).then(function(){\n                            \nvar gd = document.getElementById('16f9b04d-313e-426e-b313-0a9f059d34f5');\nvar x = new MutationObserver(function (mutations, observer) {{\n        var display = window.getComputedStyle(gd).display;\n        if (!display || display === 'none') {{\n            console.log([gd, 'removed!']);\n            Plotly.purge(gd);\n            observer.disconnect();\n        }}\n}});\n\n// Listen for the removal of the full notebook cells\nvar notebookContainer = gd.closest('#notebook-container');\nif (notebookContainer) {{\n    x.observe(notebookContainer, {childList: true});\n}}\n\n// Listen for the clearing of the current output cell\nvar outputEl = gd.closest('.output');\nif (outputEl) {{\n    x.observe(outputEl, {childList: true});\n}}\n\n                        })                };                            </script>        </div>\n</body>\n</html>"
     },
     "metadata": {},
     "output_type": "display_data"
    }
   ]
  },
  {
   "cell_type": "markdown",
   "source": "It appears that there is some positive correlation between certain variables and some negative correlation with others. However finding a correlation between to potential predictor variables isn't necessarily helpful. We will evaluate this more when we find VIF scores shortly.",
   "metadata": {
    "formattedRanges": [],
    "is_collapsed": false,
    "cell_id": "4df78ca2-a3fd-4b25-b448-4c7f308d2585",
    "tags": [],
    "deepnote_cell_type": "text-cell-p"
   }
  },
  {
   "cell_type": "markdown",
   "source": "We do see some indication that certain variables like windspeed, workingday, holiday are strong negative factors and yr, atemp are positive factors. Let's see what a quick scatter matrix shows us about the positive correlations we potentially found.",
   "metadata": {
    "formattedRanges": [],
    "is_collapsed": false,
    "cell_id": "ac3257ed-3134-4b07-9e15-01621d1ae9ca",
    "tags": [],
    "deepnote_cell_type": "text-cell-p"
   }
  },
  {
   "cell_type": "markdown",
   "source": "### Dataset building",
   "metadata": {
    "cell_id": "2aab35377aa84e748a2da92b42b3ce36",
    "tags": [],
    "deepnote_cell_type": "markdown",
    "deepnote_cell_height": 62
   }
  },
  {
   "cell_type": "markdown",
   "source": "First, let's split the data into test and train datasets. ",
   "metadata": {
    "formattedRanges": [],
    "is_collapsed": false,
    "cell_id": "6d8d6961-b707-4ab9-9e41-2aef3e68582a",
    "tags": [],
    "deepnote_cell_type": "text-cell-p"
   }
  },
  {
   "cell_type": "code",
   "metadata": {
    "cell_id": "ba929b069323458a8925e3ee51d42b9f",
    "tags": [],
    "deepnote_to_be_reexecuted": false,
    "source_hash": "5d1bed4f",
    "execution_start": 1663728013744,
    "execution_millis": 4,
    "deepnote_cell_type": "code",
    "deepnote_cell_height": 99
   },
   "source": "# seprating our target and predictor variables\ndata_train, data_test = train_test_split(numerical_data, train_size = 0.7, test_size = 0.3, random_state = 100)",
   "execution_count": 28,
   "outputs": []
  },
  {
   "cell_type": "code",
   "metadata": {
    "cell_id": "b866540a581e4eaaa861668970848d1a",
    "tags": [],
    "deepnote_to_be_reexecuted": false,
    "source_hash": "b93c055",
    "execution_start": 1663728013750,
    "execution_millis": 741,
    "deepnote_cell_type": "code",
    "deepnote_cell_height": 405
   },
   "source": "data_test.head()",
   "execution_count": 29,
   "outputs": [
    {
     "output_type": "execute_result",
     "execution_count": 29,
     "data": {
      "application/vnd.deepnote.dataframe.v3+json": {
       "column_count": 30,
       "row_count": 5,
       "columns": [
        {
         "name": "yr",
         "dtype": "int64",
         "stats": {
          "unique_count": 2,
          "nan_count": 0,
          "min": "0",
          "max": "1",
          "histogram": [
           {
            "bin_start": 0,
            "bin_end": 0.1,
            "count": 4
           },
           {
            "bin_start": 0.1,
            "bin_end": 0.2,
            "count": 0
           },
           {
            "bin_start": 0.2,
            "bin_end": 0.30000000000000004,
            "count": 0
           },
           {
            "bin_start": 0.30000000000000004,
            "bin_end": 0.4,
            "count": 0
           },
           {
            "bin_start": 0.4,
            "bin_end": 0.5,
            "count": 0
           },
           {
            "bin_start": 0.5,
            "bin_end": 0.6000000000000001,
            "count": 0
           },
           {
            "bin_start": 0.6000000000000001,
            "bin_end": 0.7000000000000001,
            "count": 0
           },
           {
            "bin_start": 0.7000000000000001,
            "bin_end": 0.8,
            "count": 0
           },
           {
            "bin_start": 0.8,
            "bin_end": 0.9,
            "count": 0
           },
           {
            "bin_start": 0.9,
            "bin_end": 1,
            "count": 1
           }
          ]
         }
        },
        {
         "name": "holiday",
         "dtype": "int64",
         "stats": {
          "unique_count": 2,
          "nan_count": 0,
          "min": "0",
          "max": "1",
          "histogram": [
           {
            "bin_start": 0,
            "bin_end": 0.1,
            "count": 4
           },
           {
            "bin_start": 0.1,
            "bin_end": 0.2,
            "count": 0
           },
           {
            "bin_start": 0.2,
            "bin_end": 0.30000000000000004,
            "count": 0
           },
           {
            "bin_start": 0.30000000000000004,
            "bin_end": 0.4,
            "count": 0
           },
           {
            "bin_start": 0.4,
            "bin_end": 0.5,
            "count": 0
           },
           {
            "bin_start": 0.5,
            "bin_end": 0.6000000000000001,
            "count": 0
           },
           {
            "bin_start": 0.6000000000000001,
            "bin_end": 0.7000000000000001,
            "count": 0
           },
           {
            "bin_start": 0.7000000000000001,
            "bin_end": 0.8,
            "count": 0
           },
           {
            "bin_start": 0.8,
            "bin_end": 0.9,
            "count": 0
           },
           {
            "bin_start": 0.9,
            "bin_end": 1,
            "count": 1
           }
          ]
         }
        },
        {
         "name": "workingday",
         "dtype": "int64",
         "stats": {
          "unique_count": 2,
          "nan_count": 0,
          "min": "0",
          "max": "1",
          "histogram": [
           {
            "bin_start": 0,
            "bin_end": 0.1,
            "count": 1
           },
           {
            "bin_start": 0.1,
            "bin_end": 0.2,
            "count": 0
           },
           {
            "bin_start": 0.2,
            "bin_end": 0.30000000000000004,
            "count": 0
           },
           {
            "bin_start": 0.30000000000000004,
            "bin_end": 0.4,
            "count": 0
           },
           {
            "bin_start": 0.4,
            "bin_end": 0.5,
            "count": 0
           },
           {
            "bin_start": 0.5,
            "bin_end": 0.6000000000000001,
            "count": 0
           },
           {
            "bin_start": 0.6000000000000001,
            "bin_end": 0.7000000000000001,
            "count": 0
           },
           {
            "bin_start": 0.7000000000000001,
            "bin_end": 0.8,
            "count": 0
           },
           {
            "bin_start": 0.8,
            "bin_end": 0.9,
            "count": 0
           },
           {
            "bin_start": 0.9,
            "bin_end": 1,
            "count": 4
           }
          ]
         }
        },
        {
         "name": "temp",
         "dtype": "float64",
         "stats": {
          "unique_count": 5,
          "nan_count": 0,
          "min": "19.27",
          "max": "32.0825",
          "histogram": [
           {
            "bin_start": 19.27,
            "bin_end": 20.55125,
            "count": 1
           },
           {
            "bin_start": 20.55125,
            "bin_end": 21.8325,
            "count": 0
           },
           {
            "bin_start": 21.8325,
            "bin_end": 23.11375,
            "count": 0
           },
           {
            "bin_start": 23.11375,
            "bin_end": 24.395000000000003,
            "count": 0
           },
           {
            "bin_start": 24.395000000000003,
            "bin_end": 25.676250000000003,
            "count": 0
           },
           {
            "bin_start": 25.676250000000003,
            "bin_end": 26.957500000000003,
            "count": 0
           },
           {
            "bin_start": 26.957500000000003,
            "bin_end": 28.238750000000003,
            "count": 0
           },
           {
            "bin_start": 28.238750000000003,
            "bin_end": 29.520000000000003,
            "count": 1
           },
           {
            "bin_start": 29.520000000000003,
            "bin_end": 30.801250000000003,
            "count": 1
           },
           {
            "bin_start": 30.801250000000003,
            "bin_end": 32.0825,
            "count": 2
           }
          ]
         }
        },
        {
         "name": "atemp",
         "dtype": "float64",
         "stats": {
          "unique_count": 5,
          "nan_count": 0,
          "min": "22.8523",
          "max": "36.04875",
          "histogram": [
           {
            "bin_start": 22.8523,
            "bin_end": 24.171945,
            "count": 1
           },
           {
            "bin_start": 24.171945,
            "bin_end": 25.49159,
            "count": 0
           },
           {
            "bin_start": 25.49159,
            "bin_end": 26.811235,
            "count": 0
           },
           {
            "bin_start": 26.811235,
            "bin_end": 28.130879999999998,
            "count": 0
           },
           {
            "bin_start": 28.130879999999998,
            "bin_end": 29.450525,
            "count": 0
           },
           {
            "bin_start": 29.450525,
            "bin_end": 30.77017,
            "count": 0
           },
           {
            "bin_start": 30.77017,
            "bin_end": 32.089815,
            "count": 0
           },
           {
            "bin_start": 32.089815,
            "bin_end": 33.409459999999996,
            "count": 2
           },
           {
            "bin_start": 33.409459999999996,
            "bin_end": 34.729105,
            "count": 1
           },
           {
            "bin_start": 34.729105,
            "bin_end": 36.04875,
            "count": 1
           }
          ]
         }
        },
        {
         "name": "hum",
         "dtype": "float64",
         "stats": {
          "unique_count": 5,
          "nan_count": 0,
          "min": "30.5",
          "max": "81.2917",
          "histogram": [
           {
            "bin_start": 30.5,
            "bin_end": 35.57917,
            "count": 1
           },
           {
            "bin_start": 35.57917,
            "bin_end": 40.65834,
            "count": 0
           },
           {
            "bin_start": 40.65834,
            "bin_end": 45.73751,
            "count": 1
           },
           {
            "bin_start": 45.73751,
            "bin_end": 50.816680000000005,
            "count": 0
           },
           {
            "bin_start": 50.816680000000005,
            "bin_end": 55.89585,
            "count": 0
           },
           {
            "bin_start": 55.89585,
            "bin_end": 60.97502,
            "count": 1
           },
           {
            "bin_start": 60.97502,
            "bin_end": 66.05419,
            "count": 1
           },
           {
            "bin_start": 66.05419,
            "bin_end": 71.13336000000001,
            "count": 0
           },
           {
            "bin_start": 71.13336000000001,
            "bin_end": 76.21253,
            "count": 0
           },
           {
            "bin_start": 76.21253,
            "bin_end": 81.2917,
            "count": 1
           }
          ]
         }
        },
        {
         "name": "windspeed",
         "dtype": "float64",
         "stats": {
          "unique_count": 5,
          "nan_count": 0,
          "min": "5.4591064",
          "max": "19.583229",
          "histogram": [
           {
            "bin_start": 5.4591064,
            "bin_end": 6.87151866,
            "count": 1
           },
           {
            "bin_start": 6.87151866,
            "bin_end": 8.28393092,
            "count": 1
           },
           {
            "bin_start": 8.28393092,
            "bin_end": 9.69634318,
            "count": 0
           },
           {
            "bin_start": 9.69634318,
            "bin_end": 11.10875544,
            "count": 0
           },
           {
            "bin_start": 11.10875544,
            "bin_end": 12.5211677,
            "count": 0
           },
           {
            "bin_start": 12.5211677,
            "bin_end": 13.93357996,
            "count": 2
           },
           {
            "bin_start": 13.93357996,
            "bin_end": 15.34599222,
            "count": 0
           },
           {
            "bin_start": 15.34599222,
            "bin_end": 16.75840448,
            "count": 0
           },
           {
            "bin_start": 16.75840448,
            "bin_end": 18.17081674,
            "count": 0
           },
           {
            "bin_start": 18.17081674,
            "bin_end": 19.583229,
            "count": 1
           }
          ]
         }
        },
        {
         "name": "cnt",
         "dtype": "int64",
         "stats": {
          "unique_count": 5,
          "nan_count": 0,
          "min": "2659",
          "max": "6211",
          "histogram": [
           {
            "bin_start": 2659,
            "bin_end": 3014.2,
            "count": 1
           },
           {
            "bin_start": 3014.2,
            "bin_end": 3369.4,
            "count": 0
           },
           {
            "bin_start": 3369.4,
            "bin_end": 3724.6,
            "count": 0
           },
           {
            "bin_start": 3724.6,
            "bin_end": 4079.8,
            "count": 0
           },
           {
            "bin_start": 4079.8,
            "bin_end": 4435,
            "count": 0
           },
           {
            "bin_start": 4435,
            "bin_end": 4790.2,
            "count": 1
           },
           {
            "bin_start": 4790.2,
            "bin_end": 5145.4,
            "count": 1
           },
           {
            "bin_start": 5145.4,
            "bin_end": 5500.6,
            "count": 0
           },
           {
            "bin_start": 5500.6,
            "bin_end": 5855.799999999999,
            "count": 0
           },
           {
            "bin_start": 5855.799999999999,
            "bin_end": 6211,
            "count": 2
           }
          ]
         }
        },
        {
         "name": "august",
         "dtype": "uint8",
         "stats": {
          "unique_count": 2,
          "nan_count": 0,
          "min": "0",
          "max": "1",
          "histogram": [
           {
            "bin_start": 0,
            "bin_end": 0.1,
            "count": 4
           },
           {
            "bin_start": 0.1,
            "bin_end": 0.2,
            "count": 0
           },
           {
            "bin_start": 0.2,
            "bin_end": 0.30000000000000004,
            "count": 0
           },
           {
            "bin_start": 0.30000000000000004,
            "bin_end": 0.4,
            "count": 0
           },
           {
            "bin_start": 0.4,
            "bin_end": 0.5,
            "count": 0
           },
           {
            "bin_start": 0.5,
            "bin_end": 0.6000000000000001,
            "count": 0
           },
           {
            "bin_start": 0.6000000000000001,
            "bin_end": 0.7000000000000001,
            "count": 0
           },
           {
            "bin_start": 0.7000000000000001,
            "bin_end": 0.8,
            "count": 0
           },
           {
            "bin_start": 0.8,
            "bin_end": 0.9,
            "count": 0
           },
           {
            "bin_start": 0.9,
            "bin_end": 1,
            "count": 1
           }
          ]
         }
        },
        {
         "name": "december",
         "dtype": "uint8",
         "stats": {
          "unique_count": 1,
          "nan_count": 0,
          "min": "0",
          "max": "0",
          "histogram": [
           {
            "bin_start": -0.5,
            "bin_end": -0.4,
            "count": 0
           },
           {
            "bin_start": -0.4,
            "bin_end": -0.3,
            "count": 0
           },
           {
            "bin_start": -0.3,
            "bin_end": -0.19999999999999996,
            "count": 0
           },
           {
            "bin_start": -0.19999999999999996,
            "bin_end": -0.09999999999999998,
            "count": 0
           },
           {
            "bin_start": -0.09999999999999998,
            "bin_end": 0,
            "count": 0
           },
           {
            "bin_start": 0,
            "bin_end": 0.10000000000000009,
            "count": 5
           },
           {
            "bin_start": 0.10000000000000009,
            "bin_end": 0.20000000000000007,
            "count": 0
           },
           {
            "bin_start": 0.20000000000000007,
            "bin_end": 0.30000000000000004,
            "count": 0
           },
           {
            "bin_start": 0.30000000000000004,
            "bin_end": 0.4,
            "count": 0
           },
           {
            "bin_start": 0.4,
            "bin_end": 0.5,
            "count": 0
           }
          ]
         }
        },
        {
         "name": "feb",
         "dtype": "uint8",
         "stats": {
          "unique_count": 1,
          "nan_count": 0,
          "min": "0",
          "max": "0",
          "histogram": [
           {
            "bin_start": -0.5,
            "bin_end": -0.4,
            "count": 0
           },
           {
            "bin_start": -0.4,
            "bin_end": -0.3,
            "count": 0
           },
           {
            "bin_start": -0.3,
            "bin_end": -0.19999999999999996,
            "count": 0
           },
           {
            "bin_start": -0.19999999999999996,
            "bin_end": -0.09999999999999998,
            "count": 0
           },
           {
            "bin_start": -0.09999999999999998,
            "bin_end": 0,
            "count": 0
           },
           {
            "bin_start": 0,
            "bin_end": 0.10000000000000009,
            "count": 5
           },
           {
            "bin_start": 0.10000000000000009,
            "bin_end": 0.20000000000000007,
            "count": 0
           },
           {
            "bin_start": 0.20000000000000007,
            "bin_end": 0.30000000000000004,
            "count": 0
           },
           {
            "bin_start": 0.30000000000000004,
            "bin_end": 0.4,
            "count": 0
           },
           {
            "bin_start": 0.4,
            "bin_end": 0.5,
            "count": 0
           }
          ]
         }
        },
        {
         "name": "jan",
         "dtype": "uint8",
         "stats": {
          "unique_count": 1,
          "nan_count": 0,
          "min": "0",
          "max": "0",
          "histogram": [
           {
            "bin_start": -0.5,
            "bin_end": -0.4,
            "count": 0
           },
           {
            "bin_start": -0.4,
            "bin_end": -0.3,
            "count": 0
           },
           {
            "bin_start": -0.3,
            "bin_end": -0.19999999999999996,
            "count": 0
           },
           {
            "bin_start": -0.19999999999999996,
            "bin_end": -0.09999999999999998,
            "count": 0
           },
           {
            "bin_start": -0.09999999999999998,
            "bin_end": 0,
            "count": 0
           },
           {
            "bin_start": 0,
            "bin_end": 0.10000000000000009,
            "count": 5
           },
           {
            "bin_start": 0.10000000000000009,
            "bin_end": 0.20000000000000007,
            "count": 0
           },
           {
            "bin_start": 0.20000000000000007,
            "bin_end": 0.30000000000000004,
            "count": 0
           },
           {
            "bin_start": 0.30000000000000004,
            "bin_end": 0.4,
            "count": 0
           },
           {
            "bin_start": 0.4,
            "bin_end": 0.5,
            "count": 0
           }
          ]
         }
        },
        {
         "name": "july",
         "dtype": "uint8",
         "stats": {
          "unique_count": 2,
          "nan_count": 0,
          "min": "0",
          "max": "1",
          "histogram": [
           {
            "bin_start": 0,
            "bin_end": 0.1,
            "count": 4
           },
           {
            "bin_start": 0.1,
            "bin_end": 0.2,
            "count": 0
           },
           {
            "bin_start": 0.2,
            "bin_end": 0.30000000000000004,
            "count": 0
           },
           {
            "bin_start": 0.30000000000000004,
            "bin_end": 0.4,
            "count": 0
           },
           {
            "bin_start": 0.4,
            "bin_end": 0.5,
            "count": 0
           },
           {
            "bin_start": 0.5,
            "bin_end": 0.6000000000000001,
            "count": 0
           },
           {
            "bin_start": 0.6000000000000001,
            "bin_end": 0.7000000000000001,
            "count": 0
           },
           {
            "bin_start": 0.7000000000000001,
            "bin_end": 0.8,
            "count": 0
           },
           {
            "bin_start": 0.8,
            "bin_end": 0.9,
            "count": 0
           },
           {
            "bin_start": 0.9,
            "bin_end": 1,
            "count": 1
           }
          ]
         }
        },
        {
         "name": "june",
         "dtype": "uint8",
         "stats": {
          "unique_count": 2,
          "nan_count": 0,
          "min": "0",
          "max": "1",
          "histogram": [
           {
            "bin_start": 0,
            "bin_end": 0.1,
            "count": 3
           },
           {
            "bin_start": 0.1,
            "bin_end": 0.2,
            "count": 0
           },
           {
            "bin_start": 0.2,
            "bin_end": 0.30000000000000004,
            "count": 0
           },
           {
            "bin_start": 0.30000000000000004,
            "bin_end": 0.4,
            "count": 0
           },
           {
            "bin_start": 0.4,
            "bin_end": 0.5,
            "count": 0
           },
           {
            "bin_start": 0.5,
            "bin_end": 0.6000000000000001,
            "count": 0
           },
           {
            "bin_start": 0.6000000000000001,
            "bin_end": 0.7000000000000001,
            "count": 0
           },
           {
            "bin_start": 0.7000000000000001,
            "bin_end": 0.8,
            "count": 0
           },
           {
            "bin_start": 0.8,
            "bin_end": 0.9,
            "count": 0
           },
           {
            "bin_start": 0.9,
            "bin_end": 1,
            "count": 2
           }
          ]
         }
        },
        {
         "name": "march",
         "dtype": "uint8",
         "stats": {
          "unique_count": 1,
          "nan_count": 0,
          "min": "0",
          "max": "0",
          "histogram": [
           {
            "bin_start": -0.5,
            "bin_end": -0.4,
            "count": 0
           },
           {
            "bin_start": -0.4,
            "bin_end": -0.3,
            "count": 0
           },
           {
            "bin_start": -0.3,
            "bin_end": -0.19999999999999996,
            "count": 0
           },
           {
            "bin_start": -0.19999999999999996,
            "bin_end": -0.09999999999999998,
            "count": 0
           },
           {
            "bin_start": -0.09999999999999998,
            "bin_end": 0,
            "count": 0
           },
           {
            "bin_start": 0,
            "bin_end": 0.10000000000000009,
            "count": 5
           },
           {
            "bin_start": 0.10000000000000009,
            "bin_end": 0.20000000000000007,
            "count": 0
           },
           {
            "bin_start": 0.20000000000000007,
            "bin_end": 0.30000000000000004,
            "count": 0
           },
           {
            "bin_start": 0.30000000000000004,
            "bin_end": 0.4,
            "count": 0
           },
           {
            "bin_start": 0.4,
            "bin_end": 0.5,
            "count": 0
           }
          ]
         }
        },
        {
         "name": "may",
         "dtype": "uint8",
         "stats": {
          "unique_count": 1,
          "nan_count": 0,
          "min": "0",
          "max": "0",
          "histogram": [
           {
            "bin_start": -0.5,
            "bin_end": -0.4,
            "count": 0
           },
           {
            "bin_start": -0.4,
            "bin_end": -0.3,
            "count": 0
           },
           {
            "bin_start": -0.3,
            "bin_end": -0.19999999999999996,
            "count": 0
           },
           {
            "bin_start": -0.19999999999999996,
            "bin_end": -0.09999999999999998,
            "count": 0
           },
           {
            "bin_start": -0.09999999999999998,
            "bin_end": 0,
            "count": 0
           },
           {
            "bin_start": 0,
            "bin_end": 0.10000000000000009,
            "count": 5
           },
           {
            "bin_start": 0.10000000000000009,
            "bin_end": 0.20000000000000007,
            "count": 0
           },
           {
            "bin_start": 0.20000000000000007,
            "bin_end": 0.30000000000000004,
            "count": 0
           },
           {
            "bin_start": 0.30000000000000004,
            "bin_end": 0.4,
            "count": 0
           },
           {
            "bin_start": 0.4,
            "bin_end": 0.5,
            "count": 0
           }
          ]
         }
        },
        {
         "name": "november",
         "dtype": "uint8",
         "stats": {
          "unique_count": 1,
          "nan_count": 0,
          "min": "0",
          "max": "0",
          "histogram": [
           {
            "bin_start": -0.5,
            "bin_end": -0.4,
            "count": 0
           },
           {
            "bin_start": -0.4,
            "bin_end": -0.3,
            "count": 0
           },
           {
            "bin_start": -0.3,
            "bin_end": -0.19999999999999996,
            "count": 0
           },
           {
            "bin_start": -0.19999999999999996,
            "bin_end": -0.09999999999999998,
            "count": 0
           },
           {
            "bin_start": -0.09999999999999998,
            "bin_end": 0,
            "count": 0
           },
           {
            "bin_start": 0,
            "bin_end": 0.10000000000000009,
            "count": 5
           },
           {
            "bin_start": 0.10000000000000009,
            "bin_end": 0.20000000000000007,
            "count": 0
           },
           {
            "bin_start": 0.20000000000000007,
            "bin_end": 0.30000000000000004,
            "count": 0
           },
           {
            "bin_start": 0.30000000000000004,
            "bin_end": 0.4,
            "count": 0
           },
           {
            "bin_start": 0.4,
            "bin_end": 0.5,
            "count": 0
           }
          ]
         }
        },
        {
         "name": "october",
         "dtype": "uint8",
         "stats": {
          "unique_count": 2,
          "nan_count": 0,
          "min": "0",
          "max": "1",
          "histogram": [
           {
            "bin_start": 0,
            "bin_end": 0.1,
            "count": 4
           },
           {
            "bin_start": 0.1,
            "bin_end": 0.2,
            "count": 0
           },
           {
            "bin_start": 0.2,
            "bin_end": 0.30000000000000004,
            "count": 0
           },
           {
            "bin_start": 0.30000000000000004,
            "bin_end": 0.4,
            "count": 0
           },
           {
            "bin_start": 0.4,
            "bin_end": 0.5,
            "count": 0
           },
           {
            "bin_start": 0.5,
            "bin_end": 0.6000000000000001,
            "count": 0
           },
           {
            "bin_start": 0.6000000000000001,
            "bin_end": 0.7000000000000001,
            "count": 0
           },
           {
            "bin_start": 0.7000000000000001,
            "bin_end": 0.8,
            "count": 0
           },
           {
            "bin_start": 0.8,
            "bin_end": 0.9,
            "count": 0
           },
           {
            "bin_start": 0.9,
            "bin_end": 1,
            "count": 1
           }
          ]
         }
        },
        {
         "name": "september",
         "dtype": "uint8",
         "stats": {
          "unique_count": 1,
          "nan_count": 0,
          "min": "0",
          "max": "0",
          "histogram": [
           {
            "bin_start": -0.5,
            "bin_end": -0.4,
            "count": 0
           },
           {
            "bin_start": -0.4,
            "bin_end": -0.3,
            "count": 0
           },
           {
            "bin_start": -0.3,
            "bin_end": -0.19999999999999996,
            "count": 0
           },
           {
            "bin_start": -0.19999999999999996,
            "bin_end": -0.09999999999999998,
            "count": 0
           },
           {
            "bin_start": -0.09999999999999998,
            "bin_end": 0,
            "count": 0
           },
           {
            "bin_start": 0,
            "bin_end": 0.10000000000000009,
            "count": 5
           },
           {
            "bin_start": 0.10000000000000009,
            "bin_end": 0.20000000000000007,
            "count": 0
           },
           {
            "bin_start": 0.20000000000000007,
            "bin_end": 0.30000000000000004,
            "count": 0
           },
           {
            "bin_start": 0.30000000000000004,
            "bin_end": 0.4,
            "count": 0
           },
           {
            "bin_start": 0.4,
            "bin_end": 0.5,
            "count": 0
           }
          ]
         }
        },
        {
         "name": "monday",
         "dtype": "uint8",
         "stats": {
          "unique_count": 1,
          "nan_count": 0,
          "min": "0",
          "max": "0",
          "histogram": [
           {
            "bin_start": -0.5,
            "bin_end": -0.4,
            "count": 0
           },
           {
            "bin_start": -0.4,
            "bin_end": -0.3,
            "count": 0
           },
           {
            "bin_start": -0.3,
            "bin_end": -0.19999999999999996,
            "count": 0
           },
           {
            "bin_start": -0.19999999999999996,
            "bin_end": -0.09999999999999998,
            "count": 0
           },
           {
            "bin_start": -0.09999999999999998,
            "bin_end": 0,
            "count": 0
           },
           {
            "bin_start": 0,
            "bin_end": 0.10000000000000009,
            "count": 5
           },
           {
            "bin_start": 0.10000000000000009,
            "bin_end": 0.20000000000000007,
            "count": 0
           },
           {
            "bin_start": 0.20000000000000007,
            "bin_end": 0.30000000000000004,
            "count": 0
           },
           {
            "bin_start": 0.30000000000000004,
            "bin_end": 0.4,
            "count": 0
           },
           {
            "bin_start": 0.4,
            "bin_end": 0.5,
            "count": 0
           }
          ]
         }
        },
        {
         "name": "saturday",
         "dtype": "uint8",
         "stats": {
          "unique_count": 1,
          "nan_count": 0,
          "min": "0",
          "max": "0",
          "histogram": [
           {
            "bin_start": -0.5,
            "bin_end": -0.4,
            "count": 0
           },
           {
            "bin_start": -0.4,
            "bin_end": -0.3,
            "count": 0
           },
           {
            "bin_start": -0.3,
            "bin_end": -0.19999999999999996,
            "count": 0
           },
           {
            "bin_start": -0.19999999999999996,
            "bin_end": -0.09999999999999998,
            "count": 0
           },
           {
            "bin_start": -0.09999999999999998,
            "bin_end": 0,
            "count": 0
           },
           {
            "bin_start": 0,
            "bin_end": 0.10000000000000009,
            "count": 5
           },
           {
            "bin_start": 0.10000000000000009,
            "bin_end": 0.20000000000000007,
            "count": 0
           },
           {
            "bin_start": 0.20000000000000007,
            "bin_end": 0.30000000000000004,
            "count": 0
           },
           {
            "bin_start": 0.30000000000000004,
            "bin_end": 0.4,
            "count": 0
           },
           {
            "bin_start": 0.4,
            "bin_end": 0.5,
            "count": 0
           }
          ]
         }
        },
        {
         "name": "sunday",
         "dtype": "uint8",
         "stats": {
          "unique_count": 1,
          "nan_count": 0,
          "min": "0",
          "max": "0",
          "histogram": [
           {
            "bin_start": -0.5,
            "bin_end": -0.4,
            "count": 0
           },
           {
            "bin_start": -0.4,
            "bin_end": -0.3,
            "count": 0
           },
           {
            "bin_start": -0.3,
            "bin_end": -0.19999999999999996,
            "count": 0
           },
           {
            "bin_start": -0.19999999999999996,
            "bin_end": -0.09999999999999998,
            "count": 0
           },
           {
            "bin_start": -0.09999999999999998,
            "bin_end": 0,
            "count": 0
           },
           {
            "bin_start": 0,
            "bin_end": 0.10000000000000009,
            "count": 5
           },
           {
            "bin_start": 0.10000000000000009,
            "bin_end": 0.20000000000000007,
            "count": 0
           },
           {
            "bin_start": 0.20000000000000007,
            "bin_end": 0.30000000000000004,
            "count": 0
           },
           {
            "bin_start": 0.30000000000000004,
            "bin_end": 0.4,
            "count": 0
           },
           {
            "bin_start": 0.4,
            "bin_end": 0.5,
            "count": 0
           }
          ]
         }
        },
        {
         "name": "thursday",
         "dtype": "uint8",
         "stats": {
          "unique_count": 2,
          "nan_count": 0,
          "min": "0",
          "max": "1",
          "histogram": [
           {
            "bin_start": 0,
            "bin_end": 0.1,
            "count": 3
           },
           {
            "bin_start": 0.1,
            "bin_end": 0.2,
            "count": 0
           },
           {
            "bin_start": 0.2,
            "bin_end": 0.30000000000000004,
            "count": 0
           },
           {
            "bin_start": 0.30000000000000004,
            "bin_end": 0.4,
            "count": 0
           },
           {
            "bin_start": 0.4,
            "bin_end": 0.5,
            "count": 0
           },
           {
            "bin_start": 0.5,
            "bin_end": 0.6000000000000001,
            "count": 0
           },
           {
            "bin_start": 0.6000000000000001,
            "bin_end": 0.7000000000000001,
            "count": 0
           },
           {
            "bin_start": 0.7000000000000001,
            "bin_end": 0.8,
            "count": 0
           },
           {
            "bin_start": 0.8,
            "bin_end": 0.9,
            "count": 0
           },
           {
            "bin_start": 0.9,
            "bin_end": 1,
            "count": 2
           }
          ]
         }
        },
        {
         "name": "tuesday",
         "dtype": "uint8",
         "stats": {
          "unique_count": 2,
          "nan_count": 0,
          "min": "0",
          "max": "1",
          "histogram": [
           {
            "bin_start": 0,
            "bin_end": 0.1,
            "count": 4
           },
           {
            "bin_start": 0.1,
            "bin_end": 0.2,
            "count": 0
           },
           {
            "bin_start": 0.2,
            "bin_end": 0.30000000000000004,
            "count": 0
           },
           {
            "bin_start": 0.30000000000000004,
            "bin_end": 0.4,
            "count": 0
           },
           {
            "bin_start": 0.4,
            "bin_end": 0.5,
            "count": 0
           },
           {
            "bin_start": 0.5,
            "bin_end": 0.6000000000000001,
            "count": 0
           },
           {
            "bin_start": 0.6000000000000001,
            "bin_end": 0.7000000000000001,
            "count": 0
           },
           {
            "bin_start": 0.7000000000000001,
            "bin_end": 0.8,
            "count": 0
           },
           {
            "bin_start": 0.8,
            "bin_end": 0.9,
            "count": 0
           },
           {
            "bin_start": 0.9,
            "bin_end": 1,
            "count": 1
           }
          ]
         }
        },
        {
         "name": "wednesday",
         "dtype": "uint8",
         "stats": {
          "unique_count": 1,
          "nan_count": 0,
          "min": "0",
          "max": "0",
          "histogram": [
           {
            "bin_start": -0.5,
            "bin_end": -0.4,
            "count": 0
           },
           {
            "bin_start": -0.4,
            "bin_end": -0.3,
            "count": 0
           },
           {
            "bin_start": -0.3,
            "bin_end": -0.19999999999999996,
            "count": 0
           },
           {
            "bin_start": -0.19999999999999996,
            "bin_end": -0.09999999999999998,
            "count": 0
           },
           {
            "bin_start": -0.09999999999999998,
            "bin_end": 0,
            "count": 0
           },
           {
            "bin_start": 0,
            "bin_end": 0.10000000000000009,
            "count": 5
           },
           {
            "bin_start": 0.10000000000000009,
            "bin_end": 0.20000000000000007,
            "count": 0
           },
           {
            "bin_start": 0.20000000000000007,
            "bin_end": 0.30000000000000004,
            "count": 0
           },
           {
            "bin_start": 0.30000000000000004,
            "bin_end": 0.4,
            "count": 0
           },
           {
            "bin_start": 0.4,
            "bin_end": 0.5,
            "count": 0
           }
          ]
         }
        },
        {
         "name": "light_snow",
         "dtype": "uint8",
         "stats": {
          "unique_count": 1,
          "nan_count": 0,
          "min": "0",
          "max": "0",
          "histogram": [
           {
            "bin_start": -0.5,
            "bin_end": -0.4,
            "count": 0
           },
           {
            "bin_start": -0.4,
            "bin_end": -0.3,
            "count": 0
           },
           {
            "bin_start": -0.3,
            "bin_end": -0.19999999999999996,
            "count": 0
           },
           {
            "bin_start": -0.19999999999999996,
            "bin_end": -0.09999999999999998,
            "count": 0
           },
           {
            "bin_start": -0.09999999999999998,
            "bin_end": 0,
            "count": 0
           },
           {
            "bin_start": 0,
            "bin_end": 0.10000000000000009,
            "count": 5
           },
           {
            "bin_start": 0.10000000000000009,
            "bin_end": 0.20000000000000007,
            "count": 0
           },
           {
            "bin_start": 0.20000000000000007,
            "bin_end": 0.30000000000000004,
            "count": 0
           },
           {
            "bin_start": 0.30000000000000004,
            "bin_end": 0.4,
            "count": 0
           },
           {
            "bin_start": 0.4,
            "bin_end": 0.5,
            "count": 0
           }
          ]
         }
        },
        {
         "name": "misty",
         "dtype": "uint8",
         "stats": {
          "unique_count": 2,
          "nan_count": 0,
          "min": "0",
          "max": "1",
          "histogram": [
           {
            "bin_start": 0,
            "bin_end": 0.1,
            "count": 3
           },
           {
            "bin_start": 0.1,
            "bin_end": 0.2,
            "count": 0
           },
           {
            "bin_start": 0.2,
            "bin_end": 0.30000000000000004,
            "count": 0
           },
           {
            "bin_start": 0.30000000000000004,
            "bin_end": 0.4,
            "count": 0
           },
           {
            "bin_start": 0.4,
            "bin_end": 0.5,
            "count": 0
           },
           {
            "bin_start": 0.5,
            "bin_end": 0.6000000000000001,
            "count": 0
           },
           {
            "bin_start": 0.6000000000000001,
            "bin_end": 0.7000000000000001,
            "count": 0
           },
           {
            "bin_start": 0.7000000000000001,
            "bin_end": 0.8,
            "count": 0
           },
           {
            "bin_start": 0.8,
            "bin_end": 0.9,
            "count": 0
           },
           {
            "bin_start": 0.9,
            "bin_end": 1,
            "count": 2
           }
          ]
         }
        },
        {
         "name": "spring",
         "dtype": "uint8",
         "stats": {
          "unique_count": 1,
          "nan_count": 0,
          "min": "0",
          "max": "0",
          "histogram": [
           {
            "bin_start": -0.5,
            "bin_end": -0.4,
            "count": 0
           },
           {
            "bin_start": -0.4,
            "bin_end": -0.3,
            "count": 0
           },
           {
            "bin_start": -0.3,
            "bin_end": -0.19999999999999996,
            "count": 0
           },
           {
            "bin_start": -0.19999999999999996,
            "bin_end": -0.09999999999999998,
            "count": 0
           },
           {
            "bin_start": -0.09999999999999998,
            "bin_end": 0,
            "count": 0
           },
           {
            "bin_start": 0,
            "bin_end": 0.10000000000000009,
            "count": 5
           },
           {
            "bin_start": 0.10000000000000009,
            "bin_end": 0.20000000000000007,
            "count": 0
           },
           {
            "bin_start": 0.20000000000000007,
            "bin_end": 0.30000000000000004,
            "count": 0
           },
           {
            "bin_start": 0.30000000000000004,
            "bin_end": 0.4,
            "count": 0
           },
           {
            "bin_start": 0.4,
            "bin_end": 0.5,
            "count": 0
           }
          ]
         }
        },
        {
         "name": "summer",
         "dtype": "uint8",
         "stats": {
          "unique_count": 2,
          "nan_count": 0,
          "min": "0",
          "max": "1",
          "histogram": [
           {
            "bin_start": 0,
            "bin_end": 0.1,
            "count": 3
           },
           {
            "bin_start": 0.1,
            "bin_end": 0.2,
            "count": 0
           },
           {
            "bin_start": 0.2,
            "bin_end": 0.30000000000000004,
            "count": 0
           },
           {
            "bin_start": 0.30000000000000004,
            "bin_end": 0.4,
            "count": 0
           },
           {
            "bin_start": 0.4,
            "bin_end": 0.5,
            "count": 0
           },
           {
            "bin_start": 0.5,
            "bin_end": 0.6000000000000001,
            "count": 0
           },
           {
            "bin_start": 0.6000000000000001,
            "bin_end": 0.7000000000000001,
            "count": 0
           },
           {
            "bin_start": 0.7000000000000001,
            "bin_end": 0.8,
            "count": 0
           },
           {
            "bin_start": 0.8,
            "bin_end": 0.9,
            "count": 0
           },
           {
            "bin_start": 0.9,
            "bin_end": 1,
            "count": 2
           }
          ]
         }
        },
        {
         "name": "winter",
         "dtype": "uint8",
         "stats": {
          "unique_count": 2,
          "nan_count": 0,
          "min": "0",
          "max": "1",
          "histogram": [
           {
            "bin_start": 0,
            "bin_end": 0.1,
            "count": 4
           },
           {
            "bin_start": 0.1,
            "bin_end": 0.2,
            "count": 0
           },
           {
            "bin_start": 0.2,
            "bin_end": 0.30000000000000004,
            "count": 0
           },
           {
            "bin_start": 0.30000000000000004,
            "bin_end": 0.4,
            "count": 0
           },
           {
            "bin_start": 0.4,
            "bin_end": 0.5,
            "count": 0
           },
           {
            "bin_start": 0.5,
            "bin_end": 0.6000000000000001,
            "count": 0
           },
           {
            "bin_start": 0.6000000000000001,
            "bin_end": 0.7000000000000001,
            "count": 0
           },
           {
            "bin_start": 0.7000000000000001,
            "bin_end": 0.8,
            "count": 0
           },
           {
            "bin_start": 0.8,
            "bin_end": 0.9,
            "count": 0
           },
           {
            "bin_start": 0.9,
            "bin_end": 1,
            "count": 1
           }
          ]
         }
        },
        {
         "name": "_deepnote_index_column",
         "dtype": "int64"
        }
       ],
       "rows": [
        {
         "yr": "0",
         "holiday": "1",
         "workingday": "0",
         "temp": "29.793347",
         "atemp": "33.27085",
         "hum": "63.7917",
         "windspeed": "5.4591064",
         "cnt": "6043",
         "august": "0",
         "december": "0",
         "feb": "0",
         "jan": "0",
         "july": "1",
         "june": "0",
         "march": "0",
         "may": "0",
         "november": "0",
         "october": "0",
         "september": "0",
         "monday": "0",
         "saturday": "0",
         "sunday": "0",
         "thursday": "0",
         "tuesday": "1",
         "wednesday": "0",
         "light_snow": "0",
         "misty": "1",
         "spring": "0",
         "summer": "0",
         "winter": "0",
         "_deepnote_index_column": "184"
        },
        {
         "yr": "1",
         "holiday": "0",
         "workingday": "1",
         "temp": "32.0825",
         "atemp": "36.04875",
         "hum": "59.2083",
         "windspeed": "7.625404",
         "cnt": "6211",
         "august": "0",
         "december": "0",
         "feb": "0",
         "jan": "0",
         "july": "0",
         "june": "1",
         "march": "0",
         "may": "0",
         "november": "0",
         "october": "0",
         "september": "0",
         "monday": "0",
         "saturday": "0",
         "sunday": "0",
         "thursday": "1",
         "tuesday": "0",
         "wednesday": "0",
         "light_snow": "0",
         "misty": "0",
         "spring": "0",
         "summer": "1",
         "winter": "0",
         "_deepnote_index_column": "535"
        },
        {
         "yr": "0",
         "holiday": "0",
         "workingday": "1",
         "temp": "19.27",
         "atemp": "22.8523",
         "hum": "81.2917",
         "windspeed": "13.250121",
         "cnt": "2659",
         "august": "0",
         "december": "0",
         "feb": "0",
         "jan": "0",
         "july": "0",
         "june": "0",
         "march": "0",
         "may": "0",
         "november": "0",
         "october": "1",
         "september": "0",
         "monday": "0",
         "saturday": "0",
         "sunday": "0",
         "thursday": "0",
         "tuesday": "0",
         "wednesday": "0",
         "light_snow": "0",
         "misty": "1",
         "spring": "0",
         "summer": "0",
         "winter": "1",
         "_deepnote_index_column": "299"
        },
        {
         "yr": "0",
         "holiday": "0",
         "workingday": "1",
         "temp": "31.433347",
         "atemp": "34.24915",
         "hum": "42.4167",
         "windspeed": "13.417286",
         "cnt": "4780",
         "august": "1",
         "december": "0",
         "feb": "0",
         "jan": "0",
         "july": "0",
         "june": "0",
         "march": "0",
         "may": "0",
         "november": "0",
         "october": "0",
         "september": "0",
         "monday": "0",
         "saturday": "0",
         "sunday": "0",
         "thursday": "1",
         "tuesday": "0",
         "wednesday": "0",
         "light_snow": "0",
         "misty": "0",
         "spring": "0",
         "summer": "0",
         "winter": "0",
         "_deepnote_index_column": "221"
        },
        {
         "yr": "0",
         "holiday": "0",
         "workingday": "1",
         "temp": "29.315",
         "atemp": "32.1971",
         "hum": "30.5",
         "windspeed": "19.583229",
         "cnt": "4968",
         "august": "0",
         "december": "0",
         "feb": "0",
         "jan": "0",
         "july": "0",
         "june": "1",
         "march": "0",
         "may": "0",
         "november": "0",
         "october": "0",
         "september": "0",
         "monday": "0",
         "saturday": "0",
         "sunday": "0",
         "thursday": "0",
         "tuesday": "0",
         "wednesday": "0",
         "light_snow": "0",
         "misty": "0",
         "spring": "0",
         "summer": "1",
         "winter": "0",
         "_deepnote_index_column": "152"
        }
       ]
      },
      "text/plain": "     yr  holiday  workingday       temp     atemp      hum  windspeed   cnt  \\\n184   0        1           0  29.793347  33.27085  63.7917   5.459106  6043   \n535   1        0           1  32.082500  36.04875  59.2083   7.625404  6211   \n299   0        0           1  19.270000  22.85230  81.2917  13.250121  2659   \n221   0        0           1  31.433347  34.24915  42.4167  13.417286  4780   \n152   0        0           1  29.315000  32.19710  30.5000  19.583229  4968   \n\n     august  december  ...  saturday  sunday  thursday  tuesday  wednesday  \\\n184       0         0  ...         0       0         0        1          0   \n535       0         0  ...         0       0         1        0          0   \n299       0         0  ...         0       0         0        0          0   \n221       1         0  ...         0       0         1        0          0   \n152       0         0  ...         0       0         0        0          0   \n\n     light_snow  misty  spring  summer  winter  \n184           0      1       0       0       0  \n535           0      0       0       1       0  \n299           0      1       0       0       1  \n221           0      0       0       0       0  \n152           0      0       0       1       0  \n\n[5 rows x 30 columns]",
      "text/html": "<div>\n<style scoped>\n    .dataframe tbody tr th:only-of-type {\n        vertical-align: middle;\n    }\n\n    .dataframe tbody tr th {\n        vertical-align: top;\n    }\n\n    .dataframe thead th {\n        text-align: right;\n    }\n</style>\n<table border=\"1\" class=\"dataframe\">\n  <thead>\n    <tr style=\"text-align: right;\">\n      <th></th>\n      <th>yr</th>\n      <th>holiday</th>\n      <th>workingday</th>\n      <th>temp</th>\n      <th>atemp</th>\n      <th>hum</th>\n      <th>windspeed</th>\n      <th>cnt</th>\n      <th>august</th>\n      <th>december</th>\n      <th>...</th>\n      <th>saturday</th>\n      <th>sunday</th>\n      <th>thursday</th>\n      <th>tuesday</th>\n      <th>wednesday</th>\n      <th>light_snow</th>\n      <th>misty</th>\n      <th>spring</th>\n      <th>summer</th>\n      <th>winter</th>\n    </tr>\n  </thead>\n  <tbody>\n    <tr>\n      <th>184</th>\n      <td>0</td>\n      <td>1</td>\n      <td>0</td>\n      <td>29.793347</td>\n      <td>33.27085</td>\n      <td>63.7917</td>\n      <td>5.459106</td>\n      <td>6043</td>\n      <td>0</td>\n      <td>0</td>\n      <td>...</td>\n      <td>0</td>\n      <td>0</td>\n      <td>0</td>\n      <td>1</td>\n      <td>0</td>\n      <td>0</td>\n      <td>1</td>\n      <td>0</td>\n      <td>0</td>\n      <td>0</td>\n    </tr>\n    <tr>\n      <th>535</th>\n      <td>1</td>\n      <td>0</td>\n      <td>1</td>\n      <td>32.082500</td>\n      <td>36.04875</td>\n      <td>59.2083</td>\n      <td>7.625404</td>\n      <td>6211</td>\n      <td>0</td>\n      <td>0</td>\n      <td>...</td>\n      <td>0</td>\n      <td>0</td>\n      <td>1</td>\n      <td>0</td>\n      <td>0</td>\n      <td>0</td>\n      <td>0</td>\n      <td>0</td>\n      <td>1</td>\n      <td>0</td>\n    </tr>\n    <tr>\n      <th>299</th>\n      <td>0</td>\n      <td>0</td>\n      <td>1</td>\n      <td>19.270000</td>\n      <td>22.85230</td>\n      <td>81.2917</td>\n      <td>13.250121</td>\n      <td>2659</td>\n      <td>0</td>\n      <td>0</td>\n      <td>...</td>\n      <td>0</td>\n      <td>0</td>\n      <td>0</td>\n      <td>0</td>\n      <td>0</td>\n      <td>0</td>\n      <td>1</td>\n      <td>0</td>\n      <td>0</td>\n      <td>1</td>\n    </tr>\n    <tr>\n      <th>221</th>\n      <td>0</td>\n      <td>0</td>\n      <td>1</td>\n      <td>31.433347</td>\n      <td>34.24915</td>\n      <td>42.4167</td>\n      <td>13.417286</td>\n      <td>4780</td>\n      <td>1</td>\n      <td>0</td>\n      <td>...</td>\n      <td>0</td>\n      <td>0</td>\n      <td>1</td>\n      <td>0</td>\n      <td>0</td>\n      <td>0</td>\n      <td>0</td>\n      <td>0</td>\n      <td>0</td>\n      <td>0</td>\n    </tr>\n    <tr>\n      <th>152</th>\n      <td>0</td>\n      <td>0</td>\n      <td>1</td>\n      <td>29.315000</td>\n      <td>32.19710</td>\n      <td>30.5000</td>\n      <td>19.583229</td>\n      <td>4968</td>\n      <td>0</td>\n      <td>0</td>\n      <td>...</td>\n      <td>0</td>\n      <td>0</td>\n      <td>0</td>\n      <td>0</td>\n      <td>0</td>\n      <td>0</td>\n      <td>0</td>\n      <td>0</td>\n      <td>1</td>\n      <td>0</td>\n    </tr>\n  </tbody>\n</table>\n<p>5 rows × 30 columns</p>\n</div>"
     },
     "metadata": {}
    }
   ]
  },
  {
   "cell_type": "markdown",
   "source": "To aid in modeling, let's go ahead and re-scale our test and training numerical non categorical features using a standard scalar which rescales variables so that there is a mean of 0. Noting that we are _only_ fitting and transforming on the training on the train set and transforming on the test set.",
   "metadata": {
    "formattedRanges": [],
    "is_collapsed": false,
    "cell_id": "9251df8f-6b8f-4cb6-bca0-7ce7e297ac51",
    "tags": [],
    "deepnote_cell_type": "text-cell-p"
   }
  },
  {
   "cell_type": "code",
   "metadata": {
    "cell_id": "92845c594cf7440fb223db48c65c527f",
    "tags": [],
    "deepnote_to_be_reexecuted": false,
    "source_hash": "5332e12f",
    "execution_start": 1663728013888,
    "execution_millis": 1,
    "deepnote_cell_type": "code",
    "deepnote_cell_height": 130,
    "deepnote_output_heights": [
     154.59375
    ]
   },
   "source": "scaler = StandardScaler()\ncontinuous_features = ['temp','atemp','hum','windspeed','cnt']\ndata_train[continuous_features] = scaler.fit_transform(data_train[continuous_features])\ndata_test[continuous_features] = scaler.transform(data_test[continuous_features])",
   "execution_count": 30,
   "outputs": []
  },
  {
   "cell_type": "markdown",
   "source": "Let's extract our target and predictor variables in the training set for modeling.",
   "metadata": {
    "formattedRanges": [],
    "is_collapsed": false,
    "cell_id": "7d798ae48f8e4efea94be5f14209dce6",
    "tags": [],
    "deepnote_cell_type": "text-cell-p"
   }
  },
  {
   "cell_type": "code",
   "metadata": {
    "cell_id": "6c8d9074cba84e0aae43aa30f6e27c11",
    "tags": [],
    "deepnote_to_be_reexecuted": false,
    "source_hash": "2d8a47e7",
    "execution_start": 1663728013889,
    "execution_millis": 0,
    "deepnote_cell_type": "code",
    "deepnote_cell_height": 94
   },
   "source": "y_train = data_train.pop('cnt')\nX_train = data_train",
   "execution_count": 31,
   "outputs": []
  },
  {
   "cell_type": "markdown",
   "source": "## Modeling",
   "metadata": {
    "cell_id": "bbe06616f17740d183988c7aac5aaae3",
    "tags": [],
    "deepnote_cell_type": "markdown",
    "deepnote_cell_height": 70
   }
  },
  {
   "cell_type": "markdown",
   "source": "### Linear regression model variation 1",
   "metadata": {
    "cell_id": "d358f11bdde649849982777620e6222d",
    "tags": [],
    "deepnote_cell_type": "markdown",
    "deepnote_cell_height": 62
   }
  },
  {
   "cell_type": "code",
   "metadata": {
    "cell_id": "31b8ea06bc5d4d84bdd5ad194764dea4",
    "tags": [],
    "deepnote_to_be_reexecuted": false,
    "source_hash": "149c447",
    "execution_start": 1663728013890,
    "execution_millis": 606,
    "deepnote_cell_type": "code",
    "deepnote_cell_height": 169.375,
    "deepnote_output_heights": [
     59.375
    ]
   },
   "source": "lm_variation_1 = LinearRegression()\nlm_variation_1.fit(X_train, y_train)",
   "execution_count": 32,
   "outputs": [
    {
     "output_type": "execute_result",
     "execution_count": 32,
     "data": {
      "text/plain": "LinearRegression()",
      "text/html": "<style>#sk-container-id-1 {color: black;background-color: white;}#sk-container-id-1 pre{padding: 0;}#sk-container-id-1 div.sk-toggleable {background-color: white;}#sk-container-id-1 label.sk-toggleable__label {cursor: pointer;display: block;width: 100%;margin-bottom: 0;padding: 0.3em;box-sizing: border-box;text-align: center;}#sk-container-id-1 label.sk-toggleable__label-arrow:before {content: \"▸\";float: left;margin-right: 0.25em;color: #696969;}#sk-container-id-1 label.sk-toggleable__label-arrow:hover:before {color: black;}#sk-container-id-1 div.sk-estimator:hover label.sk-toggleable__label-arrow:before {color: black;}#sk-container-id-1 div.sk-toggleable__content {max-height: 0;max-width: 0;overflow: hidden;text-align: left;background-color: #f0f8ff;}#sk-container-id-1 div.sk-toggleable__content pre {margin: 0.2em;color: black;border-radius: 0.25em;background-color: #f0f8ff;}#sk-container-id-1 input.sk-toggleable__control:checked~div.sk-toggleable__content {max-height: 200px;max-width: 100%;overflow: auto;}#sk-container-id-1 input.sk-toggleable__control:checked~label.sk-toggleable__label-arrow:before {content: \"▾\";}#sk-container-id-1 div.sk-estimator input.sk-toggleable__control:checked~label.sk-toggleable__label {background-color: #d4ebff;}#sk-container-id-1 div.sk-label input.sk-toggleable__control:checked~label.sk-toggleable__label {background-color: #d4ebff;}#sk-container-id-1 input.sk-hidden--visually {border: 0;clip: rect(1px 1px 1px 1px);clip: rect(1px, 1px, 1px, 1px);height: 1px;margin: -1px;overflow: hidden;padding: 0;position: absolute;width: 1px;}#sk-container-id-1 div.sk-estimator {font-family: monospace;background-color: #f0f8ff;border: 1px dotted black;border-radius: 0.25em;box-sizing: border-box;margin-bottom: 0.5em;}#sk-container-id-1 div.sk-estimator:hover {background-color: #d4ebff;}#sk-container-id-1 div.sk-parallel-item::after {content: \"\";width: 100%;border-bottom: 1px solid gray;flex-grow: 1;}#sk-container-id-1 div.sk-label:hover label.sk-toggleable__label {background-color: #d4ebff;}#sk-container-id-1 div.sk-serial::before {content: \"\";position: absolute;border-left: 1px solid gray;box-sizing: border-box;top: 0;bottom: 0;left: 50%;z-index: 0;}#sk-container-id-1 div.sk-serial {display: flex;flex-direction: column;align-items: center;background-color: white;padding-right: 0.2em;padding-left: 0.2em;position: relative;}#sk-container-id-1 div.sk-item {position: relative;z-index: 1;}#sk-container-id-1 div.sk-parallel {display: flex;align-items: stretch;justify-content: center;background-color: white;position: relative;}#sk-container-id-1 div.sk-item::before, #sk-container-id-1 div.sk-parallel-item::before {content: \"\";position: absolute;border-left: 1px solid gray;box-sizing: border-box;top: 0;bottom: 0;left: 50%;z-index: -1;}#sk-container-id-1 div.sk-parallel-item {display: flex;flex-direction: column;z-index: 1;position: relative;background-color: white;}#sk-container-id-1 div.sk-parallel-item:first-child::after {align-self: flex-end;width: 50%;}#sk-container-id-1 div.sk-parallel-item:last-child::after {align-self: flex-start;width: 50%;}#sk-container-id-1 div.sk-parallel-item:only-child::after {width: 0;}#sk-container-id-1 div.sk-dashed-wrapped {border: 1px dashed gray;margin: 0 0.4em 0.5em 0.4em;box-sizing: border-box;padding-bottom: 0.4em;background-color: white;}#sk-container-id-1 div.sk-label label {font-family: monospace;font-weight: bold;display: inline-block;line-height: 1.2em;}#sk-container-id-1 div.sk-label-container {text-align: center;}#sk-container-id-1 div.sk-container {/* jupyter's `normalize.less` sets `[hidden] { display: none; }` but bootstrap.min.css set `[hidden] { display: none !important; }` so we also need the `!important` here to be able to override the default hidden behavior on the sphinx rendered scikit-learn.org. See: https://github.com/scikit-learn/scikit-learn/issues/21755 */display: inline-block !important;position: relative;}#sk-container-id-1 div.sk-text-repr-fallback {display: none;}</style><div id=\"sk-container-id-1\" class=\"sk-top-container\"><div class=\"sk-text-repr-fallback\"><pre>LinearRegression()</pre><b>In a Jupyter environment, please rerun this cell to show the HTML representation or trust the notebook. <br />On GitHub, the HTML representation is unable to render, please try loading this page with nbviewer.org.</b></div><div class=\"sk-container\" hidden><div class=\"sk-item\"><div class=\"sk-estimator sk-toggleable\"><input class=\"sk-toggleable__control sk-hidden--visually\" id=\"sk-estimator-id-1\" type=\"checkbox\" checked><label for=\"sk-estimator-id-1\" class=\"sk-toggleable__label sk-toggleable__label-arrow\">LinearRegression</label><div class=\"sk-toggleable__content\"><pre>LinearRegression()</pre></div></div></div></div></div>"
     },
     "metadata": {}
    }
   ]
  },
  {
   "cell_type": "markdown",
   "source": "Let's get predictions and calculate the r^2 value.",
   "metadata": {
    "formattedRanges": [],
    "is_collapsed": false,
    "cell_id": "3b5dc76a02cd4be492f1b57b21bf5dd1",
    "tags": [],
    "deepnote_cell_type": "text-cell-p"
   }
  },
  {
   "cell_type": "code",
   "metadata": {
    "cell_id": "6fee764e0a844ac3a82dae0855a9ae4f",
    "tags": [],
    "deepnote_to_be_reexecuted": false,
    "source_hash": "50dac67d",
    "execution_start": 1663728013993,
    "execution_millis": 504,
    "deepnote_cell_type": "code",
    "deepnote_cell_height": 130.1875,
    "deepnote_output_heights": [
     20.1875
    ]
   },
   "source": "y_pred = lm_variation_1.predict(X_train)\nr2_score(y_pred, y_train)",
   "execution_count": 33,
   "outputs": [
    {
     "output_type": "execute_result",
     "execution_count": 33,
     "data": {
      "text/plain": "0.8281398038694947"
     },
     "metadata": {}
    }
   ]
  },
  {
   "cell_type": "markdown",
   "source": "While this score isn't bad, let's see if we can do better. Let's leverage recursive feature elimination for feature selection.",
   "metadata": {
    "formattedRanges": [],
    "is_collapsed": false,
    "cell_id": "945091dc88a440288f53af977588ba5c",
    "tags": [],
    "deepnote_cell_type": "text-cell-p"
   }
  },
  {
   "cell_type": "markdown",
   "source": "### Linear regression model variation 2 with RFE",
   "metadata": {
    "cell_id": "0bd44f694dec48d7bae12b111edd6271",
    "tags": [],
    "deepnote_cell_type": "markdown",
    "deepnote_cell_height": 62
   }
  },
  {
   "cell_type": "markdown",
   "source": "First we have to fit an RFE estimator and let it know what model to use and how many feature to select.",
   "metadata": {
    "formattedRanges": [],
    "is_collapsed": false,
    "cell_id": "14e677235c604daaa8765d6fdc9977df",
    "tags": [],
    "deepnote_cell_type": "text-cell-p"
   }
  },
  {
   "cell_type": "code",
   "metadata": {
    "cell_id": "80d106f5632443b38e9093a48b2da88e",
    "tags": [],
    "deepnote_to_be_reexecuted": false,
    "source_hash": "6affd969",
    "execution_start": 1663728014102,
    "execution_millis": 203,
    "deepnote_cell_type": "code",
    "deepnote_cell_height": 94
   },
   "source": "rfe_lm_variation_2 = RFE(estimator=LinearRegression(), n_features_to_select=15)   \nrfe = rfe_lm_variation_2.fit(X_train, y_train)",
   "execution_count": 34,
   "outputs": []
  },
  {
   "cell_type": "markdown",
   "source": "Let's print out the features in our dataset and the score the RFE model ranks them. A score of 0 is a good value whereas scores that are large are ones that we should consider removing. ",
   "metadata": {
    "formattedRanges": [],
    "is_collapsed": false,
    "cell_id": "555c7f4fcf5e49a2bf0c54336aadf498",
    "tags": [],
    "deepnote_cell_type": "text-cell-p"
   }
  },
  {
   "cell_type": "code",
   "metadata": {
    "cell_id": "b4c7400b28514a9899236efdd1c4bafc",
    "tags": [],
    "deepnote_to_be_reexecuted": false,
    "source_hash": "5898da64",
    "execution_start": 1663728014413,
    "execution_millis": 88,
    "deepnote_cell_type": "code",
    "deepnote_cell_height": 649.65625,
    "deepnote_output_heights": [
     557.65625
    ]
   },
   "source": "list(zip(X_train.columns,rfe.support_,rfe.ranking_))",
   "execution_count": 35,
   "outputs": [
    {
     "output_type": "execute_result",
     "execution_count": 35,
     "data": {
      "text/plain": "[('yr', True, 1),\n ('holiday', True, 1),\n ('workingday', True, 1),\n ('temp', True, 1),\n ('atemp', False, 10),\n ('hum', False, 5),\n ('windspeed', False, 3),\n ('august', False, 6),\n ('december', True, 1),\n ('feb', True, 1),\n ('jan', True, 1),\n ('july', True, 1),\n ('june', False, 14),\n ('march', False, 15),\n ('may', False, 4),\n ('november', True, 1),\n ('october', False, 12),\n ('september', True, 1),\n ('monday', False, 7),\n ('saturday', False, 11),\n ('sunday', True, 1),\n ('thursday', False, 13),\n ('tuesday', False, 8),\n ('wednesday', False, 9),\n ('light_snow', True, 1),\n ('misty', True, 1),\n ('spring', True, 1),\n ('summer', False, 2),\n ('winter', True, 1)]"
     },
     "metadata": {}
    }
   ]
  },
  {
   "cell_type": "markdown",
   "source": "Let's get only the columns that have a RFE support of True.",
   "metadata": {
    "formattedRanges": [],
    "is_collapsed": false,
    "cell_id": "8c381c72f8144aeb8dc33bae2bb44015",
    "tags": [],
    "deepnote_cell_type": "text-cell-p"
   }
  },
  {
   "cell_type": "code",
   "metadata": {
    "cell_id": "79af9939af814963af4e061fa86325ef",
    "tags": [],
    "deepnote_to_be_reexecuted": false,
    "source_hash": "93e9db87",
    "execution_start": 1663728014415,
    "execution_millis": 86,
    "deepnote_cell_type": "code",
    "deepnote_cell_height": 187.78125,
    "deepnote_output_heights": [
     77.78125
    ]
   },
   "source": "col = X_train.columns[rfe.support_]\ncol",
   "execution_count": 36,
   "outputs": [
    {
     "output_type": "execute_result",
     "execution_count": 36,
     "data": {
      "text/plain": "Index(['yr', 'holiday', 'workingday', 'temp', 'december', 'feb', 'jan', 'july',\n       'november', 'september', 'sunday', 'light_snow', 'misty', 'spring',\n       'winter'],\n      dtype='object')"
     },
     "metadata": {}
    }
   ]
  },
  {
   "cell_type": "markdown",
   "source": "Now we can create a new data frame by filtering out non useful columns",
   "metadata": {
    "formattedRanges": [],
    "is_collapsed": false,
    "cell_id": "16c621d4ff6e4a84bde0311a802b1c2f",
    "tags": [],
    "deepnote_cell_type": "text-cell-p"
   }
  },
  {
   "cell_type": "code",
   "metadata": {
    "cell_id": "f53678bcf41049adaae22f992409d830",
    "tags": [],
    "deepnote_to_be_reexecuted": false,
    "source_hash": "beddbd52",
    "execution_start": 1663728014417,
    "execution_millis": 1,
    "deepnote_cell_type": "code",
    "deepnote_cell_height": 76
   },
   "source": "X_train_rfe = X_train[col]",
   "execution_count": 37,
   "outputs": []
  },
  {
   "cell_type": "markdown",
   "source": "### Attaining VIF scores",
   "metadata": {
    "cell_id": "d378bbfe3f9e418c97322af3402447bd",
    "tags": [],
    "deepnote_cell_type": "markdown",
    "deepnote_cell_height": 62
   }
  },
  {
   "cell_type": "markdown",
   "source": "VIF scores are important because they help us understand if there are more than 1 variable that have a strong correlation with one another. If another variable 'explains away' other variables, we can reduce the number of variables in our dataset without impacting our score.",
   "metadata": {
    "formattedRanges": [],
    "is_collapsed": false,
    "cell_id": "4521994776a042c39fa7b775d3910a9f",
    "tags": [],
    "deepnote_cell_type": "text-cell-p"
   }
  },
  {
   "cell_type": "code",
   "metadata": {
    "cell_id": "fc165c76f665495895857ad926cf05d9",
    "tags": [],
    "deepnote_to_be_reexecuted": false,
    "source_hash": "c3fdcb48",
    "execution_start": 1663728014419,
    "execution_millis": 1,
    "deepnote_cell_type": "code",
    "deepnote_cell_height": 220
   },
   "source": "# creating an empty dataframe for our vif scores.\ndef create_vif_scores(data):\n    \n    vif = pd.DataFrame()\n    vif['features'] = data.columns\n    vif['vif'] = [variance_inflation_factor(data.values, i) for i in range(data.shape[1])]\n    vif['vif'] = round(vif['vif'], 2)\n    vif = vif.sort_values(by = \"vif\", ascending = False)\n    return vif",
   "execution_count": 38,
   "outputs": []
  },
  {
   "cell_type": "code",
   "metadata": {
    "cell_id": "f89229a5b78d4f02bbd3a730ff696709",
    "tags": [],
    "deepnote_to_be_reexecuted": false,
    "source_hash": "dd8dd16e",
    "execution_start": 1663728014422,
    "execution_millis": 96,
    "deepnote_cell_type": "code",
    "deepnote_cell_height": 595
   },
   "source": "create_vif_scores(X_train_rfe)",
   "execution_count": 39,
   "outputs": [
    {
     "output_type": "execute_result",
     "execution_count": 39,
     "data": {
      "application/vnd.deepnote.dataframe.v3+json": {
       "column_count": 2,
       "row_count": 15,
       "columns": [
        {
         "name": "features",
         "dtype": "object",
         "stats": {
          "unique_count": 15,
          "nan_count": 0,
          "categories": [
           {
            "name": "spring",
            "count": 1
           },
           {
            "name": "temp",
            "count": 1
           },
           {
            "name": "13 others",
            "count": 13
           }
          ]
         }
        },
        {
         "name": "vif",
         "dtype": "float64",
         "stats": {
          "unique_count": 15,
          "nan_count": 0,
          "min": "1.08",
          "max": "4.12",
          "histogram": [
           {
            "bin_start": 1.08,
            "bin_end": 1.3840000000000001,
            "count": 3
           },
           {
            "bin_start": 1.3840000000000001,
            "bin_end": 1.6880000000000002,
            "count": 4
           },
           {
            "bin_start": 1.6880000000000002,
            "bin_end": 1.992,
            "count": 3
           },
           {
            "bin_start": 1.992,
            "bin_end": 2.2960000000000003,
            "count": 0
           },
           {
            "bin_start": 2.2960000000000003,
            "bin_end": 2.6,
            "count": 1
           },
           {
            "bin_start": 2.6,
            "bin_end": 2.904,
            "count": 2
           },
           {
            "bin_start": 2.904,
            "bin_end": 3.208,
            "count": 1
           },
           {
            "bin_start": 3.208,
            "bin_end": 3.512,
            "count": 0
           },
           {
            "bin_start": 3.512,
            "bin_end": 3.816,
            "count": 0
           },
           {
            "bin_start": 3.816,
            "bin_end": 4.12,
            "count": 1
           }
          ]
         }
        },
        {
         "name": "_deepnote_index_column",
         "dtype": "int64"
        }
       ],
       "rows": [
        {
         "features": "spring",
         "vif": "4.12",
         "_deepnote_index_column": "13"
        },
        {
         "features": "temp",
         "vif": "3.11",
         "_deepnote_index_column": "3"
        },
        {
         "features": "workingday",
         "vif": "2.83",
         "_deepnote_index_column": "2"
        },
        {
         "features": "winter",
         "vif": "2.74",
         "_deepnote_index_column": "14"
        },
        {
         "features": "jan",
         "vif": "2.41",
         "_deepnote_index_column": "6"
        },
        {
         "features": "feb",
         "vif": "1.95",
         "_deepnote_index_column": "5"
        },
        {
         "features": "yr",
         "vif": "1.9",
         "_deepnote_index_column": "0"
        },
        {
         "features": "november",
         "vif": "1.89",
         "_deepnote_index_column": "8"
        },
        {
         "features": "december",
         "vif": "1.68",
         "_deepnote_index_column": "4"
        },
        {
         "features": "misty",
         "vif": "1.52",
         "_deepnote_index_column": "12"
        }
       ]
      },
      "text/plain": "      features   vif\n13      spring  4.12\n3         temp  3.11\n2   workingday  2.83\n14      winter  2.74\n6          jan  2.41\n5          feb  1.95\n0           yr  1.90\n8     november  1.89\n4     december  1.68\n12       misty  1.52\n10      sunday  1.42\n7         july  1.39\n9    september  1.19\n1      holiday  1.12\n11  light_snow  1.08",
      "text/html": "<div>\n<style scoped>\n    .dataframe tbody tr th:only-of-type {\n        vertical-align: middle;\n    }\n\n    .dataframe tbody tr th {\n        vertical-align: top;\n    }\n\n    .dataframe thead th {\n        text-align: right;\n    }\n</style>\n<table border=\"1\" class=\"dataframe\">\n  <thead>\n    <tr style=\"text-align: right;\">\n      <th></th>\n      <th>features</th>\n      <th>vif</th>\n    </tr>\n  </thead>\n  <tbody>\n    <tr>\n      <th>13</th>\n      <td>spring</td>\n      <td>4.12</td>\n    </tr>\n    <tr>\n      <th>3</th>\n      <td>temp</td>\n      <td>3.11</td>\n    </tr>\n    <tr>\n      <th>2</th>\n      <td>workingday</td>\n      <td>2.83</td>\n    </tr>\n    <tr>\n      <th>14</th>\n      <td>winter</td>\n      <td>2.74</td>\n    </tr>\n    <tr>\n      <th>6</th>\n      <td>jan</td>\n      <td>2.41</td>\n    </tr>\n    <tr>\n      <th>5</th>\n      <td>feb</td>\n      <td>1.95</td>\n    </tr>\n    <tr>\n      <th>0</th>\n      <td>yr</td>\n      <td>1.90</td>\n    </tr>\n    <tr>\n      <th>8</th>\n      <td>november</td>\n      <td>1.89</td>\n    </tr>\n    <tr>\n      <th>4</th>\n      <td>december</td>\n      <td>1.68</td>\n    </tr>\n    <tr>\n      <th>12</th>\n      <td>misty</td>\n      <td>1.52</td>\n    </tr>\n    <tr>\n      <th>10</th>\n      <td>sunday</td>\n      <td>1.42</td>\n    </tr>\n    <tr>\n      <th>7</th>\n      <td>july</td>\n      <td>1.39</td>\n    </tr>\n    <tr>\n      <th>9</th>\n      <td>september</td>\n      <td>1.19</td>\n    </tr>\n    <tr>\n      <th>1</th>\n      <td>holiday</td>\n      <td>1.12</td>\n    </tr>\n    <tr>\n      <th>11</th>\n      <td>light_snow</td>\n      <td>1.08</td>\n    </tr>\n  </tbody>\n</table>\n</div>"
     },
     "metadata": {}
    }
   ]
  },
  {
   "cell_type": "markdown",
   "source": "It's generally accepted that a VIF score below 4 is good. However, let's create a model using stats model library where we're able to look at more information about each features impact to our model performance.",
   "metadata": {
    "formattedRanges": [],
    "is_collapsed": false,
    "cell_id": "f445fc839feb4f178da456d4fc7cc6b3",
    "tags": [],
    "deepnote_cell_type": "text-cell-p"
   }
  },
  {
   "cell_type": "markdown",
   "source": "### Linear regression model variation 3",
   "metadata": {
    "cell_id": "6ba11add30c549aa92edd72c8ca182bc",
    "tags": [],
    "deepnote_cell_type": "markdown",
    "deepnote_cell_height": 62
   }
  },
  {
   "cell_type": "code",
   "metadata": {
    "cell_id": "caeeba5b5b2d48299fb22845cc089987",
    "tags": [],
    "deepnote_to_be_reexecuted": false,
    "source_hash": "d1870977",
    "execution_start": 1663728014519,
    "execution_millis": 24,
    "deepnote_cell_type": "code",
    "deepnote_cell_height": 732
   },
   "source": "X_train_rfe_variation_1 = sm.add_constant(X_train_rfe)\nlm_variation_3 = sm.OLS(y_train,X_train_rfe_variation_1).fit()   # Running the linear model\nprint(lm_variation_3.summary())",
   "execution_count": 40,
   "outputs": [
    {
     "name": "stdout",
     "text": "                            OLS Regression Results                            \n==============================================================================\nDep. Variable:                    cnt   R-squared:                       0.833\nModel:                            OLS   Adj. R-squared:                  0.828\nMethod:                 Least Squares   F-statistic:                     164.4\nDate:                Wed, 21 Sep 2022   Prob (F-statistic):          5.70e-181\nTime:                        02:40:14   Log-Likelihood:                -267.11\nNo. Observations:                 510   AIC:                             566.2\nDf Residuals:                     494   BIC:                             634.0\nDf Model:                          15                                         \nCovariance Type:            nonrobust                                         \n==============================================================================\n                 coef    std err          t      P>|t|      [0.025      0.975]\n------------------------------------------------------------------------------\nconst         -0.4521      0.062     -7.342      0.000      -0.573      -0.331\nyr             1.0418      0.037     28.034      0.000       0.969       1.115\nholiday       -0.2227      0.127     -1.758      0.079      -0.472       0.026\nworkingday     0.2119      0.054      3.941      0.000       0.106       0.318\ntemp           0.4227      0.034     12.574      0.000       0.357       0.489\ndecember      -0.2274      0.082     -2.765      0.006      -0.389      -0.066\nfeb           -0.1582      0.100     -1.588      0.113      -0.354       0.038\njan           -0.2575      0.096     -2.671      0.008      -0.447      -0.068\njuly          -0.2556      0.079     -3.231      0.001      -0.411      -0.100\nnovember      -0.2427      0.086     -2.814      0.005      -0.412      -0.073\nseptember      0.2715      0.071      3.815      0.000       0.132       0.411\nsunday         0.2468      0.068      3.648      0.000       0.114       0.380\nlight_snow    -1.4036      0.112    -12.566      0.000      -1.623      -1.184\nmisty         -0.3645      0.040     -9.187      0.000      -0.442      -0.287\nspring        -0.4170      0.080     -5.241      0.000      -0.573      -0.261\nwinter         0.3452      0.064      5.390      0.000       0.219       0.471\n==============================================================================\nOmnibus:                       90.640   Durbin-Watson:                   2.006\nProb(Omnibus):                  0.000   Jarque-Bera (JB):              290.272\nSkew:                          -0.815   Prob(JB):                     9.29e-64\nKurtosis:                       6.317   Cond. No.                         11.1\n==============================================================================\n\nNotes:\n[1] Standard Errors assume that the covariance matrix of the errors is correctly specified.\n",
     "output_type": "stream"
    }
   ]
  },
  {
   "cell_type": "markdown",
   "source": "Looking at the above stats model, we can see that 't' scores are generall in a good place. < -2 or > 2. We also see that the majority of P scores are near 0, which is great. Our model currently has 83% explainability of our data and our F-statistic score is high. Great news! Let's see if we can make an improvement to the model but eliminating features that have non 0 p scores.",
   "metadata": {
    "formattedRanges": [],
    "is_collapsed": false,
    "cell_id": "8473a88c91ef472a96689b9c25cd7c97",
    "tags": [],
    "deepnote_cell_type": "text-cell-p"
   }
  },
  {
   "cell_type": "code",
   "metadata": {
    "cell_id": "09c5de9785d24bf0b835db84a0ca979b",
    "tags": [],
    "deepnote_to_be_reexecuted": false,
    "source_hash": "238a19ab",
    "execution_start": 1663728014587,
    "execution_millis": 1,
    "deepnote_cell_type": "code",
    "deepnote_cell_height": 76
   },
   "source": "col = col.drop(['feb','holiday'])",
   "execution_count": 41,
   "outputs": []
  },
  {
   "cell_type": "code",
   "metadata": {
    "cell_id": "20faf120aa4940f0a3e7b477471d1d2e",
    "tags": [],
    "deepnote_to_be_reexecuted": false,
    "source_hash": "415e6cd",
    "execution_start": 1663728014588,
    "execution_millis": 34,
    "deepnote_cell_type": "code",
    "deepnote_cell_height": 595
   },
   "source": "create_vif_scores(X_train_rfe[col])",
   "execution_count": 42,
   "outputs": [
    {
     "output_type": "execute_result",
     "execution_count": 42,
     "data": {
      "application/vnd.deepnote.dataframe.v3+json": {
       "column_count": 2,
       "row_count": 13,
       "columns": [
        {
         "name": "features",
         "dtype": "object",
         "stats": {
          "unique_count": 13,
          "nan_count": 0,
          "categories": [
           {
            "name": "spring",
            "count": 1
           },
           {
            "name": "temp",
            "count": 1
           },
           {
            "name": "11 others",
            "count": 11
           }
          ]
         }
        },
        {
         "name": "vif",
         "dtype": "float64",
         "stats": {
          "unique_count": 13,
          "nan_count": 0,
          "min": "1.08",
          "max": "2.99",
          "histogram": [
           {
            "bin_start": 1.08,
            "bin_end": 1.2710000000000001,
            "count": 2
           },
           {
            "bin_start": 1.2710000000000001,
            "bin_end": 1.4620000000000002,
            "count": 2
           },
           {
            "bin_start": 1.4620000000000002,
            "bin_end": 1.653,
            "count": 2
           },
           {
            "bin_start": 1.653,
            "bin_end": 1.844,
            "count": 2
           },
           {
            "bin_start": 1.844,
            "bin_end": 2.035,
            "count": 1
           },
           {
            "bin_start": 2.035,
            "bin_end": 2.226,
            "count": 0
           },
           {
            "bin_start": 2.226,
            "bin_end": 2.417,
            "count": 0
           },
           {
            "bin_start": 2.417,
            "bin_end": 2.608,
            "count": 0
           },
           {
            "bin_start": 2.608,
            "bin_end": 2.7990000000000004,
            "count": 2
           },
           {
            "bin_start": 2.7990000000000004,
            "bin_end": 2.99,
            "count": 2
           }
          ]
         }
        },
        {
         "name": "_deepnote_index_column",
         "dtype": "int64"
        }
       ],
       "rows": [
        {
         "features": "spring",
         "vif": "2.99",
         "_deepnote_index_column": "11"
        },
        {
         "features": "temp",
         "vif": "2.95",
         "_deepnote_index_column": "2"
        },
        {
         "features": "winter",
         "vif": "2.71",
         "_deepnote_index_column": "12"
        },
        {
         "features": "workingday",
         "vif": "2.69",
         "_deepnote_index_column": "1"
        },
        {
         "features": "yr",
         "vif": "1.88",
         "_deepnote_index_column": "0"
        },
        {
         "features": "november",
         "vif": "1.82",
         "_deepnote_index_column": "6"
        },
        {
         "features": "jan",
         "vif": "1.74",
         "_deepnote_index_column": "4"
        },
        {
         "features": "december",
         "vif": "1.54",
         "_deepnote_index_column": "3"
        },
        {
         "features": "misty",
         "vif": "1.52",
         "_deepnote_index_column": "10"
        },
        {
         "features": "sunday",
         "vif": "1.39",
         "_deepnote_index_column": "8"
        }
       ]
      },
      "text/plain": "      features   vif\n11      spring  2.99\n2         temp  2.95\n12      winter  2.71\n1   workingday  2.69\n0           yr  1.88\n6     november  1.82\n4          jan  1.74\n3     december  1.54\n10       misty  1.52\n8       sunday  1.39\n5         july  1.38\n7    september  1.18\n9   light_snow  1.08",
      "text/html": "<div>\n<style scoped>\n    .dataframe tbody tr th:only-of-type {\n        vertical-align: middle;\n    }\n\n    .dataframe tbody tr th {\n        vertical-align: top;\n    }\n\n    .dataframe thead th {\n        text-align: right;\n    }\n</style>\n<table border=\"1\" class=\"dataframe\">\n  <thead>\n    <tr style=\"text-align: right;\">\n      <th></th>\n      <th>features</th>\n      <th>vif</th>\n    </tr>\n  </thead>\n  <tbody>\n    <tr>\n      <th>11</th>\n      <td>spring</td>\n      <td>2.99</td>\n    </tr>\n    <tr>\n      <th>2</th>\n      <td>temp</td>\n      <td>2.95</td>\n    </tr>\n    <tr>\n      <th>12</th>\n      <td>winter</td>\n      <td>2.71</td>\n    </tr>\n    <tr>\n      <th>1</th>\n      <td>workingday</td>\n      <td>2.69</td>\n    </tr>\n    <tr>\n      <th>0</th>\n      <td>yr</td>\n      <td>1.88</td>\n    </tr>\n    <tr>\n      <th>6</th>\n      <td>november</td>\n      <td>1.82</td>\n    </tr>\n    <tr>\n      <th>4</th>\n      <td>jan</td>\n      <td>1.74</td>\n    </tr>\n    <tr>\n      <th>3</th>\n      <td>december</td>\n      <td>1.54</td>\n    </tr>\n    <tr>\n      <th>10</th>\n      <td>misty</td>\n      <td>1.52</td>\n    </tr>\n    <tr>\n      <th>8</th>\n      <td>sunday</td>\n      <td>1.39</td>\n    </tr>\n    <tr>\n      <th>5</th>\n      <td>july</td>\n      <td>1.38</td>\n    </tr>\n    <tr>\n      <th>7</th>\n      <td>september</td>\n      <td>1.18</td>\n    </tr>\n    <tr>\n      <th>9</th>\n      <td>light_snow</td>\n      <td>1.08</td>\n    </tr>\n  </tbody>\n</table>\n</div>"
     },
     "metadata": {}
    }
   ]
  },
  {
   "cell_type": "markdown",
   "source": "### Linear regression model variation 4",
   "metadata": {
    "cell_id": "e050887dc6604cd596400f0d44940545",
    "tags": [],
    "deepnote_cell_type": "markdown",
    "deepnote_cell_height": 62
   }
  },
  {
   "cell_type": "markdown",
   "source": "Now that we've reduced the VIF scores all around, let's train another stats model on the new columns.",
   "metadata": {
    "formattedRanges": [],
    "is_collapsed": false,
    "cell_id": "cdb414ca1e0f45e79732a3c29f4de760",
    "tags": [],
    "deepnote_cell_type": "text-cell-p"
   }
  },
  {
   "cell_type": "code",
   "metadata": {
    "cell_id": "7de184ebfbd14085981ebe5f889b6e20",
    "tags": [],
    "deepnote_to_be_reexecuted": false,
    "source_hash": "f59fed55",
    "execution_start": 1663728014620,
    "execution_millis": 20,
    "deepnote_cell_type": "code",
    "deepnote_cell_height": 732
   },
   "source": "X_train_rfe_variation_2 = sm.add_constant(X_train_rfe[col])\nlm_variation_4 = sm.OLS(y_train,X_train_rfe_variation_2).fit()   # Running the linear model\nprint(lm_variation_4.summary())",
   "execution_count": 43,
   "outputs": [
    {
     "name": "stdout",
     "text": "                            OLS Regression Results                            \n==============================================================================\nDep. Variable:                    cnt   R-squared:                       0.831\nModel:                            OLS   Adj. R-squared:                  0.827\nMethod:                 Least Squares   F-statistic:                     187.8\nDate:                Wed, 21 Sep 2022   Prob (F-statistic):          5.55e-182\nTime:                        02:40:14   Log-Likelihood:                -270.13\nNo. Observations:                 510   AIC:                             568.3\nDf Residuals:                     496   BIC:                             627.5\nDf Model:                          13                                         \nCovariance Type:            nonrobust                                         \n==============================================================================\n                 coef    std err          t      P>|t|      [0.025      0.975]\n------------------------------------------------------------------------------\nconst         -0.4910      0.059     -8.299      0.000      -0.607      -0.375\nyr             1.0416      0.037     27.924      0.000       0.968       1.115\nworkingday     0.2470      0.051      4.877      0.000       0.147       0.347\ntemp           0.4330      0.033     13.147      0.000       0.368       0.498\ndecember      -0.1945      0.079     -2.455      0.014      -0.350      -0.039\njan           -0.1800      0.082     -2.192      0.029      -0.341      -0.019\njuly          -0.2612      0.079     -3.300      0.001      -0.417      -0.106\nnovember      -0.2430      0.085     -2.852      0.005      -0.410      -0.076\nseptember      0.2615      0.071      3.669      0.000       0.121       0.401\nsunday         0.2851      0.065      4.369      0.000       0.157       0.413\nlight_snow    -1.3973      0.112    -12.465      0.000      -1.618      -1.177\nmisty         -0.3629      0.040     -9.114      0.000      -0.441      -0.285\nspring        -0.4806      0.071     -6.762      0.000      -0.620      -0.341\nwinter         0.3433      0.064      5.342      0.000       0.217       0.470\n==============================================================================\nOmnibus:                       88.953   Durbin-Watson:                   1.990\nProb(Omnibus):                  0.000   Jarque-Bera (JB):              288.807\nSkew:                          -0.795   Prob(JB):                     1.93e-63\nKurtosis:                       6.326   Cond. No.                         9.18\n==============================================================================\n\nNotes:\n[1] Standard Errors assume that the covariance matrix of the errors is correctly specified.\n",
     "output_type": "stream"
    }
   ]
  },
  {
   "cell_type": "markdown",
   "source": "### Linear regression model variation 5",
   "metadata": {
    "cell_id": "a327e96624c549b1a171962ddf97f7f3",
    "tags": [],
    "deepnote_cell_type": "markdown",
    "deepnote_cell_height": 62
   }
  },
  {
   "cell_type": "markdown",
   "source": "Now that we have good VIF scores and low P values, let's evaluate performance on our training set once again but this time with sklearn's Linear Regression object.",
   "metadata": {
    "formattedRanges": [],
    "is_collapsed": false,
    "cell_id": "f3b74b7dbb014653beb2de5c9b38859f",
    "tags": [],
    "deepnote_cell_type": "text-cell-p"
   }
  },
  {
   "cell_type": "code",
   "metadata": {
    "cell_id": "2174a732680f4aaab5b7cf95a5b45f98",
    "tags": [],
    "deepnote_to_be_reexecuted": false,
    "source_hash": "8ab34064",
    "execution_start": 1663728014627,
    "execution_millis": 1,
    "deepnote_cell_type": "code",
    "deepnote_cell_height": 94
   },
   "source": "# assigning the final columns back to our training and test sets\nX_train = X_train_rfe[col]",
   "execution_count": 44,
   "outputs": []
  },
  {
   "cell_type": "code",
   "metadata": {
    "cell_id": "d6938eb5f7224ae89d1500d47294fdaa",
    "tags": [],
    "deepnote_to_be_reexecuted": false,
    "source_hash": "e6e828af",
    "execution_start": 1663728014628,
    "execution_millis": 14,
    "deepnote_cell_type": "code",
    "deepnote_cell_height": 187.375,
    "deepnote_output_heights": [
     59.375
    ]
   },
   "source": "lm_variation_5 = LinearRegression()\nlm_variation_5.fit(X_train, y_train)\n",
   "execution_count": 45,
   "outputs": [
    {
     "output_type": "execute_result",
     "execution_count": 45,
     "data": {
      "text/plain": "LinearRegression()",
      "text/html": "<style>#sk-container-id-2 {color: black;background-color: white;}#sk-container-id-2 pre{padding: 0;}#sk-container-id-2 div.sk-toggleable {background-color: white;}#sk-container-id-2 label.sk-toggleable__label {cursor: pointer;display: block;width: 100%;margin-bottom: 0;padding: 0.3em;box-sizing: border-box;text-align: center;}#sk-container-id-2 label.sk-toggleable__label-arrow:before {content: \"▸\";float: left;margin-right: 0.25em;color: #696969;}#sk-container-id-2 label.sk-toggleable__label-arrow:hover:before {color: black;}#sk-container-id-2 div.sk-estimator:hover label.sk-toggleable__label-arrow:before {color: black;}#sk-container-id-2 div.sk-toggleable__content {max-height: 0;max-width: 0;overflow: hidden;text-align: left;background-color: #f0f8ff;}#sk-container-id-2 div.sk-toggleable__content pre {margin: 0.2em;color: black;border-radius: 0.25em;background-color: #f0f8ff;}#sk-container-id-2 input.sk-toggleable__control:checked~div.sk-toggleable__content {max-height: 200px;max-width: 100%;overflow: auto;}#sk-container-id-2 input.sk-toggleable__control:checked~label.sk-toggleable__label-arrow:before {content: \"▾\";}#sk-container-id-2 div.sk-estimator input.sk-toggleable__control:checked~label.sk-toggleable__label {background-color: #d4ebff;}#sk-container-id-2 div.sk-label input.sk-toggleable__control:checked~label.sk-toggleable__label {background-color: #d4ebff;}#sk-container-id-2 input.sk-hidden--visually {border: 0;clip: rect(1px 1px 1px 1px);clip: rect(1px, 1px, 1px, 1px);height: 1px;margin: -1px;overflow: hidden;padding: 0;position: absolute;width: 1px;}#sk-container-id-2 div.sk-estimator {font-family: monospace;background-color: #f0f8ff;border: 1px dotted black;border-radius: 0.25em;box-sizing: border-box;margin-bottom: 0.5em;}#sk-container-id-2 div.sk-estimator:hover {background-color: #d4ebff;}#sk-container-id-2 div.sk-parallel-item::after {content: \"\";width: 100%;border-bottom: 1px solid gray;flex-grow: 1;}#sk-container-id-2 div.sk-label:hover label.sk-toggleable__label {background-color: #d4ebff;}#sk-container-id-2 div.sk-serial::before {content: \"\";position: absolute;border-left: 1px solid gray;box-sizing: border-box;top: 0;bottom: 0;left: 50%;z-index: 0;}#sk-container-id-2 div.sk-serial {display: flex;flex-direction: column;align-items: center;background-color: white;padding-right: 0.2em;padding-left: 0.2em;position: relative;}#sk-container-id-2 div.sk-item {position: relative;z-index: 1;}#sk-container-id-2 div.sk-parallel {display: flex;align-items: stretch;justify-content: center;background-color: white;position: relative;}#sk-container-id-2 div.sk-item::before, #sk-container-id-2 div.sk-parallel-item::before {content: \"\";position: absolute;border-left: 1px solid gray;box-sizing: border-box;top: 0;bottom: 0;left: 50%;z-index: -1;}#sk-container-id-2 div.sk-parallel-item {display: flex;flex-direction: column;z-index: 1;position: relative;background-color: white;}#sk-container-id-2 div.sk-parallel-item:first-child::after {align-self: flex-end;width: 50%;}#sk-container-id-2 div.sk-parallel-item:last-child::after {align-self: flex-start;width: 50%;}#sk-container-id-2 div.sk-parallel-item:only-child::after {width: 0;}#sk-container-id-2 div.sk-dashed-wrapped {border: 1px dashed gray;margin: 0 0.4em 0.5em 0.4em;box-sizing: border-box;padding-bottom: 0.4em;background-color: white;}#sk-container-id-2 div.sk-label label {font-family: monospace;font-weight: bold;display: inline-block;line-height: 1.2em;}#sk-container-id-2 div.sk-label-container {text-align: center;}#sk-container-id-2 div.sk-container {/* jupyter's `normalize.less` sets `[hidden] { display: none; }` but bootstrap.min.css set `[hidden] { display: none !important; }` so we also need the `!important` here to be able to override the default hidden behavior on the sphinx rendered scikit-learn.org. See: https://github.com/scikit-learn/scikit-learn/issues/21755 */display: inline-block !important;position: relative;}#sk-container-id-2 div.sk-text-repr-fallback {display: none;}</style><div id=\"sk-container-id-2\" class=\"sk-top-container\"><div class=\"sk-text-repr-fallback\"><pre>LinearRegression()</pre><b>In a Jupyter environment, please rerun this cell to show the HTML representation or trust the notebook. <br />On GitHub, the HTML representation is unable to render, please try loading this page with nbviewer.org.</b></div><div class=\"sk-container\" hidden><div class=\"sk-item\"><div class=\"sk-estimator sk-toggleable\"><input class=\"sk-toggleable__control sk-hidden--visually\" id=\"sk-estimator-id-2\" type=\"checkbox\" checked><label for=\"sk-estimator-id-2\" class=\"sk-toggleable__label sk-toggleable__label-arrow\">LinearRegression</label><div class=\"sk-toggleable__content\"><pre>LinearRegression()</pre></div></div></div></div></div>"
     },
     "metadata": {}
    }
   ]
  },
  {
   "cell_type": "markdown",
   "source": "## Evaluation",
   "metadata": {
    "cell_id": "97546f4cbd074ca39231f47f1f0cc14b",
    "tags": [],
    "deepnote_cell_type": "markdown",
    "deepnote_cell_height": 70
   }
  },
  {
   "cell_type": "markdown",
   "source": "### Training set evaluation",
   "metadata": {
    "cell_id": "8b91189f1352420da826ba574c7c0b0f",
    "tags": [],
    "deepnote_cell_type": "markdown",
    "deepnote_cell_height": 62
   }
  },
  {
   "cell_type": "code",
   "metadata": {
    "cell_id": "c4db7ef59df94641951b2548f30d16b5",
    "tags": [],
    "deepnote_to_be_reexecuted": false,
    "source_hash": "a5efaa08",
    "execution_start": 1663728014679,
    "execution_millis": 2,
    "deepnote_cell_type": "code",
    "deepnote_cell_height": 148.1875,
    "deepnote_output_heights": [
     20.1875
    ]
   },
   "source": "y_train_pred = lm_variation_5.predict(X_train)\ntrain_r2 = r2_score(y_train, y_train_pred)\ntrain_r2",
   "execution_count": 46,
   "outputs": [
    {
     "output_type": "execute_result",
     "execution_count": 46,
     "data": {
      "text/plain": "0.83111502659626"
     },
     "metadata": {}
    }
   ]
  },
  {
   "cell_type": "markdown",
   "source": "It looks like we increase our R2 score on the training set by .01. Great news!",
   "metadata": {
    "formattedRanges": [],
    "is_collapsed": false,
    "cell_id": "5a48c2aa661a47d8b31f16ca87bc6e3e",
    "tags": [],
    "deepnote_cell_type": "text-cell-p"
   }
  },
  {
   "cell_type": "markdown",
   "source": "### Residual analysis",
   "metadata": {
    "cell_id": "6a9d746b79ee4525bb541044f63c0ebe",
    "tags": [],
    "deepnote_cell_type": "markdown",
    "deepnote_cell_height": 62
   }
  },
  {
   "cell_type": "markdown",
   "source": "One of the important analysis to do when evaluating linear models, is to learn if the error values are normally distributed. Let's plot the distribution of error values comparing y_pred and y_train.",
   "metadata": {
    "formattedRanges": [],
    "is_collapsed": false,
    "cell_id": "2bd562a3-9489-4206-ace0-79ef4b19e96d",
    "tags": [],
    "deepnote_cell_type": "text-cell-p"
   }
  },
  {
   "cell_type": "code",
   "metadata": {
    "cell_id": "012305c4e3ee4b19945cfb5adb1108c9",
    "tags": [],
    "deepnote_to_be_reexecuted": false,
    "source_hash": "69dac61a",
    "execution_start": 1663728014680,
    "execution_millis": 72,
    "deepnote_cell_type": "code",
    "deepnote_cell_height": 636,
    "deepnote_output_heights": [
     526
    ]
   },
   "source": "train_errors = y_train - y_train_pred\npx.histogram(train_errors, nbins=20, title=\"Errors\")",
   "execution_count": 47,
   "outputs": [
    {
     "data": {
      "text/html": "<html>\n<head><meta charset=\"utf-8\" /></head>\n<body>\n    <div>            <script src=\"https://cdnjs.cloudflare.com/ajax/libs/mathjax/2.7.5/MathJax.js?config=TeX-AMS-MML_SVG\"></script><script type=\"text/javascript\">if (window.MathJax && window.MathJax.Hub && window.MathJax.Hub.Config) {window.MathJax.Hub.Config({SVG: {font: \"STIX-Web\"}});}</script>                <script type=\"text/javascript\">window.PlotlyConfig = {MathJaxConfig: 'local'};</script>\n        <script src=\"https://cdn.plot.ly/plotly-2.14.0.min.js\"></script>                <div id=\"e41cea97-4d73-4151-b9ce-ae198cbdd204\" class=\"plotly-graph-div\" style=\"height:525px; width:100%;\"></div>            <script type=\"text/javascript\">                                    window.PLOTLYENV=window.PLOTLYENV || {};                                    if (document.getElementById(\"e41cea97-4d73-4151-b9ce-ae198cbdd204\")) {                    Plotly.newPlot(                        \"e41cea97-4d73-4151-b9ce-ae198cbdd204\",                        [{\"alignmentgroup\":\"True\",\"bingroup\":\"x\",\"hovertemplate\":\"variable=cnt<br>value=%{x}<br>count=%{y}<extra></extra>\",\"legendgroup\":\"cnt\",\"marker\":{\"color\":\"#636efa\",\"pattern\":{\"shape\":\"\"}},\"name\":\"cnt\",\"nbinsx\":20,\"offsetgroup\":\"cnt\",\"orientation\":\"v\",\"showlegend\":true,\"x\":[0.47438834629047655,0.3298684923923747,-0.025583968659882994,-0.6942432100808402,-0.3375804903439038,-0.4631478160480067,-0.3616751842241799,0.3587045790053902,0.11165908422518223,-0.43137641073326183,0.763654536033727,0.5210013682752528,-0.07124266471959503,0.07928151017599872,0.10285946115531812,0.4642328413275276,-0.5035658476826321,0.6137398649660109,0.5820334888330942,-0.0060610249241544525,0.0717272227439833,0.33126392024361656,0.18448090764235348,-0.03808509883190864,0.12712059609184534,-0.07198905416384682,0.24991930015241795,0.13392229787791665,0.5530460159346777,-0.11456664634190084,-0.22187653323511636,0.3810207384608461,-1.0733112607955537,0.3167142955375506,-0.056515301116622896,0.17362073999928657,-0.8633879867387826,-0.048489937030538444,-0.18468287480101497,-0.2639277119205483,0.07000562144339201,0.28411295683032994,-0.7264036536432604,0.0870587245476333,-0.4717984569834359,0.09436409943727575,-0.0005029661298704413,0.012375990671095849,0.27591241115329823,0.15182638027926276,-0.030324379197138304,0.11448027935345317,-0.38385300266892874,-0.13835251656097605,0.11619790174296862,0.2986141119345668,0.050611257937110965,0.2559683268794703,-1.2812416892184693,0.13493039065112766,0.19977469012645221,0.21019618570338525,0.1845006165938638,0.4937371579348704,0.26436364322964884,-0.30941482771873974,-0.1666465377364436,-0.029632946911137242,-0.7795470608172872,-0.10846699186704356,-0.5378853786954877,0.1310326315917829,0.44711184622232514,0.2514060945768166,0.11259285008083803,-0.3195874918663302,0.11151627575440393,-0.6409419231121143,-0.15164856280300176,-0.19647231657194547,0.2609252676944305,-0.09204509656363402,-0.030552907358511683,0.10965811957008653,0.12032606979005922,-0.2605448650269579,-0.04260657144168577,-0.23505320233692573,-0.27787533398118713,-0.17511074246481662,0.4439159063150002,-0.28733323051817994,0.29952870812015786,-0.1417439542497968,0.1660720126519532,0.04885624779295106,-0.05589787387322365,0.2785023764938322,-0.13590098412487742,0.3641225412646676,0.25278508044978554,-0.7278667520773763,-0.23229050381998007,-0.09652395448879103,0.2598463799546147,-0.4625103340880593,0.3306718189272315,0.09076219097152416,-0.06172730187217402,0.30908296577060024,0.2709441223329714,0.048159444434129395,-0.15765504434170174,-0.07188169994637827,-0.2237391965750511,0.12428080503291661,-0.09844434417539394,-0.23204874477844034,-0.17645941243440233,0.0945740238303473,0.02615794713884831,0.26986569690339945,0.36164714446344653,0.1434161481759022,1.1488566731969965,-0.09240369882709565,0.0912117687199519,-0.2595259649518592,0.3054333729984273,0.33943808802192865,0.19868849871493333,0.179173560802725,-0.00905973748781741,-0.3409350794889014,0.2869623962639132,-0.01649546131583246,-0.30713268190854665,-0.3846453675249829,0.11578739907886929,-0.15816911556650964,-0.7775730162048098,-0.058922242955941034,-0.35126646824251745,0.08844444942696697,0.20003018327904332,0.03199503769006412,0.055948242894227396,-0.16253785763557405,0.14094545806625508,-0.11486202961234585,0.25422538941057127,-0.013586376289164148,-1.912334443001327,0.04015962010383378,0.7148986126403278,-0.22314420885983866,-0.11143028528715171,0.6058184078579751,-0.3508900178093579,-0.2802181539301639,0.4420038806928568,-0.18977686289798967,-0.03545377666094596,0.0770367145348812,-0.45508448552690617,0.2581736975215243,0.13925690680107994,-0.5189488860611992,0.04756489652135726,-0.12112875195986716,-0.16832853089732458,0.36047677978245274,0.7154128998035925,0.35989993401858805,-0.30097602840356735,1.6683704783317332,-0.15742190437908055,0.127981531302081,0.05058955730110082,-0.055604252236122864,0.05350723951744235,-1.0107928009951088,0.3920666561324,0.015860826813449913,-0.34788044514437944,0.21144849466380844,0.10023323755052704,0.4070450614115466,-0.45083860888113225,-0.799002303437028,-0.293905879177523,-0.8534865888749257,0.6451983447556751,0.2101049584722785,-0.6347522252639841,0.27243839749463605,0.20006037170199692,-0.20535519486971582,-0.28915143702118623,-0.1055581601944806,-0.25432740406148624,0.2850538119371253,-0.06126594186589157,0.236263324071314,0.2516107542756917,0.32262967036607026,-0.7583135234522632,0.14040071538231252,-0.10895298673095666,-0.3835694914268055,0.2453928952317057,0.231647088207469,-0.07114127497083367,0.07462712805609446,-0.4413149052663361,-0.17704223112287742,-0.5153073353815848,0.23470875926841184,0.7883669667809039,-0.6554805161465613,-0.10264680982230306,0.42235770745279533,-0.5541396258905791,-1.0273362754758535,0.1093427198902962,0.4552403902509752,0.44182198749149637,0.019672291558721744,-0.15423933345833696,0.06071682515371157,0.04746232398506392,-0.6797385272503813,-0.7161541778184041,-0.3597344375076661,-0.40255624336920603,-0.18490379822095604,-0.28933261802956356,0.16596735630064094,-0.4825941269204025,-0.16133854512437606,-0.2724959198527793,0.3831049428800093,0.4452850064862892,-0.5196745985230438,0.08058309536453756,-0.08360673586996858,0.7986790499737908,0.2562332867423516,0.17646647471377153,0.3704791616074958,0.0773278417540677,0.4103535567631511,0.23954298320288103,0.3382104699388338,-0.9147494000609988,0.4578805361205894,-0.9886421312915642,0.26520415833543964,0.1671354779366941,-0.2197078454717838,-0.011043887463969781,-0.4821213555796348,-0.3406594955679705,-0.11018024128734494,-0.40313896046461717,0.6778627027151476,0.051039909921131166,0.04085393709827212,0.48263528232787145,0.3828627751240883,-0.11664158238184763,0.0551841638815902,0.5522695126544086,0.4330849315726,-0.4274340634575573,-1.561873406327889,-0.07923874278154408,-0.04800699844584444,0.11438199452690756,-0.09188075234914161,0.6062989574730115,-0.31073399215582514,0.09269052004622114,-0.3075962500845857,0.20397573454470014,-0.10940565915175421,-0.1080246635100916,-0.31773688436828185,0.20963866180621565,-0.7031201936191998,-0.23152719559711932,0.5316838483477055,0.23393318491211268,0.8050449501999959,0.35826621490265287,-0.4686179291282502,0.11757201566081621,-0.21407914241203657,0.46027410425226223,-0.5116143820291115,-0.026833811520104556,0.001034640170454626,-0.09272057196566907,0.5564541869822539,-0.8769244717349299,-0.06932819305794058,-0.0036151003521380787,0.05485353904748708,0.06880530839104393,-0.45187354849010464,0.07930781209101422,0.27355430925005453,0.6835364877293251,-0.08211783913031856,-0.06569812841836672,0.1675950001686961,-0.006162615812500993,-0.1882890580584167,-0.06667812859511069,0.3498732610443489,0.14317109489229665,-0.16136049994513202,-1.4758679156545922,-0.20733519677928425,0.16392081569314465,0.6718291802031618,0.7607998193213426,-0.2591761088326481,-0.6321140038478924,0.1292374517326617,-0.09555674876135578,-0.1834088371643876,0.25947420253782993,0.3539227573888994,0.12340705818367059,0.3008735134176325,-0.1353363247850079,0.3113332966015787,-0.2663318024301876,0.2623143330545357,0.5362759130570248,0.48395968778459675,0.367002919884333,0.031100054444739955,0.8148061459517038,-0.3824601963419063,0.6571211203575699,0.1983159938525531,0.08827394601807548,-1.3483743202673617,-0.02543912108327523,0.0806939238966109,-0.36388599387968024,-0.026078586715732377,0.3672941424176064,-0.04053001733494099,0.15410868589269278,0.04685698272884964,0.3559527801395339,-0.18040724034672107,-0.246271199440802,-0.23656130853782587,0.2461009318249005,0.21020895046516186,0.009933275652295404,-0.31947695674196774,-0.16793264572585292,-0.17965583684929998,-0.5143494548324259,-0.03690204349424389,0.23110354540187394,0.3820281600433988,0.19885512603970396,0.4068384266887816,-0.6838085702214112,-0.824710990432674,0.0368007757197239,0.22190733641834592,-0.16129372804250391,0.18346554802036863,-0.687437439593436,-0.2996698401300417,0.026966348711642274,-0.16162887120387703,0.3300979236684318,0.09817145613641137,0.15575497800957933,0.22114739447533707,0.002974103358618141,-0.031226414237947253,0.25396479580851006,-0.48450782282169746,0.3465079680022256,-0.05740126687124847,0.2675678731370638,-0.12572663820304586,0.24905474585791643,0.5554207092717252,-0.06274738359104559,-0.3775380838591204,0.2217921554122695,-0.10256252775589192,0.18121070508909343,0.4788855974146886,-0.034160225818006096,0.7357286385565305,-0.08606753345568563,-0.2037274442156749,0.1206640164455261,-0.08900056356373559,-0.4112936557637854,-0.3130513421617177,0.4155993289689073,0.2578249061456252,0.02898580879192518,0.5678879720290018,0.286577995286039,-0.25870027093552994,0.3969437899272928,0.1658387789030814,0.4965633090896471,0.3667855702995433,-0.7187493551243603,-0.26844720307605524,0.03750644318378815,1.2862774110891497,0.7341246836794314,-0.2518469874413954,-0.30205116834643303,0.49051665494525976,-0.39888233690110897,0.21457883976062064,-0.03381546774421629,0.053061132282655965,0.3841384030518502,-0.37873726197613217,0.016611432996033515,-0.5910503413066109,-0.4381169898343527,-0.14686945787106676,-0.007621848132889797,0.27793173658708864,0.45711024640003983,0.0932359796756565,0.4037884807734977,0.6423215844042254,0.12747872857508635,-0.05030895239944222,-0.5418537865344364,0.45204598305409194,0.2338714266034292,0.3307330847397224,0.43975127191921226,0.42239555521729066,-0.016325647606147603,0.1206283674184283,-0.21643457263321242,0.0698455620307239,0.4886509846768689,-0.1977629144218953,0.38304162033805644,0.09371475034129972,-0.02830778025536529,0.47681931586393156,0.4145992541749648,-0.03305518959730325,0.5069959244950466,-0.6373458455207677,0.4226039923858934,-0.33860760611113283,0.026010809228465326,-0.3266086911093259,0.7282964690554652,-0.1589619214774412,-0.222826365686966,-1.6135093935891667,0.12030679980448558,0.39885780382070674,0.06784605349162809,-0.2589876831837091,-0.025567674306961163,0.27656334564409923,-0.0011694076604555903,0.06689587179389411,-0.33031491282749464,0.04861706350906726,0.05335225186445558,-0.5575722005658144,-0.2354574502231241,-0.06068603017555829,0.05437323446930886,-0.3018834912739057,0.3077272091791498,-0.26302320803149726,-2.104761093634848,-0.029828603090943595,-0.4762146945187312,-0.6577462312156466,0.41890687678539873,-0.3521202774240576,0.7946682307063415,0.11453914529151626,-0.20680954090648962,0.6949454276847036,0.26072156825081333,0.13064699209642683,-0.0018743670214469432,0.04940067687378624,0.07879265533323787,-0.48535586447918755],\"xaxis\":\"x\",\"yaxis\":\"y\",\"type\":\"histogram\"}],                        {\"template\":{\"data\":{\"histogram2dcontour\":[{\"type\":\"histogram2dcontour\",\"colorbar\":{\"outlinewidth\":0,\"ticks\":\"\"},\"colorscale\":[[0.0,\"#0d0887\"],[0.1111111111111111,\"#46039f\"],[0.2222222222222222,\"#7201a8\"],[0.3333333333333333,\"#9c179e\"],[0.4444444444444444,\"#bd3786\"],[0.5555555555555556,\"#d8576b\"],[0.6666666666666666,\"#ed7953\"],[0.7777777777777778,\"#fb9f3a\"],[0.8888888888888888,\"#fdca26\"],[1.0,\"#f0f921\"]]}],\"choropleth\":[{\"type\":\"choropleth\",\"colorbar\":{\"outlinewidth\":0,\"ticks\":\"\"}}],\"histogram2d\":[{\"type\":\"histogram2d\",\"colorbar\":{\"outlinewidth\":0,\"ticks\":\"\"},\"colorscale\":[[0.0,\"#0d0887\"],[0.1111111111111111,\"#46039f\"],[0.2222222222222222,\"#7201a8\"],[0.3333333333333333,\"#9c179e\"],[0.4444444444444444,\"#bd3786\"],[0.5555555555555556,\"#d8576b\"],[0.6666666666666666,\"#ed7953\"],[0.7777777777777778,\"#fb9f3a\"],[0.8888888888888888,\"#fdca26\"],[1.0,\"#f0f921\"]]}],\"heatmap\":[{\"type\":\"heatmap\",\"colorbar\":{\"outlinewidth\":0,\"ticks\":\"\"},\"colorscale\":[[0.0,\"#0d0887\"],[0.1111111111111111,\"#46039f\"],[0.2222222222222222,\"#7201a8\"],[0.3333333333333333,\"#9c179e\"],[0.4444444444444444,\"#bd3786\"],[0.5555555555555556,\"#d8576b\"],[0.6666666666666666,\"#ed7953\"],[0.7777777777777778,\"#fb9f3a\"],[0.8888888888888888,\"#fdca26\"],[1.0,\"#f0f921\"]]}],\"heatmapgl\":[{\"type\":\"heatmapgl\",\"colorbar\":{\"outlinewidth\":0,\"ticks\":\"\"},\"colorscale\":[[0.0,\"#0d0887\"],[0.1111111111111111,\"#46039f\"],[0.2222222222222222,\"#7201a8\"],[0.3333333333333333,\"#9c179e\"],[0.4444444444444444,\"#bd3786\"],[0.5555555555555556,\"#d8576b\"],[0.6666666666666666,\"#ed7953\"],[0.7777777777777778,\"#fb9f3a\"],[0.8888888888888888,\"#fdca26\"],[1.0,\"#f0f921\"]]}],\"contourcarpet\":[{\"type\":\"contourcarpet\",\"colorbar\":{\"outlinewidth\":0,\"ticks\":\"\"}}],\"contour\":[{\"type\":\"contour\",\"colorbar\":{\"outlinewidth\":0,\"ticks\":\"\"},\"colorscale\":[[0.0,\"#0d0887\"],[0.1111111111111111,\"#46039f\"],[0.2222222222222222,\"#7201a8\"],[0.3333333333333333,\"#9c179e\"],[0.4444444444444444,\"#bd3786\"],[0.5555555555555556,\"#d8576b\"],[0.6666666666666666,\"#ed7953\"],[0.7777777777777778,\"#fb9f3a\"],[0.8888888888888888,\"#fdca26\"],[1.0,\"#f0f921\"]]}],\"surface\":[{\"type\":\"surface\",\"colorbar\":{\"outlinewidth\":0,\"ticks\":\"\"},\"colorscale\":[[0.0,\"#0d0887\"],[0.1111111111111111,\"#46039f\"],[0.2222222222222222,\"#7201a8\"],[0.3333333333333333,\"#9c179e\"],[0.4444444444444444,\"#bd3786\"],[0.5555555555555556,\"#d8576b\"],[0.6666666666666666,\"#ed7953\"],[0.7777777777777778,\"#fb9f3a\"],[0.8888888888888888,\"#fdca26\"],[1.0,\"#f0f921\"]]}],\"mesh3d\":[{\"type\":\"mesh3d\",\"colorbar\":{\"outlinewidth\":0,\"ticks\":\"\"}}],\"scatter\":[{\"fillpattern\":{\"fillmode\":\"overlay\",\"size\":10,\"solidity\":0.2},\"type\":\"scatter\"}],\"parcoords\":[{\"type\":\"parcoords\",\"line\":{\"colorbar\":{\"outlinewidth\":0,\"ticks\":\"\"}}}],\"scatterpolargl\":[{\"type\":\"scatterpolargl\",\"marker\":{\"colorbar\":{\"outlinewidth\":0,\"ticks\":\"\"}}}],\"bar\":[{\"error_x\":{\"color\":\"#2a3f5f\"},\"error_y\":{\"color\":\"#2a3f5f\"},\"marker\":{\"line\":{\"color\":\"#E5ECF6\",\"width\":0.5},\"pattern\":{\"fillmode\":\"overlay\",\"size\":10,\"solidity\":0.2}},\"type\":\"bar\"}],\"scattergeo\":[{\"type\":\"scattergeo\",\"marker\":{\"colorbar\":{\"outlinewidth\":0,\"ticks\":\"\"}}}],\"scatterpolar\":[{\"type\":\"scatterpolar\",\"marker\":{\"colorbar\":{\"outlinewidth\":0,\"ticks\":\"\"}}}],\"histogram\":[{\"marker\":{\"pattern\":{\"fillmode\":\"overlay\",\"size\":10,\"solidity\":0.2}},\"type\":\"histogram\"}],\"scattergl\":[{\"type\":\"scattergl\",\"marker\":{\"colorbar\":{\"outlinewidth\":0,\"ticks\":\"\"}}}],\"scatter3d\":[{\"type\":\"scatter3d\",\"line\":{\"colorbar\":{\"outlinewidth\":0,\"ticks\":\"\"}},\"marker\":{\"colorbar\":{\"outlinewidth\":0,\"ticks\":\"\"}}}],\"scattermapbox\":[{\"type\":\"scattermapbox\",\"marker\":{\"colorbar\":{\"outlinewidth\":0,\"ticks\":\"\"}}}],\"scatterternary\":[{\"type\":\"scatterternary\",\"marker\":{\"colorbar\":{\"outlinewidth\":0,\"ticks\":\"\"}}}],\"scattercarpet\":[{\"type\":\"scattercarpet\",\"marker\":{\"colorbar\":{\"outlinewidth\":0,\"ticks\":\"\"}}}],\"carpet\":[{\"aaxis\":{\"endlinecolor\":\"#2a3f5f\",\"gridcolor\":\"white\",\"linecolor\":\"white\",\"minorgridcolor\":\"white\",\"startlinecolor\":\"#2a3f5f\"},\"baxis\":{\"endlinecolor\":\"#2a3f5f\",\"gridcolor\":\"white\",\"linecolor\":\"white\",\"minorgridcolor\":\"white\",\"startlinecolor\":\"#2a3f5f\"},\"type\":\"carpet\"}],\"table\":[{\"cells\":{\"fill\":{\"color\":\"#EBF0F8\"},\"line\":{\"color\":\"white\"}},\"header\":{\"fill\":{\"color\":\"#C8D4E3\"},\"line\":{\"color\":\"white\"}},\"type\":\"table\"}],\"barpolar\":[{\"marker\":{\"line\":{\"color\":\"#E5ECF6\",\"width\":0.5},\"pattern\":{\"fillmode\":\"overlay\",\"size\":10,\"solidity\":0.2}},\"type\":\"barpolar\"}],\"pie\":[{\"automargin\":true,\"type\":\"pie\"}]},\"layout\":{\"autotypenumbers\":\"strict\",\"colorway\":[\"#636efa\",\"#EF553B\",\"#00cc96\",\"#ab63fa\",\"#FFA15A\",\"#19d3f3\",\"#FF6692\",\"#B6E880\",\"#FF97FF\",\"#FECB52\"],\"font\":{\"color\":\"#2a3f5f\"},\"hovermode\":\"closest\",\"hoverlabel\":{\"align\":\"left\"},\"paper_bgcolor\":\"white\",\"plot_bgcolor\":\"#E5ECF6\",\"polar\":{\"bgcolor\":\"#E5ECF6\",\"angularaxis\":{\"gridcolor\":\"white\",\"linecolor\":\"white\",\"ticks\":\"\"},\"radialaxis\":{\"gridcolor\":\"white\",\"linecolor\":\"white\",\"ticks\":\"\"}},\"ternary\":{\"bgcolor\":\"#E5ECF6\",\"aaxis\":{\"gridcolor\":\"white\",\"linecolor\":\"white\",\"ticks\":\"\"},\"baxis\":{\"gridcolor\":\"white\",\"linecolor\":\"white\",\"ticks\":\"\"},\"caxis\":{\"gridcolor\":\"white\",\"linecolor\":\"white\",\"ticks\":\"\"}},\"coloraxis\":{\"colorbar\":{\"outlinewidth\":0,\"ticks\":\"\"}},\"colorscale\":{\"sequential\":[[0.0,\"#0d0887\"],[0.1111111111111111,\"#46039f\"],[0.2222222222222222,\"#7201a8\"],[0.3333333333333333,\"#9c179e\"],[0.4444444444444444,\"#bd3786\"],[0.5555555555555556,\"#d8576b\"],[0.6666666666666666,\"#ed7953\"],[0.7777777777777778,\"#fb9f3a\"],[0.8888888888888888,\"#fdca26\"],[1.0,\"#f0f921\"]],\"sequentialminus\":[[0.0,\"#0d0887\"],[0.1111111111111111,\"#46039f\"],[0.2222222222222222,\"#7201a8\"],[0.3333333333333333,\"#9c179e\"],[0.4444444444444444,\"#bd3786\"],[0.5555555555555556,\"#d8576b\"],[0.6666666666666666,\"#ed7953\"],[0.7777777777777778,\"#fb9f3a\"],[0.8888888888888888,\"#fdca26\"],[1.0,\"#f0f921\"]],\"diverging\":[[0,\"#8e0152\"],[0.1,\"#c51b7d\"],[0.2,\"#de77ae\"],[0.3,\"#f1b6da\"],[0.4,\"#fde0ef\"],[0.5,\"#f7f7f7\"],[0.6,\"#e6f5d0\"],[0.7,\"#b8e186\"],[0.8,\"#7fbc41\"],[0.9,\"#4d9221\"],[1,\"#276419\"]]},\"xaxis\":{\"gridcolor\":\"white\",\"linecolor\":\"white\",\"ticks\":\"\",\"title\":{\"standoff\":15},\"zerolinecolor\":\"white\",\"automargin\":true,\"zerolinewidth\":2},\"yaxis\":{\"gridcolor\":\"white\",\"linecolor\":\"white\",\"ticks\":\"\",\"title\":{\"standoff\":15},\"zerolinecolor\":\"white\",\"automargin\":true,\"zerolinewidth\":2},\"scene\":{\"xaxis\":{\"backgroundcolor\":\"#E5ECF6\",\"gridcolor\":\"white\",\"linecolor\":\"white\",\"showbackground\":true,\"ticks\":\"\",\"zerolinecolor\":\"white\",\"gridwidth\":2},\"yaxis\":{\"backgroundcolor\":\"#E5ECF6\",\"gridcolor\":\"white\",\"linecolor\":\"white\",\"showbackground\":true,\"ticks\":\"\",\"zerolinecolor\":\"white\",\"gridwidth\":2},\"zaxis\":{\"backgroundcolor\":\"#E5ECF6\",\"gridcolor\":\"white\",\"linecolor\":\"white\",\"showbackground\":true,\"ticks\":\"\",\"zerolinecolor\":\"white\",\"gridwidth\":2}},\"shapedefaults\":{\"line\":{\"color\":\"#2a3f5f\"}},\"annotationdefaults\":{\"arrowcolor\":\"#2a3f5f\",\"arrowhead\":0,\"arrowwidth\":1},\"geo\":{\"bgcolor\":\"white\",\"landcolor\":\"#E5ECF6\",\"subunitcolor\":\"white\",\"showland\":true,\"showlakes\":true,\"lakecolor\":\"white\"},\"title\":{\"x\":0.05},\"mapbox\":{\"style\":\"light\"}}},\"xaxis\":{\"anchor\":\"y\",\"domain\":[0.0,1.0],\"title\":{\"text\":\"value\"}},\"yaxis\":{\"anchor\":\"x\",\"domain\":[0.0,1.0],\"title\":{\"text\":\"count\"}},\"legend\":{\"title\":{\"text\":\"variable\"},\"tracegroupgap\":0},\"title\":{\"text\":\"Errors\"},\"barmode\":\"relative\"},                        {\"responsive\": true}                    ).then(function(){\n                            \nvar gd = document.getElementById('e41cea97-4d73-4151-b9ce-ae198cbdd204');\nvar x = new MutationObserver(function (mutations, observer) {{\n        var display = window.getComputedStyle(gd).display;\n        if (!display || display === 'none') {{\n            console.log([gd, 'removed!']);\n            Plotly.purge(gd);\n            observer.disconnect();\n        }}\n}});\n\n// Listen for the removal of the full notebook cells\nvar notebookContainer = gd.closest('#notebook-container');\nif (notebookContainer) {{\n    x.observe(notebookContainer, {childList: true});\n}}\n\n// Listen for the clearing of the current output cell\nvar outputEl = gd.closest('.output');\nif (outputEl) {{\n    x.observe(outputEl, {childList: true});\n}}\n\n                        })                };                            </script>        </div>\n</body>\n</html>"
     },
     "metadata": {},
     "output_type": "display_data"
    }
   ]
  },
  {
   "cell_type": "markdown",
   "source": "We can see that the error values are distributed evenly and the mean hovers around 0. Before we evaluate our model with RMSE, let's identify whether or now we see any patterns in the residuals plotting against y_train. ",
   "metadata": {
    "formattedRanges": [],
    "is_collapsed": false,
    "cell_id": "b4c60d73-d48a-4923-bf9d-ed30731de00d",
    "tags": [],
    "deepnote_cell_type": "text-cell-p"
   }
  },
  {
   "cell_type": "code",
   "metadata": {
    "cell_id": "df95386ea678444dadeab1ce334ea178",
    "tags": [],
    "deepnote_to_be_reexecuted": false,
    "source_hash": "f0441a16",
    "execution_start": 1663728014754,
    "execution_millis": 131,
    "deepnote_cell_type": "code",
    "deepnote_cell_height": 654,
    "deepnote_output_heights": [
     526
    ]
   },
   "source": "figure_1 = px.scatter(y_train, y_train, train_errors)\nfigure_1.add_hline(y=0, line_width=2, line_color=\"red\")\nfigure_1.show()",
   "execution_count": 48,
   "outputs": [
    {
     "data": {
      "text/html": "<html>\n<head><meta charset=\"utf-8\" /></head>\n<body>\n    <div>            <script src=\"https://cdnjs.cloudflare.com/ajax/libs/mathjax/2.7.5/MathJax.js?config=TeX-AMS-MML_SVG\"></script><script type=\"text/javascript\">if (window.MathJax && window.MathJax.Hub && window.MathJax.Hub.Config) {window.MathJax.Hub.Config({SVG: {font: \"STIX-Web\"}});}</script>                <script type=\"text/javascript\">window.PlotlyConfig = {MathJaxConfig: 'local'};</script>\n        <script src=\"https://cdn.plot.ly/plotly-2.14.0.min.js\"></script>                <div id=\"9ea0c265-8f22-495e-be4f-8986b7c560df\" class=\"plotly-graph-div\" style=\"height:525px; width:100%;\"></div>            <script type=\"text/javascript\">                                    window.PLOTLYENV=window.PLOTLYENV || {};                                    if (document.getElementById(\"9ea0c265-8f22-495e-be4f-8986b7c560df\")) {                    Plotly.newPlot(                        \"9ea0c265-8f22-495e-be4f-8986b7c560df\",                        [{\"hovertemplate\":\"x=%{x}<br>y=%{y}<extra></extra>\",\"legendgroup\":\"\",\"marker\":{\"color\":\"#636efa\",\"symbol\":\"circle\"},\"mode\":\"markers\",\"name\":\"\",\"orientation\":\"v\",\"showlegend\":false,\"x\":[1.5626853738605602,1.3996288469477316,-0.21555373096236202,-1.3795106998055089,-0.13658924937564634,-1.4374521700606964,1.1986283483633644,1.5062821727271918,0.8766173455292251,-0.061214062406508646,0.7971401075685697,2.086209631653006,-0.17248219555142622,0.9996788752747561,0.12337823221178777,1.6580580594133465,0.03210759765051899,0.6761296033187976,0.8966148441128738,-0.013527719630115405,0.3612971897198143,0.5884482633751068,1.318613339865257,0.3966773795216544,-0.7349759377632905,1.1991411047373042,-0.18632661764779843,1.2714397534628035,1.4375728186192702,0.05313060898204719,-0.5452560794055971,0.28438373362885744,-0.5714066544765224,0.01262285544080992,0.2587459149318718,0.26848828603672636,-1.5338503683613622,-0.05711201141499095,1.178118093405776,0.6786933851884962,0.4556443625247213,-0.19965828337023095,-1.1241580255835322,-1.6830624731778185,0.4807694248477672,0.07825567130509309,0.9658369545947351,1.2017048866070026,0.9140485608268241,1.4667999319338338,0.07569188943539452,1.291950008420392,-0.18376283577809988,-0.04429310206649814,0.7094587676248789,0.4387234021847108,1.1304317506293826,0.36796302258103053,0.18131970246697526,1.1037684191845176,-0.6785727366299222,-0.21504097458842233,0.5566573681908447,-0.9364891927215975,0.520251665641125,0.880206640146803,0.3079705268300842,-0.17094392642960707,-0.8067618301148503,0.7920125438291725,0.7935508129509917,-0.3893781417279245,1.7324077336346049,-1.7020344590135879,0.3341211019010095,-0.6898533768565959,-1.4769344108540543,-0.2970819944187763,0.028005546659001287,-0.3637403230309389,0.11363586110693323,-0.368867886770336,-0.6375522267147452,-1.0616017479628872,-1.517954920769231,-0.7257463230323757,-0.09351771396471052,-0.04942066580589526,-1.0205812380477104,-1.4225822352164448,-1.5261590227522666,-0.42424557515582495,1.4750040339168693,0.5494787789556886,0.48025666847382753,-1.7327998414499706,-1.625121002922631,0.32335321804827555,-0.17043117005566735,-0.5821745383292563,-1.3687428159527748,-0.6452435723238409,-1.9138028414506891,-1.1585127026374928,1.4811571104041459,0.8822576656425619,-1.3036227564624314,-1.3713065978224734,0.054156121729926614,1.2217023851906514,1.6442136373169742,0.10286797725419927,-1.1456937932890001,-1.8897032918755226,0.3500165494931406,-0.6344756884711069,-1.4856512692110293,0.3382231528925272,-1.0313491219004443,-0.6031975496607845,-0.06890540801560432,-1.5743581219025995,-0.3463066063169887,-1.509238062412256,1.4991035834920359,0.39616462314771467,-0.4478323683570517,0.1418374616736174,0.1623477166312059,0.20234271379850347,-1.808687784793048,0.2074702775379006,-1.2067118017878258,-0.48423807090677123,-1.4543731304007068,0.6366473625254397,0.3141236033173607,-0.2011965524920501,-0.22888539668479455,-0.4555237139661474,-0.8995707337979382,-0.188890399517497,-0.5421795411619588,0.08338323504449022,0.924816444679558,0.4289810310798563,0.14696502541301454,-1.5512840850753125,-0.07557124087682059,0.09876592626268157,1.5990910764102797,-1.4364266573128168,-2.2891405071745585,0.8961020877389342,-0.7272845921541948,-0.8062490737409106,0.8627729234328528,1.516537300205986,-0.3145157111327265,0.0828704786705505,1.2288809744258073,1.2268299489300485,-0.5924296658080506,-0.2627273173648156,-1.0221195071695295,1.5278179404326597,0.29310059198583255,0.11825066847239064,-0.4698808924364593,-1.7851009915918212,-1.737414648815428,0.8940510622431753,0.034158623146277836,0.49153730870050116,0.050566827112348625,1.7175377987903533,-1.2769594250175664,-0.4442430737394737,-0.5555112068843913,-1.5056487677946782,0.3787309064337645,-0.1842755921520396,1.6811320962406335,1.468338201055653,-0.7272845921541948,0.28130719538521914,-1.7974071445663744,1.4288559602622952,-1.512827357029834,0.6853592180497124,-1.1221070000877733,-0.5006462748728421,1.5872976798096663,-0.5134651842213349,-0.3493831445606269,1.2227278979385308,0.5617849319302417,-0.31759224937636477,-0.6626772890377911,-0.0842880992337957,-1.938927903773735,1.3786058356162034,0.2325953398609465,-0.2801610340787658,0.11671239935057151,-0.4955187111334449,-0.06531611339802634,-0.3237453258636413,-1.3697683287006543,-1.9902035411677061,1.5862721670617868,0.026980033911121862,-0.09864527770410764,0.017750419180207044,-1.1841505213344785,-1.053397645979852,0.8479029885886012,1.069413742130557,2.1677378951094206,-0.32836013322909874,0.3505293058670803,-0.043780345692558426,-0.9144406686421899,-1.4036102493806752,0.22028918688639337,0.21772540501669482,1.4857719177696032,1.564736399356319,-1.9789229009410325,0.31822565430887845,0.1833707279627341,-1.2574746828078573,0.5012796798053557,-0.9846882918719304,0.3223277053003961,0.6371601188993794,-0.005836374021019721,-0.15248469696777742,-0.043780345692558426,1.1755543115360774,-0.6524221615589969,1.646264662812733,1.643188124569095,-0.48321255815889186,0.7433006883048999,1.6647238922745629,1.6175503058721092,-1.1200559745920144,0.8955893313649944,-0.21093892359690464,1.232983025417325,-0.2309364221805534,1.0822326514790497,0.8238034390134347,-0.5637153088674267,0.931995033914714,0.0951766316451036,1.047877974425089,0.605881980089057,-1.0821120029204758,-1.4323246063212993,0.18080694609303555,0.8925127931213561,-1.2061990454138862,1.2191386033209528,1.5247414021890213,1.0791561132354115,0.734071073573985,1.27759282995008,-1.6528098471153756,1.1145363030372515,-1.0862140539119935,0.5253792293805222,1.459621342698678,-0.5821745383292563,-1.1328748839405072,0.8032931840558463,0.2582331585579321,-1.8789354080227887,-1.3513090992388248,0.7222776769733716,-0.2627273173648156,-0.8939304136846014,0.666387232213943,0.0028804843359553876,0.245927005583379,-0.3719444250139743,-0.5914041530601711,-0.28733962331392177,-1.7738203513651476,0.5633232010520609,0.7689385070018855,1.2878479574288744,1.8631606089892314,-0.19555623237871325,-2.079423150233216,-1.0574996969713695,-0.14940815872413915,-1.4774471672279939,-0.45142166297462966,0.9294312520450154,1.055056563660245,-0.66472831453355,-0.014040476004055117,0.6156243511939116,-1.3405412153860907,1.2176003341991337,0.5361471132332561,-0.4221945496600661,-1.782024453348183,-0.06377784427620721,0.3556568696064774,1.84777791777104,1.1273552123857444,-0.1719694391774865,1.4606468554465573,0.8366223483619275,-0.15351020971565685,-0.09146668846895167,1.7011295948242824,-0.21452821821448262,-0.9503336148179697,-0.8426547762906301,0.548966022581749,-1.0610889915889476,0.42334071096651943,-0.8826497734579277,-0.5693556289807635,0.6289560169163441,0.5766548667744934,-1.5569244051886493,0.39411359765195586,-0.15402296608959656,0.2208019432603331,0.6976653710242655,-0.42937313889522205,-1.2072245581617655,1.5047439036053727,0.19260034269364892,-0.14940815872413915,0.14029919255179826,-0.151459184219898,1.0678754730087379,-1.1677423173684076,1.7257419007733885,-1.167229560994468,0.08338323504449022,0.324378730796155,0.2520800820706555,-1.05698694059743,-0.30374782727999255,0.8135483115346405,-1.05698694059743,-0.796506702636056,1.1986283483633644,-1.7045982408832865,1.5016673653617343,-1.0262215581610472,0.30643225770826504,-0.3601510284133609,-1.3441305100036687,0.7120225494945774,0.5192261528932456,-1.1764591757253828,1.3647614135198312,-1.355923906604282,0.08953631153176676,0.09774041351480216,-0.014040476004055117,-0.15607399158535543,1.3427128894404234,1.2145237959554955,0.3612971897198143,0.8545688214498175,-0.6524221615589969,0.7274052407127688,0.324378730796155,0.15465637102211022,0.042875481503252946,-1.6605011927244713,-1.6333251049056665,0.2874602718724957,-0.7021595298311489,0.6212646713072484,-1.4246332607122036,-0.4939804420116258,0.41616212173136347,-0.11095143067866073,1.4355217931235114,-0.6124271643916993,-1.0687803371980433,-0.0012215666555623105,1.4242411528968377,1.3093837251343423,-0.46629159781888135,-0.9216192578773458,1.065824447512979,0.045439263372951504,0.21464886677305656,0.059283685469323735,-1.3307988442812362,0.4730780792386715,1.5442261443987304,-1.7876647734615199,-0.2719569320957304,-1.4364266573128168,0.6428004390127163,0.09363836252328446,-0.05557374229317181,0.3223277053003961,-1.2164541728926803,-0.43193692076492063,1.7349715155043035,-0.054035473171352676,0.07312810756569597,1.887260158564398,-0.018142526995572814,-0.4334751898867397,0.8745663200334662,-0.28939064880968063,1.5088459545968902,1.317075070743438,-1.516416651647412,-0.5124396714734555,0.8443136939710232,1.9872476514826418,0.7366348554436837,-0.0760839972507603,0.15311810190029107,-1.1882525723259962,-1.1918418669435742,-0.5734576799722811,-0.6396032522105041,1.5124352492144684,1.5919124871751238,-0.8606012493785201,-0.24426808790298593,-1.3800234561794487,-0.46782986694070045,-1.5159038952734722,-1.468217552497079,0.527430254876281,0.4197514163489415,0.5535808299472064,1.304256161394945,1.61652479312423,0.04595201974689122,-0.44219204824371483,-0.11300245617441958,1.783683371028576,1.29553930303797,0.19362585544152836,-1.0580124533453092,1.011985028249309,0.09158733702752561,-1.5717943400329009,-1.7953561190706155,1.096077073575422,-0.3827123088667082,0.9278929829231963,-1.9809739264367914,-0.7134401700578227,-1.9502085440004087,-1.530773830117724,1.682157608988513,1.0827454078529894,1.5626853738605602,-1.054935915101671,0.9360970849062317,-0.11710450716593729,-0.8041980482451517,0.010571829945051072,1.2129855268336762,-0.4191180114164278,-0.6226822918704936,-1.7286977904584528,0.03928618688567496,0.44897852966350504,-1.2354261587284496,-0.8636777876221583,0.587935507001167,1.5580705664951027,-1.6087127989565602,-0.447319611983112,-0.27041866297391126,-0.00019605390768288604,0.4592336571422993,-1.4620644760098025,-0.270931419347851,1.2463146911397576,-1.4800109490976925,1.3463021840580016,0.08902355515782705,-0.6960064533438725,-1.7384401615633074,-1.286701796122421,-1.2605512210514955,-0.7031850425790284,1.4334707676277525,0.3966773795216544,1.8903366968080362,-0.3945057054673216,0.10645727187177727,1.5498664645120672,0.4730780792386715,1.1165873285330103,1.4227028837750186,-1.3174671785588037,-0.8959814391803602,-1.2354261587284496],\"xaxis\":\"x\",\"y\":[0.47438834629047655,0.3298684923923747,-0.025583968659882994,-0.6942432100808402,-0.3375804903439038,-0.4631478160480067,-0.3616751842241799,0.3587045790053902,0.11165908422518223,-0.43137641073326183,0.763654536033727,0.5210013682752528,-0.07124266471959503,0.07928151017599872,0.10285946115531812,0.4642328413275276,-0.5035658476826321,0.6137398649660109,0.5820334888330942,-0.0060610249241544525,0.0717272227439833,0.33126392024361656,0.18448090764235348,-0.03808509883190864,0.12712059609184534,-0.07198905416384682,0.24991930015241795,0.13392229787791665,0.5530460159346777,-0.11456664634190084,-0.22187653323511636,0.3810207384608461,-1.0733112607955537,0.3167142955375506,-0.056515301116622896,0.17362073999928657,-0.8633879867387826,-0.048489937030538444,-0.18468287480101497,-0.2639277119205483,0.07000562144339201,0.28411295683032994,-0.7264036536432604,0.0870587245476333,-0.4717984569834359,0.09436409943727575,-0.0005029661298704413,0.012375990671095849,0.27591241115329823,0.15182638027926276,-0.030324379197138304,0.11448027935345317,-0.38385300266892874,-0.13835251656097605,0.11619790174296862,0.2986141119345668,0.050611257937110965,0.2559683268794703,-1.2812416892184693,0.13493039065112766,0.19977469012645221,0.21019618570338525,0.1845006165938638,0.4937371579348704,0.26436364322964884,-0.30941482771873974,-0.1666465377364436,-0.029632946911137242,-0.7795470608172872,-0.10846699186704356,-0.5378853786954877,0.1310326315917829,0.44711184622232514,0.2514060945768166,0.11259285008083803,-0.3195874918663302,0.11151627575440393,-0.6409419231121143,-0.15164856280300176,-0.19647231657194547,0.2609252676944305,-0.09204509656363402,-0.030552907358511683,0.10965811957008653,0.12032606979005922,-0.2605448650269579,-0.04260657144168577,-0.23505320233692573,-0.27787533398118713,-0.17511074246481662,0.4439159063150002,-0.28733323051817994,0.29952870812015786,-0.1417439542497968,0.1660720126519532,0.04885624779295106,-0.05589787387322365,0.2785023764938322,-0.13590098412487742,0.3641225412646676,0.25278508044978554,-0.7278667520773763,-0.23229050381998007,-0.09652395448879103,0.2598463799546147,-0.4625103340880593,0.3306718189272315,0.09076219097152416,-0.06172730187217402,0.30908296577060024,0.2709441223329714,0.048159444434129395,-0.15765504434170174,-0.07188169994637827,-0.2237391965750511,0.12428080503291661,-0.09844434417539394,-0.23204874477844034,-0.17645941243440233,0.0945740238303473,0.02615794713884831,0.26986569690339945,0.36164714446344653,0.1434161481759022,1.1488566731969965,-0.09240369882709565,0.0912117687199519,-0.2595259649518592,0.3054333729984273,0.33943808802192865,0.19868849871493333,0.179173560802725,-0.00905973748781741,-0.3409350794889014,0.2869623962639132,-0.01649546131583246,-0.30713268190854665,-0.3846453675249829,0.11578739907886929,-0.15816911556650964,-0.7775730162048098,-0.058922242955941034,-0.35126646824251745,0.08844444942696697,0.20003018327904332,0.03199503769006412,0.055948242894227396,-0.16253785763557405,0.14094545806625508,-0.11486202961234585,0.25422538941057127,-0.013586376289164148,-1.912334443001327,0.04015962010383378,0.7148986126403278,-0.22314420885983866,-0.11143028528715171,0.6058184078579751,-0.3508900178093579,-0.2802181539301639,0.4420038806928568,-0.18977686289798967,-0.03545377666094596,0.0770367145348812,-0.45508448552690617,0.2581736975215243,0.13925690680107994,-0.5189488860611992,0.04756489652135726,-0.12112875195986716,-0.16832853089732458,0.36047677978245274,0.7154128998035925,0.35989993401858805,-0.30097602840356735,1.6683704783317332,-0.15742190437908055,0.127981531302081,0.05058955730110082,-0.055604252236122864,0.05350723951744235,-1.0107928009951088,0.3920666561324,0.015860826813449913,-0.34788044514437944,0.21144849466380844,0.10023323755052704,0.4070450614115466,-0.45083860888113225,-0.799002303437028,-0.293905879177523,-0.8534865888749257,0.6451983447556751,0.2101049584722785,-0.6347522252639841,0.27243839749463605,0.20006037170199692,-0.20535519486971582,-0.28915143702118623,-0.1055581601944806,-0.25432740406148624,0.2850538119371253,-0.06126594186589157,0.236263324071314,0.2516107542756917,0.32262967036607026,-0.7583135234522632,0.14040071538231252,-0.10895298673095666,-0.3835694914268055,0.2453928952317057,0.231647088207469,-0.07114127497083367,0.07462712805609446,-0.4413149052663361,-0.17704223112287742,-0.5153073353815848,0.23470875926841184,0.7883669667809039,-0.6554805161465613,-0.10264680982230306,0.42235770745279533,-0.5541396258905791,-1.0273362754758535,0.1093427198902962,0.4552403902509752,0.44182198749149637,0.019672291558721744,-0.15423933345833696,0.06071682515371157,0.04746232398506392,-0.6797385272503813,-0.7161541778184041,-0.3597344375076661,-0.40255624336920603,-0.18490379822095604,-0.28933261802956356,0.16596735630064094,-0.4825941269204025,-0.16133854512437606,-0.2724959198527793,0.3831049428800093,0.4452850064862892,-0.5196745985230438,0.08058309536453756,-0.08360673586996858,0.7986790499737908,0.2562332867423516,0.17646647471377153,0.3704791616074958,0.0773278417540677,0.4103535567631511,0.23954298320288103,0.3382104699388338,-0.9147494000609988,0.4578805361205894,-0.9886421312915642,0.26520415833543964,0.1671354779366941,-0.2197078454717838,-0.011043887463969781,-0.4821213555796348,-0.3406594955679705,-0.11018024128734494,-0.40313896046461717,0.6778627027151476,0.051039909921131166,0.04085393709827212,0.48263528232787145,0.3828627751240883,-0.11664158238184763,0.0551841638815902,0.5522695126544086,0.4330849315726,-0.4274340634575573,-1.561873406327889,-0.07923874278154408,-0.04800699844584444,0.11438199452690756,-0.09188075234914161,0.6062989574730115,-0.31073399215582514,0.09269052004622114,-0.3075962500845857,0.20397573454470014,-0.10940565915175421,-0.1080246635100916,-0.31773688436828185,0.20963866180621565,-0.7031201936191998,-0.23152719559711932,0.5316838483477055,0.23393318491211268,0.8050449501999959,0.35826621490265287,-0.4686179291282502,0.11757201566081621,-0.21407914241203657,0.46027410425226223,-0.5116143820291115,-0.026833811520104556,0.001034640170454626,-0.09272057196566907,0.5564541869822539,-0.8769244717349299,-0.06932819305794058,-0.0036151003521380787,0.05485353904748708,0.06880530839104393,-0.45187354849010464,0.07930781209101422,0.27355430925005453,0.6835364877293251,-0.08211783913031856,-0.06569812841836672,0.1675950001686961,-0.006162615812500993,-0.1882890580584167,-0.06667812859511069,0.3498732610443489,0.14317109489229665,-0.16136049994513202,-1.4758679156545922,-0.20733519677928425,0.16392081569314465,0.6718291802031618,0.7607998193213426,-0.2591761088326481,-0.6321140038478924,0.1292374517326617,-0.09555674876135578,-0.1834088371643876,0.25947420253782993,0.3539227573888994,0.12340705818367059,0.3008735134176325,-0.1353363247850079,0.3113332966015787,-0.2663318024301876,0.2623143330545357,0.5362759130570248,0.48395968778459675,0.367002919884333,0.031100054444739955,0.8148061459517038,-0.3824601963419063,0.6571211203575699,0.1983159938525531,0.08827394601807548,-1.3483743202673617,-0.02543912108327523,0.0806939238966109,-0.36388599387968024,-0.026078586715732377,0.3672941424176064,-0.04053001733494099,0.15410868589269278,0.04685698272884964,0.3559527801395339,-0.18040724034672107,-0.246271199440802,-0.23656130853782587,0.2461009318249005,0.21020895046516186,0.009933275652295404,-0.31947695674196774,-0.16793264572585292,-0.17965583684929998,-0.5143494548324259,-0.03690204349424389,0.23110354540187394,0.3820281600433988,0.19885512603970396,0.4068384266887816,-0.6838085702214112,-0.824710990432674,0.0368007757197239,0.22190733641834592,-0.16129372804250391,0.18346554802036863,-0.687437439593436,-0.2996698401300417,0.026966348711642274,-0.16162887120387703,0.3300979236684318,0.09817145613641137,0.15575497800957933,0.22114739447533707,0.002974103358618141,-0.031226414237947253,0.25396479580851006,-0.48450782282169746,0.3465079680022256,-0.05740126687124847,0.2675678731370638,-0.12572663820304586,0.24905474585791643,0.5554207092717252,-0.06274738359104559,-0.3775380838591204,0.2217921554122695,-0.10256252775589192,0.18121070508909343,0.4788855974146886,-0.034160225818006096,0.7357286385565305,-0.08606753345568563,-0.2037274442156749,0.1206640164455261,-0.08900056356373559,-0.4112936557637854,-0.3130513421617177,0.4155993289689073,0.2578249061456252,0.02898580879192518,0.5678879720290018,0.286577995286039,-0.25870027093552994,0.3969437899272928,0.1658387789030814,0.4965633090896471,0.3667855702995433,-0.7187493551243603,-0.26844720307605524,0.03750644318378815,1.2862774110891497,0.7341246836794314,-0.2518469874413954,-0.30205116834643303,0.49051665494525976,-0.39888233690110897,0.21457883976062064,-0.03381546774421629,0.053061132282655965,0.3841384030518502,-0.37873726197613217,0.016611432996033515,-0.5910503413066109,-0.4381169898343527,-0.14686945787106676,-0.007621848132889797,0.27793173658708864,0.45711024640003983,0.0932359796756565,0.4037884807734977,0.6423215844042254,0.12747872857508635,-0.05030895239944222,-0.5418537865344364,0.45204598305409194,0.2338714266034292,0.3307330847397224,0.43975127191921226,0.42239555521729066,-0.016325647606147603,0.1206283674184283,-0.21643457263321242,0.0698455620307239,0.4886509846768689,-0.1977629144218953,0.38304162033805644,0.09371475034129972,-0.02830778025536529,0.47681931586393156,0.4145992541749648,-0.03305518959730325,0.5069959244950466,-0.6373458455207677,0.4226039923858934,-0.33860760611113283,0.026010809228465326,-0.3266086911093259,0.7282964690554652,-0.1589619214774412,-0.222826365686966,-1.6135093935891667,0.12030679980448558,0.39885780382070674,0.06784605349162809,-0.2589876831837091,-0.025567674306961163,0.27656334564409923,-0.0011694076604555903,0.06689587179389411,-0.33031491282749464,0.04861706350906726,0.05335225186445558,-0.5575722005658144,-0.2354574502231241,-0.06068603017555829,0.05437323446930886,-0.3018834912739057,0.3077272091791498,-0.26302320803149726,-2.104761093634848,-0.029828603090943595,-0.4762146945187312,-0.6577462312156466,0.41890687678539873,-0.3521202774240576,0.7946682307063415,0.11453914529151626,-0.20680954090648962,0.6949454276847036,0.26072156825081333,0.13064699209642683,-0.0018743670214469432,0.04940067687378624,0.07879265533323787,-0.48535586447918755],\"yaxis\":\"y\",\"type\":\"scatter\"}],                        {\"template\":{\"data\":{\"histogram2dcontour\":[{\"type\":\"histogram2dcontour\",\"colorbar\":{\"outlinewidth\":0,\"ticks\":\"\"},\"colorscale\":[[0.0,\"#0d0887\"],[0.1111111111111111,\"#46039f\"],[0.2222222222222222,\"#7201a8\"],[0.3333333333333333,\"#9c179e\"],[0.4444444444444444,\"#bd3786\"],[0.5555555555555556,\"#d8576b\"],[0.6666666666666666,\"#ed7953\"],[0.7777777777777778,\"#fb9f3a\"],[0.8888888888888888,\"#fdca26\"],[1.0,\"#f0f921\"]]}],\"choropleth\":[{\"type\":\"choropleth\",\"colorbar\":{\"outlinewidth\":0,\"ticks\":\"\"}}],\"histogram2d\":[{\"type\":\"histogram2d\",\"colorbar\":{\"outlinewidth\":0,\"ticks\":\"\"},\"colorscale\":[[0.0,\"#0d0887\"],[0.1111111111111111,\"#46039f\"],[0.2222222222222222,\"#7201a8\"],[0.3333333333333333,\"#9c179e\"],[0.4444444444444444,\"#bd3786\"],[0.5555555555555556,\"#d8576b\"],[0.6666666666666666,\"#ed7953\"],[0.7777777777777778,\"#fb9f3a\"],[0.8888888888888888,\"#fdca26\"],[1.0,\"#f0f921\"]]}],\"heatmap\":[{\"type\":\"heatmap\",\"colorbar\":{\"outlinewidth\":0,\"ticks\":\"\"},\"colorscale\":[[0.0,\"#0d0887\"],[0.1111111111111111,\"#46039f\"],[0.2222222222222222,\"#7201a8\"],[0.3333333333333333,\"#9c179e\"],[0.4444444444444444,\"#bd3786\"],[0.5555555555555556,\"#d8576b\"],[0.6666666666666666,\"#ed7953\"],[0.7777777777777778,\"#fb9f3a\"],[0.8888888888888888,\"#fdca26\"],[1.0,\"#f0f921\"]]}],\"heatmapgl\":[{\"type\":\"heatmapgl\",\"colorbar\":{\"outlinewidth\":0,\"ticks\":\"\"},\"colorscale\":[[0.0,\"#0d0887\"],[0.1111111111111111,\"#46039f\"],[0.2222222222222222,\"#7201a8\"],[0.3333333333333333,\"#9c179e\"],[0.4444444444444444,\"#bd3786\"],[0.5555555555555556,\"#d8576b\"],[0.6666666666666666,\"#ed7953\"],[0.7777777777777778,\"#fb9f3a\"],[0.8888888888888888,\"#fdca26\"],[1.0,\"#f0f921\"]]}],\"contourcarpet\":[{\"type\":\"contourcarpet\",\"colorbar\":{\"outlinewidth\":0,\"ticks\":\"\"}}],\"contour\":[{\"type\":\"contour\",\"colorbar\":{\"outlinewidth\":0,\"ticks\":\"\"},\"colorscale\":[[0.0,\"#0d0887\"],[0.1111111111111111,\"#46039f\"],[0.2222222222222222,\"#7201a8\"],[0.3333333333333333,\"#9c179e\"],[0.4444444444444444,\"#bd3786\"],[0.5555555555555556,\"#d8576b\"],[0.6666666666666666,\"#ed7953\"],[0.7777777777777778,\"#fb9f3a\"],[0.8888888888888888,\"#fdca26\"],[1.0,\"#f0f921\"]]}],\"surface\":[{\"type\":\"surface\",\"colorbar\":{\"outlinewidth\":0,\"ticks\":\"\"},\"colorscale\":[[0.0,\"#0d0887\"],[0.1111111111111111,\"#46039f\"],[0.2222222222222222,\"#7201a8\"],[0.3333333333333333,\"#9c179e\"],[0.4444444444444444,\"#bd3786\"],[0.5555555555555556,\"#d8576b\"],[0.6666666666666666,\"#ed7953\"],[0.7777777777777778,\"#fb9f3a\"],[0.8888888888888888,\"#fdca26\"],[1.0,\"#f0f921\"]]}],\"mesh3d\":[{\"type\":\"mesh3d\",\"colorbar\":{\"outlinewidth\":0,\"ticks\":\"\"}}],\"scatter\":[{\"fillpattern\":{\"fillmode\":\"overlay\",\"size\":10,\"solidity\":0.2},\"type\":\"scatter\"}],\"parcoords\":[{\"type\":\"parcoords\",\"line\":{\"colorbar\":{\"outlinewidth\":0,\"ticks\":\"\"}}}],\"scatterpolargl\":[{\"type\":\"scatterpolargl\",\"marker\":{\"colorbar\":{\"outlinewidth\":0,\"ticks\":\"\"}}}],\"bar\":[{\"error_x\":{\"color\":\"#2a3f5f\"},\"error_y\":{\"color\":\"#2a3f5f\"},\"marker\":{\"line\":{\"color\":\"#E5ECF6\",\"width\":0.5},\"pattern\":{\"fillmode\":\"overlay\",\"size\":10,\"solidity\":0.2}},\"type\":\"bar\"}],\"scattergeo\":[{\"type\":\"scattergeo\",\"marker\":{\"colorbar\":{\"outlinewidth\":0,\"ticks\":\"\"}}}],\"scatterpolar\":[{\"type\":\"scatterpolar\",\"marker\":{\"colorbar\":{\"outlinewidth\":0,\"ticks\":\"\"}}}],\"histogram\":[{\"marker\":{\"pattern\":{\"fillmode\":\"overlay\",\"size\":10,\"solidity\":0.2}},\"type\":\"histogram\"}],\"scattergl\":[{\"type\":\"scattergl\",\"marker\":{\"colorbar\":{\"outlinewidth\":0,\"ticks\":\"\"}}}],\"scatter3d\":[{\"type\":\"scatter3d\",\"line\":{\"colorbar\":{\"outlinewidth\":0,\"ticks\":\"\"}},\"marker\":{\"colorbar\":{\"outlinewidth\":0,\"ticks\":\"\"}}}],\"scattermapbox\":[{\"type\":\"scattermapbox\",\"marker\":{\"colorbar\":{\"outlinewidth\":0,\"ticks\":\"\"}}}],\"scatterternary\":[{\"type\":\"scatterternary\",\"marker\":{\"colorbar\":{\"outlinewidth\":0,\"ticks\":\"\"}}}],\"scattercarpet\":[{\"type\":\"scattercarpet\",\"marker\":{\"colorbar\":{\"outlinewidth\":0,\"ticks\":\"\"}}}],\"carpet\":[{\"aaxis\":{\"endlinecolor\":\"#2a3f5f\",\"gridcolor\":\"white\",\"linecolor\":\"white\",\"minorgridcolor\":\"white\",\"startlinecolor\":\"#2a3f5f\"},\"baxis\":{\"endlinecolor\":\"#2a3f5f\",\"gridcolor\":\"white\",\"linecolor\":\"white\",\"minorgridcolor\":\"white\",\"startlinecolor\":\"#2a3f5f\"},\"type\":\"carpet\"}],\"table\":[{\"cells\":{\"fill\":{\"color\":\"#EBF0F8\"},\"line\":{\"color\":\"white\"}},\"header\":{\"fill\":{\"color\":\"#C8D4E3\"},\"line\":{\"color\":\"white\"}},\"type\":\"table\"}],\"barpolar\":[{\"marker\":{\"line\":{\"color\":\"#E5ECF6\",\"width\":0.5},\"pattern\":{\"fillmode\":\"overlay\",\"size\":10,\"solidity\":0.2}},\"type\":\"barpolar\"}],\"pie\":[{\"automargin\":true,\"type\":\"pie\"}]},\"layout\":{\"autotypenumbers\":\"strict\",\"colorway\":[\"#636efa\",\"#EF553B\",\"#00cc96\",\"#ab63fa\",\"#FFA15A\",\"#19d3f3\",\"#FF6692\",\"#B6E880\",\"#FF97FF\",\"#FECB52\"],\"font\":{\"color\":\"#2a3f5f\"},\"hovermode\":\"closest\",\"hoverlabel\":{\"align\":\"left\"},\"paper_bgcolor\":\"white\",\"plot_bgcolor\":\"#E5ECF6\",\"polar\":{\"bgcolor\":\"#E5ECF6\",\"angularaxis\":{\"gridcolor\":\"white\",\"linecolor\":\"white\",\"ticks\":\"\"},\"radialaxis\":{\"gridcolor\":\"white\",\"linecolor\":\"white\",\"ticks\":\"\"}},\"ternary\":{\"bgcolor\":\"#E5ECF6\",\"aaxis\":{\"gridcolor\":\"white\",\"linecolor\":\"white\",\"ticks\":\"\"},\"baxis\":{\"gridcolor\":\"white\",\"linecolor\":\"white\",\"ticks\":\"\"},\"caxis\":{\"gridcolor\":\"white\",\"linecolor\":\"white\",\"ticks\":\"\"}},\"coloraxis\":{\"colorbar\":{\"outlinewidth\":0,\"ticks\":\"\"}},\"colorscale\":{\"sequential\":[[0.0,\"#0d0887\"],[0.1111111111111111,\"#46039f\"],[0.2222222222222222,\"#7201a8\"],[0.3333333333333333,\"#9c179e\"],[0.4444444444444444,\"#bd3786\"],[0.5555555555555556,\"#d8576b\"],[0.6666666666666666,\"#ed7953\"],[0.7777777777777778,\"#fb9f3a\"],[0.8888888888888888,\"#fdca26\"],[1.0,\"#f0f921\"]],\"sequentialminus\":[[0.0,\"#0d0887\"],[0.1111111111111111,\"#46039f\"],[0.2222222222222222,\"#7201a8\"],[0.3333333333333333,\"#9c179e\"],[0.4444444444444444,\"#bd3786\"],[0.5555555555555556,\"#d8576b\"],[0.6666666666666666,\"#ed7953\"],[0.7777777777777778,\"#fb9f3a\"],[0.8888888888888888,\"#fdca26\"],[1.0,\"#f0f921\"]],\"diverging\":[[0,\"#8e0152\"],[0.1,\"#c51b7d\"],[0.2,\"#de77ae\"],[0.3,\"#f1b6da\"],[0.4,\"#fde0ef\"],[0.5,\"#f7f7f7\"],[0.6,\"#e6f5d0\"],[0.7,\"#b8e186\"],[0.8,\"#7fbc41\"],[0.9,\"#4d9221\"],[1,\"#276419\"]]},\"xaxis\":{\"gridcolor\":\"white\",\"linecolor\":\"white\",\"ticks\":\"\",\"title\":{\"standoff\":15},\"zerolinecolor\":\"white\",\"automargin\":true,\"zerolinewidth\":2},\"yaxis\":{\"gridcolor\":\"white\",\"linecolor\":\"white\",\"ticks\":\"\",\"title\":{\"standoff\":15},\"zerolinecolor\":\"white\",\"automargin\":true,\"zerolinewidth\":2},\"scene\":{\"xaxis\":{\"backgroundcolor\":\"#E5ECF6\",\"gridcolor\":\"white\",\"linecolor\":\"white\",\"showbackground\":true,\"ticks\":\"\",\"zerolinecolor\":\"white\",\"gridwidth\":2},\"yaxis\":{\"backgroundcolor\":\"#E5ECF6\",\"gridcolor\":\"white\",\"linecolor\":\"white\",\"showbackground\":true,\"ticks\":\"\",\"zerolinecolor\":\"white\",\"gridwidth\":2},\"zaxis\":{\"backgroundcolor\":\"#E5ECF6\",\"gridcolor\":\"white\",\"linecolor\":\"white\",\"showbackground\":true,\"ticks\":\"\",\"zerolinecolor\":\"white\",\"gridwidth\":2}},\"shapedefaults\":{\"line\":{\"color\":\"#2a3f5f\"}},\"annotationdefaults\":{\"arrowcolor\":\"#2a3f5f\",\"arrowhead\":0,\"arrowwidth\":1},\"geo\":{\"bgcolor\":\"white\",\"landcolor\":\"#E5ECF6\",\"subunitcolor\":\"white\",\"showland\":true,\"showlakes\":true,\"lakecolor\":\"white\"},\"title\":{\"x\":0.05},\"mapbox\":{\"style\":\"light\"}}},\"xaxis\":{\"anchor\":\"y\",\"domain\":[0.0,1.0],\"title\":{\"text\":\"x\"}},\"yaxis\":{\"anchor\":\"x\",\"domain\":[0.0,1.0],\"title\":{\"text\":\"y\"}},\"legend\":{\"tracegroupgap\":0},\"margin\":{\"t\":60},\"shapes\":[{\"line\":{\"color\":\"red\",\"width\":2},\"type\":\"line\",\"x0\":0,\"x1\":1,\"xref\":\"x domain\",\"y0\":0,\"y1\":0,\"yref\":\"y\"}]},                        {\"responsive\": true}                    ).then(function(){\n                            \nvar gd = document.getElementById('9ea0c265-8f22-495e-be4f-8986b7c560df');\nvar x = new MutationObserver(function (mutations, observer) {{\n        var display = window.getComputedStyle(gd).display;\n        if (!display || display === 'none') {{\n            console.log([gd, 'removed!']);\n            Plotly.purge(gd);\n            observer.disconnect();\n        }}\n}});\n\n// Listen for the removal of the full notebook cells\nvar notebookContainer = gd.closest('#notebook-container');\nif (notebookContainer) {{\n    x.observe(notebookContainer, {childList: true});\n}}\n\n// Listen for the clearing of the current output cell\nvar outputEl = gd.closest('.output');\nif (outputEl) {{\n    x.observe(outputEl, {childList: true});\n}}\n\n                        })                };                            </script>        </div>\n</body>\n</html>"
     },
     "metadata": {},
     "output_type": "display_data"
    }
   ]
  },
  {
   "cell_type": "markdown",
   "source": "There is no noticeable pattern between the training data and the errors.",
   "metadata": {
    "formattedRanges": [],
    "is_collapsed": false,
    "cell_id": "361b2d4d-fbf7-4463-bb15-1506cd004003",
    "tags": [],
    "deepnote_cell_type": "text-cell-p"
   }
  },
  {
   "cell_type": "code",
   "metadata": {
    "cell_id": "1bdadb92fc454d87a0c2fea9378457ba",
    "tags": [],
    "deepnote_to_be_reexecuted": false,
    "source_hash": "b56fa299",
    "execution_start": 1663728014924,
    "execution_millis": 9,
    "deepnote_cell_type": "code",
    "deepnote_cell_height": 672,
    "deepnote_output_heights": [
     526
    ]
   },
   "source": "figure_2 = px.scatter(y_train, y_train, y_train_pred)\nfigure_2.update_xaxes(title_text='Y train')\nfigure_2.update_yaxes(title_text='Y train pred')\nfigure_2.show()",
   "execution_count": 49,
   "outputs": [
    {
     "data": {
      "text/html": "<html>\n<head><meta charset=\"utf-8\" /></head>\n<body>\n    <div>            <script src=\"https://cdnjs.cloudflare.com/ajax/libs/mathjax/2.7.5/MathJax.js?config=TeX-AMS-MML_SVG\"></script><script type=\"text/javascript\">if (window.MathJax && window.MathJax.Hub && window.MathJax.Hub.Config) {window.MathJax.Hub.Config({SVG: {font: \"STIX-Web\"}});}</script>                <script type=\"text/javascript\">window.PlotlyConfig = {MathJaxConfig: 'local'};</script>\n        <script src=\"https://cdn.plot.ly/plotly-2.14.0.min.js\"></script>                <div id=\"2ddd3310-ff4a-47e1-9d53-2010f6eed755\" class=\"plotly-graph-div\" style=\"height:525px; width:100%;\"></div>            <script type=\"text/javascript\">                                    window.PLOTLYENV=window.PLOTLYENV || {};                                    if (document.getElementById(\"2ddd3310-ff4a-47e1-9d53-2010f6eed755\")) {                    Plotly.newPlot(                        \"2ddd3310-ff4a-47e1-9d53-2010f6eed755\",                        [{\"hovertemplate\":\"x=%{x}<br>y=%{y}<extra></extra>\",\"legendgroup\":\"\",\"marker\":{\"color\":\"#636efa\",\"symbol\":\"circle\"},\"mode\":\"markers\",\"name\":\"\",\"orientation\":\"v\",\"showlegend\":false,\"x\":[1.5626853738605602,1.3996288469477316,-0.21555373096236202,-1.3795106998055089,-0.13658924937564634,-1.4374521700606964,1.1986283483633644,1.5062821727271918,0.8766173455292251,-0.061214062406508646,0.7971401075685697,2.086209631653006,-0.17248219555142622,0.9996788752747561,0.12337823221178777,1.6580580594133465,0.03210759765051899,0.6761296033187976,0.8966148441128738,-0.013527719630115405,0.3612971897198143,0.5884482633751068,1.318613339865257,0.3966773795216544,-0.7349759377632905,1.1991411047373042,-0.18632661764779843,1.2714397534628035,1.4375728186192702,0.05313060898204719,-0.5452560794055971,0.28438373362885744,-0.5714066544765224,0.01262285544080992,0.2587459149318718,0.26848828603672636,-1.5338503683613622,-0.05711201141499095,1.178118093405776,0.6786933851884962,0.4556443625247213,-0.19965828337023095,-1.1241580255835322,-1.6830624731778185,0.4807694248477672,0.07825567130509309,0.9658369545947351,1.2017048866070026,0.9140485608268241,1.4667999319338338,0.07569188943539452,1.291950008420392,-0.18376283577809988,-0.04429310206649814,0.7094587676248789,0.4387234021847108,1.1304317506293826,0.36796302258103053,0.18131970246697526,1.1037684191845176,-0.6785727366299222,-0.21504097458842233,0.5566573681908447,-0.9364891927215975,0.520251665641125,0.880206640146803,0.3079705268300842,-0.17094392642960707,-0.8067618301148503,0.7920125438291725,0.7935508129509917,-0.3893781417279245,1.7324077336346049,-1.7020344590135879,0.3341211019010095,-0.6898533768565959,-1.4769344108540543,-0.2970819944187763,0.028005546659001287,-0.3637403230309389,0.11363586110693323,-0.368867886770336,-0.6375522267147452,-1.0616017479628872,-1.517954920769231,-0.7257463230323757,-0.09351771396471052,-0.04942066580589526,-1.0205812380477104,-1.4225822352164448,-1.5261590227522666,-0.42424557515582495,1.4750040339168693,0.5494787789556886,0.48025666847382753,-1.7327998414499706,-1.625121002922631,0.32335321804827555,-0.17043117005566735,-0.5821745383292563,-1.3687428159527748,-0.6452435723238409,-1.9138028414506891,-1.1585127026374928,1.4811571104041459,0.8822576656425619,-1.3036227564624314,-1.3713065978224734,0.054156121729926614,1.2217023851906514,1.6442136373169742,0.10286797725419927,-1.1456937932890001,-1.8897032918755226,0.3500165494931406,-0.6344756884711069,-1.4856512692110293,0.3382231528925272,-1.0313491219004443,-0.6031975496607845,-0.06890540801560432,-1.5743581219025995,-0.3463066063169887,-1.509238062412256,1.4991035834920359,0.39616462314771467,-0.4478323683570517,0.1418374616736174,0.1623477166312059,0.20234271379850347,-1.808687784793048,0.2074702775379006,-1.2067118017878258,-0.48423807090677123,-1.4543731304007068,0.6366473625254397,0.3141236033173607,-0.2011965524920501,-0.22888539668479455,-0.4555237139661474,-0.8995707337979382,-0.188890399517497,-0.5421795411619588,0.08338323504449022,0.924816444679558,0.4289810310798563,0.14696502541301454,-1.5512840850753125,-0.07557124087682059,0.09876592626268157,1.5990910764102797,-1.4364266573128168,-2.2891405071745585,0.8961020877389342,-0.7272845921541948,-0.8062490737409106,0.8627729234328528,1.516537300205986,-0.3145157111327265,0.0828704786705505,1.2288809744258073,1.2268299489300485,-0.5924296658080506,-0.2627273173648156,-1.0221195071695295,1.5278179404326597,0.29310059198583255,0.11825066847239064,-0.4698808924364593,-1.7851009915918212,-1.737414648815428,0.8940510622431753,0.034158623146277836,0.49153730870050116,0.050566827112348625,1.7175377987903533,-1.2769594250175664,-0.4442430737394737,-0.5555112068843913,-1.5056487677946782,0.3787309064337645,-0.1842755921520396,1.6811320962406335,1.468338201055653,-0.7272845921541948,0.28130719538521914,-1.7974071445663744,1.4288559602622952,-1.512827357029834,0.6853592180497124,-1.1221070000877733,-0.5006462748728421,1.5872976798096663,-0.5134651842213349,-0.3493831445606269,1.2227278979385308,0.5617849319302417,-0.31759224937636477,-0.6626772890377911,-0.0842880992337957,-1.938927903773735,1.3786058356162034,0.2325953398609465,-0.2801610340787658,0.11671239935057151,-0.4955187111334449,-0.06531611339802634,-0.3237453258636413,-1.3697683287006543,-1.9902035411677061,1.5862721670617868,0.026980033911121862,-0.09864527770410764,0.017750419180207044,-1.1841505213344785,-1.053397645979852,0.8479029885886012,1.069413742130557,2.1677378951094206,-0.32836013322909874,0.3505293058670803,-0.043780345692558426,-0.9144406686421899,-1.4036102493806752,0.22028918688639337,0.21772540501669482,1.4857719177696032,1.564736399356319,-1.9789229009410325,0.31822565430887845,0.1833707279627341,-1.2574746828078573,0.5012796798053557,-0.9846882918719304,0.3223277053003961,0.6371601188993794,-0.005836374021019721,-0.15248469696777742,-0.043780345692558426,1.1755543115360774,-0.6524221615589969,1.646264662812733,1.643188124569095,-0.48321255815889186,0.7433006883048999,1.6647238922745629,1.6175503058721092,-1.1200559745920144,0.8955893313649944,-0.21093892359690464,1.232983025417325,-0.2309364221805534,1.0822326514790497,0.8238034390134347,-0.5637153088674267,0.931995033914714,0.0951766316451036,1.047877974425089,0.605881980089057,-1.0821120029204758,-1.4323246063212993,0.18080694609303555,0.8925127931213561,-1.2061990454138862,1.2191386033209528,1.5247414021890213,1.0791561132354115,0.734071073573985,1.27759282995008,-1.6528098471153756,1.1145363030372515,-1.0862140539119935,0.5253792293805222,1.459621342698678,-0.5821745383292563,-1.1328748839405072,0.8032931840558463,0.2582331585579321,-1.8789354080227887,-1.3513090992388248,0.7222776769733716,-0.2627273173648156,-0.8939304136846014,0.666387232213943,0.0028804843359553876,0.245927005583379,-0.3719444250139743,-0.5914041530601711,-0.28733962331392177,-1.7738203513651476,0.5633232010520609,0.7689385070018855,1.2878479574288744,1.8631606089892314,-0.19555623237871325,-2.079423150233216,-1.0574996969713695,-0.14940815872413915,-1.4774471672279939,-0.45142166297462966,0.9294312520450154,1.055056563660245,-0.66472831453355,-0.014040476004055117,0.6156243511939116,-1.3405412153860907,1.2176003341991337,0.5361471132332561,-0.4221945496600661,-1.782024453348183,-0.06377784427620721,0.3556568696064774,1.84777791777104,1.1273552123857444,-0.1719694391774865,1.4606468554465573,0.8366223483619275,-0.15351020971565685,-0.09146668846895167,1.7011295948242824,-0.21452821821448262,-0.9503336148179697,-0.8426547762906301,0.548966022581749,-1.0610889915889476,0.42334071096651943,-0.8826497734579277,-0.5693556289807635,0.6289560169163441,0.5766548667744934,-1.5569244051886493,0.39411359765195586,-0.15402296608959656,0.2208019432603331,0.6976653710242655,-0.42937313889522205,-1.2072245581617655,1.5047439036053727,0.19260034269364892,-0.14940815872413915,0.14029919255179826,-0.151459184219898,1.0678754730087379,-1.1677423173684076,1.7257419007733885,-1.167229560994468,0.08338323504449022,0.324378730796155,0.2520800820706555,-1.05698694059743,-0.30374782727999255,0.8135483115346405,-1.05698694059743,-0.796506702636056,1.1986283483633644,-1.7045982408832865,1.5016673653617343,-1.0262215581610472,0.30643225770826504,-0.3601510284133609,-1.3441305100036687,0.7120225494945774,0.5192261528932456,-1.1764591757253828,1.3647614135198312,-1.355923906604282,0.08953631153176676,0.09774041351480216,-0.014040476004055117,-0.15607399158535543,1.3427128894404234,1.2145237959554955,0.3612971897198143,0.8545688214498175,-0.6524221615589969,0.7274052407127688,0.324378730796155,0.15465637102211022,0.042875481503252946,-1.6605011927244713,-1.6333251049056665,0.2874602718724957,-0.7021595298311489,0.6212646713072484,-1.4246332607122036,-0.4939804420116258,0.41616212173136347,-0.11095143067866073,1.4355217931235114,-0.6124271643916993,-1.0687803371980433,-0.0012215666555623105,1.4242411528968377,1.3093837251343423,-0.46629159781888135,-0.9216192578773458,1.065824447512979,0.045439263372951504,0.21464886677305656,0.059283685469323735,-1.3307988442812362,0.4730780792386715,1.5442261443987304,-1.7876647734615199,-0.2719569320957304,-1.4364266573128168,0.6428004390127163,0.09363836252328446,-0.05557374229317181,0.3223277053003961,-1.2164541728926803,-0.43193692076492063,1.7349715155043035,-0.054035473171352676,0.07312810756569597,1.887260158564398,-0.018142526995572814,-0.4334751898867397,0.8745663200334662,-0.28939064880968063,1.5088459545968902,1.317075070743438,-1.516416651647412,-0.5124396714734555,0.8443136939710232,1.9872476514826418,0.7366348554436837,-0.0760839972507603,0.15311810190029107,-1.1882525723259962,-1.1918418669435742,-0.5734576799722811,-0.6396032522105041,1.5124352492144684,1.5919124871751238,-0.8606012493785201,-0.24426808790298593,-1.3800234561794487,-0.46782986694070045,-1.5159038952734722,-1.468217552497079,0.527430254876281,0.4197514163489415,0.5535808299472064,1.304256161394945,1.61652479312423,0.04595201974689122,-0.44219204824371483,-0.11300245617441958,1.783683371028576,1.29553930303797,0.19362585544152836,-1.0580124533453092,1.011985028249309,0.09158733702752561,-1.5717943400329009,-1.7953561190706155,1.096077073575422,-0.3827123088667082,0.9278929829231963,-1.9809739264367914,-0.7134401700578227,-1.9502085440004087,-1.530773830117724,1.682157608988513,1.0827454078529894,1.5626853738605602,-1.054935915101671,0.9360970849062317,-0.11710450716593729,-0.8041980482451517,0.010571829945051072,1.2129855268336762,-0.4191180114164278,-0.6226822918704936,-1.7286977904584528,0.03928618688567496,0.44897852966350504,-1.2354261587284496,-0.8636777876221583,0.587935507001167,1.5580705664951027,-1.6087127989565602,-0.447319611983112,-0.27041866297391126,-0.00019605390768288604,0.4592336571422993,-1.4620644760098025,-0.270931419347851,1.2463146911397576,-1.4800109490976925,1.3463021840580016,0.08902355515782705,-0.6960064533438725,-1.7384401615633074,-1.286701796122421,-1.2605512210514955,-0.7031850425790284,1.4334707676277525,0.3966773795216544,1.8903366968080362,-0.3945057054673216,0.10645727187177727,1.5498664645120672,0.4730780792386715,1.1165873285330103,1.4227028837750186,-1.3174671785588037,-0.8959814391803602,-1.2354261587284496],\"xaxis\":\"x\",\"y\":[1.0882970275700836,1.069760354555357,-0.18996976230247903,-0.6852674897246687,0.20099124096825743,-0.9743043540126897,1.5603035325875443,1.1475775937218016,0.7649582613040429,0.37016234832675315,0.033485571534842606,1.5652082633777533,-0.10123953083183118,0.9203973650987574,0.020518771056469653,1.1938252180858189,0.5356734453331511,0.06238973835278677,0.31458135527977965,-0.007466694705960952,0.289569966975831,0.25718434313149025,1.1341324322229036,0.434762478353563,-0.8620965338551358,1.271130158901151,-0.4362459178002164,1.1375174555848868,0.8845268026845925,0.16769725532394802,-0.3233795461704807,-0.09663700483198867,0.5019046063190313,-0.30409144009674066,0.3152612160484947,0.0948675460374398,-0.6704623816225797,-0.008622074384452505,1.362800968206791,0.9426210971090445,0.3856387410813293,-0.4837712402005609,-0.39775437194027174,-1.7701211977254518,0.9525678818312031,-0.01610842813218266,0.9663399207246055,1.1893288959359067,0.6381361496735258,1.314973551654571,0.10601626863253283,1.177469729066939,0.20009016689082887,0.09405941449447791,0.5932608658819103,0.14010929025014401,1.0798204926922716,0.11199469570156023,1.4625613916854445,0.96883802853339,-0.8783474267563744,-0.4252371602918076,0.37215675159698086,-1.4302263506564679,0.2558880224114762,1.1896214678655428,0.4746170645665278,-0.14131097951846983,-0.027214769297563113,0.9004795356962161,1.3314361916464794,-0.5204107733197074,1.2852958874122797,-1.9534405535904045,0.2215282518201715,-0.3702658849902657,-1.5884506866084582,0.343859928693338,0.17965410946200305,-0.16726800645899342,-0.14728940658749723,-0.276822790206702,-0.6069993193562335,-1.1712598675329737,-1.6382809905592903,-0.46520145800541784,-0.050911142523024755,0.18563253653103046,-0.7427059040665233,-1.2474714927516282,-1.9700749290672668,-0.136912344637645,1.1754753257967114,0.6912227332054854,0.3141846558218743,-1.7816560892429216,-1.5692231290494074,0.044850841554443355,-0.034530185930789936,-0.9462970795939238,-1.6215278964025603,0.08262317975353534,-1.681512337630709,-1.0619887481487018,1.2213107304495312,1.3447679997306212,-1.634294575389663,-1.4620687887939976,0.11588342360210063,0.9126194194200512,1.3732695149840028,0.05470853282006988,-0.9880387489472984,-1.8178215919291443,0.5737557460681917,-0.7587564935040235,-1.3872069250356354,0.5702718976709675,-0.8548897094660419,-0.6977715734911318,-0.09506335515445263,-1.844223818805999,-0.7079537507804352,-1.6526542105881583,0.35024691029503946,0.4885683219748103,-0.5390441370770036,0.4013634266254766,-0.14308565636722143,-0.13709537422342516,-2.0073762835079814,0.028296716735175587,-1.1976520643000084,-0.14330299141786984,-1.74133552666462,0.6531428238412722,0.6212562852259074,0.1834488150329328,-0.34467279576366383,-0.29735459839963774,-0.12199771759312844,-0.12996815656155597,-0.19091307291944132,-0.005061214382476753,0.7247862614005147,0.3969859933897922,0.09101678251878714,-1.3887462274397384,-0.21651669894307568,0.21362795587502742,1.3448656869997084,-1.4228402810236527,-0.37680606417323165,0.8559424676351004,-1.4421832047945227,-0.5831048648810719,0.9742032087200045,0.910718892348011,0.036374306676631385,0.3630886326007144,0.7868770937329506,1.4166068118280382,-0.5569758891471046,-0.3397640318996968,-0.5670350216426233,1.2696442429111354,0.1538436851847526,0.6371995545335898,-0.5174457889578166,-1.663972239631954,-1.5690861179181035,0.5335742824607226,-0.6812542766573146,0.1316373746819131,0.35154285551591596,0.0491673204586201,-1.1195375206384859,-0.5722246050415547,-0.6061007641854921,-1.4500445155585553,0.32522366691632215,0.8265172088430692,1.2890654401082335,1.452477374242203,-0.3794041470098154,0.0698587007214107,-1.8976403821169014,1.0218108988507486,-1.0619887481487018,1.4843615214867405,-0.8282011209102503,0.35284031400208365,0.9420993350539912,-0.7235701426936134,0.28536908070335715,0.9502895004438947,0.3617245602282448,-0.11223705450664895,-0.3735258520166049,0.0212700609606849,-1.6846004997122488,1.0935520236790781,0.29386128172683806,-0.5164243581500798,-0.1348983549251202,-0.8181483814995152,0.6929974100542369,-0.4641460412459538,-1.2608153419696977,-1.6066340497409006,1.340879271830081,-0.20466705429634713,-0.02750400273327397,-0.056876708875887416,-0.7428356160681424,-0.8763554148569745,1.363210323970186,0.8347049828621451,1.3793709283285167,0.32712038291746254,0.4531761156893834,-0.4661380531453537,-0.3603010427516108,-0.37627397390482176,0.11094646699609717,-0.23751498523428038,1.0439499302781068,1.5450641077975973,-1.8246835674826956,0.2575088291551669,0.13590840397767018,-0.577736155557476,1.2174338576237598,-0.6249538543642643,0.7248839486696022,0.8220639171203354,0.28349624400854384,-0.31845205326841836,0.43881378122784404,1.3368928566604534,-0.3799262417062176,1.2631597199327238,1.1979031180828057,0.03646204036415185,0.6627175929403624,1.7483306281445314,0.8188712558983184,-1.376289261334366,0.7191228566512229,-0.5814180852044004,1.1556551836632574,-0.6412899789437045,0.8426896682761686,0.48559296907460087,0.35103409119357215,0.4741144977941247,1.0838187629366678,0.7826738160896494,0.43874650215236294,-0.862404157448692,-1.4212807188573295,0.6629283016726704,1.2331722886893266,-1.0960188041265413,1.62227756378557,0.8468786994738737,1.0281162033142803,0.6932171364757129,0.7949575476222086,-2.035672622239464,1.2311778854190991,-1.1413982177935837,-0.026890283273886373,1.026536411126078,-0.15474047487169895,0.42899852238738173,0.8825319268373903,0.30624015700377655,-1.9933174025496962,-1.2594283468896832,0.11597871950036015,0.04800667479100956,-0.9866209337308225,0.9739834822985287,-0.20109525020874475,0.3553326647351332,-0.2639197615038827,-0.2736672686918893,-0.4969782851201374,-1.0707001577459478,0.7948503966491802,0.23725465865418,1.0539147725167617,1.0581156587892355,-0.5538224472813661,-1.6108052211049657,-1.1750717126321857,0.06467098368789742,-1.937721271480256,0.060192719054481814,0.95626506356512,1.0540219234897903,-0.5720077425678809,-0.570494662986309,1.4925488229288415,-1.2712130223281501,1.2212154345512718,0.48129357418576907,-0.49099985805111,-1.3301509048580784,-0.14308565636722143,0.08210256035642288,1.164241430041715,1.209473051516063,-0.10627131075911977,1.2930518552778612,0.8427849641744285,0.03477884834275985,-0.024788559873840987,1.3512563337799335,-0.35769931310677927,-0.7889731148728377,0.6332131393639622,0.7563012193610332,-1.2250098072820923,-0.24848846923664242,-1.6434495927792703,-0.31017952014811545,1.2610700207642365,0.4474174150418317,-1.4613676564272935,0.5775224348163435,-0.4134971686274265,-0.1331208141285663,0.5742583128405949,-0.7302466523128546,-1.0718882333767576,1.193410607003794,0.45893214512383657,-0.41172249177867487,-0.3959767205052266,-0.6354188720044948,0.7008725531244049,-1.1988423718131476,0.9109357548216848,-0.7847693646525618,-0.5737378853130797,0.12606273694360187,0.16380613605258004,0.29138737966993183,-0.2783087061967173,0.7328543876380296,-0.6931009467177497,-0.7704281159203237,0.831334205945758,-1.6640682235483455,1.3475586794690415,-1.0730785408898968,-0.049520522431268865,-0.17974378806663982,-1.0978593105628667,0.9485838580324033,0.2731252210683451,-1.3866681261905447,1.3548281378675358,-1.0364469498623143,0.2574689572576197,0.27739625036410215,0.5003089788283708,-0.11917194809111153,1.1116093440385495,0.8324956359120967,0.16244206368011033,0.4477303947610359,0.03138640866241432,1.5521162311454428,0.2875779550764311,-0.0672509653962357,0.20416920954575685,-1.84396674074484,-0.9458876653122306,0.5871301120025374,-0.7291258785427912,0.7828935425111254,-1.7547311843806355,-0.5921518981480371,0.26040714372178414,-0.3320988251539978,1.4325476897648932,-0.581200750153752,-1.3227451330065534,0.48328625616613513,1.0777331848946121,1.3667849920055908,-0.7338594709559452,-0.7958926196742999,0.8167697016550626,-0.5099814458987737,0.27739625036410215,0.43682176932844413,-1.5525909996935057,0.5756406069945634,1.363015439309637,-2.2665503708762085,-0.2377967062777243,-2.1721552958693473,0.728867972468402,0.29736580673895935,-0.1762377587386979,0.4113282688641317,-0.8051605171288949,-0.11888557860320292,1.3193721865353962,-0.31186037931697785,0.044142298773770794,1.3193721865353962,-0.30472052228161184,-0.17477491895120978,0.47762253010617345,-0.45522942771276204,1.0122826455072431,0.9502895004438947,-0.7976672965230517,-0.24399246839740024,0.806807250787235,0.7009702403934921,0.002510171764252278,0.17576299019063507,0.4551692702467241,-1.678769227271256,-0.7929595300424652,-0.7880365197329018,-0.6057877844662878,1.4593741169318124,1.2077740841232736,-0.48186398740238795,-0.26087952089901945,-0.7889731148728377,-0.029712877106347735,-1.3690344374024055,-1.4605957043641893,0.2494985182891924,-0.03735883005109836,0.46034485027154987,0.9004676806214473,0.9742032087200045,-0.08152670882819513,-0.3918830958442726,0.4288513303600168,1.331637387974484,1.0616678764345409,-0.13710722929819402,-1.4977637252645215,0.5895894730320184,0.10791298463367321,-1.6924227074513292,-1.5789215464374031,1.026231511544698,-0.8713632935435771,1.1256558973450916,-2.364015546774848,-0.8071549203991224,-1.9219007637450434,-2.0075931459816556,1.2675583548135483,1.1158005974502927,1.0556894493655136,-0.41759006958090333,0.5134930925203383,0.22150309894519554,-0.8302088574736171,0.33718052105437696,0.4846890577782111,-0.2601560899389866,-0.3998559261835276,-0.11518839686928622,-0.08102061291881063,0.05012072584279831,-1.3032722122200777,-0.6046901044384492,0.6135031813081282,1.2815072208510034,-1.6075433912961046,-0.5142154837770061,0.05989624985358338,-0.04881311741675015,0.4058814052778437,-0.9044922754439881,-0.03547396912472689,1.3070007213153159,-1.5343841835670013,1.6481856753319073,-0.21870365402132275,-0.4329832453123752,0.36632093207154076,-1.2568731930314774,-0.7843365265327643,-0.04543881136338174,1.0145638908423538,0.748797656945712,1.0956684661016947,-0.5090448507588379,0.3132668127782669,0.8549210368273636,0.21235651098785818,0.9859403364365835,1.4245772507964656,-1.36686785543259,-0.9747740945135981,-0.7500702942492621],\"yaxis\":\"y\",\"type\":\"scatter\"}],                        {\"template\":{\"data\":{\"histogram2dcontour\":[{\"type\":\"histogram2dcontour\",\"colorbar\":{\"outlinewidth\":0,\"ticks\":\"\"},\"colorscale\":[[0.0,\"#0d0887\"],[0.1111111111111111,\"#46039f\"],[0.2222222222222222,\"#7201a8\"],[0.3333333333333333,\"#9c179e\"],[0.4444444444444444,\"#bd3786\"],[0.5555555555555556,\"#d8576b\"],[0.6666666666666666,\"#ed7953\"],[0.7777777777777778,\"#fb9f3a\"],[0.8888888888888888,\"#fdca26\"],[1.0,\"#f0f921\"]]}],\"choropleth\":[{\"type\":\"choropleth\",\"colorbar\":{\"outlinewidth\":0,\"ticks\":\"\"}}],\"histogram2d\":[{\"type\":\"histogram2d\",\"colorbar\":{\"outlinewidth\":0,\"ticks\":\"\"},\"colorscale\":[[0.0,\"#0d0887\"],[0.1111111111111111,\"#46039f\"],[0.2222222222222222,\"#7201a8\"],[0.3333333333333333,\"#9c179e\"],[0.4444444444444444,\"#bd3786\"],[0.5555555555555556,\"#d8576b\"],[0.6666666666666666,\"#ed7953\"],[0.7777777777777778,\"#fb9f3a\"],[0.8888888888888888,\"#fdca26\"],[1.0,\"#f0f921\"]]}],\"heatmap\":[{\"type\":\"heatmap\",\"colorbar\":{\"outlinewidth\":0,\"ticks\":\"\"},\"colorscale\":[[0.0,\"#0d0887\"],[0.1111111111111111,\"#46039f\"],[0.2222222222222222,\"#7201a8\"],[0.3333333333333333,\"#9c179e\"],[0.4444444444444444,\"#bd3786\"],[0.5555555555555556,\"#d8576b\"],[0.6666666666666666,\"#ed7953\"],[0.7777777777777778,\"#fb9f3a\"],[0.8888888888888888,\"#fdca26\"],[1.0,\"#f0f921\"]]}],\"heatmapgl\":[{\"type\":\"heatmapgl\",\"colorbar\":{\"outlinewidth\":0,\"ticks\":\"\"},\"colorscale\":[[0.0,\"#0d0887\"],[0.1111111111111111,\"#46039f\"],[0.2222222222222222,\"#7201a8\"],[0.3333333333333333,\"#9c179e\"],[0.4444444444444444,\"#bd3786\"],[0.5555555555555556,\"#d8576b\"],[0.6666666666666666,\"#ed7953\"],[0.7777777777777778,\"#fb9f3a\"],[0.8888888888888888,\"#fdca26\"],[1.0,\"#f0f921\"]]}],\"contourcarpet\":[{\"type\":\"contourcarpet\",\"colorbar\":{\"outlinewidth\":0,\"ticks\":\"\"}}],\"contour\":[{\"type\":\"contour\",\"colorbar\":{\"outlinewidth\":0,\"ticks\":\"\"},\"colorscale\":[[0.0,\"#0d0887\"],[0.1111111111111111,\"#46039f\"],[0.2222222222222222,\"#7201a8\"],[0.3333333333333333,\"#9c179e\"],[0.4444444444444444,\"#bd3786\"],[0.5555555555555556,\"#d8576b\"],[0.6666666666666666,\"#ed7953\"],[0.7777777777777778,\"#fb9f3a\"],[0.8888888888888888,\"#fdca26\"],[1.0,\"#f0f921\"]]}],\"surface\":[{\"type\":\"surface\",\"colorbar\":{\"outlinewidth\":0,\"ticks\":\"\"},\"colorscale\":[[0.0,\"#0d0887\"],[0.1111111111111111,\"#46039f\"],[0.2222222222222222,\"#7201a8\"],[0.3333333333333333,\"#9c179e\"],[0.4444444444444444,\"#bd3786\"],[0.5555555555555556,\"#d8576b\"],[0.6666666666666666,\"#ed7953\"],[0.7777777777777778,\"#fb9f3a\"],[0.8888888888888888,\"#fdca26\"],[1.0,\"#f0f921\"]]}],\"mesh3d\":[{\"type\":\"mesh3d\",\"colorbar\":{\"outlinewidth\":0,\"ticks\":\"\"}}],\"scatter\":[{\"fillpattern\":{\"fillmode\":\"overlay\",\"size\":10,\"solidity\":0.2},\"type\":\"scatter\"}],\"parcoords\":[{\"type\":\"parcoords\",\"line\":{\"colorbar\":{\"outlinewidth\":0,\"ticks\":\"\"}}}],\"scatterpolargl\":[{\"type\":\"scatterpolargl\",\"marker\":{\"colorbar\":{\"outlinewidth\":0,\"ticks\":\"\"}}}],\"bar\":[{\"error_x\":{\"color\":\"#2a3f5f\"},\"error_y\":{\"color\":\"#2a3f5f\"},\"marker\":{\"line\":{\"color\":\"#E5ECF6\",\"width\":0.5},\"pattern\":{\"fillmode\":\"overlay\",\"size\":10,\"solidity\":0.2}},\"type\":\"bar\"}],\"scattergeo\":[{\"type\":\"scattergeo\",\"marker\":{\"colorbar\":{\"outlinewidth\":0,\"ticks\":\"\"}}}],\"scatterpolar\":[{\"type\":\"scatterpolar\",\"marker\":{\"colorbar\":{\"outlinewidth\":0,\"ticks\":\"\"}}}],\"histogram\":[{\"marker\":{\"pattern\":{\"fillmode\":\"overlay\",\"size\":10,\"solidity\":0.2}},\"type\":\"histogram\"}],\"scattergl\":[{\"type\":\"scattergl\",\"marker\":{\"colorbar\":{\"outlinewidth\":0,\"ticks\":\"\"}}}],\"scatter3d\":[{\"type\":\"scatter3d\",\"line\":{\"colorbar\":{\"outlinewidth\":0,\"ticks\":\"\"}},\"marker\":{\"colorbar\":{\"outlinewidth\":0,\"ticks\":\"\"}}}],\"scattermapbox\":[{\"type\":\"scattermapbox\",\"marker\":{\"colorbar\":{\"outlinewidth\":0,\"ticks\":\"\"}}}],\"scatterternary\":[{\"type\":\"scatterternary\",\"marker\":{\"colorbar\":{\"outlinewidth\":0,\"ticks\":\"\"}}}],\"scattercarpet\":[{\"type\":\"scattercarpet\",\"marker\":{\"colorbar\":{\"outlinewidth\":0,\"ticks\":\"\"}}}],\"carpet\":[{\"aaxis\":{\"endlinecolor\":\"#2a3f5f\",\"gridcolor\":\"white\",\"linecolor\":\"white\",\"minorgridcolor\":\"white\",\"startlinecolor\":\"#2a3f5f\"},\"baxis\":{\"endlinecolor\":\"#2a3f5f\",\"gridcolor\":\"white\",\"linecolor\":\"white\",\"minorgridcolor\":\"white\",\"startlinecolor\":\"#2a3f5f\"},\"type\":\"carpet\"}],\"table\":[{\"cells\":{\"fill\":{\"color\":\"#EBF0F8\"},\"line\":{\"color\":\"white\"}},\"header\":{\"fill\":{\"color\":\"#C8D4E3\"},\"line\":{\"color\":\"white\"}},\"type\":\"table\"}],\"barpolar\":[{\"marker\":{\"line\":{\"color\":\"#E5ECF6\",\"width\":0.5},\"pattern\":{\"fillmode\":\"overlay\",\"size\":10,\"solidity\":0.2}},\"type\":\"barpolar\"}],\"pie\":[{\"automargin\":true,\"type\":\"pie\"}]},\"layout\":{\"autotypenumbers\":\"strict\",\"colorway\":[\"#636efa\",\"#EF553B\",\"#00cc96\",\"#ab63fa\",\"#FFA15A\",\"#19d3f3\",\"#FF6692\",\"#B6E880\",\"#FF97FF\",\"#FECB52\"],\"font\":{\"color\":\"#2a3f5f\"},\"hovermode\":\"closest\",\"hoverlabel\":{\"align\":\"left\"},\"paper_bgcolor\":\"white\",\"plot_bgcolor\":\"#E5ECF6\",\"polar\":{\"bgcolor\":\"#E5ECF6\",\"angularaxis\":{\"gridcolor\":\"white\",\"linecolor\":\"white\",\"ticks\":\"\"},\"radialaxis\":{\"gridcolor\":\"white\",\"linecolor\":\"white\",\"ticks\":\"\"}},\"ternary\":{\"bgcolor\":\"#E5ECF6\",\"aaxis\":{\"gridcolor\":\"white\",\"linecolor\":\"white\",\"ticks\":\"\"},\"baxis\":{\"gridcolor\":\"white\",\"linecolor\":\"white\",\"ticks\":\"\"},\"caxis\":{\"gridcolor\":\"white\",\"linecolor\":\"white\",\"ticks\":\"\"}},\"coloraxis\":{\"colorbar\":{\"outlinewidth\":0,\"ticks\":\"\"}},\"colorscale\":{\"sequential\":[[0.0,\"#0d0887\"],[0.1111111111111111,\"#46039f\"],[0.2222222222222222,\"#7201a8\"],[0.3333333333333333,\"#9c179e\"],[0.4444444444444444,\"#bd3786\"],[0.5555555555555556,\"#d8576b\"],[0.6666666666666666,\"#ed7953\"],[0.7777777777777778,\"#fb9f3a\"],[0.8888888888888888,\"#fdca26\"],[1.0,\"#f0f921\"]],\"sequentialminus\":[[0.0,\"#0d0887\"],[0.1111111111111111,\"#46039f\"],[0.2222222222222222,\"#7201a8\"],[0.3333333333333333,\"#9c179e\"],[0.4444444444444444,\"#bd3786\"],[0.5555555555555556,\"#d8576b\"],[0.6666666666666666,\"#ed7953\"],[0.7777777777777778,\"#fb9f3a\"],[0.8888888888888888,\"#fdca26\"],[1.0,\"#f0f921\"]],\"diverging\":[[0,\"#8e0152\"],[0.1,\"#c51b7d\"],[0.2,\"#de77ae\"],[0.3,\"#f1b6da\"],[0.4,\"#fde0ef\"],[0.5,\"#f7f7f7\"],[0.6,\"#e6f5d0\"],[0.7,\"#b8e186\"],[0.8,\"#7fbc41\"],[0.9,\"#4d9221\"],[1,\"#276419\"]]},\"xaxis\":{\"gridcolor\":\"white\",\"linecolor\":\"white\",\"ticks\":\"\",\"title\":{\"standoff\":15},\"zerolinecolor\":\"white\",\"automargin\":true,\"zerolinewidth\":2},\"yaxis\":{\"gridcolor\":\"white\",\"linecolor\":\"white\",\"ticks\":\"\",\"title\":{\"standoff\":15},\"zerolinecolor\":\"white\",\"automargin\":true,\"zerolinewidth\":2},\"scene\":{\"xaxis\":{\"backgroundcolor\":\"#E5ECF6\",\"gridcolor\":\"white\",\"linecolor\":\"white\",\"showbackground\":true,\"ticks\":\"\",\"zerolinecolor\":\"white\",\"gridwidth\":2},\"yaxis\":{\"backgroundcolor\":\"#E5ECF6\",\"gridcolor\":\"white\",\"linecolor\":\"white\",\"showbackground\":true,\"ticks\":\"\",\"zerolinecolor\":\"white\",\"gridwidth\":2},\"zaxis\":{\"backgroundcolor\":\"#E5ECF6\",\"gridcolor\":\"white\",\"linecolor\":\"white\",\"showbackground\":true,\"ticks\":\"\",\"zerolinecolor\":\"white\",\"gridwidth\":2}},\"shapedefaults\":{\"line\":{\"color\":\"#2a3f5f\"}},\"annotationdefaults\":{\"arrowcolor\":\"#2a3f5f\",\"arrowhead\":0,\"arrowwidth\":1},\"geo\":{\"bgcolor\":\"white\",\"landcolor\":\"#E5ECF6\",\"subunitcolor\":\"white\",\"showland\":true,\"showlakes\":true,\"lakecolor\":\"white\"},\"title\":{\"x\":0.05},\"mapbox\":{\"style\":\"light\"}}},\"xaxis\":{\"anchor\":\"y\",\"domain\":[0.0,1.0],\"title\":{\"text\":\"Y train\"}},\"yaxis\":{\"anchor\":\"x\",\"domain\":[0.0,1.0],\"title\":{\"text\":\"Y train pred\"}},\"legend\":{\"tracegroupgap\":0},\"margin\":{\"t\":60}},                        {\"responsive\": true}                    ).then(function(){\n                            \nvar gd = document.getElementById('2ddd3310-ff4a-47e1-9d53-2010f6eed755');\nvar x = new MutationObserver(function (mutations, observer) {{\n        var display = window.getComputedStyle(gd).display;\n        if (!display || display === 'none') {{\n            console.log([gd, 'removed!']);\n            Plotly.purge(gd);\n            observer.disconnect();\n        }}\n}});\n\n// Listen for the removal of the full notebook cells\nvar notebookContainer = gd.closest('#notebook-container');\nif (notebookContainer) {{\n    x.observe(notebookContainer, {childList: true});\n}}\n\n// Listen for the clearing of the current output cell\nvar outputEl = gd.closest('.output');\nif (outputEl) {{\n    x.observe(outputEl, {childList: true});\n}}\n\n                        })                };                            </script>        </div>\n</body>\n</html>"
     },
     "metadata": {},
     "output_type": "display_data"
    }
   ]
  },
  {
   "cell_type": "markdown",
   "source": "We do see that y_train and y_pred are linearly correlated. ",
   "metadata": {
    "formattedRanges": [],
    "is_collapsed": false,
    "cell_id": "22f564e2b8fe420cbebda6425a2b25ee",
    "tags": [],
    "deepnote_cell_type": "text-cell-p"
   }
  },
  {
   "cell_type": "markdown",
   "source": "### Test set evaluation\n\n#### R^2 and adjusted R^2 evaluation on test data",
   "metadata": {
    "cell_id": "d0aeeb6d86344816be6e9089879706f3",
    "tags": [],
    "deepnote_cell_type": "markdown",
    "deepnote_cell_height": 102
   }
  },
  {
   "cell_type": "code",
   "metadata": {
    "cell_id": "5b396053d1654771bc82902b7cde6b64",
    "tags": [],
    "deepnote_to_be_reexecuted": false,
    "source_hash": "92c1f443",
    "execution_start": 1663728014934,
    "execution_millis": 4,
    "deepnote_cell_type": "code",
    "deepnote_cell_height": 112
   },
   "source": "def calculate_adj_r2(data, r2):\n    adusted_r_2 = 1-(1-r2)*(len(data)-1)/(len(data)-len(data.columns)-1)\n    return adusted_r_2",
   "execution_count": 50,
   "outputs": []
  },
  {
   "cell_type": "code",
   "metadata": {
    "cell_id": "38df6c38f5d54a44b5b232255f8f92d9",
    "tags": [],
    "deepnote_to_be_reexecuted": false,
    "source_hash": "493a99fe",
    "execution_start": 1663728014939,
    "execution_millis": 6,
    "deepnote_cell_type": "code",
    "deepnote_cell_height": 112
   },
   "source": "# creating test predictor feature dataframe and target feature frame\ny_test = data_test.pop('cnt')\nX_test = data_test",
   "execution_count": 51,
   "outputs": []
  },
  {
   "cell_type": "code",
   "metadata": {
    "cell_id": "8900107d7e0a4f83a51a064c34441f46",
    "tags": [],
    "deepnote_to_be_reexecuted": false,
    "source_hash": "7d38f2e6",
    "execution_start": 1663728014948,
    "execution_millis": 3,
    "deepnote_cell_type": "code",
    "deepnote_cell_height": 187,
    "deepnote_output_heights": [
     58.578125
    ]
   },
   "source": "# ensuring that we're testing only on the columns that our model is set to predict on.\nX_test = X_test[X_train.columns]\nX_test.columns",
   "execution_count": 52,
   "outputs": [
    {
     "output_type": "execute_result",
     "execution_count": 52,
     "data": {
      "text/plain": "Index(['yr', 'workingday', 'temp', 'december', 'jan', 'july', 'november',\n       'september', 'sunday', 'light_snow', 'misty', 'spring', 'winter'],\n      dtype='object')"
     },
     "metadata": {}
    }
   ]
  },
  {
   "cell_type": "code",
   "metadata": {
    "cell_id": "5cff3dbb866c42f6b8a52a5d591bd245",
    "tags": [],
    "deepnote_to_be_reexecuted": false,
    "source_hash": "d9376d84",
    "execution_start": 1663728647251,
    "execution_millis": 3,
    "deepnote_cell_type": "code",
    "deepnote_cell_height": 148.1875,
    "deepnote_output_heights": [
     20.1875
    ]
   },
   "source": "y_test_pred = lm_variation_5.predict(X_test)\ntest_data_r2 = r2_score(y_test, y_test_pred)\ntest_data_r2",
   "execution_count": 54,
   "outputs": [
    {
     "output_type": "execute_result",
     "execution_count": 54,
     "data": {
      "text/plain": "0.8244530300044713"
     },
     "metadata": {}
    }
   ]
  },
  {
   "cell_type": "markdown",
   "source": "Not bad! While .06 lower than our training set, this indicates that our model did not memorize that data and can perform nearly as well on new data.",
   "metadata": {
    "formattedRanges": [],
    "is_collapsed": false,
    "cell_id": "1f4207e1b82e4431a26c49d3da82fa25",
    "tags": [],
    "deepnote_cell_type": "text-cell-p"
   }
  },
  {
   "cell_type": "markdown",
   "source": "Because we're doing a multivariate linear regression, let's also measure adjusted r^2 score.",
   "metadata": {
    "formattedRanges": [],
    "is_collapsed": false,
    "cell_id": "9a45d49dc1934548aa4a2e73a8504827",
    "tags": [],
    "deepnote_cell_type": "text-cell-p"
   }
  },
  {
   "cell_type": "code",
   "metadata": {
    "cell_id": "87f1f50ac3d744ee924dfb66adfbfa22",
    "tags": [],
    "deepnote_to_be_reexecuted": false,
    "source_hash": "c6379208",
    "execution_start": 1663728654406,
    "execution_millis": 2,
    "deepnote_cell_type": "code",
    "deepnote_cell_height": 111.6875
   },
   "source": "print(\"The adjusted r_2 score for our test predictions is \", round(calculate_adj_r2(X_test, test_data_r2), 5))",
   "execution_count": 55,
   "outputs": [
    {
     "name": "stdout",
     "text": "The adjusted r_2 score for our test predictions is  0.81332\n",
     "output_type": "stream"
    }
   ]
  },
  {
   "cell_type": "markdown",
   "source": "Our model is performing as expected and desired. Let's take a look at the coefficients of the model and map them back to our features so that we can evaluate feature importance.",
   "metadata": {
    "formattedRanges": [],
    "is_collapsed": false,
    "cell_id": "23cbd1702f814cd1802d05ac64669456",
    "tags": [],
    "deepnote_cell_type": "text-cell-p"
   }
  },
  {
   "cell_type": "code",
   "metadata": {
    "cell_id": "c3e748c6d8014e18a1af3f4f19e0af5a",
    "tags": [],
    "deepnote_to_be_reexecuted": false,
    "source_hash": "ae2c2c10",
    "execution_start": 1663728659836,
    "execution_millis": 14,
    "deepnote_table_state": {
     "pageSize": 25,
     "pageIndex": 0,
     "filters": [],
     "sortBy": []
    },
    "deepnote_table_loading": false,
    "deepnote_cell_type": "code",
    "deepnote_cell_height": 808
   },
   "source": "coefs = pd.DataFrame(\n   lm_variation_5.coef_.T,\n   columns=['Coefficients'], index=X_test.columns\n)\n\ncoefs",
   "execution_count": 56,
   "outputs": [
    {
     "output_type": "execute_result",
     "execution_count": 56,
     "data": {
      "application/vnd.deepnote.dataframe.v3+json": {
       "column_count": 1,
       "row_count": 13,
       "columns": [
        {
         "name": "Coefficients",
         "dtype": "float64",
         "stats": {
          "unique_count": 13,
          "nan_count": 0,
          "min": "-1.397348382084613",
          "max": "1.0415613250892688",
          "histogram": [
           {
            "bin_start": -1.397348382084613,
            "bin_end": -1.153457411367225,
            "count": 1
           },
           {
            "bin_start": -1.153457411367225,
            "bin_end": -0.9095664406498367,
            "count": 0
           },
           {
            "bin_start": -0.9095664406498367,
            "bin_end": -0.6656754699324485,
            "count": 0
           },
           {
            "bin_start": -0.6656754699324485,
            "bin_end": -0.42178449921506034,
            "count": 1
           },
           {
            "bin_start": -0.42178449921506034,
            "bin_end": -0.17789352849767215,
            "count": 5
           },
           {
            "bin_start": -0.17789352849767215,
            "bin_end": 0.06599744221971604,
            "count": 0
           },
           {
            "bin_start": 0.06599744221971604,
            "bin_end": 0.30988841293710423,
            "count": 3
           },
           {
            "bin_start": 0.30988841293710423,
            "bin_end": 0.5537793836544924,
            "count": 2
           },
           {
            "bin_start": 0.5537793836544924,
            "bin_end": 0.7976703543718806,
            "count": 0
           },
           {
            "bin_start": 0.7976703543718806,
            "bin_end": 1.0415613250892688,
            "count": 1
           }
          ]
         }
        },
        {
         "name": "_deepnote_index_column",
         "dtype": "object"
        }
       ],
       "rows": [
        {
         "Coefficients": "1.0415613250892688",
         "_deepnote_index_column": "yr"
        },
        {
         "Coefficients": "0.24700037075649828",
         "_deepnote_index_column": "workingday"
        },
        {
         "Coefficients": "0.4330060766089374",
         "_deepnote_index_column": "temp"
        },
        {
         "Coefficients": "-0.1944919856214185",
         "_deepnote_index_column": "december"
        },
        {
         "Coefficients": "-0.17999450111288573",
         "_deepnote_index_column": "jan"
        },
        {
         "Coefficients": "-0.2611540750360688",
         "_deepnote_index_column": "july"
        },
        {
         "Coefficients": "-0.24301748472385212",
         "_deepnote_index_column": "november"
        },
        {
         "Coefficients": "0.2614709988490066",
         "_deepnote_index_column": "september"
        },
        {
         "Coefficients": "0.2850798075437369",
         "_deepnote_index_column": "sunday"
        },
        {
         "Coefficients": "-1.397348382084613",
         "_deepnote_index_column": "light_snow"
        },
        {
         "Coefficients": "-0.3629093743619248",
         "_deepnote_index_column": "misty"
        },
        {
         "Coefficients": "-0.4806374093061488",
         "_deepnote_index_column": "spring"
        },
        {
         "Coefficients": "0.3432684507433509",
         "_deepnote_index_column": "winter"
        }
       ]
      },
      "text/plain": "            Coefficients\nyr              1.041561\nworkingday      0.247000\ntemp            0.433006\ndecember       -0.194492\njan            -0.179995\njuly           -0.261154\nnovember       -0.243017\nseptember       0.261471\nsunday          0.285080\nlight_snow     -1.397348\nmisty          -0.362909\nspring         -0.480637\nwinter          0.343268",
      "text/html": "<div>\n<style scoped>\n    .dataframe tbody tr th:only-of-type {\n        vertical-align: middle;\n    }\n\n    .dataframe tbody tr th {\n        vertical-align: top;\n    }\n\n    .dataframe thead th {\n        text-align: right;\n    }\n</style>\n<table border=\"1\" class=\"dataframe\">\n  <thead>\n    <tr style=\"text-align: right;\">\n      <th></th>\n      <th>Coefficients</th>\n    </tr>\n  </thead>\n  <tbody>\n    <tr>\n      <th>yr</th>\n      <td>1.041561</td>\n    </tr>\n    <tr>\n      <th>workingday</th>\n      <td>0.247000</td>\n    </tr>\n    <tr>\n      <th>temp</th>\n      <td>0.433006</td>\n    </tr>\n    <tr>\n      <th>december</th>\n      <td>-0.194492</td>\n    </tr>\n    <tr>\n      <th>jan</th>\n      <td>-0.179995</td>\n    </tr>\n    <tr>\n      <th>july</th>\n      <td>-0.261154</td>\n    </tr>\n    <tr>\n      <th>november</th>\n      <td>-0.243017</td>\n    </tr>\n    <tr>\n      <th>september</th>\n      <td>0.261471</td>\n    </tr>\n    <tr>\n      <th>sunday</th>\n      <td>0.285080</td>\n    </tr>\n    <tr>\n      <th>light_snow</th>\n      <td>-1.397348</td>\n    </tr>\n    <tr>\n      <th>misty</th>\n      <td>-0.362909</td>\n    </tr>\n    <tr>\n      <th>spring</th>\n      <td>-0.480637</td>\n    </tr>\n    <tr>\n      <th>winter</th>\n      <td>0.343268</td>\n    </tr>\n  </tbody>\n</table>\n</div>"
     },
     "metadata": {}
    }
   ]
  },
  {
   "cell_type": "code",
   "metadata": {
    "cell_id": "09eb4503134e4fe08d9566fcca3b4172",
    "tags": [],
    "deepnote_to_be_reexecuted": false,
    "source_hash": "e0262a0e",
    "execution_start": 1663728663418,
    "execution_millis": 3,
    "deepnote_cell_type": "code",
    "deepnote_cell_height": 618,
    "deepnote_output_heights": [
     526,
     610
    ]
   },
   "source": "px.bar(coefs)",
   "execution_count": 57,
   "outputs": [
    {
     "data": {
      "text/html": "<html>\n<head><meta charset=\"utf-8\" /></head>\n<body>\n    <div>            <script src=\"https://cdnjs.cloudflare.com/ajax/libs/mathjax/2.7.5/MathJax.js?config=TeX-AMS-MML_SVG\"></script><script type=\"text/javascript\">if (window.MathJax && window.MathJax.Hub && window.MathJax.Hub.Config) {window.MathJax.Hub.Config({SVG: {font: \"STIX-Web\"}});}</script>                <script type=\"text/javascript\">window.PlotlyConfig = {MathJaxConfig: 'local'};</script>\n        <script src=\"https://cdn.plot.ly/plotly-2.14.0.min.js\"></script>                <div id=\"3bce3df1-b209-4ae6-90fb-5f22535cfa07\" class=\"plotly-graph-div\" style=\"height:525px; width:100%;\"></div>            <script type=\"text/javascript\">                                    window.PLOTLYENV=window.PLOTLYENV || {};                                    if (document.getElementById(\"3bce3df1-b209-4ae6-90fb-5f22535cfa07\")) {                    Plotly.newPlot(                        \"3bce3df1-b209-4ae6-90fb-5f22535cfa07\",                        [{\"alignmentgroup\":\"True\",\"hovertemplate\":\"variable=Coefficients<br>index=%{x}<br>value=%{y}<extra></extra>\",\"legendgroup\":\"Coefficients\",\"marker\":{\"color\":\"#636efa\",\"pattern\":{\"shape\":\"\"}},\"name\":\"Coefficients\",\"offsetgroup\":\"Coefficients\",\"orientation\":\"v\",\"showlegend\":true,\"textposition\":\"auto\",\"x\":[\"yr\",\"workingday\",\"temp\",\"december\",\"jan\",\"july\",\"november\",\"september\",\"sunday\",\"light_snow\",\"misty\",\"spring\",\"winter\"],\"xaxis\":\"x\",\"y\":[1.0415613250892688,0.24700037075649828,0.4330060766089374,-0.1944919856214185,-0.17999450111288573,-0.2611540750360688,-0.24301748472385212,0.2614709988490066,0.2850798075437369,-1.397348382084613,-0.3629093743619248,-0.4806374093061488,0.3432684507433509],\"yaxis\":\"y\",\"type\":\"bar\"}],                        {\"template\":{\"data\":{\"histogram2dcontour\":[{\"type\":\"histogram2dcontour\",\"colorbar\":{\"outlinewidth\":0,\"ticks\":\"\"},\"colorscale\":[[0.0,\"#0d0887\"],[0.1111111111111111,\"#46039f\"],[0.2222222222222222,\"#7201a8\"],[0.3333333333333333,\"#9c179e\"],[0.4444444444444444,\"#bd3786\"],[0.5555555555555556,\"#d8576b\"],[0.6666666666666666,\"#ed7953\"],[0.7777777777777778,\"#fb9f3a\"],[0.8888888888888888,\"#fdca26\"],[1.0,\"#f0f921\"]]}],\"choropleth\":[{\"type\":\"choropleth\",\"colorbar\":{\"outlinewidth\":0,\"ticks\":\"\"}}],\"histogram2d\":[{\"type\":\"histogram2d\",\"colorbar\":{\"outlinewidth\":0,\"ticks\":\"\"},\"colorscale\":[[0.0,\"#0d0887\"],[0.1111111111111111,\"#46039f\"],[0.2222222222222222,\"#7201a8\"],[0.3333333333333333,\"#9c179e\"],[0.4444444444444444,\"#bd3786\"],[0.5555555555555556,\"#d8576b\"],[0.6666666666666666,\"#ed7953\"],[0.7777777777777778,\"#fb9f3a\"],[0.8888888888888888,\"#fdca26\"],[1.0,\"#f0f921\"]]}],\"heatmap\":[{\"type\":\"heatmap\",\"colorbar\":{\"outlinewidth\":0,\"ticks\":\"\"},\"colorscale\":[[0.0,\"#0d0887\"],[0.1111111111111111,\"#46039f\"],[0.2222222222222222,\"#7201a8\"],[0.3333333333333333,\"#9c179e\"],[0.4444444444444444,\"#bd3786\"],[0.5555555555555556,\"#d8576b\"],[0.6666666666666666,\"#ed7953\"],[0.7777777777777778,\"#fb9f3a\"],[0.8888888888888888,\"#fdca26\"],[1.0,\"#f0f921\"]]}],\"heatmapgl\":[{\"type\":\"heatmapgl\",\"colorbar\":{\"outlinewidth\":0,\"ticks\":\"\"},\"colorscale\":[[0.0,\"#0d0887\"],[0.1111111111111111,\"#46039f\"],[0.2222222222222222,\"#7201a8\"],[0.3333333333333333,\"#9c179e\"],[0.4444444444444444,\"#bd3786\"],[0.5555555555555556,\"#d8576b\"],[0.6666666666666666,\"#ed7953\"],[0.7777777777777778,\"#fb9f3a\"],[0.8888888888888888,\"#fdca26\"],[1.0,\"#f0f921\"]]}],\"contourcarpet\":[{\"type\":\"contourcarpet\",\"colorbar\":{\"outlinewidth\":0,\"ticks\":\"\"}}],\"contour\":[{\"type\":\"contour\",\"colorbar\":{\"outlinewidth\":0,\"ticks\":\"\"},\"colorscale\":[[0.0,\"#0d0887\"],[0.1111111111111111,\"#46039f\"],[0.2222222222222222,\"#7201a8\"],[0.3333333333333333,\"#9c179e\"],[0.4444444444444444,\"#bd3786\"],[0.5555555555555556,\"#d8576b\"],[0.6666666666666666,\"#ed7953\"],[0.7777777777777778,\"#fb9f3a\"],[0.8888888888888888,\"#fdca26\"],[1.0,\"#f0f921\"]]}],\"surface\":[{\"type\":\"surface\",\"colorbar\":{\"outlinewidth\":0,\"ticks\":\"\"},\"colorscale\":[[0.0,\"#0d0887\"],[0.1111111111111111,\"#46039f\"],[0.2222222222222222,\"#7201a8\"],[0.3333333333333333,\"#9c179e\"],[0.4444444444444444,\"#bd3786\"],[0.5555555555555556,\"#d8576b\"],[0.6666666666666666,\"#ed7953\"],[0.7777777777777778,\"#fb9f3a\"],[0.8888888888888888,\"#fdca26\"],[1.0,\"#f0f921\"]]}],\"mesh3d\":[{\"type\":\"mesh3d\",\"colorbar\":{\"outlinewidth\":0,\"ticks\":\"\"}}],\"scatter\":[{\"fillpattern\":{\"fillmode\":\"overlay\",\"size\":10,\"solidity\":0.2},\"type\":\"scatter\"}],\"parcoords\":[{\"type\":\"parcoords\",\"line\":{\"colorbar\":{\"outlinewidth\":0,\"ticks\":\"\"}}}],\"scatterpolargl\":[{\"type\":\"scatterpolargl\",\"marker\":{\"colorbar\":{\"outlinewidth\":0,\"ticks\":\"\"}}}],\"bar\":[{\"error_x\":{\"color\":\"#2a3f5f\"},\"error_y\":{\"color\":\"#2a3f5f\"},\"marker\":{\"line\":{\"color\":\"#E5ECF6\",\"width\":0.5},\"pattern\":{\"fillmode\":\"overlay\",\"size\":10,\"solidity\":0.2}},\"type\":\"bar\"}],\"scattergeo\":[{\"type\":\"scattergeo\",\"marker\":{\"colorbar\":{\"outlinewidth\":0,\"ticks\":\"\"}}}],\"scatterpolar\":[{\"type\":\"scatterpolar\",\"marker\":{\"colorbar\":{\"outlinewidth\":0,\"ticks\":\"\"}}}],\"histogram\":[{\"marker\":{\"pattern\":{\"fillmode\":\"overlay\",\"size\":10,\"solidity\":0.2}},\"type\":\"histogram\"}],\"scattergl\":[{\"type\":\"scattergl\",\"marker\":{\"colorbar\":{\"outlinewidth\":0,\"ticks\":\"\"}}}],\"scatter3d\":[{\"type\":\"scatter3d\",\"line\":{\"colorbar\":{\"outlinewidth\":0,\"ticks\":\"\"}},\"marker\":{\"colorbar\":{\"outlinewidth\":0,\"ticks\":\"\"}}}],\"scattermapbox\":[{\"type\":\"scattermapbox\",\"marker\":{\"colorbar\":{\"outlinewidth\":0,\"ticks\":\"\"}}}],\"scatterternary\":[{\"type\":\"scatterternary\",\"marker\":{\"colorbar\":{\"outlinewidth\":0,\"ticks\":\"\"}}}],\"scattercarpet\":[{\"type\":\"scattercarpet\",\"marker\":{\"colorbar\":{\"outlinewidth\":0,\"ticks\":\"\"}}}],\"carpet\":[{\"aaxis\":{\"endlinecolor\":\"#2a3f5f\",\"gridcolor\":\"white\",\"linecolor\":\"white\",\"minorgridcolor\":\"white\",\"startlinecolor\":\"#2a3f5f\"},\"baxis\":{\"endlinecolor\":\"#2a3f5f\",\"gridcolor\":\"white\",\"linecolor\":\"white\",\"minorgridcolor\":\"white\",\"startlinecolor\":\"#2a3f5f\"},\"type\":\"carpet\"}],\"table\":[{\"cells\":{\"fill\":{\"color\":\"#EBF0F8\"},\"line\":{\"color\":\"white\"}},\"header\":{\"fill\":{\"color\":\"#C8D4E3\"},\"line\":{\"color\":\"white\"}},\"type\":\"table\"}],\"barpolar\":[{\"marker\":{\"line\":{\"color\":\"#E5ECF6\",\"width\":0.5},\"pattern\":{\"fillmode\":\"overlay\",\"size\":10,\"solidity\":0.2}},\"type\":\"barpolar\"}],\"pie\":[{\"automargin\":true,\"type\":\"pie\"}]},\"layout\":{\"autotypenumbers\":\"strict\",\"colorway\":[\"#636efa\",\"#EF553B\",\"#00cc96\",\"#ab63fa\",\"#FFA15A\",\"#19d3f3\",\"#FF6692\",\"#B6E880\",\"#FF97FF\",\"#FECB52\"],\"font\":{\"color\":\"#2a3f5f\"},\"hovermode\":\"closest\",\"hoverlabel\":{\"align\":\"left\"},\"paper_bgcolor\":\"white\",\"plot_bgcolor\":\"#E5ECF6\",\"polar\":{\"bgcolor\":\"#E5ECF6\",\"angularaxis\":{\"gridcolor\":\"white\",\"linecolor\":\"white\",\"ticks\":\"\"},\"radialaxis\":{\"gridcolor\":\"white\",\"linecolor\":\"white\",\"ticks\":\"\"}},\"ternary\":{\"bgcolor\":\"#E5ECF6\",\"aaxis\":{\"gridcolor\":\"white\",\"linecolor\":\"white\",\"ticks\":\"\"},\"baxis\":{\"gridcolor\":\"white\",\"linecolor\":\"white\",\"ticks\":\"\"},\"caxis\":{\"gridcolor\":\"white\",\"linecolor\":\"white\",\"ticks\":\"\"}},\"coloraxis\":{\"colorbar\":{\"outlinewidth\":0,\"ticks\":\"\"}},\"colorscale\":{\"sequential\":[[0.0,\"#0d0887\"],[0.1111111111111111,\"#46039f\"],[0.2222222222222222,\"#7201a8\"],[0.3333333333333333,\"#9c179e\"],[0.4444444444444444,\"#bd3786\"],[0.5555555555555556,\"#d8576b\"],[0.6666666666666666,\"#ed7953\"],[0.7777777777777778,\"#fb9f3a\"],[0.8888888888888888,\"#fdca26\"],[1.0,\"#f0f921\"]],\"sequentialminus\":[[0.0,\"#0d0887\"],[0.1111111111111111,\"#46039f\"],[0.2222222222222222,\"#7201a8\"],[0.3333333333333333,\"#9c179e\"],[0.4444444444444444,\"#bd3786\"],[0.5555555555555556,\"#d8576b\"],[0.6666666666666666,\"#ed7953\"],[0.7777777777777778,\"#fb9f3a\"],[0.8888888888888888,\"#fdca26\"],[1.0,\"#f0f921\"]],\"diverging\":[[0,\"#8e0152\"],[0.1,\"#c51b7d\"],[0.2,\"#de77ae\"],[0.3,\"#f1b6da\"],[0.4,\"#fde0ef\"],[0.5,\"#f7f7f7\"],[0.6,\"#e6f5d0\"],[0.7,\"#b8e186\"],[0.8,\"#7fbc41\"],[0.9,\"#4d9221\"],[1,\"#276419\"]]},\"xaxis\":{\"gridcolor\":\"white\",\"linecolor\":\"white\",\"ticks\":\"\",\"title\":{\"standoff\":15},\"zerolinecolor\":\"white\",\"automargin\":true,\"zerolinewidth\":2},\"yaxis\":{\"gridcolor\":\"white\",\"linecolor\":\"white\",\"ticks\":\"\",\"title\":{\"standoff\":15},\"zerolinecolor\":\"white\",\"automargin\":true,\"zerolinewidth\":2},\"scene\":{\"xaxis\":{\"backgroundcolor\":\"#E5ECF6\",\"gridcolor\":\"white\",\"linecolor\":\"white\",\"showbackground\":true,\"ticks\":\"\",\"zerolinecolor\":\"white\",\"gridwidth\":2},\"yaxis\":{\"backgroundcolor\":\"#E5ECF6\",\"gridcolor\":\"white\",\"linecolor\":\"white\",\"showbackground\":true,\"ticks\":\"\",\"zerolinecolor\":\"white\",\"gridwidth\":2},\"zaxis\":{\"backgroundcolor\":\"#E5ECF6\",\"gridcolor\":\"white\",\"linecolor\":\"white\",\"showbackground\":true,\"ticks\":\"\",\"zerolinecolor\":\"white\",\"gridwidth\":2}},\"shapedefaults\":{\"line\":{\"color\":\"#2a3f5f\"}},\"annotationdefaults\":{\"arrowcolor\":\"#2a3f5f\",\"arrowhead\":0,\"arrowwidth\":1},\"geo\":{\"bgcolor\":\"white\",\"landcolor\":\"#E5ECF6\",\"subunitcolor\":\"white\",\"showland\":true,\"showlakes\":true,\"lakecolor\":\"white\"},\"title\":{\"x\":0.05},\"mapbox\":{\"style\":\"light\"}}},\"xaxis\":{\"anchor\":\"y\",\"domain\":[0.0,1.0],\"title\":{\"text\":\"index\"}},\"yaxis\":{\"anchor\":\"x\",\"domain\":[0.0,1.0],\"title\":{\"text\":\"value\"}},\"legend\":{\"title\":{\"text\":\"variable\"},\"tracegroupgap\":0},\"margin\":{\"t\":60},\"barmode\":\"relative\"},                        {\"responsive\": true}                    ).then(function(){\n                            \nvar gd = document.getElementById('3bce3df1-b209-4ae6-90fb-5f22535cfa07');\nvar x = new MutationObserver(function (mutations, observer) {{\n        var display = window.getComputedStyle(gd).display;\n        if (!display || display === 'none') {{\n            console.log([gd, 'removed!']);\n            Plotly.purge(gd);\n            observer.disconnect();\n        }}\n}});\n\n// Listen for the removal of the full notebook cells\nvar notebookContainer = gd.closest('#notebook-container');\nif (notebookContainer) {{\n    x.observe(notebookContainer, {childList: true});\n}}\n\n// Listen for the clearing of the current output cell\nvar outputEl = gd.closest('.output');\nif (outputEl) {{\n    x.observe(outputEl, {childList: true});\n}}\n\n                        })                };                            </script>        </div>\n</body>\n</html>"
     },
     "metadata": {},
     "output_type": "display_data"
    }
   ]
  },
  {
   "cell_type": "markdown",
   "source": "## Summary\n\n#### Top 5 predictors of bike demand.\n\nAs a recommendation to our business partners looking to predict bike rental demand, we'd recommend leveraging the following features when productionizing a linear model. \n\n1. <b>light_snow</b>\n    If there is light snow, its likely that we'll see a decrease in the demand for bike rentals.\n2. <b>yr</b>\n    The year in which an individiaul decies to register for a bike share has incredible impact as a predictor of demand. It is our largest predictor with a positive correlation to demand count. As ride sharing company continues to grow, it makes sense that demand would increase as well as popularity and word of mouth increases. \n3. <b>temp</b>\n    Temperature is our second largest predictor with a positive crrelation. As the temperature rises, we can see a slow increase in the demand for bike rentals. \n4. <b>spring</b>\n    Interestingly enough, during spring there is a slight negative correlation with increase bike rental demand. \n5. <b>winter</b>\n    Last but not least, there is slightly higher demand for bike rentals during the winter, but lower demand if its snowing!",
   "metadata": {
    "cell_id": "7cc1204dc9024cceb9b1c1681ea373e7",
    "tags": [],
    "deepnote_cell_type": "markdown",
    "deepnote_cell_height": 497.96875
   }
  },
  {
   "cell_type": "markdown",
   "source": "As a final confirmation of our recommendations above, let's look at the features above (that are categorical) and their impact to our target variable 'cnt''s mean.",
   "metadata": {
    "formattedRanges": [],
    "is_collapsed": false,
    "cell_id": "7ea47972922f4fc2b1481986150668e9",
    "tags": [],
    "deepnote_cell_type": "text-cell-p"
   }
  },
  {
   "cell_type": "code",
   "metadata": {
    "cell_id": "679a2102ac0247758ec83b81316a0134",
    "tags": [],
    "deepnote_to_be_reexecuted": false,
    "source_hash": "24d690dc",
    "execution_start": 1663728685364,
    "execution_millis": 6,
    "deepnote_cell_type": "code",
    "deepnote_cell_height": 169.78125,
    "deepnote_output_heights": [
     77.78125
    ]
   },
   "source": "numerical_data.groupby(['light_snow'])['cnt'].mean()",
   "execution_count": 58,
   "outputs": [
    {
     "output_type": "execute_result",
     "execution_count": 58,
     "data": {
      "text/plain": "light_snow\n0    4588.118477\n1    1803.285714\nName: cnt, dtype: float64"
     },
     "metadata": {}
    }
   ]
  },
  {
   "cell_type": "code",
   "metadata": {
    "cell_id": "0c369f7788b6421da12a196ee648f203",
    "tags": [],
    "deepnote_to_be_reexecuted": false,
    "source_hash": "5ef10d55",
    "execution_start": 1663728685516,
    "execution_millis": 13,
    "deepnote_cell_type": "code",
    "deepnote_cell_height": 169.78125,
    "deepnote_output_heights": [
     77.78125
    ]
   },
   "source": "numerical_data.groupby(['yr'])['cnt'].mean()",
   "execution_count": 59,
   "outputs": [
    {
     "output_type": "execute_result",
     "execution_count": 59,
     "data": {
      "text/plain": "yr\n0    3405.761644\n1    5610.252055\nName: cnt, dtype: float64"
     },
     "metadata": {}
    }
   ]
  },
  {
   "cell_type": "code",
   "metadata": {
    "cell_id": "c20f186ca3d6482386233337e1d3b71d",
    "tags": [],
    "deepnote_to_be_reexecuted": false,
    "source_hash": "2feb2af3",
    "execution_start": 1663728686691,
    "execution_millis": 76,
    "deepnote_cell_type": "code",
    "deepnote_cell_height": 170,
    "deepnote_output_heights": [
     77.78125
    ]
   },
   "source": "numerical_data.groupby(['spring'])['cnt'].mean()",
   "execution_count": 60,
   "outputs": [
    {
     "output_type": "execute_result",
     "execution_count": 60,
     "data": {
      "text/plain": "spring\n0    5129.692727\n1    2608.411111\nName: cnt, dtype: float64"
     },
     "metadata": {}
    }
   ]
  },
  {
   "cell_type": "code",
   "metadata": {
    "cell_id": "aea86dad244f42fabbad9a783209d93f",
    "tags": [],
    "deepnote_to_be_reexecuted": false,
    "source_hash": "d530ce8",
    "execution_start": 1663728686699,
    "execution_millis": 69,
    "deepnote_cell_type": "code",
    "deepnote_cell_height": 169.78125,
    "deepnote_output_heights": [
     77.78125
    ]
   },
   "source": "numerical_data.groupby(['winter'])['cnt'].mean()",
   "execution_count": 61,
   "outputs": [
    {
     "output_type": "execute_result",
     "execution_count": 61,
     "data": {
      "text/plain": "winter\n0    4437.014493\n1    4728.162921\nName: cnt, dtype: float64"
     },
     "metadata": {}
    }
   ]
  },
  {
   "cell_type": "markdown",
   "source": "As expected each of the categorical variables above do make an impact the mean of our target variable. It makes sense that these are the most impactful predictor variables.",
   "metadata": {
    "formattedRanges": [],
    "is_collapsed": false,
    "cell_id": "cf323cf416144160a3e1b0836cade153",
    "tags": [],
    "deepnote_cell_type": "text-cell-p"
   }
  },
  {
   "cell_type": "markdown",
   "source": "<a style='text-decoration:none;line-height:16px;display:flex;color:#5B5B62;padding:10px;justify-content:end;' href='https://deepnote.com?utm_source=created-in-deepnote-cell&projectId=e081c118-f72c-47d9-bcd6-0893c59319a8' target=\"_blank\">\n<img alt='Created in deepnote.com' style='display:inline;max-height:16px;margin:0px;margin-right:7.5px;' src='data:image/svg+xml;base64,PD94bWwgdmVyc2lvbj0iMS4wIiBlbmNvZGluZz0iVVRGLTgiPz4KPHN2ZyB3aWR0aD0iODBweCIgaGVpZ2h0PSI4MHB4IiB2aWV3Qm94PSIwIDAgODAgODAiIHZlcnNpb249IjEuMSIgeG1sbnM9Imh0dHA6Ly93d3cudzMub3JnLzIwMDAvc3ZnIiB4bWxuczp4bGluaz0iaHR0cDovL3d3dy53My5vcmcvMTk5OS94bGluayI+CiAgICA8IS0tIEdlbmVyYXRvcjogU2tldGNoIDU0LjEgKDc2NDkwKSAtIGh0dHBzOi8vc2tldGNoYXBwLmNvbSAtLT4KICAgIDx0aXRsZT5Hcm91cCAzPC90aXRsZT4KICAgIDxkZXNjPkNyZWF0ZWQgd2l0aCBTa2V0Y2guPC9kZXNjPgogICAgPGcgaWQ9IkxhbmRpbmciIHN0cm9rZT0ibm9uZSIgc3Ryb2tlLXdpZHRoPSIxIiBmaWxsPSJub25lIiBmaWxsLXJ1bGU9ImV2ZW5vZGQiPgogICAgICAgIDxnIGlkPSJBcnRib2FyZCIgdHJhbnNmb3JtPSJ0cmFuc2xhdGUoLTEyMzUuMDAwMDAwLCAtNzkuMDAwMDAwKSI+CiAgICAgICAgICAgIDxnIGlkPSJHcm91cC0zIiB0cmFuc2Zvcm09InRyYW5zbGF0ZSgxMjM1LjAwMDAwMCwgNzkuMDAwMDAwKSI+CiAgICAgICAgICAgICAgICA8cG9seWdvbiBpZD0iUGF0aC0yMCIgZmlsbD0iIzAyNjVCNCIgcG9pbnRzPSIyLjM3NjIzNzYyIDgwIDM4LjA0NzY2NjcgODAgNTcuODIxNzgyMiA3My44MDU3NTkyIDU3LjgyMTc4MjIgMzIuNzU5MjczOSAzOS4xNDAyMjc4IDMxLjY4MzE2ODMiPjwvcG9seWdvbj4KICAgICAgICAgICAgICAgIDxwYXRoIGQ9Ik0zNS4wMDc3MTgsODAgQzQyLjkwNjIwMDcsNzYuNDU0OTM1OCA0Ny41NjQ5MTY3LDcxLjU0MjI2NzEgNDguOTgzODY2LDY1LjI2MTk5MzkgQzUxLjExMjI4OTksNTUuODQxNTg0MiA0MS42NzcxNzk1LDQ5LjIxMjIyODQgMjUuNjIzOTg0Niw0OS4yMTIyMjg0IEMyNS40ODQ5Mjg5LDQ5LjEyNjg0NDggMjkuODI2MTI5Niw0My4yODM4MjQ4IDM4LjY0NzU4NjksMzEuNjgzMTY4MyBMNzIuODcxMjg3MSwzMi41NTQ0MjUgTDY1LjI4MDk3Myw2Ny42NzYzNDIxIEw1MS4xMTIyODk5LDc3LjM3NjE0NCBMMzUuMDA3NzE4LDgwIFoiIGlkPSJQYXRoLTIyIiBmaWxsPSIjMDAyODY4Ij48L3BhdGg+CiAgICAgICAgICAgICAgICA8cGF0aCBkPSJNMCwzNy43MzA0NDA1IEwyNy4xMTQ1MzcsMC4yNTcxMTE0MzYgQzYyLjM3MTUxMjMsLTEuOTkwNzE3MDEgODAsMTAuNTAwMzkyNyA4MCwzNy43MzA0NDA1IEM4MCw2NC45NjA0ODgyIDY0Ljc3NjUwMzgsNzkuMDUwMzQxNCAzNC4zMjk1MTEzLDgwIEM0Ny4wNTUzNDg5LDc3LjU2NzA4MDggNTMuNDE4MjY3Nyw3MC4zMTM2MTAzIDUzLjQxODI2NzcsNTguMjM5NTg4NSBDNTMuNDE4MjY3Nyw0MC4xMjg1NTU3IDM2LjMwMzk1NDQsMzcuNzMwNDQwNSAyNS4yMjc0MTcsMzcuNzMwNDQwNSBDMTcuODQzMDU4NiwzNy43MzA0NDA1IDkuNDMzOTE5NjYsMzcuNzMwNDQwNSAwLDM3LjczMDQ0MDUgWiIgaWQ9IlBhdGgtMTkiIGZpbGw9IiMzNzkzRUYiPjwvcGF0aD4KICAgICAgICAgICAgPC9nPgogICAgICAgIDwvZz4KICAgIDwvZz4KPC9zdmc+' > </img>\nCreated in <span style='font-weight:600;margin-left:4px;'>Deepnote</span></a>",
   "metadata": {
    "tags": [],
    "created_in_deepnote_cell": true,
    "deepnote_cell_type": "markdown"
   }
  }
 ],
 "nbformat": 4,
 "nbformat_minor": 2,
 "metadata": {
  "orig_nbformat": 2,
  "deepnote": {},
  "deepnote_notebook_id": "a941206f-901f-4a1c-b918-3e235394ef51",
  "deepnote_execution_queue": [],
  "deepnote_persisted_session": {
   "createdAt": "2022-09-21T01:30:24.700Z"
  }
 }
}